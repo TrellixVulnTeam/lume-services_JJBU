{
 "cells": [
  {
   "cell_type": "markdown",
   "id": "a0aeb04c",
   "metadata": {},
   "source": [
    "# LUME-services\n",
    "\n",
    "### Configuration:\n",
    "\n",
    "Set the following environment variables:\n",
    "\n",
    "```\n",
    "export LUME_MODEL_DB__HOST=127.0.0.1\n",
    "export LUME_MODEL_DB__USER=root\n",
    "export LUME_MODEL_DB__PASSWORD=test\n",
    "export LUME_MODEL_DB__PORT=3306\n",
    "export LUME_MODEL_DB__DATABASE=model_db\n",
    "export LUME_MODEL_DB__CONNECTION__POOL_SIZE=1\n",
    "export LUME_PREFECT__SERVER__TAG=core-1.2.4\n",
    "export LUME_PREFECT__SERVER__HOST_PORT=4200\n",
    "export LUME_PREFECT__SERVER__HOST=http://localhost\n",
    "export LUME_PREFECT__AGENT__HOST_PORT=5000\n",
    "export LUME_PREFECT__AGENT__HOST=http://localhost\n",
    "export LUME_RESULTS_DB__HOST=127.0.0.1\n",
    "export LUME_RESULTS_DB__PORT=27017\n",
    "export LUME_RESULTS_DB__USERNAME=root\n",
    "export LUME_RESULTS_DB__PASSWORD=password\n",
    "export LUME_RESULTS_DB__DATABASE=test\n",
    "export LUME_PREFECT__BACKEND=server \n",
    "export LUME_BACKEND=docker\n",
    "```\n",
    "\n",
    "Start the docker services using:\n",
    "```\n",
    "lume-services docker start-services\n",
    "```"
   ]
  },
  {
   "cell_type": "code",
   "execution_count": null,
   "id": "e183944c",
   "metadata": {},
   "outputs": [],
   "source": [
    "from lume_services.services.models.db import ModelDBConfig\n",
    "from lume_services.services.results.mongodb import MongodbResultsDBConfig\n",
    "from lume_services.services.scheduling.backends.server import (\n",
    "    PrefectAgentConfig,\n",
    "    PrefectConfig,\n",
    "    PrefectServerConfig,\n",
    ")\n",
    "\n",
    "from lume_services.services.files.filesystems import (\n",
    "    LocalFilesystem,\n",
    "    MountedFilesystem,\n",
    ")\n",
    "from lume_services.config import LUMEServicesSettings\n",
    "\n",
    "\n",
    "model_db_config = ModelDBConfig(\n",
    "        host=\"127.0.0.1\",\n",
    "        port=\"3306\",\n",
    "        user=\"root\",\n",
    "        password=\"test\",\n",
    "        database=\"model_db\",\n",
    ")\n",
    "\n",
    "results_db_config = MongodbResultsDBConfig(\n",
    "    port=\"27017\",\n",
    "    host=\"127.0.0.1\",\n",
    "    username=\"root\",\n",
    "    database=\"test\",\n",
    "    password=\"password\",\n",
    ")\n",
    "\n",
    "prefect_config = PrefectConfig(\n",
    "    server=PrefectServerConfig(\n",
    "        host=\"http://localhost\", host_port=\"4200\", tag=\"core-1.2.4\"\n",
    "    ),\n",
    "    agent=PrefectAgentConfig(host=\"http://localhost\", host_port=\"5000\"),\n",
    "    backend=\"server\",\n",
    ")\n",
    "\n",
    "\n",
    "settings = LUMEServicesSettings(\n",
    "    model_db=model_db_config,\n",
    "    results_db=results_db_config,\n",
    "    prefect=prefect_config,\n",
    "    backend=\"docker\",\n",
    "    mounted_filesystem=None,\n",
    ")"
   ]
  },
  {
   "cell_type": "markdown",
   "id": "88cb7294",
   "metadata": {},
   "source": [
    "## Use LUME-services config to create injected services"
   ]
  },
  {
   "cell_type": "code",
   "execution_count": null,
   "id": "3c1e88af",
   "metadata": {},
   "outputs": [],
   "source": [
    "from lume_services import config\n",
    "config.configure(settings)\n",
    "\n",
    "# initialize singletons\n",
    "model_db_service = config.context.model_db_service()\n",
    "results_db_service = config.context.results_db_service()"
   ]
  },
  {
   "cell_type": "markdown",
   "id": "0d4ba844",
   "metadata": {},
   "source": [
    "## Store example model, deployment, flow, and project"
   ]
  },
  {
   "cell_type": "code",
   "execution_count": null,
   "id": "a64cc434",
   "metadata": {},
   "outputs": [],
   "source": [
    "# model\n",
    "author = \"Jackie Garrahan\"\n",
    "laboratory = \"slac\"\n",
    "facility = \"lcls\"\n",
    "beampath = \"cu_hxr\"\n",
    "description = \"test_model\"\n",
    "\n",
    "# deployment\n",
    "version = \"v0.0\"\n",
    "sha256 = \"placeholder\"\n",
    "asset_dir = None  # opt\n",
    "source = \"my source\"\n",
    "is_live = 1\n",
    "image = \"placeholder\"\n",
    "\n",
    "# project\n",
    "project = \"my_project\"\n",
    "project_description = \"placeholder\"\n",
    "\n",
    "# flow\n",
    "flow_id_placeholder = \"test\"\n",
    "flow_name = \"my_test_flow\""
   ]
  },
  {
   "cell_type": "code",
   "execution_count": null,
   "id": "d42cc8b2",
   "metadata": {},
   "outputs": [],
   "source": [
    "model_id = model_db_service.store_model(\n",
    "    author=author,\n",
    "    laboratory=laboratory,\n",
    "    facility=facility,\n",
    "    beampath=beampath,\n",
    "    description=description,\n",
    ")"
   ]
  },
  {
   "cell_type": "code",
   "execution_count": null,
   "id": "3967396f",
   "metadata": {},
   "outputs": [],
   "source": [
    "deployment_id = model_db_service.store_deployment(\n",
    "    model_id=model_id,\n",
    "    version=version,\n",
    "    asset_dir=asset_dir,\n",
    "    sha256=sha256,\n",
    "    source=source,\n",
    "    is_live=is_live,\n",
    "    image=image,\n",
    ")\n",
    "\n",
    "\n",
    "deployment = model_db_service.get_deployment(deployment_id=deployment_id)"
   ]
  },
  {
   "cell_type": "code",
   "execution_count": null,
   "id": "3009de53",
   "metadata": {},
   "outputs": [],
   "source": [
    "project_name = model_db_service.store_project(\n",
    "    project_name=project, description=project_description\n",
    ")\n"
   ]
  },
  {
   "cell_type": "code",
   "execution_count": null,
   "id": "90a5769f",
   "metadata": {},
   "outputs": [],
   "source": [
    "flow_id = model_db_service.store_flow(\n",
    "    project_name=project_name,\n",
    "    deployment_id=deployment_id,\n",
    "    flow_id=flow_id_placeholder,\n",
    "    flow_name=flow_name,\n",
    ")"
   ]
  },
  {
   "cell_type": "code",
   "execution_count": null,
   "id": "5430e3b6",
   "metadata": {},
   "outputs": [],
   "source": [
    "from lume_services.models import Model\n",
    "\n",
    "my_model = Model(model_id=model_id, model_db_service=model_db_service)\n"
   ]
  },
  {
   "cell_type": "code",
   "execution_count": null,
   "id": "4ae8fc5e",
   "metadata": {},
   "outputs": [],
   "source": [
    "my_model"
   ]
  },
  {
   "cell_type": "code",
   "execution_count": null,
   "id": "c769c1c7",
   "metadata": {},
   "outputs": [],
   "source": [
    "my_model.load_deployment(model_db_service=model_db_service)"
   ]
  },
  {
   "cell_type": "code",
   "execution_count": null,
   "id": "d3f577f7",
   "metadata": {},
   "outputs": [],
   "source": []
  }
 ],
 "metadata": {
  "kernelspec": {
   "display_name": "Python 3 (ipykernel)",
   "language": "python",
   "name": "python3"
  },
  "language_info": {
   "codemirror_mode": {
    "name": "ipython",
    "version": 3
   },
   "file_extension": ".py",
   "mimetype": "text/x-python",
   "name": "python",
   "nbconvert_exporter": "python",
   "pygments_lexer": "ipython3",
   "version": "3.9.13"
  }
 },
 "nbformat": 4,
 "nbformat_minor": 5
}

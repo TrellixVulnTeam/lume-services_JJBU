{
 "cells": [
  {
   "cell_type": "markdown",
   "id": "a0aeb04c",
   "metadata": {},
   "source": [
    "# LUME-services\n",
    "\n",
    "### Configuration:\n",
    "\n",
    "Set the following environment variables:\n",
    "\n",
    "```\n",
    "export LUME_MODEL_DB__HOST=127.0.0.1\n",
    "export LUME_MODEL_DB__USER=root\n",
    "export LUME_MODEL_DB__PASSWORD=test\n",
    "export LUME_MODEL_DB__PORT=3306\n",
    "export LUME_MODEL_DB__DATABASE=model_db\n",
    "export LUME_MODEL_DB__CONNECTION__POOL_SIZE=1\n",
    "export LUME_PREFECT__SERVER__TAG=core-1.2.4\n",
    "export LUME_PREFECT__SERVER__HOST_PORT=4200\n",
    "export LUME_PREFECT__SERVER__HOST=http://localhost\n",
    "export LUME_PREFECT__AGENT__HOST_PORT=5000\n",
    "export LUME_PREFECT__AGENT__HOST=http://localhost\n",
    "export LUME_RESULTS_DB__HOST=127.0.0.1\n",
    "export LUME_RESULTS_DB__PORT=27017\n",
    "export LUME_RESULTS_DB__USERNAME=root\n",
    "export LUME_RESULTS_DB__PASSWORD=password\n",
    "export LUME_RESULTS_DB__DATABASE=test\n",
    "export LUME_PREFECT__BACKEND=server \n",
    "export LUME_BACKEND=docker\n",
    "export LUME_ENVIRONMENT__LOCAL_PIP_REPOSITORY=...\n",
    "export LUME_ENVIRONMENT__LOCAL_CONDA_CHANNEL_DIRECTORY=...\n",
    "```\n",
    "\n",
    "Start the docker services using:\n",
    "```\n",
    "lume-services docker start-services\n",
    "```"
   ]
  },
  {
   "cell_type": "code",
   "execution_count": 1,
   "id": "e183944c",
   "metadata": {},
   "outputs": [],
   "source": [
    "from lume_services.services.models.db import ModelDBConfig\n",
    "from lume_services.services.results.mongodb import MongodbResultsDBConfig\n",
    "from lume_services.services.scheduling.backends.server import (\n",
    "    PrefectAgentConfig,\n",
    "    PrefectConfig,\n",
    "    PrefectServerConfig,\n",
    ")\n",
    "\n",
    "from lume_services.services.files.filesystems import (\n",
    "    LocalFilesystem,\n",
    "    MountedFilesystem,\n",
    ")\n",
    "from lume_services.config import LUMEServicesSettings\n",
    "import logging\n",
    "logging.basicConfig(level=\"DEBUG\")\n",
    "\n",
    "model_db_config = ModelDBConfig(\n",
    "        host=\"127.0.0.1\",\n",
    "        port=\"3306\",\n",
    "        user=\"root\",\n",
    "        password=\"test\",\n",
    "        database=\"model_db\",\n",
    ")\n",
    "\n",
    "results_db_config = MongodbResultsDBConfig(\n",
    "    port=\"27017\",\n",
    "    host=\"127.0.0.1\",\n",
    "    username=\"root\",\n",
    "    database=\"test\",\n",
    "    password=\"password\",\n",
    ")\n",
    "\n",
    "prefect_config = PrefectConfig(\n",
    "    server=PrefectServerConfig(\n",
    "        host=\"http://localhost\", host_port=\"4200\", tag=\"core-1.2.4\"\n",
    "    ),\n",
    "    agent=PrefectAgentConfig(host=\"http://localhost\", host_port=\"5000\"),\n",
    "    backend=\"server\",\n",
    ")\n",
    "\n",
    "\n",
    "settings = LUMEServicesSettings(\n",
    "    model_db=model_db_config,\n",
    "    results_db=results_db_config,\n",
    "    prefect=prefect_config,\n",
    "    backend=\"docker\",\n",
    "    mounted_filesystem=None,\n",
    ")"
   ]
  },
  {
   "cell_type": "markdown",
   "id": "88cb7294",
   "metadata": {},
   "source": [
    "## Use LUME-services config to create injected services"
   ]
  },
  {
   "cell_type": "code",
   "execution_count": 2,
   "id": "3c1e88af",
   "metadata": {},
   "outputs": [
    {
     "name": "stderr",
     "output_type": "stream",
     "text": [
      "INFO:lume_services.config:Configuring LUME-services environment...\n",
      "DEBUG:h5py._conv:Creating converter from 7 to 5\n",
      "DEBUG:h5py._conv:Creating converter from 5 to 7\n",
      "DEBUG:h5py._conv:Creating converter from 7 to 5\n",
      "DEBUG:h5py._conv:Creating converter from 5 to 7\n",
      "INFO:lume_services.config:Environment configured.\n",
      "DEBUG:lume_services.config:Environment configured using {'model_db': {'host': '127.0.0.1', 'port': 3306, 'user': 'root', 'database': 'model_db', 'connection': {'pool_size': None, 'pool_pre_ping': True}, 'dialect_str': 'mysql+pymysql'}, 'results_db': {'username': 'root', 'host': '127.0.0.1', 'port': 27017, 'authMechanism': 'DEFAULT'}, 'prefect': {'server': {'tag': 'core-1.2.4', 'host': 'http://localhost', 'host_port': '4200', 'host_ip': '127.0.0.1'}, 'ui': {'host': 'http://localhost', 'host_port': '8080', 'host_ip': '127.0.0.1', 'apollo_url': 'http://localhost:4200/graphql'}, 'telemetry': {'enabled': True}, 'agent': {'host': 'http://localhost', 'host_port': '5000'}, 'home_dir': '~/.prefect', 'debug': False, 'backend': 'server', 'default_image': 'jgarrahan/lume-services-prefect:latest', 'isolated': False}, 'mounted_filesystem': None, 'environment': {'local_pip_repository': '/Users/jacquelinegarrahan/sandbox/lume-services/dev/local_pip_repo', 'local_conda_channel_directory': '/Users/jacquelinegarrahan/sandbox/lume-services/dev/local_conda_channel', 'base_env_filepath': '/Users/jacquelinegarrahan/sandbox/lume-services/lume_services/docker/files/environment.yml', 'tmp_directory': '/tmp/lume-services', 'platform': 'linux-64', 'url_retry_count': 3, 'python_version': '3.9.13'}, 'backend': 'docker'}\n"
     ]
    }
   ],
   "source": [
    "from lume_services import config\n",
    "config.configure(settings)\n",
    "\n",
    "# initialize singletons\n",
    "model_db_service = config.context.model_db_service()\n",
    "results_db_service = config.context.results_db_service()\n",
    "scheduling_service = config.context.scheduling_service()"
   ]
  },
  {
   "cell_type": "markdown",
   "id": "e14910cc",
   "metadata": {},
   "source": [
    "## if you're running this many time, creation will fail because of uniqueness... You can reset since this is a dev server"
   ]
  },
  {
   "cell_type": "code",
   "execution_count": 3,
   "id": "b1dae5e5",
   "metadata": {},
   "outputs": [],
   "source": [
    "#model_db_service._reset()"
   ]
  },
  {
   "cell_type": "markdown",
   "id": "0d4ba844",
   "metadata": {},
   "source": [
    "## Store example model, deployment, flow, and project"
   ]
  },
  {
   "cell_type": "code",
   "execution_count": 4,
   "id": "299e5321",
   "metadata": {},
   "outputs": [
    {
     "name": "stderr",
     "output_type": "stream",
     "text": [
      "INFO:lume_services.services.models.db.db:ModelDB inserting: INSERT INTO model (author, laboratory, facility, beampath, description) VALUES (:author, :laboratory, :facility, :beampath, :description)\n",
      "DEBUG:lume_services.services.models.db.db:ModelDB creating session.\n",
      "DEBUG:lume_services.services.models.db.db:ModelDB session created.\n",
      "INFO:lume_services.services.models.db.db:Sucessfully executed: INSERT INTO model (author, laboratory, facility, beampath, description) VALUES (:author, :laboratory, :facility, :beampath, :description)\n",
      "INFO:lume_services.services.models.db.db:ModelDB selecting: SELECT model.model_id, model.created, model.author, model.laboratory, model.facility, model.beampath, model.description \n",
      "FROM model \n",
      "WHERE model.model_id = :model_id_1\n",
      "DEBUG:lume_services.services.models.db.db:ModelDB creating session.\n",
      "DEBUG:lume_services.services.models.db.db:ModelDB session created.\n"
     ]
    }
   ],
   "source": [
    "from lume_services.models import Model\n",
    "\n",
    "model = Model.create_model(\n",
    "    author = \"Jackie Garrahan\",\n",
    "    laboratory = \"slac\",\n",
    "    facility = \"lcls\",\n",
    "    beampath = \"cu_hxr\",\n",
    "    description = \"test_model\"\n",
    ")"
   ]
  },
  {
   "cell_type": "code",
   "execution_count": 5,
   "id": "bcd2f83f",
   "metadata": {},
   "outputs": [
    {
     "name": "stderr",
     "output_type": "stream",
     "text": [
      "INFO:lume_services.services.models.db.db:ModelDB inserting: INSERT INTO project (project_name, description) VALUES (:project_name, :description)\n",
      "DEBUG:lume_services.services.models.db.db:ModelDB creating session.\n",
      "DEBUG:lume_services.services.models.db.db:ModelDB session created.\n"
     ]
    },
    {
     "ename": "IntegrityError",
     "evalue": "(pymysql.err.IntegrityError) (1062, \"Duplicate entry 'test' for key 'project.PRIMARY'\")\n[SQL: INSERT INTO project (project_name, description) VALUES (%(project_name)s, %(description)s)]\n[parameters: {'project_name': 'test', 'description': 'my_description'}]\n(Background on this error at: https://sqlalche.me/e/14/gkpj)",
     "output_type": "error",
     "traceback": [
      "\u001b[0;31m---------------------------------------------------------------------------\u001b[0m",
      "\u001b[0;31mIntegrityError\u001b[0m                            Traceback (most recent call last)",
      "File \u001b[0;32m~/miniconda3/envs/lume-services-dev/lib/python3.9/site-packages/sqlalchemy/engine/base.py:1900\u001b[0m, in \u001b[0;36mConnection._execute_context\u001b[0;34m(self, dialect, constructor, statement, parameters, execution_options, *args, **kw)\u001b[0m\n\u001b[1;32m   1899\u001b[0m     \u001b[38;5;28;01mif\u001b[39;00m \u001b[38;5;129;01mnot\u001b[39;00m evt_handled:\n\u001b[0;32m-> 1900\u001b[0m         \u001b[38;5;28;43mself\u001b[39;49m\u001b[38;5;241;43m.\u001b[39;49m\u001b[43mdialect\u001b[49m\u001b[38;5;241;43m.\u001b[39;49m\u001b[43mdo_execute\u001b[49m\u001b[43m(\u001b[49m\n\u001b[1;32m   1901\u001b[0m \u001b[43m            \u001b[49m\u001b[43mcursor\u001b[49m\u001b[43m,\u001b[49m\u001b[43m \u001b[49m\u001b[43mstatement\u001b[49m\u001b[43m,\u001b[49m\u001b[43m \u001b[49m\u001b[43mparameters\u001b[49m\u001b[43m,\u001b[49m\u001b[43m \u001b[49m\u001b[43mcontext\u001b[49m\n\u001b[1;32m   1902\u001b[0m \u001b[43m        \u001b[49m\u001b[43m)\u001b[49m\n\u001b[1;32m   1904\u001b[0m \u001b[38;5;28;01mif\u001b[39;00m \u001b[38;5;28mself\u001b[39m\u001b[38;5;241m.\u001b[39m_has_events \u001b[38;5;129;01mor\u001b[39;00m \u001b[38;5;28mself\u001b[39m\u001b[38;5;241m.\u001b[39mengine\u001b[38;5;241m.\u001b[39m_has_events:\n",
      "File \u001b[0;32m~/miniconda3/envs/lume-services-dev/lib/python3.9/site-packages/sqlalchemy/engine/default.py:736\u001b[0m, in \u001b[0;36mDefaultDialect.do_execute\u001b[0;34m(self, cursor, statement, parameters, context)\u001b[0m\n\u001b[1;32m    735\u001b[0m \u001b[38;5;28;01mdef\u001b[39;00m \u001b[38;5;21mdo_execute\u001b[39m(\u001b[38;5;28mself\u001b[39m, cursor, statement, parameters, context\u001b[38;5;241m=\u001b[39m\u001b[38;5;28;01mNone\u001b[39;00m):\n\u001b[0;32m--> 736\u001b[0m     \u001b[43mcursor\u001b[49m\u001b[38;5;241;43m.\u001b[39;49m\u001b[43mexecute\u001b[49m\u001b[43m(\u001b[49m\u001b[43mstatement\u001b[49m\u001b[43m,\u001b[49m\u001b[43m \u001b[49m\u001b[43mparameters\u001b[49m\u001b[43m)\u001b[49m\n",
      "File \u001b[0;32m~/miniconda3/envs/lume-services-dev/lib/python3.9/site-packages/pymysql/cursors.py:148\u001b[0m, in \u001b[0;36mCursor.execute\u001b[0;34m(self, query, args)\u001b[0m\n\u001b[1;32m    146\u001b[0m query \u001b[38;5;241m=\u001b[39m \u001b[38;5;28mself\u001b[39m\u001b[38;5;241m.\u001b[39mmogrify(query, args)\n\u001b[0;32m--> 148\u001b[0m result \u001b[38;5;241m=\u001b[39m \u001b[38;5;28;43mself\u001b[39;49m\u001b[38;5;241;43m.\u001b[39;49m\u001b[43m_query\u001b[49m\u001b[43m(\u001b[49m\u001b[43mquery\u001b[49m\u001b[43m)\u001b[49m\n\u001b[1;32m    149\u001b[0m \u001b[38;5;28mself\u001b[39m\u001b[38;5;241m.\u001b[39m_executed \u001b[38;5;241m=\u001b[39m query\n",
      "File \u001b[0;32m~/miniconda3/envs/lume-services-dev/lib/python3.9/site-packages/pymysql/cursors.py:310\u001b[0m, in \u001b[0;36mCursor._query\u001b[0;34m(self, q)\u001b[0m\n\u001b[1;32m    309\u001b[0m \u001b[38;5;28mself\u001b[39m\u001b[38;5;241m.\u001b[39m_clear_result()\n\u001b[0;32m--> 310\u001b[0m \u001b[43mconn\u001b[49m\u001b[38;5;241;43m.\u001b[39;49m\u001b[43mquery\u001b[49m\u001b[43m(\u001b[49m\u001b[43mq\u001b[49m\u001b[43m)\u001b[49m\n\u001b[1;32m    311\u001b[0m \u001b[38;5;28mself\u001b[39m\u001b[38;5;241m.\u001b[39m_do_get_result()\n",
      "File \u001b[0;32m~/miniconda3/envs/lume-services-dev/lib/python3.9/site-packages/pymysql/connections.py:548\u001b[0m, in \u001b[0;36mConnection.query\u001b[0;34m(self, sql, unbuffered)\u001b[0m\n\u001b[1;32m    547\u001b[0m \u001b[38;5;28mself\u001b[39m\u001b[38;5;241m.\u001b[39m_execute_command(COMMAND\u001b[38;5;241m.\u001b[39mCOM_QUERY, sql)\n\u001b[0;32m--> 548\u001b[0m \u001b[38;5;28mself\u001b[39m\u001b[38;5;241m.\u001b[39m_affected_rows \u001b[38;5;241m=\u001b[39m \u001b[38;5;28;43mself\u001b[39;49m\u001b[38;5;241;43m.\u001b[39;49m\u001b[43m_read_query_result\u001b[49m\u001b[43m(\u001b[49m\u001b[43munbuffered\u001b[49m\u001b[38;5;241;43m=\u001b[39;49m\u001b[43munbuffered\u001b[49m\u001b[43m)\u001b[49m\n\u001b[1;32m    549\u001b[0m \u001b[38;5;28;01mreturn\u001b[39;00m \u001b[38;5;28mself\u001b[39m\u001b[38;5;241m.\u001b[39m_affected_rows\n",
      "File \u001b[0;32m~/miniconda3/envs/lume-services-dev/lib/python3.9/site-packages/pymysql/connections.py:775\u001b[0m, in \u001b[0;36mConnection._read_query_result\u001b[0;34m(self, unbuffered)\u001b[0m\n\u001b[1;32m    774\u001b[0m     result \u001b[38;5;241m=\u001b[39m MySQLResult(\u001b[38;5;28mself\u001b[39m)\n\u001b[0;32m--> 775\u001b[0m     \u001b[43mresult\u001b[49m\u001b[38;5;241;43m.\u001b[39;49m\u001b[43mread\u001b[49m\u001b[43m(\u001b[49m\u001b[43m)\u001b[49m\n\u001b[1;32m    776\u001b[0m \u001b[38;5;28mself\u001b[39m\u001b[38;5;241m.\u001b[39m_result \u001b[38;5;241m=\u001b[39m result\n",
      "File \u001b[0;32m~/miniconda3/envs/lume-services-dev/lib/python3.9/site-packages/pymysql/connections.py:1156\u001b[0m, in \u001b[0;36mMySQLResult.read\u001b[0;34m(self)\u001b[0m\n\u001b[1;32m   1155\u001b[0m \u001b[38;5;28;01mtry\u001b[39;00m:\n\u001b[0;32m-> 1156\u001b[0m     first_packet \u001b[38;5;241m=\u001b[39m \u001b[38;5;28;43mself\u001b[39;49m\u001b[38;5;241;43m.\u001b[39;49m\u001b[43mconnection\u001b[49m\u001b[38;5;241;43m.\u001b[39;49m\u001b[43m_read_packet\u001b[49m\u001b[43m(\u001b[49m\u001b[43m)\u001b[49m\n\u001b[1;32m   1158\u001b[0m     \u001b[38;5;28;01mif\u001b[39;00m first_packet\u001b[38;5;241m.\u001b[39mis_ok_packet():\n",
      "File \u001b[0;32m~/miniconda3/envs/lume-services-dev/lib/python3.9/site-packages/pymysql/connections.py:725\u001b[0m, in \u001b[0;36mConnection._read_packet\u001b[0;34m(self, packet_type)\u001b[0m\n\u001b[1;32m    724\u001b[0m         \u001b[38;5;28mself\u001b[39m\u001b[38;5;241m.\u001b[39m_result\u001b[38;5;241m.\u001b[39munbuffered_active \u001b[38;5;241m=\u001b[39m \u001b[38;5;28;01mFalse\u001b[39;00m\n\u001b[0;32m--> 725\u001b[0m     \u001b[43mpacket\u001b[49m\u001b[38;5;241;43m.\u001b[39;49m\u001b[43mraise_for_error\u001b[49m\u001b[43m(\u001b[49m\u001b[43m)\u001b[49m\n\u001b[1;32m    726\u001b[0m \u001b[38;5;28;01mreturn\u001b[39;00m packet\n",
      "File \u001b[0;32m~/miniconda3/envs/lume-services-dev/lib/python3.9/site-packages/pymysql/protocol.py:221\u001b[0m, in \u001b[0;36mMysqlPacket.raise_for_error\u001b[0;34m(self)\u001b[0m\n\u001b[1;32m    220\u001b[0m     \u001b[38;5;28mprint\u001b[39m(\u001b[38;5;124m\"\u001b[39m\u001b[38;5;124merrno =\u001b[39m\u001b[38;5;124m\"\u001b[39m, errno)\n\u001b[0;32m--> 221\u001b[0m \u001b[43merr\u001b[49m\u001b[38;5;241;43m.\u001b[39;49m\u001b[43mraise_mysql_exception\u001b[49m\u001b[43m(\u001b[49m\u001b[38;5;28;43mself\u001b[39;49m\u001b[38;5;241;43m.\u001b[39;49m\u001b[43m_data\u001b[49m\u001b[43m)\u001b[49m\n",
      "File \u001b[0;32m~/miniconda3/envs/lume-services-dev/lib/python3.9/site-packages/pymysql/err.py:143\u001b[0m, in \u001b[0;36mraise_mysql_exception\u001b[0;34m(data)\u001b[0m\n\u001b[1;32m    142\u001b[0m     errorclass \u001b[38;5;241m=\u001b[39m InternalError \u001b[38;5;28;01mif\u001b[39;00m errno \u001b[38;5;241m<\u001b[39m \u001b[38;5;241m1000\u001b[39m \u001b[38;5;28;01melse\u001b[39;00m OperationalError\n\u001b[0;32m--> 143\u001b[0m \u001b[38;5;28;01mraise\u001b[39;00m errorclass(errno, errval)\n",
      "\u001b[0;31mIntegrityError\u001b[0m: (1062, \"Duplicate entry 'test' for key 'project.PRIMARY'\")",
      "\nThe above exception was the direct cause of the following exception:\n",
      "\u001b[0;31mIntegrityError\u001b[0m                            Traceback (most recent call last)",
      "Cell \u001b[0;32mIn [5], line 2\u001b[0m\n\u001b[1;32m      1\u001b[0m \u001b[38;5;66;03m# create a project\u001b[39;00m\n\u001b[0;32m----> 2\u001b[0m project_name \u001b[38;5;241m=\u001b[39m \u001b[43mmodel_db_service\u001b[49m\u001b[38;5;241;43m.\u001b[39;49m\u001b[43mstore_project\u001b[49m\u001b[43m(\u001b[49m\n\u001b[1;32m      3\u001b[0m \u001b[43m    \u001b[49m\u001b[43mproject_name\u001b[49m\u001b[38;5;241;43m=\u001b[39;49m\u001b[38;5;124;43m\"\u001b[39;49m\u001b[38;5;124;43mtest\u001b[39;49m\u001b[38;5;124;43m\"\u001b[39;49m\u001b[43m,\u001b[49m\u001b[43m \u001b[49m\u001b[43mdescription\u001b[49m\u001b[38;5;241;43m=\u001b[39;49m\u001b[38;5;124;43m\"\u001b[39;49m\u001b[38;5;124;43mmy_description\u001b[39;49m\u001b[38;5;124;43m\"\u001b[39;49m\n\u001b[1;32m      4\u001b[0m \u001b[43m)\u001b[49m\n",
      "File \u001b[0;32m~/sandbox/lume-services/lume_services/services/models/service.py:130\u001b[0m, in \u001b[0;36mModelDBService.store_project\u001b[0;34m(self, project_name, description)\u001b[0m\n\u001b[1;32m    125\u001b[0m insert_stmt \u001b[38;5;241m=\u001b[39m insert(Project)\u001b[38;5;241m.\u001b[39mvalues(\n\u001b[1;32m    126\u001b[0m     project_name\u001b[38;5;241m=\u001b[39mproject_name, description\u001b[38;5;241m=\u001b[39mdescription\n\u001b[1;32m    127\u001b[0m )\n\u001b[1;32m    129\u001b[0m \u001b[38;5;66;03m# store in db\u001b[39;00m\n\u001b[0;32m--> 130\u001b[0m result \u001b[38;5;241m=\u001b[39m \u001b[38;5;28;43mself\u001b[39;49m\u001b[38;5;241;43m.\u001b[39;49m\u001b[43m_model_db\u001b[49m\u001b[38;5;241;43m.\u001b[39;49m\u001b[43minsert\u001b[49m\u001b[43m(\u001b[49m\u001b[43minsert_stmt\u001b[49m\u001b[43m)\u001b[49m\n\u001b[1;32m    132\u001b[0m \u001b[38;5;66;03m# Return inserted project name\u001b[39;00m\n\u001b[1;32m    133\u001b[0m \u001b[38;5;28;01mif\u001b[39;00m \u001b[38;5;28mlen\u001b[39m(result):\n",
      "File \u001b[0;32m~/sandbox/lume-services/lume_services/services/models/db/db.py:206\u001b[0m, in \u001b[0;36mModelDB.insert\u001b[0;34m(self, sql)\u001b[0m\n\u001b[1;32m    203\u001b[0m logger\u001b[38;5;241m.\u001b[39minfo(\u001b[38;5;124m\"\u001b[39m\u001b[38;5;124mModelDB inserting: \u001b[39m\u001b[38;5;132;01m%s\u001b[39;00m\u001b[38;5;124m\"\u001b[39m, \u001b[38;5;28mstr\u001b[39m(sql))\n\u001b[1;32m    204\u001b[0m \u001b[38;5;28;01mwith\u001b[39;00m \u001b[38;5;28mself\u001b[39m\u001b[38;5;241m.\u001b[39msession() \u001b[38;5;28;01mas\u001b[39;00m session:\n\u001b[0;32m--> 206\u001b[0m     res \u001b[38;5;241m=\u001b[39m \u001b[43msession\u001b[49m\u001b[38;5;241;43m.\u001b[39;49m\u001b[43mexecute\u001b[49m\u001b[43m(\u001b[49m\u001b[43msql\u001b[49m\u001b[43m)\u001b[49m\n\u001b[1;32m    207\u001b[0m     session\u001b[38;5;241m.\u001b[39mcommit()\n\u001b[1;32m    209\u001b[0m logger\u001b[38;5;241m.\u001b[39minfo(\u001b[38;5;124m\"\u001b[39m\u001b[38;5;124mSucessfully executed: \u001b[39m\u001b[38;5;132;01m%s\u001b[39;00m\u001b[38;5;124m\"\u001b[39m, \u001b[38;5;28mstr\u001b[39m(sql))\n",
      "File \u001b[0;32m~/miniconda3/envs/lume-services-dev/lib/python3.9/site-packages/sqlalchemy/orm/session.py:1712\u001b[0m, in \u001b[0;36mSession.execute\u001b[0;34m(self, statement, params, execution_options, bind_arguments, _parent_execute_state, _add_event, **kw)\u001b[0m\n\u001b[1;32m   1710\u001b[0m \u001b[38;5;28;01melse\u001b[39;00m:\n\u001b[1;32m   1711\u001b[0m     conn \u001b[38;5;241m=\u001b[39m \u001b[38;5;28mself\u001b[39m\u001b[38;5;241m.\u001b[39m_connection_for_bind(bind)\n\u001b[0;32m-> 1712\u001b[0m result \u001b[38;5;241m=\u001b[39m \u001b[43mconn\u001b[49m\u001b[38;5;241;43m.\u001b[39;49m\u001b[43m_execute_20\u001b[49m\u001b[43m(\u001b[49m\u001b[43mstatement\u001b[49m\u001b[43m,\u001b[49m\u001b[43m \u001b[49m\u001b[43mparams\u001b[49m\u001b[43m \u001b[49m\u001b[38;5;129;43;01mor\u001b[39;49;00m\u001b[43m \u001b[49m\u001b[43m{\u001b[49m\u001b[43m}\u001b[49m\u001b[43m,\u001b[49m\u001b[43m \u001b[49m\u001b[43mexecution_options\u001b[49m\u001b[43m)\u001b[49m\n\u001b[1;32m   1714\u001b[0m \u001b[38;5;28;01mif\u001b[39;00m compile_state_cls:\n\u001b[1;32m   1715\u001b[0m     result \u001b[38;5;241m=\u001b[39m compile_state_cls\u001b[38;5;241m.\u001b[39morm_setup_cursor_result(\n\u001b[1;32m   1716\u001b[0m         \u001b[38;5;28mself\u001b[39m,\n\u001b[1;32m   1717\u001b[0m         statement,\n\u001b[0;32m   (...)\u001b[0m\n\u001b[1;32m   1721\u001b[0m         result,\n\u001b[1;32m   1722\u001b[0m     )\n",
      "File \u001b[0;32m~/miniconda3/envs/lume-services-dev/lib/python3.9/site-packages/sqlalchemy/engine/base.py:1705\u001b[0m, in \u001b[0;36mConnection._execute_20\u001b[0;34m(self, statement, parameters, execution_options)\u001b[0m\n\u001b[1;32m   1701\u001b[0m     util\u001b[38;5;241m.\u001b[39mraise_(\n\u001b[1;32m   1702\u001b[0m         exc\u001b[38;5;241m.\u001b[39mObjectNotExecutableError(statement), replace_context\u001b[38;5;241m=\u001b[39merr\n\u001b[1;32m   1703\u001b[0m     )\n\u001b[1;32m   1704\u001b[0m \u001b[38;5;28;01melse\u001b[39;00m:\n\u001b[0;32m-> 1705\u001b[0m     \u001b[38;5;28;01mreturn\u001b[39;00m \u001b[43mmeth\u001b[49m\u001b[43m(\u001b[49m\u001b[38;5;28;43mself\u001b[39;49m\u001b[43m,\u001b[49m\u001b[43m \u001b[49m\u001b[43margs_10style\u001b[49m\u001b[43m,\u001b[49m\u001b[43m \u001b[49m\u001b[43mkwargs_10style\u001b[49m\u001b[43m,\u001b[49m\u001b[43m \u001b[49m\u001b[43mexecution_options\u001b[49m\u001b[43m)\u001b[49m\n",
      "File \u001b[0;32m~/miniconda3/envs/lume-services-dev/lib/python3.9/site-packages/sqlalchemy/sql/elements.py:333\u001b[0m, in \u001b[0;36mClauseElement._execute_on_connection\u001b[0;34m(self, connection, multiparams, params, execution_options, _force)\u001b[0m\n\u001b[1;32m    329\u001b[0m \u001b[38;5;28;01mdef\u001b[39;00m \u001b[38;5;21m_execute_on_connection\u001b[39m(\n\u001b[1;32m    330\u001b[0m     \u001b[38;5;28mself\u001b[39m, connection, multiparams, params, execution_options, _force\u001b[38;5;241m=\u001b[39m\u001b[38;5;28;01mFalse\u001b[39;00m\n\u001b[1;32m    331\u001b[0m ):\n\u001b[1;32m    332\u001b[0m     \u001b[38;5;28;01mif\u001b[39;00m _force \u001b[38;5;129;01mor\u001b[39;00m \u001b[38;5;28mself\u001b[39m\u001b[38;5;241m.\u001b[39msupports_execution:\n\u001b[0;32m--> 333\u001b[0m         \u001b[38;5;28;01mreturn\u001b[39;00m \u001b[43mconnection\u001b[49m\u001b[38;5;241;43m.\u001b[39;49m\u001b[43m_execute_clauseelement\u001b[49m\u001b[43m(\u001b[49m\n\u001b[1;32m    334\u001b[0m \u001b[43m            \u001b[49m\u001b[38;5;28;43mself\u001b[39;49m\u001b[43m,\u001b[49m\u001b[43m \u001b[49m\u001b[43mmultiparams\u001b[49m\u001b[43m,\u001b[49m\u001b[43m \u001b[49m\u001b[43mparams\u001b[49m\u001b[43m,\u001b[49m\u001b[43m \u001b[49m\u001b[43mexecution_options\u001b[49m\n\u001b[1;32m    335\u001b[0m \u001b[43m        \u001b[49m\u001b[43m)\u001b[49m\n\u001b[1;32m    336\u001b[0m     \u001b[38;5;28;01melse\u001b[39;00m:\n\u001b[1;32m    337\u001b[0m         \u001b[38;5;28;01mraise\u001b[39;00m exc\u001b[38;5;241m.\u001b[39mObjectNotExecutableError(\u001b[38;5;28mself\u001b[39m)\n",
      "File \u001b[0;32m~/miniconda3/envs/lume-services-dev/lib/python3.9/site-packages/sqlalchemy/engine/base.py:1572\u001b[0m, in \u001b[0;36mConnection._execute_clauseelement\u001b[0;34m(self, elem, multiparams, params, execution_options)\u001b[0m\n\u001b[1;32m   1560\u001b[0m compiled_cache \u001b[38;5;241m=\u001b[39m execution_options\u001b[38;5;241m.\u001b[39mget(\n\u001b[1;32m   1561\u001b[0m     \u001b[38;5;124m\"\u001b[39m\u001b[38;5;124mcompiled_cache\u001b[39m\u001b[38;5;124m\"\u001b[39m, \u001b[38;5;28mself\u001b[39m\u001b[38;5;241m.\u001b[39mengine\u001b[38;5;241m.\u001b[39m_compiled_cache\n\u001b[1;32m   1562\u001b[0m )\n\u001b[1;32m   1564\u001b[0m compiled_sql, extracted_params, cache_hit \u001b[38;5;241m=\u001b[39m elem\u001b[38;5;241m.\u001b[39m_compile_w_cache(\n\u001b[1;32m   1565\u001b[0m     dialect\u001b[38;5;241m=\u001b[39mdialect,\n\u001b[1;32m   1566\u001b[0m     compiled_cache\u001b[38;5;241m=\u001b[39mcompiled_cache,\n\u001b[0;32m   (...)\u001b[0m\n\u001b[1;32m   1570\u001b[0m     linting\u001b[38;5;241m=\u001b[39m\u001b[38;5;28mself\u001b[39m\u001b[38;5;241m.\u001b[39mdialect\u001b[38;5;241m.\u001b[39mcompiler_linting \u001b[38;5;241m|\u001b[39m compiler\u001b[38;5;241m.\u001b[39mWARN_LINTING,\n\u001b[1;32m   1571\u001b[0m )\n\u001b[0;32m-> 1572\u001b[0m ret \u001b[38;5;241m=\u001b[39m \u001b[38;5;28;43mself\u001b[39;49m\u001b[38;5;241;43m.\u001b[39;49m\u001b[43m_execute_context\u001b[49m\u001b[43m(\u001b[49m\n\u001b[1;32m   1573\u001b[0m \u001b[43m    \u001b[49m\u001b[43mdialect\u001b[49m\u001b[43m,\u001b[49m\n\u001b[1;32m   1574\u001b[0m \u001b[43m    \u001b[49m\u001b[43mdialect\u001b[49m\u001b[38;5;241;43m.\u001b[39;49m\u001b[43mexecution_ctx_cls\u001b[49m\u001b[38;5;241;43m.\u001b[39;49m\u001b[43m_init_compiled\u001b[49m\u001b[43m,\u001b[49m\n\u001b[1;32m   1575\u001b[0m \u001b[43m    \u001b[49m\u001b[43mcompiled_sql\u001b[49m\u001b[43m,\u001b[49m\n\u001b[1;32m   1576\u001b[0m \u001b[43m    \u001b[49m\u001b[43mdistilled_params\u001b[49m\u001b[43m,\u001b[49m\n\u001b[1;32m   1577\u001b[0m \u001b[43m    \u001b[49m\u001b[43mexecution_options\u001b[49m\u001b[43m,\u001b[49m\n\u001b[1;32m   1578\u001b[0m \u001b[43m    \u001b[49m\u001b[43mcompiled_sql\u001b[49m\u001b[43m,\u001b[49m\n\u001b[1;32m   1579\u001b[0m \u001b[43m    \u001b[49m\u001b[43mdistilled_params\u001b[49m\u001b[43m,\u001b[49m\n\u001b[1;32m   1580\u001b[0m \u001b[43m    \u001b[49m\u001b[43melem\u001b[49m\u001b[43m,\u001b[49m\n\u001b[1;32m   1581\u001b[0m \u001b[43m    \u001b[49m\u001b[43mextracted_params\u001b[49m\u001b[43m,\u001b[49m\n\u001b[1;32m   1582\u001b[0m \u001b[43m    \u001b[49m\u001b[43mcache_hit\u001b[49m\u001b[38;5;241;43m=\u001b[39;49m\u001b[43mcache_hit\u001b[49m\u001b[43m,\u001b[49m\n\u001b[1;32m   1583\u001b[0m \u001b[43m\u001b[49m\u001b[43m)\u001b[49m\n\u001b[1;32m   1584\u001b[0m \u001b[38;5;28;01mif\u001b[39;00m has_events:\n\u001b[1;32m   1585\u001b[0m     \u001b[38;5;28mself\u001b[39m\u001b[38;5;241m.\u001b[39mdispatch\u001b[38;5;241m.\u001b[39mafter_execute(\n\u001b[1;32m   1586\u001b[0m         \u001b[38;5;28mself\u001b[39m,\n\u001b[1;32m   1587\u001b[0m         elem,\n\u001b[0;32m   (...)\u001b[0m\n\u001b[1;32m   1591\u001b[0m         ret,\n\u001b[1;32m   1592\u001b[0m     )\n",
      "File \u001b[0;32m~/miniconda3/envs/lume-services-dev/lib/python3.9/site-packages/sqlalchemy/engine/base.py:1943\u001b[0m, in \u001b[0;36mConnection._execute_context\u001b[0;34m(self, dialect, constructor, statement, parameters, execution_options, *args, **kw)\u001b[0m\n\u001b[1;32m   1940\u001b[0m             branched\u001b[38;5;241m.\u001b[39mclose()\n\u001b[1;32m   1942\u001b[0m \u001b[38;5;28;01mexcept\u001b[39;00m \u001b[38;5;167;01mBaseException\u001b[39;00m \u001b[38;5;28;01mas\u001b[39;00m e:\n\u001b[0;32m-> 1943\u001b[0m     \u001b[38;5;28;43mself\u001b[39;49m\u001b[38;5;241;43m.\u001b[39;49m\u001b[43m_handle_dbapi_exception\u001b[49m\u001b[43m(\u001b[49m\n\u001b[1;32m   1944\u001b[0m \u001b[43m        \u001b[49m\u001b[43me\u001b[49m\u001b[43m,\u001b[49m\u001b[43m \u001b[49m\u001b[43mstatement\u001b[49m\u001b[43m,\u001b[49m\u001b[43m \u001b[49m\u001b[43mparameters\u001b[49m\u001b[43m,\u001b[49m\u001b[43m \u001b[49m\u001b[43mcursor\u001b[49m\u001b[43m,\u001b[49m\u001b[43m \u001b[49m\u001b[43mcontext\u001b[49m\n\u001b[1;32m   1945\u001b[0m \u001b[43m    \u001b[49m\u001b[43m)\u001b[49m\n\u001b[1;32m   1947\u001b[0m \u001b[38;5;28;01mreturn\u001b[39;00m result\n",
      "File \u001b[0;32m~/miniconda3/envs/lume-services-dev/lib/python3.9/site-packages/sqlalchemy/engine/base.py:2124\u001b[0m, in \u001b[0;36mConnection._handle_dbapi_exception\u001b[0;34m(self, e, statement, parameters, cursor, context)\u001b[0m\n\u001b[1;32m   2122\u001b[0m     util\u001b[38;5;241m.\u001b[39mraise_(newraise, with_traceback\u001b[38;5;241m=\u001b[39mexc_info[\u001b[38;5;241m2\u001b[39m], from_\u001b[38;5;241m=\u001b[39me)\n\u001b[1;32m   2123\u001b[0m \u001b[38;5;28;01melif\u001b[39;00m should_wrap:\n\u001b[0;32m-> 2124\u001b[0m     \u001b[43mutil\u001b[49m\u001b[38;5;241;43m.\u001b[39;49m\u001b[43mraise_\u001b[49m\u001b[43m(\u001b[49m\n\u001b[1;32m   2125\u001b[0m \u001b[43m        \u001b[49m\u001b[43msqlalchemy_exception\u001b[49m\u001b[43m,\u001b[49m\u001b[43m \u001b[49m\u001b[43mwith_traceback\u001b[49m\u001b[38;5;241;43m=\u001b[39;49m\u001b[43mexc_info\u001b[49m\u001b[43m[\u001b[49m\u001b[38;5;241;43m2\u001b[39;49m\u001b[43m]\u001b[49m\u001b[43m,\u001b[49m\u001b[43m \u001b[49m\u001b[43mfrom_\u001b[49m\u001b[38;5;241;43m=\u001b[39;49m\u001b[43me\u001b[49m\n\u001b[1;32m   2126\u001b[0m \u001b[43m    \u001b[49m\u001b[43m)\u001b[49m\n\u001b[1;32m   2127\u001b[0m \u001b[38;5;28;01melse\u001b[39;00m:\n\u001b[1;32m   2128\u001b[0m     util\u001b[38;5;241m.\u001b[39mraise_(exc_info[\u001b[38;5;241m1\u001b[39m], with_traceback\u001b[38;5;241m=\u001b[39mexc_info[\u001b[38;5;241m2\u001b[39m])\n",
      "File \u001b[0;32m~/miniconda3/envs/lume-services-dev/lib/python3.9/site-packages/sqlalchemy/util/compat.py:208\u001b[0m, in \u001b[0;36mraise_\u001b[0;34m(***failed resolving arguments***)\u001b[0m\n\u001b[1;32m    205\u001b[0m     exception\u001b[38;5;241m.\u001b[39m__cause__ \u001b[38;5;241m=\u001b[39m replace_context\n\u001b[1;32m    207\u001b[0m \u001b[38;5;28;01mtry\u001b[39;00m:\n\u001b[0;32m--> 208\u001b[0m     \u001b[38;5;28;01mraise\u001b[39;00m exception\n\u001b[1;32m    209\u001b[0m \u001b[38;5;28;01mfinally\u001b[39;00m:\n\u001b[1;32m    210\u001b[0m     \u001b[38;5;66;03m# credit to\u001b[39;00m\n\u001b[1;32m    211\u001b[0m     \u001b[38;5;66;03m# https://cosmicpercolator.com/2016/01/13/exception-leaks-in-python-2-and-3/\u001b[39;00m\n\u001b[1;32m    212\u001b[0m     \u001b[38;5;66;03m# as the __traceback__ object creates a cycle\u001b[39;00m\n\u001b[1;32m    213\u001b[0m     \u001b[38;5;28;01mdel\u001b[39;00m exception, replace_context, from_, with_traceback\n",
      "File \u001b[0;32m~/miniconda3/envs/lume-services-dev/lib/python3.9/site-packages/sqlalchemy/engine/base.py:1900\u001b[0m, in \u001b[0;36mConnection._execute_context\u001b[0;34m(self, dialect, constructor, statement, parameters, execution_options, *args, **kw)\u001b[0m\n\u001b[1;32m   1898\u001b[0m                 \u001b[38;5;28;01mbreak\u001b[39;00m\n\u001b[1;32m   1899\u001b[0m     \u001b[38;5;28;01mif\u001b[39;00m \u001b[38;5;129;01mnot\u001b[39;00m evt_handled:\n\u001b[0;32m-> 1900\u001b[0m         \u001b[38;5;28;43mself\u001b[39;49m\u001b[38;5;241;43m.\u001b[39;49m\u001b[43mdialect\u001b[49m\u001b[38;5;241;43m.\u001b[39;49m\u001b[43mdo_execute\u001b[49m\u001b[43m(\u001b[49m\n\u001b[1;32m   1901\u001b[0m \u001b[43m            \u001b[49m\u001b[43mcursor\u001b[49m\u001b[43m,\u001b[49m\u001b[43m \u001b[49m\u001b[43mstatement\u001b[49m\u001b[43m,\u001b[49m\u001b[43m \u001b[49m\u001b[43mparameters\u001b[49m\u001b[43m,\u001b[49m\u001b[43m \u001b[49m\u001b[43mcontext\u001b[49m\n\u001b[1;32m   1902\u001b[0m \u001b[43m        \u001b[49m\u001b[43m)\u001b[49m\n\u001b[1;32m   1904\u001b[0m \u001b[38;5;28;01mif\u001b[39;00m \u001b[38;5;28mself\u001b[39m\u001b[38;5;241m.\u001b[39m_has_events \u001b[38;5;129;01mor\u001b[39;00m \u001b[38;5;28mself\u001b[39m\u001b[38;5;241m.\u001b[39mengine\u001b[38;5;241m.\u001b[39m_has_events:\n\u001b[1;32m   1905\u001b[0m     \u001b[38;5;28mself\u001b[39m\u001b[38;5;241m.\u001b[39mdispatch\u001b[38;5;241m.\u001b[39mafter_cursor_execute(\n\u001b[1;32m   1906\u001b[0m         \u001b[38;5;28mself\u001b[39m,\n\u001b[1;32m   1907\u001b[0m         cursor,\n\u001b[0;32m   (...)\u001b[0m\n\u001b[1;32m   1911\u001b[0m         context\u001b[38;5;241m.\u001b[39mexecutemany,\n\u001b[1;32m   1912\u001b[0m     )\n",
      "File \u001b[0;32m~/miniconda3/envs/lume-services-dev/lib/python3.9/site-packages/sqlalchemy/engine/default.py:736\u001b[0m, in \u001b[0;36mDefaultDialect.do_execute\u001b[0;34m(self, cursor, statement, parameters, context)\u001b[0m\n\u001b[1;32m    735\u001b[0m \u001b[38;5;28;01mdef\u001b[39;00m \u001b[38;5;21mdo_execute\u001b[39m(\u001b[38;5;28mself\u001b[39m, cursor, statement, parameters, context\u001b[38;5;241m=\u001b[39m\u001b[38;5;28;01mNone\u001b[39;00m):\n\u001b[0;32m--> 736\u001b[0m     \u001b[43mcursor\u001b[49m\u001b[38;5;241;43m.\u001b[39;49m\u001b[43mexecute\u001b[49m\u001b[43m(\u001b[49m\u001b[43mstatement\u001b[49m\u001b[43m,\u001b[49m\u001b[43m \u001b[49m\u001b[43mparameters\u001b[49m\u001b[43m)\u001b[49m\n",
      "File \u001b[0;32m~/miniconda3/envs/lume-services-dev/lib/python3.9/site-packages/pymysql/cursors.py:148\u001b[0m, in \u001b[0;36mCursor.execute\u001b[0;34m(self, query, args)\u001b[0m\n\u001b[1;32m    144\u001b[0m     \u001b[38;5;28;01mpass\u001b[39;00m\n\u001b[1;32m    146\u001b[0m query \u001b[38;5;241m=\u001b[39m \u001b[38;5;28mself\u001b[39m\u001b[38;5;241m.\u001b[39mmogrify(query, args)\n\u001b[0;32m--> 148\u001b[0m result \u001b[38;5;241m=\u001b[39m \u001b[38;5;28;43mself\u001b[39;49m\u001b[38;5;241;43m.\u001b[39;49m\u001b[43m_query\u001b[49m\u001b[43m(\u001b[49m\u001b[43mquery\u001b[49m\u001b[43m)\u001b[49m\n\u001b[1;32m    149\u001b[0m \u001b[38;5;28mself\u001b[39m\u001b[38;5;241m.\u001b[39m_executed \u001b[38;5;241m=\u001b[39m query\n\u001b[1;32m    150\u001b[0m \u001b[38;5;28;01mreturn\u001b[39;00m result\n",
      "File \u001b[0;32m~/miniconda3/envs/lume-services-dev/lib/python3.9/site-packages/pymysql/cursors.py:310\u001b[0m, in \u001b[0;36mCursor._query\u001b[0;34m(self, q)\u001b[0m\n\u001b[1;32m    308\u001b[0m \u001b[38;5;28mself\u001b[39m\u001b[38;5;241m.\u001b[39m_last_executed \u001b[38;5;241m=\u001b[39m q\n\u001b[1;32m    309\u001b[0m \u001b[38;5;28mself\u001b[39m\u001b[38;5;241m.\u001b[39m_clear_result()\n\u001b[0;32m--> 310\u001b[0m \u001b[43mconn\u001b[49m\u001b[38;5;241;43m.\u001b[39;49m\u001b[43mquery\u001b[49m\u001b[43m(\u001b[49m\u001b[43mq\u001b[49m\u001b[43m)\u001b[49m\n\u001b[1;32m    311\u001b[0m \u001b[38;5;28mself\u001b[39m\u001b[38;5;241m.\u001b[39m_do_get_result()\n\u001b[1;32m    312\u001b[0m \u001b[38;5;28;01mreturn\u001b[39;00m \u001b[38;5;28mself\u001b[39m\u001b[38;5;241m.\u001b[39mrowcount\n",
      "File \u001b[0;32m~/miniconda3/envs/lume-services-dev/lib/python3.9/site-packages/pymysql/connections.py:548\u001b[0m, in \u001b[0;36mConnection.query\u001b[0;34m(self, sql, unbuffered)\u001b[0m\n\u001b[1;32m    546\u001b[0m     sql \u001b[38;5;241m=\u001b[39m sql\u001b[38;5;241m.\u001b[39mencode(\u001b[38;5;28mself\u001b[39m\u001b[38;5;241m.\u001b[39mencoding, \u001b[38;5;124m\"\u001b[39m\u001b[38;5;124msurrogateescape\u001b[39m\u001b[38;5;124m\"\u001b[39m)\n\u001b[1;32m    547\u001b[0m \u001b[38;5;28mself\u001b[39m\u001b[38;5;241m.\u001b[39m_execute_command(COMMAND\u001b[38;5;241m.\u001b[39mCOM_QUERY, sql)\n\u001b[0;32m--> 548\u001b[0m \u001b[38;5;28mself\u001b[39m\u001b[38;5;241m.\u001b[39m_affected_rows \u001b[38;5;241m=\u001b[39m \u001b[38;5;28;43mself\u001b[39;49m\u001b[38;5;241;43m.\u001b[39;49m\u001b[43m_read_query_result\u001b[49m\u001b[43m(\u001b[49m\u001b[43munbuffered\u001b[49m\u001b[38;5;241;43m=\u001b[39;49m\u001b[43munbuffered\u001b[49m\u001b[43m)\u001b[49m\n\u001b[1;32m    549\u001b[0m \u001b[38;5;28;01mreturn\u001b[39;00m \u001b[38;5;28mself\u001b[39m\u001b[38;5;241m.\u001b[39m_affected_rows\n",
      "File \u001b[0;32m~/miniconda3/envs/lume-services-dev/lib/python3.9/site-packages/pymysql/connections.py:775\u001b[0m, in \u001b[0;36mConnection._read_query_result\u001b[0;34m(self, unbuffered)\u001b[0m\n\u001b[1;32m    773\u001b[0m \u001b[38;5;28;01melse\u001b[39;00m:\n\u001b[1;32m    774\u001b[0m     result \u001b[38;5;241m=\u001b[39m MySQLResult(\u001b[38;5;28mself\u001b[39m)\n\u001b[0;32m--> 775\u001b[0m     \u001b[43mresult\u001b[49m\u001b[38;5;241;43m.\u001b[39;49m\u001b[43mread\u001b[49m\u001b[43m(\u001b[49m\u001b[43m)\u001b[49m\n\u001b[1;32m    776\u001b[0m \u001b[38;5;28mself\u001b[39m\u001b[38;5;241m.\u001b[39m_result \u001b[38;5;241m=\u001b[39m result\n\u001b[1;32m    777\u001b[0m \u001b[38;5;28;01mif\u001b[39;00m result\u001b[38;5;241m.\u001b[39mserver_status \u001b[38;5;129;01mis\u001b[39;00m \u001b[38;5;129;01mnot\u001b[39;00m \u001b[38;5;28;01mNone\u001b[39;00m:\n",
      "File \u001b[0;32m~/miniconda3/envs/lume-services-dev/lib/python3.9/site-packages/pymysql/connections.py:1156\u001b[0m, in \u001b[0;36mMySQLResult.read\u001b[0;34m(self)\u001b[0m\n\u001b[1;32m   1154\u001b[0m \u001b[38;5;28;01mdef\u001b[39;00m \u001b[38;5;21mread\u001b[39m(\u001b[38;5;28mself\u001b[39m):\n\u001b[1;32m   1155\u001b[0m     \u001b[38;5;28;01mtry\u001b[39;00m:\n\u001b[0;32m-> 1156\u001b[0m         first_packet \u001b[38;5;241m=\u001b[39m \u001b[38;5;28;43mself\u001b[39;49m\u001b[38;5;241;43m.\u001b[39;49m\u001b[43mconnection\u001b[49m\u001b[38;5;241;43m.\u001b[39;49m\u001b[43m_read_packet\u001b[49m\u001b[43m(\u001b[49m\u001b[43m)\u001b[49m\n\u001b[1;32m   1158\u001b[0m         \u001b[38;5;28;01mif\u001b[39;00m first_packet\u001b[38;5;241m.\u001b[39mis_ok_packet():\n\u001b[1;32m   1159\u001b[0m             \u001b[38;5;28mself\u001b[39m\u001b[38;5;241m.\u001b[39m_read_ok_packet(first_packet)\n",
      "File \u001b[0;32m~/miniconda3/envs/lume-services-dev/lib/python3.9/site-packages/pymysql/connections.py:725\u001b[0m, in \u001b[0;36mConnection._read_packet\u001b[0;34m(self, packet_type)\u001b[0m\n\u001b[1;32m    723\u001b[0m     \u001b[38;5;28;01mif\u001b[39;00m \u001b[38;5;28mself\u001b[39m\u001b[38;5;241m.\u001b[39m_result \u001b[38;5;129;01mis\u001b[39;00m \u001b[38;5;129;01mnot\u001b[39;00m \u001b[38;5;28;01mNone\u001b[39;00m \u001b[38;5;129;01mand\u001b[39;00m \u001b[38;5;28mself\u001b[39m\u001b[38;5;241m.\u001b[39m_result\u001b[38;5;241m.\u001b[39munbuffered_active \u001b[38;5;129;01mis\u001b[39;00m \u001b[38;5;28;01mTrue\u001b[39;00m:\n\u001b[1;32m    724\u001b[0m         \u001b[38;5;28mself\u001b[39m\u001b[38;5;241m.\u001b[39m_result\u001b[38;5;241m.\u001b[39munbuffered_active \u001b[38;5;241m=\u001b[39m \u001b[38;5;28;01mFalse\u001b[39;00m\n\u001b[0;32m--> 725\u001b[0m     \u001b[43mpacket\u001b[49m\u001b[38;5;241;43m.\u001b[39;49m\u001b[43mraise_for_error\u001b[49m\u001b[43m(\u001b[49m\u001b[43m)\u001b[49m\n\u001b[1;32m    726\u001b[0m \u001b[38;5;28;01mreturn\u001b[39;00m packet\n",
      "File \u001b[0;32m~/miniconda3/envs/lume-services-dev/lib/python3.9/site-packages/pymysql/protocol.py:221\u001b[0m, in \u001b[0;36mMysqlPacket.raise_for_error\u001b[0;34m(self)\u001b[0m\n\u001b[1;32m    219\u001b[0m \u001b[38;5;28;01mif\u001b[39;00m DEBUG:\n\u001b[1;32m    220\u001b[0m     \u001b[38;5;28mprint\u001b[39m(\u001b[38;5;124m\"\u001b[39m\u001b[38;5;124merrno =\u001b[39m\u001b[38;5;124m\"\u001b[39m, errno)\n\u001b[0;32m--> 221\u001b[0m \u001b[43merr\u001b[49m\u001b[38;5;241;43m.\u001b[39;49m\u001b[43mraise_mysql_exception\u001b[49m\u001b[43m(\u001b[49m\u001b[38;5;28;43mself\u001b[39;49m\u001b[38;5;241;43m.\u001b[39;49m\u001b[43m_data\u001b[49m\u001b[43m)\u001b[49m\n",
      "File \u001b[0;32m~/miniconda3/envs/lume-services-dev/lib/python3.9/site-packages/pymysql/err.py:143\u001b[0m, in \u001b[0;36mraise_mysql_exception\u001b[0;34m(data)\u001b[0m\n\u001b[1;32m    141\u001b[0m \u001b[38;5;28;01mif\u001b[39;00m errorclass \u001b[38;5;129;01mis\u001b[39;00m \u001b[38;5;28;01mNone\u001b[39;00m:\n\u001b[1;32m    142\u001b[0m     errorclass \u001b[38;5;241m=\u001b[39m InternalError \u001b[38;5;28;01mif\u001b[39;00m errno \u001b[38;5;241m<\u001b[39m \u001b[38;5;241m1000\u001b[39m \u001b[38;5;28;01melse\u001b[39;00m OperationalError\n\u001b[0;32m--> 143\u001b[0m \u001b[38;5;28;01mraise\u001b[39;00m errorclass(errno, errval)\n",
      "\u001b[0;31mIntegrityError\u001b[0m: (pymysql.err.IntegrityError) (1062, \"Duplicate entry 'test' for key 'project.PRIMARY'\")\n[SQL: INSERT INTO project (project_name, description) VALUES (%(project_name)s, %(description)s)]\n[parameters: {'project_name': 'test', 'description': 'my_description'}]\n(Background on this error at: https://sqlalche.me/e/14/gkpj)"
     ]
    }
   ],
   "source": [
    "# create a project\n",
    "project_name = model_db_service.store_project(\n",
    "    project_name=\"test\", description=\"my_description\"\n",
    ")"
   ]
  },
  {
   "cell_type": "code",
   "execution_count": null,
   "id": "a6cd5fa3",
   "metadata": {},
   "outputs": [],
   "source": [
    "scheduling_service.create_project(\"test\")"
   ]
  },
  {
   "cell_type": "markdown",
   "id": "bc23acff",
   "metadata": {},
   "source": [
    "## Let's use the source of the model we created in the demo"
   ]
  },
  {
   "cell_type": "code",
   "execution_count": null,
   "id": "2346c829",
   "metadata": {},
   "outputs": [],
   "source": [
    "source_path = \"https://github.com/jacquelinegarrahan/my-model/releases/download/v0.0.9/my_model-0.0.9.tar.gz\"\n",
    "# populates local channel\n",
    "model.store_deployment(source_path, project_name=\"test\")"
   ]
  },
  {
   "cell_type": "code",
   "execution_count": null,
   "id": "90a5769f",
   "metadata": {},
   "outputs": [],
   "source": [
    "model.run_and_return(parameters={\n",
    "                        \"input1\": \"hey\", \n",
    "                        \"input2\": \"jackie\", \n",
    "                        \"filename\": f\"/Users/jgarra/sandbox/lume-services/test_file.txt\", \n",
    "                        \"filesystem_identifier\":\"local\"}\n",
    "         )"
   ]
  },
  {
   "cell_type": "code",
   "execution_count": null,
   "id": "01e7522b",
   "metadata": {},
   "outputs": [],
   "source": [
    "model.results()"
   ]
  },
  {
   "cell_type": "code",
   "execution_count": 6,
   "id": "d6ef8e4e",
   "metadata": {},
   "outputs": [
    {
     "name": "stderr",
     "output_type": "stream",
     "text": [
      "INFO:lume_services.services.models.db.db:ModelDB selecting: SELECT model.model_id, model.created, model.author, model.laboratory, model.facility, model.beampath, model.description \n",
      "FROM model \n",
      "WHERE model.model_id = :model_id_1\n",
      "DEBUG:lume_services.services.models.db.db:ModelDB creating session.\n",
      "DEBUG:lume_services.services.models.db.db:ModelDB session created.\n"
     ]
    }
   ],
   "source": [
    "from lume_services.models import Model\n",
    "\n",
    "model = Model(model_id=1)"
   ]
  },
  {
   "cell_type": "code",
   "execution_count": null,
   "id": "f7a15668",
   "metadata": {},
   "outputs": [],
   "source": []
  },
  {
   "cell_type": "code",
   "execution_count": 7,
   "id": "040bb4bd",
   "metadata": {},
   "outputs": [
    {
     "name": "stderr",
     "output_type": "stream",
     "text": [
      "INFO:lume_services.services.models.db.db:ModelDB selecting: SELECT deployment.sha256, deployment.deployment_id, deployment.version, deployment.deploy_date, deployment.package_import_name, deployment.asset_dir, deployment.source, deployment.image, deployment.is_live, deployment.model_id \n",
      "FROM deployment \n",
      "WHERE deployment.model_id = :model_id_1 ORDER BY deployment.deploy_date DESC\n",
      "DEBUG:lume_services.services.models.db.db:ModelDB creating session.\n",
      "DEBUG:lume_services.services.models.db.db:ModelDB session created.\n",
      "INFO:lume_services.services.models.db.db:ModelDB selecting: SELECT deployment_dependencies._id, deployment_dependencies.name, deployment_dependencies.source, deployment_dependencies.local_source, deployment_dependencies.version, deployment_dependencies.deployment_id, deployment_dependencies.dependency_type_id, dependency_type_1.id, dependency_type_1.type \n",
      "FROM deployment_dependencies LEFT OUTER JOIN dependency_type AS dependency_type_1 ON dependency_type_1.id = deployment_dependencies.dependency_type_id \n",
      "WHERE deployment_dependencies.deployment_id = :deployment_id_1\n",
      "DEBUG:lume_services.services.models.db.db:ModelDB creating session.\n",
      "DEBUG:lume_services.services.models.db.db:ModelDB session created.\n",
      "INFO:lume_services.services.models.db.db:ModelDB selecting: SELECT flow.flow_id, flow.flow_name, flow.project_name, flow.deployment_id \n",
      "FROM flow \n",
      "WHERE flow.deployment_id = :deployment_id_1\n",
      "DEBUG:lume_services.services.models.db.db:ModelDB creating session.\n",
      "DEBUG:lume_services.services.models.db.db:ModelDB session created.\n",
      "INFO:lume_services.services.models.db.db:ModelDB selecting: SELECT project.project_name, project.description \n",
      "FROM project \n",
      "WHERE project.project_name = :project_name_1\n",
      "DEBUG:lume_services.services.models.db.db:ModelDB creating session.\n",
      "DEBUG:lume_services.services.models.db.db:ModelDB session created.\n",
      "INFO:lume_services.services.models.db.db:ModelDB selecting: SELECT flow_of_flows._id, flow_of_flows.parent_flow_id, flow_of_flows.flow_id, flow_of_flows.position \n",
      "FROM flow_of_flows \n",
      "WHERE flow_of_flows.parent_flow_id = :parent_flow_id_1\n",
      "DEBUG:lume_services.services.models.db.db:ModelDB creating session.\n",
      "DEBUG:lume_services.services.models.db.db:ModelDB session created.\n"
     ]
    }
   ],
   "source": [
    "model.load_deployment()"
   ]
  },
  {
   "cell_type": "code",
   "execution_count": 9,
   "id": "06ff1d79",
   "metadata": {},
   "outputs": [
    {
     "name": "stderr",
     "output_type": "stream",
     "text": [
      "INFO:lume_services.services.scheduling.backends.server:Creating Prefect flow run for 7def8c7a-09a0-4449-ade1-ebfecf7c10af with parameters {'input1': 'hey', 'input2': 'jackie', 'filename': '/Users/jgarra/sandbox/lume-services/test_file.txt', 'filesystem_identifier': 'local'} and run_config {\"labels\": [\"lume-services\"], \"env\": {\"EXTRA_CONDA_PACKAGES\": \"_libgcc_mutex libstdcxx-ng ld_impl_linux-64 ca-certificates libgfortran5 libgomp libgfortran-ng _openmp_mutex libgcc-ng lzo xorg-libxdmcp xorg-libxau pthread-stubs libuuid libdeflate lerc jpeg libbrotlicommon libev c-ares libwebp-base ripgrep liblief patchelf patch lz4-c icu libopenblas reproc libiconv keyutils yaml-cpp xz openssl ncurses libzlib libffi bzip2 yaml libnsl libxcb libbrotlienc libbrotlidec libblas reproc-cpp libedit readline zstd libpng libxml2 libssh2 libnghttp2 tk libsqlite libsolv brotli-bin libcblas liblapack krb5 libtiff freetype libarchive sqlite brotli libcurl openjpeg lcms2 hdf5 libmamba tzdata pybind11-abi python wheel setuptools pip munkres cycler soupsieve cached_property unidecode text-unidecode charset-normalizer colorama certifi heapdict glob2 pkginfo filelock appdirs websocket-client six pycparser idna asn1crypto pytzdata typing_extensions natsort fsspec tblib locket toolz sortedcontainers zipp pyparsing toml tabulate pytz cloudpickle pymysql beautifulsoup4 cached-property python-slugify tqdm zict docker-pycreds python-dateutil typing-extensions partd importlib_resources packaging croniter marshmallow marshmallow-oneofschema python_abi unicodedata2 pillow kiwisolver ruamel.yaml.clib markupsafe pysocks ruamel_yaml pycosat python-libarchive-c py-lief conda-package-handling chardet cffi greenlet tornado psutil msgpack-python cytoolz pendulum mypy_extensions pymongo pyyaml numpy libmambapy dependency_injector pydantic click fonttools ruamel.yaml brotlipy cryptography sqlalchemy scipy pandas h5py matplotlib-base python-box jinja2 dask-core lume-model pyopenssl openpmd-beamphysics urllib3 lume-base requests distributed conda docker-py conda-build mamba prefect\", \"EXTRA_PIP_PACKAGES\": \"\", \"LOCAL_CHANNEL_ONLY\": false}, \"image\": \"jgarrahan/lume-services-prefect:latest\", \"host_config\": null, \"ports\": null}\n",
      "DEBUG:urllib3.connectionpool:Starting new HTTP connection (1): localhost:4200\n",
      "DEBUG:urllib3.connectionpool:http://localhost:4200 \"POST / HTTP/1.1\" 200 75\n",
      "DEBUG:urllib3.connectionpool:Starting new HTTP connection (1): localhost:4200\n",
      "DEBUG:urllib3.connectionpool:http://localhost:4200 \"POST / HTTP/1.1\" 200 9504\n",
      "DEBUG:urllib3.connectionpool:Starting new HTTP connection (1): localhost:4200\n",
      "DEBUG:urllib3.connectionpool:http://localhost:4200 \"POST / HTTP/1.1\" 200 2911\n",
      "DEBUG:urllib3.connectionpool:Starting new HTTP connection (1): localhost:4200\n",
      "DEBUG:urllib3.connectionpool:http://localhost:4200 \"POST / HTTP/1.1\" 200 3624\n",
      "DEBUG:urllib3.connectionpool:Starting new HTTP connection (1): localhost:4200\n",
      "DEBUG:urllib3.connectionpool:http://localhost:4200 \"POST / HTTP/1.1\" 200 36\n",
      "INFO:lume_services.services.scheduling.backends.server:FlowRunLog(timestamp=DateTime(2022, 9, 8, 2, 19, 46, 675434, tzinfo=Timezone('+00:00')), level=20, message='Entered state <Scheduled>: Flow run scheduled.')\n",
      "INFO:lume_services.services.scheduling.backends.server:FlowRunLog(timestamp=DateTime(2022, 9, 8, 2, 19, 47, 905525, tzinfo=Timezone('+00:00')), level=20, message='Entered state <Submitted>: Submitted for execution')\n",
      "DEBUG:urllib3.connectionpool:Starting new HTTP connection (1): localhost:4200\n",
      "DEBUG:urllib3.connectionpool:http://localhost:4200 \"POST / HTTP/1.1\" 200 3624\n",
      "DEBUG:urllib3.connectionpool:Starting new HTTP connection (1): localhost:4200\n",
      "DEBUG:urllib3.connectionpool:http://localhost:4200 \"POST / HTTP/1.1\" 200 36\n",
      "DEBUG:urllib3.connectionpool:Starting new HTTP connection (1): localhost:4200\n",
      "DEBUG:urllib3.connectionpool:http://localhost:4200 \"POST / HTTP/1.1\" 200 3624\n",
      "DEBUG:urllib3.connectionpool:Starting new HTTP connection (1): localhost:4200\n",
      "DEBUG:urllib3.connectionpool:http://localhost:4200 \"POST / HTTP/1.1\" 200 36\n",
      "DEBUG:urllib3.connectionpool:Starting new HTTP connection (1): localhost:4200\n",
      "DEBUG:urllib3.connectionpool:http://localhost:4200 \"POST / HTTP/1.1\" 200 3624\n",
      "DEBUG:urllib3.connectionpool:Starting new HTTP connection (1): localhost:4200\n",
      "DEBUG:urllib3.connectionpool:http://localhost:4200 \"POST / HTTP/1.1\" 200 36\n",
      "DEBUG:urllib3.connectionpool:Starting new HTTP connection (1): localhost:4200\n",
      "DEBUG:urllib3.connectionpool:http://localhost:4200 \"POST / HTTP/1.1\" 200 3624\n",
      "DEBUG:urllib3.connectionpool:Starting new HTTP connection (1): localhost:4200\n",
      "DEBUG:urllib3.connectionpool:http://localhost:4200 \"POST / HTTP/1.1\" 200 36\n",
      "DEBUG:urllib3.connectionpool:Starting new HTTP connection (1): localhost:4200\n",
      "DEBUG:urllib3.connectionpool:http://localhost:4200 \"POST / HTTP/1.1\" 200 3624\n",
      "DEBUG:urllib3.connectionpool:Starting new HTTP connection (1): localhost:4200\n",
      "DEBUG:urllib3.connectionpool:http://localhost:4200 \"POST / HTTP/1.1\" 200 36\n",
      "DEBUG:urllib3.connectionpool:Starting new HTTP connection (1): localhost:4200\n",
      "DEBUG:urllib3.connectionpool:http://localhost:4200 \"POST / HTTP/1.1\" 200 3624\n",
      "DEBUG:urllib3.connectionpool:Starting new HTTP connection (1): localhost:4200\n",
      "DEBUG:urllib3.connectionpool:http://localhost:4200 \"POST / HTTP/1.1\" 200 215\n",
      "INFO:lume_services.services.scheduling.backends.server:FlowRunLog(timestamp=DateTime(2022, 9, 8, 2, 20, 4, 939289, tzinfo=Timezone('+00:00')), level=20, message='Submitted for execution: Container ID: ac2061f052bcc5bf7b4bfc86473bcb31fab806863bc7cba73fd8e7887a324149')\n",
      "DEBUG:urllib3.connectionpool:Starting new HTTP connection (1): localhost:4200\n",
      "DEBUG:urllib3.connectionpool:http://localhost:4200 \"POST / HTTP/1.1\" 200 3624\n",
      "DEBUG:urllib3.connectionpool:Starting new HTTP connection (1): localhost:4200\n",
      "DEBUG:urllib3.connectionpool:http://localhost:4200 \"POST / HTTP/1.1\" 200 36\n",
      "DEBUG:urllib3.connectionpool:Starting new HTTP connection (1): localhost:4200\n",
      "DEBUG:urllib3.connectionpool:http://localhost:4200 \"POST / HTTP/1.1\" 200 3624\n",
      "DEBUG:urllib3.connectionpool:Starting new HTTP connection (1): localhost:4200\n",
      "DEBUG:urllib3.connectionpool:http://localhost:4200 \"POST / HTTP/1.1\" 200 36\n",
      "DEBUG:urllib3.connectionpool:Starting new HTTP connection (1): localhost:4200\n",
      "DEBUG:urllib3.connectionpool:http://localhost:4200 \"POST / HTTP/1.1\" 200 3624\n",
      "DEBUG:urllib3.connectionpool:Starting new HTTP connection (1): localhost:4200\n",
      "DEBUG:urllib3.connectionpool:http://localhost:4200 \"POST / HTTP/1.1\" 200 36\n",
      "DEBUG:urllib3.connectionpool:Starting new HTTP connection (1): localhost:4200\n",
      "DEBUG:urllib3.connectionpool:http://localhost:4200 \"POST / HTTP/1.1\" 200 3624\n",
      "DEBUG:urllib3.connectionpool:Starting new HTTP connection (1): localhost:4200\n",
      "DEBUG:urllib3.connectionpool:http://localhost:4200 \"POST / HTTP/1.1\" 200 36\n",
      "DEBUG:urllib3.connectionpool:Starting new HTTP connection (1): localhost:4200\n",
      "DEBUG:urllib3.connectionpool:http://localhost:4200 \"POST / HTTP/1.1\" 200 3624\n",
      "DEBUG:urllib3.connectionpool:Starting new HTTP connection (1): localhost:4200\n",
      "DEBUG:urllib3.connectionpool:http://localhost:4200 \"POST / HTTP/1.1\" 200 36\n",
      "DEBUG:urllib3.connectionpool:Starting new HTTP connection (1): localhost:4200\n",
      "DEBUG:urllib3.connectionpool:http://localhost:4200 \"POST / HTTP/1.1\" 200 3624\n",
      "DEBUG:urllib3.connectionpool:Starting new HTTP connection (1): localhost:4200\n",
      "DEBUG:urllib3.connectionpool:http://localhost:4200 \"POST / HTTP/1.1\" 200 36\n",
      "DEBUG:urllib3.connectionpool:Starting new HTTP connection (1): localhost:4200\n",
      "DEBUG:urllib3.connectionpool:http://localhost:4200 \"POST / HTTP/1.1\" 200 3624\n",
      "DEBUG:urllib3.connectionpool:Starting new HTTP connection (1): localhost:4200\n",
      "DEBUG:urllib3.connectionpool:http://localhost:4200 \"POST / HTTP/1.1\" 200 36\n",
      "DEBUG:urllib3.connectionpool:Starting new HTTP connection (1): localhost:4200\n",
      "DEBUG:urllib3.util.retry:Incremented Retry for (url='/'): Retry(total=5, connect=None, read=None, redirect=None, status=None)\n",
      "WARNING:urllib3.connectionpool:Retrying (Retry(total=5, connect=None, read=None, redirect=None, status=None)) after connection broken by 'ReadTimeoutError(\"HTTPConnectionPool(host='localhost', port=4200): Read timed out. (read timeout=15)\")': /\n",
      "DEBUG:urllib3.connectionpool:Starting new HTTP connection (2): localhost:4200\n"
     ]
    },
    {
     "name": "stderr",
     "output_type": "stream",
     "text": [
      "DEBUG:urllib3.connectionpool:http://localhost:4200 \"POST / HTTP/1.1\" 200 3624\n",
      "DEBUG:urllib3.connectionpool:Starting new HTTP connection (1): localhost:4200\n",
      "DEBUG:urllib3.connectionpool:http://localhost:4200 \"POST / HTTP/1.1\" 200 36\n",
      "DEBUG:urllib3.connectionpool:Starting new HTTP connection (1): localhost:4200\n",
      "DEBUG:urllib3.connectionpool:http://localhost:4200 \"POST / HTTP/1.1\" 200 3624\n",
      "DEBUG:urllib3.connectionpool:Starting new HTTP connection (1): localhost:4200\n",
      "DEBUG:urllib3.connectionpool:http://localhost:4200 \"POST / HTTP/1.1\" 200 36\n",
      "DEBUG:urllib3.connectionpool:Starting new HTTP connection (1): localhost:4200\n",
      "DEBUG:urllib3.connectionpool:http://localhost:4200 \"POST / HTTP/1.1\" 200 3624\n",
      "DEBUG:urllib3.connectionpool:Starting new HTTP connection (1): localhost:4200\n",
      "DEBUG:urllib3.connectionpool:http://localhost:4200 \"POST / HTTP/1.1\" 200 36\n",
      "DEBUG:urllib3.connectionpool:Starting new HTTP connection (1): localhost:4200\n",
      "DEBUG:urllib3.connectionpool:http://localhost:4200 \"POST / HTTP/1.1\" 200 3624\n",
      "DEBUG:urllib3.connectionpool:Starting new HTTP connection (1): localhost:4200\n",
      "DEBUG:urllib3.connectionpool:http://localhost:4200 \"POST / HTTP/1.1\" 200 36\n",
      "DEBUG:urllib3.connectionpool:Starting new HTTP connection (1): localhost:4200\n",
      "DEBUG:urllib3.connectionpool:http://localhost:4200 \"POST / HTTP/1.1\" 200 3624\n",
      "DEBUG:urllib3.connectionpool:Starting new HTTP connection (1): localhost:4200\n",
      "DEBUG:urllib3.connectionpool:http://localhost:4200 \"POST / HTTP/1.1\" 200 36\n",
      "DEBUG:urllib3.connectionpool:Starting new HTTP connection (1): localhost:4200\n",
      "DEBUG:urllib3.connectionpool:http://localhost:4200 \"POST / HTTP/1.1\" 200 3624\n",
      "DEBUG:urllib3.connectionpool:Starting new HTTP connection (1): localhost:4200\n",
      "DEBUG:urllib3.connectionpool:http://localhost:4200 \"POST / HTTP/1.1\" 200 36\n",
      "DEBUG:urllib3.connectionpool:Starting new HTTP connection (1): localhost:4200\n",
      "DEBUG:urllib3.connectionpool:http://localhost:4200 \"POST / HTTP/1.1\" 200 3624\n",
      "DEBUG:urllib3.connectionpool:Starting new HTTP connection (1): localhost:4200\n",
      "DEBUG:urllib3.connectionpool:http://localhost:4200 \"POST / HTTP/1.1\" 200 36\n",
      "DEBUG:urllib3.connectionpool:Starting new HTTP connection (1): localhost:4200\n",
      "DEBUG:urllib3.connectionpool:http://localhost:4200 \"POST / HTTP/1.1\" 200 3624\n",
      "DEBUG:urllib3.connectionpool:Starting new HTTP connection (1): localhost:4200\n",
      "DEBUG:urllib3.connectionpool:http://localhost:4200 \"POST / HTTP/1.1\" 200 36\n",
      "DEBUG:urllib3.connectionpool:Starting new HTTP connection (1): localhost:4200\n",
      "DEBUG:urllib3.connectionpool:http://localhost:4200 \"POST / HTTP/1.1\" 200 3624\n",
      "DEBUG:urllib3.connectionpool:Starting new HTTP connection (1): localhost:4200\n",
      "DEBUG:urllib3.connectionpool:http://localhost:4200 \"POST / HTTP/1.1\" 200 36\n",
      "DEBUG:urllib3.connectionpool:Starting new HTTP connection (1): localhost:4200\n",
      "DEBUG:urllib3.connectionpool:http://localhost:4200 \"POST / HTTP/1.1\" 200 3624\n",
      "DEBUG:urllib3.connectionpool:Starting new HTTP connection (1): localhost:4200\n",
      "DEBUG:urllib3.connectionpool:http://localhost:4200 \"POST / HTTP/1.1\" 200 36\n",
      "DEBUG:urllib3.connectionpool:Starting new HTTP connection (1): localhost:4200\n",
      "DEBUG:urllib3.connectionpool:http://localhost:4200 \"POST / HTTP/1.1\" 200 3624\n",
      "DEBUG:urllib3.connectionpool:Starting new HTTP connection (1): localhost:4200\n",
      "DEBUG:urllib3.connectionpool:http://localhost:4200 \"POST / HTTP/1.1\" 200 36\n",
      "DEBUG:urllib3.connectionpool:Starting new HTTP connection (1): localhost:4200\n",
      "DEBUG:urllib3.connectionpool:http://localhost:4200 \"POST / HTTP/1.1\" 200 3624\n",
      "DEBUG:urllib3.connectionpool:Starting new HTTP connection (1): localhost:4200\n",
      "DEBUG:urllib3.connectionpool:http://localhost:4200 \"POST / HTTP/1.1\" 200 36\n",
      "DEBUG:urllib3.connectionpool:Starting new HTTP connection (1): localhost:4200\n",
      "DEBUG:urllib3.connectionpool:http://localhost:4200 \"POST / HTTP/1.1\" 200 3624\n",
      "DEBUG:urllib3.connectionpool:Starting new HTTP connection (1): localhost:4200\n",
      "DEBUG:urllib3.connectionpool:http://localhost:4200 \"POST / HTTP/1.1\" 200 36\n",
      "DEBUG:urllib3.connectionpool:Starting new HTTP connection (1): localhost:4200\n",
      "DEBUG:urllib3.connectionpool:http://localhost:4200 \"POST / HTTP/1.1\" 200 3624\n",
      "DEBUG:urllib3.connectionpool:Starting new HTTP connection (1): localhost:4200\n",
      "DEBUG:urllib3.connectionpool:http://localhost:4200 \"POST / HTTP/1.1\" 200 36\n",
      "DEBUG:urllib3.connectionpool:Starting new HTTP connection (1): localhost:4200\n",
      "DEBUG:urllib3.connectionpool:http://localhost:4200 \"POST / HTTP/1.1\" 200 3624\n",
      "DEBUG:urllib3.connectionpool:Starting new HTTP connection (1): localhost:4200\n",
      "DEBUG:urllib3.connectionpool:http://localhost:4200 \"POST / HTTP/1.1\" 200 36\n",
      "DEBUG:urllib3.connectionpool:Starting new HTTP connection (1): localhost:4200\n",
      "DEBUG:urllib3.connectionpool:http://localhost:4200 \"POST / HTTP/1.1\" 200 3624\n",
      "DEBUG:urllib3.connectionpool:Starting new HTTP connection (1): localhost:4200\n",
      "DEBUG:urllib3.connectionpool:http://localhost:4200 \"POST / HTTP/1.1\" 200 36\n",
      "DEBUG:urllib3.connectionpool:Starting new HTTP connection (1): localhost:4200\n",
      "DEBUG:urllib3.connectionpool:http://localhost:4200 \"POST / HTTP/1.1\" 200 3624\n",
      "DEBUG:urllib3.connectionpool:Starting new HTTP connection (1): localhost:4200\n",
      "DEBUG:urllib3.connectionpool:http://localhost:4200 \"POST / HTTP/1.1\" 200 36\n",
      "DEBUG:urllib3.connectionpool:Starting new HTTP connection (1): localhost:4200\n",
      "DEBUG:urllib3.connectionpool:http://localhost:4200 \"POST / HTTP/1.1\" 200 3624\n",
      "DEBUG:urllib3.connectionpool:Starting new HTTP connection (1): localhost:4200\n",
      "DEBUG:urllib3.connectionpool:http://localhost:4200 \"POST / HTTP/1.1\" 200 36\n",
      "DEBUG:urllib3.connectionpool:Starting new HTTP connection (1): localhost:4200\n",
      "DEBUG:urllib3.connectionpool:http://localhost:4200 \"POST / HTTP/1.1\" 200 3624\n",
      "DEBUG:urllib3.connectionpool:Starting new HTTP connection (1): localhost:4200\n",
      "DEBUG:urllib3.connectionpool:http://localhost:4200 \"POST / HTTP/1.1\" 200 51\n"
     ]
    },
    {
     "ename": "RuntimeError",
     "evalue": "`watch_flow_run` timed out after 0.0 hours of waiting for completion. Your flow run is still in state: <Submitted: \"Submitted for execution\">",
     "output_type": "error",
     "traceback": [
      "\u001b[0;31m---------------------------------------------------------------------------\u001b[0m",
      "\u001b[0;31mRuntimeError\u001b[0m                              Traceback (most recent call last)",
      "Cell \u001b[0;32mIn [9], line 1\u001b[0m\n\u001b[0;32m----> 1\u001b[0m \u001b[43mmodel\u001b[49m\u001b[38;5;241;43m.\u001b[39;49m\u001b[43mrun_and_return\u001b[49m\u001b[43m(\u001b[49m\u001b[43mparameters\u001b[49m\u001b[38;5;241;43m=\u001b[39;49m\u001b[43m{\u001b[49m\n\u001b[1;32m      2\u001b[0m \u001b[43m                        \u001b[49m\u001b[38;5;124;43m\"\u001b[39;49m\u001b[38;5;124;43minput1\u001b[39;49m\u001b[38;5;124;43m\"\u001b[39;49m\u001b[43m:\u001b[49m\u001b[43m \u001b[49m\u001b[38;5;124;43m\"\u001b[39;49m\u001b[38;5;124;43mhey\u001b[39;49m\u001b[38;5;124;43m\"\u001b[39;49m\u001b[43m,\u001b[49m\u001b[43m \u001b[49m\n\u001b[1;32m      3\u001b[0m \u001b[43m                        \u001b[49m\u001b[38;5;124;43m\"\u001b[39;49m\u001b[38;5;124;43minput2\u001b[39;49m\u001b[38;5;124;43m\"\u001b[39;49m\u001b[43m:\u001b[49m\u001b[43m \u001b[49m\u001b[38;5;124;43m\"\u001b[39;49m\u001b[38;5;124;43mjackie\u001b[39;49m\u001b[38;5;124;43m\"\u001b[39;49m\u001b[43m,\u001b[49m\u001b[43m \u001b[49m\n\u001b[1;32m      4\u001b[0m \u001b[43m                        \u001b[49m\u001b[38;5;124;43m\"\u001b[39;49m\u001b[38;5;124;43mfilename\u001b[39;49m\u001b[38;5;124;43m\"\u001b[39;49m\u001b[43m:\u001b[49m\u001b[43m \u001b[49m\u001b[38;5;124;43mf\u001b[39;49m\u001b[38;5;124;43m\"\u001b[39;49m\u001b[38;5;124;43m/Users/jgarra/sandbox/lume-services/test_file.txt\u001b[39;49m\u001b[38;5;124;43m\"\u001b[39;49m\u001b[43m,\u001b[49m\u001b[43m \u001b[49m\n\u001b[1;32m      5\u001b[0m \u001b[43m                        \u001b[49m\u001b[38;5;124;43m\"\u001b[39;49m\u001b[38;5;124;43mfilesystem_identifier\u001b[39;49m\u001b[38;5;124;43m\"\u001b[39;49m\u001b[43m:\u001b[49m\u001b[38;5;124;43m\"\u001b[39;49m\u001b[38;5;124;43mlocal\u001b[39;49m\u001b[38;5;124;43m\"\u001b[39;49m\n\u001b[1;32m      6\u001b[0m \u001b[43m        \u001b[49m\u001b[43m}\u001b[49m\n\u001b[1;32m      7\u001b[0m \u001b[43m)\u001b[49m\n",
      "File \u001b[0;32msrc/dependency_injector/_cwiring.pyx:28\u001b[0m, in \u001b[0;36mdependency_injector._cwiring._get_sync_patched._patched\u001b[0;34m()\u001b[0m\n",
      "File \u001b[0;32m~/sandbox/lume-services/lume_services/models/model.py:440\u001b[0m, in \u001b[0;36mModel.run_and_return\u001b[0;34m(self, parameters, task_name, scheduling_service)\u001b[0m\n\u001b[1;32m    428\u001b[0m \u001b[38;5;66;03m# all of this should be inside the scheduling service and not here...\u001b[39;00m\n\u001b[1;32m    429\u001b[0m \n\u001b[1;32m    430\u001b[0m \u001b[38;5;66;03m# move all of scheduling service interface into  Flow and then dependencies\u001b[39;00m\n\u001b[1;32m    431\u001b[0m run_config \u001b[38;5;241m=\u001b[39m scheduling_service\u001b[38;5;241m.\u001b[39mbackend\u001b[38;5;241m.\u001b[39mrun_config_type(\n\u001b[1;32m    432\u001b[0m     env\u001b[38;5;241m=\u001b[39m{\n\u001b[1;32m    433\u001b[0m         \u001b[38;5;124m\"\u001b[39m\u001b[38;5;124mEXTRA_CONDA_PACKAGES\u001b[39m\u001b[38;5;124m\"\u001b[39m: conda_dependencies,\n\u001b[0;32m   (...)\u001b[0m\n\u001b[1;32m    437\u001b[0m     image\u001b[38;5;241m=\u001b[39mscheduling_service\u001b[38;5;241m.\u001b[39mbackend\u001b[38;5;241m.\u001b[39mconfig\u001b[38;5;241m.\u001b[39mdefault_image,\n\u001b[1;32m    438\u001b[0m )\n\u001b[0;32m--> 440\u001b[0m \u001b[38;5;28;43mself\u001b[39;49m\u001b[38;5;241;43m.\u001b[39;49m\u001b[43mdeployment\u001b[49m\u001b[38;5;241;43m.\u001b[39;49m\u001b[43mflow\u001b[49m\u001b[38;5;241;43m.\u001b[39;49m\u001b[43mrun_and_return\u001b[49m\u001b[43m(\u001b[49m\n\u001b[1;32m    441\u001b[0m \u001b[43m    \u001b[49m\u001b[43mparameters\u001b[49m\u001b[43m,\u001b[49m\n\u001b[1;32m    442\u001b[0m \u001b[43m    \u001b[49m\u001b[43mrun_config\u001b[49m\u001b[38;5;241;43m=\u001b[39;49m\u001b[43mrun_config\u001b[49m\u001b[43m,\u001b[49m\n\u001b[1;32m    443\u001b[0m \u001b[43m    \u001b[49m\u001b[43mtask_name\u001b[49m\u001b[38;5;241;43m=\u001b[39;49m\u001b[43mtask_name\u001b[49m\u001b[43m,\u001b[49m\n\u001b[1;32m    444\u001b[0m \u001b[43m    \u001b[49m\u001b[43mscheduling_service\u001b[49m\u001b[38;5;241;43m=\u001b[39;49m\u001b[43mscheduling_service\u001b[49m\u001b[43m,\u001b[49m\n\u001b[1;32m    445\u001b[0m \u001b[43m\u001b[49m\u001b[43m)\u001b[49m\n",
      "File \u001b[0;32msrc/dependency_injector/_cwiring.pyx:28\u001b[0m, in \u001b[0;36mdependency_injector._cwiring._get_sync_patched._patched\u001b[0;34m()\u001b[0m\n",
      "File \u001b[0;32m~/sandbox/lume-services/lume_services/flows/flow.py:254\u001b[0m, in \u001b[0;36mFlow.run_and_return\u001b[0;34m(self, parameters, run_config, task_name, scheduling_service)\u001b[0m\n\u001b[1;32m    246\u001b[0m     scheduling_service\u001b[38;5;241m.\u001b[39mrun_and_return(\n\u001b[1;32m    247\u001b[0m         parameters\u001b[38;5;241m=\u001b[39mparameters,\n\u001b[1;32m    248\u001b[0m         run_config\u001b[38;5;241m=\u001b[39mrun_config,\n\u001b[1;32m    249\u001b[0m         flow\u001b[38;5;241m=\u001b[39m\u001b[38;5;28mself\u001b[39m\u001b[38;5;241m.\u001b[39mprefect_flow,\n\u001b[1;32m    250\u001b[0m         task_name\u001b[38;5;241m=\u001b[39mtask_name,\n\u001b[1;32m    251\u001b[0m     )\n\u001b[1;32m    253\u001b[0m \u001b[38;5;28;01melif\u001b[39;00m \u001b[38;5;28misinstance\u001b[39m(scheduling_service\u001b[38;5;241m.\u001b[39mbackend, (ServerBackend,)):\n\u001b[0;32m--> 254\u001b[0m     \u001b[43mscheduling_service\u001b[49m\u001b[38;5;241;43m.\u001b[39;49m\u001b[43mrun_and_return\u001b[49m\u001b[43m(\u001b[49m\n\u001b[1;32m    255\u001b[0m \u001b[43m        \u001b[49m\u001b[43mparameters\u001b[49m\u001b[38;5;241;43m=\u001b[39;49m\u001b[43mparameters\u001b[49m\u001b[43m,\u001b[49m\n\u001b[1;32m    256\u001b[0m \u001b[43m        \u001b[49m\u001b[43mrun_config\u001b[49m\u001b[38;5;241;43m=\u001b[39;49m\u001b[43mrun_config\u001b[49m\u001b[43m,\u001b[49m\n\u001b[1;32m    257\u001b[0m \u001b[43m        \u001b[49m\u001b[43mflow_id\u001b[49m\u001b[38;5;241;43m=\u001b[39;49m\u001b[38;5;28;43mself\u001b[39;49m\u001b[38;5;241;43m.\u001b[39;49m\u001b[43mflow_id\u001b[49m\u001b[43m,\u001b[49m\n\u001b[1;32m    258\u001b[0m \u001b[43m        \u001b[49m\u001b[43mtask_name\u001b[49m\u001b[38;5;241;43m=\u001b[39;49m\u001b[43mtask_name\u001b[49m\u001b[43m,\u001b[49m\n\u001b[1;32m    259\u001b[0m \u001b[43m    \u001b[49m\u001b[43m)\u001b[49m\n",
      "File \u001b[0;32m~/sandbox/lume-services/lume_services/services/scheduling/service.py:152\u001b[0m, in \u001b[0;36mSchedulingService.run_and_return\u001b[0;34m(self, parameters, run_config, task_name, **kwargs)\u001b[0m\n\u001b[1;32m    117\u001b[0m \u001b[38;5;28;01mdef\u001b[39;00m \u001b[38;5;21mrun_and_return\u001b[39m(\n\u001b[1;32m    118\u001b[0m     \u001b[38;5;28mself\u001b[39m,\n\u001b[1;32m    119\u001b[0m     parameters: Optional[Dict[\u001b[38;5;28mstr\u001b[39m, Any]],\n\u001b[0;32m   (...)\u001b[0m\n\u001b[1;32m    122\u001b[0m     \u001b[38;5;241m*\u001b[39m\u001b[38;5;241m*\u001b[39mkwargs\n\u001b[1;32m    123\u001b[0m ) \u001b[38;5;241m-\u001b[39m\u001b[38;5;241m>\u001b[39m Any:\n\u001b[1;32m    124\u001b[0m     \u001b[38;5;124;03m\"\"\"Run a flow and return result. Implementations should cover instantiation of\u001b[39;00m\n\u001b[1;32m    125\u001b[0m \u001b[38;5;124;03m    run_config from kwargs as well as backend-specific kwargs.\u001b[39;00m\n\u001b[1;32m    126\u001b[0m \n\u001b[0;32m   (...)\u001b[0m\n\u001b[1;32m    150\u001b[0m \n\u001b[1;32m    151\u001b[0m \u001b[38;5;124;03m    \"\"\"\u001b[39;00m\n\u001b[0;32m--> 152\u001b[0m     \u001b[38;5;28;01mreturn\u001b[39;00m \u001b[38;5;28;43mself\u001b[39;49m\u001b[38;5;241;43m.\u001b[39;49m\u001b[43mbackend\u001b[49m\u001b[38;5;241;43m.\u001b[39;49m\u001b[43mrun_and_return\u001b[49m\u001b[43m(\u001b[49m\u001b[43mparameters\u001b[49m\u001b[43m,\u001b[49m\u001b[43m \u001b[49m\u001b[43mrun_config\u001b[49m\u001b[43m,\u001b[49m\u001b[43m \u001b[49m\u001b[43mtask_name\u001b[49m\u001b[43m,\u001b[49m\u001b[43m \u001b[49m\u001b[38;5;241;43m*\u001b[39;49m\u001b[38;5;241;43m*\u001b[39;49m\u001b[43mkwargs\u001b[49m\u001b[43m)\u001b[49m\n",
      "File \u001b[0;32m~/sandbox/lume-services/lume_services/services/scheduling/backends/server.py:341\u001b[0m, in \u001b[0;36mServerBackend.run_and_return\u001b[0;34m(self, parameters, run_config, task_name, flow_id, timeout, cancel_on_timeout, **kwargs)\u001b[0m\n\u001b[1;32m    339\u001b[0m     \u001b[38;5;28;01mif\u001b[39;00m cancel_on_timeout:\n\u001b[1;32m    340\u001b[0m         client\u001b[38;5;241m.\u001b[39mcancel_flow_run(flow_run_id\u001b[38;5;241m=\u001b[39mflow_run_id)\n\u001b[0;32m--> 341\u001b[0m     \u001b[38;5;28;01mraise\u001b[39;00m err\n\u001b[1;32m    343\u001b[0m logger\u001b[38;5;241m.\u001b[39mdebug(\u001b[38;5;124m\"\u001b[39m\u001b[38;5;124mWatched flow completed.\u001b[39m\u001b[38;5;124m\"\u001b[39m)\n\u001b[1;32m    344\u001b[0m flow_run \u001b[38;5;241m=\u001b[39m FlowRunView\u001b[38;5;241m.\u001b[39mfrom_flow_run_id(flow_run_id)\n",
      "File \u001b[0;32m~/sandbox/lume-services/lume_services/services/scheduling/backends/server.py:331\u001b[0m, in \u001b[0;36mServerBackend.run_and_return\u001b[0;34m(self, parameters, run_config, task_name, flow_id, timeout, cancel_on_timeout, **kwargs)\u001b[0m\n\u001b[1;32m    329\u001b[0m \u001b[38;5;66;03m# watch flow run and stream logs until timeout\u001b[39;00m\n\u001b[1;32m    330\u001b[0m \u001b[38;5;28;01mtry\u001b[39;00m:\n\u001b[0;32m--> 331\u001b[0m     \u001b[38;5;28;01mfor\u001b[39;00m log \u001b[38;5;129;01min\u001b[39;00m watch_flow_run(\n\u001b[1;32m    332\u001b[0m         flow_run_id,\n\u001b[1;32m    333\u001b[0m         stream_states\u001b[38;5;241m=\u001b[39m\u001b[38;5;28;01mTrue\u001b[39;00m,\n\u001b[1;32m    334\u001b[0m         stream_logs\u001b[38;5;241m=\u001b[39m\u001b[38;5;28;01mTrue\u001b[39;00m,\n\u001b[1;32m    335\u001b[0m         max_duration\u001b[38;5;241m=\u001b[39mtimeout,\n\u001b[1;32m    336\u001b[0m     ):\n\u001b[1;32m    337\u001b[0m         logger\u001b[38;5;241m.\u001b[39minfo(log)\n\u001b[1;32m    338\u001b[0m \u001b[38;5;28;01mexcept\u001b[39;00m \u001b[38;5;167;01mRuntimeError\u001b[39;00m \u001b[38;5;28;01mas\u001b[39;00m err:\n",
      "File \u001b[0;32m~/miniconda3/envs/lume-services-dev/lib/python3.9/site-packages/prefect/backend/flow_run.py:108\u001b[0m, in \u001b[0;36mwatch_flow_run\u001b[0;34m(flow_run_id, stream_states, stream_logs, max_duration)\u001b[0m\n\u001b[1;32m    106\u001b[0m \u001b[38;5;66;03m# Check whether run has exceeded `max_duration`\u001b[39;00m\n\u001b[1;32m    107\u001b[0m \u001b[38;5;28;01mif\u001b[39;00m total_time_elapsed_rounded \u001b[38;5;241m>\u001b[39m \u001b[38;5;28mint\u001b[39m(max_duration\u001b[38;5;241m.\u001b[39mtotal_seconds()):\n\u001b[0;32m--> 108\u001b[0m     \u001b[38;5;28;01mraise\u001b[39;00m \u001b[38;5;167;01mRuntimeError\u001b[39;00m(\n\u001b[1;32m    109\u001b[0m         \u001b[38;5;124mf\u001b[39m\u001b[38;5;124m\"\u001b[39m\u001b[38;5;124m`watch_flow_run` timed out after \u001b[39m\u001b[38;5;124m\"\u001b[39m\n\u001b[1;32m    110\u001b[0m         \u001b[38;5;124mf\u001b[39m\u001b[38;5;124m\"\u001b[39m\u001b[38;5;132;01m{\u001b[39;00m\u001b[38;5;241m24\u001b[39m \u001b[38;5;241m*\u001b[39m max_duration\u001b[38;5;241m.\u001b[39mdays \u001b[38;5;241m+\u001b[39m \u001b[38;5;28mround\u001b[39m(max_duration\u001b[38;5;241m.\u001b[39mseconds \u001b[38;5;241m/\u001b[39m (\u001b[38;5;241m60\u001b[39m \u001b[38;5;241m*\u001b[39m \u001b[38;5;241m60\u001b[39m), \u001b[38;5;241m1\u001b[39m)\u001b[38;5;132;01m}\u001b[39;00m\u001b[38;5;124m \u001b[39m\u001b[38;5;124m\"\u001b[39m\n\u001b[1;32m    111\u001b[0m         \u001b[38;5;124m\"\u001b[39m\u001b[38;5;124mhours of waiting for completion. \u001b[39m\u001b[38;5;124m\"\u001b[39m\n\u001b[1;32m    112\u001b[0m         \u001b[38;5;124mf\u001b[39m\u001b[38;5;124m\"\u001b[39m\u001b[38;5;124mYour flow run is still in state: \u001b[39m\u001b[38;5;132;01m{\u001b[39;00mflow_run\u001b[38;5;241m.\u001b[39mstate\u001b[38;5;132;01m}\u001b[39;00m\u001b[38;5;124m\"\u001b[39m\n\u001b[1;32m    113\u001b[0m     )\n\u001b[1;32m    115\u001b[0m \u001b[38;5;28;01mif\u001b[39;00m (\n\u001b[1;32m    116\u001b[0m     stream_states  \u001b[38;5;66;03m# The agent warning is counted as a state log\u001b[39;00m\n\u001b[1;32m    117\u001b[0m     \u001b[38;5;129;01mand\u001b[39;00m total_time_elapsed \u001b[38;5;241m>\u001b[39m\u001b[38;5;241m=\u001b[39m agent_warning_initial_wait\n\u001b[0;32m   (...)\u001b[0m\n\u001b[1;32m    123\u001b[0m     )\n\u001b[1;32m    124\u001b[0m ):\n\u001b[1;32m    125\u001b[0m     agent_msg \u001b[38;5;241m=\u001b[39m check_for_compatible_agents(flow_run\u001b[38;5;241m.\u001b[39mlabels)\n",
      "\u001b[0;31mRuntimeError\u001b[0m: `watch_flow_run` timed out after 0.0 hours of waiting for completion. Your flow run is still in state: <Submitted: \"Submitted for execution\">"
     ]
    }
   ],
   "source": [
    "model.run_and_return(parameters={\n",
    "                        \"input1\": \"hey\", \n",
    "                        \"input2\": \"jackie\", \n",
    "                        \"filename\": f\"/Users/jgarra/sandbox/lume-services/test_file.txt\", \n",
    "                        \"filesystem_identifier\":\"local\"\n",
    "        }\n",
    ")"
   ]
  },
  {
   "cell_type": "code",
   "execution_count": null,
   "id": "6acedc51",
   "metadata": {},
   "outputs": [],
   "source": []
  },
  {
   "cell_type": "code",
   "execution_count": null,
   "id": "540085e9",
   "metadata": {},
   "outputs": [],
   "source": []
  }
 ],
 "metadata": {
  "kernelspec": {
   "display_name": "Python 3 (ipykernel)",
   "language": "python",
   "name": "python3"
  },
  "language_info": {
   "codemirror_mode": {
    "name": "ipython",
    "version": 3
   },
   "file_extension": ".py",
   "mimetype": "text/x-python",
   "name": "python",
   "nbconvert_exporter": "python",
   "pygments_lexer": "ipython3",
   "version": "3.9.13"
  }
 },
 "nbformat": 4,
 "nbformat_minor": 5
}

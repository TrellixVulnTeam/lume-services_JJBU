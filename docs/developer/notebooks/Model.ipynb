{
 "cells": [
  {
   "cell_type": "markdown",
   "id": "a0aeb04c",
   "metadata": {},
   "source": [
    "# LUME-services\n",
    "\n",
    "### Configuration:\n",
    "\n",
    "Set the following environment variables:\n",
    "\n",
    "```\n",
    "export LUME_MODEL_DB__HOST=127.0.0.1\n",
    "export LUME_MODEL_DB__USER=root\n",
    "export LUME_MODEL_DB__PASSWORD=test\n",
    "export LUME_MODEL_DB__PORT=3306\n",
    "export LUME_MODEL_DB__DATABASE=model_db\n",
    "export LUME_MODEL_DB__CONNECTION__POOL_SIZE=1\n",
    "export LUME_PREFECT__SERVER__TAG=core-1.2.4\n",
    "export LUME_PREFECT__SERVER__HOST_PORT=4200\n",
    "export LUME_PREFECT__SERVER__HOST=http://localhost\n",
    "export LUME_PREFECT__AGENT__HOST_PORT=5000\n",
    "export LUME_PREFECT__AGENT__HOST=http://localhost\n",
    "export LUME_RESULTS_DB__HOST=127.0.0.1\n",
    "export LUME_RESULTS_DB__PORT=27017\n",
    "export LUME_RESULTS_DB__USERNAME=root\n",
    "export LUME_RESULTS_DB__PASSWORD=password\n",
    "export LUME_RESULTS_DB__DATABASE=test\n",
    "export LUME_PREFECT__BACKEND=server \n",
    "export LUME_BACKEND=docker\n",
    "export LUME_ENVIRONMENT__LOCAL_PIP_REPOSITORY=...\n",
    "export LUME_ENVIRONMENT__LOCAL_CONDA_CHANNEL_DIRECTORY=...\n",
    "```\n",
    "\n",
    "Start the docker services using:\n",
    "```\n",
    "lume-services docker start-services\n",
    "```"
   ]
  },
  {
   "cell_type": "code",
   "execution_count": 1,
   "id": "e183944c",
   "metadata": {},
   "outputs": [],
   "source": [
    "from lume_services.services.models.db import ModelDBConfig\n",
    "from lume_services.services.results.mongodb import MongodbResultsDBConfig\n",
    "from lume_services.services.scheduling.backends.server import (\n",
    "    PrefectAgentConfig,\n",
    "    PrefectConfig,\n",
    "    PrefectServerConfig,\n",
    ")\n",
    "\n",
    "from lume_services.services.files.filesystems import (\n",
    "    LocalFilesystem,\n",
    "    MountedFilesystem,\n",
    ")\n",
    "from lume_services.config import LUMEServicesSettings\n",
    "import logging\n",
    "logging.basicConfig(level=\"DEBUG\")\n",
    "\n",
    "model_db_config = ModelDBConfig(\n",
    "        host=\"127.0.0.1\",\n",
    "        port=\"3306\",\n",
    "        user=\"root\",\n",
    "        password=\"test\",\n",
    "        database=\"model_db\",\n",
    ")\n",
    "\n",
    "results_db_config = MongodbResultsDBConfig(\n",
    "    port=\"27017\",\n",
    "    host=\"127.0.0.1\",\n",
    "    username=\"root\",\n",
    "    database=\"test\",\n",
    "    password=\"password\",\n",
    ")\n",
    "\n",
    "prefect_config = PrefectConfig(\n",
    "    server=PrefectServerConfig(\n",
    "        host=\"http://localhost\", host_port=\"4200\", tag=\"core-1.2.4\"\n",
    "    ),\n",
    "    agent=PrefectAgentConfig(host=\"http://localhost\", host_port=\"5000\"),\n",
    "    backend=\"server\",\n",
    ")\n",
    "\n",
    "\n",
    "settings = LUMEServicesSettings(\n",
    "    model_db=model_db_config,\n",
    "    results_db=results_db_config,\n",
    "    prefect=prefect_config,\n",
    "    backend=\"docker\",\n",
    "    mounted_filesystem=None,\n",
    ")"
   ]
  },
  {
   "cell_type": "markdown",
   "id": "88cb7294",
   "metadata": {},
   "source": [
    "## Use LUME-services config to create injected services"
   ]
  },
  {
   "cell_type": "code",
   "execution_count": 2,
   "id": "3c1e88af",
   "metadata": {},
   "outputs": [
    {
     "name": "stderr",
     "output_type": "stream",
     "text": [
      "INFO:lume_services.config:Configuring LUME-services environment...\n",
      "DEBUG:h5py._conv:Creating converter from 7 to 5\n",
      "DEBUG:h5py._conv:Creating converter from 5 to 7\n",
      "DEBUG:h5py._conv:Creating converter from 7 to 5\n",
      "DEBUG:h5py._conv:Creating converter from 5 to 7\n",
      "INFO:lume_services.config:Environment configured.\n",
      "DEBUG:lume_services.config:Environment configured using {'model_db': {'host': '127.0.0.1', 'port': 3306, 'user': 'root', 'database': 'model_db', 'connection': {'pool_size': None, 'pool_pre_ping': True}, 'dialect_str': 'mysql+pymysql'}, 'results_db': {'username': 'root', 'host': '127.0.0.1', 'port': 27017, 'authMechanism': 'DEFAULT'}, 'prefect': {'server': {'tag': 'core-1.2.4', 'host': 'http://localhost', 'host_port': '4200', 'host_ip': '127.0.0.1'}, 'ui': {'host': 'http://localhost', 'host_port': '8080', 'host_ip': '127.0.0.1', 'apollo_url': 'http://localhost:4200/graphql'}, 'telemetry': {'enabled': True}, 'agent': {'host': 'http://localhost', 'host_port': '5000'}, 'home_dir': '~/.prefect', 'debug': False, 'backend': 'server', 'default_image': 'jgarrahan/lume-services-prefect:latest'}, 'mounted_filesystem': None, 'environment': {'local_pip_repository': '/Users/jacquelinegarrahan/sandbox/lume-services/dev/local_pip_repo', 'local_conda_channel_directory': '/Users/jacquelinegarrahan/sandbox/lume-services/dev/local_conda_channel', 'base_env_filepath': '/Users/jacquelinegarrahan/sandbox/lume-services/lume_services/docker/files/environment.yml', 'tmp_directory': '/tmp/lume-services', 'platform': 'linux-64', 'url_retry_count': 3, 'python_version': '3.9.13'}, 'backend': 'docker'}\n"
     ]
    }
   ],
   "source": [
    "from lume_services import config\n",
    "config.configure(settings)\n",
    "\n",
    "# initialize singletons\n",
    "model_db_service = config.context.model_db_service()\n",
    "results_db_service = config.context.results_db_service()\n",
    "scheduling_service = config.context.scheduling_service()"
   ]
  },
  {
   "cell_type": "markdown",
   "id": "e14910cc",
   "metadata": {},
   "source": [
    "## if you're running this many time, creation will fail because of uniqueness... You can reset since this is a dev server"
   ]
  },
  {
   "cell_type": "code",
   "execution_count": null,
   "id": "b1dae5e5",
   "metadata": {},
   "outputs": [],
   "source": [
    "#model_db_service._reset()"
   ]
  },
  {
   "cell_type": "markdown",
   "id": "0d4ba844",
   "metadata": {},
   "source": [
    "## Store example model, deployment, flow, and project"
   ]
  },
  {
   "cell_type": "code",
   "execution_count": 3,
   "id": "299e5321",
   "metadata": {},
   "outputs": [
    {
     "name": "stderr",
     "output_type": "stream",
     "text": [
      "INFO:lume_services.services.models.db.db:ModelDB inserting: INSERT INTO model (author, laboratory, facility, beampath, description) VALUES (:author, :laboratory, :facility, :beampath, :description)\n",
      "DEBUG:lume_services.services.models.db.db:ModelDB creating session.\n",
      "DEBUG:lume_services.services.models.db.db:ModelDB session created.\n",
      "INFO:lume_services.services.models.db.db:Sucessfully executed: INSERT INTO model (author, laboratory, facility, beampath, description) VALUES (:author, :laboratory, :facility, :beampath, :description)\n",
      "INFO:lume_services.services.models.db.db:ModelDB selecting: SELECT model.model_id, model.created, model.author, model.laboratory, model.facility, model.beampath, model.description \n",
      "FROM model \n",
      "WHERE model.model_id = :model_id_1\n",
      "DEBUG:lume_services.services.models.db.db:ModelDB creating session.\n",
      "DEBUG:lume_services.services.models.db.db:ModelDB session created.\n"
     ]
    }
   ],
   "source": [
    "from lume_services.models import Model\n",
    "\n",
    "model = Model.create_model(\n",
    "    author = \"Jackie Garrahan\",\n",
    "    laboratory = \"slac\",\n",
    "    facility = \"lcls\",\n",
    "    beampath = \"cu_hxr\",\n",
    "    description = \"test_model\"\n",
    ")"
   ]
  },
  {
   "cell_type": "code",
   "execution_count": 4,
   "id": "bcd2f83f",
   "metadata": {},
   "outputs": [
    {
     "name": "stderr",
     "output_type": "stream",
     "text": [
      "INFO:lume_services.services.models.db.db:ModelDB inserting: INSERT INTO project (project_name, description) VALUES (:project_name, :description)\n",
      "DEBUG:lume_services.services.models.db.db:ModelDB creating session.\n",
      "DEBUG:lume_services.services.models.db.db:ModelDB session created.\n",
      "INFO:lume_services.services.models.db.db:Sucessfully executed: INSERT INTO project (project_name, description) VALUES (:project_name, :description)\n"
     ]
    }
   ],
   "source": [
    "# create a project\n",
    "project_name = model_db_service.store_project(\n",
    "    project_name=\"test\", description=\"my_description\"\n",
    ")"
   ]
  },
  {
   "cell_type": "code",
   "execution_count": 5,
   "id": "a6cd5fa3",
   "metadata": {},
   "outputs": [
    {
     "name": "stderr",
     "output_type": "stream",
     "text": [
      "DEBUG:urllib3.connectionpool:Starting new HTTP connection (1): localhost:4200\n",
      "DEBUG:urllib3.connectionpool:http://localhost:4200 \"POST / HTTP/1.1\" 200 68\n",
      "DEBUG:urllib3.connectionpool:Starting new HTTP connection (1): localhost:4200\n",
      "DEBUG:urllib3.connectionpool:http://localhost:4200 \"POST / HTTP/1.1\" 200 74\n"
     ]
    }
   ],
   "source": [
    "scheduling_service.create_project(\"test\")"
   ]
  },
  {
   "cell_type": "markdown",
   "id": "bc23acff",
   "metadata": {},
   "source": [
    "## Let's use the source of the model we created in the demo"
   ]
  },
  {
   "cell_type": "code",
   "execution_count": 6,
   "id": "2346c829",
   "metadata": {},
   "outputs": [
    {
     "name": "stderr",
     "output_type": "stream",
     "text": [
      "INFO:lume_services.environment.solver:https://github.com/jacquelinegarrahan/my-model/releases/download/v0.0.9/my_model-0.0.9.tar.gz saved to /tmp/lume-services/my_model-0.0.9.tar.gz\n",
      "INFO:lume_services.environment.solver:https://github.com/jacquelinegarrahan/my-model/releases/download/v0.0.9/my_model-0.0.9.tar.gz saved to /tmp/lume-services/my_model-0.0.9.tar.gz\n",
      "INFO:lume_services.environment.solver:Using conda channels conda-forge to install dependencies.\n",
      "DEBUG:conda.cli.python_api:executing command >>>  conda create -p /tmp/lume-services/tmp_env\n",
      "DEBUG:conda.common.io:overtaking stderr and stdout\n",
      "DEBUG:conda.core.solve:solving prefix /tmp/lume-services/tmp_env\n",
      "  specs_to_remove: frozenset()\n",
      "  specs_to_add: frozenset()\n",
      "  prune: Null\n",
      "DEBUG:conda.resolve:restricting to unmanageable packages: __osx\n",
      "DEBUG:conda.resolve:restricting to unmanageable packages: __unix\n",
      "DEBUG:conda.resolve:restricting to unmanageable packages: __archspec\n",
      "DEBUG:conda.resolve:Retrieving packages for: \n",
      "DEBUG:conda.core.solve:specs_map with targets: OrderedDict([('__osx', MatchSpec(\"__osx\")), ('__unix', MatchSpec(\"__unix\")), ('__archspec', MatchSpec(\"__archspec\"))])\n",
      "DEBUG:conda.resolve:Retrieving packages for: \n",
      "  - __archspec\n",
      "  - __osx\n",
      "  - __unix\n",
      "DEBUG:conda.resolve:restricting to unmanageable packages: __unix\n",
      "DEBUG:conda.resolve:restricting to unmanageable packages: __osx\n",
      "DEBUG:conda.resolve:restricting to unmanageable packages: __archspec\n",
      "DEBUG:conda.common._logic:Invoking SAT with clause count: 2\n",
      "DEBUG:conda.resolve:Using SAT solver interface 'pycosat'.\n",
      "DEBUG:conda.resolve:gen_clauses returning with clause count: 9\n",
      "DEBUG:conda.resolve:generate_spec_constraints returning with clause count: 9\n",
      "DEBUG:conda.common._logic:Invoking SAT with clause count: 12\n",
      "DEBUG:conda.resolve:Checking if the current environment is consistent\n",
      "DEBUG:conda.core.solve:inconsistent precs: None\n",
      "DEBUG:conda.resolve:restricting to unmanageable packages: __unix\n",
      "DEBUG:conda.resolve:restricting to unmanageable packages: __osx\n",
      "DEBUG:conda.resolve:restricting to unmanageable packages: __archspec\n",
      "DEBUG:conda.resolve:gen_clauses returning with clause count: 9\n",
      "DEBUG:conda.resolve:generate_spec_constraints returning with clause count: 9\n",
      "DEBUG:conda.common._logic:Invoking SAT with clause count: 12\n",
      "DEBUG:conda.core.solve:final specs to add: \n",
      "  - __archspec\n",
      "  - __osx\n",
      "  - __unix\n",
      "DEBUG:conda.resolve:Solving for: \n",
      "  - 0: __unix target=None optional=False\n",
      "  - 1: __osx target=None optional=False\n",
      "  - 2: __archspec target=None optional=False\n",
      "DEBUG:conda.resolve:Solve: Getting reduced index of compliant packages\n",
      "DEBUG:conda.resolve:Solve: determining satisfiability\n",
      "DEBUG:conda.resolve:restricting to unmanageable packages: __unix\n",
      "DEBUG:conda.resolve:restricting to unmanageable packages: __osx\n",
      "DEBUG:conda.resolve:restricting to unmanageable packages: __archspec\n",
      "DEBUG:conda.resolve:gen_clauses returning with clause count: 9\n",
      "DEBUG:conda.resolve:generate_spec_constraints returning with clause count: 9\n",
      "DEBUG:conda.common._logic:Invoking SAT with clause count: 12\n",
      "DEBUG:conda.resolve:Requested specs: \n",
      "  - __archspec\n",
      "  - __osx\n",
      "  - __unix\n",
      "DEBUG:conda.resolve:Optional specs: \n",
      "DEBUG:conda.resolve:All other specs: \n",
      "DEBUG:conda.resolve:missing specs: \n",
      "DEBUG:conda.resolve:Solve: minimize removed packages\n",
      "DEBUG:conda.resolve:Solve: maximize versions of requested packages\n",
      "DEBUG:conda.common._logic:Empty objective, trivial solution\n",
      "DEBUG:conda.common._logic:Empty objective, trivial solution\n",
      "DEBUG:conda.resolve:Initial package channel/version metric: 0/0\n",
      "DEBUG:conda.resolve:Solve: minimize track_feature count\n",
      "DEBUG:conda.resolve:generate_feature_count returning with clause count: 12\n",
      "DEBUG:conda.common._logic:Empty objective, trivial solution\n",
      "DEBUG:conda.resolve:Track feature count: 0\n",
      "DEBUG:conda.common._logic:Empty objective, trivial solution\n",
      "DEBUG:conda.resolve:Package misfeature count: 0\n",
      "DEBUG:conda.resolve:Solve: maximize build numbers of requested packages\n",
      "DEBUG:conda.common._logic:Empty objective, trivial solution\n",
      "DEBUG:conda.resolve:Initial package build metric: 0\n",
      "DEBUG:conda.resolve:Solve: prefer arch over noarch for requested packages\n",
      "DEBUG:conda.common._logic:Empty objective, trivial solution\n",
      "DEBUG:conda.resolve:Noarch metric: 0\n",
      "DEBUG:conda.resolve:Solve: minimize number of optional installations\n",
      "DEBUG:conda.common._logic:Empty objective, trivial solution\n",
      "DEBUG:conda.resolve:Optional package install metric: 0\n",
      "DEBUG:conda.resolve:Solve: minimize number of necessary upgrades\n",
      "DEBUG:conda.common._logic:Empty objective, trivial solution\n",
      "DEBUG:conda.resolve:Dependency update count: 0\n",
      "DEBUG:conda.resolve:Solve: maximize versions and builds of indirect dependencies.  Prefer arch over noarch where equivalent.\n",
      "DEBUG:conda.common._logic:Empty objective, trivial solution\n",
      "DEBUG:conda.common._logic:Empty objective, trivial solution\n",
      "DEBUG:conda.common._logic:Empty objective, trivial solution\n",
      "DEBUG:conda.common._logic:Empty objective, trivial solution\n",
      "DEBUG:conda.resolve:Additional package channel/version/build/noarch metrics: 0/0/0/0\n",
      "DEBUG:conda.resolve:Solve: prune unnecessary packages\n",
      "DEBUG:conda.common._logic:Empty objective, trivial solution\n",
      "DEBUG:conda.resolve:Weak dependency count: 0\n",
      "DEBUG:conda.resolve:Looking for alternate solutions\n",
      "DEBUG:conda.core.solve:solved prefix /tmp/lume-services/tmp_env\n",
      "  solved_linked_dists:\n",
      "    \n",
      "\n",
      "DEBUG:conda.core.prefix_data:loading prefix record /Users/jacquelinegarrahan/miniconda3/envs/lume-services-dev/conda-meta/gettext-0.19.8.1-hd1a6beb_1008.json\n",
      "DEBUG:conda.core.prefix_data:loading prefix record /Users/jacquelinegarrahan/miniconda3/envs/lume-services-dev/conda-meta/hdf5-1.12.2-nompi_hc782337_100.json\n",
      "DEBUG:conda.core.prefix_data:loading prefix record /Users/jacquelinegarrahan/miniconda3/envs/lume-services-dev/conda-meta/python-slugify-6.1.2-pyhd8ed1ab_0.json\n",
      "DEBUG:conda.core.prefix_data:loading prefix record /Users/jacquelinegarrahan/miniconda3/envs/lume-services-dev/conda-meta/unidecode-1.3.4-pyhd8ed1ab_0.json\n",
      "DEBUG:conda.core.prefix_data:loading prefix record /Users/jacquelinegarrahan/miniconda3/envs/lume-services-dev/conda-meta/pthread-stubs-0.4-hc929b4f_1001.json\n",
      "DEBUG:conda.core.prefix_data:loading prefix record /Users/jacquelinegarrahan/miniconda3/envs/lume-services-dev/conda-meta/libxslt-1.1.35-heaa0ce8_0.json\n",
      "DEBUG:conda.core.prefix_data:loading prefix record /Users/jacquelinegarrahan/miniconda3/envs/lume-services-dev/conda-meta/pytest-7.1.3-py39h6e9494a_0.json\n",
      "DEBUG:conda.core.prefix_data:loading prefix record /Users/jacquelinegarrahan/miniconda3/envs/lume-services-dev/conda-meta/libzlib-1.2.12-hfe4f2af_2.json\n",
      "DEBUG:conda.core.prefix_data:loading prefix record /Users/jacquelinegarrahan/miniconda3/envs/lume-services-dev/conda-meta/tinycss2-1.1.1-pyhd8ed1ab_0.json\n",
      "DEBUG:conda.core.prefix_data:loading prefix record /Users/jacquelinegarrahan/miniconda3/envs/lume-services-dev/conda-meta/diagrams-0.21.0-pyhd8ed1ab_0.json\n",
      "DEBUG:conda.core.prefix_data:loading prefix record /Users/jacquelinegarrahan/miniconda3/envs/lume-services-dev/conda-meta/jupyterlab_pygments-0.2.2-pyhd8ed1ab_0.json\n",
      "DEBUG:conda.core.prefix_data:loading prefix record /Users/jacquelinegarrahan/miniconda3/envs/lume-services-dev/conda-meta/harfbuzz-5.1.0-h00bb2c2_0.json\n",
      "DEBUG:conda.core.prefix_data:loading prefix record /Users/jacquelinegarrahan/miniconda3/envs/lume-services-dev/conda-meta/six-1.16.0-pyh6c4a22f_0.json\n",
      "DEBUG:conda.core.prefix_data:loading prefix record /Users/jacquelinegarrahan/miniconda3/envs/lume-services-dev/conda-meta/flit-core-3.7.1-pyhd8ed1ab_0.json\n",
      "DEBUG:conda.core.prefix_data:loading prefix record /Users/jacquelinegarrahan/miniconda3/envs/lume-services-dev/conda-meta/libcxx-14.0.6-hccf4f1f_0.json\n",
      "DEBUG:conda.core.prefix_data:loading prefix record /Users/jacquelinegarrahan/miniconda3/envs/lume-services-dev/conda-meta/graphviz-5.0.1-ha8464fc_0.json\n",
      "DEBUG:conda.core.prefix_data:loading prefix record /Users/jacquelinegarrahan/miniconda3/envs/lume-services-dev/conda-meta/pure_eval-0.2.2-pyhd8ed1ab_0.json\n",
      "DEBUG:conda.core.prefix_data:loading prefix record /Users/jacquelinegarrahan/miniconda3/envs/lume-services-dev/conda-meta/lxml-4.9.1-py39h701faf5_0.json\n",
      "DEBUG:conda.core.prefix_data:loading prefix record /Users/jacquelinegarrahan/miniconda3/envs/lume-services-dev/conda-meta/gts-0.7.6-hccb3bdf_2.json\n"
     ]
    },
    {
     "name": "stderr",
     "output_type": "stream",
     "text": [
      "DEBUG:conda.core.prefix_data:loading prefix record /Users/jacquelinegarrahan/miniconda3/envs/lume-services-dev/conda-meta/platformdirs-2.5.2-pyhd8ed1ab_1.json\n",
      "DEBUG:conda.core.prefix_data:loading prefix record /Users/jacquelinegarrahan/miniconda3/envs/lume-services-dev/conda-meta/importlib-metadata-4.11.4-py39h6e9494a_0.json\n",
      "DEBUG:conda.core.prefix_data:loading prefix record /Users/jacquelinegarrahan/miniconda3/envs/lume-services-dev/conda-meta/toml-0.10.2-pyhd8ed1ab_0.json\n",
      "DEBUG:conda.core.prefix_data:loading prefix record /Users/jacquelinegarrahan/miniconda3/envs/lume-services-dev/conda-meta/mistune-0.8.4-py39h89e85a6_1005.json\n",
      "DEBUG:conda.core.prefix_data:loading prefix record /Users/jacquelinegarrahan/miniconda3/envs/lume-services-dev/conda-meta/typepy-1.3.0-pyhd8ed1ab_0.json\n",
      "DEBUG:conda.core.prefix_data:loading prefix record /Users/jacquelinegarrahan/miniconda3/envs/lume-services-dev/conda-meta/freetype-2.12.1-h3f81eb7_0.json\n",
      "DEBUG:conda.core.prefix_data:loading prefix record /Users/jacquelinegarrahan/miniconda3/envs/lume-services-dev/conda-meta/pyzmq-23.2.1-py39h74f9307_0.json\n",
      "DEBUG:conda.core.prefix_data:loading prefix record /Users/jacquelinegarrahan/miniconda3/envs/lume-services-dev/conda-meta/cloudpickle-2.1.0-pyhd8ed1ab_0.json\n",
      "DEBUG:conda.core.prefix_data:loading prefix record /Users/jacquelinegarrahan/miniconda3/envs/lume-services-dev/conda-meta/liblapack-3.9.0-16_osx64_openblas.json\n",
      "DEBUG:conda.core.prefix_data:loading prefix record /Users/jacquelinegarrahan/miniconda3/envs/lume-services-dev/conda-meta/mbstrdecoder-1.1.1-pyhd8ed1ab_0.json\n",
      "DEBUG:conda.core.prefix_data:loading prefix record /Users/jacquelinegarrahan/miniconda3/envs/lume-services-dev/conda-meta/zstd-1.5.2-hfa58983_4.json\n",
      "DEBUG:conda.core.prefix_data:loading prefix record /Users/jacquelinegarrahan/miniconda3/envs/lume-services-dev/conda-meta/iniconfig-1.1.1-pyh9f0ad1d_0.json\n",
      "DEBUG:conda.core.prefix_data:loading prefix record /Users/jacquelinegarrahan/miniconda3/envs/lume-services-dev/conda-meta/expat-2.4.8-h96cf925_0.json\n",
      "DEBUG:conda.core.prefix_data:loading prefix record /Users/jacquelinegarrahan/miniconda3/envs/lume-services-dev/conda-meta/pygments-2.13.0-pyhd8ed1ab_0.json\n",
      "DEBUG:conda.core.prefix_data:loading prefix record /Users/jacquelinegarrahan/miniconda3/envs/lume-services-dev/conda-meta/certifi-2022.6.15-pyhd8ed1ab_1.json\n",
      "DEBUG:conda.core.prefix_data:loading prefix record /Users/jacquelinegarrahan/miniconda3/envs/lume-services-dev/conda-meta/yaml-0.2.5-h0d85af4_2.json\n",
      "DEBUG:conda.core.prefix_data:loading prefix record /Users/jacquelinegarrahan/miniconda3/envs/lume-services-dev/conda-meta/zeromq-4.3.4-he49afe7_1.json\n",
      "DEBUG:conda.core.prefix_data:loading prefix record /Users/jacquelinegarrahan/miniconda3/envs/lume-services-dev/conda-meta/xorg-libxau-1.0.9-h35c211d_0.json\n",
      "DEBUG:conda.core.prefix_data:loading prefix record /Users/jacquelinegarrahan/miniconda3/envs/lume-services-dev/conda-meta/brotli-1.0.9-h5eb16cf_7.json\n",
      "DEBUG:conda.core.prefix_data:loading prefix record /Users/jacquelinegarrahan/miniconda3/envs/lume-services-dev/conda-meta/pyyaml-6.0-py39h63b48b0_4.json\n",
      "DEBUG:conda.core.prefix_data:loading prefix record /Users/jacquelinegarrahan/miniconda3/envs/lume-services-dev/conda-meta/impact-t-2.2-nompi_h62c932c_100.json\n",
      "DEBUG:conda.core.prefix_data:loading prefix record /Users/jacquelinegarrahan/miniconda3/envs/lume-services-dev/conda-meta/mkdocs-autorefs-0.4.1-pyhd8ed1ab_1.json\n",
      "DEBUG:conda.core.prefix_data:loading prefix record /Users/jacquelinegarrahan/miniconda3/envs/lume-services-dev/conda-meta/notebook-shim-0.1.0-pyhd8ed1ab_0.json\n",
      "DEBUG:conda.core.prefix_data:loading prefix record /Users/jacquelinegarrahan/miniconda3/envs/lume-services-dev/conda-meta/nest-asyncio-1.5.5-pyhd8ed1ab_0.json\n",
      "DEBUG:conda.core.prefix_data:loading prefix record /Users/jacquelinegarrahan/miniconda3/envs/lume-services-dev/conda-meta/cairo-1.16.0-h904041c_1013.json\n",
      "DEBUG:conda.core.prefix_data:loading prefix record /Users/jacquelinegarrahan/miniconda3/envs/lume-services-dev/conda-meta/scipy-1.9.1-py39h9488793_0.json\n",
      "DEBUG:conda.core.prefix_data:loading prefix record /Users/jacquelinegarrahan/miniconda3/envs/lume-services-dev/conda-meta/libgfortran5-11.3.0-h082f757_25.json\n",
      "DEBUG:conda.core.prefix_data:loading prefix record /Users/jacquelinegarrahan/miniconda3/envs/lume-services-dev/conda-meta/pathvalidate-2.5.2-pyhd8ed1ab_0.json\n",
      "DEBUG:conda.core.prefix_data:loading prefix record /Users/jacquelinegarrahan/miniconda3/envs/lume-services-dev/conda-meta/send2trash-1.8.0-pyhd8ed1ab_0.json\n",
      "DEBUG:conda.core.prefix_data:loading prefix record /Users/jacquelinegarrahan/miniconda3/envs/lume-services-dev/conda-meta/zipp-3.8.1-pyhd8ed1ab_0.json\n",
      "DEBUG:conda.core.prefix_data:loading prefix record /Users/jacquelinegarrahan/miniconda3/envs/lume-services-dev/conda-meta/pre-commit-2.20.0-py39h6e9494a_0.json\n",
      "DEBUG:conda.core.prefix_data:loading prefix record /Users/jacquelinegarrahan/miniconda3/envs/lume-services-dev/conda-meta/websocket-client-1.4.1-pyhd8ed1ab_0.json\n",
      "DEBUG:conda.core.prefix_data:loading prefix record /Users/jacquelinegarrahan/miniconda3/envs/lume-services-dev/conda-meta/lcms2-2.12-h577c468_0.json\n",
      "DEBUG:conda.core.prefix_data:loading prefix record /Users/jacquelinegarrahan/miniconda3/envs/lume-services-dev/conda-meta/typing_extensions-4.3.0-pyha770c72_0.json\n",
      "DEBUG:conda.core.prefix_data:loading prefix record /Users/jacquelinegarrahan/miniconda3/envs/lume-services-dev/conda-meta/cycler-0.11.0-pyhd8ed1ab_0.json\n",
      "DEBUG:conda.core.prefix_data:loading prefix record /Users/jacquelinegarrahan/miniconda3/envs/lume-services-dev/conda-meta/psutil-5.9.2-py39ha30fb19_0.json\n",
      "DEBUG:conda.core.prefix_data:loading prefix record /Users/jacquelinegarrahan/miniconda3/envs/lume-services-dev/conda-meta/libxml2-2.9.14-hea49891_4.json\n",
      "DEBUG:conda.core.prefix_data:loading prefix record /Users/jacquelinegarrahan/miniconda3/envs/lume-services-dev/conda-meta/distro-1.6.0-pyhd8ed1ab_0.json\n",
      "DEBUG:conda.core.prefix_data:loading prefix record /Users/jacquelinegarrahan/miniconda3/envs/lume-services-dev/conda-meta/gtk2-2.24.33-h7c1209e_2.json\n",
      "DEBUG:conda.core.prefix_data:loading prefix record /Users/jacquelinegarrahan/miniconda3/envs/lume-services-dev/conda-meta/distributed-2022.9.0-pyhd8ed1ab_0.json\n",
      "DEBUG:conda.core.prefix_data:loading prefix record /Users/jacquelinegarrahan/miniconda3/envs/lume-services-dev/conda-meta/reproc-cpp-14.2.3-he49afe7_0.json\n",
      "DEBUG:conda.core.prefix_data:loading prefix record /Users/jacquelinegarrahan/miniconda3/envs/lume-services-dev/conda-meta/pymongo-4.2.0-py39hd408605_1.json\n",
      "DEBUG:conda.core.prefix_data:loading prefix record /Users/jacquelinegarrahan/miniconda3/envs/lume-services-dev/conda-meta/reproc-14.2.3-h0d85af4_0.json\n",
      "DEBUG:conda.core.prefix_data:loading prefix record /Users/jacquelinegarrahan/miniconda3/envs/lume-services-dev/conda-meta/libnghttp2-1.47.0-h7cbc4dc_1.json\n",
      "DEBUG:conda.core.prefix_data:loading prefix record /Users/jacquelinegarrahan/miniconda3/envs/lume-services-dev/conda-meta/mdurl-0.1.0-pyhd8ed1ab_0.json\n",
      "DEBUG:conda.core.prefix_data:loading prefix record /Users/jacquelinegarrahan/miniconda3/envs/lume-services-dev/conda-meta/python-3.9.13-h57e37ff_0_cpython.json\n",
      "DEBUG:conda.core.prefix_data:loading prefix record /Users/jacquelinegarrahan/miniconda3/envs/lume-services-dev/conda-meta/mkdocs-material-extensions-1.0.3-pyhd8ed1ab_2.json\n",
      "DEBUG:conda.core.prefix_data:loading prefix record /Users/jacquelinegarrahan/miniconda3/envs/lume-services-dev/conda-meta/backcall-0.2.0-pyh9f0ad1d_0.json\n",
      "DEBUG:conda.core.prefix_data:loading prefix record /Users/jacquelinegarrahan/miniconda3/envs/lume-services-dev/conda-meta/docker-compose-1.29.2-py39h6e9494a_1.json\n",
      "DEBUG:conda.core.prefix_data:loading prefix record /Users/jacquelinegarrahan/miniconda3/envs/lume-services-dev/conda-meta/libsolv-0.7.22-hd9580d2_0.json\n",
      "DEBUG:conda.core.prefix_data:loading prefix record /Users/jacquelinegarrahan/miniconda3/envs/lume-services-dev/conda-meta/libssh2-1.10.0-h7535e13_3.json\n",
      "DEBUG:conda.core.prefix_data:loading prefix record /Users/jacquelinegarrahan/miniconda3/envs/lume-services-dev/conda-meta/matplotlib-base-3.5.3-py39h35e3ac7_2.json\n",
      "DEBUG:conda.core.prefix_data:loading prefix record /Users/jacquelinegarrahan/miniconda3/envs/lume-services-dev/conda-meta/attrs-22.1.0-pyh71513ae_1.json\n"
     ]
    },
    {
     "name": "stderr",
     "output_type": "stream",
     "text": [
      "DEBUG:conda.core.prefix_data:loading prefix record /Users/jacquelinegarrahan/miniconda3/envs/lume-services-dev/conda-meta/mergedeep-1.3.4-pyhd8ed1ab_0.json\n",
      "DEBUG:conda.core.prefix_data:loading prefix record /Users/jacquelinegarrahan/miniconda3/envs/lume-services-dev/conda-meta/glob2-0.7-py_0.json\n",
      "DEBUG:conda.core.prefix_data:loading prefix record /Users/jacquelinegarrahan/miniconda3/envs/lume-services-dev/conda-meta/python-dateutil-2.8.2-pyhd8ed1ab_0.json\n",
      "DEBUG:conda.core.prefix_data:loading prefix record /Users/jacquelinegarrahan/miniconda3/envs/lume-services-dev/conda-meta/mypy_extensions-0.4.3-py39h6e9494a_5.json\n",
      "DEBUG:conda.core.prefix_data:loading prefix record /Users/jacquelinegarrahan/miniconda3/envs/lume-services-dev/conda-meta/libopenblas-0.3.21-openmp_h429af6e_3.json\n",
      "DEBUG:conda.core.prefix_data:loading prefix record /Users/jacquelinegarrahan/miniconda3/envs/lume-services-dev/conda-meta/cached_property-1.5.2-pyha770c72_1.json\n",
      "DEBUG:conda.core.prefix_data:loading prefix record /Users/jacquelinegarrahan/miniconda3/envs/lume-services-dev/conda-meta/locket-1.0.0-pyhd8ed1ab_0.json\n",
      "DEBUG:conda.core.prefix_data:loading prefix record /Users/jacquelinegarrahan/miniconda3/envs/lume-services-dev/conda-meta/urllib3-1.26.11-pyhd8ed1ab_0.json\n",
      "DEBUG:conda.core.prefix_data:loading prefix record /Users/jacquelinegarrahan/miniconda3/envs/lume-services-dev/conda-meta/xorg-libxdmcp-1.1.3-h35c211d_0.json\n",
      "DEBUG:conda.core.prefix_data:loading prefix record /Users/jacquelinegarrahan/miniconda3/envs/lume-services-dev/conda-meta/sqlalchemy-1.4.41-py39ha30fb19_0.json\n",
      "DEBUG:conda.core.prefix_data:loading prefix record /Users/jacquelinegarrahan/miniconda3/envs/lume-services-dev/conda-meta/pandas-1.4.4-py39hca71b8a_0.json\n",
      "DEBUG:conda.core.prefix_data:loading prefix record /Users/jacquelinegarrahan/miniconda3/envs/lume-services-dev/conda-meta/toolz-0.12.0-pyhd8ed1ab_0.json\n",
      "DEBUG:conda.core.prefix_data:loading prefix record /Users/jacquelinegarrahan/miniconda3/envs/lume-services-dev/conda-meta/ncurses-6.3-h96cf925_1.json\n",
      "DEBUG:conda.core.prefix_data:loading prefix record /Users/jacquelinegarrahan/miniconda3/envs/lume-services-dev/conda-meta/pyyaml-env-tag-0.1-pyhd8ed1ab_0.json\n",
      "DEBUG:conda.core.prefix_data:loading prefix record /Users/jacquelinegarrahan/miniconda3/envs/lume-services-dev/conda-meta/appdirs-1.4.4-pyh9f0ad1d_0.json\n",
      "DEBUG:conda.core.prefix_data:loading prefix record /Users/jacquelinegarrahan/miniconda3/envs/lume-services-dev/conda-meta/nbconvert-core-6.5.3-pyhd8ed1ab_0.json\n",
      "DEBUG:conda.core.prefix_data:loading prefix record /Users/jacquelinegarrahan/miniconda3/envs/lume-services-dev/conda-meta/openpmd-beamphysics-0.6.2-pyhd8ed1ab_0.json\n",
      "DEBUG:conda.core.prefix_data:loading prefix record /Users/jacquelinegarrahan/miniconda3/envs/lume-services-dev/conda-meta/pcre-8.45-he49afe7_0.json\n",
      "DEBUG:conda.core.prefix_data:loading prefix record /Users/jacquelinegarrahan/miniconda3/envs/lume-services-dev/conda-meta/font-ttf-source-code-pro-2.038-h77eed37_0.json\n",
      "DEBUG:conda.core.prefix_data:loading prefix record /Users/jacquelinegarrahan/miniconda3/envs/lume-services-dev/conda-meta/libedit-3.1.20191231-h0678c8f_2.json\n",
      "DEBUG:conda.core.prefix_data:loading prefix record /Users/jacquelinegarrahan/miniconda3/envs/lume-services-dev/conda-meta/identify-2.5.5-pyhd8ed1ab_0.json\n",
      "DEBUG:conda.core.prefix_data:loading prefix record /Users/jacquelinegarrahan/miniconda3/envs/lume-services-dev/conda-meta/ptyprocess-0.7.0-pyhd3deb0d_0.json\n",
      "DEBUG:conda.core.prefix_data:loading prefix record /Users/jacquelinegarrahan/miniconda3/envs/lume-services-dev/conda-meta/pickleshare-0.7.5-py_1003.json\n",
      "DEBUG:conda.core.prefix_data:loading prefix record /Users/jacquelinegarrahan/miniconda3/envs/lume-services-dev/conda-meta/packaging-21.3-pyhd8ed1ab_0.json\n",
      "DEBUG:conda.core.prefix_data:loading prefix record /Users/jacquelinegarrahan/miniconda3/envs/lume-services-dev/conda-meta/mkdocstrings-python-0.7.1-pyhd8ed1ab_0.json\n",
      "DEBUG:conda.core.prefix_data:loading prefix record /Users/jacquelinegarrahan/miniconda3/envs/lume-services-dev/conda-meta/cached-property-1.5.2-hd8ed1ab_1.json\n",
      "DEBUG:conda.core.prefix_data:loading prefix record /Users/jacquelinegarrahan/miniconda3/envs/lume-services-dev/conda-meta/griffe-0.22.0-py39h6e9494a_0.json\n",
      "DEBUG:conda.core.prefix_data:loading prefix record /Users/jacquelinegarrahan/miniconda3/envs/lume-services-dev/conda-meta/pysocks-1.7.1-pyha2e5f31_6.json\n",
      "DEBUG:conda.core.prefix_data:loading prefix record /Users/jacquelinegarrahan/miniconda3/envs/lume-services-dev/conda-meta/mamba-0.25.0-py39ha435c47_2.json\n",
      "DEBUG:conda.core.prefix_data:loading prefix record /Users/jacquelinegarrahan/miniconda3/envs/lume-services-dev/conda-meta/pandocfilters-1.5.0-pyhd8ed1ab_0.json\n",
      "DEBUG:conda.core.prefix_data:loading prefix record /Users/jacquelinegarrahan/miniconda3/envs/lume-services-dev/conda-meta/jupyterlab_server-2.15.1-pyhd8ed1ab_0.json\n",
      "DEBUG:conda.core.prefix_data:loading prefix record /Users/jacquelinegarrahan/miniconda3/envs/lume-services-dev/conda-meta/libglib-2.72.1-hfbcb929_0.json\n",
      "DEBUG:conda.core.prefix_data:loading prefix record /Users/jacquelinegarrahan/miniconda3/envs/lume-services-dev/conda-meta/black-22.6.0-py39h6e9494a_2.json\n",
      "DEBUG:conda.core.prefix_data:loading prefix record /Users/jacquelinegarrahan/miniconda3/envs/lume-services-dev/conda-meta/fsspec-2022.8.2-pyhd8ed1ab_0.json\n",
      "DEBUG:conda.core.prefix_data:loading prefix record /Users/jacquelinegarrahan/miniconda3/envs/lume-services-dev/conda-meta/py-lief-0.12.1-py39hd91caee_0.json\n",
      "DEBUG:conda.core.prefix_data:loading prefix record /Users/jacquelinegarrahan/miniconda3/envs/lume-services-dev/conda-meta/libiconv-1.16-haf1e3a3_0.json\n",
      "DEBUG:conda.core.prefix_data:loading prefix record /Users/jacquelinegarrahan/miniconda3/envs/lume-services-dev/conda-meta/wheel-0.37.1-pyhd8ed1ab_0.json\n",
      "DEBUG:conda.core.prefix_data:loading prefix record /Users/jacquelinegarrahan/miniconda3/envs/lume-services-dev/conda-meta/pathspec-0.10.1-pyhd8ed1ab_0.json\n",
      "DEBUG:conda.core.prefix_data:loading prefix record /Users/jacquelinegarrahan/miniconda3/envs/lume-services-dev/conda-meta/chardet-4.0.0-py39h6e9494a_3.json\n",
      "DEBUG:conda.core.prefix_data:loading prefix record /Users/jacquelinegarrahan/miniconda3/envs/lume-services-dev/conda-meta/greenlet-1.1.3-py39h7a8716b_0.json\n",
      "DEBUG:conda.core.prefix_data:loading prefix record /Users/jacquelinegarrahan/miniconda3/envs/lume-services-dev/conda-meta/soupsieve-2.3.2.post1-pyhd8ed1ab_0.json\n",
      "DEBUG:conda.core.prefix_data:loading prefix record /Users/jacquelinegarrahan/miniconda3/envs/lume-services-dev/conda-meta/nbconvert-6.5.3-pyhd8ed1ab_0.json\n",
      "DEBUG:conda.core.prefix_data:loading prefix record /Users/jacquelinegarrahan/miniconda3/envs/lume-services-dev/conda-meta/jinja2-3.1.2-pyhd8ed1ab_1.json\n",
      "DEBUG:conda.core.prefix_data:loading prefix record /Users/jacquelinegarrahan/miniconda3/envs/lume-services-dev/conda-meta/nbformat-5.4.0-pyhd8ed1ab_0.json\n",
      "DEBUG:conda.core.prefix_data:loading prefix record /Users/jacquelinegarrahan/miniconda3/envs/lume-services-dev/conda-meta/ukkonen-1.0.1-py39h7248d28_2.json\n",
      "DEBUG:conda.core.prefix_data:loading prefix record /Users/jacquelinegarrahan/miniconda3/envs/lume-services-dev/conda-meta/anyio-3.6.1-pyhd8ed1ab_1.json\n",
      "DEBUG:conda.core.prefix_data:loading prefix record /Users/jacquelinegarrahan/miniconda3/envs/lume-services-dev/conda-meta/libcblas-3.9.0-16_osx64_openblas.json\n",
      "DEBUG:conda.core.prefix_data:loading prefix record /Users/jacquelinegarrahan/miniconda3/envs/lume-services-dev/conda-meta/jpeg-9e-hac89ed1_2.json\n",
      "DEBUG:conda.core.prefix_data:loading prefix record /Users/jacquelinegarrahan/miniconda3/envs/lume-services-dev/conda-meta/munkres-1.1.4-pyh9f0ad1d_0.json\n",
      "DEBUG:conda.core.prefix_data:loading prefix record /Users/jacquelinegarrahan/miniconda3/envs/lume-services-dev/conda-meta/backports-1.0-py_2.json\n",
      "DEBUG:conda.core.prefix_data:loading prefix record /Users/jacquelinegarrahan/miniconda3/envs/lume-services-dev/conda-meta/typing-extensions-4.3.0-hd8ed1ab_0.json\n",
      "DEBUG:conda.core.prefix_data:loading prefix record /Users/jacquelinegarrahan/miniconda3/envs/lume-services-dev/conda-meta/markupsafe-2.1.1-py39h63b48b0_1.json\n",
      "DEBUG:conda.core.prefix_data:loading prefix record /Users/jacquelinegarrahan/miniconda3/envs/lume-services-dev/conda-meta/filelock-3.8.0-pyhd8ed1ab_0.json\n"
     ]
    },
    {
     "name": "stderr",
     "output_type": "stream",
     "text": [
      "DEBUG:conda.core.prefix_data:loading prefix record /Users/jacquelinegarrahan/miniconda3/envs/lume-services-dev/conda-meta/requests-2.28.1-pyhd8ed1ab_1.json\n",
      "DEBUG:conda.core.prefix_data:loading prefix record /Users/jacquelinegarrahan/miniconda3/envs/lume-services-dev/conda-meta/webencodings-0.5.1-py_1.json\n",
      "DEBUG:conda.core.prefix_data:loading prefix record /Users/jacquelinegarrahan/miniconda3/envs/lume-services-dev/conda-meta/coverage-6.4.4-py39h6218fd2_0.json\n",
      "DEBUG:conda.core.prefix_data:loading prefix record /Users/jacquelinegarrahan/miniconda3/envs/lume-services-dev/conda-meta/pluggy-1.0.0-py39h6e9494a_3.json\n",
      "DEBUG:conda.core.prefix_data:loading prefix record /Users/jacquelinegarrahan/miniconda3/envs/lume-services-dev/conda-meta/mccabe-0.7.0-pyhd8ed1ab_0.json\n",
      "DEBUG:conda.core.prefix_data:loading prefix record /Users/jacquelinegarrahan/miniconda3/envs/lume-services-dev/conda-meta/zlib-1.2.12-hfe4f2af_2.json\n",
      "DEBUG:conda.core.prefix_data:loading prefix record /Users/jacquelinegarrahan/miniconda3/envs/lume-services-dev/conda-meta/brotli-bin-1.0.9-h5eb16cf_7.json\n",
      "DEBUG:conda.core.prefix_data:loading prefix record /Users/jacquelinegarrahan/miniconda3/envs/lume-services-dev/conda-meta/zict-2.2.0-pyhd8ed1ab_0.json\n",
      "DEBUG:conda.core.prefix_data:loading prefix record /Users/jacquelinegarrahan/miniconda3/envs/lume-services-dev/conda-meta/ghp-import-2.1.0-pyhd8ed1ab_0.json\n",
      "DEBUG:conda.core.prefix_data:loading prefix record /Users/jacquelinegarrahan/miniconda3/envs/lume-services-dev/conda-meta/cctools-973.0.1-h351d84c_10.json\n",
      "DEBUG:conda.core.prefix_data:loading prefix record /Users/jacquelinegarrahan/miniconda3/envs/lume-services-dev/conda-meta/jupyterlab-3.4.6-pyhd8ed1ab_0.json\n",
      "DEBUG:conda.core.prefix_data:loading prefix record /Users/jacquelinegarrahan/miniconda3/envs/lume-services-dev/conda-meta/cffi-1.15.1-py39hae9ecf2_0.json\n",
      "DEBUG:conda.core.prefix_data:loading prefix record /Users/jacquelinegarrahan/miniconda3/envs/lume-services-dev/conda-meta/asttokens-2.0.8-pyhd8ed1ab_0.json\n",
      "DEBUG:conda.core.prefix_data:loading prefix record /Users/jacquelinegarrahan/miniconda3/envs/lume-services-dev/conda-meta/markdown-it-py-2.1.0-pyhd8ed1ab_0.json\n",
      "DEBUG:conda.core.prefix_data:loading prefix record /Users/jacquelinegarrahan/miniconda3/envs/lume-services-dev/conda-meta/python-libarchive-c-4.0-py39h6e9494a_1.json\n",
      "DEBUG:conda.core.prefix_data:loading prefix record /Users/jacquelinegarrahan/miniconda3/envs/lume-services-dev/conda-meta/prometheus_client-0.14.1-pyhd8ed1ab_0.json\n",
      "DEBUG:conda.core.prefix_data:loading prefix record /Users/jacquelinegarrahan/miniconda3/envs/lume-services-dev/conda-meta/ld64_osx-64-609-h6fbe7a8_10.json\n",
      "DEBUG:conda.core.prefix_data:loading prefix record /Users/jacquelinegarrahan/miniconda3/envs/lume-services-dev/conda-meta/pyfakefs-4.5.6-pyhd8ed1ab_0.json\n",
      "DEBUG:conda.core.prefix_data:loading prefix record /Users/jacquelinegarrahan/miniconda3/envs/lume-services-dev/conda-meta/nbconvert-pandoc-6.5.3-pyhd8ed1ab_0.json\n",
      "DEBUG:conda.core.prefix_data:loading prefix record /Users/jacquelinegarrahan/miniconda3/envs/lume-services-dev/conda-meta/python-graphviz-0.19.2-pyhaef67bd_0.json\n",
      "DEBUG:conda.core.prefix_data:loading prefix record /Users/jacquelinegarrahan/miniconda3/envs/lume-services-dev/conda-meta/pixman-0.40.0-hbcb3906_0.json\n",
      "DEBUG:conda.core.prefix_data:loading prefix record /Users/jacquelinegarrahan/miniconda3/envs/lume-services-dev/conda-meta/sniffio-1.3.0-pyhd8ed1ab_0.json\n",
      "DEBUG:conda.core.prefix_data:loading prefix record /Users/jacquelinegarrahan/miniconda3/envs/lume-services-dev/conda-meta/ca-certificates-2022.6.15-h033912b_0.json\n",
      "DEBUG:conda.core.prefix_data:loading prefix record /Users/jacquelinegarrahan/miniconda3/envs/lume-services-dev/conda-meta/tabledata-1.3.0-pyhd8ed1ab_0.json\n",
      "DEBUG:conda.core.prefix_data:loading prefix record /Users/jacquelinegarrahan/miniconda3/envs/lume-services-dev/conda-meta/tornado-6.1-py39h63b48b0_3.json\n",
      "DEBUG:conda.core.prefix_data:loading prefix record /Users/jacquelinegarrahan/miniconda3/envs/lume-services-dev/conda-meta/ipython-8.5.0-pyhd1c38e8_1.json\n",
      "DEBUG:conda.core.prefix_data:loading prefix record /Users/jacquelinegarrahan/miniconda3/envs/lume-services-dev/conda-meta/numpy-1.23.2-py39h62c883e_0.json\n",
      "DEBUG:conda.core.prefix_data:loading prefix record /Users/jacquelinegarrahan/miniconda3/envs/lume-services-dev/conda-meta/natsort-8.2.0-pyhd8ed1ab_0.json\n",
      "DEBUG:conda.core.prefix_data:loading prefix record /Users/jacquelinegarrahan/miniconda3/envs/lume-services-dev/conda-meta/font-ttf-ubuntu-0.83-hab24e00_0.json\n",
      "DEBUG:conda.core.prefix_data:loading prefix record /Users/jacquelinegarrahan/miniconda3/envs/lume-services-dev/conda-meta/stack_data-0.5.0-pyhd8ed1ab_0.json\n",
      "DEBUG:conda.core.prefix_data:loading prefix record /Users/jacquelinegarrahan/miniconda3/envs/lume-services-dev/conda-meta/lume-model-1.4-pyhd8ed1ab_1.json\n",
      "DEBUG:conda.core.prefix_data:loading prefix record /Users/jacquelinegarrahan/miniconda3/envs/lume-services-dev/conda-meta/bokeh-2.4.3-pyhd8ed1ab_3.json\n",
      "DEBUG:conda.core.prefix_data:loading prefix record /Users/jacquelinegarrahan/miniconda3/envs/lume-services-dev/conda-meta/giflib-5.2.1-hbcb3906_2.json\n",
      "DEBUG:conda.core.prefix_data:loading prefix record /Users/jacquelinegarrahan/miniconda3/envs/lume-services-dev/conda-meta/libpng-1.6.37-h5481273_4.json\n",
      "DEBUG:conda.core.prefix_data:loading prefix record /Users/jacquelinegarrahan/miniconda3/envs/lume-services-dev/conda-meta/ripgrep-13.0.0-hbbacdb1_2.json\n",
      "DEBUG:conda.core.prefix_data:loading prefix record /Users/jacquelinegarrahan/miniconda3/envs/lume-services-dev/conda-meta/colorama-0.4.5-pyhd8ed1ab_0.json\n",
      "DEBUG:conda.core.prefix_data:loading prefix record /Users/jacquelinegarrahan/miniconda3/envs/lume-services-dev/conda-meta/distlib-0.3.5-pyhd8ed1ab_0.json\n",
      "DEBUG:conda.core.prefix_data:loading prefix record /Users/jacquelinegarrahan/miniconda3/envs/lume-services-dev/conda-meta/mkdocs-macros-plugin-0.7.0-pyhd8ed1ab_0.json\n",
      "DEBUG:conda.core.prefix_data:loading prefix record /Users/jacquelinegarrahan/miniconda3/envs/lume-services-dev/conda-meta/text-unidecode-1.3-py_0.json\n",
      "DEBUG:conda.core.prefix_data:loading prefix record /Users/jacquelinegarrahan/miniconda3/envs/lume-services-dev/conda-meta/cctools_osx-64-973.0.1-h3eff9a4_10.json\n",
      "DEBUG:conda.core.prefix_data:loading prefix record /Users/jacquelinegarrahan/miniconda3/envs/lume-services-dev/conda-meta/libtiff-4.4.0-h5e0c7b4_3.json\n",
      "DEBUG:conda.core.prefix_data:loading prefix record /Users/jacquelinegarrahan/miniconda3/envs/lume-services-dev/conda-meta/pango-1.50.9-hc8ec20f_0.json\n",
      "DEBUG:conda.core.prefix_data:loading prefix record /Users/jacquelinegarrahan/miniconda3/envs/lume-services-dev/conda-meta/python-box-6.0.2-py39ha30fb19_3.json\n",
      "DEBUG:conda.core.prefix_data:loading prefix record /Users/jacquelinegarrahan/miniconda3/envs/lume-services-dev/conda-meta/sqlite-3.39.3-h9ae0607_0.json\n",
      "DEBUG:conda.core.prefix_data:loading prefix record /Users/jacquelinegarrahan/miniconda3/envs/lume-services-dev/conda-meta/pycosat-0.6.3-py39h63b48b0_1010.json\n",
      "DEBUG:conda.core.prefix_data:loading prefix record /Users/jacquelinegarrahan/miniconda3/envs/lume-services-dev/conda-meta/marshmallow-oneofschema-3.0.1-pyhd8ed1ab_0.json\n",
      "DEBUG:conda.core.prefix_data:loading prefix record /Users/jacquelinegarrahan/miniconda3/envs/lume-services-dev/conda-meta/libbrotlidec-1.0.9-h5eb16cf_7.json\n",
      "DEBUG:conda.core.prefix_data:loading prefix record /Users/jacquelinegarrahan/miniconda3/envs/lume-services-dev/conda-meta/pydantic-1.10.2-py39ha30fb19_0.json\n",
      "DEBUG:conda.core.prefix_data:loading prefix record /Users/jacquelinegarrahan/miniconda3/envs/lume-services-dev/conda-meta/ruamel.yaml-0.17.21-py39h63b48b0_1.json\n",
      "DEBUG:conda.core.prefix_data:loading prefix record /Users/jacquelinegarrahan/miniconda3/envs/lume-services-dev/conda-meta/py-1.11.0-pyh6c4a22f_0.json\n",
      "DEBUG:conda.core.prefix_data:loading prefix record /Users/jacquelinegarrahan/miniconda3/envs/lume-services-dev/conda-meta/cryptography-37.0.4-py39h9c2a9ce_0.json\n",
      "DEBUG:conda.core.prefix_data:loading prefix record /Users/jacquelinegarrahan/miniconda3/envs/lume-services-dev/conda-meta/pytzdata-2020.1-pyh9f0ad1d_0.json\n",
      "DEBUG:conda.core.prefix_data:loading prefix record /Users/jacquelinegarrahan/miniconda3/envs/lume-services-dev/conda-meta/fonttools-4.37.1-py39ha30fb19_0.json\n"
     ]
    },
    {
     "name": "stderr",
     "output_type": "stream",
     "text": [
      "DEBUG:conda.core.prefix_data:loading prefix record /Users/jacquelinegarrahan/miniconda3/envs/lume-services-dev/conda-meta/ruamel_yaml-0.15.80-py39h701faf5_1007.json\n",
      "DEBUG:conda.core.prefix_data:loading prefix record /Users/jacquelinegarrahan/miniconda3/envs/lume-services-dev/conda-meta/flake8-5.0.4-pyhd8ed1ab_0.json\n",
      "DEBUG:conda.core.prefix_data:loading prefix record /Users/jacquelinegarrahan/miniconda3/envs/lume-services-dev/conda-meta/unicodedata2-14.0.0-py39h63b48b0_1.json\n",
      "DEBUG:conda.core.prefix_data:loading prefix record /Users/jacquelinegarrahan/miniconda3/envs/lume-services-dev/conda-meta/libsqlite-3.39.3-ha978bb4_0.json\n",
      "DEBUG:conda.core.prefix_data:loading prefix record /Users/jacquelinegarrahan/miniconda3/envs/lume-services-dev/conda-meta/executing-1.0.0-pyhd8ed1ab_0.json\n",
      "DEBUG:conda.core.prefix_data:loading prefix record /Users/jacquelinegarrahan/miniconda3/envs/lume-services-dev/conda-meta/patch-2.7.6-hbcf498f_1002.json\n",
      "DEBUG:conda.core.prefix_data:loading prefix record /Users/jacquelinegarrahan/miniconda3/envs/lume-services-dev/conda-meta/pyrsistent-0.18.1-py39h63b48b0_1.json\n",
      "DEBUG:conda.core.prefix_data:loading prefix record /Users/jacquelinegarrahan/miniconda3/envs/lume-services-dev/conda-meta/tabulate-0.8.10-pyhd8ed1ab_0.json\n",
      "DEBUG:conda.core.prefix_data:loading prefix record /Users/jacquelinegarrahan/miniconda3/envs/lume-services-dev/conda-meta/mkdocs-click-0.6.0-pyhd8ed1ab_0.json\n",
      "DEBUG:conda.core.prefix_data:loading prefix record /Users/jacquelinegarrahan/miniconda3/envs/lume-services-dev/conda-meta/asn1crypto-1.5.1-pyhd8ed1ab_0.json\n",
      "DEBUG:conda.core.prefix_data:loading prefix record /Users/jacquelinegarrahan/miniconda3/envs/lume-services-dev/conda-meta/dask-core-2022.9.0-pyhd8ed1ab_0.json\n",
      "DEBUG:conda.core.prefix_data:loading prefix record /Users/jacquelinegarrahan/miniconda3/envs/lume-services-dev/conda-meta/distgen-0.6.5-pyhd8ed1ab_0.json\n",
      "DEBUG:conda.core.prefix_data:loading prefix record /Users/jacquelinegarrahan/miniconda3/envs/lume-services-dev/conda-meta/argon2-cffi-21.3.0-pyhd8ed1ab_0.json\n",
      "DEBUG:conda.core.prefix_data:loading prefix record /Users/jacquelinegarrahan/miniconda3/envs/lume-services-dev/conda-meta/libffi-3.4.2-h0d85af4_5.json\n",
      "DEBUG:conda.core.prefix_data:loading prefix record /Users/jacquelinegarrahan/miniconda3/envs/lume-services-dev/conda-meta/pydot-1.4.2-py39h6e9494a_2.json\n",
      "DEBUG:conda.core.prefix_data:loading prefix record /Users/jacquelinegarrahan/miniconda3/envs/lume-services-dev/conda-meta/graphite2-1.3.13-h2e338ed_1001.json\n",
      "DEBUG:conda.core.prefix_data:loading prefix record /Users/jacquelinegarrahan/miniconda3/envs/lume-services-dev/conda-meta/readline-8.1.2-h3899abd_0.json\n",
      "DEBUG:conda.core.prefix_data:loading prefix record /Users/jacquelinegarrahan/miniconda3/envs/lume-services-dev/conda-meta/mkdocstrings-0.19.0-pyhd8ed1ab_0.json\n",
      "DEBUG:conda.core.prefix_data:loading prefix record /Users/jacquelinegarrahan/miniconda3/envs/lume-services-dev/conda-meta/charset-normalizer-2.1.1-pyhd8ed1ab_0.json\n",
      "DEBUG:conda.core.prefix_data:loading prefix record /Users/jacquelinegarrahan/miniconda3/envs/lume-services-dev/conda-meta/libllvm13-13.0.1-h64f94b2_2.json\n",
      "DEBUG:conda.core.prefix_data:loading prefix record /Users/jacquelinegarrahan/miniconda3/envs/lume-services-dev/conda-meta/defusedxml-0.7.1-pyhd8ed1ab_0.json\n",
      "DEBUG:conda.core.prefix_data:loading prefix record /Users/jacquelinegarrahan/miniconda3/envs/lume-services-dev/conda-meta/pyopenssl-22.0.0-pyhd8ed1ab_0.json\n",
      "DEBUG:conda.core.prefix_data:loading prefix record /Users/jacquelinegarrahan/miniconda3/envs/lume-services-dev/conda-meta/pip-22.2.2-pyhd8ed1ab_0.json\n",
      "DEBUG:conda.core.prefix_data:loading prefix record /Users/jacquelinegarrahan/miniconda3/envs/lume-services-dev/conda-meta/marshmallow-3.17.1-pyhd8ed1ab_0.json\n",
      "DEBUG:conda.core.prefix_data:loading prefix record /Users/jacquelinegarrahan/miniconda3/envs/lume-services-dev/conda-meta/jupyter_server-1.18.1-pyhd8ed1ab_0.json\n",
      "DEBUG:conda.core.prefix_data:loading prefix record /Users/jacquelinegarrahan/miniconda3/envs/lume-services-dev/conda-meta/watchdog-2.1.9-py39h0056ad7_0.json\n",
      "DEBUG:conda.core.prefix_data:loading prefix record /Users/jacquelinegarrahan/miniconda3/envs/lume-services-dev/conda-meta/pillow-9.2.0-py39h4d560c1_2.json\n",
      "DEBUG:conda.core.prefix_data:loading prefix record /Users/jacquelinegarrahan/miniconda3/envs/lume-services-dev/conda-meta/tzdata-2022c-h191b570_0.json\n",
      "DEBUG:conda.core.prefix_data:loading prefix record /Users/jacquelinegarrahan/miniconda3/envs/lume-services-dev/conda-meta/kiwisolver-1.4.4-py39h7c694c3_0.json\n",
      "DEBUG:conda.core.prefix_data:loading prefix record /Users/jacquelinegarrahan/miniconda3/envs/lume-services-dev/conda-meta/libxcb-1.13-h0d85af4_1004.json\n",
      "DEBUG:conda.core.prefix_data:loading prefix record /Users/jacquelinegarrahan/miniconda3/envs/lume-services-dev/conda-meta/fonts-conda-forge-1-0.json\n",
      "DEBUG:conda.core.prefix_data:loading prefix record /Users/jacquelinegarrahan/miniconda3/envs/lume-services-dev/conda-meta/tcolorpy-0.1.2-pyhd8ed1ab_0.json\n",
      "DEBUG:conda.core.prefix_data:loading prefix record /Users/jacquelinegarrahan/miniconda3/envs/lume-services-dev/conda-meta/jupyter_client-7.3.4-pyhd8ed1ab_0.json\n",
      "DEBUG:conda.core.prefix_data:loading prefix record /Users/jacquelinegarrahan/miniconda3/envs/lume-services-dev/conda-meta/libgfortran-5.0.0-10_4_0_h97931a8_25.json\n",
      "DEBUG:conda.core.prefix_data:loading prefix record /Users/jacquelinegarrahan/miniconda3/envs/lume-services-dev/conda-meta/llvm-openmp-14.0.4-ha654fa7_0.json\n",
      "DEBUG:conda.core.prefix_data:loading prefix record /Users/jacquelinegarrahan/miniconda3/envs/lume-services-dev/conda-meta/prefect-1.3.1-pyhd8ed1ab_0.json\n",
      "DEBUG:conda.core.prefix_data:loading prefix record /Users/jacquelinegarrahan/miniconda3/envs/lume-services-dev/conda-meta/sortedcontainers-2.4.0-pyhd8ed1ab_0.json\n",
      "DEBUG:conda.core.prefix_data:loading prefix record /Users/jacquelinegarrahan/miniconda3/envs/lume-services-dev/conda-meta/mdit-py-plugins-0.3.0-pyhd8ed1ab_0.json\n",
      "DEBUG:conda.core.prefix_data:loading prefix record /Users/jacquelinegarrahan/miniconda3/envs/lume-services-dev/conda-meta/pkginfo-1.8.3-pyhd8ed1ab_0.json\n",
      "DEBUG:conda.core.prefix_data:loading prefix record /Users/jacquelinegarrahan/miniconda3/envs/lume-services-dev/conda-meta/tapi-1100.0.11-h9ce4665_0.json\n",
      "DEBUG:conda.core.prefix_data:loading prefix record /Users/jacquelinegarrahan/miniconda3/envs/lume-services-dev/conda-meta/beautifulsoup4-4.11.1-pyha770c72_0.json\n",
      "DEBUG:conda.core.prefix_data:loading prefix record /Users/jacquelinegarrahan/miniconda3/envs/lume-services-dev/conda-meta/ld64-609-ha328185_10.json\n",
      "DEBUG:conda.core.prefix_data:loading prefix record /Users/jacquelinegarrahan/miniconda3/envs/lume-services-dev/conda-meta/croniter-0.3.36-pyhd8ed1ab_0.json\n",
      "DEBUG:conda.core.prefix_data:loading prefix record /Users/jacquelinegarrahan/miniconda3/envs/lume-services-dev/conda-meta/openssl-1.1.1q-hfe4f2af_0.json\n",
      "DEBUG:conda.core.prefix_data:loading prefix record /Users/jacquelinegarrahan/miniconda3/envs/lume-services-dev/conda-meta/libbrotlicommon-1.0.9-h5eb16cf_7.json\n",
      "DEBUG:conda.core.prefix_data:loading prefix record /Users/jacquelinegarrahan/miniconda3/envs/lume-services-dev/conda-meta/jupytext-1.14.0-pyheef035f_0.json\n",
      "DEBUG:conda.core.prefix_data:loading prefix record /Users/jacquelinegarrahan/miniconda3/envs/lume-services-dev/conda-meta/bleach-5.0.1-pyhd8ed1ab_0.json\n",
      "DEBUG:conda.core.prefix_data:loading prefix record /Users/jacquelinegarrahan/miniconda3/envs/lume-services-dev/conda-meta/libtool-2.4.6-he49afe7_1008.json\n",
      "DEBUG:conda.core.prefix_data:loading prefix record /Users/jacquelinegarrahan/miniconda3/envs/lume-services-dev/conda-meta/xz-5.2.6-h775f41a_0.json\n",
      "DEBUG:conda.core.prefix_data:loading prefix record /Users/jacquelinegarrahan/miniconda3/envs/lume-services-dev/conda-meta/krb5-1.19.3-hb49756b_0.json\n",
      "DEBUG:conda.core.prefix_data:loading prefix record /Users/jacquelinegarrahan/miniconda3/envs/lume-services-dev/conda-meta/pyparsing-3.0.9-pyhd8ed1ab_0.json\n",
      "DEBUG:conda.core.prefix_data:loading prefix record /Users/jacquelinegarrahan/miniconda3/envs/lume-services-dev/conda-meta/heapdict-1.0.1-py_0.json\n",
      "DEBUG:conda.core.prefix_data:loading prefix record /Users/jacquelinegarrahan/miniconda3/envs/lume-services-dev/conda-meta/debugpy-1.6.3-py39hd91caee_0.json\n"
     ]
    },
    {
     "name": "stderr",
     "output_type": "stream",
     "text": [
      "DEBUG:conda.core.prefix_data:loading prefix record /Users/jacquelinegarrahan/miniconda3/envs/lume-services-dev/conda-meta/lume-impact-0.7.1-pyhd8ed1ab_0.json\n",
      "DEBUG:conda.core.prefix_data:loading prefix record /Users/jacquelinegarrahan/miniconda3/envs/lume-services-dev/conda-meta/idna-3.3-pyhd8ed1ab_0.json\n",
      "DEBUG:conda.core.prefix_data:loading prefix record /Users/jacquelinegarrahan/miniconda3/envs/lume-services-dev/conda-meta/nodeenv-1.7.0-pyhd8ed1ab_0.json\n",
      "DEBUG:conda.core.prefix_data:loading prefix record /Users/jacquelinegarrahan/miniconda3/envs/lume-services-dev/conda-meta/libmamba-0.25.0-h3ac2a45_2.json\n",
      "DEBUG:conda.core.prefix_data:loading prefix record /Users/jacquelinegarrahan/miniconda3/envs/lume-services-dev/conda-meta/font-ttf-dejavu-sans-mono-2.37-hab24e00_0.json\n",
      "DEBUG:conda.core.prefix_data:loading prefix record /Users/jacquelinegarrahan/miniconda3/envs/lume-services-dev/conda-meta/lume-base-0.2.3-pyhd8ed1ab_0.json\n",
      "DEBUG:conda.core.prefix_data:loading prefix record /Users/jacquelinegarrahan/miniconda3/envs/lume-services-dev/conda-meta/pytablewriter-0.64.2-pyhd8ed1ab_0.json\n",
      "DEBUG:conda.core.prefix_data:loading prefix record /Users/jacquelinegarrahan/miniconda3/envs/lume-services-dev/conda-meta/sigtool-0.1.3-h57ddcff_0.json\n",
      "DEBUG:conda.core.prefix_data:loading prefix record /Users/jacquelinegarrahan/miniconda3/envs/lume-services-dev/conda-meta/texttable-1.6.4-pyhd8ed1ab_0.json\n",
      "DEBUG:conda.core.prefix_data:loading prefix record /Users/jacquelinegarrahan/miniconda3/envs/lume-services-dev/conda-meta/libdeflate-1.13-h775f41a_0.json\n",
      "DEBUG:conda.core.prefix_data:loading prefix record /Users/jacquelinegarrahan/miniconda3/envs/lume-services-dev/conda-meta/tqdm-4.64.1-pyhd8ed1ab_0.json\n",
      "DEBUG:conda.core.prefix_data:loading prefix record /Users/jacquelinegarrahan/miniconda3/envs/lume-services-dev/conda-meta/jsonschema-4.15.0-pyhd8ed1ab_0.json\n",
      "DEBUG:conda.core.prefix_data:loading prefix record /Users/jacquelinegarrahan/miniconda3/envs/lume-services-dev/conda-meta/jupyter_core-4.11.1-py39h6e9494a_0.json\n",
      "DEBUG:conda.core.prefix_data:loading prefix record /Users/jacquelinegarrahan/miniconda3/envs/lume-services-dev/conda-meta/libbrotlienc-1.0.9-h5eb16cf_7.json\n",
      "DEBUG:conda.core.prefix_data:loading prefix record /Users/jacquelinegarrahan/miniconda3/envs/lume-services-dev/conda-meta/bzip2-1.0.8-h0d85af4_4.json\n",
      "DEBUG:conda.core.prefix_data:loading prefix record /Users/jacquelinegarrahan/miniconda3/envs/lume-services-dev/conda-meta/pkgutil-resolve-name-1.3.10-pyhd8ed1ab_0.json\n",
      "DEBUG:conda.core.prefix_data:loading prefix record /Users/jacquelinegarrahan/miniconda3/envs/lume-services-dev/conda-meta/c-ares-1.18.1-h0d85af4_0.json\n",
      "DEBUG:conda.core.prefix_data:loading prefix record /Users/jacquelinegarrahan/miniconda3/envs/lume-services-dev/conda-meta/ipykernel-6.15.2-pyh736e0ef_0.json\n",
      "DEBUG:conda.core.prefix_data:loading prefix record /Users/jacquelinegarrahan/miniconda3/envs/lume-services-dev/conda-meta/json5-0.9.5-pyh9f0ad1d_0.json\n",
      "DEBUG:conda.core.prefix_data:loading prefix record /Users/jacquelinegarrahan/miniconda3/envs/lume-services-dev/conda-meta/mkdocs-1.3.0-pyhd8ed1ab_0.json\n",
      "DEBUG:conda.core.prefix_data:loading prefix record /Users/jacquelinegarrahan/miniconda3/envs/lume-services-dev/conda-meta/ruamel.yaml.clib-0.2.6-py39h63b48b0_1.json\n",
      "DEBUG:conda.core.prefix_data:loading prefix record /Users/jacquelinegarrahan/miniconda3/envs/lume-services-dev/conda-meta/libwebp-1.2.4-hfa4350a_0.json\n",
      "DEBUG:conda.core.prefix_data:loading prefix record /Users/jacquelinegarrahan/miniconda3/envs/lume-services-dev/conda-meta/docker-pycreds-0.4.0-py_0.json\n",
      "DEBUG:conda.core.prefix_data:loading prefix record /Users/jacquelinegarrahan/miniconda3/envs/lume-services-dev/conda-meta/msgpack-python-1.0.4-py39h7c694c3_0.json\n",
      "DEBUG:conda.core.prefix_data:loading prefix record /Users/jacquelinegarrahan/miniconda3/envs/lume-services-dev/conda-meta/importlib_metadata-4.11.4-hd8ed1ab_0.json\n",
      "DEBUG:conda.core.prefix_data:loading prefix record /Users/jacquelinegarrahan/miniconda3/envs/lume-services-dev/conda-meta/atk-1.0-2.36.0-he69c4ee_4.json\n",
      "DEBUG:conda.core.prefix_data:loading prefix record /Users/jacquelinegarrahan/miniconda3/envs/lume-services-dev/conda-meta/libcurl-7.83.1-h372c54d_0.json\n",
      "DEBUG:conda.core.prefix_data:loading prefix record /Users/jacquelinegarrahan/miniconda3/envs/lume-services-dev/conda-meta/tomli-2.0.1-pyhd8ed1ab_0.json\n",
      "DEBUG:conda.core.prefix_data:loading prefix record /Users/jacquelinegarrahan/miniconda3/envs/lume-services-dev/conda-meta/pytest-cov-3.0.0-pyhd8ed1ab_0.json\n",
      "DEBUG:conda.core.prefix_data:loading prefix record /Users/jacquelinegarrahan/miniconda3/envs/lume-services-dev/conda-meta/babel-2.10.3-pyhd8ed1ab_0.json\n",
      "DEBUG:conda.core.prefix_data:loading prefix record /Users/jacquelinegarrahan/miniconda3/envs/lume-services-dev/conda-meta/icu-70.1-h96cf925_0.json\n",
      "DEBUG:conda.core.prefix_data:loading prefix record /Users/jacquelinegarrahan/miniconda3/envs/lume-services-dev/conda-meta/conda-4.14.0-py39h6e9494a_0.json\n",
      "DEBUG:conda.core.prefix_data:loading prefix record /Users/jacquelinegarrahan/miniconda3/envs/lume-services-dev/conda-meta/wcwidth-0.2.5-pyh9f0ad1d_2.json\n",
      "DEBUG:conda.core.prefix_data:loading prefix record /Users/jacquelinegarrahan/miniconda3/envs/lume-services-dev/conda-meta/fontconfig-2.14.0-h676cef8_0.json\n",
      "DEBUG:conda.core.prefix_data:loading prefix record /Users/jacquelinegarrahan/miniconda3/envs/lume-services-dev/conda-meta/libgd-2.3.3-h1e214de_3.json\n",
      "DEBUG:conda.core.prefix_data:loading prefix record /Users/jacquelinegarrahan/miniconda3/envs/lume-services-dev/conda-meta/cfgv-3.3.1-pyhd8ed1ab_0.json\n",
      "DEBUG:conda.core.prefix_data:loading prefix record /Users/jacquelinegarrahan/miniconda3/envs/lume-services-dev/conda-meta/liblief-0.12.1-hbbd2c75_0.json\n",
      "DEBUG:conda.core.prefix_data:loading prefix record /Users/jacquelinegarrahan/miniconda3/envs/lume-services-dev/conda-meta/argon2-cffi-bindings-21.2.0-py39h63b48b0_2.json\n",
      "DEBUG:conda.core.prefix_data:loading prefix record /Users/jacquelinegarrahan/miniconda3/envs/lume-services-dev/conda-meta/libsodium-1.0.18-hbcb3906_1.json\n",
      "DEBUG:conda.core.prefix_data:loading prefix record /Users/jacquelinegarrahan/miniconda3/envs/lume-services-dev/conda-meta/font-ttf-inconsolata-3.000-h77eed37_0.json\n",
      "DEBUG:conda.core.prefix_data:loading prefix record /Users/jacquelinegarrahan/miniconda3/envs/lume-services-dev/conda-meta/traitlets-5.3.0-pyhd8ed1ab_0.json\n",
      "DEBUG:conda.core.prefix_data:loading prefix record /Users/jacquelinegarrahan/miniconda3/envs/lume-services-dev/conda-meta/tblib-1.7.0-pyhd8ed1ab_0.json\n",
      "DEBUG:conda.core.prefix_data:loading prefix record /Users/jacquelinegarrahan/miniconda3/envs/lume-services-dev/conda-meta/h5py-3.7.0-nompi_py39hf4bc8c9_101.json\n",
      "DEBUG:conda.core.prefix_data:loading prefix record /Users/jacquelinegarrahan/miniconda3/envs/lume-services-dev/conda-meta/python-dotenv-0.21.0-pyhd8ed1ab_0.json\n",
      "DEBUG:conda.core.prefix_data:loading prefix record /Users/jacquelinegarrahan/miniconda3/envs/lume-services-dev/conda-meta/python_abi-3.9-2_cp39.json\n",
      "DEBUG:conda.core.prefix_data:loading prefix record /Users/jacquelinegarrahan/miniconda3/envs/lume-services-dev/conda-meta/lz4-c-1.9.3-he49afe7_1.json\n",
      "DEBUG:conda.core.prefix_data:loading prefix record /Users/jacquelinegarrahan/miniconda3/envs/lume-services-dev/conda-meta/pendulum-2.1.2-py39h63b48b0_4.json\n",
      "DEBUG:conda.core.prefix_data:loading prefix record /Users/jacquelinegarrahan/miniconda3/envs/lume-services-dev/conda-meta/virtualenv-20.16.4-py39h6e9494a_0.json\n",
      "DEBUG:conda.core.prefix_data:loading prefix record /Users/jacquelinegarrahan/miniconda3/envs/lume-services-dev/conda-meta/click-8.1.3-py39h6e9494a_0.json\n",
      "DEBUG:conda.core.prefix_data:loading prefix record /Users/jacquelinegarrahan/miniconda3/envs/lume-services-dev/conda-meta/pytz-2022.2.1-pyhd8ed1ab_0.json\n",
      "DEBUG:conda.core.prefix_data:loading prefix record /Users/jacquelinegarrahan/miniconda3/envs/lume-services-dev/conda-meta/docopt-0.6.2-py_1.json\n",
      "DEBUG:conda.core.prefix_data:loading prefix record /Users/jacquelinegarrahan/miniconda3/envs/lume-services-dev/conda-meta/pint-0.19.2-pyhd8ed1ab_0.json\n",
      "DEBUG:conda.core.prefix_data:loading prefix record /Users/jacquelinegarrahan/miniconda3/envs/lume-services-dev/conda-meta/decorator-5.1.1-pyhd8ed1ab_0.json\n"
     ]
    },
    {
     "name": "stderr",
     "output_type": "stream",
     "text": [
      "DEBUG:conda.core.prefix_data:loading prefix record /Users/jacquelinegarrahan/miniconda3/envs/lume-services-dev/conda-meta/termcolor-1.1.0-pyhd8ed1ab_3.json\n",
      "DEBUG:conda.core.prefix_data:loading prefix record /Users/jacquelinegarrahan/miniconda3/envs/lume-services-dev/conda-meta/prompt-toolkit-3.0.31-pyha770c72_0.json\n",
      "DEBUG:conda.core.prefix_data:loading prefix record /Users/jacquelinegarrahan/miniconda3/envs/lume-services-dev/conda-meta/openjpeg-2.5.0-h5d0d7b0_1.json\n",
      "DEBUG:conda.core.prefix_data:loading prefix record /Users/jacquelinegarrahan/miniconda3/envs/lume-services-dev/conda-meta/pymysql-1.0.2-pyhd8ed1ab_0.json\n",
      "DEBUG:conda.core.prefix_data:loading prefix record /Users/jacquelinegarrahan/miniconda3/envs/lume-services-dev/conda-meta/partd-1.3.0-pyhd8ed1ab_0.json\n",
      "DEBUG:conda.core.prefix_data:loading prefix record /Users/jacquelinegarrahan/miniconda3/envs/lume-services-dev/conda-meta/lerc-4.0.0-hb486fe8_0.json\n",
      "DEBUG:conda.core.prefix_data:loading prefix record /Users/jacquelinegarrahan/miniconda3/envs/lume-services-dev/conda-meta/nbclassic-0.4.3-pyhd8ed1ab_0.json\n",
      "DEBUG:conda.core.prefix_data:loading prefix record /Users/jacquelinegarrahan/miniconda3/envs/lume-services-dev/conda-meta/libarchive-3.5.2-hde4784d_3.json\n",
      "DEBUG:conda.core.prefix_data:loading prefix record /Users/jacquelinegarrahan/miniconda3/envs/lume-services-dev/conda-meta/pyflakes-2.5.0-pyhd8ed1ab_0.json\n",
      "DEBUG:conda.core.prefix_data:loading prefix record /Users/jacquelinegarrahan/miniconda3/envs/lume-services-dev/conda-meta/mkdocs-jupyter-0.21.0-pyhd8ed1ab_0.json\n",
      "DEBUG:conda.core.prefix_data:loading prefix record /Users/jacquelinegarrahan/miniconda3/envs/lume-services-dev/conda-meta/libwebp-base-1.2.4-h775f41a_0.json\n",
      "DEBUG:conda.core.prefix_data:loading prefix record /Users/jacquelinegarrahan/miniconda3/envs/lume-services-dev/conda-meta/conda-build-3.22.0-py39h6e9494a_2.json\n",
      "DEBUG:conda.core.prefix_data:loading prefix record /Users/jacquelinegarrahan/miniconda3/envs/lume-services-dev/conda-meta/importlib_resources-5.9.0-pyhd8ed1ab_0.json\n",
      "DEBUG:conda.core.prefix_data:loading prefix record /Users/jacquelinegarrahan/miniconda3/envs/lume-services-dev/conda-meta/brotlipy-0.7.0-py39h63b48b0_1004.json\n",
      "DEBUG:conda.core.prefix_data:loading prefix record /Users/jacquelinegarrahan/miniconda3/envs/lume-services-dev/conda-meta/pexpect-4.8.0-pyh9f0ad1d_2.json\n",
      "DEBUG:conda.core.prefix_data:loading prefix record /Users/jacquelinegarrahan/miniconda3/envs/lume-services-dev/conda-meta/dockerpty-0.4.1-py_0.json\n",
      "DEBUG:conda.core.prefix_data:loading prefix record /Users/jacquelinegarrahan/miniconda3/envs/lume-services-dev/conda-meta/libblas-3.9.0-16_osx64_openblas.json\n",
      "DEBUG:conda.core.prefix_data:loading prefix record /Users/jacquelinegarrahan/miniconda3/envs/lume-services-dev/conda-meta/conda-package-handling-1.8.1-py39h63b48b0_1.json\n",
      "DEBUG:conda.core.prefix_data:loading prefix record /Users/jacquelinegarrahan/miniconda3/envs/lume-services-dev/conda-meta/msgfy-0.2.0-pyhd8ed1ab_0.json\n",
      "DEBUG:conda.core.prefix_data:loading prefix record /Users/jacquelinegarrahan/miniconda3/envs/lume-services-dev/conda-meta/nbclient-0.6.7-pyhd8ed1ab_0.json\n",
      "DEBUG:conda.core.prefix_data:loading prefix record /Users/jacquelinegarrahan/miniconda3/envs/lume-services-dev/conda-meta/pymdown-extensions-9.5-pyhd8ed1ab_0.json\n",
      "DEBUG:conda.core.prefix_data:loading prefix record /Users/jacquelinegarrahan/miniconda3/envs/lume-services-dev/conda-meta/matplotlib-inline-0.1.6-pyhd8ed1ab_0.json\n",
      "DEBUG:conda.core.prefix_data:loading prefix record /Users/jacquelinegarrahan/miniconda3/envs/lume-services-dev/conda-meta/appnope-0.1.3-pyhd8ed1ab_0.json\n",
      "DEBUG:conda.core.prefix_data:loading prefix record /Users/jacquelinegarrahan/miniconda3/envs/lume-services-dev/conda-meta/setuptools-65.3.0-pyhd8ed1ab_1.json\n",
      "DEBUG:conda.core.prefix_data:loading prefix record /Users/jacquelinegarrahan/miniconda3/envs/lume-services-dev/conda-meta/docker-py-5.0.3-py39h6e9494a_2.json\n",
      "DEBUG:conda.core.prefix_data:loading prefix record /Users/jacquelinegarrahan/miniconda3/envs/lume-services-dev/conda-meta/dataproperty-0.55.0-pyhd8ed1ab_0.json\n",
      "DEBUG:conda.core.prefix_data:loading prefix record /Users/jacquelinegarrahan/miniconda3/envs/lume-services-dev/conda-meta/yaml-cpp-0.7.0-hb486fe8_1.json\n",
      "DEBUG:conda.core.prefix_data:loading prefix record /Users/jacquelinegarrahan/miniconda3/envs/lume-services-dev/conda-meta/fonts-conda-ecosystem-1-0.json\n",
      "DEBUG:conda.core.prefix_data:loading prefix record /Users/jacquelinegarrahan/miniconda3/envs/lume-services-dev/conda-meta/python-fastjsonschema-2.16.1-pyhd8ed1ab_0.json\n",
      "DEBUG:conda.core.prefix_data:loading prefix record /Users/jacquelinegarrahan/miniconda3/envs/lume-services-dev/conda-meta/terminado-0.15.0-py39h6e9494a_0.json\n",
      "DEBUG:conda.core.prefix_data:loading prefix record /Users/jacquelinegarrahan/miniconda3/envs/lume-services-dev/conda-meta/ipython_genutils-0.2.0-py_1.json\n",
      "DEBUG:conda.core.prefix_data:loading prefix record /Users/jacquelinegarrahan/miniconda3/envs/lume-services-dev/conda-meta/mkdocs-material-8.4.2-pyhd8ed1ab_0.json\n",
      "DEBUG:conda.core.prefix_data:loading prefix record /Users/jacquelinegarrahan/miniconda3/envs/lume-services-dev/conda-meta/lzo-2.10-haf1e3a3_1000.json\n",
      "DEBUG:conda.core.prefix_data:loading prefix record /Users/jacquelinegarrahan/miniconda3/envs/lume-services-dev/conda-meta/fribidi-1.0.10-hbcb3906_0.json\n",
      "DEBUG:conda.core.prefix_data:loading prefix record /Users/jacquelinegarrahan/miniconda3/envs/lume-services-dev/conda-meta/jedi-0.18.1-pyhd8ed1ab_2.json\n",
      "DEBUG:conda.core.prefix_data:loading prefix record /Users/jacquelinegarrahan/miniconda3/envs/lume-services-dev/conda-meta/sqlalchemy_schemadisplay-1.3-py_0.json\n",
      "DEBUG:conda.core.prefix_data:loading prefix record /Users/jacquelinegarrahan/miniconda3/envs/lume-services-dev/conda-meta/dependency_injector-4.40.0-py39h6218fd2_0.json\n",
      "DEBUG:conda.core.prefix_data:loading prefix record /Users/jacquelinegarrahan/miniconda3/envs/lume-services-dev/conda-meta/pybind11-abi-4-hd8ed1ab_3.json\n",
      "DEBUG:conda.core.prefix_data:loading prefix record /Users/jacquelinegarrahan/miniconda3/envs/lume-services-dev/conda-meta/libmambapy-0.25.0-py39h85aca11_2.json\n",
      "DEBUG:conda.core.prefix_data:loading prefix record /Users/jacquelinegarrahan/miniconda3/envs/lume-services-dev/conda-meta/cytoolz-0.12.0-py39h701faf5_0.json\n",
      "DEBUG:conda.core.prefix_data:loading prefix record /Users/jacquelinegarrahan/miniconda3/envs/lume-services-dev/conda-meta/notebook-6.4.12-pyha770c72_0.json\n",
      "DEBUG:conda.core.prefix_data:loading prefix record /Users/jacquelinegarrahan/miniconda3/envs/lume-services-dev/conda-meta/gdk-pixbuf-2.42.8-hb161b9c_0.json\n",
      "DEBUG:conda.core.prefix_data:loading prefix record /Users/jacquelinegarrahan/miniconda3/envs/lume-services-dev/conda-meta/backports.functools_lru_cache-1.6.4-pyhd8ed1ab_0.json\n",
      "DEBUG:conda.core.prefix_data:loading prefix record /Users/jacquelinegarrahan/miniconda3/envs/lume-services-dev/conda-meta/pycparser-2.21-pyhd8ed1ab_0.json\n",
      "DEBUG:conda.core.prefix_data:loading prefix record /Users/jacquelinegarrahan/miniconda3/envs/lume-services-dev/conda-meta/entrypoints-0.4-pyhd8ed1ab_0.json\n",
      "DEBUG:conda.core.prefix_data:loading prefix record /Users/jacquelinegarrahan/miniconda3/envs/lume-services-dev/conda-meta/parso-0.8.3-pyhd8ed1ab_0.json\n",
      "DEBUG:conda.core.prefix_data:loading prefix record /Users/jacquelinegarrahan/miniconda3/envs/lume-services-dev/conda-meta/tk-8.6.12-h5dbffcc_0.json\n",
      "DEBUG:conda.core.prefix_data:loading prefix record /Users/jacquelinegarrahan/miniconda3/envs/lume-services-dev/conda-meta/libev-4.33-haf1e3a3_1.json\n",
      "DEBUG:conda.core.prefix_data:loading prefix record /Users/jacquelinegarrahan/miniconda3/envs/lume-services-dev/conda-meta/pycodestyle-2.9.1-pyhd8ed1ab_0.json\n",
      "DEBUG:conda.core.prefix_data:loading prefix record /Users/jacquelinegarrahan/miniconda3/envs/lume-services-dev/conda-meta/librsvg-2.54.4-h3d48ba6_0.json\n",
      "DEBUG:conda.core.prefix_data:loading prefix record /Users/jacquelinegarrahan/miniconda3/envs/lume-services-dev/conda-meta/pandoc-2.19.2-h694c41f_0.json\n",
      "DEBUG:conda.core.prefix_data:loading prefix record /Users/jacquelinegarrahan/miniconda3/envs/lume-services-dev/conda-meta/markdown-3.4.1-pyhd8ed1ab_0.json\n",
      "DEBUG:conda.core.package_cache_data:package cache directory '/Users/jacquelinegarrahan/miniconda3/envs/lume-services-dev/pkgs' writable: True\n"
     ]
    },
    {
     "name": "stderr",
     "output_type": "stream",
     "text": [
      "DEBUG:conda.core.subdir_data:Local cache timed out for https://repo.anaconda.com/pkgs/main/osx-64/current_repodata.json at /Users/jacquelinegarrahan/miniconda3/envs/lume-services-dev/pkgs/cache/53d7ef51.json\n",
      "DEBUG:conda.core.subdir_data:Local cache timed out for https://repo.anaconda.com/pkgs/r/osx-64/current_repodata.json at /Users/jacquelinegarrahan/miniconda3/envs/lume-services-dev/pkgs/cache/3eef14e5.json\n",
      "DEBUG:conda.core.subdir_data:Local cache timed out for https://repo.anaconda.com/pkgs/main/noarch/current_repodata.json at /Users/jacquelinegarrahan/miniconda3/envs/lume-services-dev/pkgs/cache/b35683e8.json\n",
      "DEBUG:conda.core.subdir_data:Using cached repodata for https://conda.anaconda.org/conda-forge/noarch/current_repodata.json at /Users/jacquelinegarrahan/miniconda3/envs/lume-services-dev/pkgs/cache/62c98390.json. Timeout in 916 sec\n",
      "DEBUG:conda.core.subdir_data:Local cache timed out for https://repo.anaconda.com/pkgs/r/noarch/current_repodata.json at /Users/jacquelinegarrahan/miniconda3/envs/lume-services-dev/pkgs/cache/227b7582.json\n",
      "DEBUG:conda.core.subdir_data:Using cached repodata for https://conda.anaconda.org/conda-forge/osx-64/current_repodata.json at /Users/jacquelinegarrahan/miniconda3/envs/lume-services-dev/pkgs/cache/b89cf7bf.json. Timeout in 914 sec\n",
      "DEBUG:conda.core.subdir_data:found pickle file /Users/jacquelinegarrahan/miniconda3/envs/lume-services-dev/pkgs/cache/62c98390.q\n",
      "DEBUG:urllib3.connectionpool:Starting new HTTPS connection (1): repo.anaconda.com:443\n",
      "DEBUG:urllib3.connectionpool:Starting new HTTPS connection (1): repo.anaconda.com:443\n",
      "DEBUG:urllib3.connectionpool:Starting new HTTPS connection (1): repo.anaconda.com:443\n",
      "DEBUG:conda.core.subdir_data:found pickle file /Users/jacquelinegarrahan/miniconda3/envs/lume-services-dev/pkgs/cache/b89cf7bf.q\n",
      "DEBUG:urllib3.connectionpool:Starting new HTTPS connection (1): repo.anaconda.com:443\n",
      "DEBUG:urllib3.connectionpool:https://repo.anaconda.com:443 \"GET /pkgs/r/noarch/current_repodata.json HTTP/1.1\" 304 0\n",
      "DEBUG:urllib3.connectionpool:https://repo.anaconda.com:443 \"GET /pkgs/r/osx-64/current_repodata.json HTTP/1.1\" 304 0\n",
      "DEBUG:urllib3.connectionpool:https://repo.anaconda.com:443 \"GET /pkgs/main/osx-64/current_repodata.json HTTP/1.1\" 304 0\n",
      "DEBUG:urllib3.connectionpool:https://repo.anaconda.com:443 \"GET /pkgs/main/noarch/current_repodata.json HTTP/1.1\" 304 0\n",
      "DEBUG:conda.core.subdir_data:\n",
      ">>GET /pkgs/r/noarch/current_repodata.json HTTPS\n",
      "> User-Agent: conda/4.14.0 requests/2.28.1 CPython/3.9.13 Darwin/21.4.0 OSX/12.3.1\n",
      "> Accept: application/json\n",
      "> Accept-Encoding: gzip, deflate, compress, identity\n",
      "> Connection: keep-alive\n",
      "> If-Modified-Since: Fri, 19 Aug 2022 21:27:18 GMT\n",
      "> If-None-Match: W/\"1c484c8d82487267024f6e00332c5f34\"\n",
      "\n",
      "<<HTTPS 304 Not Modified\n",
      "< Age: 1643677\n",
      "< Cache-Control: public, max-age=30\n",
      "< CF-Cache-Status: HIT\n",
      "< CF-RAY: 7472ba4c3b8496ae-SJC\n",
      "< Date: Wed, 07 Sep 2022 22:02:16 GMT\n",
      "< ETag: \"1c484c8d82487267024f6e00332c5f34\"\n",
      "< Expires: Wed, 07 Sep 2022 22:02:46 GMT\n",
      "< Last-Modified: Fri, 19 Aug 2022 21:27:18 GMT\n",
      "< Server: cloudflare\n",
      "< Set-Cookie: __cf_bm=eKlIJqeb9Fj7f0OFejPmRgohf3tTRbWwrjU1eMYWgpA-1662588136-0-AXlcbSr+dAsYkYClSFNHyotnhPjTZ5EzxX3VjQ8haaHXM5auC1VdJJWLXLs6VRySPZoyRNaeXYGsJnGESinHzis=; path=/; expires=Wed, 07-Sep-22 22:32:16 GMT; domain=.anaconda.com; HttpOnly; Secure; SameSite=None\n",
      "< Vary: Accept-Encoding\n",
      "< x-amz-id-2: 9m9Vn3xG4vWz3r+oO8XaIQ0EyidyVTO42CuJtTFUdEic/pfxqSO1jGLB3cKprA+H7DrdhDZ3FPk=\n",
      "< x-amz-request-id: 0TF9GAATFB4RYEXR\n",
      "< x-amz-version-id: 8E_lL7sIzoeAKBxCoBVu9T4T7sxdn8i.\n",
      "< Connection: keep-alive\n",
      "< Elapsed: 00:00.243595\n",
      "\n",
      "\n",
      "DEBUG:conda.core.subdir_data:\n",
      ">>GET /pkgs/r/osx-64/current_repodata.json HTTPS\n",
      "> User-Agent: conda/4.14.0 requests/2.28.1 CPython/3.9.13 Darwin/21.4.0 OSX/12.3.1\n",
      "> Accept: application/json\n",
      "> Accept-Encoding: gzip, deflate, compress, identity\n",
      "> Connection: keep-alive\n",
      "> If-Modified-Since: Fri, 19 Aug 2022 21:27:20 GMT\n",
      "> If-None-Match: W/\"f7a030bda42a5112543701ce1f69d616\"\n",
      "\n",
      "<<HTTPS 304 Not Modified\n",
      "< Age: 1643653\n",
      "< Cache-Control: public, max-age=30\n",
      "< CF-Cache-Status: HIT\n",
      "< CF-RAY: 7472ba4c4d26aaac-SJC\n",
      "< Date: Wed, 07 Sep 2022 22:02:16 GMT\n",
      "< ETag: \"f7a030bda42a5112543701ce1f69d616\"\n",
      "< Expires: Wed, 07 Sep 2022 22:02:46 GMT\n",
      "< Last-Modified: Fri, 19 Aug 2022 21:27:20 GMT\n",
      "< Server: cloudflare\n",
      "< Set-Cookie: __cf_bm=VlFFWD6ujVuEE_bFUye.53K4zm9litbPhY5_6cR3jks-1662588136-0-AfoMNjwNrhoUyd9Z1/OYuHx/npzhgKWrzk13B6H5+ipB9ShYW7EtAgshcg9I6pQpoPWwjicqO3/lZb1VGa3kVTc=; path=/; expires=Wed, 07-Sep-22 22:32:16 GMT; domain=.anaconda.com; HttpOnly; Secure; SameSite=None\n",
      "< Vary: Accept-Encoding\n",
      "< x-amz-id-2: 6AWoYNajFOvLLXS1HRq5bzi1ubs4akjtY57nHDo/xykwskzK3EQmrRxMlw45pM8IsW9WTddg90E=\n",
      "< x-amz-request-id: G1435G9YA0B8B12M\n",
      "< x-amz-version-id: 96dEUXOrZ5Ig.w8.REZvkK6YZAId3Qig\n",
      "< Connection: keep-alive\n",
      "< Elapsed: 00:00.289596\n",
      "\n",
      "\n",
      "DEBUG:conda.core.subdir_data:\n",
      ">>GET /pkgs/main/osx-64/current_repodata.json HTTPS\n",
      "> User-Agent: conda/4.14.0 requests/2.28.1 CPython/3.9.13 Darwin/21.4.0 OSX/12.3.1\n",
      "> Accept: application/json\n",
      "> Accept-Encoding: gzip, deflate, compress, identity\n",
      "> Connection: keep-alive\n",
      "> If-Modified-Since: Wed, 07 Sep 2022 13:34:46 GMT\n",
      "> If-None-Match: W/\"76fbba2949cdea2e49368be7e99a94b1\"\n",
      "\n",
      "<<HTTPS 304 Not Modified\n",
      "< Age: 30391\n",
      "< Cache-Control: public, max-age=30\n",
      "< CF-Cache-Status: HIT\n",
      "< CF-RAY: 7472ba4c39d59e76-SJC\n",
      "< Date: Wed, 07 Sep 2022 22:02:16 GMT\n",
      "< ETag: \"76fbba2949cdea2e49368be7e99a94b1\"\n",
      "< Expires: Wed, 07 Sep 2022 22:02:46 GMT\n",
      "< Last-Modified: Wed, 07 Sep 2022 13:34:46 GMT\n",
      "< Server: cloudflare\n",
      "< Set-Cookie: __cf_bm=4QgXlKy4msqXoJ92JwIDjI66ZZKkHMODvy4EEJrY5LU-1662588136-0-AR/HY6WfgC10rMa8s23FpkuIKvtXWAg189t+wT+jEj+BzmQED7/1wTellBzvClexqb3V5opGkXV7Uv1UeH9R3CE=; path=/; expires=Wed, 07-Sep-22 22:32:16 GMT; domain=.anaconda.com; HttpOnly; Secure; SameSite=None\n",
      "< Vary: Accept-Encoding\n",
      "< x-amz-id-2: bkbAqA5XeLnFWMNdL6qZzyDApsrnjLgpCYhAYFmbLNjI82PQXm6cam39TgcMsQhGqyiL9wPtzOU=\n",
      "< x-amz-request-id: 7N5SKDQH5VVCF0K3\n",
      "< x-amz-version-id: 5sL.GMix6ivzlY6RiOI4I.lAmB2DvBvH\n",
      "< Connection: keep-alive\n",
      "< Elapsed: 00:00.309764\n",
      "\n",
      "\n",
      "DEBUG:conda.core.subdir_data:\n",
      ">>GET /pkgs/main/noarch/current_repodata.json HTTPS\n",
      "> User-Agent: conda/4.14.0 requests/2.28.1 CPython/3.9.13 Darwin/21.4.0 OSX/12.3.1\n",
      "> Accept: application/json\n",
      "> Accept-Encoding: gzip, deflate, compress, identity\n",
      "> Connection: keep-alive\n",
      "> If-Modified-Since: Thu, 25 Aug 2022 15:02:44 GMT\n",
      "> If-None-Match: W/\"97424a6e45b52ea7cc47f327527d0891\"\n",
      "\n",
      "<<HTTPS 304 Not Modified\n",
      "< Age: 1148320\n",
      "< Cache-Control: public, max-age=30\n",
      "< CF-Cache-Status: HIT\n",
      "< CF-RAY: 7472ba4c3c899e50-SJC\n",
      "< Date: Wed, 07 Sep 2022 22:02:16 GMT\n",
      "< ETag: \"97424a6e45b52ea7cc47f327527d0891\"\n",
      "< Expires: Wed, 07 Sep 2022 22:02:46 GMT\n",
      "< Last-Modified: Thu, 25 Aug 2022 15:02:44 GMT\n",
      "< Server: cloudflare\n",
      "< Set-Cookie: __cf_bm=8ZTmxLXabRC_8zntbZ5hCgFRnigUmCqd0VI2wuuuW40-1662588136-0-AVV0SCIiQ/tpOLsSSBY8U18w4RJFQjo05E1qmWKqEjI169WIikijjp/0Gta/NHjC7v5wvPp/HDahz+Opj4XrkiI=; path=/; expires=Wed, 07-Sep-22 22:32:16 GMT; domain=.anaconda.com; HttpOnly; Secure; SameSite=None\n",
      "< Vary: Accept-Encoding\n",
      "< x-amz-id-2: /6ZQxdKc9aRI01PNAQgc5jo+yDQVil/XiSzlUqE4upFcgI1Sa/rWBS+e7GQhGY61xlUpL3OGGyQ=\n",
      "< x-amz-request-id: DHHTTQ66V2A59TNB\n",
      "< x-amz-version-id: K_RlXJd9IbqiTCBlw164grgaWZDgto8z\n",
      "< Connection: keep-alive\n",
      "< Elapsed: 00:00.344133\n",
      "\n",
      "\n",
      "DEBUG:conda.core.subdir_data:304 NOT MODIFIED for 'https://repo.anaconda.com/pkgs/r/noarch/current_repodata.json'. Updating mtime and loading from disk\n",
      "DEBUG:conda.core.subdir_data:304 NOT MODIFIED for 'https://repo.anaconda.com/pkgs/r/osx-64/current_repodata.json'. Updating mtime and loading from disk\n",
      "DEBUG:conda.core.subdir_data:304 NOT MODIFIED for 'https://repo.anaconda.com/pkgs/main/osx-64/current_repodata.json'. Updating mtime and loading from disk\n",
      "DEBUG:conda.core.subdir_data:304 NOT MODIFIED for 'https://repo.anaconda.com/pkgs/main/noarch/current_repodata.json'. Updating mtime and loading from disk\n",
      "DEBUG:conda.core.subdir_data:found pickle file /Users/jacquelinegarrahan/miniconda3/envs/lume-services-dev/pkgs/cache/227b7582.q\n",
      "DEBUG:conda.core.subdir_data:found pickle file /Users/jacquelinegarrahan/miniconda3/envs/lume-services-dev/pkgs/cache/3eef14e5.q\n",
      "DEBUG:conda.core.subdir_data:found pickle file /Users/jacquelinegarrahan/miniconda3/envs/lume-services-dev/pkgs/cache/53d7ef51.q\n"
     ]
    },
    {
     "name": "stderr",
     "output_type": "stream",
     "text": [
      "DEBUG:conda.core.subdir_data:found pickle file /Users/jacquelinegarrahan/miniconda3/envs/lume-services-dev/pkgs/cache/b35683e8.q\n",
      "INFO:conda.core.link:initializing UnlinkLinkTransaction with\n",
      "  target_prefix: /tmp/lume-services/tmp_env\n",
      "  unlink_precs:\n",
      "    \n",
      "  link_precs:\n",
      "    \n",
      "\n",
      "DEBUG:conda.core.package_cache_data:instantiating ProgressiveFetchExtract with\n",
      "  \n",
      "\n",
      "DEBUG:conda.core.link:no python version found in prefix\n",
      "DEBUG:conda.common.signals:registering handler for SIGABRT\n",
      "DEBUG:conda.common.signals:registering handler for SIGINT\n",
      "DEBUG:conda.common.signals:registering handler for SIGTERM\n",
      "DEBUG:conda.common.signals:registering handler for SIGQUIT\n",
      "DEBUG:conda.common.signals:de-registering handler for Signals.SIGABRT\n",
      "DEBUG:conda.common.signals:de-registering handler for Signals.SIGINT\n",
      "DEBUG:conda.common.signals:de-registering handler for Signals.SIGTERM\n",
      "DEBUG:conda.common.signals:de-registering handler for Signals.SIGQUIT\n",
      "DEBUG:conda.gateways.connection.session:Adding anaconda token for url <https://conda.anaconda.org/conda-forge/notices.json>\n",
      "DEBUG:urllib3.connectionpool:Starting new HTTPS connection (1): repo.anaconda.com:443\n",
      "DEBUG:urllib3.connectionpool:Starting new HTTPS connection (1): repo.anaconda.com:443\n",
      "DEBUG:urllib3.connectionpool:Starting new HTTPS connection (1): conda.anaconda.org:443\n",
      "DEBUG:urllib3.connectionpool:https://repo.anaconda.com:443 \"GET /pkgs/main/notices.json HTTP/1.1\" 404 None\n",
      "INFO:conda.notices.http:Received 404 when trying to GET https://repo.anaconda.com/pkgs/main/notices.json\n",
      "DEBUG:urllib3.connectionpool:https://repo.anaconda.com:443 \"GET /pkgs/r/notices.json HTTP/1.1\" 404 None\n",
      "INFO:conda.notices.http:Received 404 when trying to GET https://repo.anaconda.com/pkgs/r/notices.json\n",
      "DEBUG:urllib3.connectionpool:https://conda.anaconda.org:443 \"GET /t/jr-ac5b1b42-c470-4696-a06b-9e98c0d40429/conda-forge/osx-64 HTTP/1.1\" 302 None\n",
      "INFO:conda.notices.http:Received 302 when trying to GET https://conda.anaconda.org/conda-forge/notices.json\n",
      "DEBUG:conda.common.io:stderr and stdout yielding back\n",
      "DEBUG:conda.cli.python_api:\n",
      "  stdout: Collecting package metadata (current_repodata.json): ...working... done\n",
      "Solving environment: ...working... done\n",
      "\n",
      "## Package Plan ##\n",
      "\n",
      "  environment location: /tmp/lume-services/tmp_env\n",
      "\n",
      "\n",
      "\n",
      "Preparing transaction: ...working... done\n",
      "Verifying transaction: ...working... done\n",
      "Executing transaction: ...working... done\n",
      "#\n",
      "# To activate this environment, use\n",
      "#\n",
      "#     $ conda activate /tmp/lume-services/tmp_env\n",
      "#\n",
      "# To deactivate an active environment, use\n",
      "#\n",
      "#     $ conda deactivate\n",
      "\n",
      "Retrieving notices: ...working... done\n",
      "\n",
      "  stderr: \n",
      "  return_code: 0\n",
      "INFO:lume_services.environment.solver:Resolving conda dependencies...\n",
      "DEBUG:conda.gateways.connection.session:Adding anaconda token for url <https://conda.anaconda.org/conda-forge/linux-64>\n",
      "DEBUG:conda.gateways.connection.session:Adding anaconda token for url <https://conda.anaconda.org/conda-forge/noarch>\n"
     ]
    },
    {
     "name": "stdout",
     "output_type": "stream",
     "text": [
      "conda-forge/linux-64                                        Using cache\n",
      "conda-forge/noarch                                          Using cache\n"
     ]
    },
    {
     "name": "stderr",
     "output_type": "stream",
     "text": [
      "DEBUG:lume_services.environment.solver:Channels: ['conda-forge']\n",
      "DEBUG:lume_services.environment.solver:Platform: linux-64\n",
      "DEBUG:lume_services.environment.solver:Output_folder: /Users/jacquelinegarrahan/sandbox/lume-services/dev/local_conda_channel\n",
      "DEBUG:lume_services.environment.solver:Prefix: /tmp/lume-services/tmp_env\n",
      "INFO:lume_services.environment.solver:Installing dependencies...\n",
      "DEBUG:conda.cli.python_api:executing command >>>  conda create -p /tmp/lume-services/tmp_env\n",
      "DEBUG:conda.common.io:overtaking stderr and stdout\n",
      "DEBUG:conda.core.solve:solving prefix /tmp/lume-services/tmp_env\n",
      "  specs_to_remove: frozenset()\n",
      "  specs_to_add: frozenset()\n",
      "  prune: Null\n",
      "DEBUG:conda.resolve:restricting to unmanageable packages: __osx\n",
      "DEBUG:conda.resolve:restricting to unmanageable packages: __unix\n",
      "DEBUG:conda.resolve:restricting to unmanageable packages: __archspec\n",
      "DEBUG:conda.resolve:Retrieving packages for: \n",
      "DEBUG:conda.core.solve:specs_map with targets: OrderedDict([('__osx', MatchSpec(\"__osx\")), ('__unix', MatchSpec(\"__unix\")), ('__archspec', MatchSpec(\"__archspec\"))])\n",
      "DEBUG:conda.resolve:Retrieving packages for: \n",
      "  - __archspec\n",
      "  - __osx\n",
      "  - __unix\n",
      "DEBUG:conda.resolve:restricting to unmanageable packages: __unix\n",
      "DEBUG:conda.resolve:restricting to unmanageable packages: __osx\n",
      "DEBUG:conda.resolve:restricting to unmanageable packages: __archspec\n",
      "DEBUG:conda.resolve:gen_clauses returning with clause count: 9\n",
      "DEBUG:conda.resolve:generate_spec_constraints returning with clause count: 9\n",
      "DEBUG:conda.common._logic:Invoking SAT with clause count: 12\n",
      "DEBUG:conda.resolve:Checking if the current environment is consistent\n",
      "DEBUG:conda.core.solve:inconsistent precs: None\n",
      "DEBUG:conda.resolve:restricting to unmanageable packages: __unix\n",
      "DEBUG:conda.resolve:restricting to unmanageable packages: __osx\n",
      "DEBUG:conda.resolve:restricting to unmanageable packages: __archspec\n",
      "DEBUG:conda.resolve:gen_clauses returning with clause count: 9\n",
      "DEBUG:conda.resolve:generate_spec_constraints returning with clause count: 9\n",
      "DEBUG:conda.common._logic:Invoking SAT with clause count: 12\n",
      "DEBUG:conda.core.solve:final specs to add: \n",
      "  - __archspec\n",
      "  - __osx\n",
      "  - __unix\n",
      "DEBUG:conda.resolve:Solving for: \n",
      "  - 0: __unix target=None optional=False\n",
      "  - 1: __osx target=None optional=False\n",
      "  - 2: __archspec target=None optional=False\n",
      "DEBUG:conda.resolve:Solve: Getting reduced index of compliant packages\n",
      "DEBUG:conda.resolve:Solve: determining satisfiability\n",
      "DEBUG:conda.resolve:restricting to unmanageable packages: __unix\n",
      "DEBUG:conda.resolve:restricting to unmanageable packages: __osx\n",
      "DEBUG:conda.resolve:restricting to unmanageable packages: __archspec\n",
      "DEBUG:conda.resolve:gen_clauses returning with clause count: 9\n",
      "DEBUG:conda.resolve:generate_spec_constraints returning with clause count: 9\n",
      "DEBUG:conda.common._logic:Invoking SAT with clause count: 12\n",
      "DEBUG:conda.resolve:Requested specs: \n",
      "  - __archspec\n",
      "  - __osx\n",
      "  - __unix\n",
      "DEBUG:conda.resolve:Optional specs: \n",
      "DEBUG:conda.resolve:All other specs: \n",
      "DEBUG:conda.resolve:missing specs: \n",
      "DEBUG:conda.resolve:Solve: minimize removed packages\n",
      "DEBUG:conda.resolve:Solve: maximize versions of requested packages\n",
      "DEBUG:conda.common._logic:Empty objective, trivial solution\n",
      "DEBUG:conda.common._logic:Empty objective, trivial solution\n",
      "DEBUG:conda.resolve:Initial package channel/version metric: 0/0\n",
      "DEBUG:conda.resolve:Solve: minimize track_feature count\n",
      "DEBUG:conda.resolve:generate_feature_count returning with clause count: 12\n",
      "DEBUG:conda.common._logic:Empty objective, trivial solution\n",
      "DEBUG:conda.resolve:Track feature count: 0\n",
      "DEBUG:conda.common._logic:Empty objective, trivial solution\n",
      "DEBUG:conda.resolve:Package misfeature count: 0\n",
      "DEBUG:conda.resolve:Solve: maximize build numbers of requested packages\n",
      "DEBUG:conda.common._logic:Empty objective, trivial solution\n",
      "DEBUG:conda.resolve:Initial package build metric: 0\n",
      "DEBUG:conda.resolve:Solve: prefer arch over noarch for requested packages\n",
      "DEBUG:conda.common._logic:Empty objective, trivial solution\n",
      "DEBUG:conda.resolve:Noarch metric: 0\n",
      "DEBUG:conda.resolve:Solve: minimize number of optional installations\n",
      "DEBUG:conda.common._logic:Empty objective, trivial solution\n",
      "DEBUG:conda.resolve:Optional package install metric: 0\n",
      "DEBUG:conda.resolve:Solve: minimize number of necessary upgrades\n",
      "DEBUG:conda.common._logic:Empty objective, trivial solution\n",
      "DEBUG:conda.resolve:Dependency update count: 0\n",
      "DEBUG:conda.resolve:Solve: maximize versions and builds of indirect dependencies.  Prefer arch over noarch where equivalent.\n",
      "DEBUG:conda.common._logic:Empty objective, trivial solution\n",
      "DEBUG:conda.common._logic:Empty objective, trivial solution\n",
      "DEBUG:conda.common._logic:Empty objective, trivial solution\n",
      "DEBUG:conda.common._logic:Empty objective, trivial solution\n",
      "DEBUG:conda.resolve:Additional package channel/version/build/noarch metrics: 0/0/0/0\n",
      "DEBUG:conda.resolve:Solve: prune unnecessary packages\n",
      "DEBUG:conda.common._logic:Empty objective, trivial solution\n",
      "DEBUG:conda.resolve:Weak dependency count: 0\n",
      "DEBUG:conda.resolve:Looking for alternate solutions\n",
      "DEBUG:conda.core.solve:solved prefix /tmp/lume-services/tmp_env\n",
      "  solved_linked_dists:\n",
      "    \n",
      "\n",
      "DEBUG:conda.core.subdir_data:Using cached repodata for https://conda.anaconda.org/conda-forge/noarch/current_repodata.json at /Users/jacquelinegarrahan/miniconda3/envs/lume-services-dev/pkgs/cache/10d26af8.json. Timeout in 719 sec\n",
      "DEBUG:conda.core.subdir_data:found pickle file /Users/jacquelinegarrahan/miniconda3/envs/lume-services-dev/pkgs/cache/10d26af8.q\n",
      "INFO:conda.core.link:initializing UnlinkLinkTransaction with\n",
      "  target_prefix: /tmp/lume-services/tmp_env\n",
      "  unlink_precs:\n",
      "    \n",
      "  link_precs:\n",
      "    \n",
      "\n",
      "DEBUG:conda.core.package_cache_data:instantiating ProgressiveFetchExtract with\n",
      "  \n",
      "\n",
      "DEBUG:conda.core.link:no python version found in prefix\n",
      "DEBUG:conda.common.signals:registering handler for SIGABRT\n",
      "DEBUG:conda.common.signals:registering handler for SIGINT\n",
      "DEBUG:conda.common.signals:registering handler for SIGTERM\n",
      "DEBUG:conda.common.signals:registering handler for SIGQUIT\n",
      "DEBUG:conda.common.signals:de-registering handler for Signals.SIGABRT\n",
      "DEBUG:conda.common.signals:de-registering handler for Signals.SIGINT\n",
      "DEBUG:conda.common.signals:de-registering handler for Signals.SIGTERM\n",
      "DEBUG:conda.common.signals:de-registering handler for Signals.SIGQUIT\n",
      "DEBUG:conda.gateways.connection.session:Adding anaconda token for url <https://conda.anaconda.org/conda-forge/notices.json>\n",
      "DEBUG:urllib3.connectionpool:Starting new HTTPS connection (1): repo.anaconda.com:443\n",
      "DEBUG:urllib3.connectionpool:Starting new HTTPS connection (1): repo.anaconda.com:443\n",
      "DEBUG:urllib3.connectionpool:Starting new HTTPS connection (1): conda.anaconda.org:443\n",
      "DEBUG:urllib3.connectionpool:https://repo.anaconda.com:443 \"GET /pkgs/r/notices.json HTTP/1.1\" 404 None\n",
      "INFO:conda.notices.http:Received 404 when trying to GET https://repo.anaconda.com/pkgs/r/notices.json\n",
      "DEBUG:urllib3.connectionpool:https://repo.anaconda.com:443 \"GET /pkgs/main/notices.json HTTP/1.1\" 404 None\n",
      "INFO:conda.notices.http:Received 404 when trying to GET https://repo.anaconda.com/pkgs/main/notices.json\n",
      "DEBUG:urllib3.connectionpool:https://conda.anaconda.org:443 \"GET /t/jr-ac5b1b42-c470-4696-a06b-9e98c0d40429/conda-forge/osx-64 HTTP/1.1\" 302 None\n",
      "INFO:conda.notices.http:Received 302 when trying to GET https://conda.anaconda.org/conda-forge/notices.json\n",
      "DEBUG:conda.common.io:stderr and stdout yielding back\n",
      "DEBUG:conda.cli.python_api:\n",
      "  stdout: Collecting package metadata (current_repodata.json): ...working... done\n",
      "Solving environment: ...working... done\n",
      "\n",
      "## Package Plan ##\n",
      "\n",
      "  environment location: /tmp/lume-services/tmp_env\n",
      "\n",
      "\n",
      "\n",
      "Preparing transaction: ...working... done\n",
      "Verifying transaction: ...working... done\n",
      "Executing transaction: ...working... done\n",
      "#\n",
      "# To activate this environment, use\n",
      "#\n",
      "#     $ conda activate /tmp/lume-services/tmp_env\n",
      "#\n",
      "# To deactivate an active environment, use\n",
      "#\n",
      "#     $ conda deactivate\n",
      "\n",
      "Retrieving notices: ...working... done\n",
      "\n",
      "  stderr: \n",
      "  return_code: 0\n",
      "INFO:lume_services.environment.solver:Collecting /Users/jacquelinegarrahan/sandbox/lume-services/dev/local_conda_channel/linux-64/_libgcc_mutex-0.1-conda_forge.tar.bz2\n",
      "INFO:lume_services.environment.solver:Collecting /Users/jacquelinegarrahan/sandbox/lume-services/dev/local_conda_channel/linux-64/libstdcxx-ng-12.1.0-ha89aaad_16.tar.bz2\n"
     ]
    },
    {
     "name": "stderr",
     "output_type": "stream",
     "text": [
      "INFO:lume_services.environment.solver:Collecting /Users/jacquelinegarrahan/sandbox/lume-services/dev/local_conda_channel/linux-64/ld_impl_linux-64-2.36.1-hea4e1c9_2.tar.bz2\n",
      "INFO:lume_services.environment.solver:Collecting /Users/jacquelinegarrahan/sandbox/lume-services/dev/local_conda_channel/linux-64/ca-certificates-2022.6.15-ha878542_0.tar.bz2\n",
      "INFO:lume_services.environment.solver:Collecting /Users/jacquelinegarrahan/sandbox/lume-services/dev/local_conda_channel/linux-64/libgfortran5-12.1.0-hdcd56e2_16.tar.bz2\n",
      "INFO:lume_services.environment.solver:Collecting /Users/jacquelinegarrahan/sandbox/lume-services/dev/local_conda_channel/linux-64/libgomp-12.1.0-h8d9b700_16.tar.bz2\n",
      "INFO:lume_services.environment.solver:Collecting /Users/jacquelinegarrahan/sandbox/lume-services/dev/local_conda_channel/linux-64/libgfortran-ng-12.1.0-h69a702a_16.tar.bz2\n",
      "INFO:lume_services.environment.solver:Collecting /Users/jacquelinegarrahan/sandbox/lume-services/dev/local_conda_channel/linux-64/_openmp_mutex-4.5-2_gnu.tar.bz2\n",
      "INFO:lume_services.environment.solver:Collecting /Users/jacquelinegarrahan/sandbox/lume-services/dev/local_conda_channel/linux-64/libgcc-ng-12.1.0-h8d9b700_16.tar.bz2\n",
      "INFO:lume_services.environment.solver:Collecting /Users/jacquelinegarrahan/sandbox/lume-services/dev/local_conda_channel/linux-64/lzo-2.10-h516909a_1000.tar.bz2\n",
      "INFO:lume_services.environment.solver:Collecting /Users/jacquelinegarrahan/sandbox/lume-services/dev/local_conda_channel/linux-64/xorg-libxdmcp-1.1.3-h7f98852_0.tar.bz2\n",
      "INFO:lume_services.environment.solver:Collecting /Users/jacquelinegarrahan/sandbox/lume-services/dev/local_conda_channel/linux-64/xorg-libxau-1.0.9-h7f98852_0.tar.bz2\n",
      "INFO:lume_services.environment.solver:Collecting /Users/jacquelinegarrahan/sandbox/lume-services/dev/local_conda_channel/linux-64/pthread-stubs-0.4-h36c2ea0_1001.tar.bz2\n",
      "INFO:lume_services.environment.solver:Collecting /Users/jacquelinegarrahan/sandbox/lume-services/dev/local_conda_channel/linux-64/libuuid-2.32.1-h7f98852_1000.tar.bz2\n",
      "INFO:lume_services.environment.solver:Collecting /Users/jacquelinegarrahan/sandbox/lume-services/dev/local_conda_channel/linux-64/libdeflate-1.13-h166bdaf_0.tar.bz2\n",
      "INFO:lume_services.environment.solver:Collecting /Users/jacquelinegarrahan/sandbox/lume-services/dev/local_conda_channel/linux-64/lerc-4.0.0-h27087fc_0.tar.bz2\n",
      "INFO:lume_services.environment.solver:Collecting /Users/jacquelinegarrahan/sandbox/lume-services/dev/local_conda_channel/linux-64/jpeg-9e-h166bdaf_2.tar.bz2\n",
      "INFO:lume_services.environment.solver:Collecting /Users/jacquelinegarrahan/sandbox/lume-services/dev/local_conda_channel/linux-64/libbrotlicommon-1.0.9-h166bdaf_7.tar.bz2\n",
      "INFO:lume_services.environment.solver:Collecting /Users/jacquelinegarrahan/sandbox/lume-services/dev/local_conda_channel/linux-64/libev-4.33-h516909a_1.tar.bz2\n",
      "INFO:lume_services.environment.solver:Collecting /Users/jacquelinegarrahan/sandbox/lume-services/dev/local_conda_channel/linux-64/c-ares-1.18.1-h7f98852_0.tar.bz2\n",
      "INFO:lume_services.environment.solver:Collecting /Users/jacquelinegarrahan/sandbox/lume-services/dev/local_conda_channel/linux-64/libwebp-base-1.2.4-h166bdaf_0.tar.bz2\n",
      "INFO:lume_services.environment.solver:Collecting /Users/jacquelinegarrahan/sandbox/lume-services/dev/local_conda_channel/linux-64/ripgrep-13.0.0-h2f28480_2.tar.bz2\n",
      "INFO:lume_services.environment.solver:Collecting /Users/jacquelinegarrahan/sandbox/lume-services/dev/local_conda_channel/linux-64/liblief-0.12.1-h27087fc_0.tar.bz2\n",
      "INFO:lume_services.environment.solver:Collecting /Users/jacquelinegarrahan/sandbox/lume-services/dev/local_conda_channel/linux-64/patchelf-0.15.0-h58526e2_0.tar.bz2\n",
      "INFO:lume_services.environment.solver:Collecting /Users/jacquelinegarrahan/sandbox/lume-services/dev/local_conda_channel/linux-64/patch-2.7.6-h7f98852_1002.tar.bz2\n",
      "INFO:lume_services.environment.solver:Collecting /Users/jacquelinegarrahan/sandbox/lume-services/dev/local_conda_channel/linux-64/lz4-c-1.9.3-h9c3ff4c_1.tar.bz2\n",
      "INFO:lume_services.environment.solver:Collecting /Users/jacquelinegarrahan/sandbox/lume-services/dev/local_conda_channel/linux-64/icu-70.1-h27087fc_0.tar.bz2\n",
      "INFO:lume_services.environment.solver:Collecting /Users/jacquelinegarrahan/sandbox/lume-services/dev/local_conda_channel/linux-64/libopenblas-0.3.21-pthreads_h78a6416_3.tar.bz2\n",
      "INFO:lume_services.environment.solver:Collecting /Users/jacquelinegarrahan/sandbox/lume-services/dev/local_conda_channel/linux-64/reproc-14.2.3-h7f98852_0.tar.bz2\n",
      "INFO:lume_services.environment.solver:Collecting /Users/jacquelinegarrahan/sandbox/lume-services/dev/local_conda_channel/linux-64/libiconv-1.16-h516909a_0.tar.bz2\n",
      "INFO:lume_services.environment.solver:Collecting /Users/jacquelinegarrahan/sandbox/lume-services/dev/local_conda_channel/linux-64/keyutils-1.6.1-h166bdaf_0.tar.bz2\n",
      "INFO:lume_services.environment.solver:Collecting /Users/jacquelinegarrahan/sandbox/lume-services/dev/local_conda_channel/linux-64/yaml-cpp-0.7.0-h27087fc_1.tar.bz2\n",
      "INFO:lume_services.environment.solver:Collecting /Users/jacquelinegarrahan/sandbox/lume-services/dev/local_conda_channel/linux-64/xz-5.2.6-h166bdaf_0.tar.bz2\n",
      "INFO:lume_services.environment.solver:Collecting /Users/jacquelinegarrahan/sandbox/lume-services/dev/local_conda_channel/linux-64/openssl-1.1.1q-h166bdaf_0.tar.bz2\n",
      "INFO:lume_services.environment.solver:Collecting /Users/jacquelinegarrahan/sandbox/lume-services/dev/local_conda_channel/linux-64/ncurses-6.3-h27087fc_1.tar.bz2\n",
      "INFO:lume_services.environment.solver:Collecting /Users/jacquelinegarrahan/sandbox/lume-services/dev/local_conda_channel/linux-64/libzlib-1.2.12-h166bdaf_2.tar.bz2\n",
      "INFO:lume_services.environment.solver:Collecting /Users/jacquelinegarrahan/sandbox/lume-services/dev/local_conda_channel/linux-64/libffi-3.4.2-h7f98852_5.tar.bz2\n",
      "INFO:lume_services.environment.solver:Collecting /Users/jacquelinegarrahan/sandbox/lume-services/dev/local_conda_channel/linux-64/bzip2-1.0.8-h7f98852_4.tar.bz2\n",
      "INFO:lume_services.environment.solver:Collecting /Users/jacquelinegarrahan/sandbox/lume-services/dev/local_conda_channel/linux-64/yaml-0.2.5-h7f98852_2.tar.bz2\n",
      "INFO:lume_services.environment.solver:Collecting /Users/jacquelinegarrahan/sandbox/lume-services/dev/local_conda_channel/linux-64/libnsl-2.0.0-h7f98852_0.tar.bz2\n",
      "INFO:lume_services.environment.solver:Collecting /Users/jacquelinegarrahan/sandbox/lume-services/dev/local_conda_channel/linux-64/libxcb-1.13-h7f98852_1004.tar.bz2\n",
      "INFO:lume_services.environment.solver:Collecting /Users/jacquelinegarrahan/sandbox/lume-services/dev/local_conda_channel/linux-64/libbrotlienc-1.0.9-h166bdaf_7.tar.bz2\n",
      "INFO:lume_services.environment.solver:Collecting /Users/jacquelinegarrahan/sandbox/lume-services/dev/local_conda_channel/linux-64/libbrotlidec-1.0.9-h166bdaf_7.tar.bz2\n",
      "INFO:lume_services.environment.solver:Collecting /Users/jacquelinegarrahan/sandbox/lume-services/dev/local_conda_channel/linux-64/libblas-3.9.0-16_linux64_openblas.tar.bz2\n",
      "INFO:lume_services.environment.solver:Collecting /Users/jacquelinegarrahan/sandbox/lume-services/dev/local_conda_channel/linux-64/reproc-cpp-14.2.3-h9c3ff4c_0.tar.bz2\n",
      "INFO:lume_services.environment.solver:Collecting /Users/jacquelinegarrahan/sandbox/lume-services/dev/local_conda_channel/linux-64/libedit-3.1.20191231-he28a2e2_2.tar.bz2\n",
      "INFO:lume_services.environment.solver:Collecting /Users/jacquelinegarrahan/sandbox/lume-services/dev/local_conda_channel/linux-64/readline-8.1.2-h0f457ee_0.tar.bz2\n",
      "INFO:lume_services.environment.solver:Collecting /Users/jacquelinegarrahan/sandbox/lume-services/dev/local_conda_channel/linux-64/zstd-1.5.2-h6239696_4.tar.bz2\n",
      "INFO:lume_services.environment.solver:Collecting /Users/jacquelinegarrahan/sandbox/lume-services/dev/local_conda_channel/linux-64/libpng-1.6.37-h753d276_4.tar.bz2\n",
      "INFO:lume_services.environment.solver:Collecting /Users/jacquelinegarrahan/sandbox/lume-services/dev/local_conda_channel/linux-64/libxml2-2.9.14-h22db469_4.tar.bz2\n",
      "INFO:lume_services.environment.solver:Collecting /Users/jacquelinegarrahan/sandbox/lume-services/dev/local_conda_channel/linux-64/libssh2-1.10.0-haa6b8db_3.tar.bz2\n",
      "INFO:lume_services.environment.solver:Collecting /Users/jacquelinegarrahan/sandbox/lume-services/dev/local_conda_channel/linux-64/libnghttp2-1.47.0-hdcd2b5c_1.tar.bz2\n"
     ]
    },
    {
     "name": "stderr",
     "output_type": "stream",
     "text": [
      "INFO:lume_services.environment.solver:Collecting /Users/jacquelinegarrahan/sandbox/lume-services/dev/local_conda_channel/linux-64/tk-8.6.12-h27826a3_0.tar.bz2\n",
      "INFO:lume_services.environment.solver:Collecting /Users/jacquelinegarrahan/sandbox/lume-services/dev/local_conda_channel/linux-64/libsqlite-3.39.3-h753d276_0.tar.bz2\n",
      "INFO:lume_services.environment.solver:Collecting /Users/jacquelinegarrahan/sandbox/lume-services/dev/local_conda_channel/linux-64/libsolv-0.7.22-h6239696_0.tar.bz2\n",
      "INFO:lume_services.environment.solver:Collecting /Users/jacquelinegarrahan/sandbox/lume-services/dev/local_conda_channel/linux-64/brotli-bin-1.0.9-h166bdaf_7.tar.bz2\n",
      "INFO:lume_services.environment.solver:Collecting /Users/jacquelinegarrahan/sandbox/lume-services/dev/local_conda_channel/linux-64/libcblas-3.9.0-16_linux64_openblas.tar.bz2\n",
      "INFO:lume_services.environment.solver:Collecting /Users/jacquelinegarrahan/sandbox/lume-services/dev/local_conda_channel/linux-64/liblapack-3.9.0-16_linux64_openblas.tar.bz2\n",
      "INFO:lume_services.environment.solver:Collecting /Users/jacquelinegarrahan/sandbox/lume-services/dev/local_conda_channel/linux-64/krb5-1.19.3-h3790be6_0.tar.bz2\n",
      "INFO:lume_services.environment.solver:Collecting /Users/jacquelinegarrahan/sandbox/lume-services/dev/local_conda_channel/linux-64/libtiff-4.4.0-h0e0dad5_3.tar.bz2\n",
      "INFO:lume_services.environment.solver:Collecting /Users/jacquelinegarrahan/sandbox/lume-services/dev/local_conda_channel/linux-64/freetype-2.12.1-hca18f0e_0.tar.bz2\n",
      "INFO:lume_services.environment.solver:Collecting /Users/jacquelinegarrahan/sandbox/lume-services/dev/local_conda_channel/linux-64/libarchive-3.5.2-hb890918_3.tar.bz2\n",
      "INFO:lume_services.environment.solver:Collecting /Users/jacquelinegarrahan/sandbox/lume-services/dev/local_conda_channel/linux-64/sqlite-3.39.3-h4ff8645_0.tar.bz2\n",
      "INFO:lume_services.environment.solver:Collecting /Users/jacquelinegarrahan/sandbox/lume-services/dev/local_conda_channel/linux-64/brotli-1.0.9-h166bdaf_7.tar.bz2\n",
      "INFO:lume_services.environment.solver:Collecting /Users/jacquelinegarrahan/sandbox/lume-services/dev/local_conda_channel/linux-64/libcurl-7.83.1-h7bff187_0.tar.bz2\n",
      "INFO:lume_services.environment.solver:Collecting /Users/jacquelinegarrahan/sandbox/lume-services/dev/local_conda_channel/linux-64/openjpeg-2.5.0-h7d73246_1.tar.bz2\n",
      "INFO:lume_services.environment.solver:Collecting /Users/jacquelinegarrahan/sandbox/lume-services/dev/local_conda_channel/linux-64/lcms2-2.12-hddcbb42_0.tar.bz2\n",
      "INFO:lume_services.environment.solver:Collecting /Users/jacquelinegarrahan/sandbox/lume-services/dev/local_conda_channel/linux-64/hdf5-1.12.2-nompi_h2386368_100.tar.bz2\n",
      "INFO:lume_services.environment.solver:Collecting /Users/jacquelinegarrahan/sandbox/lume-services/dev/local_conda_channel/linux-64/libmamba-0.25.0-hd8a31e3_2.tar.bz2\n",
      "INFO:lume_services.environment.solver:Collecting /Users/jacquelinegarrahan/sandbox/lume-services/dev/local_conda_channel/noarch/tzdata-2022c-h191b570_0.tar.bz2\n",
      "INFO:lume_services.environment.solver:Collecting /Users/jacquelinegarrahan/sandbox/lume-services/dev/local_conda_channel/noarch/pybind11-abi-4-hd8ed1ab_3.tar.bz2\n",
      "INFO:lume_services.environment.solver:Collecting /Users/jacquelinegarrahan/sandbox/lume-services/dev/local_conda_channel/linux-64/python-3.9.13-h9a8a25e_0_cpython.tar.bz2\n",
      "INFO:lume_services.environment.solver:Collecting /Users/jacquelinegarrahan/sandbox/lume-services/dev/local_conda_channel/noarch/wheel-0.37.1-pyhd8ed1ab_0.tar.bz2\n",
      "INFO:lume_services.environment.solver:Collecting /Users/jacquelinegarrahan/sandbox/lume-services/dev/local_conda_channel/noarch/setuptools-65.3.0-pyhd8ed1ab_1.tar.bz2\n",
      "INFO:lume_services.environment.solver:Collecting /Users/jacquelinegarrahan/sandbox/lume-services/dev/local_conda_channel/noarch/pip-22.2.2-pyhd8ed1ab_0.tar.bz2\n",
      "INFO:lume_services.environment.solver:Collecting /Users/jacquelinegarrahan/sandbox/lume-services/dev/local_conda_channel/noarch/munkres-1.1.4-pyh9f0ad1d_0.tar.bz2\n",
      "INFO:lume_services.environment.solver:Collecting /Users/jacquelinegarrahan/sandbox/lume-services/dev/local_conda_channel/noarch/cycler-0.11.0-pyhd8ed1ab_0.tar.bz2\n",
      "INFO:lume_services.environment.solver:Collecting /Users/jacquelinegarrahan/sandbox/lume-services/dev/local_conda_channel/noarch/soupsieve-2.3.2.post1-pyhd8ed1ab_0.tar.bz2\n",
      "INFO:lume_services.environment.solver:Collecting /Users/jacquelinegarrahan/sandbox/lume-services/dev/local_conda_channel/noarch/cached_property-1.5.2-pyha770c72_1.tar.bz2\n",
      "INFO:lume_services.environment.solver:Collecting /Users/jacquelinegarrahan/sandbox/lume-services/dev/local_conda_channel/noarch/unidecode-1.3.4-pyhd8ed1ab_0.tar.bz2\n",
      "INFO:lume_services.environment.solver:Collecting /Users/jacquelinegarrahan/sandbox/lume-services/dev/local_conda_channel/noarch/text-unidecode-1.3-py_0.tar.bz2\n",
      "INFO:lume_services.environment.solver:Collecting /Users/jacquelinegarrahan/sandbox/lume-services/dev/local_conda_channel/noarch/charset-normalizer-2.1.1-pyhd8ed1ab_0.tar.bz2\n",
      "INFO:lume_services.environment.solver:Collecting /Users/jacquelinegarrahan/sandbox/lume-services/dev/local_conda_channel/noarch/colorama-0.4.5-pyhd8ed1ab_0.tar.bz2\n",
      "INFO:lume_services.environment.solver:Collecting /Users/jacquelinegarrahan/sandbox/lume-services/dev/local_conda_channel/noarch/certifi-2022.6.15-pyhd8ed1ab_1.tar.bz2\n",
      "INFO:lume_services.environment.solver:Collecting /Users/jacquelinegarrahan/sandbox/lume-services/dev/local_conda_channel/noarch/heapdict-1.0.1-py_0.tar.bz2\n",
      "INFO:lume_services.environment.solver:Collecting /Users/jacquelinegarrahan/sandbox/lume-services/dev/local_conda_channel/noarch/glob2-0.7-py_0.tar.bz2\n",
      "INFO:lume_services.environment.solver:Collecting /Users/jacquelinegarrahan/sandbox/lume-services/dev/local_conda_channel/noarch/pkginfo-1.8.3-pyhd8ed1ab_0.tar.bz2\n",
      "INFO:lume_services.environment.solver:Collecting /Users/jacquelinegarrahan/sandbox/lume-services/dev/local_conda_channel/noarch/filelock-3.8.0-pyhd8ed1ab_0.tar.bz2\n",
      "INFO:lume_services.environment.solver:Collecting /Users/jacquelinegarrahan/sandbox/lume-services/dev/local_conda_channel/noarch/appdirs-1.4.4-pyh9f0ad1d_0.tar.bz2\n",
      "INFO:lume_services.environment.solver:Collecting /Users/jacquelinegarrahan/sandbox/lume-services/dev/local_conda_channel/noarch/websocket-client-1.4.1-pyhd8ed1ab_0.tar.bz2\n",
      "INFO:lume_services.environment.solver:Collecting /Users/jacquelinegarrahan/sandbox/lume-services/dev/local_conda_channel/noarch/six-1.16.0-pyh6c4a22f_0.tar.bz2\n",
      "INFO:lume_services.environment.solver:Collecting /Users/jacquelinegarrahan/sandbox/lume-services/dev/local_conda_channel/noarch/pycparser-2.21-pyhd8ed1ab_0.tar.bz2\n",
      "INFO:lume_services.environment.solver:Collecting /Users/jacquelinegarrahan/sandbox/lume-services/dev/local_conda_channel/noarch/idna-3.3-pyhd8ed1ab_0.tar.bz2\n",
      "INFO:lume_services.environment.solver:Collecting /Users/jacquelinegarrahan/sandbox/lume-services/dev/local_conda_channel/noarch/asn1crypto-1.5.1-pyhd8ed1ab_0.tar.bz2\n",
      "INFO:lume_services.environment.solver:Collecting /Users/jacquelinegarrahan/sandbox/lume-services/dev/local_conda_channel/noarch/pytzdata-2020.1-pyh9f0ad1d_0.tar.bz2\n",
      "INFO:lume_services.environment.solver:Collecting /Users/jacquelinegarrahan/sandbox/lume-services/dev/local_conda_channel/noarch/typing_extensions-4.3.0-pyha770c72_0.tar.bz2\n",
      "INFO:lume_services.environment.solver:Collecting /Users/jacquelinegarrahan/sandbox/lume-services/dev/local_conda_channel/noarch/natsort-8.2.0-pyhd8ed1ab_0.tar.bz2\n",
      "INFO:lume_services.environment.solver:Collecting /Users/jacquelinegarrahan/sandbox/lume-services/dev/local_conda_channel/noarch/fsspec-2022.8.2-pyhd8ed1ab_0.tar.bz2\n",
      "INFO:lume_services.environment.solver:Collecting /Users/jacquelinegarrahan/sandbox/lume-services/dev/local_conda_channel/noarch/tblib-1.7.0-pyhd8ed1ab_0.tar.bz2\n",
      "INFO:lume_services.environment.solver:Collecting /Users/jacquelinegarrahan/sandbox/lume-services/dev/local_conda_channel/noarch/locket-1.0.0-pyhd8ed1ab_0.tar.bz2\n",
      "INFO:lume_services.environment.solver:Collecting /Users/jacquelinegarrahan/sandbox/lume-services/dev/local_conda_channel/noarch/toolz-0.12.0-pyhd8ed1ab_0.tar.bz2\n",
      "INFO:lume_services.environment.solver:Collecting /Users/jacquelinegarrahan/sandbox/lume-services/dev/local_conda_channel/noarch/sortedcontainers-2.4.0-pyhd8ed1ab_0.tar.bz2\n"
     ]
    },
    {
     "name": "stderr",
     "output_type": "stream",
     "text": [
      "INFO:lume_services.environment.solver:Collecting /Users/jacquelinegarrahan/sandbox/lume-services/dev/local_conda_channel/noarch/zipp-3.8.1-pyhd8ed1ab_0.tar.bz2\n",
      "INFO:lume_services.environment.solver:Collecting /Users/jacquelinegarrahan/sandbox/lume-services/dev/local_conda_channel/noarch/pyparsing-3.0.9-pyhd8ed1ab_0.tar.bz2\n",
      "INFO:lume_services.environment.solver:Collecting /Users/jacquelinegarrahan/sandbox/lume-services/dev/local_conda_channel/noarch/toml-0.10.2-pyhd8ed1ab_0.tar.bz2\n",
      "INFO:lume_services.environment.solver:Collecting /Users/jacquelinegarrahan/sandbox/lume-services/dev/local_conda_channel/noarch/tabulate-0.8.10-pyhd8ed1ab_0.tar.bz2\n",
      "INFO:lume_services.environment.solver:Collecting /Users/jacquelinegarrahan/sandbox/lume-services/dev/local_conda_channel/noarch/pytz-2022.2.1-pyhd8ed1ab_0.tar.bz2\n",
      "INFO:lume_services.environment.solver:Collecting /Users/jacquelinegarrahan/sandbox/lume-services/dev/local_conda_channel/noarch/cloudpickle-2.1.0-pyhd8ed1ab_0.tar.bz2\n",
      "INFO:lume_services.environment.solver:Collecting /Users/jacquelinegarrahan/sandbox/lume-services/dev/local_conda_channel/noarch/pymysql-1.0.2-pyhd8ed1ab_0.tar.bz2\n",
      "INFO:lume_services.environment.solver:Collecting /Users/jacquelinegarrahan/sandbox/lume-services/dev/local_conda_channel/noarch/beautifulsoup4-4.11.1-pyha770c72_0.tar.bz2\n",
      "INFO:lume_services.environment.solver:Collecting /Users/jacquelinegarrahan/sandbox/lume-services/dev/local_conda_channel/noarch/cached-property-1.5.2-hd8ed1ab_1.tar.bz2\n",
      "INFO:lume_services.environment.solver:Collecting /Users/jacquelinegarrahan/sandbox/lume-services/dev/local_conda_channel/noarch/python-slugify-6.1.2-pyhd8ed1ab_0.tar.bz2\n",
      "INFO:lume_services.environment.solver:Collecting /Users/jacquelinegarrahan/sandbox/lume-services/dev/local_conda_channel/noarch/tqdm-4.64.1-pyhd8ed1ab_0.tar.bz2\n",
      "INFO:lume_services.environment.solver:Collecting /Users/jacquelinegarrahan/sandbox/lume-services/dev/local_conda_channel/noarch/zict-2.2.0-pyhd8ed1ab_0.tar.bz2\n",
      "INFO:lume_services.environment.solver:Collecting /Users/jacquelinegarrahan/sandbox/lume-services/dev/local_conda_channel/noarch/docker-pycreds-0.4.0-py_0.tar.bz2\n",
      "INFO:lume_services.environment.solver:Collecting /Users/jacquelinegarrahan/sandbox/lume-services/dev/local_conda_channel/noarch/python-dateutil-2.8.2-pyhd8ed1ab_0.tar.bz2\n",
      "INFO:lume_services.environment.solver:Collecting /Users/jacquelinegarrahan/sandbox/lume-services/dev/local_conda_channel/noarch/typing-extensions-4.3.0-hd8ed1ab_0.tar.bz2\n",
      "INFO:lume_services.environment.solver:Collecting /Users/jacquelinegarrahan/sandbox/lume-services/dev/local_conda_channel/noarch/partd-1.3.0-pyhd8ed1ab_0.tar.bz2\n",
      "INFO:lume_services.environment.solver:Collecting /Users/jacquelinegarrahan/sandbox/lume-services/dev/local_conda_channel/noarch/importlib_resources-5.9.0-pyhd8ed1ab_0.tar.bz2\n",
      "INFO:lume_services.environment.solver:Collecting /Users/jacquelinegarrahan/sandbox/lume-services/dev/local_conda_channel/noarch/packaging-21.3-pyhd8ed1ab_0.tar.bz2\n",
      "INFO:lume_services.environment.solver:Collecting /Users/jacquelinegarrahan/sandbox/lume-services/dev/local_conda_channel/noarch/croniter-0.3.36-pyhd8ed1ab_0.tar.bz2\n",
      "INFO:lume_services.environment.solver:Collecting /Users/jacquelinegarrahan/sandbox/lume-services/dev/local_conda_channel/noarch/marshmallow-3.17.1-pyhd8ed1ab_0.tar.bz2\n",
      "INFO:lume_services.environment.solver:Collecting /Users/jacquelinegarrahan/sandbox/lume-services/dev/local_conda_channel/noarch/marshmallow-oneofschema-3.0.1-pyhd8ed1ab_0.tar.bz2\n",
      "INFO:lume_services.environment.solver:Collecting /Users/jacquelinegarrahan/sandbox/lume-services/dev/local_conda_channel/linux-64/python_abi-3.9-2_cp39.tar.bz2\n",
      "INFO:lume_services.environment.solver:Collecting /Users/jacquelinegarrahan/sandbox/lume-services/dev/local_conda_channel/linux-64/unicodedata2-14.0.0-py39hb9d737c_1.tar.bz2\n",
      "INFO:lume_services.environment.solver:Collecting /Users/jacquelinegarrahan/sandbox/lume-services/dev/local_conda_channel/linux-64/pillow-9.2.0-py39hd5dbb17_2.tar.bz2\n",
      "INFO:lume_services.environment.solver:Collecting /Users/jacquelinegarrahan/sandbox/lume-services/dev/local_conda_channel/linux-64/kiwisolver-1.4.4-py39hf939315_0.tar.bz2\n",
      "INFO:lume_services.environment.solver:Collecting /Users/jacquelinegarrahan/sandbox/lume-services/dev/local_conda_channel/linux-64/ruamel.yaml.clib-0.2.6-py39hb9d737c_1.tar.bz2\n",
      "INFO:lume_services.environment.solver:Collecting /Users/jacquelinegarrahan/sandbox/lume-services/dev/local_conda_channel/linux-64/markupsafe-2.1.1-py39hb9d737c_1.tar.bz2\n",
      "INFO:lume_services.environment.solver:Collecting /Users/jacquelinegarrahan/sandbox/lume-services/dev/local_conda_channel/linux-64/pysocks-1.7.1-py39hf3d152e_5.tar.bz2\n",
      "INFO:lume_services.environment.solver:Collecting /Users/jacquelinegarrahan/sandbox/lume-services/dev/local_conda_channel/linux-64/ruamel_yaml-0.15.80-py39hb9d737c_1007.tar.bz2\n",
      "INFO:lume_services.environment.solver:Collecting /Users/jacquelinegarrahan/sandbox/lume-services/dev/local_conda_channel/linux-64/pycosat-0.6.3-py39hb9d737c_1010.tar.bz2\n",
      "INFO:lume_services.environment.solver:Collecting /Users/jacquelinegarrahan/sandbox/lume-services/dev/local_conda_channel/linux-64/python-libarchive-c-4.0-py39hf3d152e_1.tar.bz2\n",
      "INFO:lume_services.environment.solver:Collecting /Users/jacquelinegarrahan/sandbox/lume-services/dev/local_conda_channel/linux-64/py-lief-0.12.1-py39h5a03fae_0.tar.bz2\n",
      "INFO:lume_services.environment.solver:Collecting /Users/jacquelinegarrahan/sandbox/lume-services/dev/local_conda_channel/linux-64/conda-package-handling-1.8.1-py39hb9d737c_1.tar.bz2\n",
      "INFO:lume_services.environment.solver:Collecting /Users/jacquelinegarrahan/sandbox/lume-services/dev/local_conda_channel/linux-64/chardet-5.0.0-py39hf3d152e_0.tar.bz2\n",
      "INFO:lume_services.environment.solver:Collecting /Users/jacquelinegarrahan/sandbox/lume-services/dev/local_conda_channel/linux-64/cffi-1.15.1-py39he91dace_0.tar.bz2\n",
      "INFO:lume_services.environment.solver:Collecting /Users/jacquelinegarrahan/sandbox/lume-services/dev/local_conda_channel/linux-64/greenlet-1.1.3-py39h5a03fae_0.tar.bz2\n",
      "INFO:lume_services.environment.solver:Collecting /Users/jacquelinegarrahan/sandbox/lume-services/dev/local_conda_channel/linux-64/tornado-6.1-py39hb9d737c_3.tar.bz2\n",
      "INFO:lume_services.environment.solver:Collecting /Users/jacquelinegarrahan/sandbox/lume-services/dev/local_conda_channel/linux-64/psutil-5.9.2-py39hb9d737c_0.tar.bz2\n",
      "INFO:lume_services.environment.solver:Collecting /Users/jacquelinegarrahan/sandbox/lume-services/dev/local_conda_channel/linux-64/msgpack-python-1.0.4-py39hf939315_0.tar.bz2\n",
      "INFO:lume_services.environment.solver:Collecting /Users/jacquelinegarrahan/sandbox/lume-services/dev/local_conda_channel/linux-64/cytoolz-0.12.0-py39hb9d737c_0.tar.bz2\n",
      "INFO:lume_services.environment.solver:Collecting /Users/jacquelinegarrahan/sandbox/lume-services/dev/local_conda_channel/linux-64/pendulum-2.1.2-py39hb9d737c_4.tar.bz2\n",
      "INFO:lume_services.environment.solver:Collecting /Users/jacquelinegarrahan/sandbox/lume-services/dev/local_conda_channel/linux-64/mypy_extensions-0.4.3-py39hf3d152e_5.tar.bz2\n",
      "INFO:lume_services.environment.solver:Collecting /Users/jacquelinegarrahan/sandbox/lume-services/dev/local_conda_channel/linux-64/click-8.1.3-py39hf3d152e_0.tar.bz2\n",
      "INFO:lume_services.environment.solver:Collecting /Users/jacquelinegarrahan/sandbox/lume-services/dev/local_conda_channel/linux-64/pyyaml-6.0-py39hb9d737c_4.tar.bz2\n",
      "INFO:lume_services.environment.solver:Collecting /Users/jacquelinegarrahan/sandbox/lume-services/dev/local_conda_channel/linux-64/pymongo-4.2.0-py39h5a03fae_1.tar.bz2\n",
      "INFO:lume_services.environment.solver:Collecting /Users/jacquelinegarrahan/sandbox/lume-services/dev/local_conda_channel/linux-64/numpy-1.23.2-py39hba7629e_0.tar.bz2\n",
      "INFO:lume_services.environment.solver:Collecting /Users/jacquelinegarrahan/sandbox/lume-services/dev/local_conda_channel/linux-64/dependency_injector-4.40.0-py39hb9d737c_0.tar.bz2\n",
      "INFO:lume_services.environment.solver:Collecting /Users/jacquelinegarrahan/sandbox/lume-services/dev/local_conda_channel/linux-64/libmambapy-0.25.0-py39hd55135b_2.tar.bz2\n",
      "INFO:lume_services.environment.solver:Collecting /Users/jacquelinegarrahan/sandbox/lume-services/dev/local_conda_channel/linux-64/pydantic-1.10.2-py39hb9d737c_0.tar.bz2\n"
     ]
    },
    {
     "name": "stderr",
     "output_type": "stream",
     "text": [
      "INFO:lume_services.environment.solver:Collecting /Users/jacquelinegarrahan/sandbox/lume-services/dev/local_conda_channel/linux-64/fonttools-4.37.1-py39hb9d737c_0.tar.bz2\n",
      "INFO:lume_services.environment.solver:Collecting /Users/jacquelinegarrahan/sandbox/lume-services/dev/local_conda_channel/linux-64/ruamel.yaml-0.17.21-py39hb9d737c_1.tar.bz2\n",
      "INFO:lume_services.environment.solver:Collecting /Users/jacquelinegarrahan/sandbox/lume-services/dev/local_conda_channel/linux-64/brotlipy-0.7.0-py39hb9d737c_1004.tar.bz2\n",
      "INFO:lume_services.environment.solver:Collecting /Users/jacquelinegarrahan/sandbox/lume-services/dev/local_conda_channel/linux-64/cryptography-37.0.4-py39hd97740a_0.tar.bz2\n",
      "INFO:lume_services.environment.solver:Collecting /Users/jacquelinegarrahan/sandbox/lume-services/dev/local_conda_channel/linux-64/sqlalchemy-1.4.41-py39hb9d737c_0.tar.bz2\n",
      "INFO:lume_services.environment.solver:Collecting /Users/jacquelinegarrahan/sandbox/lume-services/dev/local_conda_channel/linux-64/scipy-1.9.1-py39h8ba3f38_0.tar.bz2\n",
      "INFO:lume_services.environment.solver:Collecting /Users/jacquelinegarrahan/sandbox/lume-services/dev/local_conda_channel/linux-64/pandas-1.4.4-py39h1832856_0.tar.bz2\n",
      "INFO:lume_services.environment.solver:Collecting /Users/jacquelinegarrahan/sandbox/lume-services/dev/local_conda_channel/linux-64/h5py-3.7.0-nompi_py39hd51670d_101.tar.bz2\n",
      "INFO:lume_services.environment.solver:Collecting /Users/jacquelinegarrahan/sandbox/lume-services/dev/local_conda_channel/linux-64/matplotlib-base-3.5.3-py39h19d6b11_2.tar.bz2\n",
      "INFO:lume_services.environment.solver:Collecting /Users/jacquelinegarrahan/sandbox/lume-services/dev/local_conda_channel/linux-64/python-box-6.0.2-py39hb9d737c_3.tar.bz2\n",
      "INFO:lume_services.environment.solver:Collecting /Users/jacquelinegarrahan/sandbox/lume-services/dev/local_conda_channel/noarch/jinja2-3.1.2-pyhd8ed1ab_1.tar.bz2\n",
      "INFO:lume_services.environment.solver:Collecting /Users/jacquelinegarrahan/sandbox/lume-services/dev/local_conda_channel/noarch/dask-core-2022.9.0-pyhd8ed1ab_0.tar.bz2\n",
      "INFO:lume_services.environment.solver:Collecting /Users/jacquelinegarrahan/sandbox/lume-services/dev/local_conda_channel/noarch/lume-model-1.4-pyhd8ed1ab_1.tar.bz2\n",
      "INFO:lume_services.environment.solver:Collecting /Users/jacquelinegarrahan/sandbox/lume-services/dev/local_conda_channel/noarch/pyopenssl-22.0.0-pyhd8ed1ab_0.tar.bz2\n",
      "INFO:lume_services.environment.solver:Collecting /Users/jacquelinegarrahan/sandbox/lume-services/dev/local_conda_channel/noarch/openpmd-beamphysics-0.6.2-pyhd8ed1ab_0.tar.bz2\n",
      "INFO:lume_services.environment.solver:Collecting /Users/jacquelinegarrahan/sandbox/lume-services/dev/local_conda_channel/noarch/urllib3-1.26.11-pyhd8ed1ab_0.tar.bz2\n",
      "INFO:lume_services.environment.solver:Collecting /Users/jacquelinegarrahan/sandbox/lume-services/dev/local_conda_channel/noarch/lume-base-0.2.3-pyhd8ed1ab_0.tar.bz2\n",
      "INFO:lume_services.environment.solver:Collecting /Users/jacquelinegarrahan/sandbox/lume-services/dev/local_conda_channel/noarch/requests-2.28.1-pyhd8ed1ab_1.tar.bz2\n",
      "INFO:lume_services.environment.solver:Collecting /Users/jacquelinegarrahan/sandbox/lume-services/dev/local_conda_channel/noarch/distributed-2022.9.0-pyhd8ed1ab_0.tar.bz2\n",
      "INFO:lume_services.environment.solver:Collecting /Users/jacquelinegarrahan/sandbox/lume-services/dev/local_conda_channel/linux-64/conda-4.14.0-py39hf3d152e_0.tar.bz2\n",
      "INFO:lume_services.environment.solver:Collecting /Users/jacquelinegarrahan/sandbox/lume-services/dev/local_conda_channel/linux-64/docker-py-5.0.3-py39hf3d152e_2.tar.bz2\n",
      "INFO:lume_services.environment.solver:Collecting /Users/jacquelinegarrahan/sandbox/lume-services/dev/local_conda_channel/linux-64/conda-build-3.22.0-py39hf3d152e_2.tar.bz2\n",
      "INFO:lume_services.environment.solver:Collecting /Users/jacquelinegarrahan/sandbox/lume-services/dev/local_conda_channel/linux-64/mamba-0.25.0-py39hfa8f2c8_2.tar.bz2\n",
      "INFO:lume_services.environment.solver:Collecting /Users/jacquelinegarrahan/sandbox/lume-services/dev/local_conda_channel/noarch/prefect-1.3.1-pyhd8ed1ab_0.tar.bz2\n",
      "  Running command python setup.py egg_info\n",
      "  running egg_info\n",
      "  creating /private/var/folders/nh/g2v_nmtj7t1g94gmjtgjrk3r0000gn/T/pip-pip-egg-info-jy8o5pi4/lume_services.egg-info\n",
      "  writing /private/var/folders/nh/g2v_nmtj7t1g94gmjtgjrk3r0000gn/T/pip-pip-egg-info-jy8o5pi4/lume_services.egg-info/PKG-INFO\n",
      "  writing dependency_links to /private/var/folders/nh/g2v_nmtj7t1g94gmjtgjrk3r0000gn/T/pip-pip-egg-info-jy8o5pi4/lume_services.egg-info/dependency_links.txt\n",
      "  writing entry points to /private/var/folders/nh/g2v_nmtj7t1g94gmjtgjrk3r0000gn/T/pip-pip-egg-info-jy8o5pi4/lume_services.egg-info/entry_points.txt\n",
      "  writing requirements to /private/var/folders/nh/g2v_nmtj7t1g94gmjtgjrk3r0000gn/T/pip-pip-egg-info-jy8o5pi4/lume_services.egg-info/requires.txt\n",
      "  writing top-level names to /private/var/folders/nh/g2v_nmtj7t1g94gmjtgjrk3r0000gn/T/pip-pip-egg-info-jy8o5pi4/lume_services.egg-info/top_level.txt\n",
      "  writing manifest file '/private/var/folders/nh/g2v_nmtj7t1g94gmjtgjrk3r0000gn/T/pip-pip-egg-info-jy8o5pi4/lume_services.egg-info/SOURCES.txt'\n",
      "  reading manifest file '/private/var/folders/nh/g2v_nmtj7t1g94gmjtgjrk3r0000gn/T/pip-pip-egg-info-jy8o5pi4/lume_services.egg-info/SOURCES.txt'\n",
      "  reading manifest template 'MANIFEST.in'\n",
      "  adding license file 'LICENSE'\n",
      "  writing manifest file '/private/var/folders/nh/g2v_nmtj7t1g94gmjtgjrk3r0000gn/T/pip-pip-egg-info-jy8o5pi4/lume_services.egg-info/SOURCES.txt'\n",
      "  Running command python setup.py egg_info\n",
      "  running egg_info\n",
      "  creating /private/var/folders/nh/g2v_nmtj7t1g94gmjtgjrk3r0000gn/T/pip-pip-egg-info-g8fo87nu/my_model.egg-info\n",
      "  writing /private/var/folders/nh/g2v_nmtj7t1g94gmjtgjrk3r0000gn/T/pip-pip-egg-info-g8fo87nu/my_model.egg-info/PKG-INFO\n",
      "  writing dependency_links to /private/var/folders/nh/g2v_nmtj7t1g94gmjtgjrk3r0000gn/T/pip-pip-egg-info-g8fo87nu/my_model.egg-info/dependency_links.txt\n",
      "  writing entry points to /private/var/folders/nh/g2v_nmtj7t1g94gmjtgjrk3r0000gn/T/pip-pip-egg-info-g8fo87nu/my_model.egg-info/entry_points.txt\n",
      "  writing requirements to /private/var/folders/nh/g2v_nmtj7t1g94gmjtgjrk3r0000gn/T/pip-pip-egg-info-g8fo87nu/my_model.egg-info/requires.txt\n",
      "  writing top-level names to /private/var/folders/nh/g2v_nmtj7t1g94gmjtgjrk3r0000gn/T/pip-pip-egg-info-g8fo87nu/my_model.egg-info/top_level.txt\n",
      "  writing manifest file '/private/var/folders/nh/g2v_nmtj7t1g94gmjtgjrk3r0000gn/T/pip-pip-egg-info-g8fo87nu/my_model.egg-info/SOURCES.txt'\n",
      "  reading manifest file '/private/var/folders/nh/g2v_nmtj7t1g94gmjtgjrk3r0000gn/T/pip-pip-egg-info-g8fo87nu/my_model.egg-info/SOURCES.txt'\n",
      "  reading manifest template 'MANIFEST.in'\n",
      "  adding license file 'LICENSE'\n",
      "  writing manifest file '/private/var/folders/nh/g2v_nmtj7t1g94gmjtgjrk3r0000gn/T/pip-pip-egg-info-g8fo87nu/my_model.egg-info/SOURCES.txt'\n",
      "INFO:lume_services.environment.solver:Pip files installed: \n",
      "INFO:lume_services.environment.solver:Dependency installation complete\n",
      "DEBUG:lume_services.environment.solver:Moving source to pip directory: /tmp/lume-services/my_model-0.0.9.tar.gz\n",
      "INFO:lume_services.environment.solver:Installed source to local pip repo.\n",
      "INFO:lume_services.models.model:installing package\n",
      "INFO:lume_services.environment.solver:https://github.com/jacquelinegarrahan/my-model/releases/download/v0.0.9/my_model-0.0.9.tar.gz saved to /tmp/lume-services/my_model-0.0.9.tar.gz\n",
      "INFO:lume_services.environment.solver:Installing dependencies...\n",
      "DEBUG:lume_services.environment.solver:installing conda deps\n",
      "DEBUG:lume_services.environment.solver:Opening subprocess\n",
      "DEBUG:lume_services.environment.solver:Collecting package metadata (current_repodata.json): ...working... done\n",
      "DEBUG:lume_services.environment.solver:Solving environment: ...working... done\n",
      "DEBUG:lume_services.environment.solver:\n",
      "DEBUG:lume_services.environment.solver:# All requested packages already installed.\n",
      "DEBUG:lume_services.environment.solver:\n",
      "DEBUG:lume_services.environment.solver:Retrieving notices: ...working... done\n",
      "DEBUG:lume_services.environment.solver:\n",
      "INFO:lume_services.environment.solver:Dependency installation complete\n",
      "DEBUG:lume_services.environment.solver:installing pip deps\n",
      "DEBUG:lume_services.environment.solver:Opening subprocess\n"
     ]
    },
    {
     "name": "stderr",
     "output_type": "stream",
     "text": [
      "  Running command python setup.py egg_info\n",
      "  running egg_info\n",
      "  creating /private/var/folders/nh/g2v_nmtj7t1g94gmjtgjrk3r0000gn/T/pip-pip-egg-info-l85qzpim/my_model.egg-info\n",
      "  writing /private/var/folders/nh/g2v_nmtj7t1g94gmjtgjrk3r0000gn/T/pip-pip-egg-info-l85qzpim/my_model.egg-info/PKG-INFO\n",
      "  writing dependency_links to /private/var/folders/nh/g2v_nmtj7t1g94gmjtgjrk3r0000gn/T/pip-pip-egg-info-l85qzpim/my_model.egg-info/dependency_links.txt\n",
      "  writing entry points to /private/var/folders/nh/g2v_nmtj7t1g94gmjtgjrk3r0000gn/T/pip-pip-egg-info-l85qzpim/my_model.egg-info/entry_points.txt\n",
      "  writing requirements to /private/var/folders/nh/g2v_nmtj7t1g94gmjtgjrk3r0000gn/T/pip-pip-egg-info-l85qzpim/my_model.egg-info/requires.txt\n",
      "  writing top-level names to /private/var/folders/nh/g2v_nmtj7t1g94gmjtgjrk3r0000gn/T/pip-pip-egg-info-l85qzpim/my_model.egg-info/top_level.txt\n",
      "  writing manifest file '/private/var/folders/nh/g2v_nmtj7t1g94gmjtgjrk3r0000gn/T/pip-pip-egg-info-l85qzpim/my_model.egg-info/SOURCES.txt'\n",
      "  reading manifest file '/private/var/folders/nh/g2v_nmtj7t1g94gmjtgjrk3r0000gn/T/pip-pip-egg-info-l85qzpim/my_model.egg-info/SOURCES.txt'\n",
      "  reading manifest template 'MANIFEST.in'\n",
      "  adding license file 'LICENSE'\n",
      "  writing manifest file '/private/var/folders/nh/g2v_nmtj7t1g94gmjtgjrk3r0000gn/T/pip-pip-egg-info-l85qzpim/my_model.egg-info/SOURCES.txt'\n",
      "  Running command python setup.py bdist_wheel\n",
      "  running bdist_wheel\n",
      "  running build\n",
      "  running build_py\n",
      "  creating build\n",
      "  creating build/lib\n",
      "  creating build/lib/my_model\n",
      "  copying my_model/config.py -> build/lib/my_model\n",
      "  copying my_model/_version.py -> build/lib/my_model\n",
      "  copying my_model/__init__.py -> build/lib/my_model\n",
      "  copying my_model/flow.py -> build/lib/my_model\n",
      "  copying my_model/model.py -> build/lib/my_model\n",
      "  creating build/lib/my_model/tests\n",
      "  copying my_model/tests/test_flow.py -> build/lib/my_model/tests\n",
      "  copying my_model/tests/__init__.py -> build/lib/my_model/tests\n",
      "  creating build/lib/my_model/cli\n",
      "  copying my_model/cli/plot.py -> build/lib/my_model/cli\n",
      "  copying my_model/cli/__init__.py -> build/lib/my_model/cli\n",
      "  creating build/lib/my_model/files\n",
      "  copying my_model/files/__init__.py -> build/lib/my_model/files\n",
      "  running egg_info\n",
      "  writing my_model.egg-info/PKG-INFO\n",
      "  writing dependency_links to my_model.egg-info/dependency_links.txt\n",
      "  writing entry points to my_model.egg-info/entry_points.txt\n",
      "  writing requirements to my_model.egg-info/requires.txt\n",
      "  writing top-level names to my_model.egg-info/top_level.txt\n",
      "  reading manifest file 'my_model.egg-info/SOURCES.txt'\n",
      "  reading manifest template 'MANIFEST.in'\n",
      "  adding license file 'LICENSE'\n",
      "  writing manifest file 'my_model.egg-info/SOURCES.txt'\n",
      "  copying my_model/files/variables.yml -> build/lib/my_model/files\n",
      "  UPDATING build/lib/my_model/_version.py\n",
      "  set build/lib/my_model/_version.py to '0.0.9'\n",
      "  /Users/jacquelinegarrahan/miniconda3/envs/lume-services-dev/lib/python3.9/site-packages/setuptools/command/install.py:34: SetuptoolsDeprecationWarning: setup.py install is deprecated. Use build and pip and other standards-based tools.\n",
      "    warnings.warn(\n",
      "  installing to build/bdist.macosx-10.9-x86_64/wheel\n",
      "  running install\n",
      "  running install_lib\n",
      "  creating build/bdist.macosx-10.9-x86_64\n",
      "  creating build/bdist.macosx-10.9-x86_64/wheel\n",
      "  creating build/bdist.macosx-10.9-x86_64/wheel/my_model\n",
      "  copying build/lib/my_model/config.py -> build/bdist.macosx-10.9-x86_64/wheel/my_model\n",
      "  copying build/lib/my_model/_version.py -> build/bdist.macosx-10.9-x86_64/wheel/my_model\n",
      "  creating build/bdist.macosx-10.9-x86_64/wheel/my_model/tests\n",
      "  copying build/lib/my_model/tests/test_flow.py -> build/bdist.macosx-10.9-x86_64/wheel/my_model/tests\n",
      "  copying build/lib/my_model/tests/__init__.py -> build/bdist.macosx-10.9-x86_64/wheel/my_model/tests\n",
      "  copying build/lib/my_model/__init__.py -> build/bdist.macosx-10.9-x86_64/wheel/my_model\n",
      "  copying build/lib/my_model/flow.py -> build/bdist.macosx-10.9-x86_64/wheel/my_model\n",
      "  creating build/bdist.macosx-10.9-x86_64/wheel/my_model/cli\n",
      "  copying build/lib/my_model/cli/plot.py -> build/bdist.macosx-10.9-x86_64/wheel/my_model/cli\n",
      "  copying build/lib/my_model/cli/__init__.py -> build/bdist.macosx-10.9-x86_64/wheel/my_model/cli\n",
      "  copying build/lib/my_model/model.py -> build/bdist.macosx-10.9-x86_64/wheel/my_model\n",
      "  creating build/bdist.macosx-10.9-x86_64/wheel/my_model/files\n",
      "  copying build/lib/my_model/files/__init__.py -> build/bdist.macosx-10.9-x86_64/wheel/my_model/files\n",
      "  copying build/lib/my_model/files/variables.yml -> build/bdist.macosx-10.9-x86_64/wheel/my_model/files\n",
      "  running install_egg_info\n",
      "  Copying my_model.egg-info to build/bdist.macosx-10.9-x86_64/wheel/my_model-0.0.9-py3.9.egg-info\n",
      "  running install_scripts\n",
      "  adding license file \"LICENSE\" (matched pattern \"LICEN[CS]E*\")\n",
      "  creating build/bdist.macosx-10.9-x86_64/wheel/my_model-0.0.9.dist-info/WHEEL\n",
      "  creating '/private/var/folders/nh/g2v_nmtj7t1g94gmjtgjrk3r0000gn/T/pip-wheel-12i0uueq/my_model-0.0.9-py3-none-any.whl' and adding 'build/bdist.macosx-10.9-x86_64/wheel' to it\n",
      "  adding 'my_model/__init__.py'\n",
      "  adding 'my_model/_version.py'\n",
      "  adding 'my_model/config.py'\n",
      "  adding 'my_model/flow.py'\n",
      "  adding 'my_model/model.py'\n",
      "  adding 'my_model/cli/__init__.py'\n",
      "  adding 'my_model/cli/plot.py'\n",
      "  adding 'my_model/files/__init__.py'\n",
      "  adding 'my_model/files/variables.yml'\n",
      "  adding 'my_model/tests/__init__.py'\n",
      "  adding 'my_model/tests/test_flow.py'\n",
      "  adding 'my_model-0.0.9.dist-info/LICENSE'\n",
      "  adding 'my_model-0.0.9.dist-info/METADATA'\n",
      "  adding 'my_model-0.0.9.dist-info/WHEEL'\n",
      "  adding 'my_model-0.0.9.dist-info/entry_points.txt'\n",
      "  adding 'my_model-0.0.9.dist-info/top_level.txt'\n",
      "  adding 'my_model-0.0.9.dist-info/RECORD'\n",
      "  removing build/bdist.macosx-10.9-x86_64/wheel\n",
      "DEBUG:lume_services.environment.solver:Using pip 22.2.2 from /Users/jacquelinegarrahan/miniconda3/envs/lume-services-dev/lib/python3.9/site-packages/pip (python 3.9)\n",
      "DEBUG:lume_services.environment.solver:Processing /tmp/lume-services/my_model-0.0.9.tar.gz\n",
      "DEBUG:lume_services.environment.solver:  Preparing metadata (setup.py): started\n",
      "DEBUG:lume_services.environment.solver:  Preparing metadata (setup.py): finished with status 'done'\n",
      "DEBUG:lume_services.environment.solver:Building wheels for collected packages: my-model\n",
      "DEBUG:lume_services.environment.solver:  Building wheel for my-model (setup.py): started\n",
      "DEBUG:lume_services.environment.solver:  Building wheel for my-model (setup.py): finished with status 'done'\n",
      "DEBUG:lume_services.environment.solver:  Created wheel for my-model: filename=my_model-0.0.9-py3-none-any.whl size=6935 sha256=469696de62f077b12f3e848059bb97569d1045bfe669d7a2e88c2cfd2ba22154\n",
      "DEBUG:lume_services.environment.solver:  Stored in directory: /Users/jacquelinegarrahan/Library/Caches/pip/wheels/00/5a/48/ce24154dfb23f589c6d9c26a354b3c26670235071dd3174036\n",
      "DEBUG:lume_services.environment.solver:Successfully built my-model\n",
      "DEBUG:lume_services.environment.solver:Installing collected packages: my-model\n",
      "DEBUG:lume_services.environment.solver:  Attempting uninstall: my-model\n",
      "DEBUG:lume_services.environment.solver:    Found existing installation: my-model 0.0.9\n",
      "DEBUG:lume_services.environment.solver:    Uninstalling my-model-0.0.9:\n",
      "DEBUG:lume_services.environment.solver:      Removing file or directory /Users/jacquelinegarrahan/miniconda3/envs/lume-services-dev/lib/python3.9/site-packages/my_model-0.0.9.dist-info/\n",
      "DEBUG:lume_services.environment.solver:      Removing file or directory /Users/jacquelinegarrahan/miniconda3/envs/lume-services-dev/lib/python3.9/site-packages/my_model/\n",
      "DEBUG:lume_services.environment.solver:      Successfully uninstalled my-model-0.0.9\n",
      "DEBUG:lume_services.environment.solver:Successfully installed my-model-0.0.9\n",
      "DEBUG:lume_services.environment.solver:\n",
      "INFO:lume_services.environment.solver:Dependency installation complete\n",
      "INFO:lume_services.services.models.db.db:ModelDB inserting: INSERT INTO deployment (version, package_import_name, asset_dir, source, sha256, image, is_live, model_id) VALUES (:version, :package_import_name, :asset_dir, :source, :sha256, :image, :is_live, :model_id)\n",
      "DEBUG:lume_services.services.models.db.db:ModelDB creating session.\n",
      "DEBUG:lume_services.services.models.db.db:ModelDB session created.\n"
     ]
    },
    {
     "name": "stderr",
     "output_type": "stream",
     "text": [
      "INFO:lume_services.services.models.db.db:Sucessfully executed: INSERT INTO deployment (version, package_import_name, asset_dir, source, sha256, image, is_live, model_id) VALUES (:version, :package_import_name, :asset_dir, :source, :sha256, :image, :is_live, :model_id)\n",
      "INFO:lume_services.services.models.db.db:ModelDB inserting many: ['INSERT INTO deployment_dependencies (name, source, local_source, version, deployment_id, dependency_type_id) VALUES (:name, :source, :local_source, :version, :deployment_id, (SELECT dependency_type.id \\nFROM dependency_type \\nWHERE dependency_type.type = :type_1))', 'INSERT INTO deployment_dependencies (name, source, local_source, version, deployment_id, dependency_type_id) VALUES (:name, :source, :local_source, :version, :deployment_id, (SELECT dependency_type.id \\nFROM dependency_type \\nWHERE dependency_type.type = :type_1))', 'INSERT INTO deployment_dependencies (name, source, local_source, version, deployment_id, dependency_type_id) VALUES (:name, :source, :local_source, :version, :deployment_id, (SELECT dependency_type.id \\nFROM dependency_type \\nWHERE dependency_type.type = :type_1))', 'INSERT INTO deployment_dependencies (name, source, local_source, version, deployment_id, dependency_type_id) VALUES (:name, :source, :local_source, :version, :deployment_id, (SELECT dependency_type.id \\nFROM dependency_type \\nWHERE dependency_type.type = :type_1))', 'INSERT INTO deployment_dependencies (name, source, local_source, version, deployment_id, dependency_type_id) VALUES (:name, :source, :local_source, :version, :deployment_id, (SELECT dependency_type.id \\nFROM dependency_type \\nWHERE dependency_type.type = :type_1))', 'INSERT INTO deployment_dependencies (name, source, local_source, version, deployment_id, dependency_type_id) VALUES (:name, :source, :local_source, :version, :deployment_id, (SELECT dependency_type.id \\nFROM dependency_type \\nWHERE dependency_type.type = :type_1))', 'INSERT INTO deployment_dependencies (name, source, local_source, version, deployment_id, dependency_type_id) VALUES (:name, :source, :local_source, :version, :deployment_id, (SELECT dependency_type.id \\nFROM dependency_type \\nWHERE dependency_type.type = :type_1))', 'INSERT INTO deployment_dependencies (name, source, local_source, version, deployment_id, dependency_type_id) VALUES (:name, :source, :local_source, :version, :deployment_id, (SELECT dependency_type.id \\nFROM dependency_type \\nWHERE dependency_type.type = :type_1))', 'INSERT INTO deployment_dependencies (name, source, local_source, version, deployment_id, dependency_type_id) VALUES (:name, :source, :local_source, :version, :deployment_id, (SELECT dependency_type.id \\nFROM dependency_type \\nWHERE dependency_type.type = :type_1))', 'INSERT INTO deployment_dependencies (name, source, local_source, version, deployment_id, dependency_type_id) VALUES (:name, :source, :local_source, :version, :deployment_id, (SELECT dependency_type.id \\nFROM dependency_type \\nWHERE dependency_type.type = :type_1))', 'INSERT INTO deployment_dependencies (name, source, local_source, version, deployment_id, dependency_type_id) VALUES (:name, :source, :local_source, :version, :deployment_id, (SELECT dependency_type.id \\nFROM dependency_type \\nWHERE dependency_type.type = :type_1))', 'INSERT INTO deployment_dependencies (name, source, local_source, version, deployment_id, dependency_type_id) VALUES (:name, :source, :local_source, :version, :deployment_id, (SELECT dependency_type.id \\nFROM dependency_type \\nWHERE dependency_type.type = :type_1))', 'INSERT INTO deployment_dependencies (name, source, local_source, version, deployment_id, dependency_type_id) VALUES (:name, :source, :local_source, :version, :deployment_id, (SELECT dependency_type.id \\nFROM dependency_type \\nWHERE dependency_type.type = :type_1))', 'INSERT INTO deployment_dependencies (name, source, local_source, version, deployment_id, dependency_type_id) VALUES (:name, :source, :local_source, :version, :deployment_id, (SELECT dependency_type.id \\nFROM dependency_type \\nWHERE dependency_type.type = :type_1))', 'INSERT INTO deployment_dependencies (name, source, local_source, version, deployment_id, dependency_type_id) VALUES (:name, :source, :local_source, :version, :deployment_id, (SELECT dependency_type.id \\nFROM dependency_type \\nWHERE dependency_type.type = :type_1))', 'INSERT INTO deployment_dependencies (name, source, local_source, version, deployment_id, dependency_type_id) VALUES (:name, :source, :local_source, :version, :deployment_id, (SELECT dependency_type.id \\nFROM dependency_type \\nWHERE dependency_type.type = :type_1))', 'INSERT INTO deployment_dependencies (name, source, local_source, version, deployment_id, dependency_type_id) VALUES (:name, :source, :local_source, :version, :deployment_id, (SELECT dependency_type.id \\nFROM dependency_type \\nWHERE dependency_type.type = :type_1))', 'INSERT INTO deployment_dependencies (name, source, local_source, version, deployment_id, dependency_type_id) VALUES (:name, :source, :local_source, :version, :deployment_id, (SELECT dependency_type.id \\nFROM dependency_type \\nWHERE dependency_type.type = :type_1))', 'INSERT INTO deployment_dependencies (name, source, local_source, version, deployment_id, dependency_type_id) VALUES (:name, :source, :local_source, :version, :deployment_id, (SELECT dependency_type.id \\nFROM dependency_type \\nWHERE dependency_type.type = :type_1))', 'INSERT INTO deployment_dependencies (name, source, local_source, version, deployment_id, dependency_type_id) VALUES (:name, :source, :local_source, :version, :deployment_id, (SELECT dependency_type.id \\nFROM dependency_type \\nWHERE dependency_type.type = :type_1))', 'INSERT INTO deployment_dependencies (name, source, local_source, version, deployment_id, dependency_type_id) VALUES (:name, :source, :local_source, :version, :deployment_id, (SELECT dependency_type.id \\nFROM dependency_type \\nWHERE dependency_type.type = :type_1))', 'INSERT INTO deployment_dependencies (name, source, local_source, version, deployment_id, dependency_type_id) VALUES (:name, :source, :local_source, :version, :deployment_id, (SELECT dependency_type.id \\nFROM dependency_type \\nWHERE dependency_type.type = :type_1))', 'INSERT INTO deployment_dependencies (name, source, local_source, version, deployment_id, dependency_type_id) VALUES (:name, :source, :local_source, :version, :deployment_id, (SELECT dependency_type.id \\nFROM dependency_type \\nWHERE dependency_type.type = :type_1))', 'INSERT INTO deployment_dependencies (name, source, local_source, version, deployment_id, dependency_type_id) VALUES (:name, :source, :local_source, :version, :deployment_id, (SELECT dependency_type.id \\nFROM dependency_type \\nWHERE dependency_type.type = :type_1))', 'INSERT INTO deployment_dependencies (name, source, local_source, version, deployment_id, dependency_type_id) VALUES (:name, :source, :local_source, :version, :deployment_id, (SELECT dependency_type.id \\nFROM dependency_type \\nWHERE dependency_type.type = :type_1))', 'INSERT INTO deployment_dependencies (name, source, local_source, version, deployment_id, dependency_type_id) VALUES (:name, :source, :local_source, :version, :deployment_id, (SELECT dependency_type.id \\nFROM dependency_type \\nWHERE dependency_type.type = :type_1))', 'INSERT INTO deployment_dependencies (name, source, local_source, version, deployment_id, dependency_type_id) VALUES (:name, :source, :local_source, :version, :deployment_id, (SELECT dependency_type.id \\nFROM dependency_type \\nWHERE dependency_type.type = :type_1))', 'INSERT INTO deployment_dependencies (name, source, local_source, version, deployment_id, dependency_type_id) VALUES (:name, :source, :local_source, :version, :deployment_id, (SELECT dependency_type.id \\nFROM dependency_type \\nWHERE dependency_type.type = :type_1))', 'INSERT INTO deployment_dependencies (name, source, local_source, version, deployment_id, dependency_type_id) VALUES (:name, :source, :local_source, :version, :deployment_id, (SELECT dependency_type.id \\nFROM dependency_type \\nWHERE dependency_type.type = :type_1))', 'INSERT INTO deployment_dependencies (name, source, local_source, version, deployment_id, dependency_type_id) VALUES (:name, :source, :local_source, :version, :deployment_id, (SELECT dependency_type.id \\nFROM dependency_type \\nWHERE dependency_type.type = :type_1))', 'INSERT INTO deployment_dependencies (name, source, local_source, version, deployment_id, dependency_type_id) VALUES (:name, :source, :local_source, :version, :deployment_id, (SELECT dependency_type.id \\nFROM dependency_type \\nWHERE dependency_type.type = :type_1))', 'INSERT INTO deployment_dependencies (name, source, local_source, version, deployment_id, dependency_type_id) VALUES (:name, :source, :local_source, :version, :deployment_id, (SELECT dependency_type.id \\nFROM dependency_type \\nWHERE dependency_type.type = :type_1))', 'INSERT INTO deployment_dependencies (name, source, local_source, version, deployment_id, dependency_type_id) VALUES (:name, :source, :local_source, :version, :deployment_id, (SELECT dependency_type.id \\nFROM dependency_type \\nWHERE dependency_type.type = :type_1))', 'INSERT INTO deployment_dependencies (name, source, local_source, version, deployment_id, dependency_type_id) VALUES (:name, :source, :local_source, :version, :deployment_id, (SELECT dependency_type.id \\nFROM dependency_type \\nWHERE dependency_type.type = :type_1))', 'INSERT INTO deployment_dependencies (name, source, local_source, version, deployment_id, dependency_type_id) VALUES (:name, :source, :local_source, :version, :deployment_id, (SELECT dependency_type.id \\nFROM dependency_type \\nWHERE dependency_type.type = :type_1))', 'INSERT INTO deployment_dependencies (name, source, local_source, version, deployment_id, dependency_type_id) VALUES (:name, :source, :local_source, :version, :deployment_id, (SELECT dependency_type.id \\nFROM dependency_type \\nWHERE dependency_type.type = :type_1))', 'INSERT INTO deployment_dependencies (name, source, local_source, version, deployment_id, dependency_type_id) VALUES (:name, :source, :local_source, :version, :deployment_id, (SELECT dependency_type.id \\nFROM dependency_type \\nWHERE dependency_type.type = :type_1))', 'INSERT INTO deployment_dependencies (name, source, local_source, version, deployment_id, dependency_type_id) VALUES (:name, :source, :local_source, :version, :deployment_id, (SELECT dependency_type.id \\nFROM dependency_type \\nWHERE dependency_type.type = :type_1))', 'INSERT INTO deployment_dependencies (name, source, local_source, version, deployment_id, dependency_type_id) VALUES (:name, :source, :local_source, :version, :deployment_id, (SELECT dependency_type.id \\nFROM dependency_type \\nWHERE dependency_type.type = :type_1))', 'INSERT INTO deployment_dependencies (name, source, local_source, version, deployment_id, dependency_type_id) VALUES (:name, :source, :local_source, :version, :deployment_id, (SELECT dependency_type.id \\nFROM dependency_type \\nWHERE dependency_type.type = :type_1))', 'INSERT INTO deployment_dependencies (name, source, local_source, version, deployment_id, dependency_type_id) VALUES (:name, :source, :local_source, :version, :deployment_id, (SELECT dependency_type.id \\nFROM dependency_type \\nWHERE dependency_type.type = :type_1))', 'INSERT INTO deployment_dependencies (name, source, local_source, version, deployment_id, dependency_type_id) VALUES (:name, :source, :local_source, :version, :deployment_id, (SELECT dependency_type.id \\nFROM dependency_type \\nWHERE dependency_type.type = :type_1))', 'INSERT INTO deployment_dependencies (name, source, local_source, version, deployment_id, dependency_type_id) VALUES (:name, :source, :local_source, :version, :deployment_id, (SELECT dependency_type.id \\nFROM dependency_type \\nWHERE dependency_type.type = :type_1))', 'INSERT INTO deployment_dependencies (name, source, local_source, version, deployment_id, dependency_type_id) VALUES (:name, :source, :local_source, :version, :deployment_id, (SELECT dependency_type.id \\nFROM dependency_type \\nWHERE dependency_type.type = :type_1))', 'INSERT INTO deployment_dependencies (name, source, local_source, version, deployment_id, dependency_type_id) VALUES (:name, :source, :local_source, :version, :deployment_id, (SELECT dependency_type.id \\nFROM dependency_type \\nWHERE dependency_type.type = :type_1))', 'INSERT INTO deployment_dependencies (name, source, local_source, version, deployment_id, dependency_type_id) VALUES (:name, :source, :local_source, :version, :deployment_id, (SELECT dependency_type.id \\nFROM dependency_type \\nWHERE dependency_type.type = :type_1))', 'INSERT INTO deployment_dependencies (name, source, local_source, version, deployment_id, dependency_type_id) VALUES (:name, :source, :local_source, :version, :deployment_id, (SELECT dependency_type.id \\nFROM dependency_type \\nWHERE dependency_type.type = :type_1))', 'INSERT INTO deployment_dependencies (name, source, local_source, version, deployment_id, dependency_type_id) VALUES (:name, :source, :local_source, :version, :deployment_id, (SELECT dependency_type.id \\nFROM dependency_type \\nWHERE dependency_type.type = :type_1))', 'INSERT INTO deployment_dependencies (name, source, local_source, version, deployment_id, dependency_type_id) VALUES (:name, :source, :local_source, :version, :deployment_id, (SELECT dependency_type.id \\nFROM dependency_type \\nWHERE dependency_type.type = :type_1))', 'INSERT INTO deployment_dependencies (name, source, local_source, version, deployment_id, dependency_type_id) VALUES (:name, :source, :local_source, :version, :deployment_id, (SELECT dependency_type.id \\nFROM dependency_type \\nWHERE dependency_type.type = :type_1))', 'INSERT INTO deployment_dependencies (name, source, local_source, version, deployment_id, dependency_type_id) VALUES (:name, :source, :local_source, :version, :deployment_id, (SELECT dependency_type.id \\nFROM dependency_type \\nWHERE dependency_type.type = :type_1))', 'INSERT INTO deployment_dependencies (name, source, local_source, version, deployment_id, dependency_type_id) VALUES (:name, :source, :local_source, :version, :deployment_id, (SELECT dependency_type.id \\nFROM dependency_type \\nWHERE dependency_type.type = :type_1))', 'INSERT INTO deployment_dependencies (name, source, local_source, version, deployment_id, dependency_type_id) VALUES (:name, :source, :local_source, :version, :deployment_id, (SELECT dependency_type.id \\nFROM dependency_type \\nWHERE dependency_type.type = :type_1))', 'INSERT INTO deployment_dependencies (name, source, local_source, version, deployment_id, dependency_type_id) VALUES (:name, :source, :local_source, :version, :deployment_id, (SELECT dependency_type.id \\nFROM dependency_type \\nWHERE dependency_type.type = :type_1))', 'INSERT INTO deployment_dependencies (name, source, local_source, version, deployment_id, dependency_type_id) VALUES (:name, :source, :local_source, :version, :deployment_id, (SELECT dependency_type.id \\nFROM dependency_type \\nWHERE dependency_type.type = :type_1))', 'INSERT INTO deployment_dependencies (name, source, local_source, version, deployment_id, dependency_type_id) VALUES (:name, :source, :local_source, :version, :deployment_id, (SELECT dependency_type.id \\nFROM dependency_type \\nWHERE dependency_type.type = :type_1))', 'INSERT INTO deployment_dependencies (name, source, local_source, version, deployment_id, dependency_type_id) VALUES (:name, :source, :local_source, :version, :deployment_id, (SELECT dependency_type.id \\nFROM dependency_type \\nWHERE dependency_type.type = :type_1))', 'INSERT INTO deployment_dependencies (name, source, local_source, version, deployment_id, dependency_type_id) VALUES (:name, :source, :local_source, :version, :deployment_id, (SELECT dependency_type.id \\nFROM dependency_type \\nWHERE dependency_type.type = :type_1))', 'INSERT INTO deployment_dependencies (name, source, local_source, version, deployment_id, dependency_type_id) VALUES (:name, :source, :local_source, :version, :deployment_id, (SELECT dependency_type.id \\nFROM dependency_type \\nWHERE dependency_type.type = :type_1))', 'INSERT INTO deployment_dependencies (name, source, local_source, version, deployment_id, dependency_type_id) VALUES (:name, :source, :local_source, :version, :deployment_id, (SELECT dependency_type.id \\nFROM dependency_type \\nWHERE dependency_type.type = :type_1))', 'INSERT INTO deployment_dependencies (name, source, local_source, version, deployment_id, dependency_type_id) VALUES (:name, :source, :local_source, :version, :deployment_id, (SELECT dependency_type.id \\nFROM dependency_type \\nWHERE dependency_type.type = :type_1))', 'INSERT INTO deployment_dependencies (name, source, local_source, version, deployment_id, dependency_type_id) VALUES (:name, :source, :local_source, :version, :deployment_id, (SELECT dependency_type.id \\nFROM dependency_type \\nWHERE dependency_type.type = :type_1))', 'INSERT INTO deployment_dependencies (name, source, local_source, version, deployment_id, dependency_type_id) VALUES (:name, :source, :local_source, :version, :deployment_id, (SELECT dependency_type.id \\nFROM dependency_type \\nWHERE dependency_type.type = :type_1))', 'INSERT INTO deployment_dependencies (name, source, local_source, version, deployment_id, dependency_type_id) VALUES (:name, :source, :local_source, :version, :deployment_id, (SELECT dependency_type.id \\nFROM dependency_type \\nWHERE dependency_type.type = :type_1))', 'INSERT INTO deployment_dependencies (name, source, local_source, version, deployment_id, dependency_type_id) VALUES (:name, :source, :local_source, :version, :deployment_id, (SELECT dependency_type.id \\nFROM dependency_type \\nWHERE dependency_type.type = :type_1))', 'INSERT INTO deployment_dependencies (name, source, local_source, version, deployment_id, dependency_type_id) VALUES (:name, :source, :local_source, :version, :deployment_id, (SELECT dependency_type.id \\nFROM dependency_type \\nWHERE dependency_type.type = :type_1))', 'INSERT INTO deployment_dependencies (name, source, local_source, version, deployment_id, dependency_type_id) VALUES (:name, :source, :local_source, :version, :deployment_id, (SELECT dependency_type.id \\nFROM dependency_type \\nWHERE dependency_type.type = :type_1))', 'INSERT INTO deployment_dependencies (name, source, local_source, version, deployment_id, dependency_type_id) VALUES (:name, :source, :local_source, :version, :deployment_id, (SELECT dependency_type.id \\nFROM dependency_type \\nWHERE dependency_type.type = :type_1))', 'INSERT INTO deployment_dependencies (name, source, local_source, version, deployment_id, dependency_type_id) VALUES (:name, :source, :local_source, :version, :deployment_id, (SELECT dependency_type.id \\nFROM dependency_type \\nWHERE dependency_type.type = :type_1))', 'INSERT INTO deployment_dependencies (name, source, local_source, version, deployment_id, dependency_type_id) VALUES (:name, :source, :local_source, :version, :deployment_id, (SELECT dependency_type.id \\nFROM dependency_type \\nWHERE dependency_type.type = :type_1))', 'INSERT INTO deployment_dependencies (name, source, local_source, version, deployment_id, dependency_type_id) VALUES (:name, :source, :local_source, :version, :deployment_id, (SELECT dependency_type.id \\nFROM dependency_type \\nWHERE dependency_type.type = :type_1))', 'INSERT INTO deployment_dependencies (name, source, local_source, version, deployment_id, dependency_type_id) VALUES (:name, :source, :local_source, :version, :deployment_id, (SELECT dependency_type.id \\nFROM dependency_type \\nWHERE dependency_type.type = :type_1))', 'INSERT INTO deployment_dependencies (name, source, local_source, version, deployment_id, dependency_type_id) VALUES (:name, :source, :local_source, :version, :deployment_id, (SELECT dependency_type.id \\nFROM dependency_type \\nWHERE dependency_type.type = :type_1))', 'INSERT INTO deployment_dependencies (name, source, local_source, version, deployment_id, dependency_type_id) VALUES (:name, :source, :local_source, :version, :deployment_id, (SELECT dependency_type.id \\nFROM dependency_type \\nWHERE dependency_type.type = :type_1))', 'INSERT INTO deployment_dependencies (name, source, local_source, version, deployment_id, dependency_type_id) VALUES (:name, :source, :local_source, :version, :deployment_id, (SELECT dependency_type.id \\nFROM dependency_type \\nWHERE dependency_type.type = :type_1))', 'INSERT INTO deployment_dependencies (name, source, local_source, version, deployment_id, dependency_type_id) VALUES (:name, :source, :local_source, :version, :deployment_id, (SELECT dependency_type.id \\nFROM dependency_type \\nWHERE dependency_type.type = :type_1))', 'INSERT INTO deployment_dependencies (name, source, local_source, version, deployment_id, dependency_type_id) VALUES (:name, :source, :local_source, :version, :deployment_id, (SELECT dependency_type.id \\nFROM dependency_type \\nWHERE dependency_type.type = :type_1))', 'INSERT INTO deployment_dependencies (name, source, local_source, version, deployment_id, dependency_type_id) VALUES (:name, :source, :local_source, :version, :deployment_id, (SELECT dependency_type.id \\nFROM dependency_type \\nWHERE dependency_type.type = :type_1))', 'INSERT INTO deployment_dependencies (name, source, local_source, version, deployment_id, dependency_type_id) VALUES (:name, :source, :local_source, :version, :deployment_id, (SELECT dependency_type.id \\nFROM dependency_type \\nWHERE dependency_type.type = :type_1))', 'INSERT INTO deployment_dependencies (name, source, local_source, version, deployment_id, dependency_type_id) VALUES (:name, :source, :local_source, :version, :deployment_id, (SELECT dependency_type.id \\nFROM dependency_type \\nWHERE dependency_type.type = :type_1))', 'INSERT INTO deployment_dependencies (name, source, local_source, version, deployment_id, dependency_type_id) VALUES (:name, :source, :local_source, :version, :deployment_id, (SELECT dependency_type.id \\nFROM dependency_type \\nWHERE dependency_type.type = :type_1))', 'INSERT INTO deployment_dependencies (name, source, local_source, version, deployment_id, dependency_type_id) VALUES (:name, :source, :local_source, :version, :deployment_id, (SELECT dependency_type.id \\nFROM dependency_type \\nWHERE dependency_type.type = :type_1))', 'INSERT INTO deployment_dependencies (name, source, local_source, version, deployment_id, dependency_type_id) VALUES (:name, :source, :local_source, :version, :deployment_id, (SELECT dependency_type.id \\nFROM dependency_type \\nWHERE dependency_type.type = :type_1))', 'INSERT INTO deployment_dependencies (name, source, local_source, version, deployment_id, dependency_type_id) VALUES (:name, :source, :local_source, :version, :deployment_id, (SELECT dependency_type.id \\nFROM dependency_type \\nWHERE dependency_type.type = :type_1))', 'INSERT INTO deployment_dependencies (name, source, local_source, version, deployment_id, dependency_type_id) VALUES (:name, :source, :local_source, :version, :deployment_id, (SELECT dependency_type.id \\nFROM dependency_type \\nWHERE dependency_type.type = :type_1))', 'INSERT INTO deployment_dependencies (name, source, local_source, version, deployment_id, dependency_type_id) VALUES (:name, :source, :local_source, :version, :deployment_id, (SELECT dependency_type.id \\nFROM dependency_type \\nWHERE dependency_type.type = :type_1))', 'INSERT INTO deployment_dependencies (name, source, local_source, version, deployment_id, dependency_type_id) VALUES (:name, :source, :local_source, :version, :deployment_id, (SELECT dependency_type.id \\nFROM dependency_type \\nWHERE dependency_type.type = :type_1))', 'INSERT INTO deployment_dependencies (name, source, local_source, version, deployment_id, dependency_type_id) VALUES (:name, :source, :local_source, :version, :deployment_id, (SELECT dependency_type.id \\nFROM dependency_type \\nWHERE dependency_type.type = :type_1))', 'INSERT INTO deployment_dependencies (name, source, local_source, version, deployment_id, dependency_type_id) VALUES (:name, :source, :local_source, :version, :deployment_id, (SELECT dependency_type.id \\nFROM dependency_type \\nWHERE dependency_type.type = :type_1))', 'INSERT INTO deployment_dependencies (name, source, local_source, version, deployment_id, dependency_type_id) VALUES (:name, :source, :local_source, :version, :deployment_id, (SELECT dependency_type.id \\nFROM dependency_type \\nWHERE dependency_type.type = :type_1))', 'INSERT INTO deployment_dependencies (name, source, local_source, version, deployment_id, dependency_type_id) VALUES (:name, :source, :local_source, :version, :deployment_id, (SELECT dependency_type.id \\nFROM dependency_type \\nWHERE dependency_type.type = :type_1))', 'INSERT INTO deployment_dependencies (name, source, local_source, version, deployment_id, dependency_type_id) VALUES (:name, :source, :local_source, :version, :deployment_id, (SELECT dependency_type.id \\nFROM dependency_type \\nWHERE dependency_type.type = :type_1))', 'INSERT INTO deployment_dependencies (name, source, local_source, version, deployment_id, dependency_type_id) VALUES (:name, :source, :local_source, :version, :deployment_id, (SELECT dependency_type.id \\nFROM dependency_type \\nWHERE dependency_type.type = :type_1))', 'INSERT INTO deployment_dependencies (name, source, local_source, version, deployment_id, dependency_type_id) VALUES (:name, :source, :local_source, :version, :deployment_id, (SELECT dependency_type.id \\nFROM dependency_type \\nWHERE dependency_type.type = :type_1))', 'INSERT INTO deployment_dependencies (name, source, local_source, version, deployment_id, dependency_type_id) VALUES (:name, :source, :local_source, :version, :deployment_id, (SELECT dependency_type.id \\nFROM dependency_type \\nWHERE dependency_type.type = :type_1))', 'INSERT INTO deployment_dependencies (name, source, local_source, version, deployment_id, dependency_type_id) VALUES (:name, :source, :local_source, :version, :deployment_id, (SELECT dependency_type.id \\nFROM dependency_type \\nWHERE dependency_type.type = :type_1))', 'INSERT INTO deployment_dependencies (name, source, local_source, version, deployment_id, dependency_type_id) VALUES (:name, :source, :local_source, :version, :deployment_id, (SELECT dependency_type.id \\nFROM dependency_type \\nWHERE dependency_type.type = :type_1))', 'INSERT INTO deployment_dependencies (name, source, local_source, version, deployment_id, dependency_type_id) VALUES (:name, :source, :local_source, :version, :deployment_id, (SELECT dependency_type.id \\nFROM dependency_type \\nWHERE dependency_type.type = :type_1))', 'INSERT INTO deployment_dependencies (name, source, local_source, version, deployment_id, dependency_type_id) VALUES (:name, :source, :local_source, :version, :deployment_id, (SELECT dependency_type.id \\nFROM dependency_type \\nWHERE dependency_type.type = :type_1))', 'INSERT INTO deployment_dependencies (name, source, local_source, version, deployment_id, dependency_type_id) VALUES (:name, :source, :local_source, :version, :deployment_id, (SELECT dependency_type.id \\nFROM dependency_type \\nWHERE dependency_type.type = :type_1))', 'INSERT INTO deployment_dependencies (name, source, local_source, version, deployment_id, dependency_type_id) VALUES (:name, :source, :local_source, :version, :deployment_id, (SELECT dependency_type.id \\nFROM dependency_type \\nWHERE dependency_type.type = :type_1))', 'INSERT INTO deployment_dependencies (name, source, local_source, version, deployment_id, dependency_type_id) VALUES (:name, :source, :local_source, :version, :deployment_id, (SELECT dependency_type.id \\nFROM dependency_type \\nWHERE dependency_type.type = :type_1))', 'INSERT INTO deployment_dependencies (name, source, local_source, version, deployment_id, dependency_type_id) VALUES (:name, :source, :local_source, :version, :deployment_id, (SELECT dependency_type.id \\nFROM dependency_type \\nWHERE dependency_type.type = :type_1))', 'INSERT INTO deployment_dependencies (name, source, local_source, version, deployment_id, dependency_type_id) VALUES (:name, :source, :local_source, :version, :deployment_id, (SELECT dependency_type.id \\nFROM dependency_type \\nWHERE dependency_type.type = :type_1))', 'INSERT INTO deployment_dependencies (name, source, local_source, version, deployment_id, dependency_type_id) VALUES (:name, :source, :local_source, :version, :deployment_id, (SELECT dependency_type.id \\nFROM dependency_type \\nWHERE dependency_type.type = :type_1))', 'INSERT INTO deployment_dependencies (name, source, local_source, version, deployment_id, dependency_type_id) VALUES (:name, :source, :local_source, :version, :deployment_id, (SELECT dependency_type.id \\nFROM dependency_type \\nWHERE dependency_type.type = :type_1))', 'INSERT INTO deployment_dependencies (name, source, local_source, version, deployment_id, dependency_type_id) VALUES (:name, :source, :local_source, :version, :deployment_id, (SELECT dependency_type.id \\nFROM dependency_type \\nWHERE dependency_type.type = :type_1))', 'INSERT INTO deployment_dependencies (name, source, local_source, version, deployment_id, dependency_type_id) VALUES (:name, :source, :local_source, :version, :deployment_id, (SELECT dependency_type.id \\nFROM dependency_type \\nWHERE dependency_type.type = :type_1))', 'INSERT INTO deployment_dependencies (name, source, local_source, version, deployment_id, dependency_type_id) VALUES (:name, :source, :local_source, :version, :deployment_id, (SELECT dependency_type.id \\nFROM dependency_type \\nWHERE dependency_type.type = :type_1))', 'INSERT INTO deployment_dependencies (name, source, local_source, version, deployment_id, dependency_type_id) VALUES (:name, :source, :local_source, :version, :deployment_id, (SELECT dependency_type.id \\nFROM dependency_type \\nWHERE dependency_type.type = :type_1))', 'INSERT INTO deployment_dependencies (name, source, local_source, version, deployment_id, dependency_type_id) VALUES (:name, :source, :local_source, :version, :deployment_id, (SELECT dependency_type.id \\nFROM dependency_type \\nWHERE dependency_type.type = :type_1))', 'INSERT INTO deployment_dependencies (name, source, local_source, version, deployment_id, dependency_type_id) VALUES (:name, :source, :local_source, :version, :deployment_id, (SELECT dependency_type.id \\nFROM dependency_type \\nWHERE dependency_type.type = :type_1))', 'INSERT INTO deployment_dependencies (name, source, local_source, version, deployment_id, dependency_type_id) VALUES (:name, :source, :local_source, :version, :deployment_id, (SELECT dependency_type.id \\nFROM dependency_type \\nWHERE dependency_type.type = :type_1))', 'INSERT INTO deployment_dependencies (name, source, local_source, version, deployment_id, dependency_type_id) VALUES (:name, :source, :local_source, :version, :deployment_id, (SELECT dependency_type.id \\nFROM dependency_type \\nWHERE dependency_type.type = :type_1))', 'INSERT INTO deployment_dependencies (name, source, local_source, version, deployment_id, dependency_type_id) VALUES (:name, :source, :local_source, :version, :deployment_id, (SELECT dependency_type.id \\nFROM dependency_type \\nWHERE dependency_type.type = :type_1))', 'INSERT INTO deployment_dependencies (name, source, local_source, version, deployment_id, dependency_type_id) VALUES (:name, :source, :local_source, :version, :deployment_id, (SELECT dependency_type.id \\nFROM dependency_type \\nWHERE dependency_type.type = :type_1))', 'INSERT INTO deployment_dependencies (name, source, local_source, version, deployment_id, dependency_type_id) VALUES (:name, :source, :local_source, :version, :deployment_id, (SELECT dependency_type.id \\nFROM dependency_type \\nWHERE dependency_type.type = :type_1))', 'INSERT INTO deployment_dependencies (name, source, local_source, version, deployment_id, dependency_type_id) VALUES (:name, :source, :local_source, :version, :deployment_id, (SELECT dependency_type.id \\nFROM dependency_type \\nWHERE dependency_type.type = :type_1))', 'INSERT INTO deployment_dependencies (name, source, local_source, version, deployment_id, dependency_type_id) VALUES (:name, :source, :local_source, :version, :deployment_id, (SELECT dependency_type.id \\nFROM dependency_type \\nWHERE dependency_type.type = :type_1))', 'INSERT INTO deployment_dependencies (name, source, local_source, version, deployment_id, dependency_type_id) VALUES (:name, :source, :local_source, :version, :deployment_id, (SELECT dependency_type.id \\nFROM dependency_type \\nWHERE dependency_type.type = :type_1))', 'INSERT INTO deployment_dependencies (name, source, local_source, version, deployment_id, dependency_type_id) VALUES (:name, :source, :local_source, :version, :deployment_id, (SELECT dependency_type.id \\nFROM dependency_type \\nWHERE dependency_type.type = :type_1))', 'INSERT INTO deployment_dependencies (name, source, local_source, version, deployment_id, dependency_type_id) VALUES (:name, :source, :local_source, :version, :deployment_id, (SELECT dependency_type.id \\nFROM dependency_type \\nWHERE dependency_type.type = :type_1))', 'INSERT INTO deployment_dependencies (name, source, local_source, version, deployment_id, dependency_type_id) VALUES (:name, :source, :local_source, :version, :deployment_id, (SELECT dependency_type.id \\nFROM dependency_type \\nWHERE dependency_type.type = :type_1))', 'INSERT INTO deployment_dependencies (name, source, local_source, version, deployment_id, dependency_type_id) VALUES (:name, :source, :local_source, :version, :deployment_id, (SELECT dependency_type.id \\nFROM dependency_type \\nWHERE dependency_type.type = :type_1))', 'INSERT INTO deployment_dependencies (name, source, local_source, version, deployment_id, dependency_type_id) VALUES (:name, :source, :local_source, :version, :deployment_id, (SELECT dependency_type.id \\nFROM dependency_type \\nWHERE dependency_type.type = :type_1))', 'INSERT INTO deployment_dependencies (name, source, local_source, version, deployment_id, dependency_type_id) VALUES (:name, :source, :local_source, :version, :deployment_id, (SELECT dependency_type.id \\nFROM dependency_type \\nWHERE dependency_type.type = :type_1))', 'INSERT INTO deployment_dependencies (name, source, local_source, version, deployment_id, dependency_type_id) VALUES (:name, :source, :local_source, :version, :deployment_id, (SELECT dependency_type.id \\nFROM dependency_type \\nWHERE dependency_type.type = :type_1))', 'INSERT INTO deployment_dependencies (name, source, local_source, version, deployment_id, dependency_type_id) VALUES (:name, :source, :local_source, :version, :deployment_id, (SELECT dependency_type.id \\nFROM dependency_type \\nWHERE dependency_type.type = :type_1))', 'INSERT INTO deployment_dependencies (name, source, local_source, version, deployment_id, dependency_type_id) VALUES (:name, :source, :local_source, :version, :deployment_id, (SELECT dependency_type.id \\nFROM dependency_type \\nWHERE dependency_type.type = :type_1))', 'INSERT INTO deployment_dependencies (name, source, local_source, version, deployment_id, dependency_type_id) VALUES (:name, :source, :local_source, :version, :deployment_id, (SELECT dependency_type.id \\nFROM dependency_type \\nWHERE dependency_type.type = :type_1))', 'INSERT INTO deployment_dependencies (name, source, local_source, version, deployment_id, dependency_type_id) VALUES (:name, :source, :local_source, :version, :deployment_id, (SELECT dependency_type.id \\nFROM dependency_type \\nWHERE dependency_type.type = :type_1))', 'INSERT INTO deployment_dependencies (name, source, local_source, version, deployment_id, dependency_type_id) VALUES (:name, :source, :local_source, :version, :deployment_id, (SELECT dependency_type.id \\nFROM dependency_type \\nWHERE dependency_type.type = :type_1))', 'INSERT INTO deployment_dependencies (name, source, local_source, version, deployment_id, dependency_type_id) VALUES (:name, :source, :local_source, :version, :deployment_id, (SELECT dependency_type.id \\nFROM dependency_type \\nWHERE dependency_type.type = :type_1))', 'INSERT INTO deployment_dependencies (name, source, local_source, version, deployment_id, dependency_type_id) VALUES (:name, :source, :local_source, :version, :deployment_id, (SELECT dependency_type.id \\nFROM dependency_type \\nWHERE dependency_type.type = :type_1))', 'INSERT INTO deployment_dependencies (name, source, local_source, version, deployment_id, dependency_type_id) VALUES (:name, :source, :local_source, :version, :deployment_id, (SELECT dependency_type.id \\nFROM dependency_type \\nWHERE dependency_type.type = :type_1))', 'INSERT INTO deployment_dependencies (name, source, local_source, version, deployment_id, dependency_type_id) VALUES (:name, :source, :local_source, :version, :deployment_id, (SELECT dependency_type.id \\nFROM dependency_type \\nWHERE dependency_type.type = :type_1))', 'INSERT INTO deployment_dependencies (name, source, local_source, version, deployment_id, dependency_type_id) VALUES (:name, :source, :local_source, :version, :deployment_id, (SELECT dependency_type.id \\nFROM dependency_type \\nWHERE dependency_type.type = :type_1))', 'INSERT INTO deployment_dependencies (name, source, local_source, version, deployment_id, dependency_type_id) VALUES (:name, :source, :local_source, :version, :deployment_id, (SELECT dependency_type.id \\nFROM dependency_type \\nWHERE dependency_type.type = :type_1))', 'INSERT INTO deployment_dependencies (name, source, local_source, version, deployment_id, dependency_type_id) VALUES (:name, :source, :local_source, :version, :deployment_id, (SELECT dependency_type.id \\nFROM dependency_type \\nWHERE dependency_type.type = :type_1))', 'INSERT INTO deployment_dependencies (name, source, local_source, version, deployment_id, dependency_type_id) VALUES (:name, :source, :local_source, :version, :deployment_id, (SELECT dependency_type.id \\nFROM dependency_type \\nWHERE dependency_type.type = :type_1))', 'INSERT INTO deployment_dependencies (name, source, local_source, version, deployment_id, dependency_type_id) VALUES (:name, :source, :local_source, :version, :deployment_id, (SELECT dependency_type.id \\nFROM dependency_type \\nWHERE dependency_type.type = :type_1))', 'INSERT INTO deployment_dependencies (name, source, local_source, version, deployment_id, dependency_type_id) VALUES (:name, :source, :local_source, :version, :deployment_id, (SELECT dependency_type.id \\nFROM dependency_type \\nWHERE dependency_type.type = :type_1))', 'INSERT INTO deployment_dependencies (name, source, local_source, version, deployment_id, dependency_type_id) VALUES (:name, :source, :local_source, :version, :deployment_id, (SELECT dependency_type.id \\nFROM dependency_type \\nWHERE dependency_type.type = :type_1))', 'INSERT INTO deployment_dependencies (name, source, local_source, version, deployment_id, dependency_type_id) VALUES (:name, :source, :local_source, :version, :deployment_id, (SELECT dependency_type.id \\nFROM dependency_type \\nWHERE dependency_type.type = :type_1))', 'INSERT INTO deployment_dependencies (name, source, local_source, version, deployment_id, dependency_type_id) VALUES (:name, :source, :local_source, :version, :deployment_id, (SELECT dependency_type.id \\nFROM dependency_type \\nWHERE dependency_type.type = :type_1))', 'INSERT INTO deployment_dependencies (name, source, local_source, version, deployment_id, dependency_type_id) VALUES (:name, :source, :local_source, :version, :deployment_id, (SELECT dependency_type.id \\nFROM dependency_type \\nWHERE dependency_type.type = :type_1))', 'INSERT INTO deployment_dependencies (name, source, local_source, version, deployment_id, dependency_type_id) VALUES (:name, :source, :local_source, :version, :deployment_id, (SELECT dependency_type.id \\nFROM dependency_type \\nWHERE dependency_type.type = :type_1))', 'INSERT INTO deployment_dependencies (name, source, local_source, version, deployment_id, dependency_type_id) VALUES (:name, :source, :local_source, :version, :deployment_id, (SELECT dependency_type.id \\nFROM dependency_type \\nWHERE dependency_type.type = :type_1))', 'INSERT INTO deployment_dependencies (name, source, local_source, version, deployment_id, dependency_type_id) VALUES (:name, :source, :local_source, :version, :deployment_id, (SELECT dependency_type.id \\nFROM dependency_type \\nWHERE dependency_type.type = :type_1))', 'INSERT INTO deployment_dependencies (name, source, local_source, version, deployment_id, dependency_type_id) VALUES (:name, :source, :local_source, :version, :deployment_id, (SELECT dependency_type.id \\nFROM dependency_type \\nWHERE dependency_type.type = :type_1))', 'INSERT INTO deployment_dependencies (name, source, local_source, version, deployment_id, dependency_type_id) VALUES (:name, :source, :local_source, :version, :deployment_id, (SELECT dependency_type.id \\nFROM dependency_type \\nWHERE dependency_type.type = :type_1))', 'INSERT INTO deployment_dependencies (name, source, local_source, version, deployment_id, dependency_type_id) VALUES (:name, :source, :local_source, :version, :deployment_id, (SELECT dependency_type.id \\nFROM dependency_type \\nWHERE dependency_type.type = :type_1))', 'INSERT INTO deployment_dependencies (name, source, local_source, version, deployment_id, dependency_type_id) VALUES (:name, :source, :local_source, :version, :deployment_id, (SELECT dependency_type.id \\nFROM dependency_type \\nWHERE dependency_type.type = :type_1))', 'INSERT INTO deployment_dependencies (name, source, local_source, version, deployment_id, dependency_type_id) VALUES (:name, :source, :local_source, :version, :deployment_id, (SELECT dependency_type.id \\nFROM dependency_type \\nWHERE dependency_type.type = :type_1))', 'INSERT INTO deployment_dependencies (name, source, local_source, version, deployment_id, dependency_type_id) VALUES (:name, :source, :local_source, :version, :deployment_id, (SELECT dependency_type.id \\nFROM dependency_type \\nWHERE dependency_type.type = :type_1))', 'INSERT INTO deployment_dependencies (name, source, local_source, version, deployment_id, dependency_type_id) VALUES (:name, :source, :local_source, :version, :deployment_id, (SELECT dependency_type.id \\nFROM dependency_type \\nWHERE dependency_type.type = :type_1))', 'INSERT INTO deployment_dependencies (name, source, local_source, version, deployment_id, dependency_type_id) VALUES (:name, :source, :local_source, :version, :deployment_id, (SELECT dependency_type.id \\nFROM dependency_type \\nWHERE dependency_type.type = :type_1))', 'INSERT INTO deployment_dependencies (name, source, local_source, version, deployment_id, dependency_type_id) VALUES (:name, :source, :local_source, :version, :deployment_id, (SELECT dependency_type.id \\nFROM dependency_type \\nWHERE dependency_type.type = :type_1))', 'INSERT INTO deployment_dependencies (name, source, local_source, version, deployment_id, dependency_type_id) VALUES (:name, :source, :local_source, :version, :deployment_id, (SELECT dependency_type.id \\nFROM dependency_type \\nWHERE dependency_type.type = :type_1))', 'INSERT INTO deployment_dependencies (name, source, local_source, version, deployment_id, dependency_type_id) VALUES (:name, :source, :local_source, :version, :deployment_id, (SELECT dependency_type.id \\nFROM dependency_type \\nWHERE dependency_type.type = :type_1))', 'INSERT INTO deployment_dependencies (name, source, local_source, version, deployment_id, dependency_type_id) VALUES (:name, :source, :local_source, :version, :deployment_id, (SELECT dependency_type.id \\nFROM dependency_type \\nWHERE dependency_type.type = :type_1))', 'INSERT INTO deployment_dependencies (name, source, local_source, version, deployment_id, dependency_type_id) VALUES (:name, :source, :local_source, :version, :deployment_id, (SELECT dependency_type.id \\nFROM dependency_type \\nWHERE dependency_type.type = :type_1))', 'INSERT INTO deployment_dependencies (name, source, local_source, version, deployment_id, dependency_type_id) VALUES (:name, :source, :local_source, :version, :deployment_id, (SELECT dependency_type.id \\nFROM dependency_type \\nWHERE dependency_type.type = :type_1))', 'INSERT INTO deployment_dependencies (name, source, local_source, version, deployment_id, dependency_type_id) VALUES (:name, :source, :local_source, :version, :deployment_id, (SELECT dependency_type.id \\nFROM dependency_type \\nWHERE dependency_type.type = :type_1))', 'INSERT INTO deployment_dependencies (name, source, local_source, version, deployment_id, dependency_type_id) VALUES (:name, :source, :local_source, :version, :deployment_id, (SELECT dependency_type.id \\nFROM dependency_type \\nWHERE dependency_type.type = :type_1))', 'INSERT INTO deployment_dependencies (name, source, local_source, version, deployment_id, dependency_type_id) VALUES (:name, :source, :local_source, :version, :deployment_id, (SELECT dependency_type.id \\nFROM dependency_type \\nWHERE dependency_type.type = :type_1))', 'INSERT INTO deployment_dependencies (name, source, local_source, version, deployment_id, dependency_type_id) VALUES (:name, :source, :local_source, :version, :deployment_id, (SELECT dependency_type.id \\nFROM dependency_type \\nWHERE dependency_type.type = :type_1))', 'INSERT INTO deployment_dependencies (name, source, local_source, version, deployment_id, dependency_type_id) VALUES (:name, :source, :local_source, :version, :deployment_id, (SELECT dependency_type.id \\nFROM dependency_type \\nWHERE dependency_type.type = :type_1))', 'INSERT INTO deployment_dependencies (name, source, local_source, version, deployment_id, dependency_type_id) VALUES (:name, :source, :local_source, :version, :deployment_id, (SELECT dependency_type.id \\nFROM dependency_type \\nWHERE dependency_type.type = :type_1))', 'INSERT INTO deployment_dependencies (name, source, local_source, version, deployment_id, dependency_type_id) VALUES (:name, :source, :local_source, :version, :deployment_id, (SELECT dependency_type.id \\nFROM dependency_type \\nWHERE dependency_type.type = :type_1))', 'INSERT INTO deployment_dependencies (name, source, local_source, version, deployment_id, dependency_type_id) VALUES (:name, :source, :local_source, :version, :deployment_id, (SELECT dependency_type.id \\nFROM dependency_type \\nWHERE dependency_type.type = :type_1))', 'INSERT INTO deployment_dependencies (name, source, local_source, version, deployment_id, dependency_type_id) VALUES (:name, :source, :local_source, :version, :deployment_id, (SELECT dependency_type.id \\nFROM dependency_type \\nWHERE dependency_type.type = :type_1))', 'INSERT INTO deployment_dependencies (name, source, local_source, version, deployment_id, dependency_type_id) VALUES (:name, :source, :local_source, :version, :deployment_id, (SELECT dependency_type.id \\nFROM dependency_type \\nWHERE dependency_type.type = :type_1))', 'INSERT INTO deployment_dependencies (name, source, local_source, version, deployment_id, dependency_type_id) VALUES (:name, :source, :local_source, :version, :deployment_id, (SELECT dependency_type.id \\nFROM dependency_type \\nWHERE dependency_type.type = :type_1))', 'INSERT INTO deployment_dependencies (name, source, local_source, version, deployment_id, dependency_type_id) VALUES (:name, :source, :local_source, :version, :deployment_id, (SELECT dependency_type.id \\nFROM dependency_type \\nWHERE dependency_type.type = :type_1))']\n"
     ]
    },
    {
     "name": "stderr",
     "output_type": "stream",
     "text": [
      "DEBUG:lume_services.services.models.db.db:ModelDB creating session.\n",
      "DEBUG:lume_services.services.models.db.db:ModelDB session created.\n",
      "INFO:lume_services.services.models.db.db:Sucessfully executed: ['INSERT INTO deployment_dependencies (name, source, local_source, version, deployment_id, dependency_type_id) VALUES (:name, :source, :local_source, :version, :deployment_id, (SELECT dependency_type.id \\nFROM dependency_type \\nWHERE dependency_type.type = :type_1))', 'INSERT INTO deployment_dependencies (name, source, local_source, version, deployment_id, dependency_type_id) VALUES (:name, :source, :local_source, :version, :deployment_id, (SELECT dependency_type.id \\nFROM dependency_type \\nWHERE dependency_type.type = :type_1))', 'INSERT INTO deployment_dependencies (name, source, local_source, version, deployment_id, dependency_type_id) VALUES (:name, :source, :local_source, :version, :deployment_id, (SELECT dependency_type.id \\nFROM dependency_type \\nWHERE dependency_type.type = :type_1))', 'INSERT INTO deployment_dependencies (name, source, local_source, version, deployment_id, dependency_type_id) VALUES (:name, :source, :local_source, :version, :deployment_id, (SELECT dependency_type.id \\nFROM dependency_type \\nWHERE dependency_type.type = :type_1))', 'INSERT INTO deployment_dependencies (name, source, local_source, version, deployment_id, dependency_type_id) VALUES (:name, :source, :local_source, :version, :deployment_id, (SELECT dependency_type.id \\nFROM dependency_type \\nWHERE dependency_type.type = :type_1))', 'INSERT INTO deployment_dependencies (name, source, local_source, version, deployment_id, dependency_type_id) VALUES (:name, :source, :local_source, :version, :deployment_id, (SELECT dependency_type.id \\nFROM dependency_type \\nWHERE dependency_type.type = :type_1))', 'INSERT INTO deployment_dependencies (name, source, local_source, version, deployment_id, dependency_type_id) VALUES (:name, :source, :local_source, :version, :deployment_id, (SELECT dependency_type.id \\nFROM dependency_type \\nWHERE dependency_type.type = :type_1))', 'INSERT INTO deployment_dependencies (name, source, local_source, version, deployment_id, dependency_type_id) VALUES (:name, :source, :local_source, :version, :deployment_id, (SELECT dependency_type.id \\nFROM dependency_type \\nWHERE dependency_type.type = :type_1))', 'INSERT INTO deployment_dependencies (name, source, local_source, version, deployment_id, dependency_type_id) VALUES (:name, :source, :local_source, :version, :deployment_id, (SELECT dependency_type.id \\nFROM dependency_type \\nWHERE dependency_type.type = :type_1))', 'INSERT INTO deployment_dependencies (name, source, local_source, version, deployment_id, dependency_type_id) VALUES (:name, :source, :local_source, :version, :deployment_id, (SELECT dependency_type.id \\nFROM dependency_type \\nWHERE dependency_type.type = :type_1))', 'INSERT INTO deployment_dependencies (name, source, local_source, version, deployment_id, dependency_type_id) VALUES (:name, :source, :local_source, :version, :deployment_id, (SELECT dependency_type.id \\nFROM dependency_type \\nWHERE dependency_type.type = :type_1))', 'INSERT INTO deployment_dependencies (name, source, local_source, version, deployment_id, dependency_type_id) VALUES (:name, :source, :local_source, :version, :deployment_id, (SELECT dependency_type.id \\nFROM dependency_type \\nWHERE dependency_type.type = :type_1))', 'INSERT INTO deployment_dependencies (name, source, local_source, version, deployment_id, dependency_type_id) VALUES (:name, :source, :local_source, :version, :deployment_id, (SELECT dependency_type.id \\nFROM dependency_type \\nWHERE dependency_type.type = :type_1))', 'INSERT INTO deployment_dependencies (name, source, local_source, version, deployment_id, dependency_type_id) VALUES (:name, :source, :local_source, :version, :deployment_id, (SELECT dependency_type.id \\nFROM dependency_type \\nWHERE dependency_type.type = :type_1))', 'INSERT INTO deployment_dependencies (name, source, local_source, version, deployment_id, dependency_type_id) VALUES (:name, :source, :local_source, :version, :deployment_id, (SELECT dependency_type.id \\nFROM dependency_type \\nWHERE dependency_type.type = :type_1))', 'INSERT INTO deployment_dependencies (name, source, local_source, version, deployment_id, dependency_type_id) VALUES (:name, :source, :local_source, :version, :deployment_id, (SELECT dependency_type.id \\nFROM dependency_type \\nWHERE dependency_type.type = :type_1))', 'INSERT INTO deployment_dependencies (name, source, local_source, version, deployment_id, dependency_type_id) VALUES (:name, :source, :local_source, :version, :deployment_id, (SELECT dependency_type.id \\nFROM dependency_type \\nWHERE dependency_type.type = :type_1))', 'INSERT INTO deployment_dependencies (name, source, local_source, version, deployment_id, dependency_type_id) VALUES (:name, :source, :local_source, :version, :deployment_id, (SELECT dependency_type.id \\nFROM dependency_type \\nWHERE dependency_type.type = :type_1))', 'INSERT INTO deployment_dependencies (name, source, local_source, version, deployment_id, dependency_type_id) VALUES (:name, :source, :local_source, :version, :deployment_id, (SELECT dependency_type.id \\nFROM dependency_type \\nWHERE dependency_type.type = :type_1))', 'INSERT INTO deployment_dependencies (name, source, local_source, version, deployment_id, dependency_type_id) VALUES (:name, :source, :local_source, :version, :deployment_id, (SELECT dependency_type.id \\nFROM dependency_type \\nWHERE dependency_type.type = :type_1))', 'INSERT INTO deployment_dependencies (name, source, local_source, version, deployment_id, dependency_type_id) VALUES (:name, :source, :local_source, :version, :deployment_id, (SELECT dependency_type.id \\nFROM dependency_type \\nWHERE dependency_type.type = :type_1))', 'INSERT INTO deployment_dependencies (name, source, local_source, version, deployment_id, dependency_type_id) VALUES (:name, :source, :local_source, :version, :deployment_id, (SELECT dependency_type.id \\nFROM dependency_type \\nWHERE dependency_type.type = :type_1))', 'INSERT INTO deployment_dependencies (name, source, local_source, version, deployment_id, dependency_type_id) VALUES (:name, :source, :local_source, :version, :deployment_id, (SELECT dependency_type.id \\nFROM dependency_type \\nWHERE dependency_type.type = :type_1))', 'INSERT INTO deployment_dependencies (name, source, local_source, version, deployment_id, dependency_type_id) VALUES (:name, :source, :local_source, :version, :deployment_id, (SELECT dependency_type.id \\nFROM dependency_type \\nWHERE dependency_type.type = :type_1))', 'INSERT INTO deployment_dependencies (name, source, local_source, version, deployment_id, dependency_type_id) VALUES (:name, :source, :local_source, :version, :deployment_id, (SELECT dependency_type.id \\nFROM dependency_type \\nWHERE dependency_type.type = :type_1))', 'INSERT INTO deployment_dependencies (name, source, local_source, version, deployment_id, dependency_type_id) VALUES (:name, :source, :local_source, :version, :deployment_id, (SELECT dependency_type.id \\nFROM dependency_type \\nWHERE dependency_type.type = :type_1))', 'INSERT INTO deployment_dependencies (name, source, local_source, version, deployment_id, dependency_type_id) VALUES (:name, :source, :local_source, :version, :deployment_id, (SELECT dependency_type.id \\nFROM dependency_type \\nWHERE dependency_type.type = :type_1))', 'INSERT INTO deployment_dependencies (name, source, local_source, version, deployment_id, dependency_type_id) VALUES (:name, :source, :local_source, :version, :deployment_id, (SELECT dependency_type.id \\nFROM dependency_type \\nWHERE dependency_type.type = :type_1))', 'INSERT INTO deployment_dependencies (name, source, local_source, version, deployment_id, dependency_type_id) VALUES (:name, :source, :local_source, :version, :deployment_id, (SELECT dependency_type.id \\nFROM dependency_type \\nWHERE dependency_type.type = :type_1))', 'INSERT INTO deployment_dependencies (name, source, local_source, version, deployment_id, dependency_type_id) VALUES (:name, :source, :local_source, :version, :deployment_id, (SELECT dependency_type.id \\nFROM dependency_type \\nWHERE dependency_type.type = :type_1))', 'INSERT INTO deployment_dependencies (name, source, local_source, version, deployment_id, dependency_type_id) VALUES (:name, :source, :local_source, :version, :deployment_id, (SELECT dependency_type.id \\nFROM dependency_type \\nWHERE dependency_type.type = :type_1))', 'INSERT INTO deployment_dependencies (name, source, local_source, version, deployment_id, dependency_type_id) VALUES (:name, :source, :local_source, :version, :deployment_id, (SELECT dependency_type.id \\nFROM dependency_type \\nWHERE dependency_type.type = :type_1))', 'INSERT INTO deployment_dependencies (name, source, local_source, version, deployment_id, dependency_type_id) VALUES (:name, :source, :local_source, :version, :deployment_id, (SELECT dependency_type.id \\nFROM dependency_type \\nWHERE dependency_type.type = :type_1))', 'INSERT INTO deployment_dependencies (name, source, local_source, version, deployment_id, dependency_type_id) VALUES (:name, :source, :local_source, :version, :deployment_id, (SELECT dependency_type.id \\nFROM dependency_type \\nWHERE dependency_type.type = :type_1))', 'INSERT INTO deployment_dependencies (name, source, local_source, version, deployment_id, dependency_type_id) VALUES (:name, :source, :local_source, :version, :deployment_id, (SELECT dependency_type.id \\nFROM dependency_type \\nWHERE dependency_type.type = :type_1))', 'INSERT INTO deployment_dependencies (name, source, local_source, version, deployment_id, dependency_type_id) VALUES (:name, :source, :local_source, :version, :deployment_id, (SELECT dependency_type.id \\nFROM dependency_type \\nWHERE dependency_type.type = :type_1))', 'INSERT INTO deployment_dependencies (name, source, local_source, version, deployment_id, dependency_type_id) VALUES (:name, :source, :local_source, :version, :deployment_id, (SELECT dependency_type.id \\nFROM dependency_type \\nWHERE dependency_type.type = :type_1))', 'INSERT INTO deployment_dependencies (name, source, local_source, version, deployment_id, dependency_type_id) VALUES (:name, :source, :local_source, :version, :deployment_id, (SELECT dependency_type.id \\nFROM dependency_type \\nWHERE dependency_type.type = :type_1))', 'INSERT INTO deployment_dependencies (name, source, local_source, version, deployment_id, dependency_type_id) VALUES (:name, :source, :local_source, :version, :deployment_id, (SELECT dependency_type.id \\nFROM dependency_type \\nWHERE dependency_type.type = :type_1))', 'INSERT INTO deployment_dependencies (name, source, local_source, version, deployment_id, dependency_type_id) VALUES (:name, :source, :local_source, :version, :deployment_id, (SELECT dependency_type.id \\nFROM dependency_type \\nWHERE dependency_type.type = :type_1))', 'INSERT INTO deployment_dependencies (name, source, local_source, version, deployment_id, dependency_type_id) VALUES (:name, :source, :local_source, :version, :deployment_id, (SELECT dependency_type.id \\nFROM dependency_type \\nWHERE dependency_type.type = :type_1))', 'INSERT INTO deployment_dependencies (name, source, local_source, version, deployment_id, dependency_type_id) VALUES (:name, :source, :local_source, :version, :deployment_id, (SELECT dependency_type.id \\nFROM dependency_type \\nWHERE dependency_type.type = :type_1))', 'INSERT INTO deployment_dependencies (name, source, local_source, version, deployment_id, dependency_type_id) VALUES (:name, :source, :local_source, :version, :deployment_id, (SELECT dependency_type.id \\nFROM dependency_type \\nWHERE dependency_type.type = :type_1))', 'INSERT INTO deployment_dependencies (name, source, local_source, version, deployment_id, dependency_type_id) VALUES (:name, :source, :local_source, :version, :deployment_id, (SELECT dependency_type.id \\nFROM dependency_type \\nWHERE dependency_type.type = :type_1))', 'INSERT INTO deployment_dependencies (name, source, local_source, version, deployment_id, dependency_type_id) VALUES (:name, :source, :local_source, :version, :deployment_id, (SELECT dependency_type.id \\nFROM dependency_type \\nWHERE dependency_type.type = :type_1))', 'INSERT INTO deployment_dependencies (name, source, local_source, version, deployment_id, dependency_type_id) VALUES (:name, :source, :local_source, :version, :deployment_id, (SELECT dependency_type.id \\nFROM dependency_type \\nWHERE dependency_type.type = :type_1))', 'INSERT INTO deployment_dependencies (name, source, local_source, version, deployment_id, dependency_type_id) VALUES (:name, :source, :local_source, :version, :deployment_id, (SELECT dependency_type.id \\nFROM dependency_type \\nWHERE dependency_type.type = :type_1))', 'INSERT INTO deployment_dependencies (name, source, local_source, version, deployment_id, dependency_type_id) VALUES (:name, :source, :local_source, :version, :deployment_id, (SELECT dependency_type.id \\nFROM dependency_type \\nWHERE dependency_type.type = :type_1))', 'INSERT INTO deployment_dependencies (name, source, local_source, version, deployment_id, dependency_type_id) VALUES (:name, :source, :local_source, :version, :deployment_id, (SELECT dependency_type.id \\nFROM dependency_type \\nWHERE dependency_type.type = :type_1))', 'INSERT INTO deployment_dependencies (name, source, local_source, version, deployment_id, dependency_type_id) VALUES (:name, :source, :local_source, :version, :deployment_id, (SELECT dependency_type.id \\nFROM dependency_type \\nWHERE dependency_type.type = :type_1))', 'INSERT INTO deployment_dependencies (name, source, local_source, version, deployment_id, dependency_type_id) VALUES (:name, :source, :local_source, :version, :deployment_id, (SELECT dependency_type.id \\nFROM dependency_type \\nWHERE dependency_type.type = :type_1))', 'INSERT INTO deployment_dependencies (name, source, local_source, version, deployment_id, dependency_type_id) VALUES (:name, :source, :local_source, :version, :deployment_id, (SELECT dependency_type.id \\nFROM dependency_type \\nWHERE dependency_type.type = :type_1))', 'INSERT INTO deployment_dependencies (name, source, local_source, version, deployment_id, dependency_type_id) VALUES (:name, :source, :local_source, :version, :deployment_id, (SELECT dependency_type.id \\nFROM dependency_type \\nWHERE dependency_type.type = :type_1))', 'INSERT INTO deployment_dependencies (name, source, local_source, version, deployment_id, dependency_type_id) VALUES (:name, :source, :local_source, :version, :deployment_id, (SELECT dependency_type.id \\nFROM dependency_type \\nWHERE dependency_type.type = :type_1))', 'INSERT INTO deployment_dependencies (name, source, local_source, version, deployment_id, dependency_type_id) VALUES (:name, :source, :local_source, :version, :deployment_id, (SELECT dependency_type.id \\nFROM dependency_type \\nWHERE dependency_type.type = :type_1))', 'INSERT INTO deployment_dependencies (name, source, local_source, version, deployment_id, dependency_type_id) VALUES (:name, :source, :local_source, :version, :deployment_id, (SELECT dependency_type.id \\nFROM dependency_type \\nWHERE dependency_type.type = :type_1))', 'INSERT INTO deployment_dependencies (name, source, local_source, version, deployment_id, dependency_type_id) VALUES (:name, :source, :local_source, :version, :deployment_id, (SELECT dependency_type.id \\nFROM dependency_type \\nWHERE dependency_type.type = :type_1))', 'INSERT INTO deployment_dependencies (name, source, local_source, version, deployment_id, dependency_type_id) VALUES (:name, :source, :local_source, :version, :deployment_id, (SELECT dependency_type.id \\nFROM dependency_type \\nWHERE dependency_type.type = :type_1))', 'INSERT INTO deployment_dependencies (name, source, local_source, version, deployment_id, dependency_type_id) VALUES (:name, :source, :local_source, :version, :deployment_id, (SELECT dependency_type.id \\nFROM dependency_type \\nWHERE dependency_type.type = :type_1))', 'INSERT INTO deployment_dependencies (name, source, local_source, version, deployment_id, dependency_type_id) VALUES (:name, :source, :local_source, :version, :deployment_id, (SELECT dependency_type.id \\nFROM dependency_type \\nWHERE dependency_type.type = :type_1))', 'INSERT INTO deployment_dependencies (name, source, local_source, version, deployment_id, dependency_type_id) VALUES (:name, :source, :local_source, :version, :deployment_id, (SELECT dependency_type.id \\nFROM dependency_type \\nWHERE dependency_type.type = :type_1))', 'INSERT INTO deployment_dependencies (name, source, local_source, version, deployment_id, dependency_type_id) VALUES (:name, :source, :local_source, :version, :deployment_id, (SELECT dependency_type.id \\nFROM dependency_type \\nWHERE dependency_type.type = :type_1))', 'INSERT INTO deployment_dependencies (name, source, local_source, version, deployment_id, dependency_type_id) VALUES (:name, :source, :local_source, :version, :deployment_id, (SELECT dependency_type.id \\nFROM dependency_type \\nWHERE dependency_type.type = :type_1))', 'INSERT INTO deployment_dependencies (name, source, local_source, version, deployment_id, dependency_type_id) VALUES (:name, :source, :local_source, :version, :deployment_id, (SELECT dependency_type.id \\nFROM dependency_type \\nWHERE dependency_type.type = :type_1))', 'INSERT INTO deployment_dependencies (name, source, local_source, version, deployment_id, dependency_type_id) VALUES (:name, :source, :local_source, :version, :deployment_id, (SELECT dependency_type.id \\nFROM dependency_type \\nWHERE dependency_type.type = :type_1))', 'INSERT INTO deployment_dependencies (name, source, local_source, version, deployment_id, dependency_type_id) VALUES (:name, :source, :local_source, :version, :deployment_id, (SELECT dependency_type.id \\nFROM dependency_type \\nWHERE dependency_type.type = :type_1))', 'INSERT INTO deployment_dependencies (name, source, local_source, version, deployment_id, dependency_type_id) VALUES (:name, :source, :local_source, :version, :deployment_id, (SELECT dependency_type.id \\nFROM dependency_type \\nWHERE dependency_type.type = :type_1))', 'INSERT INTO deployment_dependencies (name, source, local_source, version, deployment_id, dependency_type_id) VALUES (:name, :source, :local_source, :version, :deployment_id, (SELECT dependency_type.id \\nFROM dependency_type \\nWHERE dependency_type.type = :type_1))', 'INSERT INTO deployment_dependencies (name, source, local_source, version, deployment_id, dependency_type_id) VALUES (:name, :source, :local_source, :version, :deployment_id, (SELECT dependency_type.id \\nFROM dependency_type \\nWHERE dependency_type.type = :type_1))', 'INSERT INTO deployment_dependencies (name, source, local_source, version, deployment_id, dependency_type_id) VALUES (:name, :source, :local_source, :version, :deployment_id, (SELECT dependency_type.id \\nFROM dependency_type \\nWHERE dependency_type.type = :type_1))', 'INSERT INTO deployment_dependencies (name, source, local_source, version, deployment_id, dependency_type_id) VALUES (:name, :source, :local_source, :version, :deployment_id, (SELECT dependency_type.id \\nFROM dependency_type \\nWHERE dependency_type.type = :type_1))', 'INSERT INTO deployment_dependencies (name, source, local_source, version, deployment_id, dependency_type_id) VALUES (:name, :source, :local_source, :version, :deployment_id, (SELECT dependency_type.id \\nFROM dependency_type \\nWHERE dependency_type.type = :type_1))', 'INSERT INTO deployment_dependencies (name, source, local_source, version, deployment_id, dependency_type_id) VALUES (:name, :source, :local_source, :version, :deployment_id, (SELECT dependency_type.id \\nFROM dependency_type \\nWHERE dependency_type.type = :type_1))', 'INSERT INTO deployment_dependencies (name, source, local_source, version, deployment_id, dependency_type_id) VALUES (:name, :source, :local_source, :version, :deployment_id, (SELECT dependency_type.id \\nFROM dependency_type \\nWHERE dependency_type.type = :type_1))', 'INSERT INTO deployment_dependencies (name, source, local_source, version, deployment_id, dependency_type_id) VALUES (:name, :source, :local_source, :version, :deployment_id, (SELECT dependency_type.id \\nFROM dependency_type \\nWHERE dependency_type.type = :type_1))', 'INSERT INTO deployment_dependencies (name, source, local_source, version, deployment_id, dependency_type_id) VALUES (:name, :source, :local_source, :version, :deployment_id, (SELECT dependency_type.id \\nFROM dependency_type \\nWHERE dependency_type.type = :type_1))', 'INSERT INTO deployment_dependencies (name, source, local_source, version, deployment_id, dependency_type_id) VALUES (:name, :source, :local_source, :version, :deployment_id, (SELECT dependency_type.id \\nFROM dependency_type \\nWHERE dependency_type.type = :type_1))', 'INSERT INTO deployment_dependencies (name, source, local_source, version, deployment_id, dependency_type_id) VALUES (:name, :source, :local_source, :version, :deployment_id, (SELECT dependency_type.id \\nFROM dependency_type \\nWHERE dependency_type.type = :type_1))', 'INSERT INTO deployment_dependencies (name, source, local_source, version, deployment_id, dependency_type_id) VALUES (:name, :source, :local_source, :version, :deployment_id, (SELECT dependency_type.id \\nFROM dependency_type \\nWHERE dependency_type.type = :type_1))', 'INSERT INTO deployment_dependencies (name, source, local_source, version, deployment_id, dependency_type_id) VALUES (:name, :source, :local_source, :version, :deployment_id, (SELECT dependency_type.id \\nFROM dependency_type \\nWHERE dependency_type.type = :type_1))', 'INSERT INTO deployment_dependencies (name, source, local_source, version, deployment_id, dependency_type_id) VALUES (:name, :source, :local_source, :version, :deployment_id, (SELECT dependency_type.id \\nFROM dependency_type \\nWHERE dependency_type.type = :type_1))', 'INSERT INTO deployment_dependencies (name, source, local_source, version, deployment_id, dependency_type_id) VALUES (:name, :source, :local_source, :version, :deployment_id, (SELECT dependency_type.id \\nFROM dependency_type \\nWHERE dependency_type.type = :type_1))', 'INSERT INTO deployment_dependencies (name, source, local_source, version, deployment_id, dependency_type_id) VALUES (:name, :source, :local_source, :version, :deployment_id, (SELECT dependency_type.id \\nFROM dependency_type \\nWHERE dependency_type.type = :type_1))', 'INSERT INTO deployment_dependencies (name, source, local_source, version, deployment_id, dependency_type_id) VALUES (:name, :source, :local_source, :version, :deployment_id, (SELECT dependency_type.id \\nFROM dependency_type \\nWHERE dependency_type.type = :type_1))', 'INSERT INTO deployment_dependencies (name, source, local_source, version, deployment_id, dependency_type_id) VALUES (:name, :source, :local_source, :version, :deployment_id, (SELECT dependency_type.id \\nFROM dependency_type \\nWHERE dependency_type.type = :type_1))', 'INSERT INTO deployment_dependencies (name, source, local_source, version, deployment_id, dependency_type_id) VALUES (:name, :source, :local_source, :version, :deployment_id, (SELECT dependency_type.id \\nFROM dependency_type \\nWHERE dependency_type.type = :type_1))', 'INSERT INTO deployment_dependencies (name, source, local_source, version, deployment_id, dependency_type_id) VALUES (:name, :source, :local_source, :version, :deployment_id, (SELECT dependency_type.id \\nFROM dependency_type \\nWHERE dependency_type.type = :type_1))', 'INSERT INTO deployment_dependencies (name, source, local_source, version, deployment_id, dependency_type_id) VALUES (:name, :source, :local_source, :version, :deployment_id, (SELECT dependency_type.id \\nFROM dependency_type \\nWHERE dependency_type.type = :type_1))', 'INSERT INTO deployment_dependencies (name, source, local_source, version, deployment_id, dependency_type_id) VALUES (:name, :source, :local_source, :version, :deployment_id, (SELECT dependency_type.id \\nFROM dependency_type \\nWHERE dependency_type.type = :type_1))', 'INSERT INTO deployment_dependencies (name, source, local_source, version, deployment_id, dependency_type_id) VALUES (:name, :source, :local_source, :version, :deployment_id, (SELECT dependency_type.id \\nFROM dependency_type \\nWHERE dependency_type.type = :type_1))', 'INSERT INTO deployment_dependencies (name, source, local_source, version, deployment_id, dependency_type_id) VALUES (:name, :source, :local_source, :version, :deployment_id, (SELECT dependency_type.id \\nFROM dependency_type \\nWHERE dependency_type.type = :type_1))', 'INSERT INTO deployment_dependencies (name, source, local_source, version, deployment_id, dependency_type_id) VALUES (:name, :source, :local_source, :version, :deployment_id, (SELECT dependency_type.id \\nFROM dependency_type \\nWHERE dependency_type.type = :type_1))', 'INSERT INTO deployment_dependencies (name, source, local_source, version, deployment_id, dependency_type_id) VALUES (:name, :source, :local_source, :version, :deployment_id, (SELECT dependency_type.id \\nFROM dependency_type \\nWHERE dependency_type.type = :type_1))', 'INSERT INTO deployment_dependencies (name, source, local_source, version, deployment_id, dependency_type_id) VALUES (:name, :source, :local_source, :version, :deployment_id, (SELECT dependency_type.id \\nFROM dependency_type \\nWHERE dependency_type.type = :type_1))', 'INSERT INTO deployment_dependencies (name, source, local_source, version, deployment_id, dependency_type_id) VALUES (:name, :source, :local_source, :version, :deployment_id, (SELECT dependency_type.id \\nFROM dependency_type \\nWHERE dependency_type.type = :type_1))', 'INSERT INTO deployment_dependencies (name, source, local_source, version, deployment_id, dependency_type_id) VALUES (:name, :source, :local_source, :version, :deployment_id, (SELECT dependency_type.id \\nFROM dependency_type \\nWHERE dependency_type.type = :type_1))', 'INSERT INTO deployment_dependencies (name, source, local_source, version, deployment_id, dependency_type_id) VALUES (:name, :source, :local_source, :version, :deployment_id, (SELECT dependency_type.id \\nFROM dependency_type \\nWHERE dependency_type.type = :type_1))', 'INSERT INTO deployment_dependencies (name, source, local_source, version, deployment_id, dependency_type_id) VALUES (:name, :source, :local_source, :version, :deployment_id, (SELECT dependency_type.id \\nFROM dependency_type \\nWHERE dependency_type.type = :type_1))', 'INSERT INTO deployment_dependencies (name, source, local_source, version, deployment_id, dependency_type_id) VALUES (:name, :source, :local_source, :version, :deployment_id, (SELECT dependency_type.id \\nFROM dependency_type \\nWHERE dependency_type.type = :type_1))', 'INSERT INTO deployment_dependencies (name, source, local_source, version, deployment_id, dependency_type_id) VALUES (:name, :source, :local_source, :version, :deployment_id, (SELECT dependency_type.id \\nFROM dependency_type \\nWHERE dependency_type.type = :type_1))', 'INSERT INTO deployment_dependencies (name, source, local_source, version, deployment_id, dependency_type_id) VALUES (:name, :source, :local_source, :version, :deployment_id, (SELECT dependency_type.id \\nFROM dependency_type \\nWHERE dependency_type.type = :type_1))', 'INSERT INTO deployment_dependencies (name, source, local_source, version, deployment_id, dependency_type_id) VALUES (:name, :source, :local_source, :version, :deployment_id, (SELECT dependency_type.id \\nFROM dependency_type \\nWHERE dependency_type.type = :type_1))', 'INSERT INTO deployment_dependencies (name, source, local_source, version, deployment_id, dependency_type_id) VALUES (:name, :source, :local_source, :version, :deployment_id, (SELECT dependency_type.id \\nFROM dependency_type \\nWHERE dependency_type.type = :type_1))', 'INSERT INTO deployment_dependencies (name, source, local_source, version, deployment_id, dependency_type_id) VALUES (:name, :source, :local_source, :version, :deployment_id, (SELECT dependency_type.id \\nFROM dependency_type \\nWHERE dependency_type.type = :type_1))', 'INSERT INTO deployment_dependencies (name, source, local_source, version, deployment_id, dependency_type_id) VALUES (:name, :source, :local_source, :version, :deployment_id, (SELECT dependency_type.id \\nFROM dependency_type \\nWHERE dependency_type.type = :type_1))', 'INSERT INTO deployment_dependencies (name, source, local_source, version, deployment_id, dependency_type_id) VALUES (:name, :source, :local_source, :version, :deployment_id, (SELECT dependency_type.id \\nFROM dependency_type \\nWHERE dependency_type.type = :type_1))', 'INSERT INTO deployment_dependencies (name, source, local_source, version, deployment_id, dependency_type_id) VALUES (:name, :source, :local_source, :version, :deployment_id, (SELECT dependency_type.id \\nFROM dependency_type \\nWHERE dependency_type.type = :type_1))', 'INSERT INTO deployment_dependencies (name, source, local_source, version, deployment_id, dependency_type_id) VALUES (:name, :source, :local_source, :version, :deployment_id, (SELECT dependency_type.id \\nFROM dependency_type \\nWHERE dependency_type.type = :type_1))', 'INSERT INTO deployment_dependencies (name, source, local_source, version, deployment_id, dependency_type_id) VALUES (:name, :source, :local_source, :version, :deployment_id, (SELECT dependency_type.id \\nFROM dependency_type \\nWHERE dependency_type.type = :type_1))', 'INSERT INTO deployment_dependencies (name, source, local_source, version, deployment_id, dependency_type_id) VALUES (:name, :source, :local_source, :version, :deployment_id, (SELECT dependency_type.id \\nFROM dependency_type \\nWHERE dependency_type.type = :type_1))', 'INSERT INTO deployment_dependencies (name, source, local_source, version, deployment_id, dependency_type_id) VALUES (:name, :source, :local_source, :version, :deployment_id, (SELECT dependency_type.id \\nFROM dependency_type \\nWHERE dependency_type.type = :type_1))', 'INSERT INTO deployment_dependencies (name, source, local_source, version, deployment_id, dependency_type_id) VALUES (:name, :source, :local_source, :version, :deployment_id, (SELECT dependency_type.id \\nFROM dependency_type \\nWHERE dependency_type.type = :type_1))', 'INSERT INTO deployment_dependencies (name, source, local_source, version, deployment_id, dependency_type_id) VALUES (:name, :source, :local_source, :version, :deployment_id, (SELECT dependency_type.id \\nFROM dependency_type \\nWHERE dependency_type.type = :type_1))', 'INSERT INTO deployment_dependencies (name, source, local_source, version, deployment_id, dependency_type_id) VALUES (:name, :source, :local_source, :version, :deployment_id, (SELECT dependency_type.id \\nFROM dependency_type \\nWHERE dependency_type.type = :type_1))', 'INSERT INTO deployment_dependencies (name, source, local_source, version, deployment_id, dependency_type_id) VALUES (:name, :source, :local_source, :version, :deployment_id, (SELECT dependency_type.id \\nFROM dependency_type \\nWHERE dependency_type.type = :type_1))', 'INSERT INTO deployment_dependencies (name, source, local_source, version, deployment_id, dependency_type_id) VALUES (:name, :source, :local_source, :version, :deployment_id, (SELECT dependency_type.id \\nFROM dependency_type \\nWHERE dependency_type.type = :type_1))', 'INSERT INTO deployment_dependencies (name, source, local_source, version, deployment_id, dependency_type_id) VALUES (:name, :source, :local_source, :version, :deployment_id, (SELECT dependency_type.id \\nFROM dependency_type \\nWHERE dependency_type.type = :type_1))', 'INSERT INTO deployment_dependencies (name, source, local_source, version, deployment_id, dependency_type_id) VALUES (:name, :source, :local_source, :version, :deployment_id, (SELECT dependency_type.id \\nFROM dependency_type \\nWHERE dependency_type.type = :type_1))', 'INSERT INTO deployment_dependencies (name, source, local_source, version, deployment_id, dependency_type_id) VALUES (:name, :source, :local_source, :version, :deployment_id, (SELECT dependency_type.id \\nFROM dependency_type \\nWHERE dependency_type.type = :type_1))', 'INSERT INTO deployment_dependencies (name, source, local_source, version, deployment_id, dependency_type_id) VALUES (:name, :source, :local_source, :version, :deployment_id, (SELECT dependency_type.id \\nFROM dependency_type \\nWHERE dependency_type.type = :type_1))', 'INSERT INTO deployment_dependencies (name, source, local_source, version, deployment_id, dependency_type_id) VALUES (:name, :source, :local_source, :version, :deployment_id, (SELECT dependency_type.id \\nFROM dependency_type \\nWHERE dependency_type.type = :type_1))', 'INSERT INTO deployment_dependencies (name, source, local_source, version, deployment_id, dependency_type_id) VALUES (:name, :source, :local_source, :version, :deployment_id, (SELECT dependency_type.id \\nFROM dependency_type \\nWHERE dependency_type.type = :type_1))', 'INSERT INTO deployment_dependencies (name, source, local_source, version, deployment_id, dependency_type_id) VALUES (:name, :source, :local_source, :version, :deployment_id, (SELECT dependency_type.id \\nFROM dependency_type \\nWHERE dependency_type.type = :type_1))', 'INSERT INTO deployment_dependencies (name, source, local_source, version, deployment_id, dependency_type_id) VALUES (:name, :source, :local_source, :version, :deployment_id, (SELECT dependency_type.id \\nFROM dependency_type \\nWHERE dependency_type.type = :type_1))', 'INSERT INTO deployment_dependencies (name, source, local_source, version, deployment_id, dependency_type_id) VALUES (:name, :source, :local_source, :version, :deployment_id, (SELECT dependency_type.id \\nFROM dependency_type \\nWHERE dependency_type.type = :type_1))', 'INSERT INTO deployment_dependencies (name, source, local_source, version, deployment_id, dependency_type_id) VALUES (:name, :source, :local_source, :version, :deployment_id, (SELECT dependency_type.id \\nFROM dependency_type \\nWHERE dependency_type.type = :type_1))', 'INSERT INTO deployment_dependencies (name, source, local_source, version, deployment_id, dependency_type_id) VALUES (:name, :source, :local_source, :version, :deployment_id, (SELECT dependency_type.id \\nFROM dependency_type \\nWHERE dependency_type.type = :type_1))', 'INSERT INTO deployment_dependencies (name, source, local_source, version, deployment_id, dependency_type_id) VALUES (:name, :source, :local_source, :version, :deployment_id, (SELECT dependency_type.id \\nFROM dependency_type \\nWHERE dependency_type.type = :type_1))', 'INSERT INTO deployment_dependencies (name, source, local_source, version, deployment_id, dependency_type_id) VALUES (:name, :source, :local_source, :version, :deployment_id, (SELECT dependency_type.id \\nFROM dependency_type \\nWHERE dependency_type.type = :type_1))', 'INSERT INTO deployment_dependencies (name, source, local_source, version, deployment_id, dependency_type_id) VALUES (:name, :source, :local_source, :version, :deployment_id, (SELECT dependency_type.id \\nFROM dependency_type \\nWHERE dependency_type.type = :type_1))', 'INSERT INTO deployment_dependencies (name, source, local_source, version, deployment_id, dependency_type_id) VALUES (:name, :source, :local_source, :version, :deployment_id, (SELECT dependency_type.id \\nFROM dependency_type \\nWHERE dependency_type.type = :type_1))', 'INSERT INTO deployment_dependencies (name, source, local_source, version, deployment_id, dependency_type_id) VALUES (:name, :source, :local_source, :version, :deployment_id, (SELECT dependency_type.id \\nFROM dependency_type \\nWHERE dependency_type.type = :type_1))', 'INSERT INTO deployment_dependencies (name, source, local_source, version, deployment_id, dependency_type_id) VALUES (:name, :source, :local_source, :version, :deployment_id, (SELECT dependency_type.id \\nFROM dependency_type \\nWHERE dependency_type.type = :type_1))', 'INSERT INTO deployment_dependencies (name, source, local_source, version, deployment_id, dependency_type_id) VALUES (:name, :source, :local_source, :version, :deployment_id, (SELECT dependency_type.id \\nFROM dependency_type \\nWHERE dependency_type.type = :type_1))', 'INSERT INTO deployment_dependencies (name, source, local_source, version, deployment_id, dependency_type_id) VALUES (:name, :source, :local_source, :version, :deployment_id, (SELECT dependency_type.id \\nFROM dependency_type \\nWHERE dependency_type.type = :type_1))', 'INSERT INTO deployment_dependencies (name, source, local_source, version, deployment_id, dependency_type_id) VALUES (:name, :source, :local_source, :version, :deployment_id, (SELECT dependency_type.id \\nFROM dependency_type \\nWHERE dependency_type.type = :type_1))', 'INSERT INTO deployment_dependencies (name, source, local_source, version, deployment_id, dependency_type_id) VALUES (:name, :source, :local_source, :version, :deployment_id, (SELECT dependency_type.id \\nFROM dependency_type \\nWHERE dependency_type.type = :type_1))', 'INSERT INTO deployment_dependencies (name, source, local_source, version, deployment_id, dependency_type_id) VALUES (:name, :source, :local_source, :version, :deployment_id, (SELECT dependency_type.id \\nFROM dependency_type \\nWHERE dependency_type.type = :type_1))', 'INSERT INTO deployment_dependencies (name, source, local_source, version, deployment_id, dependency_type_id) VALUES (:name, :source, :local_source, :version, :deployment_id, (SELECT dependency_type.id \\nFROM dependency_type \\nWHERE dependency_type.type = :type_1))', 'INSERT INTO deployment_dependencies (name, source, local_source, version, deployment_id, dependency_type_id) VALUES (:name, :source, :local_source, :version, :deployment_id, (SELECT dependency_type.id \\nFROM dependency_type \\nWHERE dependency_type.type = :type_1))', 'INSERT INTO deployment_dependencies (name, source, local_source, version, deployment_id, dependency_type_id) VALUES (:name, :source, :local_source, :version, :deployment_id, (SELECT dependency_type.id \\nFROM dependency_type \\nWHERE dependency_type.type = :type_1))', 'INSERT INTO deployment_dependencies (name, source, local_source, version, deployment_id, dependency_type_id) VALUES (:name, :source, :local_source, :version, :deployment_id, (SELECT dependency_type.id \\nFROM dependency_type \\nWHERE dependency_type.type = :type_1))', 'INSERT INTO deployment_dependencies (name, source, local_source, version, deployment_id, dependency_type_id) VALUES (:name, :source, :local_source, :version, :deployment_id, (SELECT dependency_type.id \\nFROM dependency_type \\nWHERE dependency_type.type = :type_1))', 'INSERT INTO deployment_dependencies (name, source, local_source, version, deployment_id, dependency_type_id) VALUES (:name, :source, :local_source, :version, :deployment_id, (SELECT dependency_type.id \\nFROM dependency_type \\nWHERE dependency_type.type = :type_1))', 'INSERT INTO deployment_dependencies (name, source, local_source, version, deployment_id, dependency_type_id) VALUES (:name, :source, :local_source, :version, :deployment_id, (SELECT dependency_type.id \\nFROM dependency_type \\nWHERE dependency_type.type = :type_1))', 'INSERT INTO deployment_dependencies (name, source, local_source, version, deployment_id, dependency_type_id) VALUES (:name, :source, :local_source, :version, :deployment_id, (SELECT dependency_type.id \\nFROM dependency_type \\nWHERE dependency_type.type = :type_1))', 'INSERT INTO deployment_dependencies (name, source, local_source, version, deployment_id, dependency_type_id) VALUES (:name, :source, :local_source, :version, :deployment_id, (SELECT dependency_type.id \\nFROM dependency_type \\nWHERE dependency_type.type = :type_1))', 'INSERT INTO deployment_dependencies (name, source, local_source, version, deployment_id, dependency_type_id) VALUES (:name, :source, :local_source, :version, :deployment_id, (SELECT dependency_type.id \\nFROM dependency_type \\nWHERE dependency_type.type = :type_1))', 'INSERT INTO deployment_dependencies (name, source, local_source, version, deployment_id, dependency_type_id) VALUES (:name, :source, :local_source, :version, :deployment_id, (SELECT dependency_type.id \\nFROM dependency_type \\nWHERE dependency_type.type = :type_1))', 'INSERT INTO deployment_dependencies (name, source, local_source, version, deployment_id, dependency_type_id) VALUES (:name, :source, :local_source, :version, :deployment_id, (SELECT dependency_type.id \\nFROM dependency_type \\nWHERE dependency_type.type = :type_1))', 'INSERT INTO deployment_dependencies (name, source, local_source, version, deployment_id, dependency_type_id) VALUES (:name, :source, :local_source, :version, :deployment_id, (SELECT dependency_type.id \\nFROM dependency_type \\nWHERE dependency_type.type = :type_1))', 'INSERT INTO deployment_dependencies (name, source, local_source, version, deployment_id, dependency_type_id) VALUES (:name, :source, :local_source, :version, :deployment_id, (SELECT dependency_type.id \\nFROM dependency_type \\nWHERE dependency_type.type = :type_1))', 'INSERT INTO deployment_dependencies (name, source, local_source, version, deployment_id, dependency_type_id) VALUES (:name, :source, :local_source, :version, :deployment_id, (SELECT dependency_type.id \\nFROM dependency_type \\nWHERE dependency_type.type = :type_1))', 'INSERT INTO deployment_dependencies (name, source, local_source, version, deployment_id, dependency_type_id) VALUES (:name, :source, :local_source, :version, :deployment_id, (SELECT dependency_type.id \\nFROM dependency_type \\nWHERE dependency_type.type = :type_1))', 'INSERT INTO deployment_dependencies (name, source, local_source, version, deployment_id, dependency_type_id) VALUES (:name, :source, :local_source, :version, :deployment_id, (SELECT dependency_type.id \\nFROM dependency_type \\nWHERE dependency_type.type = :type_1))', 'INSERT INTO deployment_dependencies (name, source, local_source, version, deployment_id, dependency_type_id) VALUES (:name, :source, :local_source, :version, :deployment_id, (SELECT dependency_type.id \\nFROM dependency_type \\nWHERE dependency_type.type = :type_1))', 'INSERT INTO deployment_dependencies (name, source, local_source, version, deployment_id, dependency_type_id) VALUES (:name, :source, :local_source, :version, :deployment_id, (SELECT dependency_type.id \\nFROM dependency_type \\nWHERE dependency_type.type = :type_1))', 'INSERT INTO deployment_dependencies (name, source, local_source, version, deployment_id, dependency_type_id) VALUES (:name, :source, :local_source, :version, :deployment_id, (SELECT dependency_type.id \\nFROM dependency_type \\nWHERE dependency_type.type = :type_1))', 'INSERT INTO deployment_dependencies (name, source, local_source, version, deployment_id, dependency_type_id) VALUES (:name, :source, :local_source, :version, :deployment_id, (SELECT dependency_type.id \\nFROM dependency_type \\nWHERE dependency_type.type = :type_1))', 'INSERT INTO deployment_dependencies (name, source, local_source, version, deployment_id, dependency_type_id) VALUES (:name, :source, :local_source, :version, :deployment_id, (SELECT dependency_type.id \\nFROM dependency_type \\nWHERE dependency_type.type = :type_1))', 'INSERT INTO deployment_dependencies (name, source, local_source, version, deployment_id, dependency_type_id) VALUES (:name, :source, :local_source, :version, :deployment_id, (SELECT dependency_type.id \\nFROM dependency_type \\nWHERE dependency_type.type = :type_1))', 'INSERT INTO deployment_dependencies (name, source, local_source, version, deployment_id, dependency_type_id) VALUES (:name, :source, :local_source, :version, :deployment_id, (SELECT dependency_type.id \\nFROM dependency_type \\nWHERE dependency_type.type = :type_1))', 'INSERT INTO deployment_dependencies (name, source, local_source, version, deployment_id, dependency_type_id) VALUES (:name, :source, :local_source, :version, :deployment_id, (SELECT dependency_type.id \\nFROM dependency_type \\nWHERE dependency_type.type = :type_1))', 'INSERT INTO deployment_dependencies (name, source, local_source, version, deployment_id, dependency_type_id) VALUES (:name, :source, :local_source, :version, :deployment_id, (SELECT dependency_type.id \\nFROM dependency_type \\nWHERE dependency_type.type = :type_1))', 'INSERT INTO deployment_dependencies (name, source, local_source, version, deployment_id, dependency_type_id) VALUES (:name, :source, :local_source, :version, :deployment_id, (SELECT dependency_type.id \\nFROM dependency_type \\nWHERE dependency_type.type = :type_1))', 'INSERT INTO deployment_dependencies (name, source, local_source, version, deployment_id, dependency_type_id) VALUES (:name, :source, :local_source, :version, :deployment_id, (SELECT dependency_type.id \\nFROM dependency_type \\nWHERE dependency_type.type = :type_1))', 'INSERT INTO deployment_dependencies (name, source, local_source, version, deployment_id, dependency_type_id) VALUES (:name, :source, :local_source, :version, :deployment_id, (SELECT dependency_type.id \\nFROM dependency_type \\nWHERE dependency_type.type = :type_1))', 'INSERT INTO deployment_dependencies (name, source, local_source, version, deployment_id, dependency_type_id) VALUES (:name, :source, :local_source, :version, :deployment_id, (SELECT dependency_type.id \\nFROM dependency_type \\nWHERE dependency_type.type = :type_1))', 'INSERT INTO deployment_dependencies (name, source, local_source, version, deployment_id, dependency_type_id) VALUES (:name, :source, :local_source, :version, :deployment_id, (SELECT dependency_type.id \\nFROM dependency_type \\nWHERE dependency_type.type = :type_1))', 'INSERT INTO deployment_dependencies (name, source, local_source, version, deployment_id, dependency_type_id) VALUES (:name, :source, :local_source, :version, :deployment_id, (SELECT dependency_type.id \\nFROM dependency_type \\nWHERE dependency_type.type = :type_1))', 'INSERT INTO deployment_dependencies (name, source, local_source, version, deployment_id, dependency_type_id) VALUES (:name, :source, :local_source, :version, :deployment_id, (SELECT dependency_type.id \\nFROM dependency_type \\nWHERE dependency_type.type = :type_1))', 'INSERT INTO deployment_dependencies (name, source, local_source, version, deployment_id, dependency_type_id) VALUES (:name, :source, :local_source, :version, :deployment_id, (SELECT dependency_type.id \\nFROM dependency_type \\nWHERE dependency_type.type = :type_1))', 'INSERT INTO deployment_dependencies (name, source, local_source, version, deployment_id, dependency_type_id) VALUES (:name, :source, :local_source, :version, :deployment_id, (SELECT dependency_type.id \\nFROM dependency_type \\nWHERE dependency_type.type = :type_1))', 'INSERT INTO deployment_dependencies (name, source, local_source, version, deployment_id, dependency_type_id) VALUES (:name, :source, :local_source, :version, :deployment_id, (SELECT dependency_type.id \\nFROM dependency_type \\nWHERE dependency_type.type = :type_1))', 'INSERT INTO deployment_dependencies (name, source, local_source, version, deployment_id, dependency_type_id) VALUES (:name, :source, :local_source, :version, :deployment_id, (SELECT dependency_type.id \\nFROM dependency_type \\nWHERE dependency_type.type = :type_1))']\n"
     ]
    },
    {
     "name": "stderr",
     "output_type": "stream",
     "text": [
      "INFO:lume_services.services.scheduling.backends.server:Flow run config is not empty. Clearing existing labels and assigning                     new.\n",
      "/Users/jacquelinegarrahan/miniconda3/envs/lume-services-dev/lib/python3.9/site-packages/prefect/core/flow.py:1726: UserWarning: No result handler was specified on your Flow. Cloud features such as input caching and resuming task runs from failure may not work properly.\n",
      "  registered_flow = client.register(\n",
      "DEBUG:urllib3.connectionpool:Starting new HTTP connection (1): localhost:4200\n",
      "DEBUG:urllib3.connectionpool:http://localhost:4200 \"POST / HTTP/1.1\" 200 69\n",
      "DEBUG:urllib3.connectionpool:Starting new HTTP connection (1): localhost:4200\n",
      "DEBUG:urllib3.connectionpool:http://localhost:4200 \"POST / HTTP/1.1\" 200 94\n",
      "DEBUG:urllib3.connectionpool:Starting new HTTP connection (1): localhost:4200\n",
      "DEBUG:urllib3.connectionpool:http://localhost:4200 \"POST / HTTP/1.1\" 200 45\n",
      "DEBUG:urllib3.connectionpool:Starting new HTTP connection (1): localhost:4200\n",
      "DEBUG:urllib3.connectionpool:http://localhost:4200 \"POST / HTTP/1.1\" 200 45\n",
      "DEBUG:urllib3.connectionpool:Starting new HTTP connection (1): localhost:4200\n",
      "DEBUG:urllib3.connectionpool:http://localhost:4200 \"POST / HTTP/1.1\" 200 51\n",
      "DEBUG:urllib3.connectionpool:Starting new HTTP connection (1): localhost:4200\n",
      "DEBUG:urllib3.connectionpool:http://localhost:4200 \"POST / HTTP/1.1\" 200 81\n",
      "DEBUG:urllib3.connectionpool:Starting new HTTP connection (1): localhost:4200\n",
      "DEBUG:urllib3.connectionpool:http://localhost:4200 \"POST / HTTP/1.1\" 200 85\n",
      "DEBUG:urllib3.connectionpool:Starting new HTTP connection (1): localhost:4200\n",
      "DEBUG:urllib3.connectionpool:http://localhost:4200 \"POST / HTTP/1.1\" 200 68\n",
      "INFO:lume_services.services.models.db.db:ModelDB inserting: INSERT INTO flow (flow_id, flow_name, project_name, deployment_id) VALUES (:flow_id, :flow_name, :project_name, :deployment_id)\n",
      "DEBUG:lume_services.services.models.db.db:ModelDB creating session.\n",
      "DEBUG:lume_services.services.models.db.db:ModelDB session created.\n",
      "INFO:lume_services.services.models.db.db:Sucessfully executed: INSERT INTO flow (flow_id, flow_name, project_name, deployment_id) VALUES (:flow_id, :flow_name, :project_name, :deployment_id)\n",
      "INFO:lume_services.services.models.db.db:ModelDB selecting: SELECT deployment.sha256, deployment.deployment_id, deployment.version, deployment.deploy_date, deployment.package_import_name, deployment.asset_dir, deployment.source, deployment.image, deployment.is_live, deployment.model_id \n",
      "FROM deployment \n",
      "WHERE deployment.model_id = :model_id_1 AND deployment.deployment_id = :deployment_id_1\n",
      "DEBUG:lume_services.services.models.db.db:ModelDB creating session.\n",
      "DEBUG:lume_services.services.models.db.db:ModelDB session created.\n",
      "INFO:lume_services.services.models.db.db:ModelDB selecting: SELECT deployment_dependencies._id, deployment_dependencies.name, deployment_dependencies.source, deployment_dependencies.local_source, deployment_dependencies.version, deployment_dependencies.deployment_id, deployment_dependencies.dependency_type_id, dependency_type_1.id, dependency_type_1.type \n",
      "FROM deployment_dependencies LEFT OUTER JOIN dependency_type AS dependency_type_1 ON dependency_type_1.id = deployment_dependencies.dependency_type_id \n",
      "WHERE deployment_dependencies.deployment_id = :deployment_id_1\n",
      "DEBUG:lume_services.services.models.db.db:ModelDB creating session.\n",
      "DEBUG:lume_services.services.models.db.db:ModelDB session created.\n",
      "INFO:lume_services.services.models.db.db:ModelDB selecting: SELECT flow.flow_id, flow.flow_name, flow.project_name, flow.deployment_id \n",
      "FROM flow \n",
      "WHERE flow.deployment_id = :deployment_id_1\n",
      "DEBUG:lume_services.services.models.db.db:ModelDB creating session.\n",
      "DEBUG:lume_services.services.models.db.db:ModelDB session created.\n",
      "INFO:lume_services.services.models.db.db:ModelDB selecting: SELECT flow_of_flows._id, flow_of_flows.parent_flow_id, flow_of_flows.flow_id, flow_of_flows.position \n",
      "FROM flow_of_flows \n",
      "WHERE flow_of_flows.parent_flow_id = :parent_flow_id_1\n",
      "DEBUG:lume_services.services.models.db.db:ModelDB creating session.\n",
      "DEBUG:lume_services.services.models.db.db:ModelDB session created.\n",
      "INFO:lume_services.services.models.db.db:ModelDB selecting: SELECT project.project_name, project.description \n",
      "FROM project \n",
      "WHERE project.project_name = :project_name_1\n",
      "DEBUG:lume_services.services.models.db.db:ModelDB creating session.\n",
      "DEBUG:lume_services.services.models.db.db:ModelDB session created.\n"
     ]
    },
    {
     "name": "stdout",
     "output_type": "stream",
     "text": [
      "Flow URL: http://localhost:8080/default/flow/44fd2250-6e42-461b-b357-9956e5444bdb\n",
      " └── ID: ceccf514-e3e1-46cc-a043-49da0c072a3b\n",
      " └── Project: test\n",
      " └── Labels: ['lume-services']\n"
     ]
    }
   ],
   "source": [
    "source_path = \"https://github.com/jacquelinegarrahan/my-model/releases/download/v0.0.9/my_model-0.0.9.tar.gz\"\n",
    "# populates local channel\n",
    "model.store_deployment(source_path, project_name=\"test\")"
   ]
  },
  {
   "cell_type": "code",
   "execution_count": null,
   "id": "90a5769f",
   "metadata": {},
   "outputs": [],
   "source": [
    "model.run(parameters={\n",
    "                        \"input1\": \"hey\", \n",
    "                        \"input2\": \"jackie\", \n",
    "                        \"filename\": f\"/Users/jgarra/sandbox/lume-services/test_file.txt\", \n",
    "                        \"filesystem_identifier\":\"local\"}\n",
    "         )"
   ]
  },
  {
   "cell_type": "code",
   "execution_count": null,
   "id": "01e7522b",
   "metadata": {},
   "outputs": [],
   "source": [
    "model.results()"
   ]
  },
  {
   "cell_type": "code",
   "execution_count": 11,
   "id": "d6ef8e4e",
   "metadata": {},
   "outputs": [
    {
     "name": "stderr",
     "output_type": "stream",
     "text": [
      "INFO:lume_services.services.models.db.db:ModelDB selecting: SELECT model.model_id, model.created, model.author, model.laboratory, model.facility, model.beampath, model.description \n",
      "FROM model \n",
      "WHERE model.model_id = :model_id_1\n",
      "DEBUG:lume_services.services.models.db.db:ModelDB creating session.\n",
      "DEBUG:lume_services.services.models.db.db:ModelDB session created.\n"
     ]
    }
   ],
   "source": [
    "from lume_services.models import Model\n",
    "\n",
    "model = Model(model_id=1)"
   ]
  },
  {
   "cell_type": "code",
   "execution_count": 12,
   "id": "93139a75",
   "metadata": {},
   "outputs": [
    {
     "name": "stderr",
     "output_type": "stream",
     "text": [
      "INFO:lume_services.services.models.db.db:ModelDB selecting: SELECT deployment.sha256, deployment.deployment_id, deployment.version, deployment.deploy_date, deployment.package_import_name, deployment.asset_dir, deployment.source, deployment.image, deployment.is_live, deployment.model_id \n",
      "FROM deployment \n",
      "WHERE deployment.model_id = :model_id_1 ORDER BY deployment.deploy_date DESC\n",
      "DEBUG:lume_services.services.models.db.db:ModelDB creating session.\n",
      "DEBUG:lume_services.services.models.db.db:ModelDB session created.\n",
      "INFO:lume_services.services.models.db.db:ModelDB selecting: SELECT deployment_dependencies._id, deployment_dependencies.name, deployment_dependencies.source, deployment_dependencies.local_source, deployment_dependencies.version, deployment_dependencies.deployment_id, deployment_dependencies.dependency_type_id, dependency_type_1.id, dependency_type_1.type \n",
      "FROM deployment_dependencies LEFT OUTER JOIN dependency_type AS dependency_type_1 ON dependency_type_1.id = deployment_dependencies.dependency_type_id \n",
      "WHERE deployment_dependencies.deployment_id = :deployment_id_1\n",
      "DEBUG:lume_services.services.models.db.db:ModelDB creating session.\n",
      "DEBUG:lume_services.services.models.db.db:ModelDB session created.\n",
      "INFO:lume_services.services.models.db.db:ModelDB selecting: SELECT flow.flow_id, flow.flow_name, flow.project_name, flow.deployment_id \n",
      "FROM flow \n",
      "WHERE flow.deployment_id = :deployment_id_1\n",
      "DEBUG:lume_services.services.models.db.db:ModelDB creating session.\n",
      "DEBUG:lume_services.services.models.db.db:ModelDB session created.\n",
      "INFO:lume_services.services.models.db.db:ModelDB selecting: SELECT flow_of_flows._id, flow_of_flows.parent_flow_id, flow_of_flows.flow_id, flow_of_flows.position \n",
      "FROM flow_of_flows \n",
      "WHERE flow_of_flows.parent_flow_id = :parent_flow_id_1\n",
      "DEBUG:lume_services.services.models.db.db:ModelDB creating session.\n",
      "DEBUG:lume_services.services.models.db.db:ModelDB session created.\n",
      "INFO:lume_services.services.models.db.db:ModelDB selecting: SELECT project.project_name, project.description \n",
      "FROM project \n",
      "WHERE project.project_name = :project_name_1\n",
      "DEBUG:lume_services.services.models.db.db:ModelDB creating session.\n",
      "DEBUG:lume_services.services.models.db.db:ModelDB session created.\n"
     ]
    }
   ],
   "source": [
    "model.load_deployment()"
   ]
  },
  {
   "cell_type": "code",
   "execution_count": 14,
   "id": "5430e3b6",
   "metadata": {},
   "outputs": [
    {
     "name": "stdout",
     "output_type": "stream",
     "text": [
      "[2022-09-07 15:08:58-0700] INFO - prefect.FlowRunner | Beginning Flow run for 'my-model'\n"
     ]
    },
    {
     "name": "stderr",
     "output_type": "stream",
     "text": [
      "INFO:prefect.FlowRunner:Beginning Flow run for 'my-model'\n"
     ]
    },
    {
     "name": "stdout",
     "output_type": "stream",
     "text": [
      "[2022-09-07 15:08:58-0700] INFO - prefect.TaskRunner | Task 'input2': Starting task run...\n"
     ]
    },
    {
     "name": "stderr",
     "output_type": "stream",
     "text": [
      "INFO:prefect.TaskRunner:Task 'input2': Starting task run...\n"
     ]
    },
    {
     "name": "stdout",
     "output_type": "stream",
     "text": [
      "[2022-09-07 15:08:58-0700] INFO - prefect.TaskRunner | Task 'input2': Finished task run for task with final state: 'Success'\n"
     ]
    },
    {
     "name": "stderr",
     "output_type": "stream",
     "text": [
      "INFO:prefect.TaskRunner:Task 'input2': Finished task run for task with final state: 'Success'\n"
     ]
    },
    {
     "name": "stdout",
     "output_type": "stream",
     "text": [
      "[2022-09-07 15:08:58-0700] INFO - prefect.TaskRunner | Task 'filename': Starting task run...\n"
     ]
    },
    {
     "name": "stderr",
     "output_type": "stream",
     "text": [
      "INFO:prefect.TaskRunner:Task 'filename': Starting task run...\n"
     ]
    },
    {
     "name": "stdout",
     "output_type": "stream",
     "text": [
      "[2022-09-07 15:08:58-0700] INFO - prefect.TaskRunner | Task 'filename': Finished task run for task with final state: 'Success'\n"
     ]
    },
    {
     "name": "stderr",
     "output_type": "stream",
     "text": [
      "INFO:prefect.TaskRunner:Task 'filename': Finished task run for task with final state: 'Success'\n"
     ]
    },
    {
     "name": "stdout",
     "output_type": "stream",
     "text": [
      "[2022-09-07 15:08:58-0700] INFO - prefect.TaskRunner | Task 'filesystem_identifier': Starting task run...\n"
     ]
    },
    {
     "name": "stderr",
     "output_type": "stream",
     "text": [
      "INFO:prefect.TaskRunner:Task 'filesystem_identifier': Starting task run...\n"
     ]
    },
    {
     "name": "stdout",
     "output_type": "stream",
     "text": [
      "[2022-09-07 15:08:58-0700] INFO - prefect.TaskRunner | Task 'filesystem_identifier': Finished task run for task with final state: 'Success'\n"
     ]
    },
    {
     "name": "stderr",
     "output_type": "stream",
     "text": [
      "INFO:prefect.TaskRunner:Task 'filesystem_identifier': Finished task run for task with final state: 'Success'\n"
     ]
    },
    {
     "name": "stdout",
     "output_type": "stream",
     "text": [
      "[2022-09-07 15:08:58-0700] INFO - prefect.TaskRunner | Task 'configure_lume_services': Starting task run...\n"
     ]
    },
    {
     "name": "stderr",
     "output_type": "stream",
     "text": [
      "INFO:prefect.TaskRunner:Task 'configure_lume_services': Starting task run...\n",
      "DEBUG:lume_services.tasks.configure:Configuring environment using {\"LUME_PREFECT__AGENT__HOST_PORT\": \"5000\", \"LUME_PREFECT__BACKEND\": \"server\", \"TERM_PROGRAM\": \"iTerm.app\", \"TERM\": \"xterm-color\", \"SHELL\": \"/bin/bash\", \"LUME_PREFECT__UI__HOST_PORT\": \"8080\", \"LUME_PREFECT__AGENT__HOST\": \"http://localhost\", \"LUME_RESULTS_DB__DATABASE\": \"test\", \"TMPDIR\": \"/var/folders/nh/g2v_nmtj7t1g94gmjtgjrk3r0000gn/T/\", \"CONDA_SHLVL\": \"2\", \"LUME_MODEL_DB__HOST\": \"127.0.0.1\", \"CONDA_PROMPT_MODIFIER\": \"(lume-services-dev) \", \"TERM_PROGRAM_VERSION\": \"3.4.6\", \"GSETTINGS_SCHEMA_DIR_CONDA_BACKUP\": \"\", \"OLDPWD\": \"/Users/jacquelinegarrahan/sandbox\", \"TERM_SESSION_ID\": \"w1t4p0:7BAB398C-BB73-46F2-BC9E-6AA7A809B22F\", \"USER\": \"jacquelinegarrahan\", \"LUME_PREFECT__SERVER__HOST_PORT\": \"4200\", \"COMMAND_MODE\": \"unix2003\", \"CONDA_EXE\": \"/Users/jacquelinegarrahan/miniconda3/bin/conda\", \"LUME_RESULTS_DB__HOST\": \"127.0.0.1\", \"SSH_AUTH_SOCK\": \"/private/tmp/com.apple.launchd.I85cwdUck3/Listeners\", \"__CF_USER_TEXT_ENCODING\": \"0x1F5:0x0:0x0\", \"LUME_MOUNTED_FILESYSTEM__IDENTIFIER\": \"mounted\", \"_CE_CONDA\": \"\", \"CONDA_PREFIX_1\": \"/Users/jacquelinegarrahan/miniconda3\", \"LUME_ENVIRONMENT__LOCAL_CONDA_CHANNEL_DIRECTORY\": \"/Users/jacquelinegarrahan/sandbox/lume-services/dev/local_conda_channel\", \"PATH\": \"/Users/jacquelinegarrahan/miniconda3/envs/lume-services-dev/bin:/Users/jacquelinegarrahan/miniconda3/condabin:/usr/local/opt/mysql@5.7/bin:/usr/local/opt/openssl/bin:/usr/local/opt/qt@5.5/bin:/usr/local/bin:/usr/bin:/bin:/usr/sbin:/sbin:/Library/TeX/texbin:/opt/X11/bin\", \"GSETTINGS_SCHEMA_DIR\": \"/Users/jacquelinegarrahan/miniconda3/envs/lume-services-dev/share/glib-2.0/schemas\", \"LUME_MOUNTED_FILESYSTEM__MOUNT_ALIAS\": \"/jgarra\", \"CONDA_PREFIX\": \"/Users/jacquelinegarrahan/miniconda3/envs/lume-services-dev\", \"__CFBundleIdentifier\": \"com.googlecode.iterm2\", \"LUME_ENVIRONMENT__LOCAL_PIP_REPOSITORY\": \"/Users/jacquelinegarrahan/sandbox/lume-services/dev/local_pip_repo\", \"LUME_MOUNTED_FILESYSTEM__MOUNT_PATH\": \"/Users/jacquelinegarrahan/sandbox/lume-services\", \"PWD\": \"/Users/jacquelinegarrahan/sandbox/lume-services\", \"LUME_RESULTS_DB__PORT\": \"27017\", \"LUME_RESULTS_DB__USERNAME\": \"root\", \"LANG\": \"en_US.UTF-8\", \"ITERM_PROFILE\": \"Default\", \"XPC_FLAGS\": \"0x0\", \"LUME_RESULTS_DB__PASSWORD\": \"password\", \"ITERM_ORIG_PS1\": \"(lume-services-dev) \\\\h:\\\\W \\\\u\\\\$ \", \"PS1\": \"(lume-services-dev) \\\\h:\\\\W \\\\u\\\\$ \", \"LUME_PREFECT__UI__HOST\": \"http://localhost\", \"_CE_M\": \"\", \"XPC_SERVICE_NAME\": \"0\", \"SHLVL\": \"1\", \"HOME\": \"/Users/jacquelinegarrahan\", \"COLORFGBG\": \"7;0\", \"LUME_MODEL_DB__PASSWORD\": \"test\", \"LC_TERMINAL_VERSION\": \"3.4.6\", \"ITERM_PREV_PS1\": \"\\\\[\\u001b]133;D;$?\\u0007\\u001b]133;A\\u0007\\\\](lume-services-dev) \\\\h:\\\\W \\\\u\\\\$ \\\\[\\u001b]133;B\\u0007\\\\]\", \"ITERM_SESSION_ID\": \"w1t4p0:7BAB398C-BB73-46F2-BC9E-6AA7A809B22F\", \"CONDA_PYTHON_EXE\": \"/Users/jacquelinegarrahan/miniconda3/bin/python\", \"LOGNAME\": \"jacquelinegarrahan\", \"LUME_MODEL_DB__USER\": \"root\", \"CONDA_DEFAULT_ENV\": \"lume-services-dev\", \"LUME_PREFECT__SERVER__HOST\": \"http://localhost\", \"LC_TERMINAL\": \"iTerm2\", \"DISPLAY\": \"/private/tmp/com.apple.launchd.NSn1E1lHzv/org.macosforge.xquartz:0\", \"LUME_MODEL_DB__DATABASE\": \"model_db\", \"LUME_MODEL_DB__PORT\": \"3306\", \"SQLITE_EXEMPT_PATH_FROM_VNODE_GUARDS\": \"/Users/jacquelinegarrahan/Library/WebKit/Databases\", \"LUME_BACKEND\": \"docker\", \"COLORTERM\": \"truecolor\", \"_\": \"/Users/jacquelinegarrahan/miniconda3/envs/lume-services-dev/bin/jupyter\", \"JPY_PARENT_PID\": \"61704\", \"CLICOLOR\": \"1\", \"PAGER\": \"cat\", \"GIT_PAGER\": \"cat\", \"MPLBACKEND\": \"module://matplotlib_inline.backend_inline\", \"CONDA_ROOT\": \"/Users/jacquelinegarrahan/miniconda3/envs/lume-services-dev\"}\n",
      "INFO:lume_services.config:Configuring LUME-services environment...\n",
      "INFO:lume_services.config:Environment configured.\n",
      "DEBUG:lume_services.config:Environment configured using {'model_db': {'host': '127.0.0.1', 'port': 3306, 'user': 'root', 'database': 'model_db', 'connection': {'pool_size': None, 'pool_pre_ping': True}, 'dialect_str': 'mysql+pymysql'}, 'results_db': {'username': 'root', 'host': '127.0.0.1', 'port': 27017, 'authMechanism': 'DEFAULT'}, 'prefect': {'server': {'tag': 'core-1.2.4', 'host': 'http://localhost', 'host_port': '4200', 'host_ip': '127.0.0.1'}, 'ui': {'host': 'http://localhost', 'host_port': '8080', 'host_ip': '127.0.0.1', 'apollo_url': 'http://localhost:4200/graphql'}, 'telemetry': {'enabled': True}, 'agent': {'host': 'http://localhost', 'host_port': '5000'}, 'home_dir': '~/.prefect', 'debug': False, 'backend': 'server', 'default_image': 'jgarrahan/lume-services-prefect:latest'}, 'mounted_filesystem': {'identifier': 'mounted', 'mount_path': '/Users/jacquelinegarrahan/sandbox/lume-services', 'mount_alias': '/jgarra', 'mount_type': 'DirectoryOrCreate'}, 'environment': {'local_pip_repository': '/Users/jacquelinegarrahan/sandbox/lume-services/dev/local_pip_repo', 'local_conda_channel_directory': '/Users/jacquelinegarrahan/sandbox/lume-services/dev/local_conda_channel', 'base_env_filepath': '/Users/jacquelinegarrahan/sandbox/lume-services/lume_services/docker/files/environment.yml', 'tmp_directory': '/tmp/lume-services', 'platform': 'linux-64', 'url_retry_count': 3, 'python_version': '3.9.13'}, 'backend': 'docker'}\n"
     ]
    },
    {
     "name": "stdout",
     "output_type": "stream",
     "text": [
      "[2022-09-07 15:08:58-0700] INFO - prefect.TaskRunner | Task 'configure_lume_services': Finished task run for task with final state: 'Success'\n"
     ]
    },
    {
     "name": "stderr",
     "output_type": "stream",
     "text": [
      "INFO:prefect.TaskRunner:Task 'configure_lume_services': Finished task run for task with final state: 'Success'\n"
     ]
    },
    {
     "name": "stdout",
     "output_type": "stream",
     "text": [
      "[2022-09-07 15:08:58-0700] INFO - prefect.TaskRunner | Task 'check_local_execution': Starting task run...\n"
     ]
    },
    {
     "name": "stderr",
     "output_type": "stream",
     "text": [
      "INFO:prefect.TaskRunner:Task 'check_local_execution': Starting task run...\n"
     ]
    },
    {
     "name": "stdout",
     "output_type": "stream",
     "text": [
      "[2022-09-07 15:08:58-0700] INFO - prefect.TaskRunner | Task 'check_local_execution': Finished task run for task with final state: 'Success'\n"
     ]
    },
    {
     "name": "stderr",
     "output_type": "stream",
     "text": [
      "INFO:prefect.TaskRunner:Task 'check_local_execution': Finished task run for task with final state: 'Success'\n"
     ]
    },
    {
     "name": "stdout",
     "output_type": "stream",
     "text": [
      "[2022-09-07 15:08:58-0700] INFO - prefect.TaskRunner | Task 'input1': Starting task run...\n"
     ]
    },
    {
     "name": "stderr",
     "output_type": "stream",
     "text": [
      "INFO:prefect.TaskRunner:Task 'input1': Starting task run...\n"
     ]
    },
    {
     "name": "stdout",
     "output_type": "stream",
     "text": [
      "[2022-09-07 15:08:58-0700] INFO - prefect.TaskRunner | Task 'input1': Finished task run for task with final state: 'Success'\n"
     ]
    },
    {
     "name": "stderr",
     "output_type": "stream",
     "text": [
      "INFO:prefect.TaskRunner:Task 'input1': Finished task run for task with final state: 'Success'\n"
     ]
    },
    {
     "name": "stdout",
     "output_type": "stream",
     "text": [
      "[2022-09-07 15:08:58-0700] INFO - prefect.TaskRunner | Task 'case(False)': Starting task run...\n"
     ]
    },
    {
     "name": "stderr",
     "output_type": "stream",
     "text": [
      "INFO:prefect.TaskRunner:Task 'case(False)': Starting task run...\n"
     ]
    },
    {
     "name": "stdout",
     "output_type": "stream",
     "text": [
      "[2022-09-07 15:08:58-0700] INFO - prefect.TaskRunner | Task 'case(False)': Finished task run for task with final state: 'Success'\n"
     ]
    },
    {
     "name": "stderr",
     "output_type": "stream",
     "text": [
      "INFO:prefect.TaskRunner:Task 'case(False)': Finished task run for task with final state: 'Success'\n"
     ]
    },
    {
     "name": "stdout",
     "output_type": "stream",
     "text": [
      "[2022-09-07 15:08:58-0700] INFO - prefect.TaskRunner | Task 'List': Starting task run...\n"
     ]
    },
    {
     "name": "stderr",
     "output_type": "stream",
     "text": [
      "INFO:prefect.TaskRunner:Task 'List': Starting task run...\n"
     ]
    },
    {
     "name": "stdout",
     "output_type": "stream",
     "text": [
      "[2022-09-07 15:08:58-0700] INFO - prefect.TaskRunner | Task 'List': Finished task run for task with final state: 'Success'\n"
     ]
    },
    {
     "name": "stderr",
     "output_type": "stream",
     "text": [
      "INFO:prefect.TaskRunner:Task 'List': Finished task run for task with final state: 'Success'\n"
     ]
    },
    {
     "name": "stdout",
     "output_type": "stream",
     "text": [
      "[2022-09-07 15:08:58-0700] INFO - prefect.TaskRunner | Task 'Dict': Starting task run...\n"
     ]
    },
    {
     "name": "stderr",
     "output_type": "stream",
     "text": [
      "INFO:prefect.TaskRunner:Task 'Dict': Starting task run...\n"
     ]
    },
    {
     "name": "stdout",
     "output_type": "stream",
     "text": [
      "[2022-09-07 15:08:58-0700] INFO - prefect.TaskRunner | Task 'Dict': Finished task run for task with final state: 'Success'\n"
     ]
    },
    {
     "name": "stderr",
     "output_type": "stream",
     "text": [
      "INFO:prefect.TaskRunner:Task 'Dict': Finished task run for task with final state: 'Success'\n"
     ]
    },
    {
     "name": "stdout",
     "output_type": "stream",
     "text": [
      "[2022-09-07 15:08:58-0700] INFO - prefect.TaskRunner | Task 'prepare_lume_model_variables': Starting task run...\n"
     ]
    },
    {
     "name": "stderr",
     "output_type": "stream",
     "text": [
      "INFO:prefect.TaskRunner:Task 'prepare_lume_model_variables': Starting task run...\n"
     ]
    },
    {
     "name": "stdout",
     "output_type": "stream",
     "text": [
      "[2022-09-07 15:08:58-0700] INFO - prefect.TaskRunner | Task 'prepare_lume_model_variables': Finished task run for task with final state: 'Success'\n"
     ]
    },
    {
     "name": "stderr",
     "output_type": "stream",
     "text": [
      "INFO:prefect.TaskRunner:Task 'prepare_lume_model_variables': Finished task run for task with final state: 'Success'\n"
     ]
    },
    {
     "name": "stdout",
     "output_type": "stream",
     "text": [
      "[2022-09-07 15:08:58-0700] INFO - prefect.TaskRunner | Task 'evaluate': Starting task run...\n"
     ]
    },
    {
     "name": "stderr",
     "output_type": "stream",
     "text": [
      "INFO:prefect.TaskRunner:Task 'evaluate': Starting task run...\n"
     ]
    },
    {
     "name": "stdout",
     "output_type": "stream",
     "text": [
      "[2022-09-07 15:08:58-0700] INFO - prefect.TaskRunner | Task 'evaluate': Finished task run for task with final state: 'Success'\n"
     ]
    },
    {
     "name": "stderr",
     "output_type": "stream",
     "text": [
      "INFO:prefect.TaskRunner:Task 'evaluate': Finished task run for task with final state: 'Success'\n"
     ]
    },
    {
     "name": "stdout",
     "output_type": "stream",
     "text": [
      "[2022-09-07 15:08:58-0700] INFO - prefect.TaskRunner | Task 'format_file': Starting task run...\n"
     ]
    },
    {
     "name": "stderr",
     "output_type": "stream",
     "text": [
      "INFO:prefect.TaskRunner:Task 'format_file': Starting task run...\n"
     ]
    },
    {
     "name": "stdout",
     "output_type": "stream",
     "text": [
      "[2022-09-07 15:08:58-0700] INFO - prefect.TaskRunner | Task 'format_file': Finished task run for task with final state: 'Success'\n"
     ]
    },
    {
     "name": "stderr",
     "output_type": "stream",
     "text": [
      "INFO:prefect.TaskRunner:Task 'format_file': Finished task run for task with final state: 'Success'\n"
     ]
    },
    {
     "name": "stdout",
     "output_type": "stream",
     "text": [
      "[2022-09-07 15:08:58-0700] INFO - prefect.TaskRunner | Task 'format_result': Starting task run...\n"
     ]
    },
    {
     "name": "stderr",
     "output_type": "stream",
     "text": [
      "INFO:prefect.TaskRunner:Task 'format_result': Starting task run...\n"
     ]
    },
    {
     "name": "stdout",
     "output_type": "stream",
     "text": [
      "[2022-09-07 15:08:58-0700] ERROR - prefect.TaskRunner | Task 'format_result': Exception encountered during task execution!\n",
      "Traceback (most recent call last):\n",
      "  File \"/Users/jacquelinegarrahan/miniconda3/envs/lume-services-dev/lib/python3.9/site-packages/prefect/engine/task_runner.py\", line 880, in get_task_run_state\n",
      "    value = prefect.utilities.executors.run_task_with_timeout(\n",
      "  File \"/Users/jacquelinegarrahan/miniconda3/envs/lume-services-dev/lib/python3.9/site-packages/prefect/utilities/executors.py\", line 468, in run_task_with_timeout\n",
      "    return task.run(*args, **kwargs)  # type: ignore\n",
      "  File \"/Users/jacquelinegarrahan/miniconda3/envs/lume-services-dev/lib/python3.9/site-packages/my_model/flow.py\", line 57, in format_result\n",
      "    return Result(inputs=inputs, outputs=outputs)\n",
      "  File \"pydantic/main.py\", line 342, in pydantic.main.BaseModel.__init__\n",
      "pydantic.error_wrappers.ValidationError: 1 validation error for Result\n",
      "__root__\n",
      "  Object of type ndarray is not JSON serializable (type=type_error)\n"
     ]
    },
    {
     "name": "stderr",
     "output_type": "stream",
     "text": [
      "ERROR:prefect.TaskRunner:Task 'format_result': Exception encountered during task execution!\n",
      "Traceback (most recent call last):\n",
      "  File \"/Users/jacquelinegarrahan/miniconda3/envs/lume-services-dev/lib/python3.9/site-packages/prefect/engine/task_runner.py\", line 880, in get_task_run_state\n",
      "    value = prefect.utilities.executors.run_task_with_timeout(\n",
      "  File \"/Users/jacquelinegarrahan/miniconda3/envs/lume-services-dev/lib/python3.9/site-packages/prefect/utilities/executors.py\", line 468, in run_task_with_timeout\n",
      "    return task.run(*args, **kwargs)  # type: ignore\n",
      "  File \"/Users/jacquelinegarrahan/miniconda3/envs/lume-services-dev/lib/python3.9/site-packages/my_model/flow.py\", line 57, in format_result\n",
      "    return Result(inputs=inputs, outputs=outputs)\n",
      "  File \"pydantic/main.py\", line 342, in pydantic.main.BaseModel.__init__\n",
      "pydantic.error_wrappers.ValidationError: 1 validation error for Result\n",
      "__root__\n",
      "  Object of type ndarray is not JSON serializable (type=type_error)\n"
     ]
    },
    {
     "name": "stdout",
     "output_type": "stream",
     "text": [
      "[2022-09-07 15:08:58-0700] INFO - prefect.TaskRunner | Task 'format_result': Finished task run for task with final state: 'Failed'\n"
     ]
    },
    {
     "name": "stderr",
     "output_type": "stream",
     "text": [
      "INFO:prefect.TaskRunner:Task 'format_result': Finished task run for task with final state: 'Failed'\n"
     ]
    },
    {
     "name": "stdout",
     "output_type": "stream",
     "text": [
      "[2022-09-07 15:08:58-0700] INFO - prefect.TaskRunner | Task 'save_file': Starting task run...\n"
     ]
    },
    {
     "name": "stderr",
     "output_type": "stream",
     "text": [
      "INFO:prefect.TaskRunner:Task 'save_file': Starting task run...\n"
     ]
    },
    {
     "name": "stdout",
     "output_type": "stream",
     "text": [
      "[2022-09-07 15:08:58-0700] ERROR - prefect.TaskRunner | Task 'save_file': Exception encountered during task execution!\n",
      "Traceback (most recent call last):\n",
      "  File \"/Users/jacquelinegarrahan/miniconda3/envs/lume-services-dev/lib/python3.9/site-packages/prefect/engine/task_runner.py\", line 880, in get_task_run_state\n",
      "    value = prefect.utilities.executors.run_task_with_timeout(\n",
      "  File \"/Users/jacquelinegarrahan/miniconda3/envs/lume-services-dev/lib/python3.9/site-packages/prefect/utilities/executors.py\", line 480, in run_task_with_timeout\n",
      "    return run_with_thread_timeout(\n",
      "  File \"/Users/jacquelinegarrahan/miniconda3/envs/lume-services-dev/lib/python3.9/site-packages/prefect/utilities/executors.py\", line 255, in run_with_thread_timeout\n",
      "    return fn(*args, **kwargs)\n",
      "  File \"src/dependency_injector/_cwiring.pyx\", line 28, in dependency_injector._cwiring._get_sync_patched._patched\n",
      "  File \"/Users/jacquelinegarrahan/sandbox/lume-services/lume_services/tasks/file.py\", line 219, in run\n",
      "    file.write(file_service=file_service)\n",
      "  File \"src/dependency_injector/_cwiring.pyx\", line 28, in dependency_injector._cwiring._get_sync_patched._patched\n",
      "  File \"/Users/jacquelinegarrahan/sandbox/lume-services/lume_services/files/file.py\", line 104, in write\n",
      "    file_service.write(\n",
      "  File \"/Users/jacquelinegarrahan/sandbox/lume-services/lume_services/services/files/service.py\", line 112, in write\n",
      "    filesystem.write(filepath, object, serializer, create_dir=create_dir)\n",
      "  File \"/Users/jacquelinegarrahan/sandbox/lume-services/lume_services/services/files/filesystems/local.py\", line 109, in write\n",
      "    serializer.serialize(path, object)\n",
      "  File \"/Users/jacquelinegarrahan/sandbox/lume-services/lume_services/files/serializers/text.py\", line 7, in serialize\n",
      "    with open(filename, \"w\") as f:\n",
      "FileNotFoundError: [Errno 2] No such file or directory: '/Users/jgarra/sandbox/lume-services/test_file.txt'\n"
     ]
    },
    {
     "name": "stderr",
     "output_type": "stream",
     "text": [
      "ERROR:prefect.TaskRunner:Task 'save_file': Exception encountered during task execution!\n",
      "Traceback (most recent call last):\n",
      "  File \"/Users/jacquelinegarrahan/miniconda3/envs/lume-services-dev/lib/python3.9/site-packages/prefect/engine/task_runner.py\", line 880, in get_task_run_state\n",
      "    value = prefect.utilities.executors.run_task_with_timeout(\n",
      "  File \"/Users/jacquelinegarrahan/miniconda3/envs/lume-services-dev/lib/python3.9/site-packages/prefect/utilities/executors.py\", line 480, in run_task_with_timeout\n",
      "    return run_with_thread_timeout(\n",
      "  File \"/Users/jacquelinegarrahan/miniconda3/envs/lume-services-dev/lib/python3.9/site-packages/prefect/utilities/executors.py\", line 255, in run_with_thread_timeout\n",
      "    return fn(*args, **kwargs)\n",
      "  File \"src/dependency_injector/_cwiring.pyx\", line 28, in dependency_injector._cwiring._get_sync_patched._patched\n",
      "  File \"/Users/jacquelinegarrahan/sandbox/lume-services/lume_services/tasks/file.py\", line 219, in run\n",
      "    file.write(file_service=file_service)\n",
      "  File \"src/dependency_injector/_cwiring.pyx\", line 28, in dependency_injector._cwiring._get_sync_patched._patched\n",
      "  File \"/Users/jacquelinegarrahan/sandbox/lume-services/lume_services/files/file.py\", line 104, in write\n",
      "    file_service.write(\n",
      "  File \"/Users/jacquelinegarrahan/sandbox/lume-services/lume_services/services/files/service.py\", line 112, in write\n",
      "    filesystem.write(filepath, object, serializer, create_dir=create_dir)\n",
      "  File \"/Users/jacquelinegarrahan/sandbox/lume-services/lume_services/services/files/filesystems/local.py\", line 109, in write\n",
      "    serializer.serialize(path, object)\n",
      "  File \"/Users/jacquelinegarrahan/sandbox/lume-services/lume_services/files/serializers/text.py\", line 7, in serialize\n",
      "    with open(filename, \"w\") as f:\n",
      "FileNotFoundError: [Errno 2] No such file or directory: '/Users/jgarra/sandbox/lume-services/test_file.txt'\n"
     ]
    },
    {
     "name": "stdout",
     "output_type": "stream",
     "text": [
      "[2022-09-07 15:08:58-0700] INFO - prefect.TaskRunner | Task 'save_file': Finished task run for task with final state: 'Failed'\n"
     ]
    },
    {
     "name": "stderr",
     "output_type": "stream",
     "text": [
      "INFO:prefect.TaskRunner:Task 'save_file': Finished task run for task with final state: 'Failed'\n"
     ]
    },
    {
     "name": "stdout",
     "output_type": "stream",
     "text": [
      "[2022-09-07 15:08:58-0700] INFO - prefect.TaskRunner | Task 'save_db_result': Starting task run...\n"
     ]
    },
    {
     "name": "stderr",
     "output_type": "stream",
     "text": [
      "INFO:prefect.TaskRunner:Task 'save_db_result': Starting task run...\n"
     ]
    },
    {
     "name": "stdout",
     "output_type": "stream",
     "text": [
      "[2022-09-07 15:08:58-0700] INFO - prefect.TaskRunner | Task 'save_db_result': Finished task run for task with final state: 'TriggerFailed'\n"
     ]
    },
    {
     "name": "stderr",
     "output_type": "stream",
     "text": [
      "INFO:prefect.TaskRunner:Task 'save_db_result': Finished task run for task with final state: 'TriggerFailed'\n"
     ]
    },
    {
     "name": "stdout",
     "output_type": "stream",
     "text": [
      "[2022-09-07 15:08:58-0700] INFO - prefect.FlowRunner | Flow run FAILED: some reference tasks failed.\n"
     ]
    },
    {
     "name": "stderr",
     "output_type": "stream",
     "text": [
      "INFO:prefect.FlowRunner:Flow run FAILED: some reference tasks failed.\n"
     ]
    },
    {
     "data": {
      "text/plain": [
       "<Failed: \"Some reference tasks failed.\">"
      ]
     },
     "execution_count": 14,
     "metadata": {},
     "output_type": "execute_result"
    }
   ],
   "source": [
    "model.deployment.flow.prefect_flow.run(**{\n",
    "                        \"input1\": 1, \n",
    "                        \"input2\": 2, \n",
    "                        \"filename\": \"/Users/jgarra/sandbox/lume-services/test_file.txt\", \n",
    "                        \"filesystem_identifier\":\"local\"}\n",
    ")"
   ]
  },
  {
   "cell_type": "code",
   "execution_count": 13,
   "id": "6acedc51",
   "metadata": {},
   "outputs": [
    {
     "data": {
      "text/plain": [
       "Model(metadata=Model(                     model_id=1,                     created=datetime.datetime(2022, 9, 7, 22, 2, 3),                     author='Jackie Garrahan'),                     laboratory='slac',                     facility='lcls',                     beampath='cu_hxr',                     description='test_model'                 ), deployment=Deployment(metadata=None, project=Project(metadata=Project(                 project_name='test',                 description='my_description',                 )), dependencies=[Dependencies(                     id=1,                     name='_libgcc_mutex',                     source='https://conda.anaconda.org/t/jr-ac5b1b42-c470-4696-a06b-9e98c0d40429/conda-forge/linux-64/_libgcc_mutex-0.1-conda_forge.tar.bz2',                     local_source='/Users/jacquelinegarrahan/sandbox/lume-services/dev/local_conda_channel/linux-64/_libgcc_mutex-0.1-conda_forge.tar.bz2'                     version='0.1'                 ), Dependencies(                     id=2,                     name='libstdcxx-ng',                     source='https://conda.anaconda.org/t/jr-ac5b1b42-c470-4696-a06b-9e98c0d40429/conda-forge/linux-64/libstdcxx-ng-12.1.0-ha89aaad_16.tar.bz2',                     local_source='/Users/jacquelinegarrahan/sandbox/lume-services/dev/local_conda_channel/linux-64/libstdcxx-ng-12.1.0-ha89aaad_16.tar.bz2'                     version='12.1.0'                 ), Dependencies(                     id=3,                     name='ld_impl_linux-64',                     source='https://conda.anaconda.org/t/jr-ac5b1b42-c470-4696-a06b-9e98c0d40429/conda-forge/linux-64/ld_impl_linux-64-2.36.1-hea4e1c9_2.tar.bz2',                     local_source='/Users/jacquelinegarrahan/sandbox/lume-services/dev/local_conda_channel/linux-64/ld_impl_linux-64-2.36.1-hea4e1c9_2.tar.bz2'                     version='2.36.1'                 ), Dependencies(                     id=4,                     name='ca-certificates',                     source='https://conda.anaconda.org/t/jr-ac5b1b42-c470-4696-a06b-9e98c0d40429/conda-forge/linux-64/ca-certificates-2022.6.15-ha878542_0.tar.bz2',                     local_source='/Users/jacquelinegarrahan/sandbox/lume-services/dev/local_conda_channel/linux-64/ca-certificates-2022.6.15-ha878542_0.tar.bz2'                     version='2022.6.15'                 ), Dependencies(                     id=5,                     name='libgfortran5',                     source='https://conda.anaconda.org/t/jr-ac5b1b42-c470-4696-a06b-9e98c0d40429/conda-forge/linux-64/libgfortran5-12.1.0-hdcd56e2_16.tar.bz2',                     local_source='/Users/jacquelinegarrahan/sandbox/lume-services/dev/local_conda_channel/linux-64/libgfortran5-12.1.0-hdcd56e2_16.tar.bz2'                     version='12.1.0'                 ), Dependencies(                     id=6,                     name='libgomp',                     source='https://conda.anaconda.org/t/jr-ac5b1b42-c470-4696-a06b-9e98c0d40429/conda-forge/linux-64/libgomp-12.1.0-h8d9b700_16.tar.bz2',                     local_source='/Users/jacquelinegarrahan/sandbox/lume-services/dev/local_conda_channel/linux-64/libgomp-12.1.0-h8d9b700_16.tar.bz2'                     version='12.1.0'                 ), Dependencies(                     id=7,                     name='libgfortran-ng',                     source='https://conda.anaconda.org/t/jr-ac5b1b42-c470-4696-a06b-9e98c0d40429/conda-forge/linux-64/libgfortran-ng-12.1.0-h69a702a_16.tar.bz2',                     local_source='/Users/jacquelinegarrahan/sandbox/lume-services/dev/local_conda_channel/linux-64/libgfortran-ng-12.1.0-h69a702a_16.tar.bz2'                     version='12.1.0'                 ), Dependencies(                     id=8,                     name='_openmp_mutex',                     source='https://conda.anaconda.org/t/jr-ac5b1b42-c470-4696-a06b-9e98c0d40429/conda-forge/linux-64/_openmp_mutex-4.5-2_gnu.tar.bz2',                     local_source='/Users/jacquelinegarrahan/sandbox/lume-services/dev/local_conda_channel/linux-64/_openmp_mutex-4.5-2_gnu.tar.bz2'                     version='4.5'                 ), Dependencies(                     id=9,                     name='libgcc-ng',                     source='https://conda.anaconda.org/t/jr-ac5b1b42-c470-4696-a06b-9e98c0d40429/conda-forge/linux-64/libgcc-ng-12.1.0-h8d9b700_16.tar.bz2',                     local_source='/Users/jacquelinegarrahan/sandbox/lume-services/dev/local_conda_channel/linux-64/libgcc-ng-12.1.0-h8d9b700_16.tar.bz2'                     version='12.1.0'                 ), Dependencies(                     id=10,                     name='lzo',                     source='https://conda.anaconda.org/t/jr-ac5b1b42-c470-4696-a06b-9e98c0d40429/conda-forge/linux-64/lzo-2.10-h516909a_1000.tar.bz2',                     local_source='/Users/jacquelinegarrahan/sandbox/lume-services/dev/local_conda_channel/linux-64/lzo-2.10-h516909a_1000.tar.bz2'                     version='2.10'                 ), Dependencies(                     id=11,                     name='xorg-libxdmcp',                     source='https://conda.anaconda.org/t/jr-ac5b1b42-c470-4696-a06b-9e98c0d40429/conda-forge/linux-64/xorg-libxdmcp-1.1.3-h7f98852_0.tar.bz2',                     local_source='/Users/jacquelinegarrahan/sandbox/lume-services/dev/local_conda_channel/linux-64/xorg-libxdmcp-1.1.3-h7f98852_0.tar.bz2'                     version='1.1.3'                 ), Dependencies(                     id=12,                     name='xorg-libxau',                     source='https://conda.anaconda.org/t/jr-ac5b1b42-c470-4696-a06b-9e98c0d40429/conda-forge/linux-64/xorg-libxau-1.0.9-h7f98852_0.tar.bz2',                     local_source='/Users/jacquelinegarrahan/sandbox/lume-services/dev/local_conda_channel/linux-64/xorg-libxau-1.0.9-h7f98852_0.tar.bz2'                     version='1.0.9'                 ), Dependencies(                     id=13,                     name='pthread-stubs',                     source='https://conda.anaconda.org/t/jr-ac5b1b42-c470-4696-a06b-9e98c0d40429/conda-forge/linux-64/pthread-stubs-0.4-h36c2ea0_1001.tar.bz2',                     local_source='/Users/jacquelinegarrahan/sandbox/lume-services/dev/local_conda_channel/linux-64/pthread-stubs-0.4-h36c2ea0_1001.tar.bz2'                     version='0.4'                 ), Dependencies(                     id=14,                     name='libuuid',                     source='https://conda.anaconda.org/t/jr-ac5b1b42-c470-4696-a06b-9e98c0d40429/conda-forge/linux-64/libuuid-2.32.1-h7f98852_1000.tar.bz2',                     local_source='/Users/jacquelinegarrahan/sandbox/lume-services/dev/local_conda_channel/linux-64/libuuid-2.32.1-h7f98852_1000.tar.bz2'                     version='2.32.1'                 ), Dependencies(                     id=15,                     name='libdeflate',                     source='https://conda.anaconda.org/t/jr-ac5b1b42-c470-4696-a06b-9e98c0d40429/conda-forge/linux-64/libdeflate-1.13-h166bdaf_0.tar.bz2',                     local_source='/Users/jacquelinegarrahan/sandbox/lume-services/dev/local_conda_channel/linux-64/libdeflate-1.13-h166bdaf_0.tar.bz2'                     version='1.13'                 ), Dependencies(                     id=16,                     name='lerc',                     source='https://conda.anaconda.org/t/jr-ac5b1b42-c470-4696-a06b-9e98c0d40429/conda-forge/linux-64/lerc-4.0.0-h27087fc_0.tar.bz2',                     local_source='/Users/jacquelinegarrahan/sandbox/lume-services/dev/local_conda_channel/linux-64/lerc-4.0.0-h27087fc_0.tar.bz2'                     version='4.0.0'                 ), Dependencies(                     id=17,                     name='jpeg',                     source='https://conda.anaconda.org/t/jr-ac5b1b42-c470-4696-a06b-9e98c0d40429/conda-forge/linux-64/jpeg-9e-h166bdaf_2.tar.bz2',                     local_source='/Users/jacquelinegarrahan/sandbox/lume-services/dev/local_conda_channel/linux-64/jpeg-9e-h166bdaf_2.tar.bz2'                     version='9e'                 ), Dependencies(                     id=18,                     name='libbrotlicommon',                     source='https://conda.anaconda.org/t/jr-ac5b1b42-c470-4696-a06b-9e98c0d40429/conda-forge/linux-64/libbrotlicommon-1.0.9-h166bdaf_7.tar.bz2',                     local_source='/Users/jacquelinegarrahan/sandbox/lume-services/dev/local_conda_channel/linux-64/libbrotlicommon-1.0.9-h166bdaf_7.tar.bz2'                     version='1.0.9'                 ), Dependencies(                     id=19,                     name='libev',                     source='https://conda.anaconda.org/t/jr-ac5b1b42-c470-4696-a06b-9e98c0d40429/conda-forge/linux-64/libev-4.33-h516909a_1.tar.bz2',                     local_source='/Users/jacquelinegarrahan/sandbox/lume-services/dev/local_conda_channel/linux-64/libev-4.33-h516909a_1.tar.bz2'                     version='4.33'                 ), Dependencies(                     id=20,                     name='c-ares',                     source='https://conda.anaconda.org/t/jr-ac5b1b42-c470-4696-a06b-9e98c0d40429/conda-forge/linux-64/c-ares-1.18.1-h7f98852_0.tar.bz2',                     local_source='/Users/jacquelinegarrahan/sandbox/lume-services/dev/local_conda_channel/linux-64/c-ares-1.18.1-h7f98852_0.tar.bz2'                     version='1.18.1'                 ), Dependencies(                     id=21,                     name='libwebp-base',                     source='https://conda.anaconda.org/t/jr-ac5b1b42-c470-4696-a06b-9e98c0d40429/conda-forge/linux-64/libwebp-base-1.2.4-h166bdaf_0.tar.bz2',                     local_source='/Users/jacquelinegarrahan/sandbox/lume-services/dev/local_conda_channel/linux-64/libwebp-base-1.2.4-h166bdaf_0.tar.bz2'                     version='1.2.4'                 ), Dependencies(                     id=22,                     name='ripgrep',                     source='https://conda.anaconda.org/t/jr-ac5b1b42-c470-4696-a06b-9e98c0d40429/conda-forge/linux-64/ripgrep-13.0.0-h2f28480_2.tar.bz2',                     local_source='/Users/jacquelinegarrahan/sandbox/lume-services/dev/local_conda_channel/linux-64/ripgrep-13.0.0-h2f28480_2.tar.bz2'                     version='13.0.0'                 ), Dependencies(                     id=23,                     name='liblief',                     source='https://conda.anaconda.org/t/jr-ac5b1b42-c470-4696-a06b-9e98c0d40429/conda-forge/linux-64/liblief-0.12.1-h27087fc_0.tar.bz2',                     local_source='/Users/jacquelinegarrahan/sandbox/lume-services/dev/local_conda_channel/linux-64/liblief-0.12.1-h27087fc_0.tar.bz2'                     version='0.12.1'                 ), Dependencies(                     id=24,                     name='patchelf',                     source='https://conda.anaconda.org/t/jr-ac5b1b42-c470-4696-a06b-9e98c0d40429/conda-forge/linux-64/patchelf-0.15.0-h58526e2_0.tar.bz2',                     local_source='/Users/jacquelinegarrahan/sandbox/lume-services/dev/local_conda_channel/linux-64/patchelf-0.15.0-h58526e2_0.tar.bz2'                     version='0.15.0'                 ), Dependencies(                     id=25,                     name='patch',                     source='https://conda.anaconda.org/t/jr-ac5b1b42-c470-4696-a06b-9e98c0d40429/conda-forge/linux-64/patch-2.7.6-h7f98852_1002.tar.bz2',                     local_source='/Users/jacquelinegarrahan/sandbox/lume-services/dev/local_conda_channel/linux-64/patch-2.7.6-h7f98852_1002.tar.bz2'                     version='2.7.6'                 ), Dependencies(                     id=26,                     name='lz4-c',                     source='https://conda.anaconda.org/t/jr-ac5b1b42-c470-4696-a06b-9e98c0d40429/conda-forge/linux-64/lz4-c-1.9.3-h9c3ff4c_1.tar.bz2',                     local_source='/Users/jacquelinegarrahan/sandbox/lume-services/dev/local_conda_channel/linux-64/lz4-c-1.9.3-h9c3ff4c_1.tar.bz2'                     version='1.9.3'                 ), Dependencies(                     id=27,                     name='icu',                     source='https://conda.anaconda.org/t/jr-ac5b1b42-c470-4696-a06b-9e98c0d40429/conda-forge/linux-64/icu-70.1-h27087fc_0.tar.bz2',                     local_source='/Users/jacquelinegarrahan/sandbox/lume-services/dev/local_conda_channel/linux-64/icu-70.1-h27087fc_0.tar.bz2'                     version='70.1'                 ), Dependencies(                     id=28,                     name='libopenblas',                     source='https://conda.anaconda.org/t/jr-ac5b1b42-c470-4696-a06b-9e98c0d40429/conda-forge/linux-64/libopenblas-0.3.21-pthreads_h78a6416_3.tar.bz2',                     local_source='/Users/jacquelinegarrahan/sandbox/lume-services/dev/local_conda_channel/linux-64/libopenblas-0.3.21-pthreads_h78a6416_3.tar.bz2'                     version='0.3.21'                 ), Dependencies(                     id=29,                     name='reproc',                     source='https://conda.anaconda.org/t/jr-ac5b1b42-c470-4696-a06b-9e98c0d40429/conda-forge/linux-64/reproc-14.2.3-h7f98852_0.tar.bz2',                     local_source='/Users/jacquelinegarrahan/sandbox/lume-services/dev/local_conda_channel/linux-64/reproc-14.2.3-h7f98852_0.tar.bz2'                     version='14.2.3'                 ), Dependencies(                     id=30,                     name='libiconv',                     source='https://conda.anaconda.org/t/jr-ac5b1b42-c470-4696-a06b-9e98c0d40429/conda-forge/linux-64/libiconv-1.16-h516909a_0.tar.bz2',                     local_source='/Users/jacquelinegarrahan/sandbox/lume-services/dev/local_conda_channel/linux-64/libiconv-1.16-h516909a_0.tar.bz2'                     version='1.16'                 ), Dependencies(                     id=31,                     name='keyutils',                     source='https://conda.anaconda.org/t/jr-ac5b1b42-c470-4696-a06b-9e98c0d40429/conda-forge/linux-64/keyutils-1.6.1-h166bdaf_0.tar.bz2',                     local_source='/Users/jacquelinegarrahan/sandbox/lume-services/dev/local_conda_channel/linux-64/keyutils-1.6.1-h166bdaf_0.tar.bz2'                     version='1.6.1'                 ), Dependencies(                     id=32,                     name='yaml-cpp',                     source='https://conda.anaconda.org/t/jr-ac5b1b42-c470-4696-a06b-9e98c0d40429/conda-forge/linux-64/yaml-cpp-0.7.0-h27087fc_1.tar.bz2',                     local_source='/Users/jacquelinegarrahan/sandbox/lume-services/dev/local_conda_channel/linux-64/yaml-cpp-0.7.0-h27087fc_1.tar.bz2'                     version='0.7.0'                 ), Dependencies(                     id=33,                     name='xz',                     source='https://conda.anaconda.org/t/jr-ac5b1b42-c470-4696-a06b-9e98c0d40429/conda-forge/linux-64/xz-5.2.6-h166bdaf_0.tar.bz2',                     local_source='/Users/jacquelinegarrahan/sandbox/lume-services/dev/local_conda_channel/linux-64/xz-5.2.6-h166bdaf_0.tar.bz2'                     version='5.2.6'                 ), Dependencies(                     id=34,                     name='openssl',                     source='https://conda.anaconda.org/t/jr-ac5b1b42-c470-4696-a06b-9e98c0d40429/conda-forge/linux-64/openssl-1.1.1q-h166bdaf_0.tar.bz2',                     local_source='/Users/jacquelinegarrahan/sandbox/lume-services/dev/local_conda_channel/linux-64/openssl-1.1.1q-h166bdaf_0.tar.bz2'                     version='1.1.1q'                 ), Dependencies(                     id=35,                     name='ncurses',                     source='https://conda.anaconda.org/t/jr-ac5b1b42-c470-4696-a06b-9e98c0d40429/conda-forge/linux-64/ncurses-6.3-h27087fc_1.tar.bz2',                     local_source='/Users/jacquelinegarrahan/sandbox/lume-services/dev/local_conda_channel/linux-64/ncurses-6.3-h27087fc_1.tar.bz2'                     version='6.3'                 ), Dependencies(                     id=36,                     name='libzlib',                     source='https://conda.anaconda.org/t/jr-ac5b1b42-c470-4696-a06b-9e98c0d40429/conda-forge/linux-64/libzlib-1.2.12-h166bdaf_2.tar.bz2',                     local_source='/Users/jacquelinegarrahan/sandbox/lume-services/dev/local_conda_channel/linux-64/libzlib-1.2.12-h166bdaf_2.tar.bz2'                     version='1.2.12'                 ), Dependencies(                     id=37,                     name='libffi',                     source='https://conda.anaconda.org/t/jr-ac5b1b42-c470-4696-a06b-9e98c0d40429/conda-forge/linux-64/libffi-3.4.2-h7f98852_5.tar.bz2',                     local_source='/Users/jacquelinegarrahan/sandbox/lume-services/dev/local_conda_channel/linux-64/libffi-3.4.2-h7f98852_5.tar.bz2'                     version='3.4.2'                 ), Dependencies(                     id=38,                     name='bzip2',                     source='https://conda.anaconda.org/t/jr-ac5b1b42-c470-4696-a06b-9e98c0d40429/conda-forge/linux-64/bzip2-1.0.8-h7f98852_4.tar.bz2',                     local_source='/Users/jacquelinegarrahan/sandbox/lume-services/dev/local_conda_channel/linux-64/bzip2-1.0.8-h7f98852_4.tar.bz2'                     version='1.0.8'                 ), Dependencies(                     id=39,                     name='yaml',                     source='https://conda.anaconda.org/t/jr-ac5b1b42-c470-4696-a06b-9e98c0d40429/conda-forge/linux-64/yaml-0.2.5-h7f98852_2.tar.bz2',                     local_source='/Users/jacquelinegarrahan/sandbox/lume-services/dev/local_conda_channel/linux-64/yaml-0.2.5-h7f98852_2.tar.bz2'                     version='0.2.5'                 ), Dependencies(                     id=40,                     name='libnsl',                     source='https://conda.anaconda.org/t/jr-ac5b1b42-c470-4696-a06b-9e98c0d40429/conda-forge/linux-64/libnsl-2.0.0-h7f98852_0.tar.bz2',                     local_source='/Users/jacquelinegarrahan/sandbox/lume-services/dev/local_conda_channel/linux-64/libnsl-2.0.0-h7f98852_0.tar.bz2'                     version='2.0.0'                 ), Dependencies(                     id=41,                     name='libxcb',                     source='https://conda.anaconda.org/t/jr-ac5b1b42-c470-4696-a06b-9e98c0d40429/conda-forge/linux-64/libxcb-1.13-h7f98852_1004.tar.bz2',                     local_source='/Users/jacquelinegarrahan/sandbox/lume-services/dev/local_conda_channel/linux-64/libxcb-1.13-h7f98852_1004.tar.bz2'                     version='1.13'                 ), Dependencies(                     id=42,                     name='libbrotlienc',                     source='https://conda.anaconda.org/t/jr-ac5b1b42-c470-4696-a06b-9e98c0d40429/conda-forge/linux-64/libbrotlienc-1.0.9-h166bdaf_7.tar.bz2',                     local_source='/Users/jacquelinegarrahan/sandbox/lume-services/dev/local_conda_channel/linux-64/libbrotlienc-1.0.9-h166bdaf_7.tar.bz2'                     version='1.0.9'                 ), Dependencies(                     id=43,                     name='libbrotlidec',                     source='https://conda.anaconda.org/t/jr-ac5b1b42-c470-4696-a06b-9e98c0d40429/conda-forge/linux-64/libbrotlidec-1.0.9-h166bdaf_7.tar.bz2',                     local_source='/Users/jacquelinegarrahan/sandbox/lume-services/dev/local_conda_channel/linux-64/libbrotlidec-1.0.9-h166bdaf_7.tar.bz2'                     version='1.0.9'                 ), Dependencies(                     id=44,                     name='libblas',                     source='https://conda.anaconda.org/t/jr-ac5b1b42-c470-4696-a06b-9e98c0d40429/conda-forge/linux-64/libblas-3.9.0-16_linux64_openblas.tar.bz2',                     local_source='/Users/jacquelinegarrahan/sandbox/lume-services/dev/local_conda_channel/linux-64/libblas-3.9.0-16_linux64_openblas.tar.bz2'                     version='3.9.0'                 ), Dependencies(                     id=45,                     name='reproc-cpp',                     source='https://conda.anaconda.org/t/jr-ac5b1b42-c470-4696-a06b-9e98c0d40429/conda-forge/linux-64/reproc-cpp-14.2.3-h9c3ff4c_0.tar.bz2',                     local_source='/Users/jacquelinegarrahan/sandbox/lume-services/dev/local_conda_channel/linux-64/reproc-cpp-14.2.3-h9c3ff4c_0.tar.bz2'                     version='14.2.3'                 ), Dependencies(                     id=46,                     name='libedit',                     source='https://conda.anaconda.org/t/jr-ac5b1b42-c470-4696-a06b-9e98c0d40429/conda-forge/linux-64/libedit-3.1.20191231-he28a2e2_2.tar.bz2',                     local_source='/Users/jacquelinegarrahan/sandbox/lume-services/dev/local_conda_channel/linux-64/libedit-3.1.20191231-he28a2e2_2.tar.bz2'                     version='3.1.20191231'                 ), Dependencies(                     id=47,                     name='readline',                     source='https://conda.anaconda.org/t/jr-ac5b1b42-c470-4696-a06b-9e98c0d40429/conda-forge/linux-64/readline-8.1.2-h0f457ee_0.tar.bz2',                     local_source='/Users/jacquelinegarrahan/sandbox/lume-services/dev/local_conda_channel/linux-64/readline-8.1.2-h0f457ee_0.tar.bz2'                     version='8.1.2'                 ), Dependencies(                     id=48,                     name='zstd',                     source='https://conda.anaconda.org/t/jr-ac5b1b42-c470-4696-a06b-9e98c0d40429/conda-forge/linux-64/zstd-1.5.2-h6239696_4.tar.bz2',                     local_source='/Users/jacquelinegarrahan/sandbox/lume-services/dev/local_conda_channel/linux-64/zstd-1.5.2-h6239696_4.tar.bz2'                     version='1.5.2'                 ), Dependencies(                     id=49,                     name='libpng',                     source='https://conda.anaconda.org/t/jr-ac5b1b42-c470-4696-a06b-9e98c0d40429/conda-forge/linux-64/libpng-1.6.37-h753d276_4.tar.bz2',                     local_source='/Users/jacquelinegarrahan/sandbox/lume-services/dev/local_conda_channel/linux-64/libpng-1.6.37-h753d276_4.tar.bz2'                     version='1.6.37'                 ), Dependencies(                     id=50,                     name='libxml2',                     source='https://conda.anaconda.org/t/jr-ac5b1b42-c470-4696-a06b-9e98c0d40429/conda-forge/linux-64/libxml2-2.9.14-h22db469_4.tar.bz2',                     local_source='/Users/jacquelinegarrahan/sandbox/lume-services/dev/local_conda_channel/linux-64/libxml2-2.9.14-h22db469_4.tar.bz2'                     version='2.9.14'                 ), Dependencies(                     id=51,                     name='libssh2',                     source='https://conda.anaconda.org/t/jr-ac5b1b42-c470-4696-a06b-9e98c0d40429/conda-forge/linux-64/libssh2-1.10.0-haa6b8db_3.tar.bz2',                     local_source='/Users/jacquelinegarrahan/sandbox/lume-services/dev/local_conda_channel/linux-64/libssh2-1.10.0-haa6b8db_3.tar.bz2'                     version='1.10.0'                 ), Dependencies(                     id=52,                     name='libnghttp2',                     source='https://conda.anaconda.org/t/jr-ac5b1b42-c470-4696-a06b-9e98c0d40429/conda-forge/linux-64/libnghttp2-1.47.0-hdcd2b5c_1.tar.bz2',                     local_source='/Users/jacquelinegarrahan/sandbox/lume-services/dev/local_conda_channel/linux-64/libnghttp2-1.47.0-hdcd2b5c_1.tar.bz2'                     version='1.47.0'                 ), Dependencies(                     id=53,                     name='tk',                     source='https://conda.anaconda.org/t/jr-ac5b1b42-c470-4696-a06b-9e98c0d40429/conda-forge/linux-64/tk-8.6.12-h27826a3_0.tar.bz2',                     local_source='/Users/jacquelinegarrahan/sandbox/lume-services/dev/local_conda_channel/linux-64/tk-8.6.12-h27826a3_0.tar.bz2'                     version='8.6.12'                 ), Dependencies(                     id=54,                     name='libsqlite',                     source='https://conda.anaconda.org/t/jr-ac5b1b42-c470-4696-a06b-9e98c0d40429/conda-forge/linux-64/libsqlite-3.39.3-h753d276_0.tar.bz2',                     local_source='/Users/jacquelinegarrahan/sandbox/lume-services/dev/local_conda_channel/linux-64/libsqlite-3.39.3-h753d276_0.tar.bz2'                     version='3.39.3'                 ), Dependencies(                     id=55,                     name='libsolv',                     source='https://conda.anaconda.org/t/jr-ac5b1b42-c470-4696-a06b-9e98c0d40429/conda-forge/linux-64/libsolv-0.7.22-h6239696_0.tar.bz2',                     local_source='/Users/jacquelinegarrahan/sandbox/lume-services/dev/local_conda_channel/linux-64/libsolv-0.7.22-h6239696_0.tar.bz2'                     version='0.7.22'                 ), Dependencies(                     id=56,                     name='brotli-bin',                     source='https://conda.anaconda.org/t/jr-ac5b1b42-c470-4696-a06b-9e98c0d40429/conda-forge/linux-64/brotli-bin-1.0.9-h166bdaf_7.tar.bz2',                     local_source='/Users/jacquelinegarrahan/sandbox/lume-services/dev/local_conda_channel/linux-64/brotli-bin-1.0.9-h166bdaf_7.tar.bz2'                     version='1.0.9'                 ), Dependencies(                     id=57,                     name='libcblas',                     source='https://conda.anaconda.org/t/jr-ac5b1b42-c470-4696-a06b-9e98c0d40429/conda-forge/linux-64/libcblas-3.9.0-16_linux64_openblas.tar.bz2',                     local_source='/Users/jacquelinegarrahan/sandbox/lume-services/dev/local_conda_channel/linux-64/libcblas-3.9.0-16_linux64_openblas.tar.bz2'                     version='3.9.0'                 ), Dependencies(                     id=58,                     name='liblapack',                     source='https://conda.anaconda.org/t/jr-ac5b1b42-c470-4696-a06b-9e98c0d40429/conda-forge/linux-64/liblapack-3.9.0-16_linux64_openblas.tar.bz2',                     local_source='/Users/jacquelinegarrahan/sandbox/lume-services/dev/local_conda_channel/linux-64/liblapack-3.9.0-16_linux64_openblas.tar.bz2'                     version='3.9.0'                 ), Dependencies(                     id=59,                     name='krb5',                     source='https://conda.anaconda.org/t/jr-ac5b1b42-c470-4696-a06b-9e98c0d40429/conda-forge/linux-64/krb5-1.19.3-h3790be6_0.tar.bz2',                     local_source='/Users/jacquelinegarrahan/sandbox/lume-services/dev/local_conda_channel/linux-64/krb5-1.19.3-h3790be6_0.tar.bz2'                     version='1.19.3'                 ), Dependencies(                     id=60,                     name='libtiff',                     source='https://conda.anaconda.org/t/jr-ac5b1b42-c470-4696-a06b-9e98c0d40429/conda-forge/linux-64/libtiff-4.4.0-h0e0dad5_3.tar.bz2',                     local_source='/Users/jacquelinegarrahan/sandbox/lume-services/dev/local_conda_channel/linux-64/libtiff-4.4.0-h0e0dad5_3.tar.bz2'                     version='4.4.0'                 ), Dependencies(                     id=61,                     name='freetype',                     source='https://conda.anaconda.org/t/jr-ac5b1b42-c470-4696-a06b-9e98c0d40429/conda-forge/linux-64/freetype-2.12.1-hca18f0e_0.tar.bz2',                     local_source='/Users/jacquelinegarrahan/sandbox/lume-services/dev/local_conda_channel/linux-64/freetype-2.12.1-hca18f0e_0.tar.bz2'                     version='2.12.1'                 ), Dependencies(                     id=62,                     name='libarchive',                     source='https://conda.anaconda.org/t/jr-ac5b1b42-c470-4696-a06b-9e98c0d40429/conda-forge/linux-64/libarchive-3.5.2-hb890918_3.tar.bz2',                     local_source='/Users/jacquelinegarrahan/sandbox/lume-services/dev/local_conda_channel/linux-64/libarchive-3.5.2-hb890918_3.tar.bz2'                     version='3.5.2'                 ), Dependencies(                     id=63,                     name='sqlite',                     source='https://conda.anaconda.org/t/jr-ac5b1b42-c470-4696-a06b-9e98c0d40429/conda-forge/linux-64/sqlite-3.39.3-h4ff8645_0.tar.bz2',                     local_source='/Users/jacquelinegarrahan/sandbox/lume-services/dev/local_conda_channel/linux-64/sqlite-3.39.3-h4ff8645_0.tar.bz2'                     version='3.39.3'                 ), Dependencies(                     id=64,                     name='brotli',                     source='https://conda.anaconda.org/t/jr-ac5b1b42-c470-4696-a06b-9e98c0d40429/conda-forge/linux-64/brotli-1.0.9-h166bdaf_7.tar.bz2',                     local_source='/Users/jacquelinegarrahan/sandbox/lume-services/dev/local_conda_channel/linux-64/brotli-1.0.9-h166bdaf_7.tar.bz2'                     version='1.0.9'                 ), Dependencies(                     id=65,                     name='libcurl',                     source='https://conda.anaconda.org/t/jr-ac5b1b42-c470-4696-a06b-9e98c0d40429/conda-forge/linux-64/libcurl-7.83.1-h7bff187_0.tar.bz2',                     local_source='/Users/jacquelinegarrahan/sandbox/lume-services/dev/local_conda_channel/linux-64/libcurl-7.83.1-h7bff187_0.tar.bz2'                     version='7.83.1'                 ), Dependencies(                     id=66,                     name='openjpeg',                     source='https://conda.anaconda.org/t/jr-ac5b1b42-c470-4696-a06b-9e98c0d40429/conda-forge/linux-64/openjpeg-2.5.0-h7d73246_1.tar.bz2',                     local_source='/Users/jacquelinegarrahan/sandbox/lume-services/dev/local_conda_channel/linux-64/openjpeg-2.5.0-h7d73246_1.tar.bz2'                     version='2.5.0'                 ), Dependencies(                     id=67,                     name='lcms2',                     source='https://conda.anaconda.org/t/jr-ac5b1b42-c470-4696-a06b-9e98c0d40429/conda-forge/linux-64/lcms2-2.12-hddcbb42_0.tar.bz2',                     local_source='/Users/jacquelinegarrahan/sandbox/lume-services/dev/local_conda_channel/linux-64/lcms2-2.12-hddcbb42_0.tar.bz2'                     version='2.12'                 ), Dependencies(                     id=68,                     name='hdf5',                     source='https://conda.anaconda.org/t/jr-ac5b1b42-c470-4696-a06b-9e98c0d40429/conda-forge/linux-64/hdf5-1.12.2-nompi_h2386368_100.tar.bz2',                     local_source='/Users/jacquelinegarrahan/sandbox/lume-services/dev/local_conda_channel/linux-64/hdf5-1.12.2-nompi_h2386368_100.tar.bz2'                     version='1.12.2'                 ), Dependencies(                     id=69,                     name='libmamba',                     source='https://conda.anaconda.org/t/jr-ac5b1b42-c470-4696-a06b-9e98c0d40429/conda-forge/linux-64/libmamba-0.25.0-hd8a31e3_2.tar.bz2',                     local_source='/Users/jacquelinegarrahan/sandbox/lume-services/dev/local_conda_channel/linux-64/libmamba-0.25.0-hd8a31e3_2.tar.bz2'                     version='0.25.0'                 ), Dependencies(                     id=70,                     name='tzdata',                     source='https://conda.anaconda.org/t/jr-ac5b1b42-c470-4696-a06b-9e98c0d40429/conda-forge/noarch/tzdata-2022c-h191b570_0.tar.bz2',                     local_source='/Users/jacquelinegarrahan/sandbox/lume-services/dev/local_conda_channel/noarch/tzdata-2022c-h191b570_0.tar.bz2'                     version='2022c'                 ), Dependencies(                     id=71,                     name='pybind11-abi',                     source='https://conda.anaconda.org/t/jr-ac5b1b42-c470-4696-a06b-9e98c0d40429/conda-forge/noarch/pybind11-abi-4-hd8ed1ab_3.tar.bz2',                     local_source='/Users/jacquelinegarrahan/sandbox/lume-services/dev/local_conda_channel/noarch/pybind11-abi-4-hd8ed1ab_3.tar.bz2'                     version='4'                 ), Dependencies(                     id=72,                     name='python',                     source='https://conda.anaconda.org/t/jr-ac5b1b42-c470-4696-a06b-9e98c0d40429/conda-forge/linux-64/python-3.9.13-h9a8a25e_0_cpython.tar.bz2',                     local_source='/Users/jacquelinegarrahan/sandbox/lume-services/dev/local_conda_channel/linux-64/python-3.9.13-h9a8a25e_0_cpython.tar.bz2'                     version='3.9.13'                 ), Dependencies(                     id=73,                     name='wheel',                     source='https://conda.anaconda.org/t/jr-ac5b1b42-c470-4696-a06b-9e98c0d40429/conda-forge/noarch/wheel-0.37.1-pyhd8ed1ab_0.tar.bz2',                     local_source='/Users/jacquelinegarrahan/sandbox/lume-services/dev/local_conda_channel/noarch/wheel-0.37.1-pyhd8ed1ab_0.tar.bz2'                     version='0.37.1'                 ), Dependencies(                     id=74,                     name='setuptools',                     source='https://conda.anaconda.org/t/jr-ac5b1b42-c470-4696-a06b-9e98c0d40429/conda-forge/noarch/setuptools-65.3.0-pyhd8ed1ab_1.tar.bz2',                     local_source='/Users/jacquelinegarrahan/sandbox/lume-services/dev/local_conda_channel/noarch/setuptools-65.3.0-pyhd8ed1ab_1.tar.bz2'                     version='65.3.0'                 ), Dependencies(                     id=75,                     name='pip',                     source='https://conda.anaconda.org/t/jr-ac5b1b42-c470-4696-a06b-9e98c0d40429/conda-forge/noarch/pip-22.2.2-pyhd8ed1ab_0.tar.bz2',                     local_source='/Users/jacquelinegarrahan/sandbox/lume-services/dev/local_conda_channel/noarch/pip-22.2.2-pyhd8ed1ab_0.tar.bz2'                     version='22.2.2'                 ), Dependencies(                     id=76,                     name='munkres',                     source='https://conda.anaconda.org/t/jr-ac5b1b42-c470-4696-a06b-9e98c0d40429/conda-forge/noarch/munkres-1.1.4-pyh9f0ad1d_0.tar.bz2',                     local_source='/Users/jacquelinegarrahan/sandbox/lume-services/dev/local_conda_channel/noarch/munkres-1.1.4-pyh9f0ad1d_0.tar.bz2'                     version='1.1.4'                 ), Dependencies(                     id=77,                     name='cycler',                     source='https://conda.anaconda.org/t/jr-ac5b1b42-c470-4696-a06b-9e98c0d40429/conda-forge/noarch/cycler-0.11.0-pyhd8ed1ab_0.tar.bz2',                     local_source='/Users/jacquelinegarrahan/sandbox/lume-services/dev/local_conda_channel/noarch/cycler-0.11.0-pyhd8ed1ab_0.tar.bz2'                     version='0.11.0'                 ), Dependencies(                     id=78,                     name='soupsieve',                     source='https://conda.anaconda.org/t/jr-ac5b1b42-c470-4696-a06b-9e98c0d40429/conda-forge/noarch/soupsieve-2.3.2.post1-pyhd8ed1ab_0.tar.bz2',                     local_source='/Users/jacquelinegarrahan/sandbox/lume-services/dev/local_conda_channel/noarch/soupsieve-2.3.2.post1-pyhd8ed1ab_0.tar.bz2'                     version='2.3.2.post1'                 ), Dependencies(                     id=79,                     name='cached_property',                     source='https://conda.anaconda.org/t/jr-ac5b1b42-c470-4696-a06b-9e98c0d40429/conda-forge/noarch/cached_property-1.5.2-pyha770c72_1.tar.bz2',                     local_source='/Users/jacquelinegarrahan/sandbox/lume-services/dev/local_conda_channel/noarch/cached_property-1.5.2-pyha770c72_1.tar.bz2'                     version='1.5.2'                 ), Dependencies(                     id=80,                     name='unidecode',                     source='https://conda.anaconda.org/t/jr-ac5b1b42-c470-4696-a06b-9e98c0d40429/conda-forge/noarch/unidecode-1.3.4-pyhd8ed1ab_0.tar.bz2',                     local_source='/Users/jacquelinegarrahan/sandbox/lume-services/dev/local_conda_channel/noarch/unidecode-1.3.4-pyhd8ed1ab_0.tar.bz2'                     version='1.3.4'                 ), Dependencies(                     id=81,                     name='text-unidecode',                     source='https://conda.anaconda.org/t/jr-ac5b1b42-c470-4696-a06b-9e98c0d40429/conda-forge/noarch/text-unidecode-1.3-py_0.tar.bz2',                     local_source='/Users/jacquelinegarrahan/sandbox/lume-services/dev/local_conda_channel/noarch/text-unidecode-1.3-py_0.tar.bz2'                     version='1.3'                 ), Dependencies(                     id=82,                     name='charset-normalizer',                     source='https://conda.anaconda.org/t/jr-ac5b1b42-c470-4696-a06b-9e98c0d40429/conda-forge/noarch/charset-normalizer-2.1.1-pyhd8ed1ab_0.tar.bz2',                     local_source='/Users/jacquelinegarrahan/sandbox/lume-services/dev/local_conda_channel/noarch/charset-normalizer-2.1.1-pyhd8ed1ab_0.tar.bz2'                     version='2.1.1'                 ), Dependencies(                     id=83,                     name='colorama',                     source='https://conda.anaconda.org/t/jr-ac5b1b42-c470-4696-a06b-9e98c0d40429/conda-forge/noarch/colorama-0.4.5-pyhd8ed1ab_0.tar.bz2',                     local_source='/Users/jacquelinegarrahan/sandbox/lume-services/dev/local_conda_channel/noarch/colorama-0.4.5-pyhd8ed1ab_0.tar.bz2'                     version='0.4.5'                 ), Dependencies(                     id=84,                     name='certifi',                     source='https://conda.anaconda.org/t/jr-ac5b1b42-c470-4696-a06b-9e98c0d40429/conda-forge/noarch/certifi-2022.6.15-pyhd8ed1ab_1.tar.bz2',                     local_source='/Users/jacquelinegarrahan/sandbox/lume-services/dev/local_conda_channel/noarch/certifi-2022.6.15-pyhd8ed1ab_1.tar.bz2'                     version='2022.6.15'                 ), Dependencies(                     id=85,                     name='heapdict',                     source='https://conda.anaconda.org/t/jr-ac5b1b42-c470-4696-a06b-9e98c0d40429/conda-forge/noarch/heapdict-1.0.1-py_0.tar.bz2',                     local_source='/Users/jacquelinegarrahan/sandbox/lume-services/dev/local_conda_channel/noarch/heapdict-1.0.1-py_0.tar.bz2'                     version='1.0.1'                 ), Dependencies(                     id=86,                     name='glob2',                     source='https://conda.anaconda.org/t/jr-ac5b1b42-c470-4696-a06b-9e98c0d40429/conda-forge/noarch/glob2-0.7-py_0.tar.bz2',                     local_source='/Users/jacquelinegarrahan/sandbox/lume-services/dev/local_conda_channel/noarch/glob2-0.7-py_0.tar.bz2'                     version='0.7'                 ), Dependencies(                     id=87,                     name='pkginfo',                     source='https://conda.anaconda.org/t/jr-ac5b1b42-c470-4696-a06b-9e98c0d40429/conda-forge/noarch/pkginfo-1.8.3-pyhd8ed1ab_0.tar.bz2',                     local_source='/Users/jacquelinegarrahan/sandbox/lume-services/dev/local_conda_channel/noarch/pkginfo-1.8.3-pyhd8ed1ab_0.tar.bz2'                     version='1.8.3'                 ), Dependencies(                     id=88,                     name='filelock',                     source='https://conda.anaconda.org/t/jr-ac5b1b42-c470-4696-a06b-9e98c0d40429/conda-forge/noarch/filelock-3.8.0-pyhd8ed1ab_0.tar.bz2',                     local_source='/Users/jacquelinegarrahan/sandbox/lume-services/dev/local_conda_channel/noarch/filelock-3.8.0-pyhd8ed1ab_0.tar.bz2'                     version='3.8.0'                 ), Dependencies(                     id=89,                     name='appdirs',                     source='https://conda.anaconda.org/t/jr-ac5b1b42-c470-4696-a06b-9e98c0d40429/conda-forge/noarch/appdirs-1.4.4-pyh9f0ad1d_0.tar.bz2',                     local_source='/Users/jacquelinegarrahan/sandbox/lume-services/dev/local_conda_channel/noarch/appdirs-1.4.4-pyh9f0ad1d_0.tar.bz2'                     version='1.4.4'                 ), Dependencies(                     id=90,                     name='websocket-client',                     source='https://conda.anaconda.org/t/jr-ac5b1b42-c470-4696-a06b-9e98c0d40429/conda-forge/noarch/websocket-client-1.4.1-pyhd8ed1ab_0.tar.bz2',                     local_source='/Users/jacquelinegarrahan/sandbox/lume-services/dev/local_conda_channel/noarch/websocket-client-1.4.1-pyhd8ed1ab_0.tar.bz2'                     version='1.4.1'                 ), Dependencies(                     id=91,                     name='six',                     source='https://conda.anaconda.org/t/jr-ac5b1b42-c470-4696-a06b-9e98c0d40429/conda-forge/noarch/six-1.16.0-pyh6c4a22f_0.tar.bz2',                     local_source='/Users/jacquelinegarrahan/sandbox/lume-services/dev/local_conda_channel/noarch/six-1.16.0-pyh6c4a22f_0.tar.bz2'                     version='1.16.0'                 ), Dependencies(                     id=92,                     name='pycparser',                     source='https://conda.anaconda.org/t/jr-ac5b1b42-c470-4696-a06b-9e98c0d40429/conda-forge/noarch/pycparser-2.21-pyhd8ed1ab_0.tar.bz2',                     local_source='/Users/jacquelinegarrahan/sandbox/lume-services/dev/local_conda_channel/noarch/pycparser-2.21-pyhd8ed1ab_0.tar.bz2'                     version='2.21'                 ), Dependencies(                     id=93,                     name='idna',                     source='https://conda.anaconda.org/t/jr-ac5b1b42-c470-4696-a06b-9e98c0d40429/conda-forge/noarch/idna-3.3-pyhd8ed1ab_0.tar.bz2',                     local_source='/Users/jacquelinegarrahan/sandbox/lume-services/dev/local_conda_channel/noarch/idna-3.3-pyhd8ed1ab_0.tar.bz2'                     version='3.3'                 ), Dependencies(                     id=94,                     name='asn1crypto',                     source='https://conda.anaconda.org/t/jr-ac5b1b42-c470-4696-a06b-9e98c0d40429/conda-forge/noarch/asn1crypto-1.5.1-pyhd8ed1ab_0.tar.bz2',                     local_source='/Users/jacquelinegarrahan/sandbox/lume-services/dev/local_conda_channel/noarch/asn1crypto-1.5.1-pyhd8ed1ab_0.tar.bz2'                     version='1.5.1'                 ), Dependencies(                     id=95,                     name='pytzdata',                     source='https://conda.anaconda.org/t/jr-ac5b1b42-c470-4696-a06b-9e98c0d40429/conda-forge/noarch/pytzdata-2020.1-pyh9f0ad1d_0.tar.bz2',                     local_source='/Users/jacquelinegarrahan/sandbox/lume-services/dev/local_conda_channel/noarch/pytzdata-2020.1-pyh9f0ad1d_0.tar.bz2'                     version='2020.1'                 ), Dependencies(                     id=96,                     name='typing_extensions',                     source='https://conda.anaconda.org/t/jr-ac5b1b42-c470-4696-a06b-9e98c0d40429/conda-forge/noarch/typing_extensions-4.3.0-pyha770c72_0.tar.bz2',                     local_source='/Users/jacquelinegarrahan/sandbox/lume-services/dev/local_conda_channel/noarch/typing_extensions-4.3.0-pyha770c72_0.tar.bz2'                     version='4.3.0'                 ), Dependencies(                     id=97,                     name='natsort',                     source='https://conda.anaconda.org/t/jr-ac5b1b42-c470-4696-a06b-9e98c0d40429/conda-forge/noarch/natsort-8.2.0-pyhd8ed1ab_0.tar.bz2',                     local_source='/Users/jacquelinegarrahan/sandbox/lume-services/dev/local_conda_channel/noarch/natsort-8.2.0-pyhd8ed1ab_0.tar.bz2'                     version='8.2.0'                 ), Dependencies(                     id=98,                     name='fsspec',                     source='https://conda.anaconda.org/t/jr-ac5b1b42-c470-4696-a06b-9e98c0d40429/conda-forge/noarch/fsspec-2022.8.2-pyhd8ed1ab_0.tar.bz2',                     local_source='/Users/jacquelinegarrahan/sandbox/lume-services/dev/local_conda_channel/noarch/fsspec-2022.8.2-pyhd8ed1ab_0.tar.bz2'                     version='2022.8.2'                 ), Dependencies(                     id=99,                     name='tblib',                     source='https://conda.anaconda.org/t/jr-ac5b1b42-c470-4696-a06b-9e98c0d40429/conda-forge/noarch/tblib-1.7.0-pyhd8ed1ab_0.tar.bz2',                     local_source='/Users/jacquelinegarrahan/sandbox/lume-services/dev/local_conda_channel/noarch/tblib-1.7.0-pyhd8ed1ab_0.tar.bz2'                     version='1.7.0'                 ), Dependencies(                     id=100,                     name='locket',                     source='https://conda.anaconda.org/t/jr-ac5b1b42-c470-4696-a06b-9e98c0d40429/conda-forge/noarch/locket-1.0.0-pyhd8ed1ab_0.tar.bz2',                     local_source='/Users/jacquelinegarrahan/sandbox/lume-services/dev/local_conda_channel/noarch/locket-1.0.0-pyhd8ed1ab_0.tar.bz2'                     version='1.0.0'                 ), Dependencies(                     id=101,                     name='toolz',                     source='https://conda.anaconda.org/t/jr-ac5b1b42-c470-4696-a06b-9e98c0d40429/conda-forge/noarch/toolz-0.12.0-pyhd8ed1ab_0.tar.bz2',                     local_source='/Users/jacquelinegarrahan/sandbox/lume-services/dev/local_conda_channel/noarch/toolz-0.12.0-pyhd8ed1ab_0.tar.bz2'                     version='0.12.0'                 ), Dependencies(                     id=102,                     name='sortedcontainers',                     source='https://conda.anaconda.org/t/jr-ac5b1b42-c470-4696-a06b-9e98c0d40429/conda-forge/noarch/sortedcontainers-2.4.0-pyhd8ed1ab_0.tar.bz2',                     local_source='/Users/jacquelinegarrahan/sandbox/lume-services/dev/local_conda_channel/noarch/sortedcontainers-2.4.0-pyhd8ed1ab_0.tar.bz2'                     version='2.4.0'                 ), Dependencies(                     id=103,                     name='zipp',                     source='https://conda.anaconda.org/t/jr-ac5b1b42-c470-4696-a06b-9e98c0d40429/conda-forge/noarch/zipp-3.8.1-pyhd8ed1ab_0.tar.bz2',                     local_source='/Users/jacquelinegarrahan/sandbox/lume-services/dev/local_conda_channel/noarch/zipp-3.8.1-pyhd8ed1ab_0.tar.bz2'                     version='3.8.1'                 ), Dependencies(                     id=104,                     name='pyparsing',                     source='https://conda.anaconda.org/t/jr-ac5b1b42-c470-4696-a06b-9e98c0d40429/conda-forge/noarch/pyparsing-3.0.9-pyhd8ed1ab_0.tar.bz2',                     local_source='/Users/jacquelinegarrahan/sandbox/lume-services/dev/local_conda_channel/noarch/pyparsing-3.0.9-pyhd8ed1ab_0.tar.bz2'                     version='3.0.9'                 ), Dependencies(                     id=105,                     name='toml',                     source='https://conda.anaconda.org/t/jr-ac5b1b42-c470-4696-a06b-9e98c0d40429/conda-forge/noarch/toml-0.10.2-pyhd8ed1ab_0.tar.bz2',                     local_source='/Users/jacquelinegarrahan/sandbox/lume-services/dev/local_conda_channel/noarch/toml-0.10.2-pyhd8ed1ab_0.tar.bz2'                     version='0.10.2'                 ), Dependencies(                     id=106,                     name='tabulate',                     source='https://conda.anaconda.org/t/jr-ac5b1b42-c470-4696-a06b-9e98c0d40429/conda-forge/noarch/tabulate-0.8.10-pyhd8ed1ab_0.tar.bz2',                     local_source='/Users/jacquelinegarrahan/sandbox/lume-services/dev/local_conda_channel/noarch/tabulate-0.8.10-pyhd8ed1ab_0.tar.bz2'                     version='0.8.10'                 ), Dependencies(                     id=107,                     name='pytz',                     source='https://conda.anaconda.org/t/jr-ac5b1b42-c470-4696-a06b-9e98c0d40429/conda-forge/noarch/pytz-2022.2.1-pyhd8ed1ab_0.tar.bz2',                     local_source='/Users/jacquelinegarrahan/sandbox/lume-services/dev/local_conda_channel/noarch/pytz-2022.2.1-pyhd8ed1ab_0.tar.bz2'                     version='2022.2.1'                 ), Dependencies(                     id=108,                     name='cloudpickle',                     source='https://conda.anaconda.org/t/jr-ac5b1b42-c470-4696-a06b-9e98c0d40429/conda-forge/noarch/cloudpickle-2.1.0-pyhd8ed1ab_0.tar.bz2',                     local_source='/Users/jacquelinegarrahan/sandbox/lume-services/dev/local_conda_channel/noarch/cloudpickle-2.1.0-pyhd8ed1ab_0.tar.bz2'                     version='2.1.0'                 ), Dependencies(                     id=109,                     name='pymysql',                     source='https://conda.anaconda.org/t/jr-ac5b1b42-c470-4696-a06b-9e98c0d40429/conda-forge/noarch/pymysql-1.0.2-pyhd8ed1ab_0.tar.bz2',                     local_source='/Users/jacquelinegarrahan/sandbox/lume-services/dev/local_conda_channel/noarch/pymysql-1.0.2-pyhd8ed1ab_0.tar.bz2'                     version='1.0.2'                 ), Dependencies(                     id=110,                     name='beautifulsoup4',                     source='https://conda.anaconda.org/t/jr-ac5b1b42-c470-4696-a06b-9e98c0d40429/conda-forge/noarch/beautifulsoup4-4.11.1-pyha770c72_0.tar.bz2',                     local_source='/Users/jacquelinegarrahan/sandbox/lume-services/dev/local_conda_channel/noarch/beautifulsoup4-4.11.1-pyha770c72_0.tar.bz2'                     version='4.11.1'                 ), Dependencies(                     id=111,                     name='cached-property',                     source='https://conda.anaconda.org/t/jr-ac5b1b42-c470-4696-a06b-9e98c0d40429/conda-forge/noarch/cached-property-1.5.2-hd8ed1ab_1.tar.bz2',                     local_source='/Users/jacquelinegarrahan/sandbox/lume-services/dev/local_conda_channel/noarch/cached-property-1.5.2-hd8ed1ab_1.tar.bz2'                     version='1.5.2'                 ), Dependencies(                     id=112,                     name='python-slugify',                     source='https://conda.anaconda.org/t/jr-ac5b1b42-c470-4696-a06b-9e98c0d40429/conda-forge/noarch/python-slugify-6.1.2-pyhd8ed1ab_0.tar.bz2',                     local_source='/Users/jacquelinegarrahan/sandbox/lume-services/dev/local_conda_channel/noarch/python-slugify-6.1.2-pyhd8ed1ab_0.tar.bz2'                     version='6.1.2'                 ), Dependencies(                     id=113,                     name='tqdm',                     source='https://conda.anaconda.org/t/jr-ac5b1b42-c470-4696-a06b-9e98c0d40429/conda-forge/noarch/tqdm-4.64.1-pyhd8ed1ab_0.tar.bz2',                     local_source='/Users/jacquelinegarrahan/sandbox/lume-services/dev/local_conda_channel/noarch/tqdm-4.64.1-pyhd8ed1ab_0.tar.bz2'                     version='4.64.1'                 ), Dependencies(                     id=114,                     name='zict',                     source='https://conda.anaconda.org/t/jr-ac5b1b42-c470-4696-a06b-9e98c0d40429/conda-forge/noarch/zict-2.2.0-pyhd8ed1ab_0.tar.bz2',                     local_source='/Users/jacquelinegarrahan/sandbox/lume-services/dev/local_conda_channel/noarch/zict-2.2.0-pyhd8ed1ab_0.tar.bz2'                     version='2.2.0'                 ), Dependencies(                     id=115,                     name='docker-pycreds',                     source='https://conda.anaconda.org/t/jr-ac5b1b42-c470-4696-a06b-9e98c0d40429/conda-forge/noarch/docker-pycreds-0.4.0-py_0.tar.bz2',                     local_source='/Users/jacquelinegarrahan/sandbox/lume-services/dev/local_conda_channel/noarch/docker-pycreds-0.4.0-py_0.tar.bz2'                     version='0.4.0'                 ), Dependencies(                     id=116,                     name='python-dateutil',                     source='https://conda.anaconda.org/t/jr-ac5b1b42-c470-4696-a06b-9e98c0d40429/conda-forge/noarch/python-dateutil-2.8.2-pyhd8ed1ab_0.tar.bz2',                     local_source='/Users/jacquelinegarrahan/sandbox/lume-services/dev/local_conda_channel/noarch/python-dateutil-2.8.2-pyhd8ed1ab_0.tar.bz2'                     version='2.8.2'                 ), Dependencies(                     id=117,                     name='typing-extensions',                     source='https://conda.anaconda.org/t/jr-ac5b1b42-c470-4696-a06b-9e98c0d40429/conda-forge/noarch/typing-extensions-4.3.0-hd8ed1ab_0.tar.bz2',                     local_source='/Users/jacquelinegarrahan/sandbox/lume-services/dev/local_conda_channel/noarch/typing-extensions-4.3.0-hd8ed1ab_0.tar.bz2'                     version='4.3.0'                 ), Dependencies(                     id=118,                     name='partd',                     source='https://conda.anaconda.org/t/jr-ac5b1b42-c470-4696-a06b-9e98c0d40429/conda-forge/noarch/partd-1.3.0-pyhd8ed1ab_0.tar.bz2',                     local_source='/Users/jacquelinegarrahan/sandbox/lume-services/dev/local_conda_channel/noarch/partd-1.3.0-pyhd8ed1ab_0.tar.bz2'                     version='1.3.0'                 ), Dependencies(                     id=119,                     name='importlib_resources',                     source='https://conda.anaconda.org/t/jr-ac5b1b42-c470-4696-a06b-9e98c0d40429/conda-forge/noarch/importlib_resources-5.9.0-pyhd8ed1ab_0.tar.bz2',                     local_source='/Users/jacquelinegarrahan/sandbox/lume-services/dev/local_conda_channel/noarch/importlib_resources-5.9.0-pyhd8ed1ab_0.tar.bz2'                     version='5.9.0'                 ), Dependencies(                     id=120,                     name='packaging',                     source='https://conda.anaconda.org/t/jr-ac5b1b42-c470-4696-a06b-9e98c0d40429/conda-forge/noarch/packaging-21.3-pyhd8ed1ab_0.tar.bz2',                     local_source='/Users/jacquelinegarrahan/sandbox/lume-services/dev/local_conda_channel/noarch/packaging-21.3-pyhd8ed1ab_0.tar.bz2'                     version='21.3'                 ), Dependencies(                     id=121,                     name='croniter',                     source='https://conda.anaconda.org/t/jr-ac5b1b42-c470-4696-a06b-9e98c0d40429/conda-forge/noarch/croniter-0.3.36-pyhd8ed1ab_0.tar.bz2',                     local_source='/Users/jacquelinegarrahan/sandbox/lume-services/dev/local_conda_channel/noarch/croniter-0.3.36-pyhd8ed1ab_0.tar.bz2'                     version='0.3.36'                 ), Dependencies(                     id=122,                     name='marshmallow',                     source='https://conda.anaconda.org/t/jr-ac5b1b42-c470-4696-a06b-9e98c0d40429/conda-forge/noarch/marshmallow-3.17.1-pyhd8ed1ab_0.tar.bz2',                     local_source='/Users/jacquelinegarrahan/sandbox/lume-services/dev/local_conda_channel/noarch/marshmallow-3.17.1-pyhd8ed1ab_0.tar.bz2'                     version='3.17.1'                 ), Dependencies(                     id=123,                     name='marshmallow-oneofschema',                     source='https://conda.anaconda.org/t/jr-ac5b1b42-c470-4696-a06b-9e98c0d40429/conda-forge/noarch/marshmallow-oneofschema-3.0.1-pyhd8ed1ab_0.tar.bz2',                     local_source='/Users/jacquelinegarrahan/sandbox/lume-services/dev/local_conda_channel/noarch/marshmallow-oneofschema-3.0.1-pyhd8ed1ab_0.tar.bz2'                     version='3.0.1'                 ), Dependencies(                     id=124,                     name='python_abi',                     source='https://conda.anaconda.org/t/jr-ac5b1b42-c470-4696-a06b-9e98c0d40429/conda-forge/linux-64/python_abi-3.9-2_cp39.tar.bz2',                     local_source='/Users/jacquelinegarrahan/sandbox/lume-services/dev/local_conda_channel/linux-64/python_abi-3.9-2_cp39.tar.bz2'                     version='3.9'                 ), Dependencies(                     id=125,                     name='unicodedata2',                     source='https://conda.anaconda.org/t/jr-ac5b1b42-c470-4696-a06b-9e98c0d40429/conda-forge/linux-64/unicodedata2-14.0.0-py39hb9d737c_1.tar.bz2',                     local_source='/Users/jacquelinegarrahan/sandbox/lume-services/dev/local_conda_channel/linux-64/unicodedata2-14.0.0-py39hb9d737c_1.tar.bz2'                     version='14.0.0'                 ), Dependencies(                     id=126,                     name='pillow',                     source='https://conda.anaconda.org/t/jr-ac5b1b42-c470-4696-a06b-9e98c0d40429/conda-forge/linux-64/pillow-9.2.0-py39hd5dbb17_2.tar.bz2',                     local_source='/Users/jacquelinegarrahan/sandbox/lume-services/dev/local_conda_channel/linux-64/pillow-9.2.0-py39hd5dbb17_2.tar.bz2'                     version='9.2.0'                 ), Dependencies(                     id=127,                     name='kiwisolver',                     source='https://conda.anaconda.org/t/jr-ac5b1b42-c470-4696-a06b-9e98c0d40429/conda-forge/linux-64/kiwisolver-1.4.4-py39hf939315_0.tar.bz2',                     local_source='/Users/jacquelinegarrahan/sandbox/lume-services/dev/local_conda_channel/linux-64/kiwisolver-1.4.4-py39hf939315_0.tar.bz2'                     version='1.4.4'                 ), Dependencies(                     id=128,                     name='ruamel.yaml.clib',                     source='https://conda.anaconda.org/t/jr-ac5b1b42-c470-4696-a06b-9e98c0d40429/conda-forge/linux-64/ruamel.yaml.clib-0.2.6-py39hb9d737c_1.tar.bz2',                     local_source='/Users/jacquelinegarrahan/sandbox/lume-services/dev/local_conda_channel/linux-64/ruamel.yaml.clib-0.2.6-py39hb9d737c_1.tar.bz2'                     version='0.2.6'                 ), Dependencies(                     id=129,                     name='markupsafe',                     source='https://conda.anaconda.org/t/jr-ac5b1b42-c470-4696-a06b-9e98c0d40429/conda-forge/linux-64/markupsafe-2.1.1-py39hb9d737c_1.tar.bz2',                     local_source='/Users/jacquelinegarrahan/sandbox/lume-services/dev/local_conda_channel/linux-64/markupsafe-2.1.1-py39hb9d737c_1.tar.bz2'                     version='2.1.1'                 ), Dependencies(                     id=130,                     name='pysocks',                     source='https://conda.anaconda.org/t/jr-ac5b1b42-c470-4696-a06b-9e98c0d40429/conda-forge/linux-64/pysocks-1.7.1-py39hf3d152e_5.tar.bz2',                     local_source='/Users/jacquelinegarrahan/sandbox/lume-services/dev/local_conda_channel/linux-64/pysocks-1.7.1-py39hf3d152e_5.tar.bz2'                     version='1.7.1'                 ), Dependencies(                     id=131,                     name='ruamel_yaml',                     source='https://conda.anaconda.org/t/jr-ac5b1b42-c470-4696-a06b-9e98c0d40429/conda-forge/linux-64/ruamel_yaml-0.15.80-py39hb9d737c_1007.tar.bz2',                     local_source='/Users/jacquelinegarrahan/sandbox/lume-services/dev/local_conda_channel/linux-64/ruamel_yaml-0.15.80-py39hb9d737c_1007.tar.bz2'                     version='0.15.80'                 ), Dependencies(                     id=132,                     name='pycosat',                     source='https://conda.anaconda.org/t/jr-ac5b1b42-c470-4696-a06b-9e98c0d40429/conda-forge/linux-64/pycosat-0.6.3-py39hb9d737c_1010.tar.bz2',                     local_source='/Users/jacquelinegarrahan/sandbox/lume-services/dev/local_conda_channel/linux-64/pycosat-0.6.3-py39hb9d737c_1010.tar.bz2'                     version='0.6.3'                 ), Dependencies(                     id=133,                     name='python-libarchive-c',                     source='https://conda.anaconda.org/t/jr-ac5b1b42-c470-4696-a06b-9e98c0d40429/conda-forge/linux-64/python-libarchive-c-4.0-py39hf3d152e_1.tar.bz2',                     local_source='/Users/jacquelinegarrahan/sandbox/lume-services/dev/local_conda_channel/linux-64/python-libarchive-c-4.0-py39hf3d152e_1.tar.bz2'                     version='4.0'                 ), Dependencies(                     id=134,                     name='py-lief',                     source='https://conda.anaconda.org/t/jr-ac5b1b42-c470-4696-a06b-9e98c0d40429/conda-forge/linux-64/py-lief-0.12.1-py39h5a03fae_0.tar.bz2',                     local_source='/Users/jacquelinegarrahan/sandbox/lume-services/dev/local_conda_channel/linux-64/py-lief-0.12.1-py39h5a03fae_0.tar.bz2'                     version='0.12.1'                 ), Dependencies(                     id=135,                     name='conda-package-handling',                     source='https://conda.anaconda.org/t/jr-ac5b1b42-c470-4696-a06b-9e98c0d40429/conda-forge/linux-64/conda-package-handling-1.8.1-py39hb9d737c_1.tar.bz2',                     local_source='/Users/jacquelinegarrahan/sandbox/lume-services/dev/local_conda_channel/linux-64/conda-package-handling-1.8.1-py39hb9d737c_1.tar.bz2'                     version='1.8.1'                 ), Dependencies(                     id=136,                     name='chardet',                     source='https://conda.anaconda.org/t/jr-ac5b1b42-c470-4696-a06b-9e98c0d40429/conda-forge/linux-64/chardet-5.0.0-py39hf3d152e_0.tar.bz2',                     local_source='/Users/jacquelinegarrahan/sandbox/lume-services/dev/local_conda_channel/linux-64/chardet-5.0.0-py39hf3d152e_0.tar.bz2'                     version='5.0.0'                 ), Dependencies(                     id=137,                     name='cffi',                     source='https://conda.anaconda.org/t/jr-ac5b1b42-c470-4696-a06b-9e98c0d40429/conda-forge/linux-64/cffi-1.15.1-py39he91dace_0.tar.bz2',                     local_source='/Users/jacquelinegarrahan/sandbox/lume-services/dev/local_conda_channel/linux-64/cffi-1.15.1-py39he91dace_0.tar.bz2'                     version='1.15.1'                 ), Dependencies(                     id=138,                     name='greenlet',                     source='https://conda.anaconda.org/t/jr-ac5b1b42-c470-4696-a06b-9e98c0d40429/conda-forge/linux-64/greenlet-1.1.3-py39h5a03fae_0.tar.bz2',                     local_source='/Users/jacquelinegarrahan/sandbox/lume-services/dev/local_conda_channel/linux-64/greenlet-1.1.3-py39h5a03fae_0.tar.bz2'                     version='1.1.3'                 ), Dependencies(                     id=139,                     name='tornado',                     source='https://conda.anaconda.org/t/jr-ac5b1b42-c470-4696-a06b-9e98c0d40429/conda-forge/linux-64/tornado-6.1-py39hb9d737c_3.tar.bz2',                     local_source='/Users/jacquelinegarrahan/sandbox/lume-services/dev/local_conda_channel/linux-64/tornado-6.1-py39hb9d737c_3.tar.bz2'                     version='6.1'                 ), Dependencies(                     id=140,                     name='psutil',                     source='https://conda.anaconda.org/t/jr-ac5b1b42-c470-4696-a06b-9e98c0d40429/conda-forge/linux-64/psutil-5.9.2-py39hb9d737c_0.tar.bz2',                     local_source='/Users/jacquelinegarrahan/sandbox/lume-services/dev/local_conda_channel/linux-64/psutil-5.9.2-py39hb9d737c_0.tar.bz2'                     version='5.9.2'                 ), Dependencies(                     id=141,                     name='msgpack-python',                     source='https://conda.anaconda.org/t/jr-ac5b1b42-c470-4696-a06b-9e98c0d40429/conda-forge/linux-64/msgpack-python-1.0.4-py39hf939315_0.tar.bz2',                     local_source='/Users/jacquelinegarrahan/sandbox/lume-services/dev/local_conda_channel/linux-64/msgpack-python-1.0.4-py39hf939315_0.tar.bz2'                     version='1.0.4'                 ), Dependencies(                     id=142,                     name='cytoolz',                     source='https://conda.anaconda.org/t/jr-ac5b1b42-c470-4696-a06b-9e98c0d40429/conda-forge/linux-64/cytoolz-0.12.0-py39hb9d737c_0.tar.bz2',                     local_source='/Users/jacquelinegarrahan/sandbox/lume-services/dev/local_conda_channel/linux-64/cytoolz-0.12.0-py39hb9d737c_0.tar.bz2'                     version='0.12.0'                 ), Dependencies(                     id=143,                     name='pendulum',                     source='https://conda.anaconda.org/t/jr-ac5b1b42-c470-4696-a06b-9e98c0d40429/conda-forge/linux-64/pendulum-2.1.2-py39hb9d737c_4.tar.bz2',                     local_source='/Users/jacquelinegarrahan/sandbox/lume-services/dev/local_conda_channel/linux-64/pendulum-2.1.2-py39hb9d737c_4.tar.bz2'                     version='2.1.2'                 ), Dependencies(                     id=144,                     name='mypy_extensions',                     source='https://conda.anaconda.org/t/jr-ac5b1b42-c470-4696-a06b-9e98c0d40429/conda-forge/linux-64/mypy_extensions-0.4.3-py39hf3d152e_5.tar.bz2',                     local_source='/Users/jacquelinegarrahan/sandbox/lume-services/dev/local_conda_channel/linux-64/mypy_extensions-0.4.3-py39hf3d152e_5.tar.bz2'                     version='0.4.3'                 ), Dependencies(                     id=145,                     name='click',                     source='https://conda.anaconda.org/t/jr-ac5b1b42-c470-4696-a06b-9e98c0d40429/conda-forge/linux-64/click-8.1.3-py39hf3d152e_0.tar.bz2',                     local_source='/Users/jacquelinegarrahan/sandbox/lume-services/dev/local_conda_channel/linux-64/click-8.1.3-py39hf3d152e_0.tar.bz2'                     version='8.1.3'                 ), Dependencies(                     id=146,                     name='pyyaml',                     source='https://conda.anaconda.org/t/jr-ac5b1b42-c470-4696-a06b-9e98c0d40429/conda-forge/linux-64/pyyaml-6.0-py39hb9d737c_4.tar.bz2',                     local_source='/Users/jacquelinegarrahan/sandbox/lume-services/dev/local_conda_channel/linux-64/pyyaml-6.0-py39hb9d737c_4.tar.bz2'                     version='6.0'                 ), Dependencies(                     id=147,                     name='pymongo',                     source='https://conda.anaconda.org/t/jr-ac5b1b42-c470-4696-a06b-9e98c0d40429/conda-forge/linux-64/pymongo-4.2.0-py39h5a03fae_1.tar.bz2',                     local_source='/Users/jacquelinegarrahan/sandbox/lume-services/dev/local_conda_channel/linux-64/pymongo-4.2.0-py39h5a03fae_1.tar.bz2'                     version='4.2.0'                 ), Dependencies(                     id=148,                     name='numpy',                     source='https://conda.anaconda.org/t/jr-ac5b1b42-c470-4696-a06b-9e98c0d40429/conda-forge/linux-64/numpy-1.23.2-py39hba7629e_0.tar.bz2',                     local_source='/Users/jacquelinegarrahan/sandbox/lume-services/dev/local_conda_channel/linux-64/numpy-1.23.2-py39hba7629e_0.tar.bz2'                     version='1.23.2'                 ), Dependencies(                     id=149,                     name='dependency_injector',                     source='https://conda.anaconda.org/t/jr-ac5b1b42-c470-4696-a06b-9e98c0d40429/conda-forge/linux-64/dependency_injector-4.40.0-py39hb9d737c_0.tar.bz2',                     local_source='/Users/jacquelinegarrahan/sandbox/lume-services/dev/local_conda_channel/linux-64/dependency_injector-4.40.0-py39hb9d737c_0.tar.bz2'                     version='4.40.0'                 ), Dependencies(                     id=150,                     name='libmambapy',                     source='https://conda.anaconda.org/t/jr-ac5b1b42-c470-4696-a06b-9e98c0d40429/conda-forge/linux-64/libmambapy-0.25.0-py39hd55135b_2.tar.bz2',                     local_source='/Users/jacquelinegarrahan/sandbox/lume-services/dev/local_conda_channel/linux-64/libmambapy-0.25.0-py39hd55135b_2.tar.bz2'                     version='0.25.0'                 ), Dependencies(                     id=151,                     name='pydantic',                     source='https://conda.anaconda.org/t/jr-ac5b1b42-c470-4696-a06b-9e98c0d40429/conda-forge/linux-64/pydantic-1.10.2-py39hb9d737c_0.tar.bz2',                     local_source='/Users/jacquelinegarrahan/sandbox/lume-services/dev/local_conda_channel/linux-64/pydantic-1.10.2-py39hb9d737c_0.tar.bz2'                     version='1.10.2'                 ), Dependencies(                     id=152,                     name='fonttools',                     source='https://conda.anaconda.org/t/jr-ac5b1b42-c470-4696-a06b-9e98c0d40429/conda-forge/linux-64/fonttools-4.37.1-py39hb9d737c_0.tar.bz2',                     local_source='/Users/jacquelinegarrahan/sandbox/lume-services/dev/local_conda_channel/linux-64/fonttools-4.37.1-py39hb9d737c_0.tar.bz2'                     version='4.37.1'                 ), Dependencies(                     id=153,                     name='ruamel.yaml',                     source='https://conda.anaconda.org/t/jr-ac5b1b42-c470-4696-a06b-9e98c0d40429/conda-forge/linux-64/ruamel.yaml-0.17.21-py39hb9d737c_1.tar.bz2',                     local_source='/Users/jacquelinegarrahan/sandbox/lume-services/dev/local_conda_channel/linux-64/ruamel.yaml-0.17.21-py39hb9d737c_1.tar.bz2'                     version='0.17.21'                 ), Dependencies(                     id=154,                     name='brotlipy',                     source='https://conda.anaconda.org/t/jr-ac5b1b42-c470-4696-a06b-9e98c0d40429/conda-forge/linux-64/brotlipy-0.7.0-py39hb9d737c_1004.tar.bz2',                     local_source='/Users/jacquelinegarrahan/sandbox/lume-services/dev/local_conda_channel/linux-64/brotlipy-0.7.0-py39hb9d737c_1004.tar.bz2'                     version='0.7.0'                 ), Dependencies(                     id=155,                     name='cryptography',                     source='https://conda.anaconda.org/t/jr-ac5b1b42-c470-4696-a06b-9e98c0d40429/conda-forge/linux-64/cryptography-37.0.4-py39hd97740a_0.tar.bz2',                     local_source='/Users/jacquelinegarrahan/sandbox/lume-services/dev/local_conda_channel/linux-64/cryptography-37.0.4-py39hd97740a_0.tar.bz2'                     version='37.0.4'                 ), Dependencies(                     id=156,                     name='sqlalchemy',                     source='https://conda.anaconda.org/t/jr-ac5b1b42-c470-4696-a06b-9e98c0d40429/conda-forge/linux-64/sqlalchemy-1.4.41-py39hb9d737c_0.tar.bz2',                     local_source='/Users/jacquelinegarrahan/sandbox/lume-services/dev/local_conda_channel/linux-64/sqlalchemy-1.4.41-py39hb9d737c_0.tar.bz2'                     version='1.4.41'                 ), Dependencies(                     id=157,                     name='scipy',                     source='https://conda.anaconda.org/t/jr-ac5b1b42-c470-4696-a06b-9e98c0d40429/conda-forge/linux-64/scipy-1.9.1-py39h8ba3f38_0.tar.bz2',                     local_source='/Users/jacquelinegarrahan/sandbox/lume-services/dev/local_conda_channel/linux-64/scipy-1.9.1-py39h8ba3f38_0.tar.bz2'                     version='1.9.1'                 ), Dependencies(                     id=158,                     name='pandas',                     source='https://conda.anaconda.org/t/jr-ac5b1b42-c470-4696-a06b-9e98c0d40429/conda-forge/linux-64/pandas-1.4.4-py39h1832856_0.tar.bz2',                     local_source='/Users/jacquelinegarrahan/sandbox/lume-services/dev/local_conda_channel/linux-64/pandas-1.4.4-py39h1832856_0.tar.bz2'                     version='1.4.4'                 ), Dependencies(                     id=159,                     name='h5py',                     source='https://conda.anaconda.org/t/jr-ac5b1b42-c470-4696-a06b-9e98c0d40429/conda-forge/linux-64/h5py-3.7.0-nompi_py39hd51670d_101.tar.bz2',                     local_source='/Users/jacquelinegarrahan/sandbox/lume-services/dev/local_conda_channel/linux-64/h5py-3.7.0-nompi_py39hd51670d_101.tar.bz2'                     version='3.7.0'                 ), Dependencies(                     id=160,                     name='matplotlib-base',                     source='https://conda.anaconda.org/t/jr-ac5b1b42-c470-4696-a06b-9e98c0d40429/conda-forge/linux-64/matplotlib-base-3.5.3-py39h19d6b11_2.tar.bz2',                     local_source='/Users/jacquelinegarrahan/sandbox/lume-services/dev/local_conda_channel/linux-64/matplotlib-base-3.5.3-py39h19d6b11_2.tar.bz2'                     version='3.5.3'                 ), Dependencies(                     id=161,                     name='python-box',                     source='https://conda.anaconda.org/t/jr-ac5b1b42-c470-4696-a06b-9e98c0d40429/conda-forge/linux-64/python-box-6.0.2-py39hb9d737c_3.tar.bz2',                     local_source='/Users/jacquelinegarrahan/sandbox/lume-services/dev/local_conda_channel/linux-64/python-box-6.0.2-py39hb9d737c_3.tar.bz2'                     version='6.0.2'                 ), Dependencies(                     id=162,                     name='jinja2',                     source='https://conda.anaconda.org/t/jr-ac5b1b42-c470-4696-a06b-9e98c0d40429/conda-forge/noarch/jinja2-3.1.2-pyhd8ed1ab_1.tar.bz2',                     local_source='/Users/jacquelinegarrahan/sandbox/lume-services/dev/local_conda_channel/noarch/jinja2-3.1.2-pyhd8ed1ab_1.tar.bz2'                     version='3.1.2'                 ), Dependencies(                     id=163,                     name='dask-core',                     source='https://conda.anaconda.org/t/jr-ac5b1b42-c470-4696-a06b-9e98c0d40429/conda-forge/noarch/dask-core-2022.9.0-pyhd8ed1ab_0.tar.bz2',                     local_source='/Users/jacquelinegarrahan/sandbox/lume-services/dev/local_conda_channel/noarch/dask-core-2022.9.0-pyhd8ed1ab_0.tar.bz2'                     version='2022.9.0'                 ), Dependencies(                     id=164,                     name='lume-model',                     source='https://conda.anaconda.org/t/jr-ac5b1b42-c470-4696-a06b-9e98c0d40429/conda-forge/noarch/lume-model-1.4-pyhd8ed1ab_1.tar.bz2',                     local_source='/Users/jacquelinegarrahan/sandbox/lume-services/dev/local_conda_channel/noarch/lume-model-1.4-pyhd8ed1ab_1.tar.bz2'                     version='1.4'                 ), Dependencies(                     id=165,                     name='pyopenssl',                     source='https://conda.anaconda.org/t/jr-ac5b1b42-c470-4696-a06b-9e98c0d40429/conda-forge/noarch/pyopenssl-22.0.0-pyhd8ed1ab_0.tar.bz2',                     local_source='/Users/jacquelinegarrahan/sandbox/lume-services/dev/local_conda_channel/noarch/pyopenssl-22.0.0-pyhd8ed1ab_0.tar.bz2'                     version='22.0.0'                 ), Dependencies(                     id=166,                     name='openpmd-beamphysics',                     source='https://conda.anaconda.org/t/jr-ac5b1b42-c470-4696-a06b-9e98c0d40429/conda-forge/noarch/openpmd-beamphysics-0.6.2-pyhd8ed1ab_0.tar.bz2',                     local_source='/Users/jacquelinegarrahan/sandbox/lume-services/dev/local_conda_channel/noarch/openpmd-beamphysics-0.6.2-pyhd8ed1ab_0.tar.bz2'                     version='0.6.2'                 ), Dependencies(                     id=167,                     name='urllib3',                     source='https://conda.anaconda.org/t/jr-ac5b1b42-c470-4696-a06b-9e98c0d40429/conda-forge/noarch/urllib3-1.26.11-pyhd8ed1ab_0.tar.bz2',                     local_source='/Users/jacquelinegarrahan/sandbox/lume-services/dev/local_conda_channel/noarch/urllib3-1.26.11-pyhd8ed1ab_0.tar.bz2'                     version='1.26.11'                 ), Dependencies(                     id=168,                     name='lume-base',                     source='https://conda.anaconda.org/t/jr-ac5b1b42-c470-4696-a06b-9e98c0d40429/conda-forge/noarch/lume-base-0.2.3-pyhd8ed1ab_0.tar.bz2',                     local_source='/Users/jacquelinegarrahan/sandbox/lume-services/dev/local_conda_channel/noarch/lume-base-0.2.3-pyhd8ed1ab_0.tar.bz2'                     version='0.2.3'                 ), Dependencies(                     id=169,                     name='requests',                     source='https://conda.anaconda.org/t/jr-ac5b1b42-c470-4696-a06b-9e98c0d40429/conda-forge/noarch/requests-2.28.1-pyhd8ed1ab_1.tar.bz2',                     local_source='/Users/jacquelinegarrahan/sandbox/lume-services/dev/local_conda_channel/noarch/requests-2.28.1-pyhd8ed1ab_1.tar.bz2'                     version='2.28.1'                 ), Dependencies(                     id=170,                     name='distributed',                     source='https://conda.anaconda.org/t/jr-ac5b1b42-c470-4696-a06b-9e98c0d40429/conda-forge/noarch/distributed-2022.9.0-pyhd8ed1ab_0.tar.bz2',                     local_source='/Users/jacquelinegarrahan/sandbox/lume-services/dev/local_conda_channel/noarch/distributed-2022.9.0-pyhd8ed1ab_0.tar.bz2'                     version='2022.9.0'                 ), Dependencies(                     id=171,                     name='conda',                     source='https://conda.anaconda.org/t/jr-ac5b1b42-c470-4696-a06b-9e98c0d40429/conda-forge/linux-64/conda-4.14.0-py39hf3d152e_0.tar.bz2',                     local_source='/Users/jacquelinegarrahan/sandbox/lume-services/dev/local_conda_channel/linux-64/conda-4.14.0-py39hf3d152e_0.tar.bz2'                     version='4.14.0'                 ), Dependencies(                     id=172,                     name='docker-py',                     source='https://conda.anaconda.org/t/jr-ac5b1b42-c470-4696-a06b-9e98c0d40429/conda-forge/linux-64/docker-py-5.0.3-py39hf3d152e_2.tar.bz2',                     local_source='/Users/jacquelinegarrahan/sandbox/lume-services/dev/local_conda_channel/linux-64/docker-py-5.0.3-py39hf3d152e_2.tar.bz2'                     version='5.0.3'                 ), Dependencies(                     id=173,                     name='conda-build',                     source='https://conda.anaconda.org/t/jr-ac5b1b42-c470-4696-a06b-9e98c0d40429/conda-forge/linux-64/conda-build-3.22.0-py39hf3d152e_2.tar.bz2',                     local_source='/Users/jacquelinegarrahan/sandbox/lume-services/dev/local_conda_channel/linux-64/conda-build-3.22.0-py39hf3d152e_2.tar.bz2'                     version='3.22.0'                 ), Dependencies(                     id=174,                     name='mamba',                     source='https://conda.anaconda.org/t/jr-ac5b1b42-c470-4696-a06b-9e98c0d40429/conda-forge/linux-64/mamba-0.25.0-py39hfa8f2c8_2.tar.bz2',                     local_source='/Users/jacquelinegarrahan/sandbox/lume-services/dev/local_conda_channel/linux-64/mamba-0.25.0-py39hfa8f2c8_2.tar.bz2'                     version='0.25.0'                 ), Dependencies(                     id=175,                     name='prefect',                     source='https://conda.anaconda.org/t/jr-ac5b1b42-c470-4696-a06b-9e98c0d40429/conda-forge/noarch/prefect-1.3.1-pyhd8ed1ab_0.tar.bz2',                     local_source='/Users/jacquelinegarrahan/sandbox/lume-services/dev/local_conda_channel/noarch/prefect-1.3.1-pyhd8ed1ab_0.tar.bz2'                     version='1.3.1'                 )], flow=Flow(name='my-model', flow_id=None, project_name='test', prefect_flow=<Flow: name=\"my-model\">, parameters=None, mapped_parameters=None, task_slugs=None, labels=['lume-services'], image='jgarrahan/lume-services-prefect:latest'), model_type=None), results=None)"
      ]
     },
     "execution_count": 13,
     "metadata": {},
     "output_type": "execute_result"
    }
   ],
   "source": [
    "model"
   ]
  },
  {
   "cell_type": "code",
   "execution_count": null,
   "id": "540085e9",
   "metadata": {},
   "outputs": [],
   "source": []
  }
 ],
 "metadata": {
  "kernelspec": {
   "display_name": "Python 3 (ipykernel)",
   "language": "python",
   "name": "python3"
  },
  "language_info": {
   "codemirror_mode": {
    "name": "ipython",
    "version": 3
   },
   "file_extension": ".py",
   "mimetype": "text/x-python",
   "name": "python",
   "nbconvert_exporter": "python",
   "pygments_lexer": "ipython3",
   "version": "3.9.13"
  }
 },
 "nbformat": 4,
 "nbformat_minor": 5
}

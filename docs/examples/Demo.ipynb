{
 "cells": [
  {
   "cell_type": "markdown",
   "id": "a0aeb04c",
   "metadata": {},
   "source": [
    "# LUME-services demo\n",
    "In this notebook, we will configure LUME-services to use the service configuration used to launch our docker-compose services. Make sure you've completed all steps outlined in https://slaclab.github.io/lume-services/demo/."
   ]
  },
  {
   "cell_type": "code",
   "execution_count": 1,
   "id": "3b0cfe6a",
   "metadata": {},
   "outputs": [],
   "source": [
    "import logging\n",
    "logging.basicConfig(level=logging.INFO)  # Lets check the logs"
   ]
  },
  {
   "cell_type": "markdown",
   "id": "88cb7294",
   "metadata": {},
   "source": [
    "## Configure services\n",
    "LUME-services is packages with a configuration utility that reads environment variables and initializes services:"
   ]
  },
  {
   "cell_type": "code",
   "execution_count": 2,
   "id": "3c1e88af",
   "metadata": {},
   "outputs": [
    {
     "name": "stderr",
     "output_type": "stream",
     "text": [
      "INFO:lume_services.config:Configuring LUME-services environment...\n",
      "INFO:lume_services.config:Environment configured.\n"
     ]
    }
   ],
   "source": [
    "from lume_services import config\n",
    "config.configure()"
   ]
  },
  {
   "cell_type": "markdown",
   "id": "e14910cc",
   "metadata": {},
   "source": [
    "## if you're running this many time, creation will fail because of uniqueness... You can reset since this is a dev server"
   ]
  },
  {
   "cell_type": "code",
   "execution_count": 3,
   "id": "b1dae5e5",
   "metadata": {},
   "outputs": [],
   "source": [
    "#model_db_service._reset()"
   ]
  },
  {
   "cell_type": "markdown",
   "id": "0d4ba844",
   "metadata": {},
   "source": [
    "## Create a model\n",
    "The LUME-serives Model object handles all model operations."
   ]
  },
  {
   "cell_type": "code",
   "execution_count": 4,
   "id": "299e5321",
   "metadata": {},
   "outputs": [
    {
     "name": "stderr",
     "output_type": "stream",
     "text": [
      "INFO:lume_services.services.models.db.db:ModelDB inserting: INSERT INTO model (author, laboratory, facility, beampath, description) VALUES (:author, :laboratory, :facility, :beampath, :description)\n",
      "INFO:lume_services.services.models.db.db:Sucessfully executed: INSERT INTO model (author, laboratory, facility, beampath, description) VALUES (:author, :laboratory, :facility, :beampath, :description)\n",
      "INFO:lume_services.services.models.db.db:ModelDB selecting: SELECT model.model_id, model.created, model.author, model.laboratory, model.facility, model.beampath, model.description \n",
      "FROM model \n",
      "WHERE model.model_id = :model_id_1\n"
     ]
    },
    {
     "data": {
      "text/plain": [
       "Model(metadata=Model(                     model_id=1,                     created=datetime.datetime(2022, 9, 17, 2, 51, 58),                     author='Jackie Garrahan'),                     laboratory='slac',                     facility='lcls',                     beampath='cu_hxr',                     description='test_model'                 ), deployment=None, results=None)"
      ]
     },
     "execution_count": 4,
     "metadata": {},
     "output_type": "execute_result"
    }
   ],
   "source": [
    "from lume_services.models import Model\n",
    "\n",
    "model = Model.create_model(\n",
    "    author = \"Jackie Garrahan\",\n",
    "    laboratory = \"slac\",\n",
    "    facility = \"lcls\",\n",
    "    beampath = \"cu_hxr\",\n",
    "    description = \"test_model\"\n",
    ")\n",
    "model"
   ]
  },
  {
   "cell_type": "markdown",
   "id": "3088ad03",
   "metadata": {},
   "source": [
    "## Create a project\n",
    "Workflows are organized by the Prefect scheduler into different projects. Below, we access the configured services directly (TODO create project registry utility)"
   ]
  },
  {
   "cell_type": "code",
   "execution_count": 5,
   "id": "bcd2f83f",
   "metadata": {},
   "outputs": [
    {
     "name": "stderr",
     "output_type": "stream",
     "text": [
      "INFO:lume_services.services.models.db.db:ModelDB inserting: INSERT INTO project (project_name, description) VALUES (:project_name, :description)\n",
      "INFO:lume_services.services.models.db.db:Sucessfully executed: INSERT INTO project (project_name, description) VALUES (:project_name, :description)\n"
     ]
    }
   ],
   "source": [
    "# create a project\n",
    "model_db_service = config.context.model_db_service()\n",
    "scheduling_service = config.context.scheduling_service()\n",
    "\n",
    "project_name = model_db_service.store_project(\n",
    "    project_name=\"test\", description=\"my_description\"\n",
    ")\n",
    "scheduling_service.create_project(\"test\")"
   ]
  },
  {
   "cell_type": "markdown",
   "id": "3abbe01a",
   "metadata": {},
   "source": [
    "You can now find this project in you Prefect UI at http://localhost:8080\n",
    "\n",
    "\n",
    "![project](https://slaclab.github.io/lume-services/files/project_nav.png)"
   ]
  },
  {
   "cell_type": "markdown",
   "id": "bc23acff",
   "metadata": {},
   "source": [
    "## Create a deployment for your model"
   ]
  },
  {
   "cell_type": "code",
   "execution_count": 6,
   "id": "2346c829",
   "metadata": {},
   "outputs": [
    {
     "name": "stderr",
     "output_type": "stream",
     "text": [
      "INFO:lume_services.models.model:installing package\n",
      "INFO:lume_services.environment.solver:https://github.com/jacquelinegarrahan/my-model/releases/download/v0.0.38/my_model-0.0.38.tar.gz saved to /tmp/lume-services/sources/my_model-0.0.38.tar.gz\n",
      "INFO:lume_services.environment.solver:Uninstall complete\n",
      "INFO:lume_services.environment.solver:Installing dependencies...\n"
     ]
    },
    {
     "name": "stdout",
     "output_type": "stream",
     "text": [
      "Found existing installation: my-model 0.0.37\n",
      "Uninstalling my-model-0.0.37:\n",
      "  Successfully uninstalled my-model-0.0.37\n",
      "\n"
     ]
    },
    {
     "name": "stderr",
     "output_type": "stream",
     "text": [
      "INFO:lume_services.environment.solver:Dependency installation complete\n",
      "  Running command python setup.py egg_info\n",
      "  running egg_info\n",
      "  creating /private/var/folders/nh/g2v_nmtj7t1g94gmjtgjrk3r0000gn/T/pip-pip-egg-info-zhlew2pq/my_model.egg-info\n",
      "  writing /private/var/folders/nh/g2v_nmtj7t1g94gmjtgjrk3r0000gn/T/pip-pip-egg-info-zhlew2pq/my_model.egg-info/PKG-INFO\n",
      "  writing dependency_links to /private/var/folders/nh/g2v_nmtj7t1g94gmjtgjrk3r0000gn/T/pip-pip-egg-info-zhlew2pq/my_model.egg-info/dependency_links.txt\n",
      "  writing entry points to /private/var/folders/nh/g2v_nmtj7t1g94gmjtgjrk3r0000gn/T/pip-pip-egg-info-zhlew2pq/my_model.egg-info/entry_points.txt\n",
      "  writing requirements to /private/var/folders/nh/g2v_nmtj7t1g94gmjtgjrk3r0000gn/T/pip-pip-egg-info-zhlew2pq/my_model.egg-info/requires.txt\n",
      "  writing top-level names to /private/var/folders/nh/g2v_nmtj7t1g94gmjtgjrk3r0000gn/T/pip-pip-egg-info-zhlew2pq/my_model.egg-info/top_level.txt\n",
      "  writing manifest file '/private/var/folders/nh/g2v_nmtj7t1g94gmjtgjrk3r0000gn/T/pip-pip-egg-info-zhlew2pq/my_model.egg-info/SOURCES.txt'\n",
      "  reading manifest file '/private/var/folders/nh/g2v_nmtj7t1g94gmjtgjrk3r0000gn/T/pip-pip-egg-info-zhlew2pq/my_model.egg-info/SOURCES.txt'\n",
      "  reading manifest template 'MANIFEST.in'\n",
      "  warning: no files found matching 'LICENSE'\n",
      "  writing manifest file '/private/var/folders/nh/g2v_nmtj7t1g94gmjtgjrk3r0000gn/T/pip-pip-egg-info-zhlew2pq/my_model.egg-info/SOURCES.txt'\n",
      "  Running command python setup.py bdist_wheel\n",
      "  running bdist_wheel\n",
      "  running build\n",
      "  running build_py\n",
      "  creating build\n",
      "  creating build/lib\n",
      "  creating build/lib/my_model\n",
      "  copying my_model/_version.py -> build/lib/my_model\n",
      "  copying my_model/__init__.py -> build/lib/my_model\n",
      "  copying my_model/flow.py -> build/lib/my_model\n",
      "  copying my_model/_image.py -> build/lib/my_model\n",
      "  copying my_model/model.py -> build/lib/my_model\n",
      "  creating build/lib/my_model/tests\n",
      "  copying my_model/tests/test_flow.py -> build/lib/my_model/tests\n",
      "  copying my_model/tests/__init__.py -> build/lib/my_model/tests\n",
      "  creating build/lib/my_model/files\n",
      "  copying my_model/files/__init__.py -> build/lib/my_model/files\n",
      "  running egg_info\n",
      "  writing my_model.egg-info/PKG-INFO\n",
      "  writing dependency_links to my_model.egg-info/dependency_links.txt\n",
      "  writing entry points to my_model.egg-info/entry_points.txt\n",
      "  writing requirements to my_model.egg-info/requires.txt\n",
      "  writing top-level names to my_model.egg-info/top_level.txt\n",
      "  reading manifest file 'my_model.egg-info/SOURCES.txt'\n",
      "  reading manifest template 'MANIFEST.in'\n",
      "  warning: no files found matching 'LICENSE'\n",
      "  writing manifest file 'my_model.egg-info/SOURCES.txt'\n",
      "  copying my_model/files/variables.yml -> build/lib/my_model/files\n",
      "  UPDATING build/lib/my_model/_version.py\n",
      "  set build/lib/my_model/_version.py to '0.0.38'\n",
      "  /Users/jacquelinegarrahan/miniconda3/envs/lume-services-dev/lib/python3.9/site-packages/setuptools/command/install.py:34: SetuptoolsDeprecationWarning: setup.py install is deprecated. Use build and pip and other standards-based tools.\n",
      "    warnings.warn(\n",
      "  installing to build/bdist.macosx-10.9-x86_64/wheel\n",
      "  running install\n",
      "  running install_lib\n",
      "  creating build/bdist.macosx-10.9-x86_64\n",
      "  creating build/bdist.macosx-10.9-x86_64/wheel\n",
      "  creating build/bdist.macosx-10.9-x86_64/wheel/my_model\n",
      "  copying build/lib/my_model/_version.py -> build/bdist.macosx-10.9-x86_64/wheel/my_model\n",
      "  creating build/bdist.macosx-10.9-x86_64/wheel/my_model/tests\n",
      "  copying build/lib/my_model/tests/test_flow.py -> build/bdist.macosx-10.9-x86_64/wheel/my_model/tests\n",
      "  copying build/lib/my_model/tests/__init__.py -> build/bdist.macosx-10.9-x86_64/wheel/my_model/tests\n",
      "  copying build/lib/my_model/__init__.py -> build/bdist.macosx-10.9-x86_64/wheel/my_model\n",
      "  copying build/lib/my_model/flow.py -> build/bdist.macosx-10.9-x86_64/wheel/my_model\n",
      "  copying build/lib/my_model/_image.py -> build/bdist.macosx-10.9-x86_64/wheel/my_model\n",
      "  copying build/lib/my_model/model.py -> build/bdist.macosx-10.9-x86_64/wheel/my_model\n",
      "  creating build/bdist.macosx-10.9-x86_64/wheel/my_model/files\n",
      "  copying build/lib/my_model/files/__init__.py -> build/bdist.macosx-10.9-x86_64/wheel/my_model/files\n",
      "  copying build/lib/my_model/files/variables.yml -> build/bdist.macosx-10.9-x86_64/wheel/my_model/files\n",
      "  running install_egg_info\n",
      "  Copying my_model.egg-info to build/bdist.macosx-10.9-x86_64/wheel/my_model-0.0.38-py3.9.egg-info\n",
      "  running install_scripts\n",
      "  creating build/bdist.macosx-10.9-x86_64/wheel/my_model-0.0.38.dist-info/WHEEL\n",
      "  creating '/private/var/folders/nh/g2v_nmtj7t1g94gmjtgjrk3r0000gn/T/pip-wheel-za5by_cy/my_model-0.0.38-py3-none-any.whl' and adding 'build/bdist.macosx-10.9-x86_64/wheel' to it\n",
      "  adding 'my_model/__init__.py'\n",
      "  adding 'my_model/_image.py'\n",
      "  adding 'my_model/_version.py'\n",
      "  adding 'my_model/flow.py'\n",
      "  adding 'my_model/model.py'\n",
      "  adding 'my_model/files/__init__.py'\n",
      "  adding 'my_model/files/variables.yml'\n",
      "  adding 'my_model/tests/__init__.py'\n",
      "  adding 'my_model/tests/test_flow.py'\n",
      "  adding 'my_model-0.0.38.dist-info/METADATA'\n",
      "  adding 'my_model-0.0.38.dist-info/WHEEL'\n",
      "  adding 'my_model-0.0.38.dist-info/entry_points.txt'\n",
      "  adding 'my_model-0.0.38.dist-info/top_level.txt'\n",
      "  adding 'my_model-0.0.38.dist-info/RECORD'\n",
      "  removing build/bdist.macosx-10.9-x86_64/wheel\n",
      "INFO:lume_services.environment.solver:Dependency installation complete\n",
      "INFO:lume_services.services.models.db.db:ModelDB inserting: INSERT INTO deployment (version, package_import_name, asset_dir, source, sha256, image, is_live, model_id) VALUES (:version, :package_import_name, :asset_dir, :source, :sha256, :image, :is_live, :model_id)\n",
      "INFO:lume_services.services.models.db.db:Sucessfully executed: INSERT INTO deployment (version, package_import_name, asset_dir, source, sha256, image, is_live, model_id) VALUES (:version, :package_import_name, :asset_dir, :source, :sha256, :image, :is_live, :model_id)\n",
      "INFO:lume_services.services.scheduling.backends.server:Flow run config is not empty. Clearing existing labels and assigning                     new.\n",
      "/Users/jacquelinegarrahan/miniconda3/envs/lume-services-dev/lib/python3.9/site-packages/prefect/core/flow.py:1726: UserWarning: No result handler was specified on your Flow. Cloud features such as input caching and resuming task runs from failure may not work properly.\n",
      "  registered_flow = client.register(\n",
      "INFO:lume_services.services.models.db.db:ModelDB inserting: INSERT INTO flow (flow_id, flow_name, project_name, deployment_id) VALUES (:flow_id, :flow_name, :project_name, :deployment_id)\n",
      "INFO:lume_services.services.models.db.db:Sucessfully executed: INSERT INTO flow (flow_id, flow_name, project_name, deployment_id) VALUES (:flow_id, :flow_name, :project_name, :deployment_id)\n",
      "INFO:lume_services.models.model:Loading deployment 1\n",
      "INFO:lume_services.models.model:Loading deployment 1\n",
      "INFO:lume_services.services.models.db.db:ModelDB selecting: SELECT deployment.sha256, deployment.deployment_id, deployment.version, deployment.deploy_date, deployment.package_import_name, deployment.asset_dir, deployment.source, deployment.image, deployment.is_live, deployment.model_id \n",
      "FROM deployment \n",
      "WHERE deployment.model_id = :model_id_1 AND deployment.deployment_id = :deployment_id_1\n",
      "INFO:lume_services.models.model:Deployment loaded.\n",
      "INFO:lume_services.services.models.db.db:ModelDB selecting: SELECT flow.flow_id, flow.flow_name, flow.project_name, flow.deployment_id \n",
      "FROM flow \n",
      "WHERE flow.deployment_id = :deployment_id_1\n",
      "INFO:lume_services.services.models.db.db:ModelDB selecting: SELECT project.project_name, project.description \n",
      "FROM project \n",
      "WHERE project.project_name = :project_name_1\n",
      "INFO:lume_services.services.models.db.db:ModelDB selecting: SELECT flow_of_flows._id, flow_of_flows.parent_flow_id, flow_of_flows.flow_id, flow_of_flows.position \n",
      "FROM flow_of_flows \n",
      "WHERE flow_of_flows.parent_flow_id = :parent_flow_id_1\n"
     ]
    },
    {
     "name": "stdout",
     "output_type": "stream",
     "text": [
      "Flow URL: http://localhost:8080/default/flow/82872f15-f0cf-48fb-82f7-08eee2631795\n",
      " └── ID: 34e60fcb-1e08-455b-affd-7236e6c5efbd\n",
      " └── Project: test\n",
      " └── Labels: ['lume-services']\n"
     ]
    }
   ],
   "source": [
    "source_path = \"https://github.com/jacquelinegarrahan/my-model/releases/download/v0.0.38/my_model-0.0.38.tar.gz\"\n",
    "\n",
    "# populates local channel\n",
    "model.store_deployment(source_path, project_name=\"test\")"
   ]
  },
  {
   "cell_type": "markdown",
   "id": "690f0c1c",
   "metadata": {},
   "source": [
    "## Run the Prefect workflow directly"
   ]
  },
  {
   "cell_type": "code",
   "execution_count": null,
   "id": "514e0aeb",
   "metadata": {},
   "outputs": [],
   "source": [
    "model.deployment.flow.prefect_flow.run(**{\n",
    "                        \"input1\": 1, \n",
    "                        \"input2\": 2, \n",
    "                        \"filename\": \"/Users/jacquelinegarrahan/sandbox/lume-services/test_file.txt\", \n",
    "                        \"filesystem_identifier\":\"local\"\n",
    "    }\n",
    ")"
   ]
  },
  {
   "cell_type": "markdown",
   "id": "0fc08d87",
   "metadata": {},
   "source": [
    "## Run the workflow inside the service cluster\n",
    "We can use the model interface to directly deploy workflows. When sourcing our environment (`docs/examples/demo.env`), we defined a mount point for the file system using the alias `/lume-services/data`. Let's kick off this workflow and save the file output to that directory. \n",
    "After running the next cell, you'll be able to see the running container in your docker desktop and examine the flow using the Prefect UI at http://localhost:8080/default?flows."
   ]
  },
  {
   "cell_type": "code",
   "execution_count": 8,
   "id": "90a5769f",
   "metadata": {},
   "outputs": [],
   "source": [
    "model.run(\n",
    "    parameters={\n",
    "        \"input1\": 1, \n",
    "        \"input2\": 2, \n",
    "        \"filename\": \"/lume-services/data/test_file.txt\", \n",
    "        \"filesystem_identifier\":\"mounted\"}\n",
    ")"
   ]
  },
  {
   "cell_type": "code",
   "execution_count": null,
   "id": "b8ffa8be",
   "metadata": {},
   "outputs": [],
   "source": [
    "# TODO: RESULTS INTERFACE"
   ]
  },
  {
   "cell_type": "markdown",
   "id": "e4f26a31",
   "metadata": {},
   "source": [
    "## Load model using model id"
   ]
  },
  {
   "cell_type": "code",
   "execution_count": null,
   "id": "d6ef8e4e",
   "metadata": {},
   "outputs": [],
   "source": [
    "from lume_services.models import Model\n",
    "\n",
    "loaded_model = Model(model_id=1)"
   ]
  },
  {
   "cell_type": "code",
   "execution_count": null,
   "id": "f7a15668",
   "metadata": {},
   "outputs": [],
   "source": [
    "model.deployment"
   ]
  },
  {
   "cell_type": "code",
   "execution_count": null,
   "id": "040bb4bd",
   "metadata": {},
   "outputs": [],
   "source": [
    "loaded_model.load_deployment()"
   ]
  },
  {
   "cell_type": "code",
   "execution_count": null,
   "id": "42355476",
   "metadata": {},
   "outputs": [],
   "source": [
    "loaded_model.deployment"
   ]
  },
  {
   "cell_type": "code",
   "execution_count": null,
   "id": "06ff1d79",
   "metadata": {},
   "outputs": [],
   "source": [
    "loaded_model.run_and_return(parameters={\n",
    "                        \"input1\": \"hey\", \n",
    "                        \"input2\": \"jackie\", \n",
    "                        \"filename\": f\"/Users/jgarra/sandbox/lume-services/test_file.txt\", \n",
    "                        \"filesystem_identifier\":\"local\"\n",
    "        }\n",
    ")"
   ]
  },
  {
   "cell_type": "code",
   "execution_count": null,
   "id": "6acedc51",
   "metadata": {},
   "outputs": [],
   "source": [
    "model.get_results()"
   ]
  },
  {
   "cell_type": "code",
   "execution_count": null,
   "id": "b8472b3c",
   "metadata": {},
   "outputs": [],
   "source": [
    "import my_model\n",
    "my_model.__version__"
   ]
  },
  {
   "cell_type": "code",
   "execution_count": null,
   "id": "efd0a82e",
   "metadata": {},
   "outputs": [],
   "source": []
  }
 ],
 "metadata": {
  "kernelspec": {
   "display_name": "Python 3.9.13 ('lume-services-dev')",
   "language": "python",
   "name": "python3"
  },
  "language_info": {
   "codemirror_mode": {
    "name": "ipython",
    "version": 3
   },
   "file_extension": ".py",
   "mimetype": "text/x-python",
   "name": "python",
   "nbconvert_exporter": "python",
   "pygments_lexer": "ipython3",
   "version": "3.9.13"
  },
  "vscode": {
   "interpreter": {
    "hash": "7b1aa5d32c5360a08f3d071b8537e8759b8901de3eea112666c46651e79793b3"
   }
  }
 },
 "nbformat": 4,
 "nbformat_minor": 5
}

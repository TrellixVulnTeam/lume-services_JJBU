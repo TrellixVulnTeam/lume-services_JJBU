{
 "cells": [
  {
   "cell_type": "markdown",
   "id": "a0aeb04c",
   "metadata": {},
   "source": [
    "# LUME-services demo\n",
    "In this notebook, we will configure LUME-services to use the service configuration used to launch our docker-compose services. Make sure you've completed all steps outlined in https://slaclab.github.io/lume-services/demo/."
   ]
  },
  {
   "cell_type": "code",
   "execution_count": 1,
   "id": "3b0cfe6a",
   "metadata": {},
   "outputs": [],
   "source": [
    "import logging\n",
    "logging.basicConfig(level=logging.INFO)  # Lets check the logs"
   ]
  },
  {
   "cell_type": "markdown",
   "id": "88cb7294",
   "metadata": {},
   "source": [
    "## Configure services\n",
    "LUME-services is packages with a configuration utility that reads environment variables and initializes services:"
   ]
  },
  {
   "cell_type": "code",
   "execution_count": 2,
   "id": "3c1e88af",
   "metadata": {},
   "outputs": [
    {
     "name": "stderr",
     "output_type": "stream",
     "text": [
      "INFO:lume_services.config:Configuring LUME-services environment...\n",
      "INFO:lume_services.config:Environment configured.\n"
     ]
    }
   ],
   "source": [
    "from lume_services import config\n",
    "config.configure()"
   ]
  },
  {
   "cell_type": "markdown",
   "id": "e14910cc",
   "metadata": {},
   "source": [
    "## if you're running this many time, creation will fail because of uniqueness... You can reset since this is a dev server"
   ]
  },
  {
   "cell_type": "code",
   "execution_count": 3,
   "id": "b1dae5e5",
   "metadata": {},
   "outputs": [],
   "source": [
    "#model_db_service._reset()"
   ]
  },
  {
   "cell_type": "markdown",
   "id": "0d4ba844",
   "metadata": {},
   "source": [
    "## Create a model\n",
    "The LUME-services Model provides an API to all model services and facilitates all model operations."
   ]
  },
  {
   "cell_type": "code",
   "execution_count": 4,
   "id": "299e5321",
   "metadata": {},
   "outputs": [
    {
     "name": "stderr",
     "output_type": "stream",
     "text": [
      "INFO:lume_services.services.models.db.db:ModelDB selecting: SELECT model.model_id, model.created, model.author, model.laboratory, model.facility, model.beampath, model.description \n",
      "FROM model \n",
      "WHERE model.author = :author_1 AND model.laboratory = :laboratory_1 AND model.facility = :facility_1 AND model.beampath = :beampath_1 AND model.description = :description_1\n",
      "INFO:lume_services.services.models.db.db:ModelDB selecting: SELECT model.model_id, model.created, model.author, model.laboratory, model.facility, model.beampath, model.description \n",
      "FROM model \n",
      "WHERE model.model_id = :model_id_1\n"
     ]
    },
    {
     "data": {
      "text/plain": [
       "Model(metadata=Model(                     model_id=1,                     created=datetime.datetime(2022, 9, 28, 19, 32, 58),                     author='Jackie Garrahan'),                     laboratory='slac',                     facility='lcls',                     beampath='cu_hxr',                     description='test_model'                 ), deployment=None, results=None)"
      ]
     },
     "execution_count": 4,
     "metadata": {},
     "output_type": "execute_result"
    }
   ],
   "source": [
    "from lume_services.models import Model\n",
    "\n",
    "model = Model.create_model(\n",
    "    author = \"Jackie Garrahan\",\n",
    "    laboratory = \"slac\",\n",
    "    facility = \"lcls\",\n",
    "    beampath = \"cu_hxr\",\n",
    "    description = \"test_model\"\n",
    ")\n",
    "model"
   ]
  },
  {
   "cell_type": "markdown",
   "id": "3088ad03",
   "metadata": {},
   "source": [
    "## Create a project\n",
    "Workflows are organized by the Prefect scheduler into different projects. Below, we access the configured services directly (TODO create project registry utility)"
   ]
  },
  {
   "cell_type": "code",
   "execution_count": null,
   "id": "bcd2f83f",
   "metadata": {},
   "outputs": [],
   "source": [
    "# create a project\n",
    "model_db_service = config.context.model_db_service()\n",
    "scheduling_service = config.context.scheduling_service()\n",
    "\n",
    "project_name = model_db_service.store_project(\n",
    "    project_name=\"test\", description=\"my_description\"\n",
    ")\n",
    "scheduling_service.create_project(\"test\")"
   ]
  },
  {
   "cell_type": "markdown",
   "id": "3abbe01a",
   "metadata": {},
   "source": [
    "You can now find this project in you Prefect UI at http://localhost:8080\n",
    "\n",
    "\n",
    "![project](https://slaclab.github.io/lume-services/files/project_nav.png)"
   ]
  },
  {
   "cell_type": "markdown",
   "id": "bc23acff",
   "metadata": {},
   "source": [
    "## Create a deployment for your model\n",
    "Replace `source_path` with the path to your release tarball below:"
   ]
  },
  {
   "cell_type": "code",
   "execution_count": 6,
   "id": "2346c829",
   "metadata": {},
   "outputs": [
    {
     "name": "stderr",
     "output_type": "stream",
     "text": [
      "INFO:lume_services.models.model:installing package\n",
      "INFO:lume_services.environment.solver:https://github.com/jacquelinegarrahan/my-model/releases/download/v0.0.42/my_model-0.0.42.tar.gz saved to /tmp/lume-services/sources/my_model-0.0.42.tar.gz\n",
      "INFO:lume_services.environment.solver:Version 0.0.42 of my_model already installed.\n",
      "INFO:lume_services.services.models.db.db:ModelDB selecting: SELECT deployment.sha256, deployment.deployment_id, deployment.version, deployment.deploy_date, deployment.package_import_name, deployment.asset_dir, deployment.source, deployment.image, deployment.is_live, deployment.model_id \n",
      "FROM deployment \n",
      "WHERE deployment.model_id = :model_id_1 AND deployment.version = :version_1\n",
      "INFO:lume_services.services.models.db.db:ModelDB selecting: SELECT flow.flow_id, flow.flow_name, flow.project_name, flow.deployment_id \n",
      "FROM flow \n",
      "WHERE flow.deployment_id = :deployment_id_1\n",
      "INFO:lume_services.models.model:Loading deployment 2\n",
      "INFO:lume_services.models.model:Loading deployment 2\n",
      "INFO:lume_services.services.models.db.db:ModelDB selecting: SELECT deployment.sha256, deployment.deployment_id, deployment.version, deployment.deploy_date, deployment.package_import_name, deployment.asset_dir, deployment.source, deployment.image, deployment.is_live, deployment.model_id \n",
      "FROM deployment \n",
      "WHERE deployment.model_id = :model_id_1 AND deployment.deployment_id = :deployment_id_1\n",
      "INFO:lume_services.models.model:Deployment loaded.\n",
      "INFO:lume_services.services.models.db.db:ModelDB selecting: SELECT flow.flow_id, flow.flow_name, flow.project_name, flow.deployment_id \n",
      "FROM flow \n",
      "WHERE flow.deployment_id = :deployment_id_1\n",
      "INFO:lume_services.services.models.db.db:ModelDB selecting: SELECT project.project_name, project.description \n",
      "FROM project \n",
      "WHERE project.project_name = :project_name_1\n",
      "INFO:lume_services.services.models.db.db:ModelDB selecting: SELECT flow_of_flows._id, flow_of_flows.parent_flow_id, flow_of_flows.flow_id, flow_of_flows.position \n",
      "FROM flow_of_flows \n",
      "WHERE flow_of_flows.parent_flow_id = :parent_flow_id_1\n"
     ]
    }
   ],
   "source": [
    "source_path = \"https://github.com/jacquelinegarrahan/my-model/releases/download/v0.0.42/my_model-0.0.42.tar.gz\"\n",
    "\n",
    "# populates local channel\n",
    "model.store_deployment(source_path, project_name=\"test\")"
   ]
  },
  {
   "cell_type": "markdown",
   "id": "690f0c1c",
   "metadata": {},
   "source": [
    "## Run the Prefect workflow directly"
   ]
  },
  {
   "cell_type": "code",
   "execution_count": 7,
   "id": "514e0aeb",
   "metadata": {},
   "outputs": [
    {
     "name": "stdout",
     "output_type": "stream",
     "text": [
      "[2022-09-28 13:55:05-0700] INFO - prefect.FlowRunner | Beginning Flow run for 'my-model'\n"
     ]
    },
    {
     "name": "stderr",
     "output_type": "stream",
     "text": [
      "INFO:prefect.FlowRunner:Beginning Flow run for 'my-model'\n"
     ]
    },
    {
     "name": "stdout",
     "output_type": "stream",
     "text": [
      "[2022-09-28 13:55:05-0700] INFO - prefect.TaskRunner | Task 'configure_lume_services': Starting task run...\n"
     ]
    },
    {
     "name": "stderr",
     "output_type": "stream",
     "text": [
      "INFO:prefect.TaskRunner:Task 'configure_lume_services': Starting task run...\n",
      "INFO:lume_services.config:Configuring LUME-services environment...\n",
      "INFO:lume_services.config:Environment configured.\n"
     ]
    },
    {
     "name": "stdout",
     "output_type": "stream",
     "text": [
      "[2022-09-28 13:55:05-0700] INFO - prefect.TaskRunner | Task 'configure_lume_services': Finished task run for task with final state: 'Success'\n"
     ]
    },
    {
     "name": "stderr",
     "output_type": "stream",
     "text": [
      "INFO:prefect.TaskRunner:Task 'configure_lume_services': Finished task run for task with final state: 'Success'\n"
     ]
    },
    {
     "name": "stdout",
     "output_type": "stream",
     "text": [
      "[2022-09-28 13:55:05-0700] INFO - prefect.TaskRunner | Task 'input1': Starting task run...\n"
     ]
    },
    {
     "name": "stderr",
     "output_type": "stream",
     "text": [
      "INFO:prefect.TaskRunner:Task 'input1': Starting task run...\n"
     ]
    },
    {
     "name": "stdout",
     "output_type": "stream",
     "text": [
      "[2022-09-28 13:55:05-0700] INFO - prefect.TaskRunner | Task 'input1': Finished task run for task with final state: 'Success'\n"
     ]
    },
    {
     "name": "stderr",
     "output_type": "stream",
     "text": [
      "INFO:prefect.TaskRunner:Task 'input1': Finished task run for task with final state: 'Success'\n"
     ]
    },
    {
     "name": "stdout",
     "output_type": "stream",
     "text": [
      "[2022-09-28 13:55:05-0700] INFO - prefect.TaskRunner | Task 'check_local_execution': Starting task run...\n"
     ]
    },
    {
     "name": "stderr",
     "output_type": "stream",
     "text": [
      "INFO:prefect.TaskRunner:Task 'check_local_execution': Starting task run...\n"
     ]
    },
    {
     "name": "stdout",
     "output_type": "stream",
     "text": [
      "[2022-09-28 13:55:05-0700] INFO - prefect.TaskRunner | Task 'check_local_execution': Finished task run for task with final state: 'Success'\n"
     ]
    },
    {
     "name": "stderr",
     "output_type": "stream",
     "text": [
      "INFO:prefect.TaskRunner:Task 'check_local_execution': Finished task run for task with final state: 'Success'\n"
     ]
    },
    {
     "name": "stdout",
     "output_type": "stream",
     "text": [
      "[2022-09-28 13:55:05-0700] INFO - prefect.TaskRunner | Task 'input2': Starting task run...\n"
     ]
    },
    {
     "name": "stderr",
     "output_type": "stream",
     "text": [
      "INFO:prefect.TaskRunner:Task 'input2': Starting task run...\n"
     ]
    },
    {
     "name": "stdout",
     "output_type": "stream",
     "text": [
      "[2022-09-28 13:55:05-0700] INFO - prefect.TaskRunner | Task 'input2': Finished task run for task with final state: 'Success'\n"
     ]
    },
    {
     "name": "stderr",
     "output_type": "stream",
     "text": [
      "INFO:prefect.TaskRunner:Task 'input2': Finished task run for task with final state: 'Success'\n"
     ]
    },
    {
     "name": "stdout",
     "output_type": "stream",
     "text": [
      "[2022-09-28 13:55:06-0700] INFO - prefect.TaskRunner | Task 'filename': Starting task run...\n"
     ]
    },
    {
     "name": "stderr",
     "output_type": "stream",
     "text": [
      "INFO:prefect.TaskRunner:Task 'filename': Starting task run...\n"
     ]
    },
    {
     "name": "stdout",
     "output_type": "stream",
     "text": [
      "[2022-09-28 13:55:06-0700] INFO - prefect.TaskRunner | Task 'filename': Finished task run for task with final state: 'Success'\n"
     ]
    },
    {
     "name": "stderr",
     "output_type": "stream",
     "text": [
      "INFO:prefect.TaskRunner:Task 'filename': Finished task run for task with final state: 'Success'\n"
     ]
    },
    {
     "name": "stdout",
     "output_type": "stream",
     "text": [
      "[2022-09-28 13:55:06-0700] INFO - prefect.TaskRunner | Task 'filesystem_identifier': Starting task run...\n"
     ]
    },
    {
     "name": "stderr",
     "output_type": "stream",
     "text": [
      "INFO:prefect.TaskRunner:Task 'filesystem_identifier': Starting task run...\n"
     ]
    },
    {
     "name": "stdout",
     "output_type": "stream",
     "text": [
      "[2022-09-28 13:55:06-0700] INFO - prefect.TaskRunner | Task 'filesystem_identifier': Finished task run for task with final state: 'Success'\n"
     ]
    },
    {
     "name": "stderr",
     "output_type": "stream",
     "text": [
      "INFO:prefect.TaskRunner:Task 'filesystem_identifier': Finished task run for task with final state: 'Success'\n"
     ]
    },
    {
     "name": "stdout",
     "output_type": "stream",
     "text": [
      "[2022-09-28 13:55:06-0700] INFO - prefect.TaskRunner | Task 'case(False)': Starting task run...\n"
     ]
    },
    {
     "name": "stderr",
     "output_type": "stream",
     "text": [
      "INFO:prefect.TaskRunner:Task 'case(False)': Starting task run...\n"
     ]
    },
    {
     "name": "stdout",
     "output_type": "stream",
     "text": [
      "[2022-09-28 13:55:06-0700] INFO - prefect.TaskRunner | Task 'case(False)': Finished task run for task with final state: 'Success'\n"
     ]
    },
    {
     "name": "stderr",
     "output_type": "stream",
     "text": [
      "INFO:prefect.TaskRunner:Task 'case(False)': Finished task run for task with final state: 'Success'\n"
     ]
    },
    {
     "name": "stdout",
     "output_type": "stream",
     "text": [
      "[2022-09-28 13:55:06-0700] INFO - prefect.TaskRunner | Task 'List': Starting task run...\n"
     ]
    },
    {
     "name": "stderr",
     "output_type": "stream",
     "text": [
      "INFO:prefect.TaskRunner:Task 'List': Starting task run...\n"
     ]
    },
    {
     "name": "stdout",
     "output_type": "stream",
     "text": [
      "[2022-09-28 13:55:06-0700] INFO - prefect.TaskRunner | Task 'List': Finished task run for task with final state: 'Success'\n"
     ]
    },
    {
     "name": "stderr",
     "output_type": "stream",
     "text": [
      "INFO:prefect.TaskRunner:Task 'List': Finished task run for task with final state: 'Success'\n"
     ]
    },
    {
     "name": "stdout",
     "output_type": "stream",
     "text": [
      "[2022-09-28 13:55:06-0700] INFO - prefect.TaskRunner | Task 'Dict': Starting task run...\n"
     ]
    },
    {
     "name": "stderr",
     "output_type": "stream",
     "text": [
      "INFO:prefect.TaskRunner:Task 'Dict': Starting task run...\n"
     ]
    },
    {
     "name": "stdout",
     "output_type": "stream",
     "text": [
      "[2022-09-28 13:55:06-0700] INFO - prefect.TaskRunner | Task 'Dict': Finished task run for task with final state: 'Success'\n"
     ]
    },
    {
     "name": "stderr",
     "output_type": "stream",
     "text": [
      "INFO:prefect.TaskRunner:Task 'Dict': Finished task run for task with final state: 'Success'\n"
     ]
    },
    {
     "name": "stdout",
     "output_type": "stream",
     "text": [
      "[2022-09-28 13:55:06-0700] INFO - prefect.TaskRunner | Task 'prepare_lume_model_variables': Starting task run...\n"
     ]
    },
    {
     "name": "stderr",
     "output_type": "stream",
     "text": [
      "INFO:prefect.TaskRunner:Task 'prepare_lume_model_variables': Starting task run...\n"
     ]
    },
    {
     "name": "stdout",
     "output_type": "stream",
     "text": [
      "[2022-09-28 13:55:06-0700] INFO - prefect.TaskRunner | Task 'prepare_lume_model_variables': Finished task run for task with final state: 'Success'\n"
     ]
    },
    {
     "name": "stderr",
     "output_type": "stream",
     "text": [
      "INFO:prefect.TaskRunner:Task 'prepare_lume_model_variables': Finished task run for task with final state: 'Success'\n"
     ]
    },
    {
     "name": "stdout",
     "output_type": "stream",
     "text": [
      "[2022-09-28 13:55:06-0700] INFO - prefect.TaskRunner | Task 'evaluate': Starting task run...\n"
     ]
    },
    {
     "name": "stderr",
     "output_type": "stream",
     "text": [
      "INFO:prefect.TaskRunner:Task 'evaluate': Starting task run...\n"
     ]
    },
    {
     "name": "stdout",
     "output_type": "stream",
     "text": [
      "[2022-09-28 13:55:06-0700] INFO - prefect.TaskRunner | Task 'evaluate': Finished task run for task with final state: 'Success'\n"
     ]
    },
    {
     "name": "stderr",
     "output_type": "stream",
     "text": [
      "INFO:prefect.TaskRunner:Task 'evaluate': Finished task run for task with final state: 'Success'\n"
     ]
    },
    {
     "name": "stdout",
     "output_type": "stream",
     "text": [
      "[2022-09-28 13:55:06-0700] INFO - prefect.TaskRunner | Task 'format_file': Starting task run...\n"
     ]
    },
    {
     "name": "stderr",
     "output_type": "stream",
     "text": [
      "INFO:prefect.TaskRunner:Task 'format_file': Starting task run...\n"
     ]
    },
    {
     "name": "stdout",
     "output_type": "stream",
     "text": [
      "[2022-09-28 13:55:06-0700] INFO - prefect.TaskRunner | Task 'format_file': Finished task run for task with final state: 'Success'\n"
     ]
    },
    {
     "name": "stderr",
     "output_type": "stream",
     "text": [
      "INFO:prefect.TaskRunner:Task 'format_file': Finished task run for task with final state: 'Success'\n"
     ]
    },
    {
     "name": "stdout",
     "output_type": "stream",
     "text": [
      "[2022-09-28 13:55:06-0700] INFO - prefect.TaskRunner | Task 'format_result': Starting task run...\n"
     ]
    },
    {
     "name": "stderr",
     "output_type": "stream",
     "text": [
      "INFO:prefect.TaskRunner:Task 'format_result': Starting task run...\n"
     ]
    },
    {
     "name": "stdout",
     "output_type": "stream",
     "text": [
      "[2022-09-28 13:55:06-0700] INFO - prefect.TaskRunner | Task 'format_result': Finished task run for task with final state: 'Success'\n"
     ]
    },
    {
     "name": "stderr",
     "output_type": "stream",
     "text": [
      "INFO:prefect.TaskRunner:Task 'format_result': Finished task run for task with final state: 'Success'\n"
     ]
    },
    {
     "name": "stdout",
     "output_type": "stream",
     "text": [
      "[2022-09-28 13:55:06-0700] INFO - prefect.TaskRunner | Task 'save_db_result': Starting task run...\n"
     ]
    },
    {
     "name": "stderr",
     "output_type": "stream",
     "text": [
      "INFO:prefect.TaskRunner:Task 'save_db_result': Starting task run...\n"
     ]
    },
    {
     "name": "stdout",
     "output_type": "stream",
     "text": [
      "[2022-09-28 13:55:06-0700] INFO - prefect.TaskRunner | Task 'save_db_result': Finished task run for task with final state: 'Success'\n"
     ]
    },
    {
     "name": "stderr",
     "output_type": "stream",
     "text": [
      "INFO:prefect.TaskRunner:Task 'save_db_result': Finished task run for task with final state: 'Success'\n"
     ]
    },
    {
     "name": "stdout",
     "output_type": "stream",
     "text": [
      "[2022-09-28 13:55:06-0700] INFO - prefect.TaskRunner | Task 'save_file': Starting task run...\n"
     ]
    },
    {
     "name": "stderr",
     "output_type": "stream",
     "text": [
      "INFO:prefect.TaskRunner:Task 'save_file': Starting task run...\n"
     ]
    },
    {
     "name": "stdout",
     "output_type": "stream",
     "text": [
      "[2022-09-28 13:55:06-0700] INFO - prefect.TaskRunner | Task 'save_file': Finished task run for task with final state: 'Success'\n"
     ]
    },
    {
     "name": "stderr",
     "output_type": "stream",
     "text": [
      "INFO:prefect.TaskRunner:Task 'save_file': Finished task run for task with final state: 'Success'\n"
     ]
    },
    {
     "name": "stdout",
     "output_type": "stream",
     "text": [
      "[2022-09-28 13:55:06-0700] INFO - prefect.FlowRunner | Flow run SUCCESS: all reference tasks succeeded\n"
     ]
    },
    {
     "name": "stderr",
     "output_type": "stream",
     "text": [
      "INFO:prefect.FlowRunner:Flow run SUCCESS: all reference tasks succeeded\n"
     ]
    }
   ],
   "source": [
    "flow_run = model.deployment.flow.prefect_flow.run(**{\n",
    "                        \"input1\": 1, \n",
    "                        \"input2\": 2, \n",
    "                        \"filename\": \"test_file.txt\", \n",
    "                        \"filesystem_identifier\":\"local\"\n",
    "    }\n",
    ")"
   ]
  },
  {
   "cell_type": "markdown",
   "id": "0fc08d87",
   "metadata": {},
   "source": [
    "## Run the workflow inside the service cluster\n",
    "We can use the model interface to directly deploy workflows. When sourcing our environment (`docs/examples/demo.env`), we defined a mount point for the file system using the alias `/lume-services/data`. Let's kick off this workflow and save the file output to that directory. \n",
    "After running the next cell, you'll be able to see the running container in your docker desktop and examine the flow using the Prefect UI at http://localhost:8080/default?flows."
   ]
  },
  {
   "cell_type": "code",
   "execution_count": 8,
   "id": "046085ea",
   "metadata": {},
   "outputs": [],
   "source": [
    "task=model.deployment.flow.prefect_flow.get_tasks(name=\"save_db_result\")[0]"
   ]
  },
  {
   "cell_type": "code",
   "execution_count": 9,
   "id": "b5bbef66",
   "metadata": {},
   "outputs": [
    {
     "data": {
      "text/plain": [
       "{'result_type_string': 'lume_services.results.generic:Result',\n",
       " 'query': {'unique_hash': '9e39546869490f71b0683ef7a1a16f8e'}}"
      ]
     },
     "execution_count": 9,
     "metadata": {},
     "output_type": "execute_result"
    }
   ],
   "source": [
    "flow_run.result[task].load_result().result"
   ]
  },
  {
   "cell_type": "code",
   "execution_count": 10,
   "id": "90a5769f",
   "metadata": {},
   "outputs": [],
   "source": [
    "model.run(\n",
    "    parameters={\n",
    "        \"input1\": 1, \n",
    "        \"input2\": 2, \n",
    "        \"filename\": \"/lume-services/data/test_file.txt\", \n",
    "        \"filesystem_identifier\":\"mounted\"}\n",
    ")"
   ]
  },
  {
   "cell_type": "markdown",
   "id": "409851f9",
   "metadata": {},
   "source": [
    "# Get results:"
   ]
  },
  {
   "cell_type": "code",
   "execution_count": 11,
   "id": "b8ffa8be",
   "metadata": {},
   "outputs": [
    {
     "data": {
      "text/plain": [
       "[Result(model_type='generic', id='6334a263d8f9468b948635d6', flow_id='f14310fa-633f-4e66-9b48-36a24bd65787', inputs={'input1': 1.0, 'input2': 2.0}, outputs={'output1': array([[1.8205216 , 1.87573707, 1.31580732, ..., 1.47352911, 1.54806234,\n",
       "         1.50754862],\n",
       "        [1.19381883, 1.49009244, 1.13622791, ..., 1.92061284, 1.51974611,\n",
       "         1.10668552],\n",
       "        [1.27128172, 1.55534337, 1.65552294, ..., 1.6463503 , 1.49166613,\n",
       "         1.62441884],\n",
       "        ...,\n",
       "        [1.9686497 , 1.85915591, 1.07250613, ..., 1.75061297, 1.31430971,\n",
       "         1.1109343 ],\n",
       "        [1.22910587, 1.05297709, 1.40537252, ..., 1.81010662, 1.39598882,\n",
       "         1.5787685 ],\n",
       "        [1.15467431, 1.72622978, 1.76217663, ..., 1.81354314, 1.47558494,\n",
       "         1.94026862]]), 'output2': 1.0, 'output3': 2.0}, date_modified=datetime.datetime(2022, 9, 28, 19, 37, 4, 838000), unique_on=['inputs', 'outputs', 'flow_id'], unique_hash='ef83125284df7dfeaad201b193bee95e', result_type_string='lume_services.results.generic:Result'),\n",
       " Result(model_type='generic', id='6334a3557ee027c506f1bb97', flow_id='f14310fa-633f-4e66-9b48-36a24bd65787', inputs={'input1': 1.0, 'input2': 2.0}, outputs={'output1': array([[1.8594921 , 1.97022097, 1.47723738, ..., 1.62742804, 1.54499039,\n",
       "         1.42278342],\n",
       "        [1.87645854, 1.66432991, 1.63593171, ..., 1.04509517, 1.24510153,\n",
       "         1.08602485],\n",
       "        [1.87894026, 1.44567783, 1.97969772, ..., 1.77177286, 1.62943688,\n",
       "         1.11356158],\n",
       "        ...,\n",
       "        [1.61929865, 1.65817091, 1.59816873, ..., 1.44419846, 1.3190722 ,\n",
       "         1.52559688],\n",
       "        [1.91845013, 1.40511815, 1.10697831, ..., 1.23607491, 1.23422154,\n",
       "         1.88480589],\n",
       "        [1.6978588 , 1.95063723, 1.35563946, ..., 1.2433425 , 1.70010779,\n",
       "         1.6644911 ]]), 'output2': 1.0, 'output3': 2.0}, date_modified=datetime.datetime(2022, 9, 28, 19, 41, 6, 989000), unique_on=['inputs', 'outputs', 'flow_id'], unique_hash='f4686ede779b73bfe1423e1c20f3ecc9', result_type_string='lume_services.results.generic:Result'),\n",
       " Result(model_type='generic', id='6334a3dc7cdddc147cdd1b41', flow_id='f14310fa-633f-4e66-9b48-36a24bd65787', inputs={'input1': 1.0, 'input2': 2.0}, outputs={'output1': array([[1.78381116, 1.3434368 , 1.6640135 , ..., 1.78728805, 1.70645635,\n",
       "         1.20106271],\n",
       "        [1.28868058, 1.44376877, 1.11841778, ..., 1.31486674, 1.52539838,\n",
       "         1.90778137],\n",
       "        [1.84756057, 1.75261218, 1.72401684, ..., 1.53893045, 1.41475875,\n",
       "         1.56437354],\n",
       "        ...,\n",
       "        [1.61417754, 1.05644642, 1.27341991, ..., 1.27765858, 1.73725242,\n",
       "         1.67809615],\n",
       "        [1.49164052, 1.11719322, 1.7385635 , ..., 1.76050421, 1.49222184,\n",
       "         1.5456081 ],\n",
       "        [1.47123582, 1.11268804, 1.11147594, ..., 1.60806392, 1.26685592,\n",
       "         1.55850419]]), 'output2': 1.0, 'output3': 2.0}, date_modified=datetime.datetime(2022, 9, 28, 19, 43, 22, 873000), unique_on=['inputs', 'outputs', 'flow_id'], unique_hash='1b123234753e1b730e16038484a9c16d', result_type_string='lume_services.results.generic:Result'),\n",
       " Result(model_type='generic', id='6334a415010beb33a9950e42', flow_id='f14310fa-633f-4e66-9b48-36a24bd65787', inputs={'input1': 1.0, 'input2': 2.0}, outputs={'output1': array([[1.96572296, 1.93734031, 1.34691221, ..., 1.46174149, 1.63517251,\n",
       "         1.34706809],\n",
       "        [1.77508946, 1.98444542, 1.16333936, ..., 1.39274506, 1.92970367,\n",
       "         1.47172055],\n",
       "        [1.836003  , 1.64636259, 1.4945614 , ..., 1.73626654, 1.38380695,\n",
       "         1.57440189],\n",
       "        ...,\n",
       "        [1.16379507, 1.75353301, 1.18172337, ..., 1.19264058, 1.66065615,\n",
       "         1.21380243],\n",
       "        [1.50616779, 1.97258634, 1.68460044, ..., 1.98805728, 1.67253878,\n",
       "         1.44030819],\n",
       "        [1.73264913, 1.93385373, 1.18416501, ..., 1.39302381, 1.5954632 ,\n",
       "         1.50872213]]), 'output2': 1.0, 'output3': 2.0}, date_modified=datetime.datetime(2022, 9, 28, 19, 44, 19, 275000), unique_on=['inputs', 'outputs', 'flow_id'], unique_hash='31617d7af1975c0c9e7023d59dbdf1fc', result_type_string='lume_services.results.generic:Result'),\n",
       " Result(model_type='generic', id='6334a44317c25b47b1634a4b', flow_id='f14310fa-633f-4e66-9b48-36a24bd65787', inputs={'input1': 1.0, 'input2': 2.0}, outputs={'output1': array([[1.02495537, 1.79570561, 1.16870983, ..., 1.50220108, 1.36968052,\n",
       "         1.93402235],\n",
       "        [1.09573687, 1.08129204, 1.03912165, ..., 1.7989874 , 1.39730043,\n",
       "         1.43970842],\n",
       "        [1.91270277, 1.82866121, 1.94365626, ..., 1.18538151, 1.52721817,\n",
       "         1.93180353],\n",
       "        ...,\n",
       "        [1.52980686, 1.23068562, 1.13971632, ..., 1.73534365, 1.92394433,\n",
       "         1.74054986],\n",
       "        [1.38405335, 1.32854939, 1.36396107, ..., 1.99470698, 1.1359584 ,\n",
       "         1.1709983 ],\n",
       "        [1.41226964, 1.99939341, 1.28862021, ..., 1.68199376, 1.92759777,\n",
       "         1.91384439]]), 'output2': 1.0, 'output3': 2.0}, date_modified=datetime.datetime(2022, 9, 28, 19, 45, 4, 945000), unique_on=['inputs', 'outputs', 'flow_id'], unique_hash='d7675b858df4f7b92ea5bc75f1bec212', result_type_string='lume_services.results.generic:Result'),\n",
       " Result(model_type='generic', id='6334a530abc4b7c193b70c47', flow_id='f14310fa-633f-4e66-9b48-36a24bd65787', inputs={'input1': 1.0, 'input2': 2.0}, outputs={'output1': array([[1.99318103, 1.98554424, 1.40406041, ..., 1.88070795, 1.52919677,\n",
       "         1.84031528],\n",
       "        [1.70109429, 1.84907787, 1.16651943, ..., 1.2242899 , 1.76009541,\n",
       "         1.32046986],\n",
       "        [1.01817511, 1.45261026, 1.5497577 , ..., 1.15118815, 1.62273589,\n",
       "         1.22129677],\n",
       "        ...,\n",
       "        [1.15004529, 1.71190669, 1.74956747, ..., 1.23876564, 1.31588381,\n",
       "         1.12377002],\n",
       "        [1.83847463, 1.43701155, 1.57053527, ..., 1.14377983, 1.68651349,\n",
       "         1.14456553],\n",
       "        [1.8223416 , 1.76867612, 1.66009107, ..., 1.78547024, 1.41380809,\n",
       "         1.37376085]]), 'output2': 1.0, 'output3': 2.0}, date_modified=datetime.datetime(2022, 9, 28, 19, 49, 2, 182000), unique_on=['inputs', 'outputs', 'flow_id'], unique_hash='c1f8505027930a36a58444349742cbe5', result_type_string='lume_services.results.generic:Result'),\n",
       " Result(model_type='generic', id='6334a63bcb53f52fcf004d0d', flow_id='f14310fa-633f-4e66-9b48-36a24bd65787', inputs={'input1': 1.0, 'input2': 2.0}, outputs={'output1': array([[1.58972073, 1.19516831, 1.533854  , ..., 1.7085988 , 1.95966514,\n",
       "         1.64023363],\n",
       "        [1.6604129 , 1.5682328 , 1.81252883, ..., 1.70819089, 1.09527556,\n",
       "         1.75607712],\n",
       "        [1.95680275, 1.25320197, 1.95660091, ..., 1.51606093, 1.36183474,\n",
       "         1.79977783],\n",
       "        ...,\n",
       "        [1.80930364, 1.04752348, 1.30224233, ..., 1.43275509, 1.8632011 ,\n",
       "         1.33304391],\n",
       "        [1.74701648, 1.40721048, 1.67373177, ..., 1.5258517 , 1.61146188,\n",
       "         1.80094909],\n",
       "        [1.19020998, 1.54379596, 1.92780854, ..., 1.03565026, 1.12360196,\n",
       "         1.35571732]]), 'output2': 1.0, 'output3': 2.0}, date_modified=datetime.datetime(2022, 9, 28, 19, 53, 28, 744000), unique_on=['inputs', 'outputs', 'flow_id'], unique_hash='11bb70000277ac024a6f09b73298cced', result_type_string='lume_services.results.generic:Result'),\n",
       " Result(model_type='generic', id='6334a67da1d6702dfdd1a1b5', flow_id='f14310fa-633f-4e66-9b48-36a24bd65787', inputs={'input1': 1.0, 'input2': 2.0}, outputs={'output1': array([[1.16366746, 1.44125771, 1.6773502 , ..., 1.62972872, 1.38963858,\n",
       "         1.23847336],\n",
       "        [1.33944372, 1.31589157, 1.2420689 , ..., 1.5230345 , 1.21921215,\n",
       "         1.35352572],\n",
       "        [1.43828388, 1.19035619, 1.5567849 , ..., 1.93724937, 1.68543805,\n",
       "         1.87085072],\n",
       "        ...,\n",
       "        [1.00808113, 1.9303748 , 1.76680075, ..., 1.1294598 , 1.93345201,\n",
       "         1.39120181],\n",
       "        [1.59043127, 1.57863681, 1.03228853, ..., 1.55343289, 1.16325354,\n",
       "         1.07694322],\n",
       "        [1.10708353, 1.92138722, 1.19828117, ..., 1.9604041 , 1.32796092,\n",
       "         1.65646644]]), 'output2': 1.0, 'output3': 2.0}, date_modified=datetime.datetime(2022, 9, 28, 19, 54, 35, 63000), unique_on=['inputs', 'outputs', 'flow_id'], unique_hash='f8d388a4d7401b9312ff14a462cb975d', result_type_string='lume_services.results.generic:Result'),\n",
       " Result(model_type='generic', id='6334a6a0ac96a4a07866551b', flow_id='f14310fa-633f-4e66-9b48-36a24bd65787', inputs={'input1': 1.0, 'input2': 2.0}, outputs={'output1': array([[1.96926854, 1.73611921, 1.57500089, ..., 1.4423499 , 1.52899036,\n",
       "         1.90642988],\n",
       "        [1.14314889, 1.70531247, 1.93498641, ..., 1.49873785, 1.21878983,\n",
       "         1.96004643],\n",
       "        [1.50731972, 1.14232388, 1.16986805, ..., 1.28458963, 1.917785  ,\n",
       "         1.70277313],\n",
       "        ...,\n",
       "        [1.86842937, 1.66534994, 1.72804489, ..., 1.2606352 , 1.15993791,\n",
       "         1.22563431],\n",
       "        [1.32690963, 1.91811046, 1.94627789, ..., 1.57040576, 1.37534531,\n",
       "         1.20453559],\n",
       "        [1.6686941 , 1.62147958, 1.45152876, ..., 1.96331033, 1.37411938,\n",
       "         1.25874328]]), 'output2': 1.0, 'output3': 2.0}, date_modified=datetime.datetime(2022, 9, 28, 19, 55, 10, 782000), unique_on=['inputs', 'outputs', 'flow_id'], unique_hash='d019e294cd4ebffd423dd9fe87e1d2e6', result_type_string='lume_services.results.generic:Result'),\n",
       " Result(model_type='generic', id='6334a78f68626d4e752fe470', flow_id='f14310fa-633f-4e66-9b48-36a24bd65787', inputs={'input1': 1.0, 'input2': 2.0}, outputs={'output1': array([[1.29431328, 1.77660312, 1.91026901, ..., 1.48508031, 1.93965653,\n",
       "         1.36654366],\n",
       "        [1.06606773, 1.65532423, 1.23924931, ..., 1.52238828, 1.59245876,\n",
       "         1.79334832],\n",
       "        [1.55302606, 1.35342475, 1.71566286, ..., 1.79767439, 1.17185779,\n",
       "         1.45228182],\n",
       "        ...,\n",
       "        [1.4039219 , 1.2634439 , 1.24830158, ..., 1.56629154, 1.01043579,\n",
       "         1.88658645],\n",
       "        [1.12312927, 1.65628304, 1.42710847, ..., 1.05120761, 1.1729605 ,\n",
       "         1.62276996],\n",
       "        [1.20286426, 1.23545605, 1.47076607, ..., 1.41474846, 1.09013045,\n",
       "         1.44991515]]), 'output2': 1.0, 'output3': 2.0}, date_modified=datetime.datetime(2022, 9, 28, 19, 59, 9, 176000), unique_on=['inputs', 'outputs', 'flow_id'], unique_hash='0199cb2d1126cd828eefa913a5ed351d', result_type_string='lume_services.results.generic:Result'),\n",
       " Result(model_type='generic', id='6334a8218ed489559f898273', flow_id='f14310fa-633f-4e66-9b48-36a24bd65787', inputs={'input1': 1.0, 'input2': 2.0}, outputs={'output1': array([[1.8651166 , 1.57577782, 1.30551245, ..., 1.11224958, 1.09777025,\n",
       "         1.12400347],\n",
       "        [1.80846175, 1.69671518, 1.06897477, ..., 1.99213336, 1.05441481,\n",
       "         1.91400738],\n",
       "        [1.59791838, 1.30060131, 1.37772394, ..., 1.70927108, 1.95776596,\n",
       "         1.94284352],\n",
       "        ...,\n",
       "        [1.78281465, 1.93194041, 1.91027731, ..., 1.85441452, 1.79567591,\n",
       "         1.62827953],\n",
       "        [1.93153774, 1.57351884, 1.81851047, ..., 1.94451391, 1.92155736,\n",
       "         1.54768571],\n",
       "        [1.3646055 , 1.68911179, 1.68023682, ..., 1.67688415, 1.55515216,\n",
       "         1.89860658]]), 'output2': 1.0, 'output3': 2.0}, date_modified=datetime.datetime(2022, 9, 28, 20, 1, 35, 605000), unique_on=['inputs', 'outputs', 'flow_id'], unique_hash='5d45516d195a7476e3367dbbb6e53453', result_type_string='lume_services.results.generic:Result'),\n",
       " Result(model_type='generic', id='6334a8be774c8379f4d2afb3', flow_id='f14310fa-633f-4e66-9b48-36a24bd65787', inputs={'input1': 1.0, 'input2': 2.0}, outputs={'output1': array([[1.41712526, 1.92475564, 1.29974949, ..., 1.53643252, 1.78532131,\n",
       "         1.17534499],\n",
       "        [1.13298905, 1.99765519, 1.73555186, ..., 1.79478234, 1.79913164,\n",
       "         1.72309728],\n",
       "        [1.21295639, 1.76924881, 1.31656739, ..., 1.7688891 , 1.08781739,\n",
       "         1.80615156],\n",
       "        ...,\n",
       "        [1.76172158, 1.26025813, 1.44986316, ..., 1.31314931, 1.93527106,\n",
       "         1.53275948],\n",
       "        [1.28137789, 1.06745729, 1.82742597, ..., 1.93634722, 1.61716563,\n",
       "         1.04584486],\n",
       "        [1.88416488, 1.73099952, 1.01939327, ..., 1.60459604, 1.26959979,\n",
       "         1.85565976]]), 'output2': 1.0, 'output3': 2.0}, date_modified=datetime.datetime(2022, 9, 28, 20, 4, 12, 28000), unique_on=['inputs', 'outputs', 'flow_id'], unique_hash='e087b5c95e93374fce0ecad613aafbb8', result_type_string='lume_services.results.generic:Result'),\n",
       " Result(model_type='generic', id='6334a8c6aeed376181a04305', flow_id='f14310fa-633f-4e66-9b48-36a24bd65787', inputs={'input1': 1.0, 'input2': 2.0}, outputs={'output1': array([[1.75089266, 1.77337933, 1.95102288, ..., 1.11289018, 1.13822518,\n",
       "         1.94982228],\n",
       "        [1.51916943, 1.60442082, 1.28517422, ..., 1.05508387, 1.87948441,\n",
       "         1.04954625],\n",
       "        [1.18662124, 1.02310431, 1.57358161, ..., 1.94136468, 1.63307366,\n",
       "         1.21567135],\n",
       "        ...,\n",
       "        [1.74360197, 1.37048674, 1.36296151, ..., 1.26465836, 1.56457597,\n",
       "         1.06949116],\n",
       "        [1.67122388, 1.67385374, 1.42883298, ..., 1.89560001, 1.48236558,\n",
       "         1.96686842],\n",
       "        [1.21594   , 1.68329656, 1.14372472, ..., 1.60334382, 1.40111202,\n",
       "         1.85417213]]), 'output2': 1.0, 'output3': 2.0}, date_modified=datetime.datetime(2022, 9, 28, 20, 4, 20, 120000), unique_on=['inputs', 'outputs', 'flow_id'], unique_hash='84a8dbc14fe8ddda5c3364d00e33d6f2', result_type_string='lume_services.results.generic:Result'),\n",
       " Result(model_type='generic', id='6334a93a2c2dcd532b20ecc8', flow_id='f14310fa-633f-4e66-9b48-36a24bd65787', inputs={'input1': 1.0, 'input2': 2.0}, outputs={'output1': array([[1.8639447 , 1.79904577, 1.22788394, ..., 1.6766182 , 1.18242507,\n",
       "         1.60248869],\n",
       "        [1.48390634, 1.29194215, 1.76799899, ..., 1.92277421, 1.96218176,\n",
       "         1.63384387],\n",
       "        [1.3782089 , 1.71375984, 1.51690315, ..., 1.3723187 , 1.35908995,\n",
       "         1.30642585],\n",
       "        ...,\n",
       "        [1.48835388, 1.97944481, 1.50529064, ..., 1.69712717, 1.78608547,\n",
       "         1.44201581],\n",
       "        [1.88411222, 1.57867355, 1.92307244, ..., 1.24288631, 1.99861738,\n",
       "         1.03652973],\n",
       "        [1.5498972 , 1.89249289, 1.12527268, ..., 1.78365596, 1.36806933,\n",
       "         1.75593325]]), 'output2': 1.0, 'output3': 2.0}, date_modified=datetime.datetime(2022, 9, 28, 20, 6, 16, 224000), unique_on=['inputs', 'outputs', 'flow_id'], unique_hash='347f9a583365e9c118d6c1a46dbe9156', result_type_string='lume_services.results.generic:Result'),\n",
       " Result(model_type='generic', id='6334a93e43885f67e624e51e', flow_id='f14310fa-633f-4e66-9b48-36a24bd65787', inputs={'input1': 1.0, 'input2': 2.0}, outputs={'output1': array([[1.73523898, 1.21855054, 1.27420987, ..., 1.87661809, 1.29711921,\n",
       "         1.95801075],\n",
       "        [1.22278477, 1.1560855 , 1.95995892, ..., 1.50133553, 1.54432379,\n",
       "         1.8274173 ],\n",
       "        [1.99345984, 1.97250977, 1.79088081, ..., 1.71081291, 1.43325529,\n",
       "         1.39146011],\n",
       "        ...,\n",
       "        [1.22631023, 1.66568203, 1.56733702, ..., 1.51633661, 1.28782939,\n",
       "         1.66639125],\n",
       "        [1.92659412, 1.17984519, 1.78525949, ..., 1.80786099, 1.16522968,\n",
       "         1.31109838],\n",
       "        [1.33615311, 1.01297812, 1.38841562, ..., 1.81927225, 1.37807609,\n",
       "         1.195952  ]]), 'output2': 1.0, 'output3': 2.0}, date_modified=datetime.datetime(2022, 9, 28, 20, 6, 20, 435000), unique_on=['inputs', 'outputs', 'flow_id'], unique_hash='483550aabc0203856caea0467228d46f', result_type_string='lume_services.results.generic:Result'),\n",
       " Result(model_type='generic', id='6334aa357a6235879b8bcb04', flow_id='f14310fa-633f-4e66-9b48-36a24bd65787', inputs={'input1': 1.0, 'input2': 2.0}, outputs={'output1': array([[1.01573519, 1.29217412, 1.89230434, ..., 1.01299289, 1.27502647,\n",
       "         1.25205993],\n",
       "        [1.2786689 , 1.35093026, 1.06560971, ..., 1.53813939, 1.33199141,\n",
       "         1.32750415],\n",
       "        [1.85013339, 1.01363826, 1.69621374, ..., 1.21834725, 1.78849007,\n",
       "         1.35901627],\n",
       "        ...,\n",
       "        [1.67882241, 1.56500324, 1.2277866 , ..., 1.86846659, 1.63318263,\n",
       "         1.56760532],\n",
       "        [1.5043444 , 1.60602692, 1.76954374, ..., 1.55072328, 1.45475156,\n",
       "         1.96964813],\n",
       "        [1.03239808, 1.44672376, 1.31845703, ..., 1.60354437, 1.6677387 ,\n",
       "         1.05272516]]), 'output2': 1.0, 'output3': 2.0}, date_modified=datetime.datetime(2022, 9, 28, 20, 10, 26, 936000), unique_on=['inputs', 'outputs', 'flow_id'], unique_hash='dc2478447a24c7dbd268e9f1b2c547f7', result_type_string='lume_services.results.generic:Result'),\n",
       " Result(model_type='generic', id='6334aa4fec5a10572b6b41cf', flow_id='f14310fa-633f-4e66-9b48-36a24bd65787', inputs={'input1': 1.0, 'input2': 2.0}, outputs={'output1': array([[1.2228268 , 1.79057455, 1.42543428, ..., 1.34029426, 1.61164785,\n",
       "         1.89062464],\n",
       "        [1.30743111, 1.58040385, 1.45964822, ..., 1.07983668, 1.03169364,\n",
       "         1.88172107],\n",
       "        [1.45972171, 1.0949161 , 1.1906291 , ..., 1.62519302, 1.05914015,\n",
       "         1.16634083],\n",
       "        ...,\n",
       "        [1.45106831, 1.94072801, 1.39075767, ..., 1.70975549, 1.60738853,\n",
       "         1.53009204],\n",
       "        [1.16918698, 1.28593086, 1.81612179, ..., 1.13115127, 1.92626458,\n",
       "         1.52868945],\n",
       "        [1.49661828, 1.00994709, 1.8095125 , ..., 1.70505867, 1.82448809,\n",
       "         1.87723852]]), 'output2': 1.0, 'output3': 2.0}, date_modified=datetime.datetime(2022, 9, 28, 20, 10, 52, 887000), unique_on=['inputs', 'outputs', 'flow_id'], unique_hash='407e66ab67234d6b02628175f8e8406c', result_type_string='lume_services.results.generic:Result'),\n",
       " Result(model_type='generic', id='6334ac37e7f66f7dc07a0ee1', flow_id='f14310fa-633f-4e66-9b48-36a24bd65787', inputs={'input1': 1.0, 'input2': 2.0}, outputs={'output1': array([[1.64933176, 1.00173851, 1.66317911, ..., 1.07955313, 1.68174158,\n",
       "         1.50634268],\n",
       "        [1.75459132, 1.68558722, 1.30827132, ..., 1.58546875, 1.96034575,\n",
       "         1.28071743],\n",
       "        [1.19323373, 1.53691112, 1.25737224, ..., 1.81851125, 1.12954871,\n",
       "         1.07601474],\n",
       "        ...,\n",
       "        [1.23818723, 1.67261563, 1.38605299, ..., 1.56465631, 1.85194256,\n",
       "         1.16591121],\n",
       "        [1.32382081, 1.12757393, 1.6468183 , ..., 1.65877932, 1.87097926,\n",
       "         1.69949892],\n",
       "        [1.23753447, 1.86640714, 1.76941315, ..., 1.30576035, 1.4172332 ,\n",
       "         1.80389996]]), 'output2': 1.0, 'output3': 2.0}, date_modified=datetime.datetime(2022, 9, 28, 20, 19, 0, 680000), unique_on=['inputs', 'outputs', 'flow_id'], unique_hash='2fa133c9d87a1237951b37ec7dbefacf', result_type_string='lume_services.results.generic:Result'),\n",
       " Result(model_type='generic', id='6334ac37ce5969a62e61eb35', flow_id='f14310fa-633f-4e66-9b48-36a24bd65787', inputs={'input1': 1.0, 'input2': 2.0}, outputs={'output1': array([[1.58734905, 1.02282071, 1.36141763, ..., 1.34972728, 1.51698625,\n",
       "         1.83307715],\n",
       "        [1.90528038, 1.06943302, 1.31249616, ..., 1.86846036, 1.19915683,\n",
       "         1.96361576],\n",
       "        [1.74319932, 1.76228573, 1.1091609 , ..., 1.70254274, 1.77837244,\n",
       "         1.25530403],\n",
       "        ...,\n",
       "        [1.00961453, 1.42905308, 1.28090047, ..., 1.11167116, 1.99900652,\n",
       "         1.12441221],\n",
       "        [1.71296273, 1.02403155, 1.55229369, ..., 1.91119377, 1.97420979,\n",
       "         1.10693722],\n",
       "        [1.8014041 , 1.37254656, 1.07682326, ..., 1.41200739, 1.38394395,\n",
       "         1.67327398]]), 'output2': 1.0, 'output3': 2.0}, date_modified=datetime.datetime(2022, 9, 28, 20, 19, 1, 315000), unique_on=['inputs', 'outputs', 'flow_id'], unique_hash='1438e0a535aefe04b27431e314349dba', result_type_string='lume_services.results.generic:Result'),\n",
       " Result(model_type='generic', id='6334acd3cb7bd74620612a65', flow_id='f14310fa-633f-4e66-9b48-36a24bd65787', inputs={'input1': 1.0, 'input2': 2.0}, outputs={'output1': array([[1.85589895, 1.35091813, 1.86794487, ..., 1.30090368, 1.10753453,\n",
       "         1.3010048 ],\n",
       "        [1.72676133, 1.92024983, 1.38257037, ..., 1.47451235, 1.12669716,\n",
       "         1.4160226 ],\n",
       "        [1.46658677, 1.30635974, 1.7250518 , ..., 1.37326785, 1.28035978,\n",
       "         1.55909559],\n",
       "        ...,\n",
       "        [1.47024419, 1.52644045, 1.86452051, ..., 1.70552233, 1.81159561,\n",
       "         1.32161129],\n",
       "        [1.2714899 , 1.94832053, 1.1085334 , ..., 1.56838857, 1.22777609,\n",
       "         1.35594581],\n",
       "        [1.07076512, 1.83929879, 1.74331738, ..., 1.96683663, 1.63845826,\n",
       "         1.18193106]]), 'output2': 1.0, 'output3': 2.0}, date_modified=datetime.datetime(2022, 9, 28, 20, 21, 37, 460000), unique_on=['inputs', 'outputs', 'flow_id'], unique_hash='7ecdeb01b521ab4765239c7d5db866d0', result_type_string='lume_services.results.generic:Result'),\n",
       " Result(model_type='generic', id='6334acdaf349589c2ab2483b', flow_id='f14310fa-633f-4e66-9b48-36a24bd65787', inputs={'input1': 1.0, 'input2': 2.0}, outputs={'output1': array([[1.95688339, 1.1741177 , 1.28908296, ..., 1.98468762, 1.48296551,\n",
       "         1.14278037],\n",
       "        [1.73937538, 1.7833225 , 1.51650735, ..., 1.95681901, 1.26401364,\n",
       "         1.02511026],\n",
       "        [1.67994387, 1.96984139, 1.74425754, ..., 1.38721815, 1.79157371,\n",
       "         1.69620432],\n",
       "        ...,\n",
       "        [1.84713357, 1.5243051 , 1.71326357, ..., 1.60391392, 1.74851357,\n",
       "         1.50602388],\n",
       "        [1.61244174, 1.78391426, 1.4281448 , ..., 1.45594875, 1.06738343,\n",
       "         1.54805522],\n",
       "        [1.98791981, 1.67715714, 1.78079233, ..., 1.16193595, 1.1405353 ,\n",
       "         1.69630847]]), 'output2': 1.0, 'output3': 2.0}, date_modified=datetime.datetime(2022, 9, 28, 20, 21, 44, 901000), unique_on=['inputs', 'outputs', 'flow_id'], unique_hash='42cf9ba4a5a56c704c18eb5574894919', result_type_string='lume_services.results.generic:Result'),\n",
       " Result(model_type='generic', id='6334ad59f83614994bfc8726', flow_id='f14310fa-633f-4e66-9b48-36a24bd65787', inputs={'input1': 1.0, 'input2': 2.0}, outputs={'output1': array([[1.62040019, 1.35980725, 1.44068481, ..., 1.19668247, 1.17829782,\n",
       "         1.36113938],\n",
       "        [1.80209151, 1.43226649, 1.33141718, ..., 1.13678654, 1.04100955,\n",
       "         1.29079023],\n",
       "        [1.74566506, 1.93311574, 1.71442442, ..., 1.68025933, 1.0368979 ,\n",
       "         1.69651922],\n",
       "        ...,\n",
       "        [1.35427365, 1.47173277, 1.68319968, ..., 1.22521169, 1.8908631 ,\n",
       "         1.68921594],\n",
       "        [1.18742558, 1.73493131, 1.31107436, ..., 1.10343107, 1.42274204,\n",
       "         1.88779737],\n",
       "        [1.88821239, 1.28287396, 1.3990557 , ..., 1.15014807, 1.52528117,\n",
       "         1.32299406]]), 'output2': 1.0, 'output3': 2.0}, date_modified=datetime.datetime(2022, 9, 28, 20, 23, 51, 512000), unique_on=['inputs', 'outputs', 'flow_id'], unique_hash='572ffbe7e23acc586cee38b537ace175', result_type_string='lume_services.results.generic:Result'),\n",
       " Result(model_type='generic', id='6334ad7e247ec8ec604c76f2', flow_id='f14310fa-633f-4e66-9b48-36a24bd65787', inputs={'input1': 1.0, 'input2': 2.0}, outputs={'output1': array([[1.87467922, 1.3162196 , 1.934473  , ..., 1.35624688, 1.03412479,\n",
       "         1.6374003 ],\n",
       "        [1.01817726, 1.84067529, 1.47067796, ..., 1.19377866, 1.49728504,\n",
       "         1.078796  ],\n",
       "        [1.67145617, 1.44451609, 1.66162374, ..., 1.70426702, 1.61267038,\n",
       "         1.21885535],\n",
       "        ...,\n",
       "        [1.62526787, 1.65643263, 1.1893607 , ..., 1.97446524, 1.72150683,\n",
       "         1.34016839],\n",
       "        [1.53040637, 1.99702681, 1.00215888, ..., 1.86784045, 1.29742023,\n",
       "         1.31561565],\n",
       "        [1.91075111, 1.17625826, 1.79208507, ..., 1.00875448, 1.89065594,\n",
       "         1.48354897]]), 'output2': 1.0, 'output3': 2.0}, date_modified=datetime.datetime(2022, 9, 28, 20, 24, 27, 948000), unique_on=['inputs', 'outputs', 'flow_id'], unique_hash='0681e4e164bc06ec8d74bf004e597bd3', result_type_string='lume_services.results.generic:Result'),\n",
       " Result(model_type='generic', id='6334adde95d26a227198ab35', flow_id='f14310fa-633f-4e66-9b48-36a24bd65787', inputs={'input1': 1.0, 'input2': 2.0}, outputs={'output1': array([[1.76016885, 1.41762233, 1.84864825, ..., 1.13045249, 1.23063706,\n",
       "         1.4099806 ],\n",
       "        [1.96502565, 1.95497948, 1.88764852, ..., 1.73544763, 1.66549426,\n",
       "         1.21148427],\n",
       "        [1.41927857, 1.00676149, 1.06305341, ..., 1.83282255, 1.73647988,\n",
       "         1.27465055],\n",
       "        ...,\n",
       "        [1.81400373, 1.20829485, 1.6126853 , ..., 1.88997748, 1.80976115,\n",
       "         1.90162397],\n",
       "        [1.45912154, 1.67239376, 1.5645078 , ..., 1.51902238, 1.28090814,\n",
       "         1.0910989 ],\n",
       "        [1.92042239, 1.57898725, 1.99335557, ..., 1.39605142, 1.19120568,\n",
       "         1.0848765 ]]), 'output2': 1.0, 'output3': 2.0}, date_modified=datetime.datetime(2022, 9, 28, 20, 26, 3, 607000), unique_on=['inputs', 'outputs', 'flow_id'], unique_hash='aff0fe652ca39ba3b2495ddbba5bd81b', result_type_string='lume_services.results.generic:Result'),\n",
       " Result(model_type='generic', id='6334ade142e2dac3c532d6a8', flow_id='f14310fa-633f-4e66-9b48-36a24bd65787', inputs={'input1': 1.0, 'input2': 2.0}, outputs={'output1': array([[1.57973087, 1.2757325 , 1.22644869, ..., 1.66936893, 1.99653133,\n",
       "         1.16976804],\n",
       "        [1.24965751, 1.11356134, 1.34047038, ..., 1.79674105, 1.17177177,\n",
       "         1.90629826],\n",
       "        [1.09566229, 1.53233498, 1.75760104, ..., 1.9493886 , 1.18072975,\n",
       "         1.46595796],\n",
       "        ...,\n",
       "        [1.41496044, 1.21228283, 1.45128108, ..., 1.30917557, 1.44627216,\n",
       "         1.24915496],\n",
       "        [1.42304082, 1.21548992, 1.29112213, ..., 1.86406285, 1.44821535,\n",
       "         1.55275352],\n",
       "        [1.28949782, 1.19436463, 1.41626908, ..., 1.7719618 , 1.31198734,\n",
       "         1.20537611]]), 'output2': 1.0, 'output3': 2.0}, date_modified=datetime.datetime(2022, 9, 28, 20, 26, 7, 984000), unique_on=['inputs', 'outputs', 'flow_id'], unique_hash='d72dd14737c02a291d919535bf3b549d', result_type_string='lume_services.results.generic:Result'),\n",
       " Result(model_type='generic', id='6334ae92327752e34091e3dc', flow_id='f14310fa-633f-4e66-9b48-36a24bd65787', inputs={'input1': 1.0, 'input2': 2.0}, outputs={'output1': array([[1.62103371, 1.6610273 , 1.22478547, ..., 1.92968501, 1.39387872,\n",
       "         1.95222581],\n",
       "        [1.58961533, 1.51994482, 1.16228852, ..., 1.47175312, 1.46118917,\n",
       "         1.48150693],\n",
       "        [1.19031368, 1.98650521, 1.0493882 , ..., 1.96563626, 1.84583604,\n",
       "         1.62612352],\n",
       "        ...,\n",
       "        [1.26388116, 1.82690616, 1.32671835, ..., 1.04023882, 1.46820988,\n",
       "         1.62631771],\n",
       "        [1.14787571, 1.80712856, 1.4929562 , ..., 1.62697837, 1.44010246,\n",
       "         1.23503942],\n",
       "        [1.34162027, 1.59659848, 1.64920092, ..., 1.1296381 , 1.95388228,\n",
       "         1.30754643]]), 'output2': 1.0, 'output3': 2.0}, date_modified=datetime.datetime(2022, 9, 28, 20, 29, 4, 205000), unique_on=['inputs', 'outputs', 'flow_id'], unique_hash='f74a1ea233f1c7e02874c5873b34884d', result_type_string='lume_services.results.generic:Result'),\n",
       " Result(model_type='generic', id='6334aeb069ceeffde30f504d', flow_id='f14310fa-633f-4e66-9b48-36a24bd65787', inputs={'input1': 1.0, 'input2': 2.0}, outputs={'output1': array([[1.16072968, 1.45756253, 1.41796125, ..., 1.434951  , 1.15801405,\n",
       "         1.23950023],\n",
       "        [1.426315  , 1.57229531, 1.72845667, ..., 1.67242203, 1.7089217 ,\n",
       "         1.19602388],\n",
       "        [1.06893713, 1.35290697, 1.62036431, ..., 1.87791688, 1.7676208 ,\n",
       "         1.76016572],\n",
       "        ...,\n",
       "        [1.6896142 , 1.54188741, 1.03702464, ..., 1.08878225, 1.26302636,\n",
       "         1.54313686],\n",
       "        [1.57873733, 1.6413759 , 1.73384751, ..., 1.77610757, 1.89722882,\n",
       "         1.88185115],\n",
       "        [1.81227077, 1.24628136, 1.06241706, ..., 1.90767656, 1.08391473,\n",
       "         1.79015819]]), 'output2': 1.0, 'output3': 2.0}, date_modified=datetime.datetime(2022, 9, 28, 20, 29, 33, 976000), unique_on=['inputs', 'outputs', 'flow_id'], unique_hash='131d19229d6be9b0082988146f255150', result_type_string='lume_services.results.generic:Result'),\n",
       " Result(model_type='generic', id='6334b1e88a55e8f0a60880ad', flow_id='f14310fa-633f-4e66-9b48-36a24bd65787', inputs={'input1': 1.0, 'input2': 2.0}, outputs={'output1': array([[1.76196154, 1.56434888, 1.54180297, ..., 1.66204055, 1.48626131,\n",
       "         1.34743007],\n",
       "        [1.67295565, 1.94992285, 1.55447837, ..., 1.66203369, 1.82570867,\n",
       "         1.39705567],\n",
       "        [1.90256838, 1.33395204, 1.52092288, ..., 1.85838677, 1.57606337,\n",
       "         1.47907467],\n",
       "        ...,\n",
       "        [1.93528167, 1.10930939, 1.7697975 , ..., 1.91904683, 1.37177931,\n",
       "         1.52815001],\n",
       "        [1.70096317, 1.19772707, 1.62129919, ..., 1.26451362, 1.93053868,\n",
       "         1.1676639 ],\n",
       "        [1.50281786, 1.04365549, 1.43167875, ..., 1.85267409, 1.20611513,\n",
       "         1.9199263 ]]), 'output2': 1.0, 'output3': 2.0}, date_modified=datetime.datetime(2022, 9, 28, 20, 43, 18, 505000), unique_on=['inputs', 'outputs', 'flow_id'], unique_hash='47e89e5328298fb691f162bcd6e5ab34', result_type_string='lume_services.results.generic:Result'),\n",
       " Result(model_type='generic', id='6334b20078db58b748f2875d', flow_id='f14310fa-633f-4e66-9b48-36a24bd65787', inputs={'input1': 1.0, 'input2': 2.0}, outputs={'output1': array([[1.80667932, 1.81327385, 1.69087149, ..., 1.42312672, 1.97730323,\n",
       "         1.33129992],\n",
       "        [1.46016336, 1.35905532, 1.49991881, ..., 1.76039013, 1.99529556,\n",
       "         1.19097363],\n",
       "        [1.60913236, 1.7594438 , 1.74848343, ..., 1.03147256, 1.07459169,\n",
       "         1.79853077],\n",
       "        ...,\n",
       "        [1.5085792 , 1.89568465, 1.30431167, ..., 1.81188915, 1.97791877,\n",
       "         1.54797241],\n",
       "        [1.23754894, 1.68718787, 1.84670071, ..., 1.40082643, 1.38241458,\n",
       "         1.23475162],\n",
       "        [1.48903535, 1.9659489 , 1.90840553, ..., 1.85643052, 1.31223412,\n",
       "         1.61067209]]), 'output2': 1.0, 'output3': 2.0}, date_modified=datetime.datetime(2022, 9, 28, 20, 43, 42, 902000), unique_on=['inputs', 'outputs', 'flow_id'], unique_hash='57d4cf87f64fc5006f832d9acf17f09d', result_type_string='lume_services.results.generic:Result'),\n",
       " Result(model_type='generic', id='6334b30c4f074fece178b07c', flow_id='f14310fa-633f-4e66-9b48-36a24bd65787', inputs={'input1': 1.0, 'input2': 2.0}, outputs={'output1': array([[1.39912485, 1.83157094, 1.40756696, ..., 1.40563061, 1.71723288,\n",
       "         1.48777066],\n",
       "        [1.21810314, 1.03682912, 1.64510398, ..., 1.87495688, 1.03372791,\n",
       "         1.84118172],\n",
       "        [1.93770238, 1.14549849, 1.17707432, ..., 1.2937046 , 1.61917393,\n",
       "         1.35870641],\n",
       "        ...,\n",
       "        [1.64208434, 1.79773275, 1.58602587, ..., 1.35161745, 1.11171597,\n",
       "         1.37809332],\n",
       "        [1.79748165, 1.04190851, 1.30204283, ..., 1.98397239, 1.26266661,\n",
       "         1.4860895 ],\n",
       "        [1.51914315, 1.51083028, 1.68524119, ..., 1.25613613, 1.99355582,\n",
       "         1.70053419]]), 'output2': 1.0, 'output3': 2.0}, date_modified=datetime.datetime(2022, 9, 28, 20, 48, 10, 106000), unique_on=['inputs', 'outputs', 'flow_id'], unique_hash='2ae0e46322c4fac2f5515d27b5b41a16', result_type_string='lume_services.results.generic:Result'),\n",
       " Result(model_type='generic', id='6334b380582399028b6895e1', flow_id='f14310fa-633f-4e66-9b48-36a24bd65787', inputs={'input1': 1.0, 'input2': 2.0}, outputs={'output1': array([[1.41571991, 1.22314597, 1.32576181, ..., 1.12146261, 1.32757075,\n",
       "         1.12003611],\n",
       "        [1.33744905, 1.87115367, 1.19123271, ..., 1.10205215, 1.30246372,\n",
       "         1.02600673],\n",
       "        [1.10612029, 1.32943902, 1.0937149 , ..., 1.04046484, 1.05492579,\n",
       "         1.34812733],\n",
       "        ...,\n",
       "        [1.89115286, 1.02450748, 1.32857249, ..., 1.57242842, 1.45145949,\n",
       "         1.44832532],\n",
       "        [1.78809665, 1.49932287, 1.82963387, ..., 1.13531054, 1.95472463,\n",
       "         1.72600589],\n",
       "        [1.4223909 , 1.23800313, 1.39030284, ..., 1.00369468, 1.22224981,\n",
       "         1.28920896]]), 'output2': 1.0, 'output3': 2.0}, date_modified=datetime.datetime(2022, 9, 28, 20, 50, 5, 910000), unique_on=['inputs', 'outputs', 'flow_id'], unique_hash='836d8a789675395c32b4485887566929', result_type_string='lume_services.results.generic:Result'),\n",
       " Result(model_type='generic', id='6334b3b8fb1de9417adf7356', flow_id='f14310fa-633f-4e66-9b48-36a24bd65787', inputs={'input1': 1.0, 'input2': 2.0}, outputs={'output1': array([[1.44653387, 1.06758863, 1.11649751, ..., 1.9560655 , 1.36463718,\n",
       "         1.3344012 ],\n",
       "        [1.1795894 , 1.01927707, 1.41982037, ..., 1.21943895, 1.98809683,\n",
       "         1.2784829 ],\n",
       "        [1.4826158 , 1.34633647, 1.42838543, ..., 1.70929366, 1.84678008,\n",
       "         1.51832725],\n",
       "        ...,\n",
       "        [1.43676441, 1.44046452, 1.84234466, ..., 1.4675039 , 1.56942758,\n",
       "         1.889157  ],\n",
       "        [1.13550409, 1.38479748, 1.16968285, ..., 1.27414193, 1.70774149,\n",
       "         1.72463087],\n",
       "        [1.20975681, 1.05511764, 1.6098493 , ..., 1.2064647 , 1.63915555,\n",
       "         1.63787768]]), 'output2': 1.0, 'output3': 2.0}, date_modified=datetime.datetime(2022, 9, 28, 20, 51, 1, 885000), unique_on=['inputs', 'outputs', 'flow_id'], unique_hash='e6e4ead73f1308ff64324169e1f0759f', result_type_string='lume_services.results.generic:Result'),\n",
       " Result(model_type='generic', id='6334b3b88c2159a3d140ec03', flow_id='f14310fa-633f-4e66-9b48-36a24bd65787', inputs={'input1': 1.0, 'input2': 2.0}, outputs={'output1': array([[1.74625854, 1.38842881, 1.10766378, ..., 1.47734203, 1.17268083,\n",
       "         1.37035039],\n",
       "        [1.20535976, 1.78157836, 1.4158915 , ..., 1.37275844, 1.09238498,\n",
       "         1.92155106],\n",
       "        [1.55134606, 1.47377232, 1.18343011, ..., 1.27930369, 1.11207156,\n",
       "         1.01540654],\n",
       "        ...,\n",
       "        [1.2760362 , 1.45803839, 1.36057936, ..., 1.33902828, 1.17652356,\n",
       "         1.57713178],\n",
       "        [1.90599377, 1.71430424, 1.05478434, ..., 1.78171883, 1.13560784,\n",
       "         1.28177564],\n",
       "        [1.9789585 , 1.38981354, 1.74038793, ..., 1.84393052, 1.874035  ,\n",
       "         1.83088133]]), 'output2': 1.0, 'output3': 2.0}, date_modified=datetime.datetime(2022, 9, 28, 20, 51, 2, 82000), unique_on=['inputs', 'outputs', 'flow_id'], unique_hash='146349f20ab662e63d917b19f24ce994', result_type_string='lume_services.results.generic:Result'),\n",
       " Result(model_type='generic', id='6334b40fb4d4a49888022611', flow_id='f14310fa-633f-4e66-9b48-36a24bd65787', inputs={'input1': 1.0, 'input2': 2.0}, outputs={'output1': array([[1.40232933, 1.30091461, 1.1000508 , ..., 1.85338059, 1.40053743,\n",
       "         1.76323508],\n",
       "        [1.43737034, 1.71837048, 1.90902526, ..., 1.36894231, 1.74863811,\n",
       "         1.29998516],\n",
       "        [1.95555237, 1.69741433, 1.43982572, ..., 1.75818674, 1.91352787,\n",
       "         1.80604709],\n",
       "        ...,\n",
       "        [1.41459375, 1.41101409, 1.49250308, ..., 1.39444749, 1.80543094,\n",
       "         1.90260234],\n",
       "        [1.94844815, 1.36389805, 1.83435292, ..., 1.89730095, 1.19115066,\n",
       "         1.27848763],\n",
       "        [1.03703996, 1.75937827, 1.39946326, ..., 1.50222045, 1.04006136,\n",
       "         1.31102046]]), 'output2': 1.0, 'output3': 2.0}, date_modified=datetime.datetime(2022, 9, 28, 20, 52, 28, 332000), unique_on=['inputs', 'outputs', 'flow_id'], unique_hash='afdb3470eab2b69d65e9f8cf8c547bae', result_type_string='lume_services.results.generic:Result'),\n",
       " Result(model_type='generic', id='6334b40faff969d4104b4224', flow_id='f14310fa-633f-4e66-9b48-36a24bd65787', inputs={'input1': 1.0, 'input2': 2.0}, outputs={'output1': array([[1.71516776, 1.000923  , 1.58721532, ..., 1.4261449 , 1.05962117,\n",
       "         1.15942052],\n",
       "        [1.91061592, 1.35836292, 1.65641684, ..., 1.73458943, 1.43429284,\n",
       "         1.35228482],\n",
       "        [1.04534619, 1.54285386, 1.25671362, ..., 1.07147491, 1.98938989,\n",
       "         1.40936173],\n",
       "        ...,\n",
       "        [1.43185965, 1.03810381, 1.16132254, ..., 1.62316021, 1.04749105,\n",
       "         1.16766109],\n",
       "        [1.4976248 , 1.80137987, 1.35847895, ..., 1.30301156, 1.18363025,\n",
       "         1.1610397 ],\n",
       "        [1.06811362, 1.58169838, 1.97701491, ..., 1.74382566, 1.46010318,\n",
       "         1.49442947]]), 'output2': 1.0, 'output3': 2.0}, date_modified=datetime.datetime(2022, 9, 28, 20, 52, 28, 314000), unique_on=['inputs', 'outputs', 'flow_id'], unique_hash='f760cdacc85559666a5374fa81685c1e', result_type_string='lume_services.results.generic:Result')]"
      ]
     },
     "execution_count": 11,
     "metadata": {},
     "output_type": "execute_result"
    }
   ],
   "source": [
    "results = model.get_results(collection=\"generic\")\n",
    "results"
   ]
  },
  {
   "cell_type": "code",
   "execution_count": 12,
   "id": "8b388faa",
   "metadata": {},
   "outputs": [
    {
     "data": {
      "text/html": [
       "<div>\n",
       "<style scoped>\n",
       "    .dataframe tbody tr th:only-of-type {\n",
       "        vertical-align: middle;\n",
       "    }\n",
       "\n",
       "    .dataframe tbody tr th {\n",
       "        vertical-align: top;\n",
       "    }\n",
       "\n",
       "    .dataframe thead th {\n",
       "        text-align: right;\n",
       "    }\n",
       "</style>\n",
       "<table border=\"1\" class=\"dataframe\">\n",
       "  <thead>\n",
       "    <tr style=\"text-align: right;\">\n",
       "      <th></th>\n",
       "      <th>model_type</th>\n",
       "      <th>flow_id</th>\n",
       "      <th>input1</th>\n",
       "      <th>input2</th>\n",
       "      <th>output1</th>\n",
       "      <th>output2</th>\n",
       "      <th>output3</th>\n",
       "      <th>date_modified</th>\n",
       "      <th>unique_hash</th>\n",
       "      <th>result_type_string</th>\n",
       "    </tr>\n",
       "  </thead>\n",
       "  <tbody>\n",
       "    <tr>\n",
       "      <th>0</th>\n",
       "      <td>generic</td>\n",
       "      <td>f14310fa-633f-4e66-9b48-36a24bd65787</td>\n",
       "      <td>1.0</td>\n",
       "      <td>2.0</td>\n",
       "      <td>[[1.820521598226592, 1.875737065714508, 1.3158...</td>\n",
       "      <td>1.0</td>\n",
       "      <td>2.0</td>\n",
       "      <td>2022-09-28 19:37:04.838</td>\n",
       "      <td>ef83125284df7dfeaad201b193bee95e</td>\n",
       "      <td>lume_services.results.generic:Result</td>\n",
       "    </tr>\n",
       "    <tr>\n",
       "      <th>1</th>\n",
       "      <td>generic</td>\n",
       "      <td>f14310fa-633f-4e66-9b48-36a24bd65787</td>\n",
       "      <td>1.0</td>\n",
       "      <td>2.0</td>\n",
       "      <td>[[1.8594920966103436, 1.9702209676716067, 1.47...</td>\n",
       "      <td>1.0</td>\n",
       "      <td>2.0</td>\n",
       "      <td>2022-09-28 19:41:06.989</td>\n",
       "      <td>f4686ede779b73bfe1423e1c20f3ecc9</td>\n",
       "      <td>lume_services.results.generic:Result</td>\n",
       "    </tr>\n",
       "    <tr>\n",
       "      <th>2</th>\n",
       "      <td>generic</td>\n",
       "      <td>f14310fa-633f-4e66-9b48-36a24bd65787</td>\n",
       "      <td>1.0</td>\n",
       "      <td>2.0</td>\n",
       "      <td>[[1.7838111640117922, 1.3434367993756404, 1.66...</td>\n",
       "      <td>1.0</td>\n",
       "      <td>2.0</td>\n",
       "      <td>2022-09-28 19:43:22.873</td>\n",
       "      <td>1b123234753e1b730e16038484a9c16d</td>\n",
       "      <td>lume_services.results.generic:Result</td>\n",
       "    </tr>\n",
       "    <tr>\n",
       "      <th>3</th>\n",
       "      <td>generic</td>\n",
       "      <td>f14310fa-633f-4e66-9b48-36a24bd65787</td>\n",
       "      <td>1.0</td>\n",
       "      <td>2.0</td>\n",
       "      <td>[[1.9657229574316597, 1.9373403094863368, 1.34...</td>\n",
       "      <td>1.0</td>\n",
       "      <td>2.0</td>\n",
       "      <td>2022-09-28 19:44:19.275</td>\n",
       "      <td>31617d7af1975c0c9e7023d59dbdf1fc</td>\n",
       "      <td>lume_services.results.generic:Result</td>\n",
       "    </tr>\n",
       "    <tr>\n",
       "      <th>4</th>\n",
       "      <td>generic</td>\n",
       "      <td>f14310fa-633f-4e66-9b48-36a24bd65787</td>\n",
       "      <td>1.0</td>\n",
       "      <td>2.0</td>\n",
       "      <td>[[1.0249553697721896, 1.795705610400978, 1.168...</td>\n",
       "      <td>1.0</td>\n",
       "      <td>2.0</td>\n",
       "      <td>2022-09-28 19:45:04.945</td>\n",
       "      <td>d7675b858df4f7b92ea5bc75f1bec212</td>\n",
       "      <td>lume_services.results.generic:Result</td>\n",
       "    </tr>\n",
       "    <tr>\n",
       "      <th>5</th>\n",
       "      <td>generic</td>\n",
       "      <td>f14310fa-633f-4e66-9b48-36a24bd65787</td>\n",
       "      <td>1.0</td>\n",
       "      <td>2.0</td>\n",
       "      <td>[[1.9931810327610155, 1.9855442434420671, 1.40...</td>\n",
       "      <td>1.0</td>\n",
       "      <td>2.0</td>\n",
       "      <td>2022-09-28 19:49:02.182</td>\n",
       "      <td>c1f8505027930a36a58444349742cbe5</td>\n",
       "      <td>lume_services.results.generic:Result</td>\n",
       "    </tr>\n",
       "    <tr>\n",
       "      <th>6</th>\n",
       "      <td>generic</td>\n",
       "      <td>f14310fa-633f-4e66-9b48-36a24bd65787</td>\n",
       "      <td>1.0</td>\n",
       "      <td>2.0</td>\n",
       "      <td>[[1.589720734266254, 1.1951683055177797, 1.533...</td>\n",
       "      <td>1.0</td>\n",
       "      <td>2.0</td>\n",
       "      <td>2022-09-28 19:53:28.744</td>\n",
       "      <td>11bb70000277ac024a6f09b73298cced</td>\n",
       "      <td>lume_services.results.generic:Result</td>\n",
       "    </tr>\n",
       "    <tr>\n",
       "      <th>7</th>\n",
       "      <td>generic</td>\n",
       "      <td>f14310fa-633f-4e66-9b48-36a24bd65787</td>\n",
       "      <td>1.0</td>\n",
       "      <td>2.0</td>\n",
       "      <td>[[1.1636674576639654, 1.441257712865944, 1.677...</td>\n",
       "      <td>1.0</td>\n",
       "      <td>2.0</td>\n",
       "      <td>2022-09-28 19:54:35.063</td>\n",
       "      <td>f8d388a4d7401b9312ff14a462cb975d</td>\n",
       "      <td>lume_services.results.generic:Result</td>\n",
       "    </tr>\n",
       "    <tr>\n",
       "      <th>8</th>\n",
       "      <td>generic</td>\n",
       "      <td>f14310fa-633f-4e66-9b48-36a24bd65787</td>\n",
       "      <td>1.0</td>\n",
       "      <td>2.0</td>\n",
       "      <td>[[1.9692685443468778, 1.7361192123149523, 1.57...</td>\n",
       "      <td>1.0</td>\n",
       "      <td>2.0</td>\n",
       "      <td>2022-09-28 19:55:10.782</td>\n",
       "      <td>d019e294cd4ebffd423dd9fe87e1d2e6</td>\n",
       "      <td>lume_services.results.generic:Result</td>\n",
       "    </tr>\n",
       "    <tr>\n",
       "      <th>9</th>\n",
       "      <td>generic</td>\n",
       "      <td>f14310fa-633f-4e66-9b48-36a24bd65787</td>\n",
       "      <td>1.0</td>\n",
       "      <td>2.0</td>\n",
       "      <td>[[1.2943132791561838, 1.7766031230507902, 1.91...</td>\n",
       "      <td>1.0</td>\n",
       "      <td>2.0</td>\n",
       "      <td>2022-09-28 19:59:09.176</td>\n",
       "      <td>0199cb2d1126cd828eefa913a5ed351d</td>\n",
       "      <td>lume_services.results.generic:Result</td>\n",
       "    </tr>\n",
       "    <tr>\n",
       "      <th>10</th>\n",
       "      <td>generic</td>\n",
       "      <td>f14310fa-633f-4e66-9b48-36a24bd65787</td>\n",
       "      <td>1.0</td>\n",
       "      <td>2.0</td>\n",
       "      <td>[[1.8651166025520314, 1.5757778185311624, 1.30...</td>\n",
       "      <td>1.0</td>\n",
       "      <td>2.0</td>\n",
       "      <td>2022-09-28 20:01:35.605</td>\n",
       "      <td>5d45516d195a7476e3367dbbb6e53453</td>\n",
       "      <td>lume_services.results.generic:Result</td>\n",
       "    </tr>\n",
       "    <tr>\n",
       "      <th>11</th>\n",
       "      <td>generic</td>\n",
       "      <td>f14310fa-633f-4e66-9b48-36a24bd65787</td>\n",
       "      <td>1.0</td>\n",
       "      <td>2.0</td>\n",
       "      <td>[[1.4171252552121725, 1.9247556397121413, 1.29...</td>\n",
       "      <td>1.0</td>\n",
       "      <td>2.0</td>\n",
       "      <td>2022-09-28 20:04:12.028</td>\n",
       "      <td>e087b5c95e93374fce0ecad613aafbb8</td>\n",
       "      <td>lume_services.results.generic:Result</td>\n",
       "    </tr>\n",
       "    <tr>\n",
       "      <th>12</th>\n",
       "      <td>generic</td>\n",
       "      <td>f14310fa-633f-4e66-9b48-36a24bd65787</td>\n",
       "      <td>1.0</td>\n",
       "      <td>2.0</td>\n",
       "      <td>[[1.750892661444024, 1.7733793327213674, 1.951...</td>\n",
       "      <td>1.0</td>\n",
       "      <td>2.0</td>\n",
       "      <td>2022-09-28 20:04:20.120</td>\n",
       "      <td>84a8dbc14fe8ddda5c3364d00e33d6f2</td>\n",
       "      <td>lume_services.results.generic:Result</td>\n",
       "    </tr>\n",
       "    <tr>\n",
       "      <th>13</th>\n",
       "      <td>generic</td>\n",
       "      <td>f14310fa-633f-4e66-9b48-36a24bd65787</td>\n",
       "      <td>1.0</td>\n",
       "      <td>2.0</td>\n",
       "      <td>[[1.8639446986738335, 1.7990457673509197, 1.22...</td>\n",
       "      <td>1.0</td>\n",
       "      <td>2.0</td>\n",
       "      <td>2022-09-28 20:06:16.224</td>\n",
       "      <td>347f9a583365e9c118d6c1a46dbe9156</td>\n",
       "      <td>lume_services.results.generic:Result</td>\n",
       "    </tr>\n",
       "    <tr>\n",
       "      <th>14</th>\n",
       "      <td>generic</td>\n",
       "      <td>f14310fa-633f-4e66-9b48-36a24bd65787</td>\n",
       "      <td>1.0</td>\n",
       "      <td>2.0</td>\n",
       "      <td>[[1.73523898485919, 1.2185505427467351, 1.2742...</td>\n",
       "      <td>1.0</td>\n",
       "      <td>2.0</td>\n",
       "      <td>2022-09-28 20:06:20.435</td>\n",
       "      <td>483550aabc0203856caea0467228d46f</td>\n",
       "      <td>lume_services.results.generic:Result</td>\n",
       "    </tr>\n",
       "    <tr>\n",
       "      <th>15</th>\n",
       "      <td>generic</td>\n",
       "      <td>f14310fa-633f-4e66-9b48-36a24bd65787</td>\n",
       "      <td>1.0</td>\n",
       "      <td>2.0</td>\n",
       "      <td>[[1.015735189773927, 1.2921741151668793, 1.892...</td>\n",
       "      <td>1.0</td>\n",
       "      <td>2.0</td>\n",
       "      <td>2022-09-28 20:10:26.936</td>\n",
       "      <td>dc2478447a24c7dbd268e9f1b2c547f7</td>\n",
       "      <td>lume_services.results.generic:Result</td>\n",
       "    </tr>\n",
       "    <tr>\n",
       "      <th>16</th>\n",
       "      <td>generic</td>\n",
       "      <td>f14310fa-633f-4e66-9b48-36a24bd65787</td>\n",
       "      <td>1.0</td>\n",
       "      <td>2.0</td>\n",
       "      <td>[[1.222826799385944, 1.790574545030105, 1.4254...</td>\n",
       "      <td>1.0</td>\n",
       "      <td>2.0</td>\n",
       "      <td>2022-09-28 20:10:52.887</td>\n",
       "      <td>407e66ab67234d6b02628175f8e8406c</td>\n",
       "      <td>lume_services.results.generic:Result</td>\n",
       "    </tr>\n",
       "    <tr>\n",
       "      <th>17</th>\n",
       "      <td>generic</td>\n",
       "      <td>f14310fa-633f-4e66-9b48-36a24bd65787</td>\n",
       "      <td>1.0</td>\n",
       "      <td>2.0</td>\n",
       "      <td>[[1.6493317595985855, 1.0017385138432426, 1.66...</td>\n",
       "      <td>1.0</td>\n",
       "      <td>2.0</td>\n",
       "      <td>2022-09-28 20:19:00.680</td>\n",
       "      <td>2fa133c9d87a1237951b37ec7dbefacf</td>\n",
       "      <td>lume_services.results.generic:Result</td>\n",
       "    </tr>\n",
       "    <tr>\n",
       "      <th>18</th>\n",
       "      <td>generic</td>\n",
       "      <td>f14310fa-633f-4e66-9b48-36a24bd65787</td>\n",
       "      <td>1.0</td>\n",
       "      <td>2.0</td>\n",
       "      <td>[[1.5873490545385733, 1.0228207087744547, 1.36...</td>\n",
       "      <td>1.0</td>\n",
       "      <td>2.0</td>\n",
       "      <td>2022-09-28 20:19:01.315</td>\n",
       "      <td>1438e0a535aefe04b27431e314349dba</td>\n",
       "      <td>lume_services.results.generic:Result</td>\n",
       "    </tr>\n",
       "    <tr>\n",
       "      <th>19</th>\n",
       "      <td>generic</td>\n",
       "      <td>f14310fa-633f-4e66-9b48-36a24bd65787</td>\n",
       "      <td>1.0</td>\n",
       "      <td>2.0</td>\n",
       "      <td>[[1.8558989477962502, 1.3509181309721434, 1.86...</td>\n",
       "      <td>1.0</td>\n",
       "      <td>2.0</td>\n",
       "      <td>2022-09-28 20:21:37.460</td>\n",
       "      <td>7ecdeb01b521ab4765239c7d5db866d0</td>\n",
       "      <td>lume_services.results.generic:Result</td>\n",
       "    </tr>\n",
       "    <tr>\n",
       "      <th>20</th>\n",
       "      <td>generic</td>\n",
       "      <td>f14310fa-633f-4e66-9b48-36a24bd65787</td>\n",
       "      <td>1.0</td>\n",
       "      <td>2.0</td>\n",
       "      <td>[[1.9568833880391792, 1.1741177030845107, 1.28...</td>\n",
       "      <td>1.0</td>\n",
       "      <td>2.0</td>\n",
       "      <td>2022-09-28 20:21:44.901</td>\n",
       "      <td>42cf9ba4a5a56c704c18eb5574894919</td>\n",
       "      <td>lume_services.results.generic:Result</td>\n",
       "    </tr>\n",
       "    <tr>\n",
       "      <th>21</th>\n",
       "      <td>generic</td>\n",
       "      <td>f14310fa-633f-4e66-9b48-36a24bd65787</td>\n",
       "      <td>1.0</td>\n",
       "      <td>2.0</td>\n",
       "      <td>[[1.6204001869125122, 1.3598072516230129, 1.44...</td>\n",
       "      <td>1.0</td>\n",
       "      <td>2.0</td>\n",
       "      <td>2022-09-28 20:23:51.512</td>\n",
       "      <td>572ffbe7e23acc586cee38b537ace175</td>\n",
       "      <td>lume_services.results.generic:Result</td>\n",
       "    </tr>\n",
       "    <tr>\n",
       "      <th>22</th>\n",
       "      <td>generic</td>\n",
       "      <td>f14310fa-633f-4e66-9b48-36a24bd65787</td>\n",
       "      <td>1.0</td>\n",
       "      <td>2.0</td>\n",
       "      <td>[[1.8746792174491693, 1.3162196006373195, 1.93...</td>\n",
       "      <td>1.0</td>\n",
       "      <td>2.0</td>\n",
       "      <td>2022-09-28 20:24:27.948</td>\n",
       "      <td>0681e4e164bc06ec8d74bf004e597bd3</td>\n",
       "      <td>lume_services.results.generic:Result</td>\n",
       "    </tr>\n",
       "    <tr>\n",
       "      <th>23</th>\n",
       "      <td>generic</td>\n",
       "      <td>f14310fa-633f-4e66-9b48-36a24bd65787</td>\n",
       "      <td>1.0</td>\n",
       "      <td>2.0</td>\n",
       "      <td>[[1.7601688514180496, 1.4176223265663235, 1.84...</td>\n",
       "      <td>1.0</td>\n",
       "      <td>2.0</td>\n",
       "      <td>2022-09-28 20:26:03.607</td>\n",
       "      <td>aff0fe652ca39ba3b2495ddbba5bd81b</td>\n",
       "      <td>lume_services.results.generic:Result</td>\n",
       "    </tr>\n",
       "    <tr>\n",
       "      <th>24</th>\n",
       "      <td>generic</td>\n",
       "      <td>f14310fa-633f-4e66-9b48-36a24bd65787</td>\n",
       "      <td>1.0</td>\n",
       "      <td>2.0</td>\n",
       "      <td>[[1.5797308717564515, 1.2757325016039203, 1.22...</td>\n",
       "      <td>1.0</td>\n",
       "      <td>2.0</td>\n",
       "      <td>2022-09-28 20:26:07.984</td>\n",
       "      <td>d72dd14737c02a291d919535bf3b549d</td>\n",
       "      <td>lume_services.results.generic:Result</td>\n",
       "    </tr>\n",
       "    <tr>\n",
       "      <th>25</th>\n",
       "      <td>generic</td>\n",
       "      <td>f14310fa-633f-4e66-9b48-36a24bd65787</td>\n",
       "      <td>1.0</td>\n",
       "      <td>2.0</td>\n",
       "      <td>[[1.6210337064548703, 1.6610273034580074, 1.22...</td>\n",
       "      <td>1.0</td>\n",
       "      <td>2.0</td>\n",
       "      <td>2022-09-28 20:29:04.205</td>\n",
       "      <td>f74a1ea233f1c7e02874c5873b34884d</td>\n",
       "      <td>lume_services.results.generic:Result</td>\n",
       "    </tr>\n",
       "    <tr>\n",
       "      <th>26</th>\n",
       "      <td>generic</td>\n",
       "      <td>f14310fa-633f-4e66-9b48-36a24bd65787</td>\n",
       "      <td>1.0</td>\n",
       "      <td>2.0</td>\n",
       "      <td>[[1.1607296797167757, 1.4575625337723943, 1.41...</td>\n",
       "      <td>1.0</td>\n",
       "      <td>2.0</td>\n",
       "      <td>2022-09-28 20:29:33.976</td>\n",
       "      <td>131d19229d6be9b0082988146f255150</td>\n",
       "      <td>lume_services.results.generic:Result</td>\n",
       "    </tr>\n",
       "    <tr>\n",
       "      <th>27</th>\n",
       "      <td>generic</td>\n",
       "      <td>f14310fa-633f-4e66-9b48-36a24bd65787</td>\n",
       "      <td>1.0</td>\n",
       "      <td>2.0</td>\n",
       "      <td>[[1.7619615408406424, 1.5643488809862727, 1.54...</td>\n",
       "      <td>1.0</td>\n",
       "      <td>2.0</td>\n",
       "      <td>2022-09-28 20:43:18.505</td>\n",
       "      <td>47e89e5328298fb691f162bcd6e5ab34</td>\n",
       "      <td>lume_services.results.generic:Result</td>\n",
       "    </tr>\n",
       "    <tr>\n",
       "      <th>28</th>\n",
       "      <td>generic</td>\n",
       "      <td>f14310fa-633f-4e66-9b48-36a24bd65787</td>\n",
       "      <td>1.0</td>\n",
       "      <td>2.0</td>\n",
       "      <td>[[1.8066793241501302, 1.813273849727342, 1.690...</td>\n",
       "      <td>1.0</td>\n",
       "      <td>2.0</td>\n",
       "      <td>2022-09-28 20:43:42.902</td>\n",
       "      <td>57d4cf87f64fc5006f832d9acf17f09d</td>\n",
       "      <td>lume_services.results.generic:Result</td>\n",
       "    </tr>\n",
       "    <tr>\n",
       "      <th>29</th>\n",
       "      <td>generic</td>\n",
       "      <td>f14310fa-633f-4e66-9b48-36a24bd65787</td>\n",
       "      <td>1.0</td>\n",
       "      <td>2.0</td>\n",
       "      <td>[[1.3991248502193954, 1.8315709359062269, 1.40...</td>\n",
       "      <td>1.0</td>\n",
       "      <td>2.0</td>\n",
       "      <td>2022-09-28 20:48:10.106</td>\n",
       "      <td>2ae0e46322c4fac2f5515d27b5b41a16</td>\n",
       "      <td>lume_services.results.generic:Result</td>\n",
       "    </tr>\n",
       "    <tr>\n",
       "      <th>30</th>\n",
       "      <td>generic</td>\n",
       "      <td>f14310fa-633f-4e66-9b48-36a24bd65787</td>\n",
       "      <td>1.0</td>\n",
       "      <td>2.0</td>\n",
       "      <td>[[1.4157199072776927, 1.2231459661493171, 1.32...</td>\n",
       "      <td>1.0</td>\n",
       "      <td>2.0</td>\n",
       "      <td>2022-09-28 20:50:05.910</td>\n",
       "      <td>836d8a789675395c32b4485887566929</td>\n",
       "      <td>lume_services.results.generic:Result</td>\n",
       "    </tr>\n",
       "    <tr>\n",
       "      <th>31</th>\n",
       "      <td>generic</td>\n",
       "      <td>f14310fa-633f-4e66-9b48-36a24bd65787</td>\n",
       "      <td>1.0</td>\n",
       "      <td>2.0</td>\n",
       "      <td>[[1.4465338696518941, 1.0675886302129003, 1.11...</td>\n",
       "      <td>1.0</td>\n",
       "      <td>2.0</td>\n",
       "      <td>2022-09-28 20:51:01.885</td>\n",
       "      <td>e6e4ead73f1308ff64324169e1f0759f</td>\n",
       "      <td>lume_services.results.generic:Result</td>\n",
       "    </tr>\n",
       "    <tr>\n",
       "      <th>32</th>\n",
       "      <td>generic</td>\n",
       "      <td>f14310fa-633f-4e66-9b48-36a24bd65787</td>\n",
       "      <td>1.0</td>\n",
       "      <td>2.0</td>\n",
       "      <td>[[1.7462585363723289, 1.388428806919321, 1.107...</td>\n",
       "      <td>1.0</td>\n",
       "      <td>2.0</td>\n",
       "      <td>2022-09-28 20:51:02.082</td>\n",
       "      <td>146349f20ab662e63d917b19f24ce994</td>\n",
       "      <td>lume_services.results.generic:Result</td>\n",
       "    </tr>\n",
       "    <tr>\n",
       "      <th>33</th>\n",
       "      <td>generic</td>\n",
       "      <td>f14310fa-633f-4e66-9b48-36a24bd65787</td>\n",
       "      <td>1.0</td>\n",
       "      <td>2.0</td>\n",
       "      <td>[[1.4023293301160658, 1.3009146111500063, 1.10...</td>\n",
       "      <td>1.0</td>\n",
       "      <td>2.0</td>\n",
       "      <td>2022-09-28 20:52:28.332</td>\n",
       "      <td>afdb3470eab2b69d65e9f8cf8c547bae</td>\n",
       "      <td>lume_services.results.generic:Result</td>\n",
       "    </tr>\n",
       "    <tr>\n",
       "      <th>34</th>\n",
       "      <td>generic</td>\n",
       "      <td>f14310fa-633f-4e66-9b48-36a24bd65787</td>\n",
       "      <td>1.0</td>\n",
       "      <td>2.0</td>\n",
       "      <td>[[1.715167760077846, 1.0009230020405937, 1.587...</td>\n",
       "      <td>1.0</td>\n",
       "      <td>2.0</td>\n",
       "      <td>2022-09-28 20:52:28.314</td>\n",
       "      <td>f760cdacc85559666a5374fa81685c1e</td>\n",
       "      <td>lume_services.results.generic:Result</td>\n",
       "    </tr>\n",
       "  </tbody>\n",
       "</table>\n",
       "</div>"
      ],
      "text/plain": [
       "   model_type                               flow_id  input1  input2  \\\n",
       "0     generic  f14310fa-633f-4e66-9b48-36a24bd65787     1.0     2.0   \n",
       "1     generic  f14310fa-633f-4e66-9b48-36a24bd65787     1.0     2.0   \n",
       "2     generic  f14310fa-633f-4e66-9b48-36a24bd65787     1.0     2.0   \n",
       "3     generic  f14310fa-633f-4e66-9b48-36a24bd65787     1.0     2.0   \n",
       "4     generic  f14310fa-633f-4e66-9b48-36a24bd65787     1.0     2.0   \n",
       "5     generic  f14310fa-633f-4e66-9b48-36a24bd65787     1.0     2.0   \n",
       "6     generic  f14310fa-633f-4e66-9b48-36a24bd65787     1.0     2.0   \n",
       "7     generic  f14310fa-633f-4e66-9b48-36a24bd65787     1.0     2.0   \n",
       "8     generic  f14310fa-633f-4e66-9b48-36a24bd65787     1.0     2.0   \n",
       "9     generic  f14310fa-633f-4e66-9b48-36a24bd65787     1.0     2.0   \n",
       "10    generic  f14310fa-633f-4e66-9b48-36a24bd65787     1.0     2.0   \n",
       "11    generic  f14310fa-633f-4e66-9b48-36a24bd65787     1.0     2.0   \n",
       "12    generic  f14310fa-633f-4e66-9b48-36a24bd65787     1.0     2.0   \n",
       "13    generic  f14310fa-633f-4e66-9b48-36a24bd65787     1.0     2.0   \n",
       "14    generic  f14310fa-633f-4e66-9b48-36a24bd65787     1.0     2.0   \n",
       "15    generic  f14310fa-633f-4e66-9b48-36a24bd65787     1.0     2.0   \n",
       "16    generic  f14310fa-633f-4e66-9b48-36a24bd65787     1.0     2.0   \n",
       "17    generic  f14310fa-633f-4e66-9b48-36a24bd65787     1.0     2.0   \n",
       "18    generic  f14310fa-633f-4e66-9b48-36a24bd65787     1.0     2.0   \n",
       "19    generic  f14310fa-633f-4e66-9b48-36a24bd65787     1.0     2.0   \n",
       "20    generic  f14310fa-633f-4e66-9b48-36a24bd65787     1.0     2.0   \n",
       "21    generic  f14310fa-633f-4e66-9b48-36a24bd65787     1.0     2.0   \n",
       "22    generic  f14310fa-633f-4e66-9b48-36a24bd65787     1.0     2.0   \n",
       "23    generic  f14310fa-633f-4e66-9b48-36a24bd65787     1.0     2.0   \n",
       "24    generic  f14310fa-633f-4e66-9b48-36a24bd65787     1.0     2.0   \n",
       "25    generic  f14310fa-633f-4e66-9b48-36a24bd65787     1.0     2.0   \n",
       "26    generic  f14310fa-633f-4e66-9b48-36a24bd65787     1.0     2.0   \n",
       "27    generic  f14310fa-633f-4e66-9b48-36a24bd65787     1.0     2.0   \n",
       "28    generic  f14310fa-633f-4e66-9b48-36a24bd65787     1.0     2.0   \n",
       "29    generic  f14310fa-633f-4e66-9b48-36a24bd65787     1.0     2.0   \n",
       "30    generic  f14310fa-633f-4e66-9b48-36a24bd65787     1.0     2.0   \n",
       "31    generic  f14310fa-633f-4e66-9b48-36a24bd65787     1.0     2.0   \n",
       "32    generic  f14310fa-633f-4e66-9b48-36a24bd65787     1.0     2.0   \n",
       "33    generic  f14310fa-633f-4e66-9b48-36a24bd65787     1.0     2.0   \n",
       "34    generic  f14310fa-633f-4e66-9b48-36a24bd65787     1.0     2.0   \n",
       "\n",
       "                                              output1  output2  output3  \\\n",
       "0   [[1.820521598226592, 1.875737065714508, 1.3158...      1.0      2.0   \n",
       "1   [[1.8594920966103436, 1.9702209676716067, 1.47...      1.0      2.0   \n",
       "2   [[1.7838111640117922, 1.3434367993756404, 1.66...      1.0      2.0   \n",
       "3   [[1.9657229574316597, 1.9373403094863368, 1.34...      1.0      2.0   \n",
       "4   [[1.0249553697721896, 1.795705610400978, 1.168...      1.0      2.0   \n",
       "5   [[1.9931810327610155, 1.9855442434420671, 1.40...      1.0      2.0   \n",
       "6   [[1.589720734266254, 1.1951683055177797, 1.533...      1.0      2.0   \n",
       "7   [[1.1636674576639654, 1.441257712865944, 1.677...      1.0      2.0   \n",
       "8   [[1.9692685443468778, 1.7361192123149523, 1.57...      1.0      2.0   \n",
       "9   [[1.2943132791561838, 1.7766031230507902, 1.91...      1.0      2.0   \n",
       "10  [[1.8651166025520314, 1.5757778185311624, 1.30...      1.0      2.0   \n",
       "11  [[1.4171252552121725, 1.9247556397121413, 1.29...      1.0      2.0   \n",
       "12  [[1.750892661444024, 1.7733793327213674, 1.951...      1.0      2.0   \n",
       "13  [[1.8639446986738335, 1.7990457673509197, 1.22...      1.0      2.0   \n",
       "14  [[1.73523898485919, 1.2185505427467351, 1.2742...      1.0      2.0   \n",
       "15  [[1.015735189773927, 1.2921741151668793, 1.892...      1.0      2.0   \n",
       "16  [[1.222826799385944, 1.790574545030105, 1.4254...      1.0      2.0   \n",
       "17  [[1.6493317595985855, 1.0017385138432426, 1.66...      1.0      2.0   \n",
       "18  [[1.5873490545385733, 1.0228207087744547, 1.36...      1.0      2.0   \n",
       "19  [[1.8558989477962502, 1.3509181309721434, 1.86...      1.0      2.0   \n",
       "20  [[1.9568833880391792, 1.1741177030845107, 1.28...      1.0      2.0   \n",
       "21  [[1.6204001869125122, 1.3598072516230129, 1.44...      1.0      2.0   \n",
       "22  [[1.8746792174491693, 1.3162196006373195, 1.93...      1.0      2.0   \n",
       "23  [[1.7601688514180496, 1.4176223265663235, 1.84...      1.0      2.0   \n",
       "24  [[1.5797308717564515, 1.2757325016039203, 1.22...      1.0      2.0   \n",
       "25  [[1.6210337064548703, 1.6610273034580074, 1.22...      1.0      2.0   \n",
       "26  [[1.1607296797167757, 1.4575625337723943, 1.41...      1.0      2.0   \n",
       "27  [[1.7619615408406424, 1.5643488809862727, 1.54...      1.0      2.0   \n",
       "28  [[1.8066793241501302, 1.813273849727342, 1.690...      1.0      2.0   \n",
       "29  [[1.3991248502193954, 1.8315709359062269, 1.40...      1.0      2.0   \n",
       "30  [[1.4157199072776927, 1.2231459661493171, 1.32...      1.0      2.0   \n",
       "31  [[1.4465338696518941, 1.0675886302129003, 1.11...      1.0      2.0   \n",
       "32  [[1.7462585363723289, 1.388428806919321, 1.107...      1.0      2.0   \n",
       "33  [[1.4023293301160658, 1.3009146111500063, 1.10...      1.0      2.0   \n",
       "34  [[1.715167760077846, 1.0009230020405937, 1.587...      1.0      2.0   \n",
       "\n",
       "             date_modified                       unique_hash  \\\n",
       "0  2022-09-28 19:37:04.838  ef83125284df7dfeaad201b193bee95e   \n",
       "1  2022-09-28 19:41:06.989  f4686ede779b73bfe1423e1c20f3ecc9   \n",
       "2  2022-09-28 19:43:22.873  1b123234753e1b730e16038484a9c16d   \n",
       "3  2022-09-28 19:44:19.275  31617d7af1975c0c9e7023d59dbdf1fc   \n",
       "4  2022-09-28 19:45:04.945  d7675b858df4f7b92ea5bc75f1bec212   \n",
       "5  2022-09-28 19:49:02.182  c1f8505027930a36a58444349742cbe5   \n",
       "6  2022-09-28 19:53:28.744  11bb70000277ac024a6f09b73298cced   \n",
       "7  2022-09-28 19:54:35.063  f8d388a4d7401b9312ff14a462cb975d   \n",
       "8  2022-09-28 19:55:10.782  d019e294cd4ebffd423dd9fe87e1d2e6   \n",
       "9  2022-09-28 19:59:09.176  0199cb2d1126cd828eefa913a5ed351d   \n",
       "10 2022-09-28 20:01:35.605  5d45516d195a7476e3367dbbb6e53453   \n",
       "11 2022-09-28 20:04:12.028  e087b5c95e93374fce0ecad613aafbb8   \n",
       "12 2022-09-28 20:04:20.120  84a8dbc14fe8ddda5c3364d00e33d6f2   \n",
       "13 2022-09-28 20:06:16.224  347f9a583365e9c118d6c1a46dbe9156   \n",
       "14 2022-09-28 20:06:20.435  483550aabc0203856caea0467228d46f   \n",
       "15 2022-09-28 20:10:26.936  dc2478447a24c7dbd268e9f1b2c547f7   \n",
       "16 2022-09-28 20:10:52.887  407e66ab67234d6b02628175f8e8406c   \n",
       "17 2022-09-28 20:19:00.680  2fa133c9d87a1237951b37ec7dbefacf   \n",
       "18 2022-09-28 20:19:01.315  1438e0a535aefe04b27431e314349dba   \n",
       "19 2022-09-28 20:21:37.460  7ecdeb01b521ab4765239c7d5db866d0   \n",
       "20 2022-09-28 20:21:44.901  42cf9ba4a5a56c704c18eb5574894919   \n",
       "21 2022-09-28 20:23:51.512  572ffbe7e23acc586cee38b537ace175   \n",
       "22 2022-09-28 20:24:27.948  0681e4e164bc06ec8d74bf004e597bd3   \n",
       "23 2022-09-28 20:26:03.607  aff0fe652ca39ba3b2495ddbba5bd81b   \n",
       "24 2022-09-28 20:26:07.984  d72dd14737c02a291d919535bf3b549d   \n",
       "25 2022-09-28 20:29:04.205  f74a1ea233f1c7e02874c5873b34884d   \n",
       "26 2022-09-28 20:29:33.976  131d19229d6be9b0082988146f255150   \n",
       "27 2022-09-28 20:43:18.505  47e89e5328298fb691f162bcd6e5ab34   \n",
       "28 2022-09-28 20:43:42.902  57d4cf87f64fc5006f832d9acf17f09d   \n",
       "29 2022-09-28 20:48:10.106  2ae0e46322c4fac2f5515d27b5b41a16   \n",
       "30 2022-09-28 20:50:05.910  836d8a789675395c32b4485887566929   \n",
       "31 2022-09-28 20:51:01.885  e6e4ead73f1308ff64324169e1f0759f   \n",
       "32 2022-09-28 20:51:02.082  146349f20ab662e63d917b19f24ce994   \n",
       "33 2022-09-28 20:52:28.332  afdb3470eab2b69d65e9f8cf8c547bae   \n",
       "34 2022-09-28 20:52:28.314  f760cdacc85559666a5374fa81685c1e   \n",
       "\n",
       "                      result_type_string  \n",
       "0   lume_services.results.generic:Result  \n",
       "1   lume_services.results.generic:Result  \n",
       "2   lume_services.results.generic:Result  \n",
       "3   lume_services.results.generic:Result  \n",
       "4   lume_services.results.generic:Result  \n",
       "5   lume_services.results.generic:Result  \n",
       "6   lume_services.results.generic:Result  \n",
       "7   lume_services.results.generic:Result  \n",
       "8   lume_services.results.generic:Result  \n",
       "9   lume_services.results.generic:Result  \n",
       "10  lume_services.results.generic:Result  \n",
       "11  lume_services.results.generic:Result  \n",
       "12  lume_services.results.generic:Result  \n",
       "13  lume_services.results.generic:Result  \n",
       "14  lume_services.results.generic:Result  \n",
       "15  lume_services.results.generic:Result  \n",
       "16  lume_services.results.generic:Result  \n",
       "17  lume_services.results.generic:Result  \n",
       "18  lume_services.results.generic:Result  \n",
       "19  lume_services.results.generic:Result  \n",
       "20  lume_services.results.generic:Result  \n",
       "21  lume_services.results.generic:Result  \n",
       "22  lume_services.results.generic:Result  \n",
       "23  lume_services.results.generic:Result  \n",
       "24  lume_services.results.generic:Result  \n",
       "25  lume_services.results.generic:Result  \n",
       "26  lume_services.results.generic:Result  \n",
       "27  lume_services.results.generic:Result  \n",
       "28  lume_services.results.generic:Result  \n",
       "29  lume_services.results.generic:Result  \n",
       "30  lume_services.results.generic:Result  \n",
       "31  lume_services.results.generic:Result  \n",
       "32  lume_services.results.generic:Result  \n",
       "33  lume_services.results.generic:Result  \n",
       "34  lume_services.results.generic:Result  "
      ]
     },
     "execution_count": 12,
     "metadata": {},
     "output_type": "execute_result"
    }
   ],
   "source": [
    "results_df = model.get_results_df(collection=\"generic\")\n",
    "results_df"
   ]
  },
  {
   "cell_type": "markdown",
   "id": "e4f26a31",
   "metadata": {},
   "source": [
    "## Load model using model id\n",
    "Once your model has been registered, you can use the `Model` api object to interact with your model without running the above registration steps. Let's load a new model object using the model_id we registered above."
   ]
  },
  {
   "cell_type": "code",
   "execution_count": 13,
   "id": "d6ef8e4e",
   "metadata": {},
   "outputs": [
    {
     "name": "stderr",
     "output_type": "stream",
     "text": [
      "INFO:lume_services.services.models.db.db:ModelDB selecting: SELECT model.model_id, model.created, model.author, model.laboratory, model.facility, model.beampath, model.description \n",
      "FROM model \n",
      "WHERE model.model_id = :model_id_1\n"
     ]
    }
   ],
   "source": [
    "from importlib import reload \n",
    "import lume_services\n",
    "reload(lume_services.models)\n",
    "from lume_services.models import Model\n",
    "\n",
    "model_id = model.metadata.model_id\n",
    "loaded_model = Model(model_id=model_id)"
   ]
  },
  {
   "cell_type": "code",
   "execution_count": 14,
   "id": "f7a15668",
   "metadata": {},
   "outputs": [
    {
     "data": {
      "text/plain": [
       "Model(                     model_id=1,                     created=datetime.datetime(2022, 9, 28, 19, 32, 58),                     author='Jackie Garrahan'),                     laboratory='slac',                     facility='lcls',                     beampath='cu_hxr',                     description='test_model'                 )"
      ]
     },
     "execution_count": 14,
     "metadata": {},
     "output_type": "execute_result"
    }
   ],
   "source": [
    "loaded_model.metadata"
   ]
  },
  {
   "cell_type": "markdown",
   "id": "26ca3ce4",
   "metadata": {},
   "source": [
    "## Load existing model object\n",
    "Loading a model using the load_deployment method without passing a deployment_id will load the latest deployment registered for the model."
   ]
  },
  {
   "cell_type": "code",
   "execution_count": 15,
   "id": "040bb4bd",
   "metadata": {},
   "outputs": [
    {
     "name": "stderr",
     "output_type": "stream",
     "text": [
      "INFO:lume_services.models.model:Loading latest deployment.\n",
      "INFO:lume_services.services.models.db.db:ModelDB selecting: SELECT deployment.sha256, deployment.deployment_id, deployment.version, deployment.deploy_date, deployment.package_import_name, deployment.asset_dir, deployment.source, deployment.image, deployment.is_live, deployment.model_id \n",
      "FROM deployment \n",
      "WHERE deployment.model_id = :model_id_1 ORDER BY deployment.deploy_date DESC\n",
      "INFO:lume_services.services.models.db.db:ModelDB selecting: SELECT flow.flow_id, flow.flow_name, flow.project_name, flow.deployment_id \n",
      "FROM flow \n",
      "WHERE flow.deployment_id = :deployment_id_1\n",
      "INFO:lume_services.services.models.db.db:ModelDB selecting: SELECT project.project_name, project.description \n",
      "FROM project \n",
      "WHERE project.project_name = :project_name_1\n",
      "INFO:lume_services.services.models.db.db:ModelDB selecting: SELECT flow_of_flows._id, flow_of_flows.parent_flow_id, flow_of_flows.flow_id, flow_of_flows.position \n",
      "FROM flow_of_flows \n",
      "WHERE flow_of_flows.parent_flow_id = :parent_flow_id_1\n"
     ]
    },
    {
     "data": {
      "text/plain": [
       "Deployment(metadata=Deployment(                 deployment_id=2,                 model_id=1,                 version='0.0.42',                 deploy_date=datetime.datetime(2022, 9, 28, 19, 35, 42)),                 asset_dir=None,                 source='https://github.com/jacquelinegarrahan/my-model/releases/download/v0.0.42/my_model-0.0.42.tar.gz',                 sha256='0f05676f30df43a94370de8b3aba01189164724b32823e69bdf4f06d894b0bef',                 image='registry.hub.docker.com/jgarrahan/my-model:v0.0.42',                 is_live=True                 package_import_name='my_model'                 ), project=Project(metadata=Project(                 project_name='test',                 description='my_description',                 )), flow=Flow(name='my-model', flow_id='f14310fa-633f-4e66-9b48-36a24bd65787', project_name='test', prefect_flow=None, parameters=None, mapped_parameters=None, task_slugs=None, labels=['lume-services'], image='registry.hub.docker.com/jgarrahan/my-model:v0.0.42'), model_type=None)"
      ]
     },
     "execution_count": 15,
     "metadata": {},
     "output_type": "execute_result"
    }
   ],
   "source": [
    "loaded_model.load_deployment()\n",
    "loaded_model.deployment"
   ]
  },
  {
   "cell_type": "code",
   "execution_count": 16,
   "id": "06ff1d79",
   "metadata": {},
   "outputs": [
    {
     "name": "stderr",
     "output_type": "stream",
     "text": [
      "INFO:lume_services.services.scheduling.backends.server:Creating Prefect flow run for f14310fa-633f-4e66-9b48-36a24bd65787 with parameters {'input1': 1.0, 'input2': 2.0, 'filename': '/lume-services/data/test_file.txt', 'filesystem_identifier': 'local'} and run_config {\"labels\": [\"lume-services\"], \"env\": null, \"image\": \"registry.hub.docker.com/jgarrahan/my-model:v0.0.42\", \"host_config\": null, \"ports\": null}\n",
      "INFO:lume_services.services.scheduling.backends.server:FlowRunLog(timestamp=DateTime(2022, 9, 28, 20, 55, 11, 937835, tzinfo=Timezone('+00:00')), level=20, message='Entered state <Scheduled>: Flow run scheduled.')\n",
      "INFO:lume_services.services.scheduling.backends.server:FlowRunLog(timestamp=DateTime(2022, 9, 28, 20, 55, 12, 367533, tzinfo=Timezone('+00:00')), level=20, message='Entered state <Submitted>: Submitted for execution')\n",
      "INFO:lume_services.services.scheduling.backends.server:FlowRunLog(timestamp=DateTime(2022, 9, 28, 20, 55, 13, 658299, tzinfo=Timezone('+00:00')), level=20, message='Submitted for execution: Container ID: c2dcc191b4a3ec4ba0db48b5383f0be6df78bce35f98b526df669629220f1049')\n",
      "INFO:lume_services.services.scheduling.backends.server:FlowRunLog(timestamp=DateTime(2022, 9, 28, 20, 55, 15, 782929, tzinfo=Timezone('+00:00')), level=20, message='Entered state <Running>: Running flow.')\n",
      "INFO:lume_services.services.scheduling.backends.server:FlowRunLog(timestamp=DateTime(2022, 9, 28, 20, 55, 15, 731425, tzinfo=Timezone('+00:00')), level=20, message=\"Beginning Flow run for 'my-model'\")\n",
      "INFO:lume_services.services.scheduling.backends.server:FlowRunLog(timestamp=DateTime(2022, 9, 28, 20, 55, 15, 912581, tzinfo=Timezone('+00:00')), level=20, message=\"Task 'input2': Starting task run...\")\n",
      "INFO:lume_services.services.scheduling.backends.server:FlowRunLog(timestamp=DateTime(2022, 9, 28, 20, 55, 16, 111655, tzinfo=Timezone('+00:00')), level=20, message=\"Task 'input2': Finished task run for task with final state: 'Success'\")\n",
      "INFO:lume_services.services.scheduling.backends.server:FlowRunLog(timestamp=DateTime(2022, 9, 28, 20, 55, 16, 160558, tzinfo=Timezone('+00:00')), level=20, message=\"Task 'configure_lume_services': Starting task run...\")\n",
      "INFO:lume_services.services.scheduling.backends.server:FlowRunLog(timestamp=DateTime(2022, 9, 28, 20, 55, 16, 401415, tzinfo=Timezone('+00:00')), level=20, message=\"Task 'configure_lume_services': Finished task run for task with final state: 'Success'\")\n",
      "INFO:lume_services.services.scheduling.backends.server:FlowRunLog(timestamp=DateTime(2022, 9, 28, 20, 55, 16, 442661, tzinfo=Timezone('+00:00')), level=20, message=\"Task 'check_local_execution': Starting task run...\")\n",
      "INFO:lume_services.services.scheduling.backends.server:FlowRunLog(timestamp=DateTime(2022, 9, 28, 20, 55, 16, 536521, tzinfo=Timezone('+00:00')), level=20, message=\"Task 'check_local_execution': Finished task run for task with final state: 'Success'\")\n",
      "INFO:lume_services.services.scheduling.backends.server:FlowRunLog(timestamp=DateTime(2022, 9, 28, 20, 55, 16, 578667, tzinfo=Timezone('+00:00')), level=20, message=\"Task 'input1': Starting task run...\")\n",
      "INFO:lume_services.services.scheduling.backends.server:FlowRunLog(timestamp=DateTime(2022, 9, 28, 20, 55, 16, 674301, tzinfo=Timezone('+00:00')), level=20, message=\"Task 'input1': Finished task run for task with final state: 'Success'\")\n",
      "INFO:lume_services.services.scheduling.backends.server:FlowRunLog(timestamp=DateTime(2022, 9, 28, 20, 55, 16, 729243, tzinfo=Timezone('+00:00')), level=20, message=\"Task 'filename': Starting task run...\")\n",
      "INFO:lume_services.services.scheduling.backends.server:FlowRunLog(timestamp=DateTime(2022, 9, 28, 20, 55, 16, 827205, tzinfo=Timezone('+00:00')), level=20, message=\"Task 'filename': Finished task run for task with final state: 'Success'\")\n",
      "INFO:lume_services.services.scheduling.backends.server:FlowRunLog(timestamp=DateTime(2022, 9, 28, 20, 55, 16, 875274, tzinfo=Timezone('+00:00')), level=20, message=\"Task 'filesystem_identifier': Starting task run...\")\n",
      "INFO:lume_services.services.scheduling.backends.server:FlowRunLog(timestamp=DateTime(2022, 9, 28, 20, 55, 16, 968636, tzinfo=Timezone('+00:00')), level=20, message=\"Task 'filesystem_identifier': Finished task run for task with final state: 'Success'\")\n",
      "INFO:lume_services.services.scheduling.backends.server:FlowRunLog(timestamp=DateTime(2022, 9, 28, 20, 55, 17, 17865, tzinfo=Timezone('+00:00')), level=20, message=\"Task 'case(False)': Starting task run...\")\n",
      "INFO:lume_services.services.scheduling.backends.server:FlowRunLog(timestamp=DateTime(2022, 9, 28, 20, 55, 17, 109364, tzinfo=Timezone('+00:00')), level=20, message=\"Task 'case(False)': Finished task run for task with final state: 'Success'\")\n",
      "INFO:lume_services.services.scheduling.backends.server:FlowRunLog(timestamp=DateTime(2022, 9, 28, 20, 55, 17, 155767, tzinfo=Timezone('+00:00')), level=20, message=\"Task 'List': Starting task run...\")\n",
      "INFO:lume_services.services.scheduling.backends.server:FlowRunLog(timestamp=DateTime(2022, 9, 28, 20, 55, 17, 242345, tzinfo=Timezone('+00:00')), level=20, message=\"Task 'List': Finished task run for task with final state: 'Success'\")\n",
      "INFO:lume_services.services.scheduling.backends.server:FlowRunLog(timestamp=DateTime(2022, 9, 28, 20, 55, 17, 286522, tzinfo=Timezone('+00:00')), level=20, message=\"Task 'Dict': Starting task run...\")\n",
      "INFO:lume_services.services.scheduling.backends.server:FlowRunLog(timestamp=DateTime(2022, 9, 28, 20, 55, 17, 375694, tzinfo=Timezone('+00:00')), level=20, message=\"Task 'Dict': Finished task run for task with final state: 'Success'\")\n",
      "INFO:lume_services.services.scheduling.backends.server:FlowRunLog(timestamp=DateTime(2022, 9, 28, 20, 55, 17, 421646, tzinfo=Timezone('+00:00')), level=20, message=\"Task 'prepare_lume_model_variables': Starting task run...\")\n",
      "INFO:lume_services.services.scheduling.backends.server:FlowRunLog(timestamp=DateTime(2022, 9, 28, 20, 55, 17, 551607, tzinfo=Timezone('+00:00')), level=20, message=\"Task 'prepare_lume_model_variables': Finished task run for task with final state: 'Success'\")\n",
      "INFO:lume_services.services.scheduling.backends.server:FlowRunLog(timestamp=DateTime(2022, 9, 28, 20, 55, 17, 587696, tzinfo=Timezone('+00:00')), level=20, message=\"Task 'evaluate': Starting task run...\")\n",
      "INFO:lume_services.services.scheduling.backends.server:FlowRunLog(timestamp=DateTime(2022, 9, 28, 20, 55, 17, 655497, tzinfo=Timezone('+00:00')), level=20, message=\"Task 'evaluate': Finished task run for task with final state: 'Success'\")\n",
      "INFO:lume_services.services.scheduling.backends.server:FlowRunLog(timestamp=DateTime(2022, 9, 28, 20, 55, 17, 692394, tzinfo=Timezone('+00:00')), level=20, message=\"Task 'format_file': Starting task run...\")\n",
      "INFO:lume_services.services.scheduling.backends.server:FlowRunLog(timestamp=DateTime(2022, 9, 28, 20, 55, 17, 761923, tzinfo=Timezone('+00:00')), level=20, message=\"Task 'format_file': Finished task run for task with final state: 'Success'\")\n",
      "INFO:lume_services.services.scheduling.backends.server:FlowRunLog(timestamp=DateTime(2022, 9, 28, 20, 55, 17, 796417, tzinfo=Timezone('+00:00')), level=20, message=\"Task 'save_file': Starting task run...\")\n",
      "INFO:lume_services.services.scheduling.backends.server:FlowRunLog(timestamp=DateTime(2022, 9, 28, 20, 55, 17, 877572, tzinfo=Timezone('+00:00')), level=20, message=\"Task 'save_file': Finished task run for task with final state: 'Success'\")\n",
      "INFO:lume_services.services.scheduling.backends.server:FlowRunLog(timestamp=DateTime(2022, 9, 28, 20, 55, 17, 919554, tzinfo=Timezone('+00:00')), level=20, message=\"Task 'format_result': Starting task run...\")\n",
      "INFO:lume_services.services.scheduling.backends.server:FlowRunLog(timestamp=DateTime(2022, 9, 28, 20, 55, 18, 6459, tzinfo=Timezone('+00:00')), level=20, message=\"Task 'format_result': Finished task run for task with final state: 'Success'\")\n",
      "INFO:lume_services.services.scheduling.backends.server:FlowRunLog(timestamp=DateTime(2022, 9, 28, 20, 55, 18, 51568, tzinfo=Timezone('+00:00')), level=20, message=\"Task 'save_db_result': Starting task run...\")\n",
      "INFO:lume_services.services.scheduling.backends.server:FlowRunLog(timestamp=DateTime(2022, 9, 28, 20, 55, 18, 184393, tzinfo=Timezone('+00:00')), level=20, message=\"Task 'save_db_result': Finished task run for task with final state: 'Success'\")\n"
     ]
    },
    {
     "name": "stderr",
     "output_type": "stream",
     "text": [
      "INFO:lume_services.services.scheduling.backends.server:FlowRunLog(timestamp=DateTime(2022, 9, 28, 20, 55, 18, 237926, tzinfo=Timezone('+00:00')), level=20, message='Flow run SUCCESS: all reference tasks succeeded')\n",
      "INFO:lume_services.services.scheduling.backends.server:FlowRunLog(timestamp=DateTime(2022, 9, 28, 20, 55, 18, 262987, tzinfo=Timezone('+00:00')), level=20, message='Entered state <Success>: All reference tasks succeeded.')\n"
     ]
    },
    {
     "name": "stdout",
     "output_type": "stream",
     "text": [
      "{'result_type_string': 'lume_services.results.generic:Result', 'query': {'unique_hash': '16943181c206f4484ca9d0f8659dd803'}}\n"
     ]
    },
    {
     "data": {
      "text/plain": [
       "[Result(model_type='generic', id='6334b4b61d7c780e74f3b3d4', flow_id='f14310fa-633f-4e66-9b48-36a24bd65787', inputs={'input1': 1.0, 'input2': 2.0}, outputs={'output1': array([[1.26067391, 1.8450996 , 1.19084657, ..., 1.836936  , 1.89644075,\n",
       "         1.71541681],\n",
       "        [1.70550379, 1.96994645, 1.89248388, ..., 1.15608557, 1.18246536,\n",
       "         1.63169308],\n",
       "        [1.46134652, 1.19440154, 1.60908337, ..., 1.30561834, 1.13128327,\n",
       "         1.07777527],\n",
       "        ...,\n",
       "        [1.97880652, 1.44029066, 1.80755682, ..., 1.636144  , 1.81926731,\n",
       "         1.11353966],\n",
       "        [1.61223866, 1.90658222, 1.49289798, ..., 1.31623637, 1.0211756 ,\n",
       "         1.81705073],\n",
       "        [1.91228904, 1.97362938, 1.77886776, ..., 1.09737881, 1.39736749,\n",
       "         1.43171737]]), 'output2': 1.0, 'output3': 2.0}, date_modified=datetime.datetime(2022, 9, 28, 20, 55, 15, 711000), unique_on=['inputs', 'outputs', 'flow_id'], unique_hash='16943181c206f4484ca9d0f8659dd803', result_type_string='lume_services.results.generic:Result')]"
      ]
     },
     "execution_count": 16,
     "metadata": {},
     "output_type": "execute_result"
    }
   ],
   "source": [
    "results = loaded_model.run_and_return(\n",
    "    collection=\"generic\",\n",
    "    parameters={\n",
    "                    \"input1\": 1.0, \n",
    "                    \"input2\": 2.0, \n",
    "                    \"filename\": \"/lume-services/data/test_file.txt\", \n",
    "                    \"filesystem_identifier\":\"local\"\n",
    "    },\n",
    "    task_name=\"save_db_result\" # Want to get the result from the save_db_result task\n",
    ")\n",
    "res"
   ]
  },
  {
   "cell_type": "code",
   "execution_count": null,
   "id": "06c25a25",
   "metadata": {},
   "outputs": [],
   "source": []
  }
 ],
 "metadata": {
  "kernelspec": {
   "display_name": "Python 3 (ipykernel)",
   "language": "python",
   "name": "python3"
  },
  "language_info": {
   "codemirror_mode": {
    "name": "ipython",
    "version": 3
   },
   "file_extension": ".py",
   "mimetype": "text/x-python",
   "name": "python",
   "nbconvert_exporter": "python",
   "pygments_lexer": "ipython3",
   "version": "3.9.13"
  },
  "vscode": {
   "interpreter": {
    "hash": "7b1aa5d32c5360a08f3d071b8537e8759b8901de3eea112666c46651e79793b3"
   }
  }
 },
 "nbformat": 4,
 "nbformat_minor": 5
}

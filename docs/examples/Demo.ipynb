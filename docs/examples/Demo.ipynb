{
 "cells": [
  {
   "cell_type": "markdown",
   "id": "a0aeb04c",
   "metadata": {},
   "source": [
    "# LUME-services demo\n",
    "In this notebook, we will configure LUME-services to use the service configuration used to launch our docker-compose services. Make sure you've completed all steps outlined in https://slaclab.github.io/lume-services/demo/."
   ]
  },
  {
   "cell_type": "code",
   "execution_count": 1,
   "id": "6c7255fa",
   "metadata": {},
   "outputs": [],
   "source": [
    "import logging\n",
    "logging.basicConfig(level=logging.INFO)  # Lets check the logs"
   ]
  },
  {
   "cell_type": "markdown",
   "id": "88cb7294",
   "metadata": {},
   "source": [
    "## Configure services\n",
    "LUME-services is packages with a configuration utility that reads environment variables and initializes services:"
   ]
  },
  {
   "cell_type": "code",
   "execution_count": 2,
   "id": "3c1e88af",
   "metadata": {},
   "outputs": [
    {
     "name": "stderr",
     "output_type": "stream",
     "text": [
      "INFO:lume_services.config:Configuring LUME-services environment...\n",
      "INFO:lume_services.config:Environment configured.\n"
     ]
    }
   ],
   "source": [
    "from lume_services import config\n",
    "config.configure()"
   ]
  },
  {
   "cell_type": "markdown",
   "id": "e14910cc",
   "metadata": {},
   "source": [
    "## if you're running this many time, creation will fail because of uniqueness... You can reset since this is a dev server"
   ]
  },
  {
   "cell_type": "code",
   "execution_count": 3,
   "id": "b1dae5e5",
   "metadata": {},
   "outputs": [],
   "source": [
    "#model_db_service._reset()"
   ]
  },
  {
   "cell_type": "markdown",
   "id": "0d4ba844",
   "metadata": {},
   "source": [
    "## Create a model\n",
    "The LUME-serives Model object handles all model operations."
   ]
  },
  {
   "cell_type": "code",
   "execution_count": 4,
   "id": "299e5321",
   "metadata": {},
   "outputs": [
    {
     "name": "stderr",
     "output_type": "stream",
     "text": [
      "INFO:lume_services.services.models.db.db:ModelDB inserting: INSERT INTO model (author, laboratory, facility, beampath, description) VALUES (:author, :laboratory, :facility, :beampath, :description)\n",
      "INFO:lume_services.services.models.db.db:Sucessfully executed: INSERT INTO model (author, laboratory, facility, beampath, description) VALUES (:author, :laboratory, :facility, :beampath, :description)\n",
      "INFO:lume_services.services.models.db.db:ModelDB selecting: SELECT model.model_id, model.created, model.author, model.laboratory, model.facility, model.beampath, model.description \n",
      "FROM model \n",
      "WHERE model.model_id = :model_id_1\n"
     ]
    },
    {
     "data": {
      "text/plain": [
       "Model(metadata=Model(                     model_id=1,                     created=datetime.datetime(2022, 9, 9, 21, 29, 32),                     author='Jackie Garrahan'),                     laboratory='slac',                     facility='lcls',                     beampath='cu_hxr',                     description='test_model'                 ), deployment=None, results=None)"
      ]
     },
     "execution_count": 4,
     "metadata": {},
     "output_type": "execute_result"
    }
   ],
   "source": [
    "from lume_services.models import Model\n",
    "\n",
    "model = Model.create_model(\n",
    "    author = \"Jackie Garrahan\",\n",
    "    laboratory = \"slac\",\n",
    "    facility = \"lcls\",\n",
    "    beampath = \"cu_hxr\",\n",
    "    description = \"test_model\"\n",
    ")\n",
    "model"
   ]
  },
  {
   "cell_type": "markdown",
   "id": "3088ad03",
   "metadata": {},
   "source": [
    "## Create a project\n",
    "Workflows are organized by the Prefect scheduler into different projects. Below, we access the configured services directly (TODO create project registry utility)"
   ]
  },
  {
   "cell_type": "code",
   "execution_count": 5,
   "id": "bcd2f83f",
   "metadata": {},
   "outputs": [
    {
     "name": "stderr",
     "output_type": "stream",
     "text": [
      "INFO:lume_services.services.models.db.db:ModelDB inserting: INSERT INTO project (project_name, description) VALUES (:project_name, :description)\n",
      "INFO:lume_services.services.models.db.db:Sucessfully executed: INSERT INTO project (project_name, description) VALUES (:project_name, :description)\n"
     ]
    }
   ],
   "source": [
    "# create a project\n",
    "model_db_service = config.context.model_db_service()\n",
    "scheduling_service = config.context.scheduling_service()\n",
    "\n",
    "project_name = model_db_service.store_project(\n",
    "    project_name=\"test\", description=\"my_description\"\n",
    ")\n",
    "scheduling_service.create_project(\"test\")"
   ]
  },
  {
   "cell_type": "markdown",
   "id": "e637147e",
   "metadata": {},
   "source": [
    "You can now find this project in you Prefect UI at http://localhost:8080\n",
    "\n",
    "\n",
    "![project](../files/project_nav.png)"
   ]
  },
  {
   "cell_type": "markdown",
   "id": "bc23acff",
   "metadata": {},
   "source": [
    "## Create a deployment for your model"
   ]
  },
  {
   "cell_type": "code",
   "execution_count": 7,
   "id": "2346c829",
   "metadata": {},
   "outputs": [
    {
     "name": "stderr",
     "output_type": "stream",
     "text": [
      "INFO:lume_services.environment.solver:https://github.com/jacquelinegarrahan/my-model/releases/download/v0.0.9/my_model-0.0.9.tar.gz saved to /tmp/lume-services/my_model-0.0.9.tar.gz\n",
      "INFO:lume_services.environment.solver:https://github.com/jacquelinegarrahan/my-model/releases/download/v0.0.9/my_model-0.0.9.tar.gz saved to /tmp/lume-services/my_model-0.0.9.tar.gz\n",
      "INFO:lume_services.environment.solver:Using conda channels conda-forge to install dependencies.\n",
      "INFO:conda.core.link:initializing UnlinkLinkTransaction with\n",
      "  target_prefix: /tmp/lume-services/tmp_env\n",
      "  unlink_precs:\n",
      "    \n",
      "  link_precs:\n",
      "    \n",
      "\n",
      "INFO:conda.notices.http:Received 404 when trying to GET https://repo.anaconda.com/pkgs/r/notices.json\n",
      "INFO:conda.notices.http:Received 404 when trying to GET https://repo.anaconda.com/pkgs/main/notices.json\n",
      "INFO:conda.notices.http:Received 302 when trying to GET https://conda.anaconda.org/conda-forge/notices.json\n",
      "INFO:lume_services.environment.solver:Resolving conda dependencies...\n",
      "INFO:lume_services.environment.solver:Installing dependencies...\n",
      "INFO:conda.core.link:initializing UnlinkLinkTransaction with\n",
      "  target_prefix: /tmp/lume-services/tmp_env\n",
      "  unlink_precs:\n",
      "    \n",
      "  link_precs:\n",
      "    \n",
      "\n",
      "INFO:conda.notices.http:Received 404 when trying to GET https://repo.anaconda.com/pkgs/r/notices.json\n",
      "INFO:conda.notices.http:Received 404 when trying to GET https://repo.anaconda.com/pkgs/main/notices.json\n",
      "INFO:conda.notices.http:Received 302 when trying to GET https://conda.anaconda.org/conda-forge/notices.json\n",
      "INFO:lume_services.environment.solver:Collecting /Users/jacquelinegarrahan/sandbox/lume-services/local-conda-channel/linux-64/_libgcc_mutex-0.1-conda_forge.tar.bz2\n",
      "INFO:lume_services.environment.solver:Collecting /Users/jacquelinegarrahan/sandbox/lume-services/local-conda-channel/linux-64/libstdcxx-ng-12.1.0-ha89aaad_16.tar.bz2\n",
      "INFO:lume_services.environment.solver:Collecting /Users/jacquelinegarrahan/sandbox/lume-services/local-conda-channel/linux-64/ld_impl_linux-64-2.36.1-hea4e1c9_2.tar.bz2\n",
      "INFO:lume_services.environment.solver:Collecting /Users/jacquelinegarrahan/sandbox/lume-services/local-conda-channel/linux-64/ca-certificates-2022.6.15-ha878542_0.tar.bz2\n",
      "INFO:lume_services.environment.solver:Collecting /Users/jacquelinegarrahan/sandbox/lume-services/local-conda-channel/linux-64/libgfortran5-12.1.0-hdcd56e2_16.tar.bz2\n",
      "INFO:lume_services.environment.solver:Collecting /Users/jacquelinegarrahan/sandbox/lume-services/local-conda-channel/linux-64/libgomp-12.1.0-h8d9b700_16.tar.bz2\n",
      "INFO:lume_services.environment.solver:Collecting /Users/jacquelinegarrahan/sandbox/lume-services/local-conda-channel/linux-64/libgfortran-ng-12.1.0-h69a702a_16.tar.bz2\n",
      "INFO:lume_services.environment.solver:Collecting /Users/jacquelinegarrahan/sandbox/lume-services/local-conda-channel/linux-64/_openmp_mutex-4.5-2_gnu.tar.bz2\n",
      "INFO:lume_services.environment.solver:Collecting /Users/jacquelinegarrahan/sandbox/lume-services/local-conda-channel/linux-64/libgcc-ng-12.1.0-h8d9b700_16.tar.bz2\n",
      "INFO:lume_services.environment.solver:Collecting /Users/jacquelinegarrahan/sandbox/lume-services/local-conda-channel/linux-64/lzo-2.10-h516909a_1000.tar.bz2\n",
      "INFO:lume_services.environment.solver:Collecting /Users/jacquelinegarrahan/sandbox/lume-services/local-conda-channel/linux-64/xorg-libxdmcp-1.1.3-h7f98852_0.tar.bz2\n",
      "INFO:lume_services.environment.solver:Collecting /Users/jacquelinegarrahan/sandbox/lume-services/local-conda-channel/linux-64/xorg-libxau-1.0.9-h7f98852_0.tar.bz2\n",
      "INFO:lume_services.environment.solver:Collecting /Users/jacquelinegarrahan/sandbox/lume-services/local-conda-channel/linux-64/pthread-stubs-0.4-h36c2ea0_1001.tar.bz2\n",
      "INFO:lume_services.environment.solver:Collecting /Users/jacquelinegarrahan/sandbox/lume-services/local-conda-channel/linux-64/libuuid-2.32.1-h7f98852_1000.tar.bz2\n",
      "INFO:lume_services.environment.solver:Collecting /Users/jacquelinegarrahan/sandbox/lume-services/local-conda-channel/linux-64/libdeflate-1.13-h166bdaf_0.tar.bz2\n",
      "INFO:lume_services.environment.solver:Collecting /Users/jacquelinegarrahan/sandbox/lume-services/local-conda-channel/linux-64/lerc-4.0.0-h27087fc_0.tar.bz2\n",
      "INFO:lume_services.environment.solver:Collecting /Users/jacquelinegarrahan/sandbox/lume-services/local-conda-channel/linux-64/jpeg-9e-h166bdaf_2.tar.bz2\n",
      "INFO:lume_services.environment.solver:Collecting /Users/jacquelinegarrahan/sandbox/lume-services/local-conda-channel/linux-64/libbrotlicommon-1.0.9-h166bdaf_7.tar.bz2\n",
      "INFO:lume_services.environment.solver:Collecting /Users/jacquelinegarrahan/sandbox/lume-services/local-conda-channel/linux-64/libev-4.33-h516909a_1.tar.bz2\n",
      "INFO:lume_services.environment.solver:Collecting /Users/jacquelinegarrahan/sandbox/lume-services/local-conda-channel/linux-64/c-ares-1.18.1-h7f98852_0.tar.bz2\n",
      "INFO:lume_services.environment.solver:Collecting /Users/jacquelinegarrahan/sandbox/lume-services/local-conda-channel/linux-64/libwebp-base-1.2.4-h166bdaf_0.tar.bz2\n",
      "INFO:lume_services.environment.solver:Collecting /Users/jacquelinegarrahan/sandbox/lume-services/local-conda-channel/linux-64/ripgrep-13.0.0-h2f28480_2.tar.bz2\n",
      "INFO:lume_services.environment.solver:Collecting /Users/jacquelinegarrahan/sandbox/lume-services/local-conda-channel/linux-64/liblief-0.12.1-h27087fc_0.tar.bz2\n",
      "INFO:lume_services.environment.solver:Collecting /Users/jacquelinegarrahan/sandbox/lume-services/local-conda-channel/linux-64/patchelf-0.15.0-h58526e2_0.tar.bz2\n",
      "INFO:lume_services.environment.solver:Collecting /Users/jacquelinegarrahan/sandbox/lume-services/local-conda-channel/linux-64/patch-2.7.6-h7f98852_1002.tar.bz2\n",
      "INFO:lume_services.environment.solver:Collecting /Users/jacquelinegarrahan/sandbox/lume-services/local-conda-channel/linux-64/lz4-c-1.9.3-h9c3ff4c_1.tar.bz2\n",
      "INFO:lume_services.environment.solver:Collecting /Users/jacquelinegarrahan/sandbox/lume-services/local-conda-channel/linux-64/icu-70.1-h27087fc_0.tar.bz2\n",
      "INFO:lume_services.environment.solver:Collecting /Users/jacquelinegarrahan/sandbox/lume-services/local-conda-channel/linux-64/libopenblas-0.3.21-pthreads_h78a6416_3.tar.bz2\n",
      "INFO:lume_services.environment.solver:Collecting /Users/jacquelinegarrahan/sandbox/lume-services/local-conda-channel/linux-64/reproc-14.2.3-h7f98852_0.tar.bz2\n",
      "INFO:lume_services.environment.solver:Collecting /Users/jacquelinegarrahan/sandbox/lume-services/local-conda-channel/linux-64/libiconv-1.16-h516909a_0.tar.bz2\n",
      "INFO:lume_services.environment.solver:Collecting /Users/jacquelinegarrahan/sandbox/lume-services/local-conda-channel/linux-64/keyutils-1.6.1-h166bdaf_0.tar.bz2\n",
      "INFO:lume_services.environment.solver:Collecting /Users/jacquelinegarrahan/sandbox/lume-services/local-conda-channel/linux-64/yaml-cpp-0.7.0-h27087fc_1.tar.bz2\n",
      "INFO:lume_services.environment.solver:Collecting /Users/jacquelinegarrahan/sandbox/lume-services/local-conda-channel/linux-64/xz-5.2.6-h166bdaf_0.tar.bz2\n",
      "INFO:lume_services.environment.solver:Collecting /Users/jacquelinegarrahan/sandbox/lume-services/local-conda-channel/linux-64/openssl-1.1.1q-h166bdaf_0.tar.bz2\n",
      "INFO:lume_services.environment.solver:Collecting /Users/jacquelinegarrahan/sandbox/lume-services/local-conda-channel/linux-64/ncurses-6.3-h27087fc_1.tar.bz2\n",
      "INFO:lume_services.environment.solver:Collecting /Users/jacquelinegarrahan/sandbox/lume-services/local-conda-channel/linux-64/libzlib-1.2.12-h166bdaf_2.tar.bz2\n",
      "INFO:lume_services.environment.solver:Collecting /Users/jacquelinegarrahan/sandbox/lume-services/local-conda-channel/linux-64/libffi-3.4.2-h7f98852_5.tar.bz2\n",
      "INFO:lume_services.environment.solver:Collecting /Users/jacquelinegarrahan/sandbox/lume-services/local-conda-channel/linux-64/bzip2-1.0.8-h7f98852_4.tar.bz2\n",
      "INFO:lume_services.environment.solver:Collecting /Users/jacquelinegarrahan/sandbox/lume-services/local-conda-channel/linux-64/yaml-0.2.5-h7f98852_2.tar.bz2\n",
      "INFO:lume_services.environment.solver:Collecting /Users/jacquelinegarrahan/sandbox/lume-services/local-conda-channel/linux-64/libnsl-2.0.0-h7f98852_0.tar.bz2\n",
      "INFO:lume_services.environment.solver:Collecting /Users/jacquelinegarrahan/sandbox/lume-services/local-conda-channel/linux-64/libxcb-1.13-h7f98852_1004.tar.bz2\n",
      "INFO:lume_services.environment.solver:Collecting /Users/jacquelinegarrahan/sandbox/lume-services/local-conda-channel/linux-64/libbrotlienc-1.0.9-h166bdaf_7.tar.bz2\n"
     ]
    },
    {
     "name": "stderr",
     "output_type": "stream",
     "text": [
      "INFO:lume_services.environment.solver:Collecting /Users/jacquelinegarrahan/sandbox/lume-services/local-conda-channel/linux-64/libbrotlidec-1.0.9-h166bdaf_7.tar.bz2\n",
      "INFO:lume_services.environment.solver:Collecting /Users/jacquelinegarrahan/sandbox/lume-services/local-conda-channel/linux-64/libblas-3.9.0-16_linux64_openblas.tar.bz2\n",
      "INFO:lume_services.environment.solver:Collecting /Users/jacquelinegarrahan/sandbox/lume-services/local-conda-channel/linux-64/reproc-cpp-14.2.3-h9c3ff4c_0.tar.bz2\n",
      "INFO:lume_services.environment.solver:Collecting /Users/jacquelinegarrahan/sandbox/lume-services/local-conda-channel/linux-64/libedit-3.1.20191231-he28a2e2_2.tar.bz2\n",
      "INFO:lume_services.environment.solver:Collecting /Users/jacquelinegarrahan/sandbox/lume-services/local-conda-channel/linux-64/readline-8.1.2-h0f457ee_0.tar.bz2\n",
      "INFO:lume_services.environment.solver:Collecting /Users/jacquelinegarrahan/sandbox/lume-services/local-conda-channel/linux-64/zstd-1.5.2-h6239696_4.tar.bz2\n",
      "INFO:lume_services.environment.solver:Collecting /Users/jacquelinegarrahan/sandbox/lume-services/local-conda-channel/linux-64/libpng-1.6.37-h753d276_4.tar.bz2\n",
      "INFO:lume_services.environment.solver:Collecting /Users/jacquelinegarrahan/sandbox/lume-services/local-conda-channel/linux-64/libxml2-2.9.14-h22db469_4.tar.bz2\n",
      "INFO:lume_services.environment.solver:Collecting /Users/jacquelinegarrahan/sandbox/lume-services/local-conda-channel/linux-64/libssh2-1.10.0-haa6b8db_3.tar.bz2\n",
      "INFO:lume_services.environment.solver:Collecting /Users/jacquelinegarrahan/sandbox/lume-services/local-conda-channel/linux-64/libnghttp2-1.47.0-hdcd2b5c_1.tar.bz2\n",
      "INFO:lume_services.environment.solver:Collecting /Users/jacquelinegarrahan/sandbox/lume-services/local-conda-channel/linux-64/tk-8.6.12-h27826a3_0.tar.bz2\n",
      "INFO:lume_services.environment.solver:Collecting /Users/jacquelinegarrahan/sandbox/lume-services/local-conda-channel/linux-64/libsqlite-3.39.3-h753d276_0.tar.bz2\n",
      "INFO:lume_services.environment.solver:Collecting /Users/jacquelinegarrahan/sandbox/lume-services/local-conda-channel/linux-64/libsolv-0.7.22-h6239696_0.tar.bz2\n",
      "INFO:lume_services.environment.solver:Collecting /Users/jacquelinegarrahan/sandbox/lume-services/local-conda-channel/linux-64/brotli-bin-1.0.9-h166bdaf_7.tar.bz2\n",
      "INFO:lume_services.environment.solver:Collecting /Users/jacquelinegarrahan/sandbox/lume-services/local-conda-channel/linux-64/libcblas-3.9.0-16_linux64_openblas.tar.bz2\n",
      "INFO:lume_services.environment.solver:Collecting /Users/jacquelinegarrahan/sandbox/lume-services/local-conda-channel/linux-64/liblapack-3.9.0-16_linux64_openblas.tar.bz2\n",
      "INFO:lume_services.environment.solver:Collecting /Users/jacquelinegarrahan/sandbox/lume-services/local-conda-channel/linux-64/krb5-1.19.3-h3790be6_0.tar.bz2\n",
      "INFO:lume_services.environment.solver:Collecting /Users/jacquelinegarrahan/sandbox/lume-services/local-conda-channel/linux-64/libtiff-4.4.0-h0e0dad5_3.tar.bz2\n",
      "INFO:lume_services.environment.solver:Collecting /Users/jacquelinegarrahan/sandbox/lume-services/local-conda-channel/linux-64/freetype-2.12.1-hca18f0e_0.tar.bz2\n",
      "INFO:lume_services.environment.solver:Collecting /Users/jacquelinegarrahan/sandbox/lume-services/local-conda-channel/linux-64/libarchive-3.5.2-hb890918_3.tar.bz2\n",
      "INFO:lume_services.environment.solver:Collecting /Users/jacquelinegarrahan/sandbox/lume-services/local-conda-channel/linux-64/sqlite-3.39.3-h4ff8645_0.tar.bz2\n",
      "INFO:lume_services.environment.solver:Collecting /Users/jacquelinegarrahan/sandbox/lume-services/local-conda-channel/linux-64/brotli-1.0.9-h166bdaf_7.tar.bz2\n",
      "INFO:lume_services.environment.solver:Collecting /Users/jacquelinegarrahan/sandbox/lume-services/local-conda-channel/linux-64/libcurl-7.83.1-h7bff187_0.tar.bz2\n",
      "INFO:lume_services.environment.solver:Collecting /Users/jacquelinegarrahan/sandbox/lume-services/local-conda-channel/linux-64/openjpeg-2.5.0-h7d73246_1.tar.bz2\n",
      "INFO:lume_services.environment.solver:Collecting /Users/jacquelinegarrahan/sandbox/lume-services/local-conda-channel/linux-64/lcms2-2.12-hddcbb42_0.tar.bz2\n",
      "INFO:lume_services.environment.solver:Collecting /Users/jacquelinegarrahan/sandbox/lume-services/local-conda-channel/linux-64/hdf5-1.12.2-nompi_h2386368_100.tar.bz2\n",
      "INFO:lume_services.environment.solver:Collecting /Users/jacquelinegarrahan/sandbox/lume-services/local-conda-channel/linux-64/libmamba-0.25.0-hd8a31e3_2.tar.bz2\n",
      "INFO:lume_services.environment.solver:Collecting /Users/jacquelinegarrahan/sandbox/lume-services/local-conda-channel/noarch/tzdata-2022c-h191b570_0.tar.bz2\n",
      "INFO:lume_services.environment.solver:Collecting /Users/jacquelinegarrahan/sandbox/lume-services/local-conda-channel/noarch/pybind11-abi-4-hd8ed1ab_3.tar.bz2\n",
      "INFO:lume_services.environment.solver:Collecting /Users/jacquelinegarrahan/sandbox/lume-services/local-conda-channel/linux-64/python-3.9.13-h9a8a25e_0_cpython.tar.bz2\n",
      "INFO:lume_services.environment.solver:Collecting /Users/jacquelinegarrahan/sandbox/lume-services/local-conda-channel/noarch/wheel-0.37.1-pyhd8ed1ab_0.tar.bz2\n",
      "INFO:lume_services.environment.solver:Collecting /Users/jacquelinegarrahan/sandbox/lume-services/local-conda-channel/noarch/setuptools-65.3.0-pyhd8ed1ab_1.tar.bz2\n",
      "INFO:lume_services.environment.solver:Collecting /Users/jacquelinegarrahan/sandbox/lume-services/local-conda-channel/noarch/pip-22.2.2-pyhd8ed1ab_0.tar.bz2\n",
      "INFO:lume_services.environment.solver:Collecting /Users/jacquelinegarrahan/sandbox/lume-services/local-conda-channel/noarch/munkres-1.1.4-pyh9f0ad1d_0.tar.bz2\n",
      "INFO:lume_services.environment.solver:Collecting /Users/jacquelinegarrahan/sandbox/lume-services/local-conda-channel/noarch/cycler-0.11.0-pyhd8ed1ab_0.tar.bz2\n",
      "INFO:lume_services.environment.solver:Collecting /Users/jacquelinegarrahan/sandbox/lume-services/local-conda-channel/noarch/soupsieve-2.3.2.post1-pyhd8ed1ab_0.tar.bz2\n",
      "INFO:lume_services.environment.solver:Collecting /Users/jacquelinegarrahan/sandbox/lume-services/local-conda-channel/noarch/cached_property-1.5.2-pyha770c72_1.tar.bz2\n",
      "INFO:lume_services.environment.solver:Collecting /Users/jacquelinegarrahan/sandbox/lume-services/local-conda-channel/noarch/unidecode-1.3.4-pyhd8ed1ab_0.tar.bz2\n",
      "INFO:lume_services.environment.solver:Collecting /Users/jacquelinegarrahan/sandbox/lume-services/local-conda-channel/noarch/text-unidecode-1.3-py_0.tar.bz2\n",
      "INFO:lume_services.environment.solver:Collecting /Users/jacquelinegarrahan/sandbox/lume-services/local-conda-channel/noarch/charset-normalizer-2.1.1-pyhd8ed1ab_0.tar.bz2\n",
      "INFO:lume_services.environment.solver:Collecting /Users/jacquelinegarrahan/sandbox/lume-services/local-conda-channel/noarch/colorama-0.4.5-pyhd8ed1ab_0.tar.bz2\n",
      "INFO:lume_services.environment.solver:Collecting /Users/jacquelinegarrahan/sandbox/lume-services/local-conda-channel/noarch/certifi-2022.6.15-pyhd8ed1ab_1.tar.bz2\n",
      "INFO:lume_services.environment.solver:Collecting /Users/jacquelinegarrahan/sandbox/lume-services/local-conda-channel/noarch/heapdict-1.0.1-py_0.tar.bz2\n",
      "INFO:lume_services.environment.solver:Collecting /Users/jacquelinegarrahan/sandbox/lume-services/local-conda-channel/noarch/glob2-0.7-py_0.tar.bz2\n",
      "INFO:lume_services.environment.solver:Collecting /Users/jacquelinegarrahan/sandbox/lume-services/local-conda-channel/noarch/pkginfo-1.8.3-pyhd8ed1ab_0.tar.bz2\n",
      "INFO:lume_services.environment.solver:Collecting /Users/jacquelinegarrahan/sandbox/lume-services/local-conda-channel/noarch/filelock-3.8.0-pyhd8ed1ab_0.tar.bz2\n",
      "INFO:lume_services.environment.solver:Collecting /Users/jacquelinegarrahan/sandbox/lume-services/local-conda-channel/noarch/appdirs-1.4.4-pyh9f0ad1d_0.tar.bz2\n",
      "INFO:lume_services.environment.solver:Collecting /Users/jacquelinegarrahan/sandbox/lume-services/local-conda-channel/noarch/websocket-client-1.4.1-pyhd8ed1ab_0.tar.bz2\n",
      "INFO:lume_services.environment.solver:Collecting /Users/jacquelinegarrahan/sandbox/lume-services/local-conda-channel/noarch/six-1.16.0-pyh6c4a22f_0.tar.bz2\n",
      "INFO:lume_services.environment.solver:Collecting /Users/jacquelinegarrahan/sandbox/lume-services/local-conda-channel/noarch/pycparser-2.21-pyhd8ed1ab_0.tar.bz2\n",
      "INFO:lume_services.environment.solver:Collecting /Users/jacquelinegarrahan/sandbox/lume-services/local-conda-channel/noarch/idna-3.3-pyhd8ed1ab_0.tar.bz2\n",
      "INFO:lume_services.environment.solver:Collecting /Users/jacquelinegarrahan/sandbox/lume-services/local-conda-channel/noarch/asn1crypto-1.5.1-pyhd8ed1ab_0.tar.bz2\n"
     ]
    },
    {
     "name": "stderr",
     "output_type": "stream",
     "text": [
      "INFO:lume_services.environment.solver:Collecting /Users/jacquelinegarrahan/sandbox/lume-services/local-conda-channel/noarch/pytzdata-2020.1-pyh9f0ad1d_0.tar.bz2\n",
      "INFO:lume_services.environment.solver:Collecting /Users/jacquelinegarrahan/sandbox/lume-services/local-conda-channel/noarch/typing_extensions-4.3.0-pyha770c72_0.tar.bz2\n",
      "INFO:lume_services.environment.solver:Collecting /Users/jacquelinegarrahan/sandbox/lume-services/local-conda-channel/noarch/natsort-8.2.0-pyhd8ed1ab_0.tar.bz2\n",
      "INFO:lume_services.environment.solver:Collecting /Users/jacquelinegarrahan/sandbox/lume-services/local-conda-channel/noarch/fsspec-2022.8.2-pyhd8ed1ab_0.tar.bz2\n",
      "INFO:lume_services.environment.solver:Collecting /Users/jacquelinegarrahan/sandbox/lume-services/local-conda-channel/noarch/tblib-1.7.0-pyhd8ed1ab_0.tar.bz2\n",
      "INFO:lume_services.environment.solver:Collecting /Users/jacquelinegarrahan/sandbox/lume-services/local-conda-channel/noarch/locket-1.0.0-pyhd8ed1ab_0.tar.bz2\n",
      "INFO:lume_services.environment.solver:Collecting /Users/jacquelinegarrahan/sandbox/lume-services/local-conda-channel/noarch/toolz-0.12.0-pyhd8ed1ab_0.tar.bz2\n",
      "INFO:lume_services.environment.solver:Collecting /Users/jacquelinegarrahan/sandbox/lume-services/local-conda-channel/noarch/sortedcontainers-2.4.0-pyhd8ed1ab_0.tar.bz2\n",
      "INFO:lume_services.environment.solver:Collecting /Users/jacquelinegarrahan/sandbox/lume-services/local-conda-channel/noarch/zipp-3.8.1-pyhd8ed1ab_0.tar.bz2\n",
      "INFO:lume_services.environment.solver:Collecting /Users/jacquelinegarrahan/sandbox/lume-services/local-conda-channel/noarch/pyparsing-3.0.9-pyhd8ed1ab_0.tar.bz2\n",
      "INFO:lume_services.environment.solver:Collecting /Users/jacquelinegarrahan/sandbox/lume-services/local-conda-channel/noarch/toml-0.10.2-pyhd8ed1ab_0.tar.bz2\n",
      "INFO:lume_services.environment.solver:Collecting /Users/jacquelinegarrahan/sandbox/lume-services/local-conda-channel/noarch/tabulate-0.8.10-pyhd8ed1ab_0.tar.bz2\n",
      "INFO:lume_services.environment.solver:Collecting /Users/jacquelinegarrahan/sandbox/lume-services/local-conda-channel/noarch/pytz-2022.2.1-pyhd8ed1ab_0.tar.bz2\n",
      "INFO:lume_services.environment.solver:Collecting /Users/jacquelinegarrahan/sandbox/lume-services/local-conda-channel/noarch/cloudpickle-2.2.0-pyhd8ed1ab_0.tar.bz2\n",
      "INFO:lume_services.environment.solver:Collecting /Users/jacquelinegarrahan/sandbox/lume-services/local-conda-channel/noarch/pymysql-1.0.2-pyhd8ed1ab_0.tar.bz2\n",
      "INFO:lume_services.environment.solver:Collecting /Users/jacquelinegarrahan/sandbox/lume-services/local-conda-channel/noarch/beautifulsoup4-4.11.1-pyha770c72_0.tar.bz2\n",
      "INFO:lume_services.environment.solver:Collecting /Users/jacquelinegarrahan/sandbox/lume-services/local-conda-channel/noarch/cached-property-1.5.2-hd8ed1ab_1.tar.bz2\n",
      "INFO:lume_services.environment.solver:Collecting /Users/jacquelinegarrahan/sandbox/lume-services/local-conda-channel/noarch/python-slugify-6.1.2-pyhd8ed1ab_0.tar.bz2\n",
      "INFO:lume_services.environment.solver:Collecting /Users/jacquelinegarrahan/sandbox/lume-services/local-conda-channel/noarch/tqdm-4.64.1-pyhd8ed1ab_0.tar.bz2\n",
      "INFO:lume_services.environment.solver:Collecting /Users/jacquelinegarrahan/sandbox/lume-services/local-conda-channel/noarch/zict-2.2.0-pyhd8ed1ab_0.tar.bz2\n",
      "INFO:lume_services.environment.solver:Collecting /Users/jacquelinegarrahan/sandbox/lume-services/local-conda-channel/noarch/docker-pycreds-0.4.0-py_0.tar.bz2\n",
      "INFO:lume_services.environment.solver:Collecting /Users/jacquelinegarrahan/sandbox/lume-services/local-conda-channel/noarch/python-dateutil-2.8.2-pyhd8ed1ab_0.tar.bz2\n",
      "INFO:lume_services.environment.solver:Collecting /Users/jacquelinegarrahan/sandbox/lume-services/local-conda-channel/noarch/typing-extensions-4.3.0-hd8ed1ab_0.tar.bz2\n",
      "INFO:lume_services.environment.solver:Collecting /Users/jacquelinegarrahan/sandbox/lume-services/local-conda-channel/noarch/partd-1.3.0-pyhd8ed1ab_0.tar.bz2\n",
      "INFO:lume_services.environment.solver:Collecting /Users/jacquelinegarrahan/sandbox/lume-services/local-conda-channel/noarch/importlib_resources-5.9.0-pyhd8ed1ab_0.tar.bz2\n",
      "INFO:lume_services.environment.solver:Collecting /Users/jacquelinegarrahan/sandbox/lume-services/local-conda-channel/noarch/packaging-21.3-pyhd8ed1ab_0.tar.bz2\n",
      "INFO:lume_services.environment.solver:Collecting /Users/jacquelinegarrahan/sandbox/lume-services/local-conda-channel/noarch/croniter-0.3.36-pyhd8ed1ab_0.tar.bz2\n",
      "INFO:lume_services.environment.solver:Collecting /Users/jacquelinegarrahan/sandbox/lume-services/local-conda-channel/noarch/marshmallow-3.17.1-pyhd8ed1ab_0.tar.bz2\n",
      "INFO:lume_services.environment.solver:Collecting /Users/jacquelinegarrahan/sandbox/lume-services/local-conda-channel/noarch/marshmallow-oneofschema-3.0.1-pyhd8ed1ab_0.tar.bz2\n",
      "INFO:lume_services.environment.solver:Collecting /Users/jacquelinegarrahan/sandbox/lume-services/local-conda-channel/linux-64/python_abi-3.9-2_cp39.tar.bz2\n",
      "INFO:lume_services.environment.solver:Collecting /Users/jacquelinegarrahan/sandbox/lume-services/local-conda-channel/linux-64/unicodedata2-14.0.0-py39hb9d737c_1.tar.bz2\n",
      "INFO:lume_services.environment.solver:Collecting /Users/jacquelinegarrahan/sandbox/lume-services/local-conda-channel/linux-64/pillow-9.2.0-py39hd5dbb17_2.tar.bz2\n",
      "INFO:lume_services.environment.solver:Collecting /Users/jacquelinegarrahan/sandbox/lume-services/local-conda-channel/linux-64/kiwisolver-1.4.4-py39hf939315_0.tar.bz2\n",
      "INFO:lume_services.environment.solver:Collecting /Users/jacquelinegarrahan/sandbox/lume-services/local-conda-channel/linux-64/ruamel.yaml.clib-0.2.6-py39hb9d737c_1.tar.bz2\n",
      "INFO:lume_services.environment.solver:Collecting /Users/jacquelinegarrahan/sandbox/lume-services/local-conda-channel/linux-64/markupsafe-2.1.1-py39hb9d737c_1.tar.bz2\n",
      "INFO:lume_services.environment.solver:Collecting /Users/jacquelinegarrahan/sandbox/lume-services/local-conda-channel/linux-64/pysocks-1.7.1-py39hf3d152e_5.tar.bz2\n",
      "INFO:lume_services.environment.solver:Collecting /Users/jacquelinegarrahan/sandbox/lume-services/local-conda-channel/linux-64/ruamel_yaml-0.15.80-py39hb9d737c_1007.tar.bz2\n",
      "INFO:lume_services.environment.solver:Collecting /Users/jacquelinegarrahan/sandbox/lume-services/local-conda-channel/linux-64/pycosat-0.6.3-py39hb9d737c_1010.tar.bz2\n",
      "INFO:lume_services.environment.solver:Collecting /Users/jacquelinegarrahan/sandbox/lume-services/local-conda-channel/linux-64/python-libarchive-c-4.0-py39hf3d152e_1.tar.bz2\n",
      "INFO:lume_services.environment.solver:Collecting /Users/jacquelinegarrahan/sandbox/lume-services/local-conda-channel/linux-64/py-lief-0.12.1-py39h5a03fae_0.tar.bz2\n",
      "INFO:lume_services.environment.solver:Collecting /Users/jacquelinegarrahan/sandbox/lume-services/local-conda-channel/linux-64/conda-package-handling-1.8.1-py39hb9d737c_1.tar.bz2\n",
      "INFO:lume_services.environment.solver:Collecting /Users/jacquelinegarrahan/sandbox/lume-services/local-conda-channel/linux-64/chardet-5.0.0-py39hf3d152e_0.tar.bz2\n",
      "INFO:lume_services.environment.solver:Collecting /Users/jacquelinegarrahan/sandbox/lume-services/local-conda-channel/linux-64/cffi-1.15.1-py39he91dace_0.tar.bz2\n",
      "INFO:lume_services.environment.solver:Collecting /Users/jacquelinegarrahan/sandbox/lume-services/local-conda-channel/linux-64/greenlet-1.1.3-py39h5a03fae_0.tar.bz2\n",
      "INFO:lume_services.environment.solver:Collecting /Users/jacquelinegarrahan/sandbox/lume-services/local-conda-channel/linux-64/tornado-6.1-py39hb9d737c_3.tar.bz2\n",
      "INFO:lume_services.environment.solver:Collecting /Users/jacquelinegarrahan/sandbox/lume-services/local-conda-channel/linux-64/psutil-5.9.2-py39hb9d737c_0.tar.bz2\n",
      "INFO:lume_services.environment.solver:Collecting /Users/jacquelinegarrahan/sandbox/lume-services/local-conda-channel/linux-64/msgpack-python-1.0.4-py39hf939315_0.tar.bz2\n",
      "INFO:lume_services.environment.solver:Collecting /Users/jacquelinegarrahan/sandbox/lume-services/local-conda-channel/linux-64/cytoolz-0.12.0-py39hb9d737c_0.tar.bz2\n",
      "INFO:lume_services.environment.solver:Collecting /Users/jacquelinegarrahan/sandbox/lume-services/local-conda-channel/linux-64/pendulum-2.1.2-py39hb9d737c_4.tar.bz2\n",
      "INFO:lume_services.environment.solver:Collecting /Users/jacquelinegarrahan/sandbox/lume-services/local-conda-channel/linux-64/mypy_extensions-0.4.3-py39hf3d152e_5.tar.bz2\n",
      "INFO:lume_services.environment.solver:Collecting /Users/jacquelinegarrahan/sandbox/lume-services/local-conda-channel/linux-64/pymongo-4.2.0-py39h5a03fae_1.tar.bz2\n"
     ]
    },
    {
     "name": "stderr",
     "output_type": "stream",
     "text": [
      "INFO:lume_services.environment.solver:Collecting /Users/jacquelinegarrahan/sandbox/lume-services/local-conda-channel/linux-64/libmambapy-0.25.0-py39hd55135b_2.tar.bz2\n",
      "INFO:lume_services.environment.solver:Collecting /Users/jacquelinegarrahan/sandbox/lume-services/local-conda-channel/linux-64/dependency_injector-4.40.0-py39hb9d737c_0.tar.bz2\n",
      "INFO:lume_services.environment.solver:Collecting /Users/jacquelinegarrahan/sandbox/lume-services/local-conda-channel/linux-64/numpy-1.23.2-py39hba7629e_0.tar.bz2\n",
      "INFO:lume_services.environment.solver:Collecting /Users/jacquelinegarrahan/sandbox/lume-services/local-conda-channel/linux-64/click-8.1.3-py39hf3d152e_0.tar.bz2\n",
      "INFO:lume_services.environment.solver:Collecting /Users/jacquelinegarrahan/sandbox/lume-services/local-conda-channel/linux-64/pyyaml-6.0-py39hb9d737c_4.tar.bz2\n",
      "INFO:lume_services.environment.solver:Collecting /Users/jacquelinegarrahan/sandbox/lume-services/local-conda-channel/linux-64/pydantic-1.10.2-py39hb9d737c_0.tar.bz2\n",
      "INFO:lume_services.environment.solver:Collecting /Users/jacquelinegarrahan/sandbox/lume-services/local-conda-channel/linux-64/fonttools-4.37.1-py39hb9d737c_0.tar.bz2\n",
      "INFO:lume_services.environment.solver:Collecting /Users/jacquelinegarrahan/sandbox/lume-services/local-conda-channel/linux-64/ruamel.yaml-0.17.21-py39hb9d737c_1.tar.bz2\n",
      "INFO:lume_services.environment.solver:Collecting /Users/jacquelinegarrahan/sandbox/lume-services/local-conda-channel/linux-64/brotlipy-0.7.0-py39hb9d737c_1004.tar.bz2\n",
      "INFO:lume_services.environment.solver:Collecting /Users/jacquelinegarrahan/sandbox/lume-services/local-conda-channel/linux-64/cryptography-37.0.4-py39hd97740a_0.tar.bz2\n",
      "INFO:lume_services.environment.solver:Collecting /Users/jacquelinegarrahan/sandbox/lume-services/local-conda-channel/linux-64/sqlalchemy-1.4.41-py39hb9d737c_0.tar.bz2\n",
      "INFO:lume_services.environment.solver:Collecting /Users/jacquelinegarrahan/sandbox/lume-services/local-conda-channel/linux-64/scipy-1.9.1-py39h8ba3f38_0.tar.bz2\n",
      "INFO:lume_services.environment.solver:Collecting /Users/jacquelinegarrahan/sandbox/lume-services/local-conda-channel/linux-64/h5py-3.7.0-nompi_py39hd51670d_101.tar.bz2\n",
      "INFO:lume_services.environment.solver:Collecting /Users/jacquelinegarrahan/sandbox/lume-services/local-conda-channel/linux-64/pandas-1.4.4-py39h1832856_0.tar.bz2\n",
      "INFO:lume_services.environment.solver:Collecting /Users/jacquelinegarrahan/sandbox/lume-services/local-conda-channel/linux-64/matplotlib-base-3.5.3-py39h19d6b11_2.tar.bz2\n",
      "INFO:lume_services.environment.solver:Collecting /Users/jacquelinegarrahan/sandbox/lume-services/local-conda-channel/linux-64/python-box-6.0.2-py39hb9d737c_3.tar.bz2\n",
      "INFO:lume_services.environment.solver:Collecting /Users/jacquelinegarrahan/sandbox/lume-services/local-conda-channel/noarch/jinja2-3.1.2-pyhd8ed1ab_1.tar.bz2\n",
      "INFO:lume_services.environment.solver:Collecting /Users/jacquelinegarrahan/sandbox/lume-services/local-conda-channel/noarch/dask-core-2022.9.0-pyhd8ed1ab_0.tar.bz2\n",
      "INFO:lume_services.environment.solver:Collecting /Users/jacquelinegarrahan/sandbox/lume-services/local-conda-channel/noarch/lume-model-1.4-pyhd8ed1ab_1.tar.bz2\n",
      "INFO:lume_services.environment.solver:Collecting /Users/jacquelinegarrahan/sandbox/lume-services/local-conda-channel/noarch/pyopenssl-22.0.0-pyhd8ed1ab_0.tar.bz2\n",
      "INFO:lume_services.environment.solver:Collecting /Users/jacquelinegarrahan/sandbox/lume-services/local-conda-channel/noarch/openpmd-beamphysics-0.7.1-pyhd8ed1ab_0.tar.bz2\n",
      "INFO:lume_services.environment.solver:Collecting /Users/jacquelinegarrahan/sandbox/lume-services/local-conda-channel/noarch/urllib3-1.26.11-pyhd8ed1ab_0.tar.bz2\n",
      "INFO:lume_services.environment.solver:Collecting /Users/jacquelinegarrahan/sandbox/lume-services/local-conda-channel/noarch/lume-base-0.2.3-pyhd8ed1ab_0.tar.bz2\n",
      "INFO:lume_services.environment.solver:Collecting /Users/jacquelinegarrahan/sandbox/lume-services/local-conda-channel/noarch/requests-2.28.1-pyhd8ed1ab_1.tar.bz2\n",
      "INFO:lume_services.environment.solver:Collecting /Users/jacquelinegarrahan/sandbox/lume-services/local-conda-channel/noarch/distributed-2022.9.0-pyhd8ed1ab_0.tar.bz2\n",
      "INFO:lume_services.environment.solver:Collecting /Users/jacquelinegarrahan/sandbox/lume-services/local-conda-channel/linux-64/conda-4.14.0-py39hf3d152e_0.tar.bz2\n",
      "INFO:lume_services.environment.solver:Collecting /Users/jacquelinegarrahan/sandbox/lume-services/local-conda-channel/linux-64/docker-py-5.0.3-py39hf3d152e_2.tar.bz2\n",
      "INFO:lume_services.environment.solver:Collecting /Users/jacquelinegarrahan/sandbox/lume-services/local-conda-channel/linux-64/conda-build-3.22.0-py39hf3d152e_2.tar.bz2\n",
      "INFO:lume_services.environment.solver:Collecting /Users/jacquelinegarrahan/sandbox/lume-services/local-conda-channel/linux-64/mamba-0.25.0-py39hfa8f2c8_2.tar.bz2\n",
      "INFO:lume_services.environment.solver:Collecting /Users/jacquelinegarrahan/sandbox/lume-services/local-conda-channel/noarch/prefect-1.3.1-pyhd8ed1ab_0.tar.bz2\n",
      "  Running command python setup.py egg_info\n",
      "  running egg_info\n",
      "  creating /private/var/folders/nh/g2v_nmtj7t1g94gmjtgjrk3r0000gn/T/pip-pip-egg-info-gyzl34jc/lume_services.egg-info\n",
      "  writing /private/var/folders/nh/g2v_nmtj7t1g94gmjtgjrk3r0000gn/T/pip-pip-egg-info-gyzl34jc/lume_services.egg-info/PKG-INFO\n",
      "  writing dependency_links to /private/var/folders/nh/g2v_nmtj7t1g94gmjtgjrk3r0000gn/T/pip-pip-egg-info-gyzl34jc/lume_services.egg-info/dependency_links.txt\n",
      "  writing entry points to /private/var/folders/nh/g2v_nmtj7t1g94gmjtgjrk3r0000gn/T/pip-pip-egg-info-gyzl34jc/lume_services.egg-info/entry_points.txt\n",
      "  writing requirements to /private/var/folders/nh/g2v_nmtj7t1g94gmjtgjrk3r0000gn/T/pip-pip-egg-info-gyzl34jc/lume_services.egg-info/requires.txt\n",
      "  writing top-level names to /private/var/folders/nh/g2v_nmtj7t1g94gmjtgjrk3r0000gn/T/pip-pip-egg-info-gyzl34jc/lume_services.egg-info/top_level.txt\n",
      "  writing manifest file '/private/var/folders/nh/g2v_nmtj7t1g94gmjtgjrk3r0000gn/T/pip-pip-egg-info-gyzl34jc/lume_services.egg-info/SOURCES.txt'\n",
      "  reading manifest file '/private/var/folders/nh/g2v_nmtj7t1g94gmjtgjrk3r0000gn/T/pip-pip-egg-info-gyzl34jc/lume_services.egg-info/SOURCES.txt'\n",
      "  reading manifest template 'MANIFEST.in'\n",
      "  adding license file 'LICENSE'\n",
      "  writing manifest file '/private/var/folders/nh/g2v_nmtj7t1g94gmjtgjrk3r0000gn/T/pip-pip-egg-info-gyzl34jc/lume_services.egg-info/SOURCES.txt'\n",
      "  Running command python setup.py egg_info\n",
      "  running egg_info\n",
      "  creating /private/var/folders/nh/g2v_nmtj7t1g94gmjtgjrk3r0000gn/T/pip-pip-egg-info-p3rtqvat/my_model.egg-info\n",
      "  writing /private/var/folders/nh/g2v_nmtj7t1g94gmjtgjrk3r0000gn/T/pip-pip-egg-info-p3rtqvat/my_model.egg-info/PKG-INFO\n",
      "  writing dependency_links to /private/var/folders/nh/g2v_nmtj7t1g94gmjtgjrk3r0000gn/T/pip-pip-egg-info-p3rtqvat/my_model.egg-info/dependency_links.txt\n",
      "  writing entry points to /private/var/folders/nh/g2v_nmtj7t1g94gmjtgjrk3r0000gn/T/pip-pip-egg-info-p3rtqvat/my_model.egg-info/entry_points.txt\n",
      "  writing requirements to /private/var/folders/nh/g2v_nmtj7t1g94gmjtgjrk3r0000gn/T/pip-pip-egg-info-p3rtqvat/my_model.egg-info/requires.txt\n",
      "  writing top-level names to /private/var/folders/nh/g2v_nmtj7t1g94gmjtgjrk3r0000gn/T/pip-pip-egg-info-p3rtqvat/my_model.egg-info/top_level.txt\n",
      "  writing manifest file '/private/var/folders/nh/g2v_nmtj7t1g94gmjtgjrk3r0000gn/T/pip-pip-egg-info-p3rtqvat/my_model.egg-info/SOURCES.txt'\n",
      "  reading manifest file '/private/var/folders/nh/g2v_nmtj7t1g94gmjtgjrk3r0000gn/T/pip-pip-egg-info-p3rtqvat/my_model.egg-info/SOURCES.txt'\n",
      "  reading manifest template 'MANIFEST.in'\n",
      "  adding license file 'LICENSE'\n",
      "  writing manifest file '/private/var/folders/nh/g2v_nmtj7t1g94gmjtgjrk3r0000gn/T/pip-pip-egg-info-p3rtqvat/my_model.egg-info/SOURCES.txt'\n",
      "INFO:lume_services.environment.solver:Pip files installed: \n",
      "INFO:lume_services.environment.solver:Dependency installation complete\n",
      "INFO:lume_services.environment.solver:Installed source to local pip repo.\n",
      "INFO:lume_services.models.model:installing package\n",
      "INFO:lume_services.environment.solver:https://github.com/jacquelinegarrahan/my-model/releases/download/v0.0.9/my_model-0.0.9.tar.gz saved to /tmp/lume-services/my_model-0.0.9.tar.gz\n",
      "INFO:lume_services.environment.solver:Installing dependencies...\n"
     ]
    },
    {
     "name": "stderr",
     "output_type": "stream",
     "text": [
      "INFO:lume_services.environment.solver:Dependency installation complete\n",
      "  Running command python setup.py egg_info\n",
      "  running egg_info\n",
      "  creating /private/var/folders/nh/g2v_nmtj7t1g94gmjtgjrk3r0000gn/T/pip-pip-egg-info-mlmz7wlt/my_model.egg-info\n",
      "  writing /private/var/folders/nh/g2v_nmtj7t1g94gmjtgjrk3r0000gn/T/pip-pip-egg-info-mlmz7wlt/my_model.egg-info/PKG-INFO\n",
      "  writing dependency_links to /private/var/folders/nh/g2v_nmtj7t1g94gmjtgjrk3r0000gn/T/pip-pip-egg-info-mlmz7wlt/my_model.egg-info/dependency_links.txt\n",
      "  writing entry points to /private/var/folders/nh/g2v_nmtj7t1g94gmjtgjrk3r0000gn/T/pip-pip-egg-info-mlmz7wlt/my_model.egg-info/entry_points.txt\n",
      "  writing requirements to /private/var/folders/nh/g2v_nmtj7t1g94gmjtgjrk3r0000gn/T/pip-pip-egg-info-mlmz7wlt/my_model.egg-info/requires.txt\n",
      "  writing top-level names to /private/var/folders/nh/g2v_nmtj7t1g94gmjtgjrk3r0000gn/T/pip-pip-egg-info-mlmz7wlt/my_model.egg-info/top_level.txt\n",
      "  writing manifest file '/private/var/folders/nh/g2v_nmtj7t1g94gmjtgjrk3r0000gn/T/pip-pip-egg-info-mlmz7wlt/my_model.egg-info/SOURCES.txt'\n",
      "  reading manifest file '/private/var/folders/nh/g2v_nmtj7t1g94gmjtgjrk3r0000gn/T/pip-pip-egg-info-mlmz7wlt/my_model.egg-info/SOURCES.txt'\n",
      "  reading manifest template 'MANIFEST.in'\n",
      "  adding license file 'LICENSE'\n",
      "  writing manifest file '/private/var/folders/nh/g2v_nmtj7t1g94gmjtgjrk3r0000gn/T/pip-pip-egg-info-mlmz7wlt/my_model.egg-info/SOURCES.txt'\n",
      "  Running command python setup.py bdist_wheel\n",
      "  running bdist_wheel\n",
      "  running build\n",
      "  running build_py\n",
      "  creating build\n",
      "  creating build/lib\n",
      "  creating build/lib/my_model\n",
      "  copying my_model/config.py -> build/lib/my_model\n",
      "  copying my_model/_version.py -> build/lib/my_model\n",
      "  copying my_model/__init__.py -> build/lib/my_model\n",
      "  copying my_model/flow.py -> build/lib/my_model\n",
      "  copying my_model/model.py -> build/lib/my_model\n",
      "  creating build/lib/my_model/tests\n",
      "  copying my_model/tests/test_flow.py -> build/lib/my_model/tests\n",
      "  copying my_model/tests/__init__.py -> build/lib/my_model/tests\n",
      "  creating build/lib/my_model/cli\n",
      "  copying my_model/cli/plot.py -> build/lib/my_model/cli\n",
      "  copying my_model/cli/__init__.py -> build/lib/my_model/cli\n",
      "  creating build/lib/my_model/files\n",
      "  copying my_model/files/__init__.py -> build/lib/my_model/files\n",
      "  running egg_info\n",
      "  writing my_model.egg-info/PKG-INFO\n",
      "  writing dependency_links to my_model.egg-info/dependency_links.txt\n",
      "  writing entry points to my_model.egg-info/entry_points.txt\n",
      "  writing requirements to my_model.egg-info/requires.txt\n",
      "  writing top-level names to my_model.egg-info/top_level.txt\n",
      "  reading manifest file 'my_model.egg-info/SOURCES.txt'\n",
      "  reading manifest template 'MANIFEST.in'\n",
      "  adding license file 'LICENSE'\n",
      "  writing manifest file 'my_model.egg-info/SOURCES.txt'\n",
      "  copying my_model/files/variables.yml -> build/lib/my_model/files\n",
      "  UPDATING build/lib/my_model/_version.py\n",
      "  set build/lib/my_model/_version.py to '0.0.9'\n",
      "  /Users/jacquelinegarrahan/miniconda3/envs/lume-services-dev/lib/python3.9/site-packages/setuptools/command/install.py:34: SetuptoolsDeprecationWarning: setup.py install is deprecated. Use build and pip and other standards-based tools.\n",
      "    warnings.warn(\n",
      "  installing to build/bdist.macosx-10.9-x86_64/wheel\n",
      "  running install\n",
      "  running install_lib\n",
      "  creating build/bdist.macosx-10.9-x86_64\n",
      "  creating build/bdist.macosx-10.9-x86_64/wheel\n",
      "  creating build/bdist.macosx-10.9-x86_64/wheel/my_model\n",
      "  copying build/lib/my_model/config.py -> build/bdist.macosx-10.9-x86_64/wheel/my_model\n",
      "  copying build/lib/my_model/_version.py -> build/bdist.macosx-10.9-x86_64/wheel/my_model\n",
      "  creating build/bdist.macosx-10.9-x86_64/wheel/my_model/tests\n",
      "  copying build/lib/my_model/tests/test_flow.py -> build/bdist.macosx-10.9-x86_64/wheel/my_model/tests\n",
      "  copying build/lib/my_model/tests/__init__.py -> build/bdist.macosx-10.9-x86_64/wheel/my_model/tests\n",
      "  copying build/lib/my_model/__init__.py -> build/bdist.macosx-10.9-x86_64/wheel/my_model\n",
      "  copying build/lib/my_model/flow.py -> build/bdist.macosx-10.9-x86_64/wheel/my_model\n",
      "  creating build/bdist.macosx-10.9-x86_64/wheel/my_model/cli\n",
      "  copying build/lib/my_model/cli/plot.py -> build/bdist.macosx-10.9-x86_64/wheel/my_model/cli\n",
      "  copying build/lib/my_model/cli/__init__.py -> build/bdist.macosx-10.9-x86_64/wheel/my_model/cli\n",
      "  copying build/lib/my_model/model.py -> build/bdist.macosx-10.9-x86_64/wheel/my_model\n",
      "  creating build/bdist.macosx-10.9-x86_64/wheel/my_model/files\n",
      "  copying build/lib/my_model/files/__init__.py -> build/bdist.macosx-10.9-x86_64/wheel/my_model/files\n",
      "  copying build/lib/my_model/files/variables.yml -> build/bdist.macosx-10.9-x86_64/wheel/my_model/files\n",
      "  running install_egg_info\n",
      "  Copying my_model.egg-info to build/bdist.macosx-10.9-x86_64/wheel/my_model-0.0.9-py3.9.egg-info\n",
      "  running install_scripts\n",
      "  adding license file \"LICENSE\" (matched pattern \"LICEN[CS]E*\")\n",
      "  creating build/bdist.macosx-10.9-x86_64/wheel/my_model-0.0.9.dist-info/WHEEL\n",
      "  creating '/private/var/folders/nh/g2v_nmtj7t1g94gmjtgjrk3r0000gn/T/pip-wheel-gk43jabr/my_model-0.0.9-py3-none-any.whl' and adding 'build/bdist.macosx-10.9-x86_64/wheel' to it\n",
      "  adding 'my_model/__init__.py'\n",
      "  adding 'my_model/_version.py'\n",
      "  adding 'my_model/config.py'\n",
      "  adding 'my_model/flow.py'\n",
      "  adding 'my_model/model.py'\n",
      "  adding 'my_model/cli/__init__.py'\n",
      "  adding 'my_model/cli/plot.py'\n",
      "  adding 'my_model/files/__init__.py'\n",
      "  adding 'my_model/files/variables.yml'\n",
      "  adding 'my_model/tests/__init__.py'\n",
      "  adding 'my_model/tests/test_flow.py'\n",
      "  adding 'my_model-0.0.9.dist-info/LICENSE'\n",
      "  adding 'my_model-0.0.9.dist-info/METADATA'\n",
      "  adding 'my_model-0.0.9.dist-info/WHEEL'\n",
      "  adding 'my_model-0.0.9.dist-info/entry_points.txt'\n",
      "  adding 'my_model-0.0.9.dist-info/top_level.txt'\n",
      "  adding 'my_model-0.0.9.dist-info/RECORD'\n",
      "  removing build/bdist.macosx-10.9-x86_64/wheel\n",
      "INFO:lume_services.environment.solver:Dependency installation complete\n",
      "INFO:lume_services.services.models.db.db:ModelDB inserting: INSERT INTO deployment (version, package_import_name, asset_dir, source, sha256, image, is_live, model_id) VALUES (:version, :package_import_name, :asset_dir, :source, :sha256, :image, :is_live, :model_id)\n"
     ]
    },
    {
     "ename": "IntegrityError",
     "evalue": "(pymysql.err.IntegrityError) (1062, \"Duplicate entry 'da10d0a5ee39fb2b45d4da5c3d972141d139f876370871b03dde90772e44d764' for key 'deployment._sha256_unique'\")\n[SQL: INSERT INTO deployment (version, package_import_name, asset_dir, source, sha256, image, is_live, model_id) VALUES (%(version)s, %(package_import_name)s, %(asset_dir)s, %(source)s, %(sha256)s, %(image)s, %(is_live)s, %(model_id)s)]\n[parameters: {'version': '0.0.9', 'package_import_name': 'my_model', 'asset_dir': None, 'source': 'https://github.com/jacquelinegarrahan/my-model/releases/download/v0.0.9/my_model-0.0.9.tar.gz', 'sha256': 'da10d0a5ee39fb2b45d4da5c3d972141d139f876370871b03dde90772e44d764', 'image': 'jgarrahan/lume-services-prefect:latest', 'is_live': 1, 'model_id': 1}]\n(Background on this error at: https://sqlalche.me/e/14/gkpj)",
     "output_type": "error",
     "traceback": [
      "\u001b[0;31m---------------------------------------------------------------------------\u001b[0m",
      "\u001b[0;31mIntegrityError\u001b[0m                            Traceback (most recent call last)",
      "File \u001b[0;32m~/miniconda3/envs/lume-services-dev/lib/python3.9/site-packages/sqlalchemy/engine/base.py:1900\u001b[0m, in \u001b[0;36mConnection._execute_context\u001b[0;34m(self, dialect, constructor, statement, parameters, execution_options, *args, **kw)\u001b[0m\n\u001b[1;32m   1899\u001b[0m     \u001b[38;5;28;01mif\u001b[39;00m \u001b[38;5;129;01mnot\u001b[39;00m evt_handled:\n\u001b[0;32m-> 1900\u001b[0m         \u001b[38;5;28;43mself\u001b[39;49m\u001b[38;5;241;43m.\u001b[39;49m\u001b[43mdialect\u001b[49m\u001b[38;5;241;43m.\u001b[39;49m\u001b[43mdo_execute\u001b[49m\u001b[43m(\u001b[49m\n\u001b[1;32m   1901\u001b[0m \u001b[43m            \u001b[49m\u001b[43mcursor\u001b[49m\u001b[43m,\u001b[49m\u001b[43m \u001b[49m\u001b[43mstatement\u001b[49m\u001b[43m,\u001b[49m\u001b[43m \u001b[49m\u001b[43mparameters\u001b[49m\u001b[43m,\u001b[49m\u001b[43m \u001b[49m\u001b[43mcontext\u001b[49m\n\u001b[1;32m   1902\u001b[0m \u001b[43m        \u001b[49m\u001b[43m)\u001b[49m\n\u001b[1;32m   1904\u001b[0m \u001b[38;5;28;01mif\u001b[39;00m \u001b[38;5;28mself\u001b[39m\u001b[38;5;241m.\u001b[39m_has_events \u001b[38;5;129;01mor\u001b[39;00m \u001b[38;5;28mself\u001b[39m\u001b[38;5;241m.\u001b[39mengine\u001b[38;5;241m.\u001b[39m_has_events:\n",
      "File \u001b[0;32m~/miniconda3/envs/lume-services-dev/lib/python3.9/site-packages/sqlalchemy/engine/default.py:736\u001b[0m, in \u001b[0;36mDefaultDialect.do_execute\u001b[0;34m(self, cursor, statement, parameters, context)\u001b[0m\n\u001b[1;32m    735\u001b[0m \u001b[38;5;28;01mdef\u001b[39;00m \u001b[38;5;21mdo_execute\u001b[39m(\u001b[38;5;28mself\u001b[39m, cursor, statement, parameters, context\u001b[38;5;241m=\u001b[39m\u001b[38;5;28;01mNone\u001b[39;00m):\n\u001b[0;32m--> 736\u001b[0m     \u001b[43mcursor\u001b[49m\u001b[38;5;241;43m.\u001b[39;49m\u001b[43mexecute\u001b[49m\u001b[43m(\u001b[49m\u001b[43mstatement\u001b[49m\u001b[43m,\u001b[49m\u001b[43m \u001b[49m\u001b[43mparameters\u001b[49m\u001b[43m)\u001b[49m\n",
      "File \u001b[0;32m~/miniconda3/envs/lume-services-dev/lib/python3.9/site-packages/pymysql/cursors.py:148\u001b[0m, in \u001b[0;36mCursor.execute\u001b[0;34m(self, query, args)\u001b[0m\n\u001b[1;32m    146\u001b[0m query \u001b[38;5;241m=\u001b[39m \u001b[38;5;28mself\u001b[39m\u001b[38;5;241m.\u001b[39mmogrify(query, args)\n\u001b[0;32m--> 148\u001b[0m result \u001b[38;5;241m=\u001b[39m \u001b[38;5;28;43mself\u001b[39;49m\u001b[38;5;241;43m.\u001b[39;49m\u001b[43m_query\u001b[49m\u001b[43m(\u001b[49m\u001b[43mquery\u001b[49m\u001b[43m)\u001b[49m\n\u001b[1;32m    149\u001b[0m \u001b[38;5;28mself\u001b[39m\u001b[38;5;241m.\u001b[39m_executed \u001b[38;5;241m=\u001b[39m query\n",
      "File \u001b[0;32m~/miniconda3/envs/lume-services-dev/lib/python3.9/site-packages/pymysql/cursors.py:310\u001b[0m, in \u001b[0;36mCursor._query\u001b[0;34m(self, q)\u001b[0m\n\u001b[1;32m    309\u001b[0m \u001b[38;5;28mself\u001b[39m\u001b[38;5;241m.\u001b[39m_clear_result()\n\u001b[0;32m--> 310\u001b[0m \u001b[43mconn\u001b[49m\u001b[38;5;241;43m.\u001b[39;49m\u001b[43mquery\u001b[49m\u001b[43m(\u001b[49m\u001b[43mq\u001b[49m\u001b[43m)\u001b[49m\n\u001b[1;32m    311\u001b[0m \u001b[38;5;28mself\u001b[39m\u001b[38;5;241m.\u001b[39m_do_get_result()\n",
      "File \u001b[0;32m~/miniconda3/envs/lume-services-dev/lib/python3.9/site-packages/pymysql/connections.py:548\u001b[0m, in \u001b[0;36mConnection.query\u001b[0;34m(self, sql, unbuffered)\u001b[0m\n\u001b[1;32m    547\u001b[0m \u001b[38;5;28mself\u001b[39m\u001b[38;5;241m.\u001b[39m_execute_command(COMMAND\u001b[38;5;241m.\u001b[39mCOM_QUERY, sql)\n\u001b[0;32m--> 548\u001b[0m \u001b[38;5;28mself\u001b[39m\u001b[38;5;241m.\u001b[39m_affected_rows \u001b[38;5;241m=\u001b[39m \u001b[38;5;28;43mself\u001b[39;49m\u001b[38;5;241;43m.\u001b[39;49m\u001b[43m_read_query_result\u001b[49m\u001b[43m(\u001b[49m\u001b[43munbuffered\u001b[49m\u001b[38;5;241;43m=\u001b[39;49m\u001b[43munbuffered\u001b[49m\u001b[43m)\u001b[49m\n\u001b[1;32m    549\u001b[0m \u001b[38;5;28;01mreturn\u001b[39;00m \u001b[38;5;28mself\u001b[39m\u001b[38;5;241m.\u001b[39m_affected_rows\n",
      "File \u001b[0;32m~/miniconda3/envs/lume-services-dev/lib/python3.9/site-packages/pymysql/connections.py:775\u001b[0m, in \u001b[0;36mConnection._read_query_result\u001b[0;34m(self, unbuffered)\u001b[0m\n\u001b[1;32m    774\u001b[0m     result \u001b[38;5;241m=\u001b[39m MySQLResult(\u001b[38;5;28mself\u001b[39m)\n\u001b[0;32m--> 775\u001b[0m     \u001b[43mresult\u001b[49m\u001b[38;5;241;43m.\u001b[39;49m\u001b[43mread\u001b[49m\u001b[43m(\u001b[49m\u001b[43m)\u001b[49m\n\u001b[1;32m    776\u001b[0m \u001b[38;5;28mself\u001b[39m\u001b[38;5;241m.\u001b[39m_result \u001b[38;5;241m=\u001b[39m result\n",
      "File \u001b[0;32m~/miniconda3/envs/lume-services-dev/lib/python3.9/site-packages/pymysql/connections.py:1156\u001b[0m, in \u001b[0;36mMySQLResult.read\u001b[0;34m(self)\u001b[0m\n\u001b[1;32m   1155\u001b[0m \u001b[38;5;28;01mtry\u001b[39;00m:\n\u001b[0;32m-> 1156\u001b[0m     first_packet \u001b[38;5;241m=\u001b[39m \u001b[38;5;28;43mself\u001b[39;49m\u001b[38;5;241;43m.\u001b[39;49m\u001b[43mconnection\u001b[49m\u001b[38;5;241;43m.\u001b[39;49m\u001b[43m_read_packet\u001b[49m\u001b[43m(\u001b[49m\u001b[43m)\u001b[49m\n\u001b[1;32m   1158\u001b[0m     \u001b[38;5;28;01mif\u001b[39;00m first_packet\u001b[38;5;241m.\u001b[39mis_ok_packet():\n",
      "File \u001b[0;32m~/miniconda3/envs/lume-services-dev/lib/python3.9/site-packages/pymysql/connections.py:725\u001b[0m, in \u001b[0;36mConnection._read_packet\u001b[0;34m(self, packet_type)\u001b[0m\n\u001b[1;32m    724\u001b[0m         \u001b[38;5;28mself\u001b[39m\u001b[38;5;241m.\u001b[39m_result\u001b[38;5;241m.\u001b[39munbuffered_active \u001b[38;5;241m=\u001b[39m \u001b[38;5;28;01mFalse\u001b[39;00m\n\u001b[0;32m--> 725\u001b[0m     \u001b[43mpacket\u001b[49m\u001b[38;5;241;43m.\u001b[39;49m\u001b[43mraise_for_error\u001b[49m\u001b[43m(\u001b[49m\u001b[43m)\u001b[49m\n\u001b[1;32m    726\u001b[0m \u001b[38;5;28;01mreturn\u001b[39;00m packet\n",
      "File \u001b[0;32m~/miniconda3/envs/lume-services-dev/lib/python3.9/site-packages/pymysql/protocol.py:221\u001b[0m, in \u001b[0;36mMysqlPacket.raise_for_error\u001b[0;34m(self)\u001b[0m\n\u001b[1;32m    220\u001b[0m     \u001b[38;5;28mprint\u001b[39m(\u001b[38;5;124m\"\u001b[39m\u001b[38;5;124merrno =\u001b[39m\u001b[38;5;124m\"\u001b[39m, errno)\n\u001b[0;32m--> 221\u001b[0m \u001b[43merr\u001b[49m\u001b[38;5;241;43m.\u001b[39;49m\u001b[43mraise_mysql_exception\u001b[49m\u001b[43m(\u001b[49m\u001b[38;5;28;43mself\u001b[39;49m\u001b[38;5;241;43m.\u001b[39;49m\u001b[43m_data\u001b[49m\u001b[43m)\u001b[49m\n",
      "File \u001b[0;32m~/miniconda3/envs/lume-services-dev/lib/python3.9/site-packages/pymysql/err.py:143\u001b[0m, in \u001b[0;36mraise_mysql_exception\u001b[0;34m(data)\u001b[0m\n\u001b[1;32m    142\u001b[0m     errorclass \u001b[38;5;241m=\u001b[39m InternalError \u001b[38;5;28;01mif\u001b[39;00m errno \u001b[38;5;241m<\u001b[39m \u001b[38;5;241m1000\u001b[39m \u001b[38;5;28;01melse\u001b[39;00m OperationalError\n\u001b[0;32m--> 143\u001b[0m \u001b[38;5;28;01mraise\u001b[39;00m errorclass(errno, errval)\n",
      "\u001b[0;31mIntegrityError\u001b[0m: (1062, \"Duplicate entry 'da10d0a5ee39fb2b45d4da5c3d972141d139f876370871b03dde90772e44d764' for key 'deployment._sha256_unique'\")",
      "\nThe above exception was the direct cause of the following exception:\n",
      "\u001b[0;31mIntegrityError\u001b[0m                            Traceback (most recent call last)",
      "Cell \u001b[0;32mIn [7], line 4\u001b[0m\n\u001b[1;32m      1\u001b[0m source_path \u001b[38;5;241m=\u001b[39m \u001b[38;5;124m\"\u001b[39m\u001b[38;5;124mhttps://github.com/jacquelinegarrahan/my-model/releases/download/v0.0.9/my_model-0.0.9.tar.gz\u001b[39m\u001b[38;5;124m\"\u001b[39m\n\u001b[1;32m      3\u001b[0m \u001b[38;5;66;03m# populates local channel\u001b[39;00m\n\u001b[0;32m----> 4\u001b[0m \u001b[43mmodel\u001b[49m\u001b[38;5;241;43m.\u001b[39;49m\u001b[43mstore_deployment\u001b[49m\u001b[43m(\u001b[49m\u001b[43msource_path\u001b[49m\u001b[43m,\u001b[49m\u001b[43m \u001b[49m\u001b[43mproject_name\u001b[49m\u001b[38;5;241;43m=\u001b[39;49m\u001b[38;5;124;43m\"\u001b[39;49m\u001b[38;5;124;43mtest\u001b[39;49m\u001b[38;5;124;43m\"\u001b[39;49m\u001b[43m)\u001b[49m\n",
      "File \u001b[0;32msrc/dependency_injector/_cwiring.pyx:28\u001b[0m, in \u001b[0;36mdependency_injector._cwiring._get_sync_patched._patched\u001b[0;34m()\u001b[0m\n",
      "File \u001b[0;32m~/sandbox/lume-services/lume_services/models/model.py:320\u001b[0m, in \u001b[0;36mModel.store_deployment\u001b[0;34m(self, source_path, project_name, is_live, scheduling_service, model_db_service, environment_resolver)\u001b[0m\n\u001b[1;32m    314\u001b[0m     \u001b[38;5;28;01mraise\u001b[39;00m NoFlowFoundError(source_path)\n\u001b[1;32m    316\u001b[0m flow \u001b[38;5;241m=\u001b[39m Flow(\n\u001b[1;32m    317\u001b[0m     prefect_flow\u001b[38;5;241m=\u001b[39mprefect_flow, name\u001b[38;5;241m=\u001b[39mprefect_flow\u001b[38;5;241m.\u001b[39mname, project_name\u001b[38;5;241m=\u001b[39mproject_name\n\u001b[1;32m    318\u001b[0m )\n\u001b[0;32m--> 320\u001b[0m deployment_id \u001b[38;5;241m=\u001b[39m \u001b[43mmodel_db_service\u001b[49m\u001b[38;5;241;43m.\u001b[39;49m\u001b[43mstore_deployment\u001b[49m\u001b[43m(\u001b[49m\n\u001b[1;32m    321\u001b[0m \u001b[43m    \u001b[49m\u001b[43mmodel_id\u001b[49m\u001b[38;5;241;43m=\u001b[39;49m\u001b[38;5;28;43mself\u001b[39;49m\u001b[38;5;241;43m.\u001b[39;49m\u001b[43mmetadata\u001b[49m\u001b[38;5;241;43m.\u001b[39;49m\u001b[43mmodel_id\u001b[49m\u001b[43m,\u001b[49m\n\u001b[1;32m    322\u001b[0m \u001b[43m    \u001b[49m\u001b[43mversion\u001b[49m\u001b[38;5;241;43m=\u001b[39;49m\u001b[43msource\u001b[49m\u001b[38;5;241;43m.\u001b[39;49m\u001b[43mversion\u001b[49m\u001b[43m,\u001b[49m\n\u001b[1;32m    323\u001b[0m \u001b[43m    \u001b[49m\u001b[43msource\u001b[49m\u001b[38;5;241;43m=\u001b[39;49m\u001b[43msource\u001b[49m\u001b[38;5;241;43m.\u001b[39;49m\u001b[43mpath\u001b[49m\u001b[43m,\u001b[49m\n\u001b[1;32m    324\u001b[0m \u001b[43m    \u001b[49m\u001b[43mis_live\u001b[49m\u001b[38;5;241;43m=\u001b[39;49m\u001b[43mis_live\u001b[49m\u001b[43m,\u001b[49m\n\u001b[1;32m    325\u001b[0m \u001b[43m    \u001b[49m\u001b[43msha256\u001b[49m\u001b[38;5;241;43m=\u001b[39;49m\u001b[43msource\u001b[49m\u001b[38;5;241;43m.\u001b[39;49m\u001b[43mchecksum\u001b[49m\u001b[43m,\u001b[49m\n\u001b[1;32m    326\u001b[0m \u001b[43m    \u001b[49m\u001b[43mimage\u001b[49m\u001b[38;5;241;43m=\u001b[39;49m\u001b[43mscheduling_service\u001b[49m\u001b[38;5;241;43m.\u001b[39;49m\u001b[43mbackend\u001b[49m\u001b[38;5;241;43m.\u001b[39;49m\u001b[43mconfig\u001b[49m\u001b[38;5;241;43m.\u001b[39;49m\u001b[43mdefault_image\u001b[49m\u001b[43m,\u001b[49m\n\u001b[1;32m    327\u001b[0m \u001b[43m    \u001b[49m\u001b[43mpackage_import_name\u001b[49m\u001b[38;5;241;43m=\u001b[39;49m\u001b[43msource\u001b[49m\u001b[38;5;241;43m.\u001b[39;49m\u001b[43mname\u001b[49m\u001b[43m,\u001b[49m\n\u001b[1;32m    328\u001b[0m \u001b[43m\u001b[49m\u001b[43m)\u001b[49m\n\u001b[1;32m    330\u001b[0m model_db_service\u001b[38;5;241m.\u001b[39mstore_dependencies(dependencies, deployment_id\u001b[38;5;241m=\u001b[39mdeployment_id)\n\u001b[1;32m    332\u001b[0m \u001b[38;5;66;03m# register flow\u001b[39;00m\n",
      "File \u001b[0;32m~/sandbox/lume-services/lume_services/services/models/service.py:106\u001b[0m, in \u001b[0;36mModelDBService.store_deployment\u001b[0;34m(self, model_id, version, source, sha256, image, package_import_name, is_live, asset_dir)\u001b[0m\n\u001b[1;32m     94\u001b[0m \u001b[38;5;66;03m# store in db\u001b[39;00m\n\u001b[1;32m     95\u001b[0m insert_stmt \u001b[38;5;241m=\u001b[39m insert(Deployment)\u001b[38;5;241m.\u001b[39mvalues(\n\u001b[1;32m     96\u001b[0m     model_id\u001b[38;5;241m=\u001b[39mmodel_id,\n\u001b[1;32m     97\u001b[0m     version\u001b[38;5;241m=\u001b[39mversion,\n\u001b[0;32m   (...)\u001b[0m\n\u001b[1;32m    103\u001b[0m     package_import_name\u001b[38;5;241m=\u001b[39mpackage_import_name,\n\u001b[1;32m    104\u001b[0m )\n\u001b[0;32m--> 106\u001b[0m result \u001b[38;5;241m=\u001b[39m \u001b[38;5;28;43mself\u001b[39;49m\u001b[38;5;241;43m.\u001b[39;49m\u001b[43m_model_db\u001b[49m\u001b[38;5;241;43m.\u001b[39;49m\u001b[43minsert\u001b[49m\u001b[43m(\u001b[49m\u001b[43minsert_stmt\u001b[49m\u001b[43m)\u001b[49m\n\u001b[1;32m    108\u001b[0m \u001b[38;5;28;01mif\u001b[39;00m \u001b[38;5;28mlen\u001b[39m(result):\n\u001b[1;32m    109\u001b[0m     \u001b[38;5;28;01mreturn\u001b[39;00m result[\u001b[38;5;241m0\u001b[39m]\n",
      "File \u001b[0;32m~/sandbox/lume-services/lume_services/services/models/db/db.py:206\u001b[0m, in \u001b[0;36mModelDB.insert\u001b[0;34m(self, sql)\u001b[0m\n\u001b[1;32m    203\u001b[0m logger\u001b[38;5;241m.\u001b[39minfo(\u001b[38;5;124m\"\u001b[39m\u001b[38;5;124mModelDB inserting: \u001b[39m\u001b[38;5;132;01m%s\u001b[39;00m\u001b[38;5;124m\"\u001b[39m, \u001b[38;5;28mstr\u001b[39m(sql))\n\u001b[1;32m    204\u001b[0m \u001b[38;5;28;01mwith\u001b[39;00m \u001b[38;5;28mself\u001b[39m\u001b[38;5;241m.\u001b[39msession() \u001b[38;5;28;01mas\u001b[39;00m session:\n\u001b[0;32m--> 206\u001b[0m     res \u001b[38;5;241m=\u001b[39m \u001b[43msession\u001b[49m\u001b[38;5;241;43m.\u001b[39;49m\u001b[43mexecute\u001b[49m\u001b[43m(\u001b[49m\u001b[43msql\u001b[49m\u001b[43m)\u001b[49m\n\u001b[1;32m    207\u001b[0m     session\u001b[38;5;241m.\u001b[39mcommit()\n\u001b[1;32m    209\u001b[0m logger\u001b[38;5;241m.\u001b[39minfo(\u001b[38;5;124m\"\u001b[39m\u001b[38;5;124mSucessfully executed: \u001b[39m\u001b[38;5;132;01m%s\u001b[39;00m\u001b[38;5;124m\"\u001b[39m, \u001b[38;5;28mstr\u001b[39m(sql))\n",
      "File \u001b[0;32m~/miniconda3/envs/lume-services-dev/lib/python3.9/site-packages/sqlalchemy/orm/session.py:1712\u001b[0m, in \u001b[0;36mSession.execute\u001b[0;34m(self, statement, params, execution_options, bind_arguments, _parent_execute_state, _add_event, **kw)\u001b[0m\n\u001b[1;32m   1710\u001b[0m \u001b[38;5;28;01melse\u001b[39;00m:\n\u001b[1;32m   1711\u001b[0m     conn \u001b[38;5;241m=\u001b[39m \u001b[38;5;28mself\u001b[39m\u001b[38;5;241m.\u001b[39m_connection_for_bind(bind)\n\u001b[0;32m-> 1712\u001b[0m result \u001b[38;5;241m=\u001b[39m \u001b[43mconn\u001b[49m\u001b[38;5;241;43m.\u001b[39;49m\u001b[43m_execute_20\u001b[49m\u001b[43m(\u001b[49m\u001b[43mstatement\u001b[49m\u001b[43m,\u001b[49m\u001b[43m \u001b[49m\u001b[43mparams\u001b[49m\u001b[43m \u001b[49m\u001b[38;5;129;43;01mor\u001b[39;49;00m\u001b[43m \u001b[49m\u001b[43m{\u001b[49m\u001b[43m}\u001b[49m\u001b[43m,\u001b[49m\u001b[43m \u001b[49m\u001b[43mexecution_options\u001b[49m\u001b[43m)\u001b[49m\n\u001b[1;32m   1714\u001b[0m \u001b[38;5;28;01mif\u001b[39;00m compile_state_cls:\n\u001b[1;32m   1715\u001b[0m     result \u001b[38;5;241m=\u001b[39m compile_state_cls\u001b[38;5;241m.\u001b[39morm_setup_cursor_result(\n\u001b[1;32m   1716\u001b[0m         \u001b[38;5;28mself\u001b[39m,\n\u001b[1;32m   1717\u001b[0m         statement,\n\u001b[0;32m   (...)\u001b[0m\n\u001b[1;32m   1721\u001b[0m         result,\n\u001b[1;32m   1722\u001b[0m     )\n",
      "File \u001b[0;32m~/miniconda3/envs/lume-services-dev/lib/python3.9/site-packages/sqlalchemy/engine/base.py:1705\u001b[0m, in \u001b[0;36mConnection._execute_20\u001b[0;34m(self, statement, parameters, execution_options)\u001b[0m\n\u001b[1;32m   1701\u001b[0m     util\u001b[38;5;241m.\u001b[39mraise_(\n\u001b[1;32m   1702\u001b[0m         exc\u001b[38;5;241m.\u001b[39mObjectNotExecutableError(statement), replace_context\u001b[38;5;241m=\u001b[39merr\n\u001b[1;32m   1703\u001b[0m     )\n\u001b[1;32m   1704\u001b[0m \u001b[38;5;28;01melse\u001b[39;00m:\n\u001b[0;32m-> 1705\u001b[0m     \u001b[38;5;28;01mreturn\u001b[39;00m \u001b[43mmeth\u001b[49m\u001b[43m(\u001b[49m\u001b[38;5;28;43mself\u001b[39;49m\u001b[43m,\u001b[49m\u001b[43m \u001b[49m\u001b[43margs_10style\u001b[49m\u001b[43m,\u001b[49m\u001b[43m \u001b[49m\u001b[43mkwargs_10style\u001b[49m\u001b[43m,\u001b[49m\u001b[43m \u001b[49m\u001b[43mexecution_options\u001b[49m\u001b[43m)\u001b[49m\n",
      "File \u001b[0;32m~/miniconda3/envs/lume-services-dev/lib/python3.9/site-packages/sqlalchemy/sql/elements.py:333\u001b[0m, in \u001b[0;36mClauseElement._execute_on_connection\u001b[0;34m(self, connection, multiparams, params, execution_options, _force)\u001b[0m\n\u001b[1;32m    329\u001b[0m \u001b[38;5;28;01mdef\u001b[39;00m \u001b[38;5;21m_execute_on_connection\u001b[39m(\n\u001b[1;32m    330\u001b[0m     \u001b[38;5;28mself\u001b[39m, connection, multiparams, params, execution_options, _force\u001b[38;5;241m=\u001b[39m\u001b[38;5;28;01mFalse\u001b[39;00m\n\u001b[1;32m    331\u001b[0m ):\n\u001b[1;32m    332\u001b[0m     \u001b[38;5;28;01mif\u001b[39;00m _force \u001b[38;5;129;01mor\u001b[39;00m \u001b[38;5;28mself\u001b[39m\u001b[38;5;241m.\u001b[39msupports_execution:\n\u001b[0;32m--> 333\u001b[0m         \u001b[38;5;28;01mreturn\u001b[39;00m \u001b[43mconnection\u001b[49m\u001b[38;5;241;43m.\u001b[39;49m\u001b[43m_execute_clauseelement\u001b[49m\u001b[43m(\u001b[49m\n\u001b[1;32m    334\u001b[0m \u001b[43m            \u001b[49m\u001b[38;5;28;43mself\u001b[39;49m\u001b[43m,\u001b[49m\u001b[43m \u001b[49m\u001b[43mmultiparams\u001b[49m\u001b[43m,\u001b[49m\u001b[43m \u001b[49m\u001b[43mparams\u001b[49m\u001b[43m,\u001b[49m\u001b[43m \u001b[49m\u001b[43mexecution_options\u001b[49m\n\u001b[1;32m    335\u001b[0m \u001b[43m        \u001b[49m\u001b[43m)\u001b[49m\n\u001b[1;32m    336\u001b[0m     \u001b[38;5;28;01melse\u001b[39;00m:\n\u001b[1;32m    337\u001b[0m         \u001b[38;5;28;01mraise\u001b[39;00m exc\u001b[38;5;241m.\u001b[39mObjectNotExecutableError(\u001b[38;5;28mself\u001b[39m)\n",
      "File \u001b[0;32m~/miniconda3/envs/lume-services-dev/lib/python3.9/site-packages/sqlalchemy/engine/base.py:1572\u001b[0m, in \u001b[0;36mConnection._execute_clauseelement\u001b[0;34m(self, elem, multiparams, params, execution_options)\u001b[0m\n\u001b[1;32m   1560\u001b[0m compiled_cache \u001b[38;5;241m=\u001b[39m execution_options\u001b[38;5;241m.\u001b[39mget(\n\u001b[1;32m   1561\u001b[0m     \u001b[38;5;124m\"\u001b[39m\u001b[38;5;124mcompiled_cache\u001b[39m\u001b[38;5;124m\"\u001b[39m, \u001b[38;5;28mself\u001b[39m\u001b[38;5;241m.\u001b[39mengine\u001b[38;5;241m.\u001b[39m_compiled_cache\n\u001b[1;32m   1562\u001b[0m )\n\u001b[1;32m   1564\u001b[0m compiled_sql, extracted_params, cache_hit \u001b[38;5;241m=\u001b[39m elem\u001b[38;5;241m.\u001b[39m_compile_w_cache(\n\u001b[1;32m   1565\u001b[0m     dialect\u001b[38;5;241m=\u001b[39mdialect,\n\u001b[1;32m   1566\u001b[0m     compiled_cache\u001b[38;5;241m=\u001b[39mcompiled_cache,\n\u001b[0;32m   (...)\u001b[0m\n\u001b[1;32m   1570\u001b[0m     linting\u001b[38;5;241m=\u001b[39m\u001b[38;5;28mself\u001b[39m\u001b[38;5;241m.\u001b[39mdialect\u001b[38;5;241m.\u001b[39mcompiler_linting \u001b[38;5;241m|\u001b[39m compiler\u001b[38;5;241m.\u001b[39mWARN_LINTING,\n\u001b[1;32m   1571\u001b[0m )\n\u001b[0;32m-> 1572\u001b[0m ret \u001b[38;5;241m=\u001b[39m \u001b[38;5;28;43mself\u001b[39;49m\u001b[38;5;241;43m.\u001b[39;49m\u001b[43m_execute_context\u001b[49m\u001b[43m(\u001b[49m\n\u001b[1;32m   1573\u001b[0m \u001b[43m    \u001b[49m\u001b[43mdialect\u001b[49m\u001b[43m,\u001b[49m\n\u001b[1;32m   1574\u001b[0m \u001b[43m    \u001b[49m\u001b[43mdialect\u001b[49m\u001b[38;5;241;43m.\u001b[39;49m\u001b[43mexecution_ctx_cls\u001b[49m\u001b[38;5;241;43m.\u001b[39;49m\u001b[43m_init_compiled\u001b[49m\u001b[43m,\u001b[49m\n\u001b[1;32m   1575\u001b[0m \u001b[43m    \u001b[49m\u001b[43mcompiled_sql\u001b[49m\u001b[43m,\u001b[49m\n\u001b[1;32m   1576\u001b[0m \u001b[43m    \u001b[49m\u001b[43mdistilled_params\u001b[49m\u001b[43m,\u001b[49m\n\u001b[1;32m   1577\u001b[0m \u001b[43m    \u001b[49m\u001b[43mexecution_options\u001b[49m\u001b[43m,\u001b[49m\n\u001b[1;32m   1578\u001b[0m \u001b[43m    \u001b[49m\u001b[43mcompiled_sql\u001b[49m\u001b[43m,\u001b[49m\n\u001b[1;32m   1579\u001b[0m \u001b[43m    \u001b[49m\u001b[43mdistilled_params\u001b[49m\u001b[43m,\u001b[49m\n\u001b[1;32m   1580\u001b[0m \u001b[43m    \u001b[49m\u001b[43melem\u001b[49m\u001b[43m,\u001b[49m\n\u001b[1;32m   1581\u001b[0m \u001b[43m    \u001b[49m\u001b[43mextracted_params\u001b[49m\u001b[43m,\u001b[49m\n\u001b[1;32m   1582\u001b[0m \u001b[43m    \u001b[49m\u001b[43mcache_hit\u001b[49m\u001b[38;5;241;43m=\u001b[39;49m\u001b[43mcache_hit\u001b[49m\u001b[43m,\u001b[49m\n\u001b[1;32m   1583\u001b[0m \u001b[43m\u001b[49m\u001b[43m)\u001b[49m\n\u001b[1;32m   1584\u001b[0m \u001b[38;5;28;01mif\u001b[39;00m has_events:\n\u001b[1;32m   1585\u001b[0m     \u001b[38;5;28mself\u001b[39m\u001b[38;5;241m.\u001b[39mdispatch\u001b[38;5;241m.\u001b[39mafter_execute(\n\u001b[1;32m   1586\u001b[0m         \u001b[38;5;28mself\u001b[39m,\n\u001b[1;32m   1587\u001b[0m         elem,\n\u001b[0;32m   (...)\u001b[0m\n\u001b[1;32m   1591\u001b[0m         ret,\n\u001b[1;32m   1592\u001b[0m     )\n",
      "File \u001b[0;32m~/miniconda3/envs/lume-services-dev/lib/python3.9/site-packages/sqlalchemy/engine/base.py:1943\u001b[0m, in \u001b[0;36mConnection._execute_context\u001b[0;34m(self, dialect, constructor, statement, parameters, execution_options, *args, **kw)\u001b[0m\n\u001b[1;32m   1940\u001b[0m             branched\u001b[38;5;241m.\u001b[39mclose()\n\u001b[1;32m   1942\u001b[0m \u001b[38;5;28;01mexcept\u001b[39;00m \u001b[38;5;167;01mBaseException\u001b[39;00m \u001b[38;5;28;01mas\u001b[39;00m e:\n\u001b[0;32m-> 1943\u001b[0m     \u001b[38;5;28;43mself\u001b[39;49m\u001b[38;5;241;43m.\u001b[39;49m\u001b[43m_handle_dbapi_exception\u001b[49m\u001b[43m(\u001b[49m\n\u001b[1;32m   1944\u001b[0m \u001b[43m        \u001b[49m\u001b[43me\u001b[49m\u001b[43m,\u001b[49m\u001b[43m \u001b[49m\u001b[43mstatement\u001b[49m\u001b[43m,\u001b[49m\u001b[43m \u001b[49m\u001b[43mparameters\u001b[49m\u001b[43m,\u001b[49m\u001b[43m \u001b[49m\u001b[43mcursor\u001b[49m\u001b[43m,\u001b[49m\u001b[43m \u001b[49m\u001b[43mcontext\u001b[49m\n\u001b[1;32m   1945\u001b[0m \u001b[43m    \u001b[49m\u001b[43m)\u001b[49m\n\u001b[1;32m   1947\u001b[0m \u001b[38;5;28;01mreturn\u001b[39;00m result\n",
      "File \u001b[0;32m~/miniconda3/envs/lume-services-dev/lib/python3.9/site-packages/sqlalchemy/engine/base.py:2124\u001b[0m, in \u001b[0;36mConnection._handle_dbapi_exception\u001b[0;34m(self, e, statement, parameters, cursor, context)\u001b[0m\n\u001b[1;32m   2122\u001b[0m     util\u001b[38;5;241m.\u001b[39mraise_(newraise, with_traceback\u001b[38;5;241m=\u001b[39mexc_info[\u001b[38;5;241m2\u001b[39m], from_\u001b[38;5;241m=\u001b[39me)\n\u001b[1;32m   2123\u001b[0m \u001b[38;5;28;01melif\u001b[39;00m should_wrap:\n\u001b[0;32m-> 2124\u001b[0m     \u001b[43mutil\u001b[49m\u001b[38;5;241;43m.\u001b[39;49m\u001b[43mraise_\u001b[49m\u001b[43m(\u001b[49m\n\u001b[1;32m   2125\u001b[0m \u001b[43m        \u001b[49m\u001b[43msqlalchemy_exception\u001b[49m\u001b[43m,\u001b[49m\u001b[43m \u001b[49m\u001b[43mwith_traceback\u001b[49m\u001b[38;5;241;43m=\u001b[39;49m\u001b[43mexc_info\u001b[49m\u001b[43m[\u001b[49m\u001b[38;5;241;43m2\u001b[39;49m\u001b[43m]\u001b[49m\u001b[43m,\u001b[49m\u001b[43m \u001b[49m\u001b[43mfrom_\u001b[49m\u001b[38;5;241;43m=\u001b[39;49m\u001b[43me\u001b[49m\n\u001b[1;32m   2126\u001b[0m \u001b[43m    \u001b[49m\u001b[43m)\u001b[49m\n\u001b[1;32m   2127\u001b[0m \u001b[38;5;28;01melse\u001b[39;00m:\n\u001b[1;32m   2128\u001b[0m     util\u001b[38;5;241m.\u001b[39mraise_(exc_info[\u001b[38;5;241m1\u001b[39m], with_traceback\u001b[38;5;241m=\u001b[39mexc_info[\u001b[38;5;241m2\u001b[39m])\n",
      "File \u001b[0;32m~/miniconda3/envs/lume-services-dev/lib/python3.9/site-packages/sqlalchemy/util/compat.py:208\u001b[0m, in \u001b[0;36mraise_\u001b[0;34m(***failed resolving arguments***)\u001b[0m\n\u001b[1;32m    205\u001b[0m     exception\u001b[38;5;241m.\u001b[39m__cause__ \u001b[38;5;241m=\u001b[39m replace_context\n\u001b[1;32m    207\u001b[0m \u001b[38;5;28;01mtry\u001b[39;00m:\n\u001b[0;32m--> 208\u001b[0m     \u001b[38;5;28;01mraise\u001b[39;00m exception\n\u001b[1;32m    209\u001b[0m \u001b[38;5;28;01mfinally\u001b[39;00m:\n\u001b[1;32m    210\u001b[0m     \u001b[38;5;66;03m# credit to\u001b[39;00m\n\u001b[1;32m    211\u001b[0m     \u001b[38;5;66;03m# https://cosmicpercolator.com/2016/01/13/exception-leaks-in-python-2-and-3/\u001b[39;00m\n\u001b[1;32m    212\u001b[0m     \u001b[38;5;66;03m# as the __traceback__ object creates a cycle\u001b[39;00m\n\u001b[1;32m    213\u001b[0m     \u001b[38;5;28;01mdel\u001b[39;00m exception, replace_context, from_, with_traceback\n",
      "File \u001b[0;32m~/miniconda3/envs/lume-services-dev/lib/python3.9/site-packages/sqlalchemy/engine/base.py:1900\u001b[0m, in \u001b[0;36mConnection._execute_context\u001b[0;34m(self, dialect, constructor, statement, parameters, execution_options, *args, **kw)\u001b[0m\n\u001b[1;32m   1898\u001b[0m                 \u001b[38;5;28;01mbreak\u001b[39;00m\n\u001b[1;32m   1899\u001b[0m     \u001b[38;5;28;01mif\u001b[39;00m \u001b[38;5;129;01mnot\u001b[39;00m evt_handled:\n\u001b[0;32m-> 1900\u001b[0m         \u001b[38;5;28;43mself\u001b[39;49m\u001b[38;5;241;43m.\u001b[39;49m\u001b[43mdialect\u001b[49m\u001b[38;5;241;43m.\u001b[39;49m\u001b[43mdo_execute\u001b[49m\u001b[43m(\u001b[49m\n\u001b[1;32m   1901\u001b[0m \u001b[43m            \u001b[49m\u001b[43mcursor\u001b[49m\u001b[43m,\u001b[49m\u001b[43m \u001b[49m\u001b[43mstatement\u001b[49m\u001b[43m,\u001b[49m\u001b[43m \u001b[49m\u001b[43mparameters\u001b[49m\u001b[43m,\u001b[49m\u001b[43m \u001b[49m\u001b[43mcontext\u001b[49m\n\u001b[1;32m   1902\u001b[0m \u001b[43m        \u001b[49m\u001b[43m)\u001b[49m\n\u001b[1;32m   1904\u001b[0m \u001b[38;5;28;01mif\u001b[39;00m \u001b[38;5;28mself\u001b[39m\u001b[38;5;241m.\u001b[39m_has_events \u001b[38;5;129;01mor\u001b[39;00m \u001b[38;5;28mself\u001b[39m\u001b[38;5;241m.\u001b[39mengine\u001b[38;5;241m.\u001b[39m_has_events:\n\u001b[1;32m   1905\u001b[0m     \u001b[38;5;28mself\u001b[39m\u001b[38;5;241m.\u001b[39mdispatch\u001b[38;5;241m.\u001b[39mafter_cursor_execute(\n\u001b[1;32m   1906\u001b[0m         \u001b[38;5;28mself\u001b[39m,\n\u001b[1;32m   1907\u001b[0m         cursor,\n\u001b[0;32m   (...)\u001b[0m\n\u001b[1;32m   1911\u001b[0m         context\u001b[38;5;241m.\u001b[39mexecutemany,\n\u001b[1;32m   1912\u001b[0m     )\n",
      "File \u001b[0;32m~/miniconda3/envs/lume-services-dev/lib/python3.9/site-packages/sqlalchemy/engine/default.py:736\u001b[0m, in \u001b[0;36mDefaultDialect.do_execute\u001b[0;34m(self, cursor, statement, parameters, context)\u001b[0m\n\u001b[1;32m    735\u001b[0m \u001b[38;5;28;01mdef\u001b[39;00m \u001b[38;5;21mdo_execute\u001b[39m(\u001b[38;5;28mself\u001b[39m, cursor, statement, parameters, context\u001b[38;5;241m=\u001b[39m\u001b[38;5;28;01mNone\u001b[39;00m):\n\u001b[0;32m--> 736\u001b[0m     \u001b[43mcursor\u001b[49m\u001b[38;5;241;43m.\u001b[39;49m\u001b[43mexecute\u001b[49m\u001b[43m(\u001b[49m\u001b[43mstatement\u001b[49m\u001b[43m,\u001b[49m\u001b[43m \u001b[49m\u001b[43mparameters\u001b[49m\u001b[43m)\u001b[49m\n",
      "File \u001b[0;32m~/miniconda3/envs/lume-services-dev/lib/python3.9/site-packages/pymysql/cursors.py:148\u001b[0m, in \u001b[0;36mCursor.execute\u001b[0;34m(self, query, args)\u001b[0m\n\u001b[1;32m    144\u001b[0m     \u001b[38;5;28;01mpass\u001b[39;00m\n\u001b[1;32m    146\u001b[0m query \u001b[38;5;241m=\u001b[39m \u001b[38;5;28mself\u001b[39m\u001b[38;5;241m.\u001b[39mmogrify(query, args)\n\u001b[0;32m--> 148\u001b[0m result \u001b[38;5;241m=\u001b[39m \u001b[38;5;28;43mself\u001b[39;49m\u001b[38;5;241;43m.\u001b[39;49m\u001b[43m_query\u001b[49m\u001b[43m(\u001b[49m\u001b[43mquery\u001b[49m\u001b[43m)\u001b[49m\n\u001b[1;32m    149\u001b[0m \u001b[38;5;28mself\u001b[39m\u001b[38;5;241m.\u001b[39m_executed \u001b[38;5;241m=\u001b[39m query\n\u001b[1;32m    150\u001b[0m \u001b[38;5;28;01mreturn\u001b[39;00m result\n",
      "File \u001b[0;32m~/miniconda3/envs/lume-services-dev/lib/python3.9/site-packages/pymysql/cursors.py:310\u001b[0m, in \u001b[0;36mCursor._query\u001b[0;34m(self, q)\u001b[0m\n\u001b[1;32m    308\u001b[0m \u001b[38;5;28mself\u001b[39m\u001b[38;5;241m.\u001b[39m_last_executed \u001b[38;5;241m=\u001b[39m q\n\u001b[1;32m    309\u001b[0m \u001b[38;5;28mself\u001b[39m\u001b[38;5;241m.\u001b[39m_clear_result()\n\u001b[0;32m--> 310\u001b[0m \u001b[43mconn\u001b[49m\u001b[38;5;241;43m.\u001b[39;49m\u001b[43mquery\u001b[49m\u001b[43m(\u001b[49m\u001b[43mq\u001b[49m\u001b[43m)\u001b[49m\n\u001b[1;32m    311\u001b[0m \u001b[38;5;28mself\u001b[39m\u001b[38;5;241m.\u001b[39m_do_get_result()\n\u001b[1;32m    312\u001b[0m \u001b[38;5;28;01mreturn\u001b[39;00m \u001b[38;5;28mself\u001b[39m\u001b[38;5;241m.\u001b[39mrowcount\n",
      "File \u001b[0;32m~/miniconda3/envs/lume-services-dev/lib/python3.9/site-packages/pymysql/connections.py:548\u001b[0m, in \u001b[0;36mConnection.query\u001b[0;34m(self, sql, unbuffered)\u001b[0m\n\u001b[1;32m    546\u001b[0m     sql \u001b[38;5;241m=\u001b[39m sql\u001b[38;5;241m.\u001b[39mencode(\u001b[38;5;28mself\u001b[39m\u001b[38;5;241m.\u001b[39mencoding, \u001b[38;5;124m\"\u001b[39m\u001b[38;5;124msurrogateescape\u001b[39m\u001b[38;5;124m\"\u001b[39m)\n\u001b[1;32m    547\u001b[0m \u001b[38;5;28mself\u001b[39m\u001b[38;5;241m.\u001b[39m_execute_command(COMMAND\u001b[38;5;241m.\u001b[39mCOM_QUERY, sql)\n\u001b[0;32m--> 548\u001b[0m \u001b[38;5;28mself\u001b[39m\u001b[38;5;241m.\u001b[39m_affected_rows \u001b[38;5;241m=\u001b[39m \u001b[38;5;28;43mself\u001b[39;49m\u001b[38;5;241;43m.\u001b[39;49m\u001b[43m_read_query_result\u001b[49m\u001b[43m(\u001b[49m\u001b[43munbuffered\u001b[49m\u001b[38;5;241;43m=\u001b[39;49m\u001b[43munbuffered\u001b[49m\u001b[43m)\u001b[49m\n\u001b[1;32m    549\u001b[0m \u001b[38;5;28;01mreturn\u001b[39;00m \u001b[38;5;28mself\u001b[39m\u001b[38;5;241m.\u001b[39m_affected_rows\n",
      "File \u001b[0;32m~/miniconda3/envs/lume-services-dev/lib/python3.9/site-packages/pymysql/connections.py:775\u001b[0m, in \u001b[0;36mConnection._read_query_result\u001b[0;34m(self, unbuffered)\u001b[0m\n\u001b[1;32m    773\u001b[0m \u001b[38;5;28;01melse\u001b[39;00m:\n\u001b[1;32m    774\u001b[0m     result \u001b[38;5;241m=\u001b[39m MySQLResult(\u001b[38;5;28mself\u001b[39m)\n\u001b[0;32m--> 775\u001b[0m     \u001b[43mresult\u001b[49m\u001b[38;5;241;43m.\u001b[39;49m\u001b[43mread\u001b[49m\u001b[43m(\u001b[49m\u001b[43m)\u001b[49m\n\u001b[1;32m    776\u001b[0m \u001b[38;5;28mself\u001b[39m\u001b[38;5;241m.\u001b[39m_result \u001b[38;5;241m=\u001b[39m result\n\u001b[1;32m    777\u001b[0m \u001b[38;5;28;01mif\u001b[39;00m result\u001b[38;5;241m.\u001b[39mserver_status \u001b[38;5;129;01mis\u001b[39;00m \u001b[38;5;129;01mnot\u001b[39;00m \u001b[38;5;28;01mNone\u001b[39;00m:\n",
      "File \u001b[0;32m~/miniconda3/envs/lume-services-dev/lib/python3.9/site-packages/pymysql/connections.py:1156\u001b[0m, in \u001b[0;36mMySQLResult.read\u001b[0;34m(self)\u001b[0m\n\u001b[1;32m   1154\u001b[0m \u001b[38;5;28;01mdef\u001b[39;00m \u001b[38;5;21mread\u001b[39m(\u001b[38;5;28mself\u001b[39m):\n\u001b[1;32m   1155\u001b[0m     \u001b[38;5;28;01mtry\u001b[39;00m:\n\u001b[0;32m-> 1156\u001b[0m         first_packet \u001b[38;5;241m=\u001b[39m \u001b[38;5;28;43mself\u001b[39;49m\u001b[38;5;241;43m.\u001b[39;49m\u001b[43mconnection\u001b[49m\u001b[38;5;241;43m.\u001b[39;49m\u001b[43m_read_packet\u001b[49m\u001b[43m(\u001b[49m\u001b[43m)\u001b[49m\n\u001b[1;32m   1158\u001b[0m         \u001b[38;5;28;01mif\u001b[39;00m first_packet\u001b[38;5;241m.\u001b[39mis_ok_packet():\n\u001b[1;32m   1159\u001b[0m             \u001b[38;5;28mself\u001b[39m\u001b[38;5;241m.\u001b[39m_read_ok_packet(first_packet)\n",
      "File \u001b[0;32m~/miniconda3/envs/lume-services-dev/lib/python3.9/site-packages/pymysql/connections.py:725\u001b[0m, in \u001b[0;36mConnection._read_packet\u001b[0;34m(self, packet_type)\u001b[0m\n\u001b[1;32m    723\u001b[0m     \u001b[38;5;28;01mif\u001b[39;00m \u001b[38;5;28mself\u001b[39m\u001b[38;5;241m.\u001b[39m_result \u001b[38;5;129;01mis\u001b[39;00m \u001b[38;5;129;01mnot\u001b[39;00m \u001b[38;5;28;01mNone\u001b[39;00m \u001b[38;5;129;01mand\u001b[39;00m \u001b[38;5;28mself\u001b[39m\u001b[38;5;241m.\u001b[39m_result\u001b[38;5;241m.\u001b[39munbuffered_active \u001b[38;5;129;01mis\u001b[39;00m \u001b[38;5;28;01mTrue\u001b[39;00m:\n\u001b[1;32m    724\u001b[0m         \u001b[38;5;28mself\u001b[39m\u001b[38;5;241m.\u001b[39m_result\u001b[38;5;241m.\u001b[39munbuffered_active \u001b[38;5;241m=\u001b[39m \u001b[38;5;28;01mFalse\u001b[39;00m\n\u001b[0;32m--> 725\u001b[0m     \u001b[43mpacket\u001b[49m\u001b[38;5;241;43m.\u001b[39;49m\u001b[43mraise_for_error\u001b[49m\u001b[43m(\u001b[49m\u001b[43m)\u001b[49m\n\u001b[1;32m    726\u001b[0m \u001b[38;5;28;01mreturn\u001b[39;00m packet\n",
      "File \u001b[0;32m~/miniconda3/envs/lume-services-dev/lib/python3.9/site-packages/pymysql/protocol.py:221\u001b[0m, in \u001b[0;36mMysqlPacket.raise_for_error\u001b[0;34m(self)\u001b[0m\n\u001b[1;32m    219\u001b[0m \u001b[38;5;28;01mif\u001b[39;00m DEBUG:\n\u001b[1;32m    220\u001b[0m     \u001b[38;5;28mprint\u001b[39m(\u001b[38;5;124m\"\u001b[39m\u001b[38;5;124merrno =\u001b[39m\u001b[38;5;124m\"\u001b[39m, errno)\n\u001b[0;32m--> 221\u001b[0m \u001b[43merr\u001b[49m\u001b[38;5;241;43m.\u001b[39;49m\u001b[43mraise_mysql_exception\u001b[49m\u001b[43m(\u001b[49m\u001b[38;5;28;43mself\u001b[39;49m\u001b[38;5;241;43m.\u001b[39;49m\u001b[43m_data\u001b[49m\u001b[43m)\u001b[49m\n",
      "File \u001b[0;32m~/miniconda3/envs/lume-services-dev/lib/python3.9/site-packages/pymysql/err.py:143\u001b[0m, in \u001b[0;36mraise_mysql_exception\u001b[0;34m(data)\u001b[0m\n\u001b[1;32m    141\u001b[0m \u001b[38;5;28;01mif\u001b[39;00m errorclass \u001b[38;5;129;01mis\u001b[39;00m \u001b[38;5;28;01mNone\u001b[39;00m:\n\u001b[1;32m    142\u001b[0m     errorclass \u001b[38;5;241m=\u001b[39m InternalError \u001b[38;5;28;01mif\u001b[39;00m errno \u001b[38;5;241m<\u001b[39m \u001b[38;5;241m1000\u001b[39m \u001b[38;5;28;01melse\u001b[39;00m OperationalError\n\u001b[0;32m--> 143\u001b[0m \u001b[38;5;28;01mraise\u001b[39;00m errorclass(errno, errval)\n",
      "\u001b[0;31mIntegrityError\u001b[0m: (pymysql.err.IntegrityError) (1062, \"Duplicate entry 'da10d0a5ee39fb2b45d4da5c3d972141d139f876370871b03dde90772e44d764' for key 'deployment._sha256_unique'\")\n[SQL: INSERT INTO deployment (version, package_import_name, asset_dir, source, sha256, image, is_live, model_id) VALUES (%(version)s, %(package_import_name)s, %(asset_dir)s, %(source)s, %(sha256)s, %(image)s, %(is_live)s, %(model_id)s)]\n[parameters: {'version': '0.0.9', 'package_import_name': 'my_model', 'asset_dir': None, 'source': 'https://github.com/jacquelinegarrahan/my-model/releases/download/v0.0.9/my_model-0.0.9.tar.gz', 'sha256': 'da10d0a5ee39fb2b45d4da5c3d972141d139f876370871b03dde90772e44d764', 'image': 'jgarrahan/lume-services-prefect:latest', 'is_live': 1, 'model_id': 1}]\n(Background on this error at: https://sqlalche.me/e/14/gkpj)"
     ]
    }
   ],
   "source": [
    "source_path = \"https://github.com/jacquelinegarrahan/my-model/releases/download/v0.0.9/my_model-0.0.9.tar.gz\"\n",
    "\n",
    "# populates local channel\n",
    "model.store_deployment(source_path, project_name=\"test\")"
   ]
  },
  {
   "cell_type": "markdown",
   "id": "eac3cb17",
   "metadata": {},
   "source": [
    "## Run the Prefect workflow directly"
   ]
  },
  {
   "cell_type": "code",
   "execution_count": 9,
   "id": "8230b812",
   "metadata": {},
   "outputs": [
    {
     "name": "stdout",
     "output_type": "stream",
     "text": [
      "[2022-09-09 14:36:04-0700] INFO - prefect.FlowRunner | Beginning Flow run for 'my-model'\n"
     ]
    },
    {
     "name": "stderr",
     "output_type": "stream",
     "text": [
      "INFO:prefect.FlowRunner:Beginning Flow run for 'my-model'\n"
     ]
    },
    {
     "name": "stdout",
     "output_type": "stream",
     "text": [
      "[2022-09-09 14:36:04-0700] INFO - prefect.TaskRunner | Task 'input2': Starting task run...\n"
     ]
    },
    {
     "name": "stderr",
     "output_type": "stream",
     "text": [
      "INFO:prefect.TaskRunner:Task 'input2': Starting task run...\n"
     ]
    },
    {
     "name": "stdout",
     "output_type": "stream",
     "text": [
      "[2022-09-09 14:36:04-0700] INFO - prefect.TaskRunner | Task 'input2': Finished task run for task with final state: 'Success'\n"
     ]
    },
    {
     "name": "stderr",
     "output_type": "stream",
     "text": [
      "INFO:prefect.TaskRunner:Task 'input2': Finished task run for task with final state: 'Success'\n"
     ]
    },
    {
     "name": "stdout",
     "output_type": "stream",
     "text": [
      "[2022-09-09 14:36:04-0700] INFO - prefect.TaskRunner | Task 'filename': Starting task run...\n"
     ]
    },
    {
     "name": "stderr",
     "output_type": "stream",
     "text": [
      "INFO:prefect.TaskRunner:Task 'filename': Starting task run...\n"
     ]
    },
    {
     "name": "stdout",
     "output_type": "stream",
     "text": [
      "[2022-09-09 14:36:04-0700] INFO - prefect.TaskRunner | Task 'filename': Finished task run for task with final state: 'Success'\n"
     ]
    },
    {
     "name": "stderr",
     "output_type": "stream",
     "text": [
      "INFO:prefect.TaskRunner:Task 'filename': Finished task run for task with final state: 'Success'\n"
     ]
    },
    {
     "name": "stdout",
     "output_type": "stream",
     "text": [
      "[2022-09-09 14:36:04-0700] INFO - prefect.TaskRunner | Task 'filesystem_identifier': Starting task run...\n"
     ]
    },
    {
     "name": "stderr",
     "output_type": "stream",
     "text": [
      "INFO:prefect.TaskRunner:Task 'filesystem_identifier': Starting task run...\n"
     ]
    },
    {
     "name": "stdout",
     "output_type": "stream",
     "text": [
      "[2022-09-09 14:36:04-0700] INFO - prefect.TaskRunner | Task 'filesystem_identifier': Finished task run for task with final state: 'Success'\n"
     ]
    },
    {
     "name": "stderr",
     "output_type": "stream",
     "text": [
      "INFO:prefect.TaskRunner:Task 'filesystem_identifier': Finished task run for task with final state: 'Success'\n"
     ]
    },
    {
     "name": "stdout",
     "output_type": "stream",
     "text": [
      "[2022-09-09 14:36:04-0700] INFO - prefect.TaskRunner | Task 'configure_lume_services': Starting task run...\n"
     ]
    },
    {
     "name": "stderr",
     "output_type": "stream",
     "text": [
      "INFO:prefect.TaskRunner:Task 'configure_lume_services': Starting task run...\n",
      "INFO:lume_services.config:Configuring LUME-services environment...\n",
      "INFO:lume_services.config:Environment configured.\n"
     ]
    },
    {
     "name": "stdout",
     "output_type": "stream",
     "text": [
      "[2022-09-09 14:36:05-0700] INFO - prefect.TaskRunner | Task 'configure_lume_services': Finished task run for task with final state: 'Success'\n"
     ]
    },
    {
     "name": "stderr",
     "output_type": "stream",
     "text": [
      "INFO:prefect.TaskRunner:Task 'configure_lume_services': Finished task run for task with final state: 'Success'\n"
     ]
    },
    {
     "name": "stdout",
     "output_type": "stream",
     "text": [
      "[2022-09-09 14:36:05-0700] INFO - prefect.TaskRunner | Task 'check_local_execution': Starting task run...\n"
     ]
    },
    {
     "name": "stderr",
     "output_type": "stream",
     "text": [
      "INFO:prefect.TaskRunner:Task 'check_local_execution': Starting task run...\n"
     ]
    },
    {
     "name": "stdout",
     "output_type": "stream",
     "text": [
      "[2022-09-09 14:36:05-0700] INFO - prefect.TaskRunner | Task 'check_local_execution': Finished task run for task with final state: 'Success'\n"
     ]
    },
    {
     "name": "stderr",
     "output_type": "stream",
     "text": [
      "INFO:prefect.TaskRunner:Task 'check_local_execution': Finished task run for task with final state: 'Success'\n"
     ]
    },
    {
     "name": "stdout",
     "output_type": "stream",
     "text": [
      "[2022-09-09 14:36:05-0700] INFO - prefect.TaskRunner | Task 'input1': Starting task run...\n"
     ]
    },
    {
     "name": "stderr",
     "output_type": "stream",
     "text": [
      "INFO:prefect.TaskRunner:Task 'input1': Starting task run...\n"
     ]
    },
    {
     "name": "stdout",
     "output_type": "stream",
     "text": [
      "[2022-09-09 14:36:05-0700] INFO - prefect.TaskRunner | Task 'input1': Finished task run for task with final state: 'Success'\n"
     ]
    },
    {
     "name": "stderr",
     "output_type": "stream",
     "text": [
      "INFO:prefect.TaskRunner:Task 'input1': Finished task run for task with final state: 'Success'\n"
     ]
    },
    {
     "name": "stdout",
     "output_type": "stream",
     "text": [
      "[2022-09-09 14:36:05-0700] INFO - prefect.TaskRunner | Task 'case(False)': Starting task run...\n"
     ]
    },
    {
     "name": "stderr",
     "output_type": "stream",
     "text": [
      "INFO:prefect.TaskRunner:Task 'case(False)': Starting task run...\n"
     ]
    },
    {
     "name": "stdout",
     "output_type": "stream",
     "text": [
      "[2022-09-09 14:36:05-0700] INFO - prefect.TaskRunner | Task 'case(False)': Finished task run for task with final state: 'Success'\n"
     ]
    },
    {
     "name": "stderr",
     "output_type": "stream",
     "text": [
      "INFO:prefect.TaskRunner:Task 'case(False)': Finished task run for task with final state: 'Success'\n"
     ]
    },
    {
     "name": "stdout",
     "output_type": "stream",
     "text": [
      "[2022-09-09 14:36:05-0700] INFO - prefect.TaskRunner | Task 'List': Starting task run...\n"
     ]
    },
    {
     "name": "stderr",
     "output_type": "stream",
     "text": [
      "INFO:prefect.TaskRunner:Task 'List': Starting task run...\n"
     ]
    },
    {
     "name": "stdout",
     "output_type": "stream",
     "text": [
      "[2022-09-09 14:36:05-0700] INFO - prefect.TaskRunner | Task 'List': Finished task run for task with final state: 'Success'\n"
     ]
    },
    {
     "name": "stderr",
     "output_type": "stream",
     "text": [
      "INFO:prefect.TaskRunner:Task 'List': Finished task run for task with final state: 'Success'\n"
     ]
    },
    {
     "name": "stdout",
     "output_type": "stream",
     "text": [
      "[2022-09-09 14:36:05-0700] INFO - prefect.TaskRunner | Task 'Dict': Starting task run...\n"
     ]
    },
    {
     "name": "stderr",
     "output_type": "stream",
     "text": [
      "INFO:prefect.TaskRunner:Task 'Dict': Starting task run...\n"
     ]
    },
    {
     "name": "stdout",
     "output_type": "stream",
     "text": [
      "[2022-09-09 14:36:05-0700] INFO - prefect.TaskRunner | Task 'Dict': Finished task run for task with final state: 'Success'\n"
     ]
    },
    {
     "name": "stderr",
     "output_type": "stream",
     "text": [
      "INFO:prefect.TaskRunner:Task 'Dict': Finished task run for task with final state: 'Success'\n"
     ]
    },
    {
     "name": "stdout",
     "output_type": "stream",
     "text": [
      "[2022-09-09 14:36:05-0700] INFO - prefect.TaskRunner | Task 'prepare_lume_model_variables': Starting task run...\n"
     ]
    },
    {
     "name": "stderr",
     "output_type": "stream",
     "text": [
      "INFO:prefect.TaskRunner:Task 'prepare_lume_model_variables': Starting task run...\n"
     ]
    },
    {
     "name": "stdout",
     "output_type": "stream",
     "text": [
      "[2022-09-09 14:36:05-0700] INFO - prefect.TaskRunner | Task 'prepare_lume_model_variables': Finished task run for task with final state: 'Success'\n"
     ]
    },
    {
     "name": "stderr",
     "output_type": "stream",
     "text": [
      "INFO:prefect.TaskRunner:Task 'prepare_lume_model_variables': Finished task run for task with final state: 'Success'\n"
     ]
    },
    {
     "name": "stdout",
     "output_type": "stream",
     "text": [
      "[2022-09-09 14:36:05-0700] INFO - prefect.TaskRunner | Task 'evaluate': Starting task run...\n"
     ]
    },
    {
     "name": "stderr",
     "output_type": "stream",
     "text": [
      "INFO:prefect.TaskRunner:Task 'evaluate': Starting task run...\n"
     ]
    },
    {
     "name": "stdout",
     "output_type": "stream",
     "text": [
      "[2022-09-09 14:36:05-0700] INFO - prefect.TaskRunner | Task 'evaluate': Finished task run for task with final state: 'Success'\n"
     ]
    },
    {
     "name": "stderr",
     "output_type": "stream",
     "text": [
      "INFO:prefect.TaskRunner:Task 'evaluate': Finished task run for task with final state: 'Success'\n"
     ]
    },
    {
     "name": "stdout",
     "output_type": "stream",
     "text": [
      "[2022-09-09 14:36:05-0700] INFO - prefect.TaskRunner | Task 'format_result': Starting task run...\n"
     ]
    },
    {
     "name": "stderr",
     "output_type": "stream",
     "text": [
      "INFO:prefect.TaskRunner:Task 'format_result': Starting task run...\n"
     ]
    },
    {
     "name": "stdout",
     "output_type": "stream",
     "text": [
      "[2022-09-09 14:36:05-0700] ERROR - prefect.TaskRunner | Task 'format_result': Exception encountered during task execution!\n",
      "Traceback (most recent call last):\n",
      "  File \"/Users/jacquelinegarrahan/miniconda3/envs/lume-services-dev/lib/python3.9/site-packages/prefect/engine/task_runner.py\", line 880, in get_task_run_state\n",
      "    value = prefect.utilities.executors.run_task_with_timeout(\n",
      "  File \"/Users/jacquelinegarrahan/miniconda3/envs/lume-services-dev/lib/python3.9/site-packages/prefect/utilities/executors.py\", line 468, in run_task_with_timeout\n",
      "    return task.run(*args, **kwargs)  # type: ignore\n",
      "  File \"/Users/jacquelinegarrahan/miniconda3/envs/lume-services-dev/lib/python3.9/site-packages/my_model/flow.py\", line 57, in format_result\n",
      "    return Result(inputs=inputs, outputs=outputs)\n",
      "  File \"pydantic/main.py\", line 342, in pydantic.main.BaseModel.__init__\n",
      "pydantic.error_wrappers.ValidationError: 1 validation error for Result\n",
      "__root__\n",
      "  Object of type ndarray is not JSON serializable (type=type_error)\n"
     ]
    },
    {
     "name": "stderr",
     "output_type": "stream",
     "text": [
      "ERROR:prefect.TaskRunner:Task 'format_result': Exception encountered during task execution!\n",
      "Traceback (most recent call last):\n",
      "  File \"/Users/jacquelinegarrahan/miniconda3/envs/lume-services-dev/lib/python3.9/site-packages/prefect/engine/task_runner.py\", line 880, in get_task_run_state\n",
      "    value = prefect.utilities.executors.run_task_with_timeout(\n",
      "  File \"/Users/jacquelinegarrahan/miniconda3/envs/lume-services-dev/lib/python3.9/site-packages/prefect/utilities/executors.py\", line 468, in run_task_with_timeout\n",
      "    return task.run(*args, **kwargs)  # type: ignore\n",
      "  File \"/Users/jacquelinegarrahan/miniconda3/envs/lume-services-dev/lib/python3.9/site-packages/my_model/flow.py\", line 57, in format_result\n",
      "    return Result(inputs=inputs, outputs=outputs)\n",
      "  File \"pydantic/main.py\", line 342, in pydantic.main.BaseModel.__init__\n",
      "pydantic.error_wrappers.ValidationError: 1 validation error for Result\n",
      "__root__\n",
      "  Object of type ndarray is not JSON serializable (type=type_error)\n"
     ]
    },
    {
     "name": "stdout",
     "output_type": "stream",
     "text": [
      "[2022-09-09 14:36:05-0700] INFO - prefect.TaskRunner | Task 'format_result': Finished task run for task with final state: 'Failed'\n"
     ]
    },
    {
     "name": "stderr",
     "output_type": "stream",
     "text": [
      "INFO:prefect.TaskRunner:Task 'format_result': Finished task run for task with final state: 'Failed'\n"
     ]
    },
    {
     "name": "stdout",
     "output_type": "stream",
     "text": [
      "[2022-09-09 14:36:05-0700] INFO - prefect.TaskRunner | Task 'save_db_result': Starting task run...\n"
     ]
    },
    {
     "name": "stderr",
     "output_type": "stream",
     "text": [
      "INFO:prefect.TaskRunner:Task 'save_db_result': Starting task run...\n"
     ]
    },
    {
     "name": "stdout",
     "output_type": "stream",
     "text": [
      "[2022-09-09 14:36:05-0700] INFO - prefect.TaskRunner | Task 'save_db_result': Finished task run for task with final state: 'TriggerFailed'\n"
     ]
    },
    {
     "name": "stderr",
     "output_type": "stream",
     "text": [
      "INFO:prefect.TaskRunner:Task 'save_db_result': Finished task run for task with final state: 'TriggerFailed'\n"
     ]
    },
    {
     "name": "stdout",
     "output_type": "stream",
     "text": [
      "[2022-09-09 14:36:05-0700] INFO - prefect.TaskRunner | Task 'format_file': Starting task run...\n"
     ]
    },
    {
     "name": "stderr",
     "output_type": "stream",
     "text": [
      "INFO:prefect.TaskRunner:Task 'format_file': Starting task run...\n"
     ]
    },
    {
     "name": "stdout",
     "output_type": "stream",
     "text": [
      "[2022-09-09 14:36:05-0700] INFO - prefect.TaskRunner | Task 'format_file': Finished task run for task with final state: 'Success'\n"
     ]
    },
    {
     "name": "stderr",
     "output_type": "stream",
     "text": [
      "INFO:prefect.TaskRunner:Task 'format_file': Finished task run for task with final state: 'Success'\n"
     ]
    },
    {
     "name": "stdout",
     "output_type": "stream",
     "text": [
      "[2022-09-09 14:36:05-0700] INFO - prefect.TaskRunner | Task 'save_file': Starting task run...\n"
     ]
    },
    {
     "name": "stderr",
     "output_type": "stream",
     "text": [
      "INFO:prefect.TaskRunner:Task 'save_file': Starting task run...\n"
     ]
    },
    {
     "name": "stdout",
     "output_type": "stream",
     "text": [
      "[2022-09-09 14:36:05-0700] INFO - prefect.TaskRunner | Task 'save_file': Finished task run for task with final state: 'Success'\n"
     ]
    },
    {
     "name": "stderr",
     "output_type": "stream",
     "text": [
      "INFO:prefect.TaskRunner:Task 'save_file': Finished task run for task with final state: 'Success'\n"
     ]
    },
    {
     "name": "stdout",
     "output_type": "stream",
     "text": [
      "[2022-09-09 14:36:05-0700] INFO - prefect.FlowRunner | Flow run FAILED: some reference tasks failed.\n"
     ]
    },
    {
     "name": "stderr",
     "output_type": "stream",
     "text": [
      "INFO:prefect.FlowRunner:Flow run FAILED: some reference tasks failed.\n"
     ]
    },
    {
     "data": {
      "text/plain": [
       "<Failed: \"Some reference tasks failed.\">"
      ]
     },
     "execution_count": 9,
     "metadata": {},
     "output_type": "execute_result"
    }
   ],
   "source": [
    "model.deployment.flow.prefect_flow.run(**{\n",
    "                        \"input1\": 1, \n",
    "                        \"input2\": 2, \n",
    "                        \"filename\": \"/Users/jacquelinegarrahan/sandbox/lume-services/test_file.txt\", \n",
    "                        \"filesystem_identifier\":\"local\"}\n",
    ")"
   ]
  },
  {
   "cell_type": "code",
   "execution_count": 12,
   "id": "66d66675",
   "metadata": {},
   "outputs": [
    {
     "data": {
      "text/plain": [
       "Deployment(metadata=None, project=Project(metadata=Project(                 project_name='test',                 description='my_description',                 )), dependencies=[Dependencies(                     id=1,                     name='_libgcc_mutex',                     source='https://conda.anaconda.org/t/jr-ac5b1b42-c470-4696-a06b-9e98c0d40429/conda-forge/linux-64/_libgcc_mutex-0.1-conda_forge.tar.bz2',                     local_source='/Users/jacquelinegarrahan/sandbox/lume-services/local-conda-channel/linux-64/_libgcc_mutex-0.1-conda_forge.tar.bz2'                     version='0.1'                 ), Dependencies(                     id=2,                     name='libstdcxx-ng',                     source='https://conda.anaconda.org/t/jr-ac5b1b42-c470-4696-a06b-9e98c0d40429/conda-forge/linux-64/libstdcxx-ng-12.1.0-ha89aaad_16.tar.bz2',                     local_source='/Users/jacquelinegarrahan/sandbox/lume-services/local-conda-channel/linux-64/libstdcxx-ng-12.1.0-ha89aaad_16.tar.bz2'                     version='12.1.0'                 ), Dependencies(                     id=3,                     name='ld_impl_linux-64',                     source='https://conda.anaconda.org/t/jr-ac5b1b42-c470-4696-a06b-9e98c0d40429/conda-forge/linux-64/ld_impl_linux-64-2.36.1-hea4e1c9_2.tar.bz2',                     local_source='/Users/jacquelinegarrahan/sandbox/lume-services/local-conda-channel/linux-64/ld_impl_linux-64-2.36.1-hea4e1c9_2.tar.bz2'                     version='2.36.1'                 ), Dependencies(                     id=4,                     name='ca-certificates',                     source='https://conda.anaconda.org/t/jr-ac5b1b42-c470-4696-a06b-9e98c0d40429/conda-forge/linux-64/ca-certificates-2022.6.15-ha878542_0.tar.bz2',                     local_source='/Users/jacquelinegarrahan/sandbox/lume-services/local-conda-channel/linux-64/ca-certificates-2022.6.15-ha878542_0.tar.bz2'                     version='2022.6.15'                 ), Dependencies(                     id=5,                     name='libgfortran5',                     source='https://conda.anaconda.org/t/jr-ac5b1b42-c470-4696-a06b-9e98c0d40429/conda-forge/linux-64/libgfortran5-12.1.0-hdcd56e2_16.tar.bz2',                     local_source='/Users/jacquelinegarrahan/sandbox/lume-services/local-conda-channel/linux-64/libgfortran5-12.1.0-hdcd56e2_16.tar.bz2'                     version='12.1.0'                 ), Dependencies(                     id=6,                     name='libgomp',                     source='https://conda.anaconda.org/t/jr-ac5b1b42-c470-4696-a06b-9e98c0d40429/conda-forge/linux-64/libgomp-12.1.0-h8d9b700_16.tar.bz2',                     local_source='/Users/jacquelinegarrahan/sandbox/lume-services/local-conda-channel/linux-64/libgomp-12.1.0-h8d9b700_16.tar.bz2'                     version='12.1.0'                 ), Dependencies(                     id=7,                     name='libgfortran-ng',                     source='https://conda.anaconda.org/t/jr-ac5b1b42-c470-4696-a06b-9e98c0d40429/conda-forge/linux-64/libgfortran-ng-12.1.0-h69a702a_16.tar.bz2',                     local_source='/Users/jacquelinegarrahan/sandbox/lume-services/local-conda-channel/linux-64/libgfortran-ng-12.1.0-h69a702a_16.tar.bz2'                     version='12.1.0'                 ), Dependencies(                     id=8,                     name='_openmp_mutex',                     source='https://conda.anaconda.org/t/jr-ac5b1b42-c470-4696-a06b-9e98c0d40429/conda-forge/linux-64/_openmp_mutex-4.5-2_gnu.tar.bz2',                     local_source='/Users/jacquelinegarrahan/sandbox/lume-services/local-conda-channel/linux-64/_openmp_mutex-4.5-2_gnu.tar.bz2'                     version='4.5'                 ), Dependencies(                     id=9,                     name='libgcc-ng',                     source='https://conda.anaconda.org/t/jr-ac5b1b42-c470-4696-a06b-9e98c0d40429/conda-forge/linux-64/libgcc-ng-12.1.0-h8d9b700_16.tar.bz2',                     local_source='/Users/jacquelinegarrahan/sandbox/lume-services/local-conda-channel/linux-64/libgcc-ng-12.1.0-h8d9b700_16.tar.bz2'                     version='12.1.0'                 ), Dependencies(                     id=10,                     name='lzo',                     source='https://conda.anaconda.org/t/jr-ac5b1b42-c470-4696-a06b-9e98c0d40429/conda-forge/linux-64/lzo-2.10-h516909a_1000.tar.bz2',                     local_source='/Users/jacquelinegarrahan/sandbox/lume-services/local-conda-channel/linux-64/lzo-2.10-h516909a_1000.tar.bz2'                     version='2.10'                 ), Dependencies(                     id=11,                     name='xorg-libxdmcp',                     source='https://conda.anaconda.org/t/jr-ac5b1b42-c470-4696-a06b-9e98c0d40429/conda-forge/linux-64/xorg-libxdmcp-1.1.3-h7f98852_0.tar.bz2',                     local_source='/Users/jacquelinegarrahan/sandbox/lume-services/local-conda-channel/linux-64/xorg-libxdmcp-1.1.3-h7f98852_0.tar.bz2'                     version='1.1.3'                 ), Dependencies(                     id=12,                     name='xorg-libxau',                     source='https://conda.anaconda.org/t/jr-ac5b1b42-c470-4696-a06b-9e98c0d40429/conda-forge/linux-64/xorg-libxau-1.0.9-h7f98852_0.tar.bz2',                     local_source='/Users/jacquelinegarrahan/sandbox/lume-services/local-conda-channel/linux-64/xorg-libxau-1.0.9-h7f98852_0.tar.bz2'                     version='1.0.9'                 ), Dependencies(                     id=13,                     name='pthread-stubs',                     source='https://conda.anaconda.org/t/jr-ac5b1b42-c470-4696-a06b-9e98c0d40429/conda-forge/linux-64/pthread-stubs-0.4-h36c2ea0_1001.tar.bz2',                     local_source='/Users/jacquelinegarrahan/sandbox/lume-services/local-conda-channel/linux-64/pthread-stubs-0.4-h36c2ea0_1001.tar.bz2'                     version='0.4'                 ), Dependencies(                     id=14,                     name='libuuid',                     source='https://conda.anaconda.org/t/jr-ac5b1b42-c470-4696-a06b-9e98c0d40429/conda-forge/linux-64/libuuid-2.32.1-h7f98852_1000.tar.bz2',                     local_source='/Users/jacquelinegarrahan/sandbox/lume-services/local-conda-channel/linux-64/libuuid-2.32.1-h7f98852_1000.tar.bz2'                     version='2.32.1'                 ), Dependencies(                     id=15,                     name='libdeflate',                     source='https://conda.anaconda.org/t/jr-ac5b1b42-c470-4696-a06b-9e98c0d40429/conda-forge/linux-64/libdeflate-1.13-h166bdaf_0.tar.bz2',                     local_source='/Users/jacquelinegarrahan/sandbox/lume-services/local-conda-channel/linux-64/libdeflate-1.13-h166bdaf_0.tar.bz2'                     version='1.13'                 ), Dependencies(                     id=16,                     name='lerc',                     source='https://conda.anaconda.org/t/jr-ac5b1b42-c470-4696-a06b-9e98c0d40429/conda-forge/linux-64/lerc-4.0.0-h27087fc_0.tar.bz2',                     local_source='/Users/jacquelinegarrahan/sandbox/lume-services/local-conda-channel/linux-64/lerc-4.0.0-h27087fc_0.tar.bz2'                     version='4.0.0'                 ), Dependencies(                     id=17,                     name='jpeg',                     source='https://conda.anaconda.org/t/jr-ac5b1b42-c470-4696-a06b-9e98c0d40429/conda-forge/linux-64/jpeg-9e-h166bdaf_2.tar.bz2',                     local_source='/Users/jacquelinegarrahan/sandbox/lume-services/local-conda-channel/linux-64/jpeg-9e-h166bdaf_2.tar.bz2'                     version='9e'                 ), Dependencies(                     id=18,                     name='libbrotlicommon',                     source='https://conda.anaconda.org/t/jr-ac5b1b42-c470-4696-a06b-9e98c0d40429/conda-forge/linux-64/libbrotlicommon-1.0.9-h166bdaf_7.tar.bz2',                     local_source='/Users/jacquelinegarrahan/sandbox/lume-services/local-conda-channel/linux-64/libbrotlicommon-1.0.9-h166bdaf_7.tar.bz2'                     version='1.0.9'                 ), Dependencies(                     id=19,                     name='libev',                     source='https://conda.anaconda.org/t/jr-ac5b1b42-c470-4696-a06b-9e98c0d40429/conda-forge/linux-64/libev-4.33-h516909a_1.tar.bz2',                     local_source='/Users/jacquelinegarrahan/sandbox/lume-services/local-conda-channel/linux-64/libev-4.33-h516909a_1.tar.bz2'                     version='4.33'                 ), Dependencies(                     id=20,                     name='c-ares',                     source='https://conda.anaconda.org/t/jr-ac5b1b42-c470-4696-a06b-9e98c0d40429/conda-forge/linux-64/c-ares-1.18.1-h7f98852_0.tar.bz2',                     local_source='/Users/jacquelinegarrahan/sandbox/lume-services/local-conda-channel/linux-64/c-ares-1.18.1-h7f98852_0.tar.bz2'                     version='1.18.1'                 ), Dependencies(                     id=21,                     name='libwebp-base',                     source='https://conda.anaconda.org/t/jr-ac5b1b42-c470-4696-a06b-9e98c0d40429/conda-forge/linux-64/libwebp-base-1.2.4-h166bdaf_0.tar.bz2',                     local_source='/Users/jacquelinegarrahan/sandbox/lume-services/local-conda-channel/linux-64/libwebp-base-1.2.4-h166bdaf_0.tar.bz2'                     version='1.2.4'                 ), Dependencies(                     id=22,                     name='ripgrep',                     source='https://conda.anaconda.org/t/jr-ac5b1b42-c470-4696-a06b-9e98c0d40429/conda-forge/linux-64/ripgrep-13.0.0-h2f28480_2.tar.bz2',                     local_source='/Users/jacquelinegarrahan/sandbox/lume-services/local-conda-channel/linux-64/ripgrep-13.0.0-h2f28480_2.tar.bz2'                     version='13.0.0'                 ), Dependencies(                     id=23,                     name='liblief',                     source='https://conda.anaconda.org/t/jr-ac5b1b42-c470-4696-a06b-9e98c0d40429/conda-forge/linux-64/liblief-0.12.1-h27087fc_0.tar.bz2',                     local_source='/Users/jacquelinegarrahan/sandbox/lume-services/local-conda-channel/linux-64/liblief-0.12.1-h27087fc_0.tar.bz2'                     version='0.12.1'                 ), Dependencies(                     id=24,                     name='patchelf',                     source='https://conda.anaconda.org/t/jr-ac5b1b42-c470-4696-a06b-9e98c0d40429/conda-forge/linux-64/patchelf-0.15.0-h58526e2_0.tar.bz2',                     local_source='/Users/jacquelinegarrahan/sandbox/lume-services/local-conda-channel/linux-64/patchelf-0.15.0-h58526e2_0.tar.bz2'                     version='0.15.0'                 ), Dependencies(                     id=25,                     name='patch',                     source='https://conda.anaconda.org/t/jr-ac5b1b42-c470-4696-a06b-9e98c0d40429/conda-forge/linux-64/patch-2.7.6-h7f98852_1002.tar.bz2',                     local_source='/Users/jacquelinegarrahan/sandbox/lume-services/local-conda-channel/linux-64/patch-2.7.6-h7f98852_1002.tar.bz2'                     version='2.7.6'                 ), Dependencies(                     id=26,                     name='lz4-c',                     source='https://conda.anaconda.org/t/jr-ac5b1b42-c470-4696-a06b-9e98c0d40429/conda-forge/linux-64/lz4-c-1.9.3-h9c3ff4c_1.tar.bz2',                     local_source='/Users/jacquelinegarrahan/sandbox/lume-services/local-conda-channel/linux-64/lz4-c-1.9.3-h9c3ff4c_1.tar.bz2'                     version='1.9.3'                 ), Dependencies(                     id=27,                     name='icu',                     source='https://conda.anaconda.org/t/jr-ac5b1b42-c470-4696-a06b-9e98c0d40429/conda-forge/linux-64/icu-70.1-h27087fc_0.tar.bz2',                     local_source='/Users/jacquelinegarrahan/sandbox/lume-services/local-conda-channel/linux-64/icu-70.1-h27087fc_0.tar.bz2'                     version='70.1'                 ), Dependencies(                     id=28,                     name='libopenblas',                     source='https://conda.anaconda.org/t/jr-ac5b1b42-c470-4696-a06b-9e98c0d40429/conda-forge/linux-64/libopenblas-0.3.21-pthreads_h78a6416_3.tar.bz2',                     local_source='/Users/jacquelinegarrahan/sandbox/lume-services/local-conda-channel/linux-64/libopenblas-0.3.21-pthreads_h78a6416_3.tar.bz2'                     version='0.3.21'                 ), Dependencies(                     id=29,                     name='reproc',                     source='https://conda.anaconda.org/t/jr-ac5b1b42-c470-4696-a06b-9e98c0d40429/conda-forge/linux-64/reproc-14.2.3-h7f98852_0.tar.bz2',                     local_source='/Users/jacquelinegarrahan/sandbox/lume-services/local-conda-channel/linux-64/reproc-14.2.3-h7f98852_0.tar.bz2'                     version='14.2.3'                 ), Dependencies(                     id=30,                     name='libiconv',                     source='https://conda.anaconda.org/t/jr-ac5b1b42-c470-4696-a06b-9e98c0d40429/conda-forge/linux-64/libiconv-1.16-h516909a_0.tar.bz2',                     local_source='/Users/jacquelinegarrahan/sandbox/lume-services/local-conda-channel/linux-64/libiconv-1.16-h516909a_0.tar.bz2'                     version='1.16'                 ), Dependencies(                     id=31,                     name='keyutils',                     source='https://conda.anaconda.org/t/jr-ac5b1b42-c470-4696-a06b-9e98c0d40429/conda-forge/linux-64/keyutils-1.6.1-h166bdaf_0.tar.bz2',                     local_source='/Users/jacquelinegarrahan/sandbox/lume-services/local-conda-channel/linux-64/keyutils-1.6.1-h166bdaf_0.tar.bz2'                     version='1.6.1'                 ), Dependencies(                     id=32,                     name='yaml-cpp',                     source='https://conda.anaconda.org/t/jr-ac5b1b42-c470-4696-a06b-9e98c0d40429/conda-forge/linux-64/yaml-cpp-0.7.0-h27087fc_1.tar.bz2',                     local_source='/Users/jacquelinegarrahan/sandbox/lume-services/local-conda-channel/linux-64/yaml-cpp-0.7.0-h27087fc_1.tar.bz2'                     version='0.7.0'                 ), Dependencies(                     id=33,                     name='xz',                     source='https://conda.anaconda.org/t/jr-ac5b1b42-c470-4696-a06b-9e98c0d40429/conda-forge/linux-64/xz-5.2.6-h166bdaf_0.tar.bz2',                     local_source='/Users/jacquelinegarrahan/sandbox/lume-services/local-conda-channel/linux-64/xz-5.2.6-h166bdaf_0.tar.bz2'                     version='5.2.6'                 ), Dependencies(                     id=34,                     name='openssl',                     source='https://conda.anaconda.org/t/jr-ac5b1b42-c470-4696-a06b-9e98c0d40429/conda-forge/linux-64/openssl-1.1.1q-h166bdaf_0.tar.bz2',                     local_source='/Users/jacquelinegarrahan/sandbox/lume-services/local-conda-channel/linux-64/openssl-1.1.1q-h166bdaf_0.tar.bz2'                     version='1.1.1q'                 ), Dependencies(                     id=35,                     name='ncurses',                     source='https://conda.anaconda.org/t/jr-ac5b1b42-c470-4696-a06b-9e98c0d40429/conda-forge/linux-64/ncurses-6.3-h27087fc_1.tar.bz2',                     local_source='/Users/jacquelinegarrahan/sandbox/lume-services/local-conda-channel/linux-64/ncurses-6.3-h27087fc_1.tar.bz2'                     version='6.3'                 ), Dependencies(                     id=36,                     name='libzlib',                     source='https://conda.anaconda.org/t/jr-ac5b1b42-c470-4696-a06b-9e98c0d40429/conda-forge/linux-64/libzlib-1.2.12-h166bdaf_2.tar.bz2',                     local_source='/Users/jacquelinegarrahan/sandbox/lume-services/local-conda-channel/linux-64/libzlib-1.2.12-h166bdaf_2.tar.bz2'                     version='1.2.12'                 ), Dependencies(                     id=37,                     name='libffi',                     source='https://conda.anaconda.org/t/jr-ac5b1b42-c470-4696-a06b-9e98c0d40429/conda-forge/linux-64/libffi-3.4.2-h7f98852_5.tar.bz2',                     local_source='/Users/jacquelinegarrahan/sandbox/lume-services/local-conda-channel/linux-64/libffi-3.4.2-h7f98852_5.tar.bz2'                     version='3.4.2'                 ), Dependencies(                     id=38,                     name='bzip2',                     source='https://conda.anaconda.org/t/jr-ac5b1b42-c470-4696-a06b-9e98c0d40429/conda-forge/linux-64/bzip2-1.0.8-h7f98852_4.tar.bz2',                     local_source='/Users/jacquelinegarrahan/sandbox/lume-services/local-conda-channel/linux-64/bzip2-1.0.8-h7f98852_4.tar.bz2'                     version='1.0.8'                 ), Dependencies(                     id=39,                     name='yaml',                     source='https://conda.anaconda.org/t/jr-ac5b1b42-c470-4696-a06b-9e98c0d40429/conda-forge/linux-64/yaml-0.2.5-h7f98852_2.tar.bz2',                     local_source='/Users/jacquelinegarrahan/sandbox/lume-services/local-conda-channel/linux-64/yaml-0.2.5-h7f98852_2.tar.bz2'                     version='0.2.5'                 ), Dependencies(                     id=40,                     name='libnsl',                     source='https://conda.anaconda.org/t/jr-ac5b1b42-c470-4696-a06b-9e98c0d40429/conda-forge/linux-64/libnsl-2.0.0-h7f98852_0.tar.bz2',                     local_source='/Users/jacquelinegarrahan/sandbox/lume-services/local-conda-channel/linux-64/libnsl-2.0.0-h7f98852_0.tar.bz2'                     version='2.0.0'                 ), Dependencies(                     id=41,                     name='libxcb',                     source='https://conda.anaconda.org/t/jr-ac5b1b42-c470-4696-a06b-9e98c0d40429/conda-forge/linux-64/libxcb-1.13-h7f98852_1004.tar.bz2',                     local_source='/Users/jacquelinegarrahan/sandbox/lume-services/local-conda-channel/linux-64/libxcb-1.13-h7f98852_1004.tar.bz2'                     version='1.13'                 ), Dependencies(                     id=42,                     name='libbrotlienc',                     source='https://conda.anaconda.org/t/jr-ac5b1b42-c470-4696-a06b-9e98c0d40429/conda-forge/linux-64/libbrotlienc-1.0.9-h166bdaf_7.tar.bz2',                     local_source='/Users/jacquelinegarrahan/sandbox/lume-services/local-conda-channel/linux-64/libbrotlienc-1.0.9-h166bdaf_7.tar.bz2'                     version='1.0.9'                 ), Dependencies(                     id=43,                     name='libbrotlidec',                     source='https://conda.anaconda.org/t/jr-ac5b1b42-c470-4696-a06b-9e98c0d40429/conda-forge/linux-64/libbrotlidec-1.0.9-h166bdaf_7.tar.bz2',                     local_source='/Users/jacquelinegarrahan/sandbox/lume-services/local-conda-channel/linux-64/libbrotlidec-1.0.9-h166bdaf_7.tar.bz2'                     version='1.0.9'                 ), Dependencies(                     id=44,                     name='libblas',                     source='https://conda.anaconda.org/t/jr-ac5b1b42-c470-4696-a06b-9e98c0d40429/conda-forge/linux-64/libblas-3.9.0-16_linux64_openblas.tar.bz2',                     local_source='/Users/jacquelinegarrahan/sandbox/lume-services/local-conda-channel/linux-64/libblas-3.9.0-16_linux64_openblas.tar.bz2'                     version='3.9.0'                 ), Dependencies(                     id=45,                     name='reproc-cpp',                     source='https://conda.anaconda.org/t/jr-ac5b1b42-c470-4696-a06b-9e98c0d40429/conda-forge/linux-64/reproc-cpp-14.2.3-h9c3ff4c_0.tar.bz2',                     local_source='/Users/jacquelinegarrahan/sandbox/lume-services/local-conda-channel/linux-64/reproc-cpp-14.2.3-h9c3ff4c_0.tar.bz2'                     version='14.2.3'                 ), Dependencies(                     id=46,                     name='libedit',                     source='https://conda.anaconda.org/t/jr-ac5b1b42-c470-4696-a06b-9e98c0d40429/conda-forge/linux-64/libedit-3.1.20191231-he28a2e2_2.tar.bz2',                     local_source='/Users/jacquelinegarrahan/sandbox/lume-services/local-conda-channel/linux-64/libedit-3.1.20191231-he28a2e2_2.tar.bz2'                     version='3.1.20191231'                 ), Dependencies(                     id=47,                     name='readline',                     source='https://conda.anaconda.org/t/jr-ac5b1b42-c470-4696-a06b-9e98c0d40429/conda-forge/linux-64/readline-8.1.2-h0f457ee_0.tar.bz2',                     local_source='/Users/jacquelinegarrahan/sandbox/lume-services/local-conda-channel/linux-64/readline-8.1.2-h0f457ee_0.tar.bz2'                     version='8.1.2'                 ), Dependencies(                     id=48,                     name='zstd',                     source='https://conda.anaconda.org/t/jr-ac5b1b42-c470-4696-a06b-9e98c0d40429/conda-forge/linux-64/zstd-1.5.2-h6239696_4.tar.bz2',                     local_source='/Users/jacquelinegarrahan/sandbox/lume-services/local-conda-channel/linux-64/zstd-1.5.2-h6239696_4.tar.bz2'                     version='1.5.2'                 ), Dependencies(                     id=49,                     name='libpng',                     source='https://conda.anaconda.org/t/jr-ac5b1b42-c470-4696-a06b-9e98c0d40429/conda-forge/linux-64/libpng-1.6.37-h753d276_4.tar.bz2',                     local_source='/Users/jacquelinegarrahan/sandbox/lume-services/local-conda-channel/linux-64/libpng-1.6.37-h753d276_4.tar.bz2'                     version='1.6.37'                 ), Dependencies(                     id=50,                     name='libxml2',                     source='https://conda.anaconda.org/t/jr-ac5b1b42-c470-4696-a06b-9e98c0d40429/conda-forge/linux-64/libxml2-2.9.14-h22db469_4.tar.bz2',                     local_source='/Users/jacquelinegarrahan/sandbox/lume-services/local-conda-channel/linux-64/libxml2-2.9.14-h22db469_4.tar.bz2'                     version='2.9.14'                 ), Dependencies(                     id=51,                     name='libssh2',                     source='https://conda.anaconda.org/t/jr-ac5b1b42-c470-4696-a06b-9e98c0d40429/conda-forge/linux-64/libssh2-1.10.0-haa6b8db_3.tar.bz2',                     local_source='/Users/jacquelinegarrahan/sandbox/lume-services/local-conda-channel/linux-64/libssh2-1.10.0-haa6b8db_3.tar.bz2'                     version='1.10.0'                 ), Dependencies(                     id=52,                     name='libnghttp2',                     source='https://conda.anaconda.org/t/jr-ac5b1b42-c470-4696-a06b-9e98c0d40429/conda-forge/linux-64/libnghttp2-1.47.0-hdcd2b5c_1.tar.bz2',                     local_source='/Users/jacquelinegarrahan/sandbox/lume-services/local-conda-channel/linux-64/libnghttp2-1.47.0-hdcd2b5c_1.tar.bz2'                     version='1.47.0'                 ), Dependencies(                     id=53,                     name='tk',                     source='https://conda.anaconda.org/t/jr-ac5b1b42-c470-4696-a06b-9e98c0d40429/conda-forge/linux-64/tk-8.6.12-h27826a3_0.tar.bz2',                     local_source='/Users/jacquelinegarrahan/sandbox/lume-services/local-conda-channel/linux-64/tk-8.6.12-h27826a3_0.tar.bz2'                     version='8.6.12'                 ), Dependencies(                     id=54,                     name='libsqlite',                     source='https://conda.anaconda.org/t/jr-ac5b1b42-c470-4696-a06b-9e98c0d40429/conda-forge/linux-64/libsqlite-3.39.3-h753d276_0.tar.bz2',                     local_source='/Users/jacquelinegarrahan/sandbox/lume-services/local-conda-channel/linux-64/libsqlite-3.39.3-h753d276_0.tar.bz2'                     version='3.39.3'                 ), Dependencies(                     id=55,                     name='libsolv',                     source='https://conda.anaconda.org/t/jr-ac5b1b42-c470-4696-a06b-9e98c0d40429/conda-forge/linux-64/libsolv-0.7.22-h6239696_0.tar.bz2',                     local_source='/Users/jacquelinegarrahan/sandbox/lume-services/local-conda-channel/linux-64/libsolv-0.7.22-h6239696_0.tar.bz2'                     version='0.7.22'                 ), Dependencies(                     id=56,                     name='brotli-bin',                     source='https://conda.anaconda.org/t/jr-ac5b1b42-c470-4696-a06b-9e98c0d40429/conda-forge/linux-64/brotli-bin-1.0.9-h166bdaf_7.tar.bz2',                     local_source='/Users/jacquelinegarrahan/sandbox/lume-services/local-conda-channel/linux-64/brotli-bin-1.0.9-h166bdaf_7.tar.bz2'                     version='1.0.9'                 ), Dependencies(                     id=57,                     name='libcblas',                     source='https://conda.anaconda.org/t/jr-ac5b1b42-c470-4696-a06b-9e98c0d40429/conda-forge/linux-64/libcblas-3.9.0-16_linux64_openblas.tar.bz2',                     local_source='/Users/jacquelinegarrahan/sandbox/lume-services/local-conda-channel/linux-64/libcblas-3.9.0-16_linux64_openblas.tar.bz2'                     version='3.9.0'                 ), Dependencies(                     id=58,                     name='liblapack',                     source='https://conda.anaconda.org/t/jr-ac5b1b42-c470-4696-a06b-9e98c0d40429/conda-forge/linux-64/liblapack-3.9.0-16_linux64_openblas.tar.bz2',                     local_source='/Users/jacquelinegarrahan/sandbox/lume-services/local-conda-channel/linux-64/liblapack-3.9.0-16_linux64_openblas.tar.bz2'                     version='3.9.0'                 ), Dependencies(                     id=59,                     name='krb5',                     source='https://conda.anaconda.org/t/jr-ac5b1b42-c470-4696-a06b-9e98c0d40429/conda-forge/linux-64/krb5-1.19.3-h3790be6_0.tar.bz2',                     local_source='/Users/jacquelinegarrahan/sandbox/lume-services/local-conda-channel/linux-64/krb5-1.19.3-h3790be6_0.tar.bz2'                     version='1.19.3'                 ), Dependencies(                     id=60,                     name='libtiff',                     source='https://conda.anaconda.org/t/jr-ac5b1b42-c470-4696-a06b-9e98c0d40429/conda-forge/linux-64/libtiff-4.4.0-h0e0dad5_3.tar.bz2',                     local_source='/Users/jacquelinegarrahan/sandbox/lume-services/local-conda-channel/linux-64/libtiff-4.4.0-h0e0dad5_3.tar.bz2'                     version='4.4.0'                 ), Dependencies(                     id=61,                     name='freetype',                     source='https://conda.anaconda.org/t/jr-ac5b1b42-c470-4696-a06b-9e98c0d40429/conda-forge/linux-64/freetype-2.12.1-hca18f0e_0.tar.bz2',                     local_source='/Users/jacquelinegarrahan/sandbox/lume-services/local-conda-channel/linux-64/freetype-2.12.1-hca18f0e_0.tar.bz2'                     version='2.12.1'                 ), Dependencies(                     id=62,                     name='libarchive',                     source='https://conda.anaconda.org/t/jr-ac5b1b42-c470-4696-a06b-9e98c0d40429/conda-forge/linux-64/libarchive-3.5.2-hb890918_3.tar.bz2',                     local_source='/Users/jacquelinegarrahan/sandbox/lume-services/local-conda-channel/linux-64/libarchive-3.5.2-hb890918_3.tar.bz2'                     version='3.5.2'                 ), Dependencies(                     id=63,                     name='sqlite',                     source='https://conda.anaconda.org/t/jr-ac5b1b42-c470-4696-a06b-9e98c0d40429/conda-forge/linux-64/sqlite-3.39.3-h4ff8645_0.tar.bz2',                     local_source='/Users/jacquelinegarrahan/sandbox/lume-services/local-conda-channel/linux-64/sqlite-3.39.3-h4ff8645_0.tar.bz2'                     version='3.39.3'                 ), Dependencies(                     id=64,                     name='brotli',                     source='https://conda.anaconda.org/t/jr-ac5b1b42-c470-4696-a06b-9e98c0d40429/conda-forge/linux-64/brotli-1.0.9-h166bdaf_7.tar.bz2',                     local_source='/Users/jacquelinegarrahan/sandbox/lume-services/local-conda-channel/linux-64/brotli-1.0.9-h166bdaf_7.tar.bz2'                     version='1.0.9'                 ), Dependencies(                     id=65,                     name='libcurl',                     source='https://conda.anaconda.org/t/jr-ac5b1b42-c470-4696-a06b-9e98c0d40429/conda-forge/linux-64/libcurl-7.83.1-h7bff187_0.tar.bz2',                     local_source='/Users/jacquelinegarrahan/sandbox/lume-services/local-conda-channel/linux-64/libcurl-7.83.1-h7bff187_0.tar.bz2'                     version='7.83.1'                 ), Dependencies(                     id=66,                     name='openjpeg',                     source='https://conda.anaconda.org/t/jr-ac5b1b42-c470-4696-a06b-9e98c0d40429/conda-forge/linux-64/openjpeg-2.5.0-h7d73246_1.tar.bz2',                     local_source='/Users/jacquelinegarrahan/sandbox/lume-services/local-conda-channel/linux-64/openjpeg-2.5.0-h7d73246_1.tar.bz2'                     version='2.5.0'                 ), Dependencies(                     id=67,                     name='lcms2',                     source='https://conda.anaconda.org/t/jr-ac5b1b42-c470-4696-a06b-9e98c0d40429/conda-forge/linux-64/lcms2-2.12-hddcbb42_0.tar.bz2',                     local_source='/Users/jacquelinegarrahan/sandbox/lume-services/local-conda-channel/linux-64/lcms2-2.12-hddcbb42_0.tar.bz2'                     version='2.12'                 ), Dependencies(                     id=68,                     name='hdf5',                     source='https://conda.anaconda.org/t/jr-ac5b1b42-c470-4696-a06b-9e98c0d40429/conda-forge/linux-64/hdf5-1.12.2-nompi_h2386368_100.tar.bz2',                     local_source='/Users/jacquelinegarrahan/sandbox/lume-services/local-conda-channel/linux-64/hdf5-1.12.2-nompi_h2386368_100.tar.bz2'                     version='1.12.2'                 ), Dependencies(                     id=69,                     name='libmamba',                     source='https://conda.anaconda.org/t/jr-ac5b1b42-c470-4696-a06b-9e98c0d40429/conda-forge/linux-64/libmamba-0.25.0-hd8a31e3_2.tar.bz2',                     local_source='/Users/jacquelinegarrahan/sandbox/lume-services/local-conda-channel/linux-64/libmamba-0.25.0-hd8a31e3_2.tar.bz2'                     version='0.25.0'                 ), Dependencies(                     id=70,                     name='tzdata',                     source='https://conda.anaconda.org/t/jr-ac5b1b42-c470-4696-a06b-9e98c0d40429/conda-forge/noarch/tzdata-2022c-h191b570_0.tar.bz2',                     local_source='/Users/jacquelinegarrahan/sandbox/lume-services/local-conda-channel/noarch/tzdata-2022c-h191b570_0.tar.bz2'                     version='2022c'                 ), Dependencies(                     id=71,                     name='pybind11-abi',                     source='https://conda.anaconda.org/t/jr-ac5b1b42-c470-4696-a06b-9e98c0d40429/conda-forge/noarch/pybind11-abi-4-hd8ed1ab_3.tar.bz2',                     local_source='/Users/jacquelinegarrahan/sandbox/lume-services/local-conda-channel/noarch/pybind11-abi-4-hd8ed1ab_3.tar.bz2'                     version='4'                 ), Dependencies(                     id=72,                     name='python',                     source='https://conda.anaconda.org/t/jr-ac5b1b42-c470-4696-a06b-9e98c0d40429/conda-forge/linux-64/python-3.9.13-h9a8a25e_0_cpython.tar.bz2',                     local_source='/Users/jacquelinegarrahan/sandbox/lume-services/local-conda-channel/linux-64/python-3.9.13-h9a8a25e_0_cpython.tar.bz2'                     version='3.9.13'                 ), Dependencies(                     id=73,                     name='wheel',                     source='https://conda.anaconda.org/t/jr-ac5b1b42-c470-4696-a06b-9e98c0d40429/conda-forge/noarch/wheel-0.37.1-pyhd8ed1ab_0.tar.bz2',                     local_source='/Users/jacquelinegarrahan/sandbox/lume-services/local-conda-channel/noarch/wheel-0.37.1-pyhd8ed1ab_0.tar.bz2'                     version='0.37.1'                 ), Dependencies(                     id=74,                     name='setuptools',                     source='https://conda.anaconda.org/t/jr-ac5b1b42-c470-4696-a06b-9e98c0d40429/conda-forge/noarch/setuptools-65.3.0-pyhd8ed1ab_1.tar.bz2',                     local_source='/Users/jacquelinegarrahan/sandbox/lume-services/local-conda-channel/noarch/setuptools-65.3.0-pyhd8ed1ab_1.tar.bz2'                     version='65.3.0'                 ), Dependencies(                     id=75,                     name='pip',                     source='https://conda.anaconda.org/t/jr-ac5b1b42-c470-4696-a06b-9e98c0d40429/conda-forge/noarch/pip-22.2.2-pyhd8ed1ab_0.tar.bz2',                     local_source='/Users/jacquelinegarrahan/sandbox/lume-services/local-conda-channel/noarch/pip-22.2.2-pyhd8ed1ab_0.tar.bz2'                     version='22.2.2'                 ), Dependencies(                     id=76,                     name='munkres',                     source='https://conda.anaconda.org/t/jr-ac5b1b42-c470-4696-a06b-9e98c0d40429/conda-forge/noarch/munkres-1.1.4-pyh9f0ad1d_0.tar.bz2',                     local_source='/Users/jacquelinegarrahan/sandbox/lume-services/local-conda-channel/noarch/munkres-1.1.4-pyh9f0ad1d_0.tar.bz2'                     version='1.1.4'                 ), Dependencies(                     id=77,                     name='cycler',                     source='https://conda.anaconda.org/t/jr-ac5b1b42-c470-4696-a06b-9e98c0d40429/conda-forge/noarch/cycler-0.11.0-pyhd8ed1ab_0.tar.bz2',                     local_source='/Users/jacquelinegarrahan/sandbox/lume-services/local-conda-channel/noarch/cycler-0.11.0-pyhd8ed1ab_0.tar.bz2'                     version='0.11.0'                 ), Dependencies(                     id=78,                     name='soupsieve',                     source='https://conda.anaconda.org/t/jr-ac5b1b42-c470-4696-a06b-9e98c0d40429/conda-forge/noarch/soupsieve-2.3.2.post1-pyhd8ed1ab_0.tar.bz2',                     local_source='/Users/jacquelinegarrahan/sandbox/lume-services/local-conda-channel/noarch/soupsieve-2.3.2.post1-pyhd8ed1ab_0.tar.bz2'                     version='2.3.2.post1'                 ), Dependencies(                     id=79,                     name='cached_property',                     source='https://conda.anaconda.org/t/jr-ac5b1b42-c470-4696-a06b-9e98c0d40429/conda-forge/noarch/cached_property-1.5.2-pyha770c72_1.tar.bz2',                     local_source='/Users/jacquelinegarrahan/sandbox/lume-services/local-conda-channel/noarch/cached_property-1.5.2-pyha770c72_1.tar.bz2'                     version='1.5.2'                 ), Dependencies(                     id=80,                     name='unidecode',                     source='https://conda.anaconda.org/t/jr-ac5b1b42-c470-4696-a06b-9e98c0d40429/conda-forge/noarch/unidecode-1.3.4-pyhd8ed1ab_0.tar.bz2',                     local_source='/Users/jacquelinegarrahan/sandbox/lume-services/local-conda-channel/noarch/unidecode-1.3.4-pyhd8ed1ab_0.tar.bz2'                     version='1.3.4'                 ), Dependencies(                     id=81,                     name='text-unidecode',                     source='https://conda.anaconda.org/t/jr-ac5b1b42-c470-4696-a06b-9e98c0d40429/conda-forge/noarch/text-unidecode-1.3-py_0.tar.bz2',                     local_source='/Users/jacquelinegarrahan/sandbox/lume-services/local-conda-channel/noarch/text-unidecode-1.3-py_0.tar.bz2'                     version='1.3'                 ), Dependencies(                     id=82,                     name='charset-normalizer',                     source='https://conda.anaconda.org/t/jr-ac5b1b42-c470-4696-a06b-9e98c0d40429/conda-forge/noarch/charset-normalizer-2.1.1-pyhd8ed1ab_0.tar.bz2',                     local_source='/Users/jacquelinegarrahan/sandbox/lume-services/local-conda-channel/noarch/charset-normalizer-2.1.1-pyhd8ed1ab_0.tar.bz2'                     version='2.1.1'                 ), Dependencies(                     id=83,                     name='colorama',                     source='https://conda.anaconda.org/t/jr-ac5b1b42-c470-4696-a06b-9e98c0d40429/conda-forge/noarch/colorama-0.4.5-pyhd8ed1ab_0.tar.bz2',                     local_source='/Users/jacquelinegarrahan/sandbox/lume-services/local-conda-channel/noarch/colorama-0.4.5-pyhd8ed1ab_0.tar.bz2'                     version='0.4.5'                 ), Dependencies(                     id=84,                     name='certifi',                     source='https://conda.anaconda.org/t/jr-ac5b1b42-c470-4696-a06b-9e98c0d40429/conda-forge/noarch/certifi-2022.6.15-pyhd8ed1ab_1.tar.bz2',                     local_source='/Users/jacquelinegarrahan/sandbox/lume-services/local-conda-channel/noarch/certifi-2022.6.15-pyhd8ed1ab_1.tar.bz2'                     version='2022.6.15'                 ), Dependencies(                     id=85,                     name='heapdict',                     source='https://conda.anaconda.org/t/jr-ac5b1b42-c470-4696-a06b-9e98c0d40429/conda-forge/noarch/heapdict-1.0.1-py_0.tar.bz2',                     local_source='/Users/jacquelinegarrahan/sandbox/lume-services/local-conda-channel/noarch/heapdict-1.0.1-py_0.tar.bz2'                     version='1.0.1'                 ), Dependencies(                     id=86,                     name='glob2',                     source='https://conda.anaconda.org/t/jr-ac5b1b42-c470-4696-a06b-9e98c0d40429/conda-forge/noarch/glob2-0.7-py_0.tar.bz2',                     local_source='/Users/jacquelinegarrahan/sandbox/lume-services/local-conda-channel/noarch/glob2-0.7-py_0.tar.bz2'                     version='0.7'                 ), Dependencies(                     id=87,                     name='pkginfo',                     source='https://conda.anaconda.org/t/jr-ac5b1b42-c470-4696-a06b-9e98c0d40429/conda-forge/noarch/pkginfo-1.8.3-pyhd8ed1ab_0.tar.bz2',                     local_source='/Users/jacquelinegarrahan/sandbox/lume-services/local-conda-channel/noarch/pkginfo-1.8.3-pyhd8ed1ab_0.tar.bz2'                     version='1.8.3'                 ), Dependencies(                     id=88,                     name='filelock',                     source='https://conda.anaconda.org/t/jr-ac5b1b42-c470-4696-a06b-9e98c0d40429/conda-forge/noarch/filelock-3.8.0-pyhd8ed1ab_0.tar.bz2',                     local_source='/Users/jacquelinegarrahan/sandbox/lume-services/local-conda-channel/noarch/filelock-3.8.0-pyhd8ed1ab_0.tar.bz2'                     version='3.8.0'                 ), Dependencies(                     id=89,                     name='appdirs',                     source='https://conda.anaconda.org/t/jr-ac5b1b42-c470-4696-a06b-9e98c0d40429/conda-forge/noarch/appdirs-1.4.4-pyh9f0ad1d_0.tar.bz2',                     local_source='/Users/jacquelinegarrahan/sandbox/lume-services/local-conda-channel/noarch/appdirs-1.4.4-pyh9f0ad1d_0.tar.bz2'                     version='1.4.4'                 ), Dependencies(                     id=90,                     name='websocket-client',                     source='https://conda.anaconda.org/t/jr-ac5b1b42-c470-4696-a06b-9e98c0d40429/conda-forge/noarch/websocket-client-1.4.1-pyhd8ed1ab_0.tar.bz2',                     local_source='/Users/jacquelinegarrahan/sandbox/lume-services/local-conda-channel/noarch/websocket-client-1.4.1-pyhd8ed1ab_0.tar.bz2'                     version='1.4.1'                 ), Dependencies(                     id=91,                     name='six',                     source='https://conda.anaconda.org/t/jr-ac5b1b42-c470-4696-a06b-9e98c0d40429/conda-forge/noarch/six-1.16.0-pyh6c4a22f_0.tar.bz2',                     local_source='/Users/jacquelinegarrahan/sandbox/lume-services/local-conda-channel/noarch/six-1.16.0-pyh6c4a22f_0.tar.bz2'                     version='1.16.0'                 ), Dependencies(                     id=92,                     name='pycparser',                     source='https://conda.anaconda.org/t/jr-ac5b1b42-c470-4696-a06b-9e98c0d40429/conda-forge/noarch/pycparser-2.21-pyhd8ed1ab_0.tar.bz2',                     local_source='/Users/jacquelinegarrahan/sandbox/lume-services/local-conda-channel/noarch/pycparser-2.21-pyhd8ed1ab_0.tar.bz2'                     version='2.21'                 ), Dependencies(                     id=93,                     name='idna',                     source='https://conda.anaconda.org/t/jr-ac5b1b42-c470-4696-a06b-9e98c0d40429/conda-forge/noarch/idna-3.3-pyhd8ed1ab_0.tar.bz2',                     local_source='/Users/jacquelinegarrahan/sandbox/lume-services/local-conda-channel/noarch/idna-3.3-pyhd8ed1ab_0.tar.bz2'                     version='3.3'                 ), Dependencies(                     id=94,                     name='asn1crypto',                     source='https://conda.anaconda.org/t/jr-ac5b1b42-c470-4696-a06b-9e98c0d40429/conda-forge/noarch/asn1crypto-1.5.1-pyhd8ed1ab_0.tar.bz2',                     local_source='/Users/jacquelinegarrahan/sandbox/lume-services/local-conda-channel/noarch/asn1crypto-1.5.1-pyhd8ed1ab_0.tar.bz2'                     version='1.5.1'                 ), Dependencies(                     id=95,                     name='pytzdata',                     source='https://conda.anaconda.org/t/jr-ac5b1b42-c470-4696-a06b-9e98c0d40429/conda-forge/noarch/pytzdata-2020.1-pyh9f0ad1d_0.tar.bz2',                     local_source='/Users/jacquelinegarrahan/sandbox/lume-services/local-conda-channel/noarch/pytzdata-2020.1-pyh9f0ad1d_0.tar.bz2'                     version='2020.1'                 ), Dependencies(                     id=96,                     name='typing_extensions',                     source='https://conda.anaconda.org/t/jr-ac5b1b42-c470-4696-a06b-9e98c0d40429/conda-forge/noarch/typing_extensions-4.3.0-pyha770c72_0.tar.bz2',                     local_source='/Users/jacquelinegarrahan/sandbox/lume-services/local-conda-channel/noarch/typing_extensions-4.3.0-pyha770c72_0.tar.bz2'                     version='4.3.0'                 ), Dependencies(                     id=97,                     name='natsort',                     source='https://conda.anaconda.org/t/jr-ac5b1b42-c470-4696-a06b-9e98c0d40429/conda-forge/noarch/natsort-8.2.0-pyhd8ed1ab_0.tar.bz2',                     local_source='/Users/jacquelinegarrahan/sandbox/lume-services/local-conda-channel/noarch/natsort-8.2.0-pyhd8ed1ab_0.tar.bz2'                     version='8.2.0'                 ), Dependencies(                     id=98,                     name='fsspec',                     source='https://conda.anaconda.org/t/jr-ac5b1b42-c470-4696-a06b-9e98c0d40429/conda-forge/noarch/fsspec-2022.8.2-pyhd8ed1ab_0.tar.bz2',                     local_source='/Users/jacquelinegarrahan/sandbox/lume-services/local-conda-channel/noarch/fsspec-2022.8.2-pyhd8ed1ab_0.tar.bz2'                     version='2022.8.2'                 ), Dependencies(                     id=99,                     name='tblib',                     source='https://conda.anaconda.org/t/jr-ac5b1b42-c470-4696-a06b-9e98c0d40429/conda-forge/noarch/tblib-1.7.0-pyhd8ed1ab_0.tar.bz2',                     local_source='/Users/jacquelinegarrahan/sandbox/lume-services/local-conda-channel/noarch/tblib-1.7.0-pyhd8ed1ab_0.tar.bz2'                     version='1.7.0'                 ), Dependencies(                     id=100,                     name='locket',                     source='https://conda.anaconda.org/t/jr-ac5b1b42-c470-4696-a06b-9e98c0d40429/conda-forge/noarch/locket-1.0.0-pyhd8ed1ab_0.tar.bz2',                     local_source='/Users/jacquelinegarrahan/sandbox/lume-services/local-conda-channel/noarch/locket-1.0.0-pyhd8ed1ab_0.tar.bz2'                     version='1.0.0'                 ), Dependencies(                     id=101,                     name='toolz',                     source='https://conda.anaconda.org/t/jr-ac5b1b42-c470-4696-a06b-9e98c0d40429/conda-forge/noarch/toolz-0.12.0-pyhd8ed1ab_0.tar.bz2',                     local_source='/Users/jacquelinegarrahan/sandbox/lume-services/local-conda-channel/noarch/toolz-0.12.0-pyhd8ed1ab_0.tar.bz2'                     version='0.12.0'                 ), Dependencies(                     id=102,                     name='sortedcontainers',                     source='https://conda.anaconda.org/t/jr-ac5b1b42-c470-4696-a06b-9e98c0d40429/conda-forge/noarch/sortedcontainers-2.4.0-pyhd8ed1ab_0.tar.bz2',                     local_source='/Users/jacquelinegarrahan/sandbox/lume-services/local-conda-channel/noarch/sortedcontainers-2.4.0-pyhd8ed1ab_0.tar.bz2'                     version='2.4.0'                 ), Dependencies(                     id=103,                     name='zipp',                     source='https://conda.anaconda.org/t/jr-ac5b1b42-c470-4696-a06b-9e98c0d40429/conda-forge/noarch/zipp-3.8.1-pyhd8ed1ab_0.tar.bz2',                     local_source='/Users/jacquelinegarrahan/sandbox/lume-services/local-conda-channel/noarch/zipp-3.8.1-pyhd8ed1ab_0.tar.bz2'                     version='3.8.1'                 ), Dependencies(                     id=104,                     name='pyparsing',                     source='https://conda.anaconda.org/t/jr-ac5b1b42-c470-4696-a06b-9e98c0d40429/conda-forge/noarch/pyparsing-3.0.9-pyhd8ed1ab_0.tar.bz2',                     local_source='/Users/jacquelinegarrahan/sandbox/lume-services/local-conda-channel/noarch/pyparsing-3.0.9-pyhd8ed1ab_0.tar.bz2'                     version='3.0.9'                 ), Dependencies(                     id=105,                     name='toml',                     source='https://conda.anaconda.org/t/jr-ac5b1b42-c470-4696-a06b-9e98c0d40429/conda-forge/noarch/toml-0.10.2-pyhd8ed1ab_0.tar.bz2',                     local_source='/Users/jacquelinegarrahan/sandbox/lume-services/local-conda-channel/noarch/toml-0.10.2-pyhd8ed1ab_0.tar.bz2'                     version='0.10.2'                 ), Dependencies(                     id=106,                     name='tabulate',                     source='https://conda.anaconda.org/t/jr-ac5b1b42-c470-4696-a06b-9e98c0d40429/conda-forge/noarch/tabulate-0.8.10-pyhd8ed1ab_0.tar.bz2',                     local_source='/Users/jacquelinegarrahan/sandbox/lume-services/local-conda-channel/noarch/tabulate-0.8.10-pyhd8ed1ab_0.tar.bz2'                     version='0.8.10'                 ), Dependencies(                     id=107,                     name='pytz',                     source='https://conda.anaconda.org/t/jr-ac5b1b42-c470-4696-a06b-9e98c0d40429/conda-forge/noarch/pytz-2022.2.1-pyhd8ed1ab_0.tar.bz2',                     local_source='/Users/jacquelinegarrahan/sandbox/lume-services/local-conda-channel/noarch/pytz-2022.2.1-pyhd8ed1ab_0.tar.bz2'                     version='2022.2.1'                 ), Dependencies(                     id=108,                     name='cloudpickle',                     source='https://conda.anaconda.org/t/jr-ac5b1b42-c470-4696-a06b-9e98c0d40429/conda-forge/noarch/cloudpickle-2.2.0-pyhd8ed1ab_0.tar.bz2',                     local_source='/Users/jacquelinegarrahan/sandbox/lume-services/local-conda-channel/noarch/cloudpickle-2.2.0-pyhd8ed1ab_0.tar.bz2'                     version='2.2.0'                 ), Dependencies(                     id=109,                     name='pymysql',                     source='https://conda.anaconda.org/t/jr-ac5b1b42-c470-4696-a06b-9e98c0d40429/conda-forge/noarch/pymysql-1.0.2-pyhd8ed1ab_0.tar.bz2',                     local_source='/Users/jacquelinegarrahan/sandbox/lume-services/local-conda-channel/noarch/pymysql-1.0.2-pyhd8ed1ab_0.tar.bz2'                     version='1.0.2'                 ), Dependencies(                     id=110,                     name='beautifulsoup4',                     source='https://conda.anaconda.org/t/jr-ac5b1b42-c470-4696-a06b-9e98c0d40429/conda-forge/noarch/beautifulsoup4-4.11.1-pyha770c72_0.tar.bz2',                     local_source='/Users/jacquelinegarrahan/sandbox/lume-services/local-conda-channel/noarch/beautifulsoup4-4.11.1-pyha770c72_0.tar.bz2'                     version='4.11.1'                 ), Dependencies(                     id=111,                     name='cached-property',                     source='https://conda.anaconda.org/t/jr-ac5b1b42-c470-4696-a06b-9e98c0d40429/conda-forge/noarch/cached-property-1.5.2-hd8ed1ab_1.tar.bz2',                     local_source='/Users/jacquelinegarrahan/sandbox/lume-services/local-conda-channel/noarch/cached-property-1.5.2-hd8ed1ab_1.tar.bz2'                     version='1.5.2'                 ), Dependencies(                     id=112,                     name='python-slugify',                     source='https://conda.anaconda.org/t/jr-ac5b1b42-c470-4696-a06b-9e98c0d40429/conda-forge/noarch/python-slugify-6.1.2-pyhd8ed1ab_0.tar.bz2',                     local_source='/Users/jacquelinegarrahan/sandbox/lume-services/local-conda-channel/noarch/python-slugify-6.1.2-pyhd8ed1ab_0.tar.bz2'                     version='6.1.2'                 ), Dependencies(                     id=113,                     name='tqdm',                     source='https://conda.anaconda.org/t/jr-ac5b1b42-c470-4696-a06b-9e98c0d40429/conda-forge/noarch/tqdm-4.64.1-pyhd8ed1ab_0.tar.bz2',                     local_source='/Users/jacquelinegarrahan/sandbox/lume-services/local-conda-channel/noarch/tqdm-4.64.1-pyhd8ed1ab_0.tar.bz2'                     version='4.64.1'                 ), Dependencies(                     id=114,                     name='zict',                     source='https://conda.anaconda.org/t/jr-ac5b1b42-c470-4696-a06b-9e98c0d40429/conda-forge/noarch/zict-2.2.0-pyhd8ed1ab_0.tar.bz2',                     local_source='/Users/jacquelinegarrahan/sandbox/lume-services/local-conda-channel/noarch/zict-2.2.0-pyhd8ed1ab_0.tar.bz2'                     version='2.2.0'                 ), Dependencies(                     id=115,                     name='docker-pycreds',                     source='https://conda.anaconda.org/t/jr-ac5b1b42-c470-4696-a06b-9e98c0d40429/conda-forge/noarch/docker-pycreds-0.4.0-py_0.tar.bz2',                     local_source='/Users/jacquelinegarrahan/sandbox/lume-services/local-conda-channel/noarch/docker-pycreds-0.4.0-py_0.tar.bz2'                     version='0.4.0'                 ), Dependencies(                     id=116,                     name='python-dateutil',                     source='https://conda.anaconda.org/t/jr-ac5b1b42-c470-4696-a06b-9e98c0d40429/conda-forge/noarch/python-dateutil-2.8.2-pyhd8ed1ab_0.tar.bz2',                     local_source='/Users/jacquelinegarrahan/sandbox/lume-services/local-conda-channel/noarch/python-dateutil-2.8.2-pyhd8ed1ab_0.tar.bz2'                     version='2.8.2'                 ), Dependencies(                     id=117,                     name='typing-extensions',                     source='https://conda.anaconda.org/t/jr-ac5b1b42-c470-4696-a06b-9e98c0d40429/conda-forge/noarch/typing-extensions-4.3.0-hd8ed1ab_0.tar.bz2',                     local_source='/Users/jacquelinegarrahan/sandbox/lume-services/local-conda-channel/noarch/typing-extensions-4.3.0-hd8ed1ab_0.tar.bz2'                     version='4.3.0'                 ), Dependencies(                     id=118,                     name='partd',                     source='https://conda.anaconda.org/t/jr-ac5b1b42-c470-4696-a06b-9e98c0d40429/conda-forge/noarch/partd-1.3.0-pyhd8ed1ab_0.tar.bz2',                     local_source='/Users/jacquelinegarrahan/sandbox/lume-services/local-conda-channel/noarch/partd-1.3.0-pyhd8ed1ab_0.tar.bz2'                     version='1.3.0'                 ), Dependencies(                     id=119,                     name='importlib_resources',                     source='https://conda.anaconda.org/t/jr-ac5b1b42-c470-4696-a06b-9e98c0d40429/conda-forge/noarch/importlib_resources-5.9.0-pyhd8ed1ab_0.tar.bz2',                     local_source='/Users/jacquelinegarrahan/sandbox/lume-services/local-conda-channel/noarch/importlib_resources-5.9.0-pyhd8ed1ab_0.tar.bz2'                     version='5.9.0'                 ), Dependencies(                     id=120,                     name='packaging',                     source='https://conda.anaconda.org/t/jr-ac5b1b42-c470-4696-a06b-9e98c0d40429/conda-forge/noarch/packaging-21.3-pyhd8ed1ab_0.tar.bz2',                     local_source='/Users/jacquelinegarrahan/sandbox/lume-services/local-conda-channel/noarch/packaging-21.3-pyhd8ed1ab_0.tar.bz2'                     version='21.3'                 ), Dependencies(                     id=121,                     name='croniter',                     source='https://conda.anaconda.org/t/jr-ac5b1b42-c470-4696-a06b-9e98c0d40429/conda-forge/noarch/croniter-0.3.36-pyhd8ed1ab_0.tar.bz2',                     local_source='/Users/jacquelinegarrahan/sandbox/lume-services/local-conda-channel/noarch/croniter-0.3.36-pyhd8ed1ab_0.tar.bz2'                     version='0.3.36'                 ), Dependencies(                     id=122,                     name='marshmallow',                     source='https://conda.anaconda.org/t/jr-ac5b1b42-c470-4696-a06b-9e98c0d40429/conda-forge/noarch/marshmallow-3.17.1-pyhd8ed1ab_0.tar.bz2',                     local_source='/Users/jacquelinegarrahan/sandbox/lume-services/local-conda-channel/noarch/marshmallow-3.17.1-pyhd8ed1ab_0.tar.bz2'                     version='3.17.1'                 ), Dependencies(                     id=123,                     name='marshmallow-oneofschema',                     source='https://conda.anaconda.org/t/jr-ac5b1b42-c470-4696-a06b-9e98c0d40429/conda-forge/noarch/marshmallow-oneofschema-3.0.1-pyhd8ed1ab_0.tar.bz2',                     local_source='/Users/jacquelinegarrahan/sandbox/lume-services/local-conda-channel/noarch/marshmallow-oneofschema-3.0.1-pyhd8ed1ab_0.tar.bz2'                     version='3.0.1'                 ), Dependencies(                     id=124,                     name='python_abi',                     source='https://conda.anaconda.org/t/jr-ac5b1b42-c470-4696-a06b-9e98c0d40429/conda-forge/linux-64/python_abi-3.9-2_cp39.tar.bz2',                     local_source='/Users/jacquelinegarrahan/sandbox/lume-services/local-conda-channel/linux-64/python_abi-3.9-2_cp39.tar.bz2'                     version='3.9'                 ), Dependencies(                     id=125,                     name='unicodedata2',                     source='https://conda.anaconda.org/t/jr-ac5b1b42-c470-4696-a06b-9e98c0d40429/conda-forge/linux-64/unicodedata2-14.0.0-py39hb9d737c_1.tar.bz2',                     local_source='/Users/jacquelinegarrahan/sandbox/lume-services/local-conda-channel/linux-64/unicodedata2-14.0.0-py39hb9d737c_1.tar.bz2'                     version='14.0.0'                 ), Dependencies(                     id=126,                     name='pillow',                     source='https://conda.anaconda.org/t/jr-ac5b1b42-c470-4696-a06b-9e98c0d40429/conda-forge/linux-64/pillow-9.2.0-py39hd5dbb17_2.tar.bz2',                     local_source='/Users/jacquelinegarrahan/sandbox/lume-services/local-conda-channel/linux-64/pillow-9.2.0-py39hd5dbb17_2.tar.bz2'                     version='9.2.0'                 ), Dependencies(                     id=127,                     name='kiwisolver',                     source='https://conda.anaconda.org/t/jr-ac5b1b42-c470-4696-a06b-9e98c0d40429/conda-forge/linux-64/kiwisolver-1.4.4-py39hf939315_0.tar.bz2',                     local_source='/Users/jacquelinegarrahan/sandbox/lume-services/local-conda-channel/linux-64/kiwisolver-1.4.4-py39hf939315_0.tar.bz2'                     version='1.4.4'                 ), Dependencies(                     id=128,                     name='ruamel.yaml.clib',                     source='https://conda.anaconda.org/t/jr-ac5b1b42-c470-4696-a06b-9e98c0d40429/conda-forge/linux-64/ruamel.yaml.clib-0.2.6-py39hb9d737c_1.tar.bz2',                     local_source='/Users/jacquelinegarrahan/sandbox/lume-services/local-conda-channel/linux-64/ruamel.yaml.clib-0.2.6-py39hb9d737c_1.tar.bz2'                     version='0.2.6'                 ), Dependencies(                     id=129,                     name='markupsafe',                     source='https://conda.anaconda.org/t/jr-ac5b1b42-c470-4696-a06b-9e98c0d40429/conda-forge/linux-64/markupsafe-2.1.1-py39hb9d737c_1.tar.bz2',                     local_source='/Users/jacquelinegarrahan/sandbox/lume-services/local-conda-channel/linux-64/markupsafe-2.1.1-py39hb9d737c_1.tar.bz2'                     version='2.1.1'                 ), Dependencies(                     id=130,                     name='pysocks',                     source='https://conda.anaconda.org/t/jr-ac5b1b42-c470-4696-a06b-9e98c0d40429/conda-forge/linux-64/pysocks-1.7.1-py39hf3d152e_5.tar.bz2',                     local_source='/Users/jacquelinegarrahan/sandbox/lume-services/local-conda-channel/linux-64/pysocks-1.7.1-py39hf3d152e_5.tar.bz2'                     version='1.7.1'                 ), Dependencies(                     id=131,                     name='ruamel_yaml',                     source='https://conda.anaconda.org/t/jr-ac5b1b42-c470-4696-a06b-9e98c0d40429/conda-forge/linux-64/ruamel_yaml-0.15.80-py39hb9d737c_1007.tar.bz2',                     local_source='/Users/jacquelinegarrahan/sandbox/lume-services/local-conda-channel/linux-64/ruamel_yaml-0.15.80-py39hb9d737c_1007.tar.bz2'                     version='0.15.80'                 ), Dependencies(                     id=132,                     name='pycosat',                     source='https://conda.anaconda.org/t/jr-ac5b1b42-c470-4696-a06b-9e98c0d40429/conda-forge/linux-64/pycosat-0.6.3-py39hb9d737c_1010.tar.bz2',                     local_source='/Users/jacquelinegarrahan/sandbox/lume-services/local-conda-channel/linux-64/pycosat-0.6.3-py39hb9d737c_1010.tar.bz2'                     version='0.6.3'                 ), Dependencies(                     id=133,                     name='python-libarchive-c',                     source='https://conda.anaconda.org/t/jr-ac5b1b42-c470-4696-a06b-9e98c0d40429/conda-forge/linux-64/python-libarchive-c-4.0-py39hf3d152e_1.tar.bz2',                     local_source='/Users/jacquelinegarrahan/sandbox/lume-services/local-conda-channel/linux-64/python-libarchive-c-4.0-py39hf3d152e_1.tar.bz2'                     version='4.0'                 ), Dependencies(                     id=134,                     name='py-lief',                     source='https://conda.anaconda.org/t/jr-ac5b1b42-c470-4696-a06b-9e98c0d40429/conda-forge/linux-64/py-lief-0.12.1-py39h5a03fae_0.tar.bz2',                     local_source='/Users/jacquelinegarrahan/sandbox/lume-services/local-conda-channel/linux-64/py-lief-0.12.1-py39h5a03fae_0.tar.bz2'                     version='0.12.1'                 ), Dependencies(                     id=135,                     name='conda-package-handling',                     source='https://conda.anaconda.org/t/jr-ac5b1b42-c470-4696-a06b-9e98c0d40429/conda-forge/linux-64/conda-package-handling-1.8.1-py39hb9d737c_1.tar.bz2',                     local_source='/Users/jacquelinegarrahan/sandbox/lume-services/local-conda-channel/linux-64/conda-package-handling-1.8.1-py39hb9d737c_1.tar.bz2'                     version='1.8.1'                 ), Dependencies(                     id=136,                     name='chardet',                     source='https://conda.anaconda.org/t/jr-ac5b1b42-c470-4696-a06b-9e98c0d40429/conda-forge/linux-64/chardet-5.0.0-py39hf3d152e_0.tar.bz2',                     local_source='/Users/jacquelinegarrahan/sandbox/lume-services/local-conda-channel/linux-64/chardet-5.0.0-py39hf3d152e_0.tar.bz2'                     version='5.0.0'                 ), Dependencies(                     id=137,                     name='cffi',                     source='https://conda.anaconda.org/t/jr-ac5b1b42-c470-4696-a06b-9e98c0d40429/conda-forge/linux-64/cffi-1.15.1-py39he91dace_0.tar.bz2',                     local_source='/Users/jacquelinegarrahan/sandbox/lume-services/local-conda-channel/linux-64/cffi-1.15.1-py39he91dace_0.tar.bz2'                     version='1.15.1'                 ), Dependencies(                     id=138,                     name='greenlet',                     source='https://conda.anaconda.org/t/jr-ac5b1b42-c470-4696-a06b-9e98c0d40429/conda-forge/linux-64/greenlet-1.1.3-py39h5a03fae_0.tar.bz2',                     local_source='/Users/jacquelinegarrahan/sandbox/lume-services/local-conda-channel/linux-64/greenlet-1.1.3-py39h5a03fae_0.tar.bz2'                     version='1.1.3'                 ), Dependencies(                     id=139,                     name='tornado',                     source='https://conda.anaconda.org/t/jr-ac5b1b42-c470-4696-a06b-9e98c0d40429/conda-forge/linux-64/tornado-6.1-py39hb9d737c_3.tar.bz2',                     local_source='/Users/jacquelinegarrahan/sandbox/lume-services/local-conda-channel/linux-64/tornado-6.1-py39hb9d737c_3.tar.bz2'                     version='6.1'                 ), Dependencies(                     id=140,                     name='psutil',                     source='https://conda.anaconda.org/t/jr-ac5b1b42-c470-4696-a06b-9e98c0d40429/conda-forge/linux-64/psutil-5.9.2-py39hb9d737c_0.tar.bz2',                     local_source='/Users/jacquelinegarrahan/sandbox/lume-services/local-conda-channel/linux-64/psutil-5.9.2-py39hb9d737c_0.tar.bz2'                     version='5.9.2'                 ), Dependencies(                     id=141,                     name='msgpack-python',                     source='https://conda.anaconda.org/t/jr-ac5b1b42-c470-4696-a06b-9e98c0d40429/conda-forge/linux-64/msgpack-python-1.0.4-py39hf939315_0.tar.bz2',                     local_source='/Users/jacquelinegarrahan/sandbox/lume-services/local-conda-channel/linux-64/msgpack-python-1.0.4-py39hf939315_0.tar.bz2'                     version='1.0.4'                 ), Dependencies(                     id=142,                     name='cytoolz',                     source='https://conda.anaconda.org/t/jr-ac5b1b42-c470-4696-a06b-9e98c0d40429/conda-forge/linux-64/cytoolz-0.12.0-py39hb9d737c_0.tar.bz2',                     local_source='/Users/jacquelinegarrahan/sandbox/lume-services/local-conda-channel/linux-64/cytoolz-0.12.0-py39hb9d737c_0.tar.bz2'                     version='0.12.0'                 ), Dependencies(                     id=143,                     name='pendulum',                     source='https://conda.anaconda.org/t/jr-ac5b1b42-c470-4696-a06b-9e98c0d40429/conda-forge/linux-64/pendulum-2.1.2-py39hb9d737c_4.tar.bz2',                     local_source='/Users/jacquelinegarrahan/sandbox/lume-services/local-conda-channel/linux-64/pendulum-2.1.2-py39hb9d737c_4.tar.bz2'                     version='2.1.2'                 ), Dependencies(                     id=144,                     name='mypy_extensions',                     source='https://conda.anaconda.org/t/jr-ac5b1b42-c470-4696-a06b-9e98c0d40429/conda-forge/linux-64/mypy_extensions-0.4.3-py39hf3d152e_5.tar.bz2',                     local_source='/Users/jacquelinegarrahan/sandbox/lume-services/local-conda-channel/linux-64/mypy_extensions-0.4.3-py39hf3d152e_5.tar.bz2'                     version='0.4.3'                 ), Dependencies(                     id=145,                     name='pymongo',                     source='https://conda.anaconda.org/t/jr-ac5b1b42-c470-4696-a06b-9e98c0d40429/conda-forge/linux-64/pymongo-4.2.0-py39h5a03fae_1.tar.bz2',                     local_source='/Users/jacquelinegarrahan/sandbox/lume-services/local-conda-channel/linux-64/pymongo-4.2.0-py39h5a03fae_1.tar.bz2'                     version='4.2.0'                 ), Dependencies(                     id=146,                     name='libmambapy',                     source='https://conda.anaconda.org/t/jr-ac5b1b42-c470-4696-a06b-9e98c0d40429/conda-forge/linux-64/libmambapy-0.25.0-py39hd55135b_2.tar.bz2',                     local_source='/Users/jacquelinegarrahan/sandbox/lume-services/local-conda-channel/linux-64/libmambapy-0.25.0-py39hd55135b_2.tar.bz2'                     version='0.25.0'                 ), Dependencies(                     id=147,                     name='dependency_injector',                     source='https://conda.anaconda.org/t/jr-ac5b1b42-c470-4696-a06b-9e98c0d40429/conda-forge/linux-64/dependency_injector-4.40.0-py39hb9d737c_0.tar.bz2',                     local_source='/Users/jacquelinegarrahan/sandbox/lume-services/local-conda-channel/linux-64/dependency_injector-4.40.0-py39hb9d737c_0.tar.bz2'                     version='4.40.0'                 ), Dependencies(                     id=148,                     name='numpy',                     source='https://conda.anaconda.org/t/jr-ac5b1b42-c470-4696-a06b-9e98c0d40429/conda-forge/linux-64/numpy-1.23.2-py39hba7629e_0.tar.bz2',                     local_source='/Users/jacquelinegarrahan/sandbox/lume-services/local-conda-channel/linux-64/numpy-1.23.2-py39hba7629e_0.tar.bz2'                     version='1.23.2'                 ), Dependencies(                     id=149,                     name='click',                     source='https://conda.anaconda.org/t/jr-ac5b1b42-c470-4696-a06b-9e98c0d40429/conda-forge/linux-64/click-8.1.3-py39hf3d152e_0.tar.bz2',                     local_source='/Users/jacquelinegarrahan/sandbox/lume-services/local-conda-channel/linux-64/click-8.1.3-py39hf3d152e_0.tar.bz2'                     version='8.1.3'                 ), Dependencies(                     id=150,                     name='pyyaml',                     source='https://conda.anaconda.org/t/jr-ac5b1b42-c470-4696-a06b-9e98c0d40429/conda-forge/linux-64/pyyaml-6.0-py39hb9d737c_4.tar.bz2',                     local_source='/Users/jacquelinegarrahan/sandbox/lume-services/local-conda-channel/linux-64/pyyaml-6.0-py39hb9d737c_4.tar.bz2'                     version='6.0'                 ), Dependencies(                     id=151,                     name='pydantic',                     source='https://conda.anaconda.org/t/jr-ac5b1b42-c470-4696-a06b-9e98c0d40429/conda-forge/linux-64/pydantic-1.10.2-py39hb9d737c_0.tar.bz2',                     local_source='/Users/jacquelinegarrahan/sandbox/lume-services/local-conda-channel/linux-64/pydantic-1.10.2-py39hb9d737c_0.tar.bz2'                     version='1.10.2'                 ), Dependencies(                     id=152,                     name='fonttools',                     source='https://conda.anaconda.org/t/jr-ac5b1b42-c470-4696-a06b-9e98c0d40429/conda-forge/linux-64/fonttools-4.37.1-py39hb9d737c_0.tar.bz2',                     local_source='/Users/jacquelinegarrahan/sandbox/lume-services/local-conda-channel/linux-64/fonttools-4.37.1-py39hb9d737c_0.tar.bz2'                     version='4.37.1'                 ), Dependencies(                     id=153,                     name='ruamel.yaml',                     source='https://conda.anaconda.org/t/jr-ac5b1b42-c470-4696-a06b-9e98c0d40429/conda-forge/linux-64/ruamel.yaml-0.17.21-py39hb9d737c_1.tar.bz2',                     local_source='/Users/jacquelinegarrahan/sandbox/lume-services/local-conda-channel/linux-64/ruamel.yaml-0.17.21-py39hb9d737c_1.tar.bz2'                     version='0.17.21'                 ), Dependencies(                     id=154,                     name='brotlipy',                     source='https://conda.anaconda.org/t/jr-ac5b1b42-c470-4696-a06b-9e98c0d40429/conda-forge/linux-64/brotlipy-0.7.0-py39hb9d737c_1004.tar.bz2',                     local_source='/Users/jacquelinegarrahan/sandbox/lume-services/local-conda-channel/linux-64/brotlipy-0.7.0-py39hb9d737c_1004.tar.bz2'                     version='0.7.0'                 ), Dependencies(                     id=155,                     name='cryptography',                     source='https://conda.anaconda.org/t/jr-ac5b1b42-c470-4696-a06b-9e98c0d40429/conda-forge/linux-64/cryptography-37.0.4-py39hd97740a_0.tar.bz2',                     local_source='/Users/jacquelinegarrahan/sandbox/lume-services/local-conda-channel/linux-64/cryptography-37.0.4-py39hd97740a_0.tar.bz2'                     version='37.0.4'                 ), Dependencies(                     id=156,                     name='sqlalchemy',                     source='https://conda.anaconda.org/t/jr-ac5b1b42-c470-4696-a06b-9e98c0d40429/conda-forge/linux-64/sqlalchemy-1.4.41-py39hb9d737c_0.tar.bz2',                     local_source='/Users/jacquelinegarrahan/sandbox/lume-services/local-conda-channel/linux-64/sqlalchemy-1.4.41-py39hb9d737c_0.tar.bz2'                     version='1.4.41'                 ), Dependencies(                     id=157,                     name='scipy',                     source='https://conda.anaconda.org/t/jr-ac5b1b42-c470-4696-a06b-9e98c0d40429/conda-forge/linux-64/scipy-1.9.1-py39h8ba3f38_0.tar.bz2',                     local_source='/Users/jacquelinegarrahan/sandbox/lume-services/local-conda-channel/linux-64/scipy-1.9.1-py39h8ba3f38_0.tar.bz2'                     version='1.9.1'                 ), Dependencies(                     id=158,                     name='h5py',                     source='https://conda.anaconda.org/t/jr-ac5b1b42-c470-4696-a06b-9e98c0d40429/conda-forge/linux-64/h5py-3.7.0-nompi_py39hd51670d_101.tar.bz2',                     local_source='/Users/jacquelinegarrahan/sandbox/lume-services/local-conda-channel/linux-64/h5py-3.7.0-nompi_py39hd51670d_101.tar.bz2'                     version='3.7.0'                 ), Dependencies(                     id=159,                     name='pandas',                     source='https://conda.anaconda.org/t/jr-ac5b1b42-c470-4696-a06b-9e98c0d40429/conda-forge/linux-64/pandas-1.4.4-py39h1832856_0.tar.bz2',                     local_source='/Users/jacquelinegarrahan/sandbox/lume-services/local-conda-channel/linux-64/pandas-1.4.4-py39h1832856_0.tar.bz2'                     version='1.4.4'                 ), Dependencies(                     id=160,                     name='matplotlib-base',                     source='https://conda.anaconda.org/t/jr-ac5b1b42-c470-4696-a06b-9e98c0d40429/conda-forge/linux-64/matplotlib-base-3.5.3-py39h19d6b11_2.tar.bz2',                     local_source='/Users/jacquelinegarrahan/sandbox/lume-services/local-conda-channel/linux-64/matplotlib-base-3.5.3-py39h19d6b11_2.tar.bz2'                     version='3.5.3'                 ), Dependencies(                     id=161,                     name='python-box',                     source='https://conda.anaconda.org/t/jr-ac5b1b42-c470-4696-a06b-9e98c0d40429/conda-forge/linux-64/python-box-6.0.2-py39hb9d737c_3.tar.bz2',                     local_source='/Users/jacquelinegarrahan/sandbox/lume-services/local-conda-channel/linux-64/python-box-6.0.2-py39hb9d737c_3.tar.bz2'                     version='6.0.2'                 ), Dependencies(                     id=162,                     name='jinja2',                     source='https://conda.anaconda.org/t/jr-ac5b1b42-c470-4696-a06b-9e98c0d40429/conda-forge/noarch/jinja2-3.1.2-pyhd8ed1ab_1.tar.bz2',                     local_source='/Users/jacquelinegarrahan/sandbox/lume-services/local-conda-channel/noarch/jinja2-3.1.2-pyhd8ed1ab_1.tar.bz2'                     version='3.1.2'                 ), Dependencies(                     id=163,                     name='dask-core',                     source='https://conda.anaconda.org/t/jr-ac5b1b42-c470-4696-a06b-9e98c0d40429/conda-forge/noarch/dask-core-2022.9.0-pyhd8ed1ab_0.tar.bz2',                     local_source='/Users/jacquelinegarrahan/sandbox/lume-services/local-conda-channel/noarch/dask-core-2022.9.0-pyhd8ed1ab_0.tar.bz2'                     version='2022.9.0'                 ), Dependencies(                     id=164,                     name='lume-model',                     source='https://conda.anaconda.org/t/jr-ac5b1b42-c470-4696-a06b-9e98c0d40429/conda-forge/noarch/lume-model-1.4-pyhd8ed1ab_1.tar.bz2',                     local_source='/Users/jacquelinegarrahan/sandbox/lume-services/local-conda-channel/noarch/lume-model-1.4-pyhd8ed1ab_1.tar.bz2'                     version='1.4'                 ), Dependencies(                     id=165,                     name='pyopenssl',                     source='https://conda.anaconda.org/t/jr-ac5b1b42-c470-4696-a06b-9e98c0d40429/conda-forge/noarch/pyopenssl-22.0.0-pyhd8ed1ab_0.tar.bz2',                     local_source='/Users/jacquelinegarrahan/sandbox/lume-services/local-conda-channel/noarch/pyopenssl-22.0.0-pyhd8ed1ab_0.tar.bz2'                     version='22.0.0'                 ), Dependencies(                     id=166,                     name='openpmd-beamphysics',                     source='https://conda.anaconda.org/t/jr-ac5b1b42-c470-4696-a06b-9e98c0d40429/conda-forge/noarch/openpmd-beamphysics-0.7.1-pyhd8ed1ab_0.tar.bz2',                     local_source='/Users/jacquelinegarrahan/sandbox/lume-services/local-conda-channel/noarch/openpmd-beamphysics-0.7.1-pyhd8ed1ab_0.tar.bz2'                     version='0.7.1'                 ), Dependencies(                     id=167,                     name='urllib3',                     source='https://conda.anaconda.org/t/jr-ac5b1b42-c470-4696-a06b-9e98c0d40429/conda-forge/noarch/urllib3-1.26.11-pyhd8ed1ab_0.tar.bz2',                     local_source='/Users/jacquelinegarrahan/sandbox/lume-services/local-conda-channel/noarch/urllib3-1.26.11-pyhd8ed1ab_0.tar.bz2'                     version='1.26.11'                 ), Dependencies(                     id=168,                     name='lume-base',                     source='https://conda.anaconda.org/t/jr-ac5b1b42-c470-4696-a06b-9e98c0d40429/conda-forge/noarch/lume-base-0.2.3-pyhd8ed1ab_0.tar.bz2',                     local_source='/Users/jacquelinegarrahan/sandbox/lume-services/local-conda-channel/noarch/lume-base-0.2.3-pyhd8ed1ab_0.tar.bz2'                     version='0.2.3'                 ), Dependencies(                     id=169,                     name='requests',                     source='https://conda.anaconda.org/t/jr-ac5b1b42-c470-4696-a06b-9e98c0d40429/conda-forge/noarch/requests-2.28.1-pyhd8ed1ab_1.tar.bz2',                     local_source='/Users/jacquelinegarrahan/sandbox/lume-services/local-conda-channel/noarch/requests-2.28.1-pyhd8ed1ab_1.tar.bz2'                     version='2.28.1'                 ), Dependencies(                     id=170,                     name='distributed',                     source='https://conda.anaconda.org/t/jr-ac5b1b42-c470-4696-a06b-9e98c0d40429/conda-forge/noarch/distributed-2022.9.0-pyhd8ed1ab_0.tar.bz2',                     local_source='/Users/jacquelinegarrahan/sandbox/lume-services/local-conda-channel/noarch/distributed-2022.9.0-pyhd8ed1ab_0.tar.bz2'                     version='2022.9.0'                 ), Dependencies(                     id=171,                     name='conda',                     source='https://conda.anaconda.org/t/jr-ac5b1b42-c470-4696-a06b-9e98c0d40429/conda-forge/linux-64/conda-4.14.0-py39hf3d152e_0.tar.bz2',                     local_source='/Users/jacquelinegarrahan/sandbox/lume-services/local-conda-channel/linux-64/conda-4.14.0-py39hf3d152e_0.tar.bz2'                     version='4.14.0'                 ), Dependencies(                     id=172,                     name='docker-py',                     source='https://conda.anaconda.org/t/jr-ac5b1b42-c470-4696-a06b-9e98c0d40429/conda-forge/linux-64/docker-py-5.0.3-py39hf3d152e_2.tar.bz2',                     local_source='/Users/jacquelinegarrahan/sandbox/lume-services/local-conda-channel/linux-64/docker-py-5.0.3-py39hf3d152e_2.tar.bz2'                     version='5.0.3'                 ), Dependencies(                     id=173,                     name='conda-build',                     source='https://conda.anaconda.org/t/jr-ac5b1b42-c470-4696-a06b-9e98c0d40429/conda-forge/linux-64/conda-build-3.22.0-py39hf3d152e_2.tar.bz2',                     local_source='/Users/jacquelinegarrahan/sandbox/lume-services/local-conda-channel/linux-64/conda-build-3.22.0-py39hf3d152e_2.tar.bz2'                     version='3.22.0'                 ), Dependencies(                     id=174,                     name='mamba',                     source='https://conda.anaconda.org/t/jr-ac5b1b42-c470-4696-a06b-9e98c0d40429/conda-forge/linux-64/mamba-0.25.0-py39hfa8f2c8_2.tar.bz2',                     local_source='/Users/jacquelinegarrahan/sandbox/lume-services/local-conda-channel/linux-64/mamba-0.25.0-py39hfa8f2c8_2.tar.bz2'                     version='0.25.0'                 ), Dependencies(                     id=175,                     name='prefect',                     source='https://conda.anaconda.org/t/jr-ac5b1b42-c470-4696-a06b-9e98c0d40429/conda-forge/noarch/prefect-1.3.1-pyhd8ed1ab_0.tar.bz2',                     local_source='/Users/jacquelinegarrahan/sandbox/lume-services/local-conda-channel/noarch/prefect-1.3.1-pyhd8ed1ab_0.tar.bz2'                     version='1.3.1'                 )], flow=Flow(name='my-model', flow_id=None, project_name='test', prefect_flow=<Flow: name=\"my-model\">, parameters=None, mapped_parameters=None, task_slugs=None, labels=['lume-services'], image='jgarrahan/lume-services-prefect:latest'), model_type=<class 'my_model.model.MyModel'>)"
      ]
     },
     "execution_count": 12,
     "metadata": {},
     "output_type": "execute_result"
    }
   ],
   "source": [
    "model_db_service.get_flow(deployment_id=)"
   ]
  },
  {
   "cell_type": "markdown",
   "id": "2b332e0d",
   "metadata": {},
   "source": [
    "## Run the workflow inside the service cluster\n",
    "We can use the model interface to directly deploy workflows. When sourcing our environment (`docs/examples/demo.env`), we defined a mount point for the file system using the alias `/lume-services/data`. Let's kick off this workflow and save the file output to that directory: "
   ]
  },
  {
   "cell_type": "code",
   "execution_count": 10,
   "id": "90a5769f",
   "metadata": {},
   "outputs": [
    {
     "name": "stderr",
     "output_type": "stream",
     "text": [
      "INFO:lume_services.services.scheduling.backends.server:Creating Prefect flow run for None with parameters {'input1': 'hey', 'input2': 'jackie', 'filename': '/lume-services/data/test_file.txt', 'filesystem_identifier': 'mounted'} and run_config {\"labels\": [\"lume-services\"], \"env\": {\"EXTRA_CONDA_PACKAGES\": \"_libgcc_mutex libstdcxx-ng ld_impl_linux-64 ca-certificates libgfortran5 libgomp libgfortran-ng _openmp_mutex libgcc-ng lzo xorg-libxdmcp xorg-libxau pthread-stubs libuuid libdeflate lerc jpeg libbrotlicommon libev c-ares libwebp-base ripgrep liblief patchelf patch lz4-c icu libopenblas reproc libiconv keyutils yaml-cpp xz openssl ncurses libzlib libffi bzip2 yaml libnsl libxcb libbrotlienc libbrotlidec libblas reproc-cpp libedit readline zstd libpng libxml2 libssh2 libnghttp2 tk libsqlite libsolv brotli-bin libcblas liblapack krb5 libtiff freetype libarchive sqlite brotli libcurl openjpeg lcms2 hdf5 libmamba tzdata pybind11-abi python wheel setuptools pip munkres cycler soupsieve cached_property unidecode text-unidecode charset-normalizer colorama certifi heapdict glob2 pkginfo filelock appdirs websocket-client six pycparser idna asn1crypto pytzdata typing_extensions natsort fsspec tblib locket toolz sortedcontainers zipp pyparsing toml tabulate pytz cloudpickle pymysql beautifulsoup4 cached-property python-slugify tqdm zict docker-pycreds python-dateutil typing-extensions partd importlib_resources packaging croniter marshmallow marshmallow-oneofschema python_abi unicodedata2 pillow kiwisolver ruamel.yaml.clib markupsafe pysocks ruamel_yaml pycosat python-libarchive-c py-lief conda-package-handling chardet cffi greenlet tornado psutil msgpack-python cytoolz pendulum mypy_extensions pymongo libmambapy dependency_injector numpy click pyyaml pydantic fonttools ruamel.yaml brotlipy cryptography sqlalchemy scipy h5py pandas matplotlib-base python-box jinja2 dask-core lume-model pyopenssl openpmd-beamphysics urllib3 lume-base requests distributed conda docker-py conda-build mamba prefect\", \"EXTRA_PIP_PACKAGES\": \"\", \"LOCAL_CHANNEL_ONLY\": false}, \"image\": \"jgarrahan/lume-services-prefect:latest\", \"host_config\": null, \"ports\": null}\n"
     ]
    },
    {
     "ename": "ValueError",
     "evalue": "One of flow_id or version_group_id must be provided",
     "output_type": "error",
     "traceback": [
      "\u001b[0;31m---------------------------------------------------------------------------\u001b[0m",
      "\u001b[0;31mValueError\u001b[0m                                Traceback (most recent call last)",
      "Cell \u001b[0;32mIn [10], line 1\u001b[0m\n\u001b[0;32m----> 1\u001b[0m \u001b[43mmodel\u001b[49m\u001b[38;5;241;43m.\u001b[39;49m\u001b[43mrun_and_return\u001b[49m\u001b[43m(\u001b[49m\n\u001b[1;32m      2\u001b[0m \u001b[43m    \u001b[49m\u001b[43mparameters\u001b[49m\u001b[38;5;241;43m=\u001b[39;49m\u001b[43m{\u001b[49m\n\u001b[1;32m      3\u001b[0m \u001b[43m        \u001b[49m\u001b[38;5;124;43m\"\u001b[39;49m\u001b[38;5;124;43minput1\u001b[39;49m\u001b[38;5;124;43m\"\u001b[39;49m\u001b[43m:\u001b[49m\u001b[43m \u001b[49m\u001b[38;5;124;43m\"\u001b[39;49m\u001b[38;5;124;43mhey\u001b[39;49m\u001b[38;5;124;43m\"\u001b[39;49m\u001b[43m,\u001b[49m\u001b[43m \u001b[49m\n\u001b[1;32m      4\u001b[0m \u001b[43m        \u001b[49m\u001b[38;5;124;43m\"\u001b[39;49m\u001b[38;5;124;43minput2\u001b[39;49m\u001b[38;5;124;43m\"\u001b[39;49m\u001b[43m:\u001b[49m\u001b[43m \u001b[49m\u001b[38;5;124;43m\"\u001b[39;49m\u001b[38;5;124;43mjackie\u001b[39;49m\u001b[38;5;124;43m\"\u001b[39;49m\u001b[43m,\u001b[49m\u001b[43m \u001b[49m\n\u001b[1;32m      5\u001b[0m \u001b[43m        \u001b[49m\u001b[38;5;124;43m\"\u001b[39;49m\u001b[38;5;124;43mfilename\u001b[39;49m\u001b[38;5;124;43m\"\u001b[39;49m\u001b[43m:\u001b[49m\u001b[43m \u001b[49m\u001b[38;5;124;43m\"\u001b[39;49m\u001b[38;5;124;43m/lume-services/data/test_file.txt\u001b[39;49m\u001b[38;5;124;43m\"\u001b[39;49m\u001b[43m,\u001b[49m\u001b[43m \u001b[49m\n\u001b[1;32m      6\u001b[0m \u001b[43m        \u001b[49m\u001b[38;5;124;43m\"\u001b[39;49m\u001b[38;5;124;43mfilesystem_identifier\u001b[39;49m\u001b[38;5;124;43m\"\u001b[39;49m\u001b[43m:\u001b[49m\u001b[38;5;124;43m\"\u001b[39;49m\u001b[38;5;124;43mmounted\u001b[39;49m\u001b[38;5;124;43m\"\u001b[39;49m\u001b[43m}\u001b[49m\n\u001b[1;32m      7\u001b[0m \u001b[43m)\u001b[49m\n",
      "File \u001b[0;32msrc/dependency_injector/_cwiring.pyx:28\u001b[0m, in \u001b[0;36mdependency_injector._cwiring._get_sync_patched._patched\u001b[0;34m()\u001b[0m\n",
      "File \u001b[0;32m~/sandbox/lume-services/lume_services/models/model.py:440\u001b[0m, in \u001b[0;36mModel.run_and_return\u001b[0;34m(self, parameters, task_name, scheduling_service)\u001b[0m\n\u001b[1;32m    428\u001b[0m \u001b[38;5;66;03m# all of this should be inside the scheduling service and not here...\u001b[39;00m\n\u001b[1;32m    429\u001b[0m \n\u001b[1;32m    430\u001b[0m \u001b[38;5;66;03m# move all of scheduling service interface into  Flow and then dependencies\u001b[39;00m\n\u001b[1;32m    431\u001b[0m run_config \u001b[38;5;241m=\u001b[39m scheduling_service\u001b[38;5;241m.\u001b[39mbackend\u001b[38;5;241m.\u001b[39mrun_config_type(\n\u001b[1;32m    432\u001b[0m     env\u001b[38;5;241m=\u001b[39m{\n\u001b[1;32m    433\u001b[0m         \u001b[38;5;124m\"\u001b[39m\u001b[38;5;124mEXTRA_CONDA_PACKAGES\u001b[39m\u001b[38;5;124m\"\u001b[39m: conda_dependencies,\n\u001b[0;32m   (...)\u001b[0m\n\u001b[1;32m    437\u001b[0m     image\u001b[38;5;241m=\u001b[39mscheduling_service\u001b[38;5;241m.\u001b[39mbackend\u001b[38;5;241m.\u001b[39mconfig\u001b[38;5;241m.\u001b[39mdefault_image,\n\u001b[1;32m    438\u001b[0m )\n\u001b[0;32m--> 440\u001b[0m \u001b[38;5;28;43mself\u001b[39;49m\u001b[38;5;241;43m.\u001b[39;49m\u001b[43mdeployment\u001b[49m\u001b[38;5;241;43m.\u001b[39;49m\u001b[43mflow\u001b[49m\u001b[38;5;241;43m.\u001b[39;49m\u001b[43mrun_and_return\u001b[49m\u001b[43m(\u001b[49m\n\u001b[1;32m    441\u001b[0m \u001b[43m    \u001b[49m\u001b[43mparameters\u001b[49m\u001b[43m,\u001b[49m\n\u001b[1;32m    442\u001b[0m \u001b[43m    \u001b[49m\u001b[43mrun_config\u001b[49m\u001b[38;5;241;43m=\u001b[39;49m\u001b[43mrun_config\u001b[49m\u001b[43m,\u001b[49m\n\u001b[1;32m    443\u001b[0m \u001b[43m    \u001b[49m\u001b[43mtask_name\u001b[49m\u001b[38;5;241;43m=\u001b[39;49m\u001b[43mtask_name\u001b[49m\u001b[43m,\u001b[49m\n\u001b[1;32m    444\u001b[0m \u001b[43m    \u001b[49m\u001b[43mscheduling_service\u001b[49m\u001b[38;5;241;43m=\u001b[39;49m\u001b[43mscheduling_service\u001b[49m\u001b[43m,\u001b[49m\n\u001b[1;32m    445\u001b[0m \u001b[43m\u001b[49m\u001b[43m)\u001b[49m\n",
      "File \u001b[0;32msrc/dependency_injector/_cwiring.pyx:28\u001b[0m, in \u001b[0;36mdependency_injector._cwiring._get_sync_patched._patched\u001b[0;34m()\u001b[0m\n",
      "File \u001b[0;32m~/sandbox/lume-services/lume_services/flows/flow.py:254\u001b[0m, in \u001b[0;36mFlow.run_and_return\u001b[0;34m(self, parameters, run_config, task_name, scheduling_service)\u001b[0m\n\u001b[1;32m    246\u001b[0m     scheduling_service\u001b[38;5;241m.\u001b[39mrun_and_return(\n\u001b[1;32m    247\u001b[0m         parameters\u001b[38;5;241m=\u001b[39mparameters,\n\u001b[1;32m    248\u001b[0m         run_config\u001b[38;5;241m=\u001b[39mrun_config,\n\u001b[1;32m    249\u001b[0m         flow\u001b[38;5;241m=\u001b[39m\u001b[38;5;28mself\u001b[39m\u001b[38;5;241m.\u001b[39mprefect_flow,\n\u001b[1;32m    250\u001b[0m         task_name\u001b[38;5;241m=\u001b[39mtask_name,\n\u001b[1;32m    251\u001b[0m     )\n\u001b[1;32m    253\u001b[0m \u001b[38;5;28;01melif\u001b[39;00m \u001b[38;5;28misinstance\u001b[39m(scheduling_service\u001b[38;5;241m.\u001b[39mbackend, (ServerBackend,)):\n\u001b[0;32m--> 254\u001b[0m     \u001b[43mscheduling_service\u001b[49m\u001b[38;5;241;43m.\u001b[39;49m\u001b[43mrun_and_return\u001b[49m\u001b[43m(\u001b[49m\n\u001b[1;32m    255\u001b[0m \u001b[43m        \u001b[49m\u001b[43mparameters\u001b[49m\u001b[38;5;241;43m=\u001b[39;49m\u001b[43mparameters\u001b[49m\u001b[43m,\u001b[49m\n\u001b[1;32m    256\u001b[0m \u001b[43m        \u001b[49m\u001b[43mrun_config\u001b[49m\u001b[38;5;241;43m=\u001b[39;49m\u001b[43mrun_config\u001b[49m\u001b[43m,\u001b[49m\n\u001b[1;32m    257\u001b[0m \u001b[43m        \u001b[49m\u001b[43mflow_id\u001b[49m\u001b[38;5;241;43m=\u001b[39;49m\u001b[38;5;28;43mself\u001b[39;49m\u001b[38;5;241;43m.\u001b[39;49m\u001b[43mflow_id\u001b[49m\u001b[43m,\u001b[49m\n\u001b[1;32m    258\u001b[0m \u001b[43m        \u001b[49m\u001b[43mtask_name\u001b[49m\u001b[38;5;241;43m=\u001b[39;49m\u001b[43mtask_name\u001b[49m\u001b[43m,\u001b[49m\n\u001b[1;32m    259\u001b[0m \u001b[43m    \u001b[49m\u001b[43m)\u001b[49m\n",
      "File \u001b[0;32m~/sandbox/lume-services/lume_services/services/scheduling/service.py:152\u001b[0m, in \u001b[0;36mSchedulingService.run_and_return\u001b[0;34m(self, parameters, run_config, task_name, **kwargs)\u001b[0m\n\u001b[1;32m    117\u001b[0m \u001b[38;5;28;01mdef\u001b[39;00m \u001b[38;5;21mrun_and_return\u001b[39m(\n\u001b[1;32m    118\u001b[0m     \u001b[38;5;28mself\u001b[39m,\n\u001b[1;32m    119\u001b[0m     parameters: Optional[Dict[\u001b[38;5;28mstr\u001b[39m, Any]],\n\u001b[0;32m   (...)\u001b[0m\n\u001b[1;32m    122\u001b[0m     \u001b[38;5;241m*\u001b[39m\u001b[38;5;241m*\u001b[39mkwargs\n\u001b[1;32m    123\u001b[0m ) \u001b[38;5;241m-\u001b[39m\u001b[38;5;241m>\u001b[39m Any:\n\u001b[1;32m    124\u001b[0m     \u001b[38;5;124;03m\"\"\"Run a flow and return result. Implementations should cover instantiation of\u001b[39;00m\n\u001b[1;32m    125\u001b[0m \u001b[38;5;124;03m    run_config from kwargs as well as backend-specific kwargs.\u001b[39;00m\n\u001b[1;32m    126\u001b[0m \n\u001b[0;32m   (...)\u001b[0m\n\u001b[1;32m    150\u001b[0m \n\u001b[1;32m    151\u001b[0m \u001b[38;5;124;03m    \"\"\"\u001b[39;00m\n\u001b[0;32m--> 152\u001b[0m     \u001b[38;5;28;01mreturn\u001b[39;00m \u001b[38;5;28;43mself\u001b[39;49m\u001b[38;5;241;43m.\u001b[39;49m\u001b[43mbackend\u001b[49m\u001b[38;5;241;43m.\u001b[39;49m\u001b[43mrun_and_return\u001b[49m\u001b[43m(\u001b[49m\u001b[43mparameters\u001b[49m\u001b[43m,\u001b[49m\u001b[43m \u001b[49m\u001b[43mrun_config\u001b[49m\u001b[43m,\u001b[49m\u001b[43m \u001b[49m\u001b[43mtask_name\u001b[49m\u001b[43m,\u001b[49m\u001b[43m \u001b[49m\u001b[38;5;241;43m*\u001b[39;49m\u001b[38;5;241;43m*\u001b[39;49m\u001b[43mkwargs\u001b[49m\u001b[43m)\u001b[49m\n",
      "File \u001b[0;32m~/sandbox/lume-services/lume_services/services/scheduling/backends/server.py:324\u001b[0m, in \u001b[0;36mServerBackend.run_and_return\u001b[0;34m(self, parameters, run_config, task_name, flow_id, timeout, cancel_on_timeout, **kwargs)\u001b[0m\n\u001b[1;32m    321\u001b[0m \u001b[38;5;28;01mwith\u001b[39;00m prefect\u001b[38;5;241m.\u001b[39mcontext(config\u001b[38;5;241m=\u001b[39m\u001b[38;5;28mself\u001b[39m\u001b[38;5;241m.\u001b[39mconfig\u001b[38;5;241m.\u001b[39mapply()):\n\u001b[1;32m    322\u001b[0m     client \u001b[38;5;241m=\u001b[39m Client()\n\u001b[0;32m--> 324\u001b[0m     flow_run_id \u001b[38;5;241m=\u001b[39m \u001b[43mclient\u001b[49m\u001b[38;5;241;43m.\u001b[39;49m\u001b[43mcreate_flow_run\u001b[49m\u001b[43m(\u001b[49m\n\u001b[1;32m    325\u001b[0m \u001b[43m        \u001b[49m\u001b[43mflow_id\u001b[49m\u001b[38;5;241;43m=\u001b[39;49m\u001b[43mflow_id\u001b[49m\u001b[43m,\u001b[49m\u001b[43m \u001b[49m\u001b[43mparameters\u001b[49m\u001b[38;5;241;43m=\u001b[39;49m\u001b[43mparameters\u001b[49m\u001b[43m,\u001b[49m\u001b[43m \u001b[49m\u001b[43mrun_config\u001b[49m\u001b[38;5;241;43m=\u001b[39;49m\u001b[43mprefect_run_config\u001b[49m\n\u001b[1;32m    326\u001b[0m \u001b[43m    \u001b[49m\u001b[43m)\u001b[49m\n\u001b[1;32m    327\u001b[0m     flow_view \u001b[38;5;241m=\u001b[39m FlowView\u001b[38;5;241m.\u001b[39mfrom_flow_id(flow_id)\n\u001b[1;32m    329\u001b[0m     \u001b[38;5;66;03m# watch flow run and stream logs until timeout\u001b[39;00m\n",
      "File \u001b[0;32m~/miniconda3/envs/lume-services-dev/lib/python3.9/site-packages/prefect/client/client.py:1184\u001b[0m, in \u001b[0;36mClient.create_flow_run\u001b[0;34m(self, flow_id, context, parameters, run_config, labels, scheduled_start_time, idempotency_key, run_name, version_group_id)\u001b[0m\n\u001b[1;32m   1178\u001b[0m create_mutation \u001b[38;5;241m=\u001b[39m {\n\u001b[1;32m   1179\u001b[0m     \u001b[38;5;124m\"\u001b[39m\u001b[38;5;124mmutation($input: create_flow_run_input!)\u001b[39m\u001b[38;5;124m\"\u001b[39m: {\n\u001b[1;32m   1180\u001b[0m         \u001b[38;5;124m\"\u001b[39m\u001b[38;5;124mcreate_flow_run(input: $input)\u001b[39m\u001b[38;5;124m\"\u001b[39m: {\u001b[38;5;124m\"\u001b[39m\u001b[38;5;124mid\u001b[39m\u001b[38;5;124m\"\u001b[39m: \u001b[38;5;28;01mTrue\u001b[39;00m}\n\u001b[1;32m   1181\u001b[0m     }\n\u001b[1;32m   1182\u001b[0m }\n\u001b[1;32m   1183\u001b[0m \u001b[38;5;28;01mif\u001b[39;00m \u001b[38;5;129;01mnot\u001b[39;00m flow_id \u001b[38;5;129;01mand\u001b[39;00m \u001b[38;5;129;01mnot\u001b[39;00m version_group_id:\n\u001b[0;32m-> 1184\u001b[0m     \u001b[38;5;28;01mraise\u001b[39;00m \u001b[38;5;167;01mValueError\u001b[39;00m(\u001b[38;5;124m\"\u001b[39m\u001b[38;5;124mOne of flow_id or version_group_id must be provided\u001b[39m\u001b[38;5;124m\"\u001b[39m)\n\u001b[1;32m   1186\u001b[0m inputs \u001b[38;5;241m=\u001b[39m {}  \u001b[38;5;66;03m# type: Dict[str, Any]\u001b[39;00m\n\u001b[1;32m   1187\u001b[0m \u001b[38;5;28;01mif\u001b[39;00m flow_id:\n",
      "\u001b[0;31mValueError\u001b[0m: One of flow_id or version_group_id must be provided"
     ]
    }
   ],
   "source": [
    "model.run_and_return(\n",
    "    parameters={\n",
    "        \"input1\": \"hey\", \n",
    "        \"input2\": \"jackie\", \n",
    "        \"filename\": \"/lume-services/data/test_file.txt\", \n",
    "        \"filesystem_identifier\":\"mounted\"}\n",
    ")"
   ]
  },
  {
   "cell_type": "code",
   "execution_count": null,
   "id": "01e7522b",
   "metadata": {},
   "outputs": [],
   "source": [
    "model.results()"
   ]
  },
  {
   "cell_type": "code",
   "execution_count": null,
   "id": "d6ef8e4e",
   "metadata": {},
   "outputs": [],
   "source": [
    "from lume_services.models import Model\n",
    "\n",
    "model = Model(model_id=1)"
   ]
  },
  {
   "cell_type": "code",
   "execution_count": null,
   "id": "f7a15668",
   "metadata": {},
   "outputs": [],
   "source": []
  },
  {
   "cell_type": "code",
   "execution_count": null,
   "id": "040bb4bd",
   "metadata": {},
   "outputs": [],
   "source": [
    "model.load_deployment()"
   ]
  },
  {
   "cell_type": "code",
   "execution_count": null,
   "id": "06ff1d79",
   "metadata": {},
   "outputs": [],
   "source": [
    "model.run_and_return(parameters={\n",
    "                        \"input1\": \"hey\", \n",
    "                        \"input2\": \"jackie\", \n",
    "                        \"filename\": f\"/Users/jgarra/sandbox/lume-services/test_file.txt\", \n",
    "                        \"filesystem_identifier\":\"local\"\n",
    "        }\n",
    ")"
   ]
  },
  {
   "cell_type": "code",
   "execution_count": null,
   "id": "6acedc51",
   "metadata": {},
   "outputs": [],
   "source": []
  },
  {
   "cell_type": "code",
   "execution_count": null,
   "id": "540085e9",
   "metadata": {},
   "outputs": [],
   "source": []
  }
 ],
 "metadata": {
  "kernelspec": {
   "display_name": "Python 3 (ipykernel)",
   "language": "python",
   "name": "python3"
  },
  "language_info": {
   "codemirror_mode": {
    "name": "ipython",
    "version": 3
   },
   "file_extension": ".py",
   "mimetype": "text/x-python",
   "name": "python",
   "nbconvert_exporter": "python",
   "pygments_lexer": "ipython3",
   "version": "3.9.13"
  }
 },
 "nbformat": 4,
 "nbformat_minor": 5
}

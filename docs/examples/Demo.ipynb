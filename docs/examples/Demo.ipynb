{
 "cells": [
  {
   "cell_type": "markdown",
   "id": "a0aeb04c",
   "metadata": {},
   "source": [
    "# LUME-services demo\n",
    "In this notebook, we will configure LUME-services to use the service configuration used to launch our docker-compose services. Make sure you've completed all steps outlined in https://slaclab.github.io/lume-services/demo/."
   ]
  },
  {
   "cell_type": "code",
   "execution_count": 1,
   "id": "3b0cfe6a",
   "metadata": {},
   "outputs": [],
   "source": [
    "import logging\n",
    "logging.basicConfig(level=logging.INFO)  # Lets check the logs"
   ]
  },
  {
   "cell_type": "markdown",
   "id": "88cb7294",
   "metadata": {},
   "source": [
    "## Configure services\n",
    "LUME-services is packages with a configuration utility that reads environment variables and initializes services:"
   ]
  },
  {
   "cell_type": "code",
   "execution_count": 2,
   "id": "3c1e88af",
   "metadata": {},
   "outputs": [
    {
     "name": "stderr",
     "output_type": "stream",
     "text": [
      "INFO:lume_services.config:Configuring LUME-services environment...\n",
      "INFO:lume_services.config:Environment configured.\n"
     ]
    }
   ],
   "source": [
    "from lume_services import config\n",
    "config.configure()"
   ]
  },
  {
   "cell_type": "markdown",
   "id": "e14910cc",
   "metadata": {},
   "source": [
    "## if you're running this many time, creation will fail because of uniqueness... You can reset since this is a dev server"
   ]
  },
  {
   "cell_type": "code",
   "execution_count": null,
   "id": "b1dae5e5",
   "metadata": {},
   "outputs": [],
   "source": [
    "#model_db_service._reset()"
   ]
  },
  {
   "cell_type": "markdown",
   "id": "0d4ba844",
   "metadata": {},
   "source": [
    "## Create a model\n",
    "The LUME-serives Model object handles all model operations."
   ]
  },
  {
   "cell_type": "code",
   "execution_count": 3,
   "id": "299e5321",
   "metadata": {},
   "outputs": [
    {
     "name": "stderr",
     "output_type": "stream",
     "text": [
      "INFO:lume_services.services.models.db.db:ModelDB inserting: INSERT INTO model (author, laboratory, facility, beampath, description) VALUES (:author, :laboratory, :facility, :beampath, :description)\n",
      "INFO:lume_services.services.models.db.db:Sucessfully executed: INSERT INTO model (author, laboratory, facility, beampath, description) VALUES (:author, :laboratory, :facility, :beampath, :description)\n",
      "INFO:lume_services.services.models.db.db:ModelDB selecting: SELECT model.model_id, model.created, model.author, model.laboratory, model.facility, model.beampath, model.description \n",
      "FROM model \n",
      "WHERE model.model_id = :model_id_1\n"
     ]
    },
    {
     "data": {
      "text/plain": [
       "Model(metadata=Model(                     model_id=1,                     created=datetime.datetime(2022, 9, 9, 22, 38, 6),                     author='Jackie Garrahan'),                     laboratory='slac',                     facility='lcls',                     beampath='cu_hxr',                     description='test_model'                 ), deployment=None, results=None)"
      ]
     },
     "execution_count": 3,
     "metadata": {},
     "output_type": "execute_result"
    }
   ],
   "source": [
    "from lume_services.models import Model\n",
    "\n",
    "model = Model.create_model(\n",
    "    author = \"Jackie Garrahan\",\n",
    "    laboratory = \"slac\",\n",
    "    facility = \"lcls\",\n",
    "    beampath = \"cu_hxr\",\n",
    "    description = \"test_model\"\n",
    ")\n",
    "model"
   ]
  },
  {
   "cell_type": "markdown",
   "id": "3088ad03",
   "metadata": {},
   "source": [
    "## Create a project\n",
    "Workflows are organized by the Prefect scheduler into different projects. Below, we access the configured services directly (TODO create project registry utility)"
   ]
  },
  {
   "cell_type": "code",
   "execution_count": 4,
   "id": "bcd2f83f",
   "metadata": {},
   "outputs": [
    {
     "name": "stderr",
     "output_type": "stream",
     "text": [
      "INFO:lume_services.services.models.db.db:ModelDB inserting: INSERT INTO project (project_name, description) VALUES (:project_name, :description)\n",
      "INFO:lume_services.services.models.db.db:Sucessfully executed: INSERT INTO project (project_name, description) VALUES (:project_name, :description)\n"
     ]
    }
   ],
   "source": [
    "# create a project\n",
    "model_db_service = config.context.model_db_service()\n",
    "scheduling_service = config.context.scheduling_service()\n",
    "\n",
    "project_name = model_db_service.store_project(\n",
    "    project_name=\"test\", description=\"my_description\"\n",
    ")\n",
    "scheduling_service.create_project(\"test\")"
   ]
  },
  {
   "cell_type": "markdown",
   "id": "3abbe01a",
   "metadata": {},
   "source": [
    "You can now find this project in you Prefect UI at http://localhost:8080\n",
    "\n",
    "\n",
    "![project](https://slaclab.github.io/lume-services/files/project_nav.png)"
   ]
  },
  {
   "cell_type": "markdown",
   "id": "bc23acff",
   "metadata": {},
   "source": [
    "## Create a deployment for your model"
   ]
  },
  {
   "cell_type": "code",
   "execution_count": 5,
   "id": "2346c829",
   "metadata": {},
   "outputs": [
    {
     "name": "stderr",
     "output_type": "stream",
     "text": [
      "INFO:lume_services.environment.solver:https://github.com/jacquelinegarrahan/my-model/releases/download/v0.0.9/my_model-0.0.9.tar.gz saved to /tmp/lume-services/my_model-0.0.9.tar.gz\n",
      "INFO:lume_services.environment.solver:https://github.com/jacquelinegarrahan/my-model/releases/download/v0.0.9/my_model-0.0.9.tar.gz saved to /tmp/lume-services/my_model-0.0.9.tar.gz\n",
      "INFO:lume_services.environment.solver:Using conda channels conda-forge to install dependencies.\n",
      "INFO:conda.core.link:initializing UnlinkLinkTransaction with\n",
      "  target_prefix: /tmp/lume-services/tmp_env\n",
      "  unlink_precs:\n",
      "    \n",
      "  link_precs:\n",
      "    \n",
      "\n",
      "INFO:conda.notices.http:Received 404 when trying to GET https://repo.anaconda.com/pkgs/r/notices.json\n",
      "INFO:conda.notices.http:Received 302 when trying to GET https://conda.anaconda.org/conda-forge/notices.json\n",
      "INFO:conda.notices.http:Received 404 when trying to GET https://repo.anaconda.com/pkgs/main/notices.json\n",
      "INFO:lume_services.environment.solver:Resolving conda dependencies...\n",
      "INFO:lume_services.environment.solver:Installing dependencies...\n",
      "INFO:conda.core.link:initializing UnlinkLinkTransaction with\n",
      "  target_prefix: /tmp/lume-services/tmp_env\n",
      "  unlink_precs:\n",
      "    \n",
      "  link_precs:\n",
      "    \n",
      "\n",
      "INFO:conda.notices.http:Received 404 when trying to GET https://repo.anaconda.com/pkgs/main/notices.json\n",
      "INFO:conda.notices.http:Received 404 when trying to GET https://repo.anaconda.com/pkgs/r/notices.json\n",
      "INFO:conda.notices.http:Received 302 when trying to GET https://conda.anaconda.org/conda-forge/notices.json\n",
      "INFO:lume_services.environment.solver:Collecting /Users/jacquelinegarrahan/sandbox/lume-services/local-conda-channel/linux-64/_libgcc_mutex-0.1-conda_forge.tar.bz2\n",
      "INFO:lume_services.environment.solver:Collecting /Users/jacquelinegarrahan/sandbox/lume-services/local-conda-channel/linux-64/libstdcxx-ng-12.1.0-ha89aaad_16.tar.bz2\n",
      "INFO:lume_services.environment.solver:Collecting /Users/jacquelinegarrahan/sandbox/lume-services/local-conda-channel/linux-64/ld_impl_linux-64-2.36.1-hea4e1c9_2.tar.bz2\n",
      "INFO:lume_services.environment.solver:Collecting /Users/jacquelinegarrahan/sandbox/lume-services/local-conda-channel/linux-64/ca-certificates-2022.6.15.1-ha878542_0.tar.bz2\n",
      "INFO:lume_services.environment.solver:Collecting /Users/jacquelinegarrahan/sandbox/lume-services/local-conda-channel/linux-64/libgfortran5-12.1.0-hdcd56e2_16.tar.bz2\n",
      "INFO:lume_services.environment.solver:Collecting /Users/jacquelinegarrahan/sandbox/lume-services/local-conda-channel/linux-64/libgomp-12.1.0-h8d9b700_16.tar.bz2\n",
      "INFO:lume_services.environment.solver:Collecting /Users/jacquelinegarrahan/sandbox/lume-services/local-conda-channel/linux-64/libgfortran-ng-12.1.0-h69a702a_16.tar.bz2\n",
      "INFO:lume_services.environment.solver:Collecting /Users/jacquelinegarrahan/sandbox/lume-services/local-conda-channel/linux-64/_openmp_mutex-4.5-2_gnu.tar.bz2\n",
      "INFO:lume_services.environment.solver:Collecting /Users/jacquelinegarrahan/sandbox/lume-services/local-conda-channel/linux-64/libgcc-ng-12.1.0-h8d9b700_16.tar.bz2\n",
      "INFO:lume_services.environment.solver:Collecting /Users/jacquelinegarrahan/sandbox/lume-services/local-conda-channel/linux-64/lzo-2.10-h516909a_1000.tar.bz2\n",
      "INFO:lume_services.environment.solver:Collecting /Users/jacquelinegarrahan/sandbox/lume-services/local-conda-channel/linux-64/xorg-libxdmcp-1.1.3-h7f98852_0.tar.bz2\n",
      "INFO:lume_services.environment.solver:Collecting /Users/jacquelinegarrahan/sandbox/lume-services/local-conda-channel/linux-64/xorg-libxau-1.0.9-h7f98852_0.tar.bz2\n",
      "INFO:lume_services.environment.solver:Collecting /Users/jacquelinegarrahan/sandbox/lume-services/local-conda-channel/linux-64/pthread-stubs-0.4-h36c2ea0_1001.tar.bz2\n",
      "INFO:lume_services.environment.solver:Collecting /Users/jacquelinegarrahan/sandbox/lume-services/local-conda-channel/linux-64/libuuid-2.32.1-h7f98852_1000.tar.bz2\n",
      "INFO:lume_services.environment.solver:Collecting /Users/jacquelinegarrahan/sandbox/lume-services/local-conda-channel/linux-64/libdeflate-1.13-h166bdaf_0.tar.bz2\n",
      "INFO:lume_services.environment.solver:Collecting /Users/jacquelinegarrahan/sandbox/lume-services/local-conda-channel/linux-64/lerc-4.0.0-h27087fc_0.tar.bz2\n",
      "INFO:lume_services.environment.solver:Collecting /Users/jacquelinegarrahan/sandbox/lume-services/local-conda-channel/linux-64/jpeg-9e-h166bdaf_2.tar.bz2\n",
      "INFO:lume_services.environment.solver:Collecting /Users/jacquelinegarrahan/sandbox/lume-services/local-conda-channel/linux-64/libbrotlicommon-1.0.9-h166bdaf_7.tar.bz2\n",
      "INFO:lume_services.environment.solver:Collecting /Users/jacquelinegarrahan/sandbox/lume-services/local-conda-channel/linux-64/libev-4.33-h516909a_1.tar.bz2\n",
      "INFO:lume_services.environment.solver:Collecting /Users/jacquelinegarrahan/sandbox/lume-services/local-conda-channel/linux-64/c-ares-1.18.1-h7f98852_0.tar.bz2\n",
      "INFO:lume_services.environment.solver:Collecting /Users/jacquelinegarrahan/sandbox/lume-services/local-conda-channel/linux-64/libwebp-base-1.2.4-h166bdaf_0.tar.bz2\n",
      "INFO:lume_services.environment.solver:Collecting /Users/jacquelinegarrahan/sandbox/lume-services/local-conda-channel/linux-64/ripgrep-13.0.0-h2f28480_2.tar.bz2\n",
      "INFO:lume_services.environment.solver:Collecting /Users/jacquelinegarrahan/sandbox/lume-services/local-conda-channel/linux-64/liblief-0.12.1-h27087fc_0.tar.bz2\n",
      "INFO:lume_services.environment.solver:Collecting /Users/jacquelinegarrahan/sandbox/lume-services/local-conda-channel/linux-64/patchelf-0.15.0-h58526e2_0.tar.bz2\n",
      "INFO:lume_services.environment.solver:Collecting /Users/jacquelinegarrahan/sandbox/lume-services/local-conda-channel/linux-64/patch-2.7.6-h7f98852_1002.tar.bz2\n",
      "INFO:lume_services.environment.solver:Collecting /Users/jacquelinegarrahan/sandbox/lume-services/local-conda-channel/linux-64/lz4-c-1.9.3-h9c3ff4c_1.tar.bz2\n",
      "INFO:lume_services.environment.solver:Collecting /Users/jacquelinegarrahan/sandbox/lume-services/local-conda-channel/linux-64/icu-70.1-h27087fc_0.tar.bz2\n",
      "INFO:lume_services.environment.solver:Collecting /Users/jacquelinegarrahan/sandbox/lume-services/local-conda-channel/linux-64/libopenblas-0.3.21-pthreads_h78a6416_3.tar.bz2\n",
      "INFO:lume_services.environment.solver:Collecting /Users/jacquelinegarrahan/sandbox/lume-services/local-conda-channel/linux-64/reproc-14.2.3-h7f98852_0.tar.bz2\n",
      "INFO:lume_services.environment.solver:Collecting /Users/jacquelinegarrahan/sandbox/lume-services/local-conda-channel/linux-64/libiconv-1.16-h516909a_0.tar.bz2\n",
      "INFO:lume_services.environment.solver:Collecting /Users/jacquelinegarrahan/sandbox/lume-services/local-conda-channel/linux-64/keyutils-1.6.1-h166bdaf_0.tar.bz2\n",
      "INFO:lume_services.environment.solver:Collecting /Users/jacquelinegarrahan/sandbox/lume-services/local-conda-channel/linux-64/yaml-cpp-0.7.0-h27087fc_1.tar.bz2\n",
      "INFO:lume_services.environment.solver:Collecting /Users/jacquelinegarrahan/sandbox/lume-services/local-conda-channel/linux-64/xz-5.2.6-h166bdaf_0.tar.bz2\n",
      "INFO:lume_services.environment.solver:Collecting /Users/jacquelinegarrahan/sandbox/lume-services/local-conda-channel/linux-64/openssl-1.1.1q-h166bdaf_0.tar.bz2\n",
      "INFO:lume_services.environment.solver:Collecting /Users/jacquelinegarrahan/sandbox/lume-services/local-conda-channel/linux-64/ncurses-6.3-h27087fc_1.tar.bz2\n",
      "INFO:lume_services.environment.solver:Collecting /Users/jacquelinegarrahan/sandbox/lume-services/local-conda-channel/linux-64/libzlib-1.2.12-h166bdaf_2.tar.bz2\n",
      "INFO:lume_services.environment.solver:Collecting /Users/jacquelinegarrahan/sandbox/lume-services/local-conda-channel/linux-64/libffi-3.4.2-h7f98852_5.tar.bz2\n",
      "INFO:lume_services.environment.solver:Collecting /Users/jacquelinegarrahan/sandbox/lume-services/local-conda-channel/linux-64/bzip2-1.0.8-h7f98852_4.tar.bz2\n",
      "INFO:lume_services.environment.solver:Collecting /Users/jacquelinegarrahan/sandbox/lume-services/local-conda-channel/linux-64/yaml-0.2.5-h7f98852_2.tar.bz2\n",
      "INFO:lume_services.environment.solver:Collecting /Users/jacquelinegarrahan/sandbox/lume-services/local-conda-channel/linux-64/libnsl-2.0.0-h7f98852_0.tar.bz2\n",
      "INFO:lume_services.environment.solver:Collecting /Users/jacquelinegarrahan/sandbox/lume-services/local-conda-channel/linux-64/libxcb-1.13-h7f98852_1004.tar.bz2\n",
      "INFO:lume_services.environment.solver:Collecting /Users/jacquelinegarrahan/sandbox/lume-services/local-conda-channel/linux-64/libbrotlienc-1.0.9-h166bdaf_7.tar.bz2\n"
     ]
    },
    {
     "name": "stderr",
     "output_type": "stream",
     "text": [
      "INFO:lume_services.environment.solver:Collecting /Users/jacquelinegarrahan/sandbox/lume-services/local-conda-channel/linux-64/libbrotlidec-1.0.9-h166bdaf_7.tar.bz2\n",
      "INFO:lume_services.environment.solver:Collecting /Users/jacquelinegarrahan/sandbox/lume-services/local-conda-channel/linux-64/libblas-3.9.0-16_linux64_openblas.tar.bz2\n",
      "INFO:lume_services.environment.solver:Collecting /Users/jacquelinegarrahan/sandbox/lume-services/local-conda-channel/linux-64/reproc-cpp-14.2.3-h9c3ff4c_0.tar.bz2\n",
      "INFO:lume_services.environment.solver:Collecting /Users/jacquelinegarrahan/sandbox/lume-services/local-conda-channel/linux-64/libedit-3.1.20191231-he28a2e2_2.tar.bz2\n",
      "INFO:lume_services.environment.solver:Collecting /Users/jacquelinegarrahan/sandbox/lume-services/local-conda-channel/linux-64/readline-8.1.2-h0f457ee_0.tar.bz2\n",
      "INFO:lume_services.environment.solver:Collecting /Users/jacquelinegarrahan/sandbox/lume-services/local-conda-channel/linux-64/zstd-1.5.2-h6239696_4.tar.bz2\n",
      "INFO:lume_services.environment.solver:Collecting /Users/jacquelinegarrahan/sandbox/lume-services/local-conda-channel/linux-64/libpng-1.6.37-h753d276_4.tar.bz2\n",
      "INFO:lume_services.environment.solver:Collecting /Users/jacquelinegarrahan/sandbox/lume-services/local-conda-channel/linux-64/libxml2-2.9.14-h22db469_4.tar.bz2\n",
      "INFO:lume_services.environment.solver:Collecting /Users/jacquelinegarrahan/sandbox/lume-services/local-conda-channel/linux-64/libssh2-1.10.0-haa6b8db_3.tar.bz2\n",
      "INFO:lume_services.environment.solver:Collecting /Users/jacquelinegarrahan/sandbox/lume-services/local-conda-channel/linux-64/libnghttp2-1.47.0-hdcd2b5c_1.tar.bz2\n",
      "INFO:lume_services.environment.solver:Collecting /Users/jacquelinegarrahan/sandbox/lume-services/local-conda-channel/linux-64/tk-8.6.12-h27826a3_0.tar.bz2\n",
      "INFO:lume_services.environment.solver:Collecting /Users/jacquelinegarrahan/sandbox/lume-services/local-conda-channel/linux-64/libsqlite-3.39.3-h753d276_0.tar.bz2\n",
      "INFO:lume_services.environment.solver:Collecting /Users/jacquelinegarrahan/sandbox/lume-services/local-conda-channel/linux-64/libsolv-0.7.22-h6239696_0.tar.bz2\n",
      "INFO:lume_services.environment.solver:Collecting /Users/jacquelinegarrahan/sandbox/lume-services/local-conda-channel/linux-64/brotli-bin-1.0.9-h166bdaf_7.tar.bz2\n",
      "INFO:lume_services.environment.solver:Collecting /Users/jacquelinegarrahan/sandbox/lume-services/local-conda-channel/linux-64/libcblas-3.9.0-16_linux64_openblas.tar.bz2\n",
      "INFO:lume_services.environment.solver:Collecting /Users/jacquelinegarrahan/sandbox/lume-services/local-conda-channel/linux-64/liblapack-3.9.0-16_linux64_openblas.tar.bz2\n",
      "INFO:lume_services.environment.solver:Collecting /Users/jacquelinegarrahan/sandbox/lume-services/local-conda-channel/linux-64/krb5-1.19.3-h3790be6_0.tar.bz2\n",
      "INFO:lume_services.environment.solver:Collecting /Users/jacquelinegarrahan/sandbox/lume-services/local-conda-channel/linux-64/libtiff-4.4.0-h0e0dad5_3.tar.bz2\n",
      "INFO:lume_services.environment.solver:Collecting /Users/jacquelinegarrahan/sandbox/lume-services/local-conda-channel/linux-64/freetype-2.12.1-hca18f0e_0.tar.bz2\n",
      "INFO:lume_services.environment.solver:Collecting /Users/jacquelinegarrahan/sandbox/lume-services/local-conda-channel/linux-64/libarchive-3.5.2-hb890918_3.tar.bz2\n",
      "INFO:lume_services.environment.solver:Collecting /Users/jacquelinegarrahan/sandbox/lume-services/local-conda-channel/linux-64/sqlite-3.39.3-h4ff8645_0.tar.bz2\n",
      "INFO:lume_services.environment.solver:Collecting /Users/jacquelinegarrahan/sandbox/lume-services/local-conda-channel/linux-64/brotli-1.0.9-h166bdaf_7.tar.bz2\n",
      "INFO:lume_services.environment.solver:Collecting /Users/jacquelinegarrahan/sandbox/lume-services/local-conda-channel/linux-64/libcurl-7.83.1-h7bff187_0.tar.bz2\n",
      "INFO:lume_services.environment.solver:Collecting /Users/jacquelinegarrahan/sandbox/lume-services/local-conda-channel/linux-64/openjpeg-2.5.0-h7d73246_1.tar.bz2\n",
      "INFO:lume_services.environment.solver:Collecting /Users/jacquelinegarrahan/sandbox/lume-services/local-conda-channel/linux-64/lcms2-2.12-hddcbb42_0.tar.bz2\n",
      "INFO:lume_services.environment.solver:Collecting /Users/jacquelinegarrahan/sandbox/lume-services/local-conda-channel/linux-64/hdf5-1.12.2-nompi_h2386368_100.tar.bz2\n",
      "INFO:lume_services.environment.solver:Collecting /Users/jacquelinegarrahan/sandbox/lume-services/local-conda-channel/linux-64/libmamba-0.25.0-hd8a31e3_2.tar.bz2\n",
      "INFO:lume_services.environment.solver:Collecting /Users/jacquelinegarrahan/sandbox/lume-services/local-conda-channel/noarch/tzdata-2022c-h191b570_0.tar.bz2\n",
      "INFO:lume_services.environment.solver:Collecting /Users/jacquelinegarrahan/sandbox/lume-services/local-conda-channel/noarch/pybind11-abi-4-hd8ed1ab_3.tar.bz2\n",
      "INFO:lume_services.environment.solver:Collecting /Users/jacquelinegarrahan/sandbox/lume-services/local-conda-channel/linux-64/python-3.9.13-h9a8a25e_0_cpython.tar.bz2\n",
      "INFO:lume_services.environment.solver:Collecting /Users/jacquelinegarrahan/sandbox/lume-services/local-conda-channel/noarch/wheel-0.37.1-pyhd8ed1ab_0.tar.bz2\n",
      "INFO:lume_services.environment.solver:Collecting /Users/jacquelinegarrahan/sandbox/lume-services/local-conda-channel/noarch/setuptools-65.3.0-pyhd8ed1ab_1.tar.bz2\n",
      "INFO:lume_services.environment.solver:Collecting /Users/jacquelinegarrahan/sandbox/lume-services/local-conda-channel/noarch/pip-22.2.2-pyhd8ed1ab_0.tar.bz2\n",
      "INFO:lume_services.environment.solver:Collecting /Users/jacquelinegarrahan/sandbox/lume-services/local-conda-channel/noarch/munkres-1.1.4-pyh9f0ad1d_0.tar.bz2\n",
      "INFO:lume_services.environment.solver:Collecting /Users/jacquelinegarrahan/sandbox/lume-services/local-conda-channel/noarch/cycler-0.11.0-pyhd8ed1ab_0.tar.bz2\n",
      "INFO:lume_services.environment.solver:Collecting /Users/jacquelinegarrahan/sandbox/lume-services/local-conda-channel/noarch/soupsieve-2.3.2.post1-pyhd8ed1ab_0.tar.bz2\n",
      "INFO:lume_services.environment.solver:Collecting /Users/jacquelinegarrahan/sandbox/lume-services/local-conda-channel/noarch/cached_property-1.5.2-pyha770c72_1.tar.bz2\n",
      "INFO:lume_services.environment.solver:Collecting /Users/jacquelinegarrahan/sandbox/lume-services/local-conda-channel/noarch/unidecode-1.3.4-pyhd8ed1ab_0.tar.bz2\n",
      "INFO:lume_services.environment.solver:Collecting /Users/jacquelinegarrahan/sandbox/lume-services/local-conda-channel/noarch/text-unidecode-1.3-py_0.tar.bz2\n",
      "INFO:lume_services.environment.solver:Collecting /Users/jacquelinegarrahan/sandbox/lume-services/local-conda-channel/noarch/charset-normalizer-2.1.1-pyhd8ed1ab_0.tar.bz2\n",
      "INFO:lume_services.environment.solver:Collecting /Users/jacquelinegarrahan/sandbox/lume-services/local-conda-channel/noarch/colorama-0.4.5-pyhd8ed1ab_0.tar.bz2\n",
      "INFO:lume_services.environment.solver:Collecting /Users/jacquelinegarrahan/sandbox/lume-services/local-conda-channel/noarch/certifi-2022.6.15.1-pyhd8ed1ab_0.tar.bz2\n",
      "INFO:lume_services.environment.solver:Collecting /Users/jacquelinegarrahan/sandbox/lume-services/local-conda-channel/noarch/heapdict-1.0.1-py_0.tar.bz2\n",
      "INFO:lume_services.environment.solver:Collecting /Users/jacquelinegarrahan/sandbox/lume-services/local-conda-channel/noarch/glob2-0.7-py_0.tar.bz2\n",
      "INFO:lume_services.environment.solver:Collecting /Users/jacquelinegarrahan/sandbox/lume-services/local-conda-channel/noarch/pkginfo-1.8.3-pyhd8ed1ab_0.tar.bz2\n",
      "INFO:lume_services.environment.solver:Collecting /Users/jacquelinegarrahan/sandbox/lume-services/local-conda-channel/noarch/filelock-3.8.0-pyhd8ed1ab_0.tar.bz2\n",
      "INFO:lume_services.environment.solver:Collecting /Users/jacquelinegarrahan/sandbox/lume-services/local-conda-channel/noarch/appdirs-1.4.4-pyh9f0ad1d_0.tar.bz2\n",
      "INFO:lume_services.environment.solver:Collecting /Users/jacquelinegarrahan/sandbox/lume-services/local-conda-channel/noarch/websocket-client-1.4.1-pyhd8ed1ab_0.tar.bz2\n",
      "INFO:lume_services.environment.solver:Collecting /Users/jacquelinegarrahan/sandbox/lume-services/local-conda-channel/noarch/six-1.16.0-pyh6c4a22f_0.tar.bz2\n",
      "INFO:lume_services.environment.solver:Collecting /Users/jacquelinegarrahan/sandbox/lume-services/local-conda-channel/noarch/pycparser-2.21-pyhd8ed1ab_0.tar.bz2\n",
      "INFO:lume_services.environment.solver:Collecting /Users/jacquelinegarrahan/sandbox/lume-services/local-conda-channel/noarch/idna-3.3-pyhd8ed1ab_0.tar.bz2\n",
      "INFO:lume_services.environment.solver:Collecting /Users/jacquelinegarrahan/sandbox/lume-services/local-conda-channel/noarch/asn1crypto-1.5.1-pyhd8ed1ab_0.tar.bz2\n"
     ]
    },
    {
     "name": "stderr",
     "output_type": "stream",
     "text": [
      "INFO:lume_services.environment.solver:Collecting /Users/jacquelinegarrahan/sandbox/lume-services/local-conda-channel/noarch/pytzdata-2020.1-pyh9f0ad1d_0.tar.bz2\n",
      "INFO:lume_services.environment.solver:Collecting /Users/jacquelinegarrahan/sandbox/lume-services/local-conda-channel/noarch/typing_extensions-4.3.0-pyha770c72_0.tar.bz2\n",
      "INFO:lume_services.environment.solver:Collecting /Users/jacquelinegarrahan/sandbox/lume-services/local-conda-channel/noarch/natsort-8.2.0-pyhd8ed1ab_0.tar.bz2\n",
      "INFO:lume_services.environment.solver:Collecting /Users/jacquelinegarrahan/sandbox/lume-services/local-conda-channel/noarch/fsspec-2022.8.2-pyhd8ed1ab_0.tar.bz2\n",
      "INFO:lume_services.environment.solver:Collecting /Users/jacquelinegarrahan/sandbox/lume-services/local-conda-channel/noarch/tblib-1.7.0-pyhd8ed1ab_0.tar.bz2\n",
      "INFO:lume_services.environment.solver:Collecting /Users/jacquelinegarrahan/sandbox/lume-services/local-conda-channel/noarch/locket-1.0.0-pyhd8ed1ab_0.tar.bz2\n",
      "INFO:lume_services.environment.solver:Collecting /Users/jacquelinegarrahan/sandbox/lume-services/local-conda-channel/noarch/toolz-0.12.0-pyhd8ed1ab_0.tar.bz2\n",
      "INFO:lume_services.environment.solver:Collecting /Users/jacquelinegarrahan/sandbox/lume-services/local-conda-channel/noarch/sortedcontainers-2.4.0-pyhd8ed1ab_0.tar.bz2\n",
      "INFO:lume_services.environment.solver:Collecting /Users/jacquelinegarrahan/sandbox/lume-services/local-conda-channel/noarch/zipp-3.8.1-pyhd8ed1ab_0.tar.bz2\n",
      "INFO:lume_services.environment.solver:Collecting /Users/jacquelinegarrahan/sandbox/lume-services/local-conda-channel/noarch/pyparsing-3.0.9-pyhd8ed1ab_0.tar.bz2\n",
      "INFO:lume_services.environment.solver:Collecting /Users/jacquelinegarrahan/sandbox/lume-services/local-conda-channel/noarch/toml-0.10.2-pyhd8ed1ab_0.tar.bz2\n",
      "INFO:lume_services.environment.solver:Collecting /Users/jacquelinegarrahan/sandbox/lume-services/local-conda-channel/noarch/tabulate-0.8.10-pyhd8ed1ab_0.tar.bz2\n",
      "INFO:lume_services.environment.solver:Collecting /Users/jacquelinegarrahan/sandbox/lume-services/local-conda-channel/noarch/pytz-2022.2.1-pyhd8ed1ab_0.tar.bz2\n",
      "INFO:lume_services.environment.solver:Collecting /Users/jacquelinegarrahan/sandbox/lume-services/local-conda-channel/noarch/cloudpickle-2.2.0-pyhd8ed1ab_0.tar.bz2\n",
      "INFO:lume_services.environment.solver:Collecting /Users/jacquelinegarrahan/sandbox/lume-services/local-conda-channel/noarch/pymysql-1.0.2-pyhd8ed1ab_0.tar.bz2\n",
      "INFO:lume_services.environment.solver:Collecting /Users/jacquelinegarrahan/sandbox/lume-services/local-conda-channel/noarch/beautifulsoup4-4.11.1-pyha770c72_0.tar.bz2\n",
      "INFO:lume_services.environment.solver:Collecting /Users/jacquelinegarrahan/sandbox/lume-services/local-conda-channel/noarch/cached-property-1.5.2-hd8ed1ab_1.tar.bz2\n",
      "INFO:lume_services.environment.solver:Collecting /Users/jacquelinegarrahan/sandbox/lume-services/local-conda-channel/noarch/python-slugify-6.1.2-pyhd8ed1ab_0.tar.bz2\n",
      "INFO:lume_services.environment.solver:Collecting /Users/jacquelinegarrahan/sandbox/lume-services/local-conda-channel/noarch/tqdm-4.64.1-pyhd8ed1ab_0.tar.bz2\n",
      "INFO:lume_services.environment.solver:Collecting /Users/jacquelinegarrahan/sandbox/lume-services/local-conda-channel/noarch/zict-2.2.0-pyhd8ed1ab_0.tar.bz2\n",
      "INFO:lume_services.environment.solver:Collecting /Users/jacquelinegarrahan/sandbox/lume-services/local-conda-channel/noarch/docker-pycreds-0.4.0-py_0.tar.bz2\n",
      "INFO:lume_services.environment.solver:Collecting /Users/jacquelinegarrahan/sandbox/lume-services/local-conda-channel/noarch/python-dateutil-2.8.2-pyhd8ed1ab_0.tar.bz2\n",
      "INFO:lume_services.environment.solver:Collecting /Users/jacquelinegarrahan/sandbox/lume-services/local-conda-channel/noarch/typing-extensions-4.3.0-hd8ed1ab_0.tar.bz2\n",
      "INFO:lume_services.environment.solver:Collecting /Users/jacquelinegarrahan/sandbox/lume-services/local-conda-channel/noarch/partd-1.3.0-pyhd8ed1ab_0.tar.bz2\n",
      "INFO:lume_services.environment.solver:Collecting /Users/jacquelinegarrahan/sandbox/lume-services/local-conda-channel/noarch/importlib_resources-5.9.0-pyhd8ed1ab_0.tar.bz2\n",
      "INFO:lume_services.environment.solver:Collecting /Users/jacquelinegarrahan/sandbox/lume-services/local-conda-channel/noarch/packaging-21.3-pyhd8ed1ab_0.tar.bz2\n",
      "INFO:lume_services.environment.solver:Collecting /Users/jacquelinegarrahan/sandbox/lume-services/local-conda-channel/noarch/croniter-0.3.36-pyhd8ed1ab_0.tar.bz2\n",
      "INFO:lume_services.environment.solver:Collecting /Users/jacquelinegarrahan/sandbox/lume-services/local-conda-channel/noarch/marshmallow-3.17.1-pyhd8ed1ab_0.tar.bz2\n",
      "INFO:lume_services.environment.solver:Collecting /Users/jacquelinegarrahan/sandbox/lume-services/local-conda-channel/noarch/marshmallow-oneofschema-3.0.1-pyhd8ed1ab_0.tar.bz2\n",
      "INFO:lume_services.environment.solver:Collecting /Users/jacquelinegarrahan/sandbox/lume-services/local-conda-channel/linux-64/python_abi-3.9-2_cp39.tar.bz2\n",
      "INFO:lume_services.environment.solver:Collecting /Users/jacquelinegarrahan/sandbox/lume-services/local-conda-channel/linux-64/unicodedata2-14.0.0-py39hb9d737c_1.tar.bz2\n",
      "INFO:lume_services.environment.solver:Collecting /Users/jacquelinegarrahan/sandbox/lume-services/local-conda-channel/linux-64/pillow-9.2.0-py39hd5dbb17_2.tar.bz2\n",
      "INFO:lume_services.environment.solver:Collecting /Users/jacquelinegarrahan/sandbox/lume-services/local-conda-channel/linux-64/kiwisolver-1.4.4-py39hf939315_0.tar.bz2\n",
      "INFO:lume_services.environment.solver:Collecting /Users/jacquelinegarrahan/sandbox/lume-services/local-conda-channel/linux-64/ruamel.yaml.clib-0.2.6-py39hb9d737c_1.tar.bz2\n",
      "INFO:lume_services.environment.solver:Collecting /Users/jacquelinegarrahan/sandbox/lume-services/local-conda-channel/linux-64/markupsafe-2.1.1-py39hb9d737c_1.tar.bz2\n",
      "INFO:lume_services.environment.solver:Collecting /Users/jacquelinegarrahan/sandbox/lume-services/local-conda-channel/linux-64/pysocks-1.7.1-py39hf3d152e_5.tar.bz2\n",
      "INFO:lume_services.environment.solver:Collecting /Users/jacquelinegarrahan/sandbox/lume-services/local-conda-channel/linux-64/ruamel_yaml-0.15.80-py39hb9d737c_1007.tar.bz2\n",
      "INFO:lume_services.environment.solver:Collecting /Users/jacquelinegarrahan/sandbox/lume-services/local-conda-channel/linux-64/pycosat-0.6.3-py39hb9d737c_1010.tar.bz2\n",
      "INFO:lume_services.environment.solver:Collecting /Users/jacquelinegarrahan/sandbox/lume-services/local-conda-channel/linux-64/python-libarchive-c-4.0-py39hf3d152e_1.tar.bz2\n",
      "INFO:lume_services.environment.solver:Collecting /Users/jacquelinegarrahan/sandbox/lume-services/local-conda-channel/linux-64/py-lief-0.12.1-py39h5a03fae_0.tar.bz2\n",
      "INFO:lume_services.environment.solver:Collecting /Users/jacquelinegarrahan/sandbox/lume-services/local-conda-channel/linux-64/conda-package-handling-1.8.1-py39hb9d737c_1.tar.bz2\n",
      "INFO:lume_services.environment.solver:Collecting /Users/jacquelinegarrahan/sandbox/lume-services/local-conda-channel/linux-64/chardet-5.0.0-py39hf3d152e_0.tar.bz2\n",
      "INFO:lume_services.environment.solver:Collecting /Users/jacquelinegarrahan/sandbox/lume-services/local-conda-channel/linux-64/cffi-1.15.1-py39he91dace_0.tar.bz2\n",
      "INFO:lume_services.environment.solver:Collecting /Users/jacquelinegarrahan/sandbox/lume-services/local-conda-channel/linux-64/greenlet-1.1.3-py39h5a03fae_0.tar.bz2\n",
      "INFO:lume_services.environment.solver:Collecting /Users/jacquelinegarrahan/sandbox/lume-services/local-conda-channel/linux-64/tornado-6.1-py39hb9d737c_3.tar.bz2\n",
      "INFO:lume_services.environment.solver:Collecting /Users/jacquelinegarrahan/sandbox/lume-services/local-conda-channel/linux-64/psutil-5.9.2-py39hb9d737c_0.tar.bz2\n",
      "INFO:lume_services.environment.solver:Collecting /Users/jacquelinegarrahan/sandbox/lume-services/local-conda-channel/linux-64/msgpack-python-1.0.4-py39hf939315_0.tar.bz2\n",
      "INFO:lume_services.environment.solver:Collecting /Users/jacquelinegarrahan/sandbox/lume-services/local-conda-channel/linux-64/cytoolz-0.12.0-py39hb9d737c_0.tar.bz2\n",
      "INFO:lume_services.environment.solver:Collecting /Users/jacquelinegarrahan/sandbox/lume-services/local-conda-channel/linux-64/pendulum-2.1.2-py39hb9d737c_4.tar.bz2\n",
      "INFO:lume_services.environment.solver:Collecting /Users/jacquelinegarrahan/sandbox/lume-services/local-conda-channel/linux-64/mypy_extensions-0.4.3-py39hf3d152e_5.tar.bz2\n",
      "INFO:lume_services.environment.solver:Collecting /Users/jacquelinegarrahan/sandbox/lume-services/local-conda-channel/linux-64/click-8.1.3-py39hf3d152e_0.tar.bz2\n"
     ]
    },
    {
     "name": "stderr",
     "output_type": "stream",
     "text": [
      "INFO:lume_services.environment.solver:Collecting /Users/jacquelinegarrahan/sandbox/lume-services/local-conda-channel/linux-64/pymongo-4.2.0-py39h5a03fae_1.tar.bz2\n",
      "INFO:lume_services.environment.solver:Collecting /Users/jacquelinegarrahan/sandbox/lume-services/local-conda-channel/linux-64/libmambapy-0.25.0-py39hd55135b_2.tar.bz2\n",
      "INFO:lume_services.environment.solver:Collecting /Users/jacquelinegarrahan/sandbox/lume-services/local-conda-channel/linux-64/pyyaml-6.0-py39hb9d737c_4.tar.bz2\n",
      "INFO:lume_services.environment.solver:Collecting /Users/jacquelinegarrahan/sandbox/lume-services/local-conda-channel/linux-64/numpy-1.23.2-py39hba7629e_0.tar.bz2\n",
      "INFO:lume_services.environment.solver:Collecting /Users/jacquelinegarrahan/sandbox/lume-services/local-conda-channel/linux-64/pydantic-1.10.2-py39hb9d737c_0.tar.bz2\n",
      "INFO:lume_services.environment.solver:Collecting /Users/jacquelinegarrahan/sandbox/lume-services/local-conda-channel/linux-64/dependency_injector-4.40.0-py39hb9d737c_0.tar.bz2\n",
      "INFO:lume_services.environment.solver:Collecting /Users/jacquelinegarrahan/sandbox/lume-services/local-conda-channel/linux-64/fonttools-4.37.1-py39hb9d737c_0.tar.bz2\n",
      "INFO:lume_services.environment.solver:Collecting /Users/jacquelinegarrahan/sandbox/lume-services/local-conda-channel/linux-64/ruamel.yaml-0.17.21-py39hb9d737c_1.tar.bz2\n",
      "INFO:lume_services.environment.solver:Collecting /Users/jacquelinegarrahan/sandbox/lume-services/local-conda-channel/linux-64/brotlipy-0.7.0-py39hb9d737c_1004.tar.bz2\n",
      "INFO:lume_services.environment.solver:Collecting /Users/jacquelinegarrahan/sandbox/lume-services/local-conda-channel/linux-64/cryptography-37.0.4-py39hd97740a_0.tar.bz2\n",
      "INFO:lume_services.environment.solver:Collecting /Users/jacquelinegarrahan/sandbox/lume-services/local-conda-channel/linux-64/sqlalchemy-1.4.41-py39hb9d737c_0.tar.bz2\n",
      "INFO:lume_services.environment.solver:Collecting /Users/jacquelinegarrahan/sandbox/lume-services/local-conda-channel/linux-64/scipy-1.9.1-py39h8ba3f38_0.tar.bz2\n",
      "INFO:lume_services.environment.solver:Collecting /Users/jacquelinegarrahan/sandbox/lume-services/local-conda-channel/linux-64/h5py-3.7.0-nompi_py39hd51670d_101.tar.bz2\n",
      "INFO:lume_services.environment.solver:Collecting /Users/jacquelinegarrahan/sandbox/lume-services/local-conda-channel/linux-64/pandas-1.4.4-py39h1832856_0.tar.bz2\n",
      "INFO:lume_services.environment.solver:Collecting /Users/jacquelinegarrahan/sandbox/lume-services/local-conda-channel/linux-64/matplotlib-base-3.5.3-py39h19d6b11_2.tar.bz2\n",
      "INFO:lume_services.environment.solver:Collecting /Users/jacquelinegarrahan/sandbox/lume-services/local-conda-channel/linux-64/python-box-6.0.2-py39hb9d737c_3.tar.bz2\n",
      "INFO:lume_services.environment.solver:Collecting /Users/jacquelinegarrahan/sandbox/lume-services/local-conda-channel/noarch/jinja2-3.1.2-pyhd8ed1ab_1.tar.bz2\n",
      "INFO:lume_services.environment.solver:Collecting /Users/jacquelinegarrahan/sandbox/lume-services/local-conda-channel/noarch/dask-core-2022.9.0-pyhd8ed1ab_0.tar.bz2\n",
      "INFO:lume_services.environment.solver:Collecting /Users/jacquelinegarrahan/sandbox/lume-services/local-conda-channel/noarch/lume-model-1.4-pyhd8ed1ab_1.tar.bz2\n",
      "INFO:lume_services.environment.solver:Collecting /Users/jacquelinegarrahan/sandbox/lume-services/local-conda-channel/noarch/pyopenssl-22.0.0-pyhd8ed1ab_0.tar.bz2\n",
      "INFO:lume_services.environment.solver:Collecting /Users/jacquelinegarrahan/sandbox/lume-services/local-conda-channel/noarch/openpmd-beamphysics-0.7.1-pyhd8ed1ab_0.tar.bz2\n",
      "INFO:lume_services.environment.solver:Collecting /Users/jacquelinegarrahan/sandbox/lume-services/local-conda-channel/noarch/urllib3-1.26.11-pyhd8ed1ab_0.tar.bz2\n",
      "INFO:lume_services.environment.solver:Collecting /Users/jacquelinegarrahan/sandbox/lume-services/local-conda-channel/noarch/lume-base-0.2.3-pyhd8ed1ab_0.tar.bz2\n",
      "INFO:lume_services.environment.solver:Collecting /Users/jacquelinegarrahan/sandbox/lume-services/local-conda-channel/noarch/requests-2.28.1-pyhd8ed1ab_1.tar.bz2\n",
      "INFO:lume_services.environment.solver:Collecting /Users/jacquelinegarrahan/sandbox/lume-services/local-conda-channel/noarch/distributed-2022.9.0-pyhd8ed1ab_0.tar.bz2\n",
      "INFO:lume_services.environment.solver:Collecting /Users/jacquelinegarrahan/sandbox/lume-services/local-conda-channel/linux-64/conda-4.14.0-py39hf3d152e_0.tar.bz2\n",
      "INFO:lume_services.environment.solver:Collecting /Users/jacquelinegarrahan/sandbox/lume-services/local-conda-channel/linux-64/docker-py-5.0.3-py39hf3d152e_2.tar.bz2\n",
      "INFO:lume_services.environment.solver:Collecting /Users/jacquelinegarrahan/sandbox/lume-services/local-conda-channel/linux-64/mamba-0.25.0-py39hfa8f2c8_2.tar.bz2\n",
      "INFO:lume_services.environment.solver:Collecting /Users/jacquelinegarrahan/sandbox/lume-services/local-conda-channel/linux-64/conda-build-3.22.0-py39hf3d152e_2.tar.bz2\n",
      "INFO:lume_services.environment.solver:Collecting /Users/jacquelinegarrahan/sandbox/lume-services/local-conda-channel/noarch/prefect-1.3.1-pyhd8ed1ab_0.tar.bz2\n",
      "  Running command python setup.py egg_info\n",
      "  running egg_info\n",
      "  creating /private/var/folders/nh/g2v_nmtj7t1g94gmjtgjrk3r0000gn/T/pip-pip-egg-info-2ekvj4sz/lume_services.egg-info\n",
      "  writing /private/var/folders/nh/g2v_nmtj7t1g94gmjtgjrk3r0000gn/T/pip-pip-egg-info-2ekvj4sz/lume_services.egg-info/PKG-INFO\n",
      "  writing dependency_links to /private/var/folders/nh/g2v_nmtj7t1g94gmjtgjrk3r0000gn/T/pip-pip-egg-info-2ekvj4sz/lume_services.egg-info/dependency_links.txt\n",
      "  writing entry points to /private/var/folders/nh/g2v_nmtj7t1g94gmjtgjrk3r0000gn/T/pip-pip-egg-info-2ekvj4sz/lume_services.egg-info/entry_points.txt\n",
      "  writing requirements to /private/var/folders/nh/g2v_nmtj7t1g94gmjtgjrk3r0000gn/T/pip-pip-egg-info-2ekvj4sz/lume_services.egg-info/requires.txt\n",
      "  writing top-level names to /private/var/folders/nh/g2v_nmtj7t1g94gmjtgjrk3r0000gn/T/pip-pip-egg-info-2ekvj4sz/lume_services.egg-info/top_level.txt\n",
      "  writing manifest file '/private/var/folders/nh/g2v_nmtj7t1g94gmjtgjrk3r0000gn/T/pip-pip-egg-info-2ekvj4sz/lume_services.egg-info/SOURCES.txt'\n",
      "  reading manifest file '/private/var/folders/nh/g2v_nmtj7t1g94gmjtgjrk3r0000gn/T/pip-pip-egg-info-2ekvj4sz/lume_services.egg-info/SOURCES.txt'\n",
      "  reading manifest template 'MANIFEST.in'\n",
      "  adding license file 'LICENSE'\n",
      "  writing manifest file '/private/var/folders/nh/g2v_nmtj7t1g94gmjtgjrk3r0000gn/T/pip-pip-egg-info-2ekvj4sz/lume_services.egg-info/SOURCES.txt'\n",
      "  Running command python setup.py egg_info\n",
      "  running egg_info\n",
      "  creating /private/var/folders/nh/g2v_nmtj7t1g94gmjtgjrk3r0000gn/T/pip-pip-egg-info-o37cybk1/my_model.egg-info\n",
      "  writing /private/var/folders/nh/g2v_nmtj7t1g94gmjtgjrk3r0000gn/T/pip-pip-egg-info-o37cybk1/my_model.egg-info/PKG-INFO\n",
      "  writing dependency_links to /private/var/folders/nh/g2v_nmtj7t1g94gmjtgjrk3r0000gn/T/pip-pip-egg-info-o37cybk1/my_model.egg-info/dependency_links.txt\n",
      "  writing entry points to /private/var/folders/nh/g2v_nmtj7t1g94gmjtgjrk3r0000gn/T/pip-pip-egg-info-o37cybk1/my_model.egg-info/entry_points.txt\n",
      "  writing requirements to /private/var/folders/nh/g2v_nmtj7t1g94gmjtgjrk3r0000gn/T/pip-pip-egg-info-o37cybk1/my_model.egg-info/requires.txt\n",
      "  writing top-level names to /private/var/folders/nh/g2v_nmtj7t1g94gmjtgjrk3r0000gn/T/pip-pip-egg-info-o37cybk1/my_model.egg-info/top_level.txt\n",
      "  writing manifest file '/private/var/folders/nh/g2v_nmtj7t1g94gmjtgjrk3r0000gn/T/pip-pip-egg-info-o37cybk1/my_model.egg-info/SOURCES.txt'\n",
      "  reading manifest file '/private/var/folders/nh/g2v_nmtj7t1g94gmjtgjrk3r0000gn/T/pip-pip-egg-info-o37cybk1/my_model.egg-info/SOURCES.txt'\n",
      "  reading manifest template 'MANIFEST.in'\n",
      "  adding license file 'LICENSE'\n",
      "  writing manifest file '/private/var/folders/nh/g2v_nmtj7t1g94gmjtgjrk3r0000gn/T/pip-pip-egg-info-o37cybk1/my_model.egg-info/SOURCES.txt'\n",
      "INFO:lume_services.environment.solver:Pip files installed: \n",
      "INFO:lume_services.environment.solver:Dependency installation complete\n",
      "INFO:lume_services.environment.solver:Installed source to local pip repo.\n",
      "INFO:lume_services.models.model:installing package\n",
      "INFO:lume_services.environment.solver:https://github.com/jacquelinegarrahan/my-model/releases/download/v0.0.9/my_model-0.0.9.tar.gz saved to /tmp/lume-services/my_model-0.0.9.tar.gz\n",
      "INFO:lume_services.environment.solver:Installing dependencies...\n"
     ]
    },
    {
     "name": "stderr",
     "output_type": "stream",
     "text": [
      "INFO:lume_services.environment.solver:Dependency installation complete\n",
      "  Running command python setup.py egg_info\n",
      "  running egg_info\n",
      "  creating /private/var/folders/nh/g2v_nmtj7t1g94gmjtgjrk3r0000gn/T/pip-pip-egg-info-7zcw4tz_/my_model.egg-info\n",
      "  writing /private/var/folders/nh/g2v_nmtj7t1g94gmjtgjrk3r0000gn/T/pip-pip-egg-info-7zcw4tz_/my_model.egg-info/PKG-INFO\n",
      "  writing dependency_links to /private/var/folders/nh/g2v_nmtj7t1g94gmjtgjrk3r0000gn/T/pip-pip-egg-info-7zcw4tz_/my_model.egg-info/dependency_links.txt\n",
      "  writing entry points to /private/var/folders/nh/g2v_nmtj7t1g94gmjtgjrk3r0000gn/T/pip-pip-egg-info-7zcw4tz_/my_model.egg-info/entry_points.txt\n",
      "  writing requirements to /private/var/folders/nh/g2v_nmtj7t1g94gmjtgjrk3r0000gn/T/pip-pip-egg-info-7zcw4tz_/my_model.egg-info/requires.txt\n",
      "  writing top-level names to /private/var/folders/nh/g2v_nmtj7t1g94gmjtgjrk3r0000gn/T/pip-pip-egg-info-7zcw4tz_/my_model.egg-info/top_level.txt\n",
      "  writing manifest file '/private/var/folders/nh/g2v_nmtj7t1g94gmjtgjrk3r0000gn/T/pip-pip-egg-info-7zcw4tz_/my_model.egg-info/SOURCES.txt'\n",
      "  reading manifest file '/private/var/folders/nh/g2v_nmtj7t1g94gmjtgjrk3r0000gn/T/pip-pip-egg-info-7zcw4tz_/my_model.egg-info/SOURCES.txt'\n",
      "  reading manifest template 'MANIFEST.in'\n",
      "  adding license file 'LICENSE'\n",
      "  writing manifest file '/private/var/folders/nh/g2v_nmtj7t1g94gmjtgjrk3r0000gn/T/pip-pip-egg-info-7zcw4tz_/my_model.egg-info/SOURCES.txt'\n",
      "  Running command python setup.py bdist_wheel\n",
      "  running bdist_wheel\n",
      "  running build\n",
      "  running build_py\n",
      "  creating build\n",
      "  creating build/lib\n",
      "  creating build/lib/my_model\n",
      "  copying my_model/config.py -> build/lib/my_model\n",
      "  copying my_model/_version.py -> build/lib/my_model\n",
      "  copying my_model/__init__.py -> build/lib/my_model\n",
      "  copying my_model/flow.py -> build/lib/my_model\n",
      "  copying my_model/model.py -> build/lib/my_model\n",
      "  creating build/lib/my_model/tests\n",
      "  copying my_model/tests/test_flow.py -> build/lib/my_model/tests\n",
      "  copying my_model/tests/__init__.py -> build/lib/my_model/tests\n",
      "  creating build/lib/my_model/cli\n",
      "  copying my_model/cli/plot.py -> build/lib/my_model/cli\n",
      "  copying my_model/cli/__init__.py -> build/lib/my_model/cli\n",
      "  creating build/lib/my_model/files\n",
      "  copying my_model/files/__init__.py -> build/lib/my_model/files\n",
      "  running egg_info\n",
      "  writing my_model.egg-info/PKG-INFO\n",
      "  writing dependency_links to my_model.egg-info/dependency_links.txt\n",
      "  writing entry points to my_model.egg-info/entry_points.txt\n",
      "  writing requirements to my_model.egg-info/requires.txt\n",
      "  writing top-level names to my_model.egg-info/top_level.txt\n",
      "  reading manifest file 'my_model.egg-info/SOURCES.txt'\n",
      "  reading manifest template 'MANIFEST.in'\n",
      "  adding license file 'LICENSE'\n",
      "  writing manifest file 'my_model.egg-info/SOURCES.txt'\n",
      "  copying my_model/files/variables.yml -> build/lib/my_model/files\n",
      "  UPDATING build/lib/my_model/_version.py\n",
      "  set build/lib/my_model/_version.py to '0.0.9'\n",
      "  /Users/jacquelinegarrahan/miniconda3/envs/lume-services-dev/lib/python3.9/site-packages/setuptools/command/install.py:34: SetuptoolsDeprecationWarning: setup.py install is deprecated. Use build and pip and other standards-based tools.\n",
      "    warnings.warn(\n",
      "  installing to build/bdist.macosx-10.9-x86_64/wheel\n",
      "  running install\n",
      "  running install_lib\n",
      "  creating build/bdist.macosx-10.9-x86_64\n",
      "  creating build/bdist.macosx-10.9-x86_64/wheel\n",
      "  creating build/bdist.macosx-10.9-x86_64/wheel/my_model\n",
      "  copying build/lib/my_model/config.py -> build/bdist.macosx-10.9-x86_64/wheel/my_model\n",
      "  copying build/lib/my_model/_version.py -> build/bdist.macosx-10.9-x86_64/wheel/my_model\n",
      "  creating build/bdist.macosx-10.9-x86_64/wheel/my_model/tests\n",
      "  copying build/lib/my_model/tests/test_flow.py -> build/bdist.macosx-10.9-x86_64/wheel/my_model/tests\n",
      "  copying build/lib/my_model/tests/__init__.py -> build/bdist.macosx-10.9-x86_64/wheel/my_model/tests\n",
      "  copying build/lib/my_model/__init__.py -> build/bdist.macosx-10.9-x86_64/wheel/my_model\n",
      "  copying build/lib/my_model/flow.py -> build/bdist.macosx-10.9-x86_64/wheel/my_model\n",
      "  creating build/bdist.macosx-10.9-x86_64/wheel/my_model/cli\n",
      "  copying build/lib/my_model/cli/plot.py -> build/bdist.macosx-10.9-x86_64/wheel/my_model/cli\n",
      "  copying build/lib/my_model/cli/__init__.py -> build/bdist.macosx-10.9-x86_64/wheel/my_model/cli\n",
      "  copying build/lib/my_model/model.py -> build/bdist.macosx-10.9-x86_64/wheel/my_model\n",
      "  creating build/bdist.macosx-10.9-x86_64/wheel/my_model/files\n",
      "  copying build/lib/my_model/files/__init__.py -> build/bdist.macosx-10.9-x86_64/wheel/my_model/files\n",
      "  copying build/lib/my_model/files/variables.yml -> build/bdist.macosx-10.9-x86_64/wheel/my_model/files\n",
      "  running install_egg_info\n",
      "  Copying my_model.egg-info to build/bdist.macosx-10.9-x86_64/wheel/my_model-0.0.9-py3.9.egg-info\n",
      "  running install_scripts\n",
      "  adding license file \"LICENSE\" (matched pattern \"LICEN[CS]E*\")\n",
      "  creating build/bdist.macosx-10.9-x86_64/wheel/my_model-0.0.9.dist-info/WHEEL\n",
      "  creating '/private/var/folders/nh/g2v_nmtj7t1g94gmjtgjrk3r0000gn/T/pip-wheel-d5849woe/my_model-0.0.9-py3-none-any.whl' and adding 'build/bdist.macosx-10.9-x86_64/wheel' to it\n",
      "  adding 'my_model/__init__.py'\n",
      "  adding 'my_model/_version.py'\n",
      "  adding 'my_model/config.py'\n",
      "  adding 'my_model/flow.py'\n",
      "  adding 'my_model/model.py'\n",
      "  adding 'my_model/cli/__init__.py'\n",
      "  adding 'my_model/cli/plot.py'\n",
      "  adding 'my_model/files/__init__.py'\n",
      "  adding 'my_model/files/variables.yml'\n",
      "  adding 'my_model/tests/__init__.py'\n",
      "  adding 'my_model/tests/test_flow.py'\n",
      "  adding 'my_model-0.0.9.dist-info/LICENSE'\n",
      "  adding 'my_model-0.0.9.dist-info/METADATA'\n",
      "  adding 'my_model-0.0.9.dist-info/WHEEL'\n",
      "  adding 'my_model-0.0.9.dist-info/entry_points.txt'\n",
      "  adding 'my_model-0.0.9.dist-info/top_level.txt'\n",
      "  adding 'my_model-0.0.9.dist-info/RECORD'\n",
      "  removing build/bdist.macosx-10.9-x86_64/wheel\n",
      "INFO:lume_services.environment.solver:Dependency installation complete\n",
      "INFO:lume_services.services.models.db.db:ModelDB inserting: INSERT INTO deployment (version, package_import_name, asset_dir, source, sha256, image, is_live, model_id) VALUES (:version, :package_import_name, :asset_dir, :source, :sha256, :image, :is_live, :model_id)\n",
      "INFO:lume_services.services.models.db.db:Sucessfully executed: INSERT INTO deployment (version, package_import_name, asset_dir, source, sha256, image, is_live, model_id) VALUES (:version, :package_import_name, :asset_dir, :source, :sha256, :image, :is_live, :model_id)\n",
      "INFO:lume_services.services.models.db.db:ModelDB inserting many: ['INSERT INTO deployment_dependencies (name, source, local_source, version, deployment_id, dependency_type_id) VALUES (:name, :source, :local_source, :version, :deployment_id, (SELECT dependency_type.id \\nFROM dependency_type \\nWHERE dependency_type.type = :type_1))', 'INSERT INTO deployment_dependencies (name, source, local_source, version, deployment_id, dependency_type_id) VALUES (:name, :source, :local_source, :version, :deployment_id, (SELECT dependency_type.id \\nFROM dependency_type \\nWHERE dependency_type.type = :type_1))', 'INSERT INTO deployment_dependencies (name, source, local_source, version, deployment_id, dependency_type_id) VALUES (:name, :source, :local_source, :version, :deployment_id, (SELECT dependency_type.id \\nFROM dependency_type \\nWHERE dependency_type.type = :type_1))', 'INSERT INTO deployment_dependencies (name, source, local_source, version, deployment_id, dependency_type_id) VALUES (:name, :source, :local_source, :version, :deployment_id, (SELECT dependency_type.id \\nFROM dependency_type \\nWHERE dependency_type.type = :type_1))', 'INSERT INTO deployment_dependencies (name, source, local_source, version, deployment_id, dependency_type_id) VALUES (:name, :source, :local_source, :version, :deployment_id, (SELECT dependency_type.id \\nFROM dependency_type \\nWHERE dependency_type.type = :type_1))', 'INSERT INTO deployment_dependencies (name, source, local_source, version, deployment_id, dependency_type_id) VALUES (:name, :source, :local_source, :version, :deployment_id, (SELECT dependency_type.id \\nFROM dependency_type \\nWHERE dependency_type.type = :type_1))', 'INSERT INTO deployment_dependencies (name, source, local_source, version, deployment_id, dependency_type_id) VALUES (:name, :source, :local_source, :version, :deployment_id, (SELECT dependency_type.id \\nFROM dependency_type \\nWHERE dependency_type.type = :type_1))', 'INSERT INTO deployment_dependencies (name, source, local_source, version, deployment_id, dependency_type_id) VALUES (:name, :source, :local_source, :version, :deployment_id, (SELECT dependency_type.id \\nFROM dependency_type \\nWHERE dependency_type.type = :type_1))', 'INSERT INTO deployment_dependencies (name, source, local_source, version, deployment_id, dependency_type_id) VALUES (:name, :source, :local_source, :version, :deployment_id, (SELECT dependency_type.id \\nFROM dependency_type \\nWHERE dependency_type.type = :type_1))', 'INSERT INTO deployment_dependencies (name, source, local_source, version, deployment_id, dependency_type_id) VALUES (:name, :source, :local_source, :version, :deployment_id, (SELECT dependency_type.id \\nFROM dependency_type \\nWHERE dependency_type.type = :type_1))', 'INSERT INTO deployment_dependencies (name, source, local_source, version, deployment_id, dependency_type_id) VALUES (:name, :source, :local_source, :version, :deployment_id, (SELECT dependency_type.id \\nFROM dependency_type \\nWHERE dependency_type.type = :type_1))', 'INSERT INTO deployment_dependencies (name, source, local_source, version, deployment_id, dependency_type_id) VALUES (:name, :source, :local_source, :version, :deployment_id, (SELECT dependency_type.id \\nFROM dependency_type \\nWHERE dependency_type.type = :type_1))', 'INSERT INTO deployment_dependencies (name, source, local_source, version, deployment_id, dependency_type_id) VALUES (:name, :source, :local_source, :version, :deployment_id, (SELECT dependency_type.id \\nFROM dependency_type \\nWHERE dependency_type.type = :type_1))', 'INSERT INTO deployment_dependencies (name, source, local_source, version, deployment_id, dependency_type_id) VALUES (:name, :source, :local_source, :version, :deployment_id, (SELECT dependency_type.id \\nFROM dependency_type \\nWHERE dependency_type.type = :type_1))', 'INSERT INTO deployment_dependencies (name, source, local_source, version, deployment_id, dependency_type_id) VALUES (:name, :source, :local_source, :version, :deployment_id, (SELECT dependency_type.id \\nFROM dependency_type \\nWHERE dependency_type.type = :type_1))', 'INSERT INTO deployment_dependencies (name, source, local_source, version, deployment_id, dependency_type_id) VALUES (:name, :source, :local_source, :version, :deployment_id, (SELECT dependency_type.id \\nFROM dependency_type \\nWHERE dependency_type.type = :type_1))', 'INSERT INTO deployment_dependencies (name, source, local_source, version, deployment_id, dependency_type_id) VALUES (:name, :source, :local_source, :version, :deployment_id, (SELECT dependency_type.id \\nFROM dependency_type \\nWHERE dependency_type.type = :type_1))', 'INSERT INTO deployment_dependencies (name, source, local_source, version, deployment_id, dependency_type_id) VALUES (:name, :source, :local_source, :version, :deployment_id, (SELECT dependency_type.id \\nFROM dependency_type \\nWHERE dependency_type.type = :type_1))', 'INSERT INTO deployment_dependencies (name, source, local_source, version, deployment_id, dependency_type_id) VALUES (:name, :source, :local_source, :version, :deployment_id, (SELECT dependency_type.id \\nFROM dependency_type \\nWHERE dependency_type.type = :type_1))', 'INSERT INTO deployment_dependencies (name, source, local_source, version, deployment_id, dependency_type_id) VALUES (:name, :source, :local_source, :version, :deployment_id, (SELECT dependency_type.id \\nFROM dependency_type \\nWHERE dependency_type.type = :type_1))', 'INSERT INTO deployment_dependencies (name, source, local_source, version, deployment_id, dependency_type_id) VALUES (:name, :source, :local_source, :version, :deployment_id, (SELECT dependency_type.id \\nFROM dependency_type \\nWHERE dependency_type.type = :type_1))', 'INSERT INTO deployment_dependencies (name, source, local_source, version, deployment_id, dependency_type_id) VALUES (:name, :source, :local_source, :version, :deployment_id, (SELECT dependency_type.id \\nFROM dependency_type \\nWHERE dependency_type.type = :type_1))', 'INSERT INTO deployment_dependencies (name, source, local_source, version, deployment_id, dependency_type_id) VALUES (:name, :source, :local_source, :version, :deployment_id, (SELECT dependency_type.id \\nFROM dependency_type \\nWHERE dependency_type.type = :type_1))', 'INSERT INTO deployment_dependencies (name, source, local_source, version, deployment_id, dependency_type_id) VALUES (:name, :source, :local_source, :version, :deployment_id, (SELECT dependency_type.id \\nFROM dependency_type \\nWHERE dependency_type.type = :type_1))', 'INSERT INTO deployment_dependencies (name, source, local_source, version, deployment_id, dependency_type_id) VALUES (:name, :source, :local_source, :version, :deployment_id, (SELECT dependency_type.id \\nFROM dependency_type \\nWHERE dependency_type.type = :type_1))', 'INSERT INTO deployment_dependencies (name, source, local_source, version, deployment_id, dependency_type_id) VALUES (:name, :source, :local_source, :version, :deployment_id, (SELECT dependency_type.id \\nFROM dependency_type \\nWHERE dependency_type.type = :type_1))', 'INSERT INTO deployment_dependencies (name, source, local_source, version, deployment_id, dependency_type_id) VALUES (:name, :source, :local_source, :version, :deployment_id, (SELECT dependency_type.id \\nFROM dependency_type \\nWHERE dependency_type.type = :type_1))', 'INSERT INTO deployment_dependencies (name, source, local_source, version, deployment_id, dependency_type_id) VALUES (:name, :source, :local_source, :version, :deployment_id, (SELECT dependency_type.id \\nFROM dependency_type \\nWHERE dependency_type.type = :type_1))', 'INSERT INTO deployment_dependencies (name, source, local_source, version, deployment_id, dependency_type_id) VALUES (:name, :source, :local_source, :version, :deployment_id, (SELECT dependency_type.id \\nFROM dependency_type \\nWHERE dependency_type.type = :type_1))', 'INSERT INTO deployment_dependencies (name, source, local_source, version, deployment_id, dependency_type_id) VALUES (:name, :source, :local_source, :version, :deployment_id, (SELECT dependency_type.id \\nFROM dependency_type \\nWHERE dependency_type.type = :type_1))', 'INSERT INTO deployment_dependencies (name, source, local_source, version, deployment_id, dependency_type_id) VALUES (:name, :source, :local_source, :version, :deployment_id, (SELECT dependency_type.id \\nFROM dependency_type \\nWHERE dependency_type.type = :type_1))', 'INSERT INTO deployment_dependencies (name, source, local_source, version, deployment_id, dependency_type_id) VALUES (:name, :source, :local_source, :version, :deployment_id, (SELECT dependency_type.id \\nFROM dependency_type \\nWHERE dependency_type.type = :type_1))', 'INSERT INTO deployment_dependencies (name, source, local_source, version, deployment_id, dependency_type_id) VALUES (:name, :source, :local_source, :version, :deployment_id, (SELECT dependency_type.id \\nFROM dependency_type \\nWHERE dependency_type.type = :type_1))', 'INSERT INTO deployment_dependencies (name, source, local_source, version, deployment_id, dependency_type_id) VALUES (:name, :source, :local_source, :version, :deployment_id, (SELECT dependency_type.id \\nFROM dependency_type \\nWHERE dependency_type.type = :type_1))', 'INSERT INTO deployment_dependencies (name, source, local_source, version, deployment_id, dependency_type_id) VALUES (:name, :source, :local_source, :version, :deployment_id, (SELECT dependency_type.id \\nFROM dependency_type \\nWHERE dependency_type.type = :type_1))', 'INSERT INTO deployment_dependencies (name, source, local_source, version, deployment_id, dependency_type_id) VALUES (:name, :source, :local_source, :version, :deployment_id, (SELECT dependency_type.id \\nFROM dependency_type \\nWHERE dependency_type.type = :type_1))', 'INSERT INTO deployment_dependencies (name, source, local_source, version, deployment_id, dependency_type_id) VALUES (:name, :source, :local_source, :version, :deployment_id, (SELECT dependency_type.id \\nFROM dependency_type \\nWHERE dependency_type.type = :type_1))', 'INSERT INTO deployment_dependencies (name, source, local_source, version, deployment_id, dependency_type_id) VALUES (:name, :source, :local_source, :version, :deployment_id, (SELECT dependency_type.id \\nFROM dependency_type \\nWHERE dependency_type.type = :type_1))', 'INSERT INTO deployment_dependencies (name, source, local_source, version, deployment_id, dependency_type_id) VALUES (:name, :source, :local_source, :version, :deployment_id, (SELECT dependency_type.id \\nFROM dependency_type \\nWHERE dependency_type.type = :type_1))', 'INSERT INTO deployment_dependencies (name, source, local_source, version, deployment_id, dependency_type_id) VALUES (:name, :source, :local_source, :version, :deployment_id, (SELECT dependency_type.id \\nFROM dependency_type \\nWHERE dependency_type.type = :type_1))', 'INSERT INTO deployment_dependencies (name, source, local_source, version, deployment_id, dependency_type_id) VALUES (:name, :source, :local_source, :version, :deployment_id, (SELECT dependency_type.id \\nFROM dependency_type \\nWHERE dependency_type.type = :type_1))', 'INSERT INTO deployment_dependencies (name, source, local_source, version, deployment_id, dependency_type_id) VALUES (:name, :source, :local_source, :version, :deployment_id, (SELECT dependency_type.id \\nFROM dependency_type \\nWHERE dependency_type.type = :type_1))', 'INSERT INTO deployment_dependencies (name, source, local_source, version, deployment_id, dependency_type_id) VALUES (:name, :source, :local_source, :version, :deployment_id, (SELECT dependency_type.id \\nFROM dependency_type \\nWHERE dependency_type.type = :type_1))', 'INSERT INTO deployment_dependencies (name, source, local_source, version, deployment_id, dependency_type_id) VALUES (:name, :source, :local_source, :version, :deployment_id, (SELECT dependency_type.id \\nFROM dependency_type \\nWHERE dependency_type.type = :type_1))', 'INSERT INTO deployment_dependencies (name, source, local_source, version, deployment_id, dependency_type_id) VALUES (:name, :source, :local_source, :version, :deployment_id, (SELECT dependency_type.id \\nFROM dependency_type \\nWHERE dependency_type.type = :type_1))', 'INSERT INTO deployment_dependencies (name, source, local_source, version, deployment_id, dependency_type_id) VALUES (:name, :source, :local_source, :version, :deployment_id, (SELECT dependency_type.id \\nFROM dependency_type \\nWHERE dependency_type.type = :type_1))', 'INSERT INTO deployment_dependencies (name, source, local_source, version, deployment_id, dependency_type_id) VALUES (:name, :source, :local_source, :version, :deployment_id, (SELECT dependency_type.id \\nFROM dependency_type \\nWHERE dependency_type.type = :type_1))', 'INSERT INTO deployment_dependencies (name, source, local_source, version, deployment_id, dependency_type_id) VALUES (:name, :source, :local_source, :version, :deployment_id, (SELECT dependency_type.id \\nFROM dependency_type \\nWHERE dependency_type.type = :type_1))', 'INSERT INTO deployment_dependencies (name, source, local_source, version, deployment_id, dependency_type_id) VALUES (:name, :source, :local_source, :version, :deployment_id, (SELECT dependency_type.id \\nFROM dependency_type \\nWHERE dependency_type.type = :type_1))', 'INSERT INTO deployment_dependencies (name, source, local_source, version, deployment_id, dependency_type_id) VALUES (:name, :source, :local_source, :version, :deployment_id, (SELECT dependency_type.id \\nFROM dependency_type \\nWHERE dependency_type.type = :type_1))', 'INSERT INTO deployment_dependencies (name, source, local_source, version, deployment_id, dependency_type_id) VALUES (:name, :source, :local_source, :version, :deployment_id, (SELECT dependency_type.id \\nFROM dependency_type \\nWHERE dependency_type.type = :type_1))', 'INSERT INTO deployment_dependencies (name, source, local_source, version, deployment_id, dependency_type_id) VALUES (:name, :source, :local_source, :version, :deployment_id, (SELECT dependency_type.id \\nFROM dependency_type \\nWHERE dependency_type.type = :type_1))', 'INSERT INTO deployment_dependencies (name, source, local_source, version, deployment_id, dependency_type_id) VALUES (:name, :source, :local_source, :version, :deployment_id, (SELECT dependency_type.id \\nFROM dependency_type \\nWHERE dependency_type.type = :type_1))', 'INSERT INTO deployment_dependencies (name, source, local_source, version, deployment_id, dependency_type_id) VALUES (:name, :source, :local_source, :version, :deployment_id, (SELECT dependency_type.id \\nFROM dependency_type \\nWHERE dependency_type.type = :type_1))', 'INSERT INTO deployment_dependencies (name, source, local_source, version, deployment_id, dependency_type_id) VALUES (:name, :source, :local_source, :version, :deployment_id, (SELECT dependency_type.id \\nFROM dependency_type \\nWHERE dependency_type.type = :type_1))', 'INSERT INTO deployment_dependencies (name, source, local_source, version, deployment_id, dependency_type_id) VALUES (:name, :source, :local_source, :version, :deployment_id, (SELECT dependency_type.id \\nFROM dependency_type \\nWHERE dependency_type.type = :type_1))', 'INSERT INTO deployment_dependencies (name, source, local_source, version, deployment_id, dependency_type_id) VALUES (:name, :source, :local_source, :version, :deployment_id, (SELECT dependency_type.id \\nFROM dependency_type \\nWHERE dependency_type.type = :type_1))', 'INSERT INTO deployment_dependencies (name, source, local_source, version, deployment_id, dependency_type_id) VALUES (:name, :source, :local_source, :version, :deployment_id, (SELECT dependency_type.id \\nFROM dependency_type \\nWHERE dependency_type.type = :type_1))', 'INSERT INTO deployment_dependencies (name, source, local_source, version, deployment_id, dependency_type_id) VALUES (:name, :source, :local_source, :version, :deployment_id, (SELECT dependency_type.id \\nFROM dependency_type \\nWHERE dependency_type.type = :type_1))', 'INSERT INTO deployment_dependencies (name, source, local_source, version, deployment_id, dependency_type_id) VALUES (:name, :source, :local_source, :version, :deployment_id, (SELECT dependency_type.id \\nFROM dependency_type \\nWHERE dependency_type.type = :type_1))', 'INSERT INTO deployment_dependencies (name, source, local_source, version, deployment_id, dependency_type_id) VALUES (:name, :source, :local_source, :version, :deployment_id, (SELECT dependency_type.id \\nFROM dependency_type \\nWHERE dependency_type.type = :type_1))', 'INSERT INTO deployment_dependencies (name, source, local_source, version, deployment_id, dependency_type_id) VALUES (:name, :source, :local_source, :version, :deployment_id, (SELECT dependency_type.id \\nFROM dependency_type \\nWHERE dependency_type.type = :type_1))', 'INSERT INTO deployment_dependencies (name, source, local_source, version, deployment_id, dependency_type_id) VALUES (:name, :source, :local_source, :version, :deployment_id, (SELECT dependency_type.id \\nFROM dependency_type \\nWHERE dependency_type.type = :type_1))', 'INSERT INTO deployment_dependencies (name, source, local_source, version, deployment_id, dependency_type_id) VALUES (:name, :source, :local_source, :version, :deployment_id, (SELECT dependency_type.id \\nFROM dependency_type \\nWHERE dependency_type.type = :type_1))', 'INSERT INTO deployment_dependencies (name, source, local_source, version, deployment_id, dependency_type_id) VALUES (:name, :source, :local_source, :version, :deployment_id, (SELECT dependency_type.id \\nFROM dependency_type \\nWHERE dependency_type.type = :type_1))', 'INSERT INTO deployment_dependencies (name, source, local_source, version, deployment_id, dependency_type_id) VALUES (:name, :source, :local_source, :version, :deployment_id, (SELECT dependency_type.id \\nFROM dependency_type \\nWHERE dependency_type.type = :type_1))', 'INSERT INTO deployment_dependencies (name, source, local_source, version, deployment_id, dependency_type_id) VALUES (:name, :source, :local_source, :version, :deployment_id, (SELECT dependency_type.id \\nFROM dependency_type \\nWHERE dependency_type.type = :type_1))', 'INSERT INTO deployment_dependencies (name, source, local_source, version, deployment_id, dependency_type_id) VALUES (:name, :source, :local_source, :version, :deployment_id, (SELECT dependency_type.id \\nFROM dependency_type \\nWHERE dependency_type.type = :type_1))', 'INSERT INTO deployment_dependencies (name, source, local_source, version, deployment_id, dependency_type_id) VALUES (:name, :source, :local_source, :version, :deployment_id, (SELECT dependency_type.id \\nFROM dependency_type \\nWHERE dependency_type.type = :type_1))', 'INSERT INTO deployment_dependencies (name, source, local_source, version, deployment_id, dependency_type_id) VALUES (:name, :source, :local_source, :version, :deployment_id, (SELECT dependency_type.id \\nFROM dependency_type \\nWHERE dependency_type.type = :type_1))', 'INSERT INTO deployment_dependencies (name, source, local_source, version, deployment_id, dependency_type_id) VALUES (:name, :source, :local_source, :version, :deployment_id, (SELECT dependency_type.id \\nFROM dependency_type \\nWHERE dependency_type.type = :type_1))', 'INSERT INTO deployment_dependencies (name, source, local_source, version, deployment_id, dependency_type_id) VALUES (:name, :source, :local_source, :version, :deployment_id, (SELECT dependency_type.id \\nFROM dependency_type \\nWHERE dependency_type.type = :type_1))', 'INSERT INTO deployment_dependencies (name, source, local_source, version, deployment_id, dependency_type_id) VALUES (:name, :source, :local_source, :version, :deployment_id, (SELECT dependency_type.id \\nFROM dependency_type \\nWHERE dependency_type.type = :type_1))', 'INSERT INTO deployment_dependencies (name, source, local_source, version, deployment_id, dependency_type_id) VALUES (:name, :source, :local_source, :version, :deployment_id, (SELECT dependency_type.id \\nFROM dependency_type \\nWHERE dependency_type.type = :type_1))', 'INSERT INTO deployment_dependencies (name, source, local_source, version, deployment_id, dependency_type_id) VALUES (:name, :source, :local_source, :version, :deployment_id, (SELECT dependency_type.id \\nFROM dependency_type \\nWHERE dependency_type.type = :type_1))', 'INSERT INTO deployment_dependencies (name, source, local_source, version, deployment_id, dependency_type_id) VALUES (:name, :source, :local_source, :version, :deployment_id, (SELECT dependency_type.id \\nFROM dependency_type \\nWHERE dependency_type.type = :type_1))', 'INSERT INTO deployment_dependencies (name, source, local_source, version, deployment_id, dependency_type_id) VALUES (:name, :source, :local_source, :version, :deployment_id, (SELECT dependency_type.id \\nFROM dependency_type \\nWHERE dependency_type.type = :type_1))', 'INSERT INTO deployment_dependencies (name, source, local_source, version, deployment_id, dependency_type_id) VALUES (:name, :source, :local_source, :version, :deployment_id, (SELECT dependency_type.id \\nFROM dependency_type \\nWHERE dependency_type.type = :type_1))', 'INSERT INTO deployment_dependencies (name, source, local_source, version, deployment_id, dependency_type_id) VALUES (:name, :source, :local_source, :version, :deployment_id, (SELECT dependency_type.id \\nFROM dependency_type \\nWHERE dependency_type.type = :type_1))', 'INSERT INTO deployment_dependencies (name, source, local_source, version, deployment_id, dependency_type_id) VALUES (:name, :source, :local_source, :version, :deployment_id, (SELECT dependency_type.id \\nFROM dependency_type \\nWHERE dependency_type.type = :type_1))', 'INSERT INTO deployment_dependencies (name, source, local_source, version, deployment_id, dependency_type_id) VALUES (:name, :source, :local_source, :version, :deployment_id, (SELECT dependency_type.id \\nFROM dependency_type \\nWHERE dependency_type.type = :type_1))', 'INSERT INTO deployment_dependencies (name, source, local_source, version, deployment_id, dependency_type_id) VALUES (:name, :source, :local_source, :version, :deployment_id, (SELECT dependency_type.id \\nFROM dependency_type \\nWHERE dependency_type.type = :type_1))', 'INSERT INTO deployment_dependencies (name, source, local_source, version, deployment_id, dependency_type_id) VALUES (:name, :source, :local_source, :version, :deployment_id, (SELECT dependency_type.id \\nFROM dependency_type \\nWHERE dependency_type.type = :type_1))', 'INSERT INTO deployment_dependencies (name, source, local_source, version, deployment_id, dependency_type_id) VALUES (:name, :source, :local_source, :version, :deployment_id, (SELECT dependency_type.id \\nFROM dependency_type \\nWHERE dependency_type.type = :type_1))', 'INSERT INTO deployment_dependencies (name, source, local_source, version, deployment_id, dependency_type_id) VALUES (:name, :source, :local_source, :version, :deployment_id, (SELECT dependency_type.id \\nFROM dependency_type \\nWHERE dependency_type.type = :type_1))', 'INSERT INTO deployment_dependencies (name, source, local_source, version, deployment_id, dependency_type_id) VALUES (:name, :source, :local_source, :version, :deployment_id, (SELECT dependency_type.id \\nFROM dependency_type \\nWHERE dependency_type.type = :type_1))', 'INSERT INTO deployment_dependencies (name, source, local_source, version, deployment_id, dependency_type_id) VALUES (:name, :source, :local_source, :version, :deployment_id, (SELECT dependency_type.id \\nFROM dependency_type \\nWHERE dependency_type.type = :type_1))', 'INSERT INTO deployment_dependencies (name, source, local_source, version, deployment_id, dependency_type_id) VALUES (:name, :source, :local_source, :version, :deployment_id, (SELECT dependency_type.id \\nFROM dependency_type \\nWHERE dependency_type.type = :type_1))', 'INSERT INTO deployment_dependencies (name, source, local_source, version, deployment_id, dependency_type_id) VALUES (:name, :source, :local_source, :version, :deployment_id, (SELECT dependency_type.id \\nFROM dependency_type \\nWHERE dependency_type.type = :type_1))', 'INSERT INTO deployment_dependencies (name, source, local_source, version, deployment_id, dependency_type_id) VALUES (:name, :source, :local_source, :version, :deployment_id, (SELECT dependency_type.id \\nFROM dependency_type \\nWHERE dependency_type.type = :type_1))', 'INSERT INTO deployment_dependencies (name, source, local_source, version, deployment_id, dependency_type_id) VALUES (:name, :source, :local_source, :version, :deployment_id, (SELECT dependency_type.id \\nFROM dependency_type \\nWHERE dependency_type.type = :type_1))', 'INSERT INTO deployment_dependencies (name, source, local_source, version, deployment_id, dependency_type_id) VALUES (:name, :source, :local_source, :version, :deployment_id, (SELECT dependency_type.id \\nFROM dependency_type \\nWHERE dependency_type.type = :type_1))', 'INSERT INTO deployment_dependencies (name, source, local_source, version, deployment_id, dependency_type_id) VALUES (:name, :source, :local_source, :version, :deployment_id, (SELECT dependency_type.id \\nFROM dependency_type \\nWHERE dependency_type.type = :type_1))', 'INSERT INTO deployment_dependencies (name, source, local_source, version, deployment_id, dependency_type_id) VALUES (:name, :source, :local_source, :version, :deployment_id, (SELECT dependency_type.id \\nFROM dependency_type \\nWHERE dependency_type.type = :type_1))', 'INSERT INTO deployment_dependencies (name, source, local_source, version, deployment_id, dependency_type_id) VALUES (:name, :source, :local_source, :version, :deployment_id, (SELECT dependency_type.id \\nFROM dependency_type \\nWHERE dependency_type.type = :type_1))', 'INSERT INTO deployment_dependencies (name, source, local_source, version, deployment_id, dependency_type_id) VALUES (:name, :source, :local_source, :version, :deployment_id, (SELECT dependency_type.id \\nFROM dependency_type \\nWHERE dependency_type.type = :type_1))', 'INSERT INTO deployment_dependencies (name, source, local_source, version, deployment_id, dependency_type_id) VALUES (:name, :source, :local_source, :version, :deployment_id, (SELECT dependency_type.id \\nFROM dependency_type \\nWHERE dependency_type.type = :type_1))', 'INSERT INTO deployment_dependencies (name, source, local_source, version, deployment_id, dependency_type_id) VALUES (:name, :source, :local_source, :version, :deployment_id, (SELECT dependency_type.id \\nFROM dependency_type \\nWHERE dependency_type.type = :type_1))', 'INSERT INTO deployment_dependencies (name, source, local_source, version, deployment_id, dependency_type_id) VALUES (:name, :source, :local_source, :version, :deployment_id, (SELECT dependency_type.id \\nFROM dependency_type \\nWHERE dependency_type.type = :type_1))', 'INSERT INTO deployment_dependencies (name, source, local_source, version, deployment_id, dependency_type_id) VALUES (:name, :source, :local_source, :version, :deployment_id, (SELECT dependency_type.id \\nFROM dependency_type \\nWHERE dependency_type.type = :type_1))', 'INSERT INTO deployment_dependencies (name, source, local_source, version, deployment_id, dependency_type_id) VALUES (:name, :source, :local_source, :version, :deployment_id, (SELECT dependency_type.id \\nFROM dependency_type \\nWHERE dependency_type.type = :type_1))', 'INSERT INTO deployment_dependencies (name, source, local_source, version, deployment_id, dependency_type_id) VALUES (:name, :source, :local_source, :version, :deployment_id, (SELECT dependency_type.id \\nFROM dependency_type \\nWHERE dependency_type.type = :type_1))', 'INSERT INTO deployment_dependencies (name, source, local_source, version, deployment_id, dependency_type_id) VALUES (:name, :source, :local_source, :version, :deployment_id, (SELECT dependency_type.id \\nFROM dependency_type \\nWHERE dependency_type.type = :type_1))', 'INSERT INTO deployment_dependencies (name, source, local_source, version, deployment_id, dependency_type_id) VALUES (:name, :source, :local_source, :version, :deployment_id, (SELECT dependency_type.id \\nFROM dependency_type \\nWHERE dependency_type.type = :type_1))', 'INSERT INTO deployment_dependencies (name, source, local_source, version, deployment_id, dependency_type_id) VALUES (:name, :source, :local_source, :version, :deployment_id, (SELECT dependency_type.id \\nFROM dependency_type \\nWHERE dependency_type.type = :type_1))', 'INSERT INTO deployment_dependencies (name, source, local_source, version, deployment_id, dependency_type_id) VALUES (:name, :source, :local_source, :version, :deployment_id, (SELECT dependency_type.id \\nFROM dependency_type \\nWHERE dependency_type.type = :type_1))', 'INSERT INTO deployment_dependencies (name, source, local_source, version, deployment_id, dependency_type_id) VALUES (:name, :source, :local_source, :version, :deployment_id, (SELECT dependency_type.id \\nFROM dependency_type \\nWHERE dependency_type.type = :type_1))', 'INSERT INTO deployment_dependencies (name, source, local_source, version, deployment_id, dependency_type_id) VALUES (:name, :source, :local_source, :version, :deployment_id, (SELECT dependency_type.id \\nFROM dependency_type \\nWHERE dependency_type.type = :type_1))', 'INSERT INTO deployment_dependencies (name, source, local_source, version, deployment_id, dependency_type_id) VALUES (:name, :source, :local_source, :version, :deployment_id, (SELECT dependency_type.id \\nFROM dependency_type \\nWHERE dependency_type.type = :type_1))', 'INSERT INTO deployment_dependencies (name, source, local_source, version, deployment_id, dependency_type_id) VALUES (:name, :source, :local_source, :version, :deployment_id, (SELECT dependency_type.id \\nFROM dependency_type \\nWHERE dependency_type.type = :type_1))', 'INSERT INTO deployment_dependencies (name, source, local_source, version, deployment_id, dependency_type_id) VALUES (:name, :source, :local_source, :version, :deployment_id, (SELECT dependency_type.id \\nFROM dependency_type \\nWHERE dependency_type.type = :type_1))', 'INSERT INTO deployment_dependencies (name, source, local_source, version, deployment_id, dependency_type_id) VALUES (:name, :source, :local_source, :version, :deployment_id, (SELECT dependency_type.id \\nFROM dependency_type \\nWHERE dependency_type.type = :type_1))', 'INSERT INTO deployment_dependencies (name, source, local_source, version, deployment_id, dependency_type_id) VALUES (:name, :source, :local_source, :version, :deployment_id, (SELECT dependency_type.id \\nFROM dependency_type \\nWHERE dependency_type.type = :type_1))', 'INSERT INTO deployment_dependencies (name, source, local_source, version, deployment_id, dependency_type_id) VALUES (:name, :source, :local_source, :version, :deployment_id, (SELECT dependency_type.id \\nFROM dependency_type \\nWHERE dependency_type.type = :type_1))', 'INSERT INTO deployment_dependencies (name, source, local_source, version, deployment_id, dependency_type_id) VALUES (:name, :source, :local_source, :version, :deployment_id, (SELECT dependency_type.id \\nFROM dependency_type \\nWHERE dependency_type.type = :type_1))', 'INSERT INTO deployment_dependencies (name, source, local_source, version, deployment_id, dependency_type_id) VALUES (:name, :source, :local_source, :version, :deployment_id, (SELECT dependency_type.id \\nFROM dependency_type \\nWHERE dependency_type.type = :type_1))', 'INSERT INTO deployment_dependencies (name, source, local_source, version, deployment_id, dependency_type_id) VALUES (:name, :source, :local_source, :version, :deployment_id, (SELECT dependency_type.id \\nFROM dependency_type \\nWHERE dependency_type.type = :type_1))', 'INSERT INTO deployment_dependencies (name, source, local_source, version, deployment_id, dependency_type_id) VALUES (:name, :source, :local_source, :version, :deployment_id, (SELECT dependency_type.id \\nFROM dependency_type \\nWHERE dependency_type.type = :type_1))', 'INSERT INTO deployment_dependencies (name, source, local_source, version, deployment_id, dependency_type_id) VALUES (:name, :source, :local_source, :version, :deployment_id, (SELECT dependency_type.id \\nFROM dependency_type \\nWHERE dependency_type.type = :type_1))', 'INSERT INTO deployment_dependencies (name, source, local_source, version, deployment_id, dependency_type_id) VALUES (:name, :source, :local_source, :version, :deployment_id, (SELECT dependency_type.id \\nFROM dependency_type \\nWHERE dependency_type.type = :type_1))', 'INSERT INTO deployment_dependencies (name, source, local_source, version, deployment_id, dependency_type_id) VALUES (:name, :source, :local_source, :version, :deployment_id, (SELECT dependency_type.id \\nFROM dependency_type \\nWHERE dependency_type.type = :type_1))', 'INSERT INTO deployment_dependencies (name, source, local_source, version, deployment_id, dependency_type_id) VALUES (:name, :source, :local_source, :version, :deployment_id, (SELECT dependency_type.id \\nFROM dependency_type \\nWHERE dependency_type.type = :type_1))', 'INSERT INTO deployment_dependencies (name, source, local_source, version, deployment_id, dependency_type_id) VALUES (:name, :source, :local_source, :version, :deployment_id, (SELECT dependency_type.id \\nFROM dependency_type \\nWHERE dependency_type.type = :type_1))', 'INSERT INTO deployment_dependencies (name, source, local_source, version, deployment_id, dependency_type_id) VALUES (:name, :source, :local_source, :version, :deployment_id, (SELECT dependency_type.id \\nFROM dependency_type \\nWHERE dependency_type.type = :type_1))', 'INSERT INTO deployment_dependencies (name, source, local_source, version, deployment_id, dependency_type_id) VALUES (:name, :source, :local_source, :version, :deployment_id, (SELECT dependency_type.id \\nFROM dependency_type \\nWHERE dependency_type.type = :type_1))', 'INSERT INTO deployment_dependencies (name, source, local_source, version, deployment_id, dependency_type_id) VALUES (:name, :source, :local_source, :version, :deployment_id, (SELECT dependency_type.id \\nFROM dependency_type \\nWHERE dependency_type.type = :type_1))', 'INSERT INTO deployment_dependencies (name, source, local_source, version, deployment_id, dependency_type_id) VALUES (:name, :source, :local_source, :version, :deployment_id, (SELECT dependency_type.id \\nFROM dependency_type \\nWHERE dependency_type.type = :type_1))', 'INSERT INTO deployment_dependencies (name, source, local_source, version, deployment_id, dependency_type_id) VALUES (:name, :source, :local_source, :version, :deployment_id, (SELECT dependency_type.id \\nFROM dependency_type \\nWHERE dependency_type.type = :type_1))', 'INSERT INTO deployment_dependencies (name, source, local_source, version, deployment_id, dependency_type_id) VALUES (:name, :source, :local_source, :version, :deployment_id, (SELECT dependency_type.id \\nFROM dependency_type \\nWHERE dependency_type.type = :type_1))', 'INSERT INTO deployment_dependencies (name, source, local_source, version, deployment_id, dependency_type_id) VALUES (:name, :source, :local_source, :version, :deployment_id, (SELECT dependency_type.id \\nFROM dependency_type \\nWHERE dependency_type.type = :type_1))', 'INSERT INTO deployment_dependencies (name, source, local_source, version, deployment_id, dependency_type_id) VALUES (:name, :source, :local_source, :version, :deployment_id, (SELECT dependency_type.id \\nFROM dependency_type \\nWHERE dependency_type.type = :type_1))', 'INSERT INTO deployment_dependencies (name, source, local_source, version, deployment_id, dependency_type_id) VALUES (:name, :source, :local_source, :version, :deployment_id, (SELECT dependency_type.id \\nFROM dependency_type \\nWHERE dependency_type.type = :type_1))', 'INSERT INTO deployment_dependencies (name, source, local_source, version, deployment_id, dependency_type_id) VALUES (:name, :source, :local_source, :version, :deployment_id, (SELECT dependency_type.id \\nFROM dependency_type \\nWHERE dependency_type.type = :type_1))', 'INSERT INTO deployment_dependencies (name, source, local_source, version, deployment_id, dependency_type_id) VALUES (:name, :source, :local_source, :version, :deployment_id, (SELECT dependency_type.id \\nFROM dependency_type \\nWHERE dependency_type.type = :type_1))', 'INSERT INTO deployment_dependencies (name, source, local_source, version, deployment_id, dependency_type_id) VALUES (:name, :source, :local_source, :version, :deployment_id, (SELECT dependency_type.id \\nFROM dependency_type \\nWHERE dependency_type.type = :type_1))', 'INSERT INTO deployment_dependencies (name, source, local_source, version, deployment_id, dependency_type_id) VALUES (:name, :source, :local_source, :version, :deployment_id, (SELECT dependency_type.id \\nFROM dependency_type \\nWHERE dependency_type.type = :type_1))', 'INSERT INTO deployment_dependencies (name, source, local_source, version, deployment_id, dependency_type_id) VALUES (:name, :source, :local_source, :version, :deployment_id, (SELECT dependency_type.id \\nFROM dependency_type \\nWHERE dependency_type.type = :type_1))', 'INSERT INTO deployment_dependencies (name, source, local_source, version, deployment_id, dependency_type_id) VALUES (:name, :source, :local_source, :version, :deployment_id, (SELECT dependency_type.id \\nFROM dependency_type \\nWHERE dependency_type.type = :type_1))', 'INSERT INTO deployment_dependencies (name, source, local_source, version, deployment_id, dependency_type_id) VALUES (:name, :source, :local_source, :version, :deployment_id, (SELECT dependency_type.id \\nFROM dependency_type \\nWHERE dependency_type.type = :type_1))', 'INSERT INTO deployment_dependencies (name, source, local_source, version, deployment_id, dependency_type_id) VALUES (:name, :source, :local_source, :version, :deployment_id, (SELECT dependency_type.id \\nFROM dependency_type \\nWHERE dependency_type.type = :type_1))', 'INSERT INTO deployment_dependencies (name, source, local_source, version, deployment_id, dependency_type_id) VALUES (:name, :source, :local_source, :version, :deployment_id, (SELECT dependency_type.id \\nFROM dependency_type \\nWHERE dependency_type.type = :type_1))', 'INSERT INTO deployment_dependencies (name, source, local_source, version, deployment_id, dependency_type_id) VALUES (:name, :source, :local_source, :version, :deployment_id, (SELECT dependency_type.id \\nFROM dependency_type \\nWHERE dependency_type.type = :type_1))', 'INSERT INTO deployment_dependencies (name, source, local_source, version, deployment_id, dependency_type_id) VALUES (:name, :source, :local_source, :version, :deployment_id, (SELECT dependency_type.id \\nFROM dependency_type \\nWHERE dependency_type.type = :type_1))', 'INSERT INTO deployment_dependencies (name, source, local_source, version, deployment_id, dependency_type_id) VALUES (:name, :source, :local_source, :version, :deployment_id, (SELECT dependency_type.id \\nFROM dependency_type \\nWHERE dependency_type.type = :type_1))', 'INSERT INTO deployment_dependencies (name, source, local_source, version, deployment_id, dependency_type_id) VALUES (:name, :source, :local_source, :version, :deployment_id, (SELECT dependency_type.id \\nFROM dependency_type \\nWHERE dependency_type.type = :type_1))', 'INSERT INTO deployment_dependencies (name, source, local_source, version, deployment_id, dependency_type_id) VALUES (:name, :source, :local_source, :version, :deployment_id, (SELECT dependency_type.id \\nFROM dependency_type \\nWHERE dependency_type.type = :type_1))', 'INSERT INTO deployment_dependencies (name, source, local_source, version, deployment_id, dependency_type_id) VALUES (:name, :source, :local_source, :version, :deployment_id, (SELECT dependency_type.id \\nFROM dependency_type \\nWHERE dependency_type.type = :type_1))', 'INSERT INTO deployment_dependencies (name, source, local_source, version, deployment_id, dependency_type_id) VALUES (:name, :source, :local_source, :version, :deployment_id, (SELECT dependency_type.id \\nFROM dependency_type \\nWHERE dependency_type.type = :type_1))', 'INSERT INTO deployment_dependencies (name, source, local_source, version, deployment_id, dependency_type_id) VALUES (:name, :source, :local_source, :version, :deployment_id, (SELECT dependency_type.id \\nFROM dependency_type \\nWHERE dependency_type.type = :type_1))', 'INSERT INTO deployment_dependencies (name, source, local_source, version, deployment_id, dependency_type_id) VALUES (:name, :source, :local_source, :version, :deployment_id, (SELECT dependency_type.id \\nFROM dependency_type \\nWHERE dependency_type.type = :type_1))', 'INSERT INTO deployment_dependencies (name, source, local_source, version, deployment_id, dependency_type_id) VALUES (:name, :source, :local_source, :version, :deployment_id, (SELECT dependency_type.id \\nFROM dependency_type \\nWHERE dependency_type.type = :type_1))', 'INSERT INTO deployment_dependencies (name, source, local_source, version, deployment_id, dependency_type_id) VALUES (:name, :source, :local_source, :version, :deployment_id, (SELECT dependency_type.id \\nFROM dependency_type \\nWHERE dependency_type.type = :type_1))', 'INSERT INTO deployment_dependencies (name, source, local_source, version, deployment_id, dependency_type_id) VALUES (:name, :source, :local_source, :version, :deployment_id, (SELECT dependency_type.id \\nFROM dependency_type \\nWHERE dependency_type.type = :type_1))', 'INSERT INTO deployment_dependencies (name, source, local_source, version, deployment_id, dependency_type_id) VALUES (:name, :source, :local_source, :version, :deployment_id, (SELECT dependency_type.id \\nFROM dependency_type \\nWHERE dependency_type.type = :type_1))', 'INSERT INTO deployment_dependencies (name, source, local_source, version, deployment_id, dependency_type_id) VALUES (:name, :source, :local_source, :version, :deployment_id, (SELECT dependency_type.id \\nFROM dependency_type \\nWHERE dependency_type.type = :type_1))', 'INSERT INTO deployment_dependencies (name, source, local_source, version, deployment_id, dependency_type_id) VALUES (:name, :source, :local_source, :version, :deployment_id, (SELECT dependency_type.id \\nFROM dependency_type \\nWHERE dependency_type.type = :type_1))', 'INSERT INTO deployment_dependencies (name, source, local_source, version, deployment_id, dependency_type_id) VALUES (:name, :source, :local_source, :version, :deployment_id, (SELECT dependency_type.id \\nFROM dependency_type \\nWHERE dependency_type.type = :type_1))', 'INSERT INTO deployment_dependencies (name, source, local_source, version, deployment_id, dependency_type_id) VALUES (:name, :source, :local_source, :version, :deployment_id, (SELECT dependency_type.id \\nFROM dependency_type \\nWHERE dependency_type.type = :type_1))', 'INSERT INTO deployment_dependencies (name, source, local_source, version, deployment_id, dependency_type_id) VALUES (:name, :source, :local_source, :version, :deployment_id, (SELECT dependency_type.id \\nFROM dependency_type \\nWHERE dependency_type.type = :type_1))', 'INSERT INTO deployment_dependencies (name, source, local_source, version, deployment_id, dependency_type_id) VALUES (:name, :source, :local_source, :version, :deployment_id, (SELECT dependency_type.id \\nFROM dependency_type \\nWHERE dependency_type.type = :type_1))', 'INSERT INTO deployment_dependencies (name, source, local_source, version, deployment_id, dependency_type_id) VALUES (:name, :source, :local_source, :version, :deployment_id, (SELECT dependency_type.id \\nFROM dependency_type \\nWHERE dependency_type.type = :type_1))', 'INSERT INTO deployment_dependencies (name, source, local_source, version, deployment_id, dependency_type_id) VALUES (:name, :source, :local_source, :version, :deployment_id, (SELECT dependency_type.id \\nFROM dependency_type \\nWHERE dependency_type.type = :type_1))', 'INSERT INTO deployment_dependencies (name, source, local_source, version, deployment_id, dependency_type_id) VALUES (:name, :source, :local_source, :version, :deployment_id, (SELECT dependency_type.id \\nFROM dependency_type \\nWHERE dependency_type.type = :type_1))', 'INSERT INTO deployment_dependencies (name, source, local_source, version, deployment_id, dependency_type_id) VALUES (:name, :source, :local_source, :version, :deployment_id, (SELECT dependency_type.id \\nFROM dependency_type \\nWHERE dependency_type.type = :type_1))', 'INSERT INTO deployment_dependencies (name, source, local_source, version, deployment_id, dependency_type_id) VALUES (:name, :source, :local_source, :version, :deployment_id, (SELECT dependency_type.id \\nFROM dependency_type \\nWHERE dependency_type.type = :type_1))', 'INSERT INTO deployment_dependencies (name, source, local_source, version, deployment_id, dependency_type_id) VALUES (:name, :source, :local_source, :version, :deployment_id, (SELECT dependency_type.id \\nFROM dependency_type \\nWHERE dependency_type.type = :type_1))', 'INSERT INTO deployment_dependencies (name, source, local_source, version, deployment_id, dependency_type_id) VALUES (:name, :source, :local_source, :version, :deployment_id, (SELECT dependency_type.id \\nFROM dependency_type \\nWHERE dependency_type.type = :type_1))', 'INSERT INTO deployment_dependencies (name, source, local_source, version, deployment_id, dependency_type_id) VALUES (:name, :source, :local_source, :version, :deployment_id, (SELECT dependency_type.id \\nFROM dependency_type \\nWHERE dependency_type.type = :type_1))', 'INSERT INTO deployment_dependencies (name, source, local_source, version, deployment_id, dependency_type_id) VALUES (:name, :source, :local_source, :version, :deployment_id, (SELECT dependency_type.id \\nFROM dependency_type \\nWHERE dependency_type.type = :type_1))', 'INSERT INTO deployment_dependencies (name, source, local_source, version, deployment_id, dependency_type_id) VALUES (:name, :source, :local_source, :version, :deployment_id, (SELECT dependency_type.id \\nFROM dependency_type \\nWHERE dependency_type.type = :type_1))', 'INSERT INTO deployment_dependencies (name, source, local_source, version, deployment_id, dependency_type_id) VALUES (:name, :source, :local_source, :version, :deployment_id, (SELECT dependency_type.id \\nFROM dependency_type \\nWHERE dependency_type.type = :type_1))', 'INSERT INTO deployment_dependencies (name, source, local_source, version, deployment_id, dependency_type_id) VALUES (:name, :source, :local_source, :version, :deployment_id, (SELECT dependency_type.id \\nFROM dependency_type \\nWHERE dependency_type.type = :type_1))', 'INSERT INTO deployment_dependencies (name, source, local_source, version, deployment_id, dependency_type_id) VALUES (:name, :source, :local_source, :version, :deployment_id, (SELECT dependency_type.id \\nFROM dependency_type \\nWHERE dependency_type.type = :type_1))', 'INSERT INTO deployment_dependencies (name, source, local_source, version, deployment_id, dependency_type_id) VALUES (:name, :source, :local_source, :version, :deployment_id, (SELECT dependency_type.id \\nFROM dependency_type \\nWHERE dependency_type.type = :type_1))', 'INSERT INTO deployment_dependencies (name, source, local_source, version, deployment_id, dependency_type_id) VALUES (:name, :source, :local_source, :version, :deployment_id, (SELECT dependency_type.id \\nFROM dependency_type \\nWHERE dependency_type.type = :type_1))']\n"
     ]
    },
    {
     "name": "stderr",
     "output_type": "stream",
     "text": [
      "INFO:lume_services.services.models.db.db:Sucessfully executed: ['INSERT INTO deployment_dependencies (name, source, local_source, version, deployment_id, dependency_type_id) VALUES (:name, :source, :local_source, :version, :deployment_id, (SELECT dependency_type.id \\nFROM dependency_type \\nWHERE dependency_type.type = :type_1))', 'INSERT INTO deployment_dependencies (name, source, local_source, version, deployment_id, dependency_type_id) VALUES (:name, :source, :local_source, :version, :deployment_id, (SELECT dependency_type.id \\nFROM dependency_type \\nWHERE dependency_type.type = :type_1))', 'INSERT INTO deployment_dependencies (name, source, local_source, version, deployment_id, dependency_type_id) VALUES (:name, :source, :local_source, :version, :deployment_id, (SELECT dependency_type.id \\nFROM dependency_type \\nWHERE dependency_type.type = :type_1))', 'INSERT INTO deployment_dependencies (name, source, local_source, version, deployment_id, dependency_type_id) VALUES (:name, :source, :local_source, :version, :deployment_id, (SELECT dependency_type.id \\nFROM dependency_type \\nWHERE dependency_type.type = :type_1))', 'INSERT INTO deployment_dependencies (name, source, local_source, version, deployment_id, dependency_type_id) VALUES (:name, :source, :local_source, :version, :deployment_id, (SELECT dependency_type.id \\nFROM dependency_type \\nWHERE dependency_type.type = :type_1))', 'INSERT INTO deployment_dependencies (name, source, local_source, version, deployment_id, dependency_type_id) VALUES (:name, :source, :local_source, :version, :deployment_id, (SELECT dependency_type.id \\nFROM dependency_type \\nWHERE dependency_type.type = :type_1))', 'INSERT INTO deployment_dependencies (name, source, local_source, version, deployment_id, dependency_type_id) VALUES (:name, :source, :local_source, :version, :deployment_id, (SELECT dependency_type.id \\nFROM dependency_type \\nWHERE dependency_type.type = :type_1))', 'INSERT INTO deployment_dependencies (name, source, local_source, version, deployment_id, dependency_type_id) VALUES (:name, :source, :local_source, :version, :deployment_id, (SELECT dependency_type.id \\nFROM dependency_type \\nWHERE dependency_type.type = :type_1))', 'INSERT INTO deployment_dependencies (name, source, local_source, version, deployment_id, dependency_type_id) VALUES (:name, :source, :local_source, :version, :deployment_id, (SELECT dependency_type.id \\nFROM dependency_type \\nWHERE dependency_type.type = :type_1))', 'INSERT INTO deployment_dependencies (name, source, local_source, version, deployment_id, dependency_type_id) VALUES (:name, :source, :local_source, :version, :deployment_id, (SELECT dependency_type.id \\nFROM dependency_type \\nWHERE dependency_type.type = :type_1))', 'INSERT INTO deployment_dependencies (name, source, local_source, version, deployment_id, dependency_type_id) VALUES (:name, :source, :local_source, :version, :deployment_id, (SELECT dependency_type.id \\nFROM dependency_type \\nWHERE dependency_type.type = :type_1))', 'INSERT INTO deployment_dependencies (name, source, local_source, version, deployment_id, dependency_type_id) VALUES (:name, :source, :local_source, :version, :deployment_id, (SELECT dependency_type.id \\nFROM dependency_type \\nWHERE dependency_type.type = :type_1))', 'INSERT INTO deployment_dependencies (name, source, local_source, version, deployment_id, dependency_type_id) VALUES (:name, :source, :local_source, :version, :deployment_id, (SELECT dependency_type.id \\nFROM dependency_type \\nWHERE dependency_type.type = :type_1))', 'INSERT INTO deployment_dependencies (name, source, local_source, version, deployment_id, dependency_type_id) VALUES (:name, :source, :local_source, :version, :deployment_id, (SELECT dependency_type.id \\nFROM dependency_type \\nWHERE dependency_type.type = :type_1))', 'INSERT INTO deployment_dependencies (name, source, local_source, version, deployment_id, dependency_type_id) VALUES (:name, :source, :local_source, :version, :deployment_id, (SELECT dependency_type.id \\nFROM dependency_type \\nWHERE dependency_type.type = :type_1))', 'INSERT INTO deployment_dependencies (name, source, local_source, version, deployment_id, dependency_type_id) VALUES (:name, :source, :local_source, :version, :deployment_id, (SELECT dependency_type.id \\nFROM dependency_type \\nWHERE dependency_type.type = :type_1))', 'INSERT INTO deployment_dependencies (name, source, local_source, version, deployment_id, dependency_type_id) VALUES (:name, :source, :local_source, :version, :deployment_id, (SELECT dependency_type.id \\nFROM dependency_type \\nWHERE dependency_type.type = :type_1))', 'INSERT INTO deployment_dependencies (name, source, local_source, version, deployment_id, dependency_type_id) VALUES (:name, :source, :local_source, :version, :deployment_id, (SELECT dependency_type.id \\nFROM dependency_type \\nWHERE dependency_type.type = :type_1))', 'INSERT INTO deployment_dependencies (name, source, local_source, version, deployment_id, dependency_type_id) VALUES (:name, :source, :local_source, :version, :deployment_id, (SELECT dependency_type.id \\nFROM dependency_type \\nWHERE dependency_type.type = :type_1))', 'INSERT INTO deployment_dependencies (name, source, local_source, version, deployment_id, dependency_type_id) VALUES (:name, :source, :local_source, :version, :deployment_id, (SELECT dependency_type.id \\nFROM dependency_type \\nWHERE dependency_type.type = :type_1))', 'INSERT INTO deployment_dependencies (name, source, local_source, version, deployment_id, dependency_type_id) VALUES (:name, :source, :local_source, :version, :deployment_id, (SELECT dependency_type.id \\nFROM dependency_type \\nWHERE dependency_type.type = :type_1))', 'INSERT INTO deployment_dependencies (name, source, local_source, version, deployment_id, dependency_type_id) VALUES (:name, :source, :local_source, :version, :deployment_id, (SELECT dependency_type.id \\nFROM dependency_type \\nWHERE dependency_type.type = :type_1))', 'INSERT INTO deployment_dependencies (name, source, local_source, version, deployment_id, dependency_type_id) VALUES (:name, :source, :local_source, :version, :deployment_id, (SELECT dependency_type.id \\nFROM dependency_type \\nWHERE dependency_type.type = :type_1))', 'INSERT INTO deployment_dependencies (name, source, local_source, version, deployment_id, dependency_type_id) VALUES (:name, :source, :local_source, :version, :deployment_id, (SELECT dependency_type.id \\nFROM dependency_type \\nWHERE dependency_type.type = :type_1))', 'INSERT INTO deployment_dependencies (name, source, local_source, version, deployment_id, dependency_type_id) VALUES (:name, :source, :local_source, :version, :deployment_id, (SELECT dependency_type.id \\nFROM dependency_type \\nWHERE dependency_type.type = :type_1))', 'INSERT INTO deployment_dependencies (name, source, local_source, version, deployment_id, dependency_type_id) VALUES (:name, :source, :local_source, :version, :deployment_id, (SELECT dependency_type.id \\nFROM dependency_type \\nWHERE dependency_type.type = :type_1))', 'INSERT INTO deployment_dependencies (name, source, local_source, version, deployment_id, dependency_type_id) VALUES (:name, :source, :local_source, :version, :deployment_id, (SELECT dependency_type.id \\nFROM dependency_type \\nWHERE dependency_type.type = :type_1))', 'INSERT INTO deployment_dependencies (name, source, local_source, version, deployment_id, dependency_type_id) VALUES (:name, :source, :local_source, :version, :deployment_id, (SELECT dependency_type.id \\nFROM dependency_type \\nWHERE dependency_type.type = :type_1))', 'INSERT INTO deployment_dependencies (name, source, local_source, version, deployment_id, dependency_type_id) VALUES (:name, :source, :local_source, :version, :deployment_id, (SELECT dependency_type.id \\nFROM dependency_type \\nWHERE dependency_type.type = :type_1))', 'INSERT INTO deployment_dependencies (name, source, local_source, version, deployment_id, dependency_type_id) VALUES (:name, :source, :local_source, :version, :deployment_id, (SELECT dependency_type.id \\nFROM dependency_type \\nWHERE dependency_type.type = :type_1))', 'INSERT INTO deployment_dependencies (name, source, local_source, version, deployment_id, dependency_type_id) VALUES (:name, :source, :local_source, :version, :deployment_id, (SELECT dependency_type.id \\nFROM dependency_type \\nWHERE dependency_type.type = :type_1))', 'INSERT INTO deployment_dependencies (name, source, local_source, version, deployment_id, dependency_type_id) VALUES (:name, :source, :local_source, :version, :deployment_id, (SELECT dependency_type.id \\nFROM dependency_type \\nWHERE dependency_type.type = :type_1))', 'INSERT INTO deployment_dependencies (name, source, local_source, version, deployment_id, dependency_type_id) VALUES (:name, :source, :local_source, :version, :deployment_id, (SELECT dependency_type.id \\nFROM dependency_type \\nWHERE dependency_type.type = :type_1))', 'INSERT INTO deployment_dependencies (name, source, local_source, version, deployment_id, dependency_type_id) VALUES (:name, :source, :local_source, :version, :deployment_id, (SELECT dependency_type.id \\nFROM dependency_type \\nWHERE dependency_type.type = :type_1))', 'INSERT INTO deployment_dependencies (name, source, local_source, version, deployment_id, dependency_type_id) VALUES (:name, :source, :local_source, :version, :deployment_id, (SELECT dependency_type.id \\nFROM dependency_type \\nWHERE dependency_type.type = :type_1))', 'INSERT INTO deployment_dependencies (name, source, local_source, version, deployment_id, dependency_type_id) VALUES (:name, :source, :local_source, :version, :deployment_id, (SELECT dependency_type.id \\nFROM dependency_type \\nWHERE dependency_type.type = :type_1))', 'INSERT INTO deployment_dependencies (name, source, local_source, version, deployment_id, dependency_type_id) VALUES (:name, :source, :local_source, :version, :deployment_id, (SELECT dependency_type.id \\nFROM dependency_type \\nWHERE dependency_type.type = :type_1))', 'INSERT INTO deployment_dependencies (name, source, local_source, version, deployment_id, dependency_type_id) VALUES (:name, :source, :local_source, :version, :deployment_id, (SELECT dependency_type.id \\nFROM dependency_type \\nWHERE dependency_type.type = :type_1))', 'INSERT INTO deployment_dependencies (name, source, local_source, version, deployment_id, dependency_type_id) VALUES (:name, :source, :local_source, :version, :deployment_id, (SELECT dependency_type.id \\nFROM dependency_type \\nWHERE dependency_type.type = :type_1))', 'INSERT INTO deployment_dependencies (name, source, local_source, version, deployment_id, dependency_type_id) VALUES (:name, :source, :local_source, :version, :deployment_id, (SELECT dependency_type.id \\nFROM dependency_type \\nWHERE dependency_type.type = :type_1))', 'INSERT INTO deployment_dependencies (name, source, local_source, version, deployment_id, dependency_type_id) VALUES (:name, :source, :local_source, :version, :deployment_id, (SELECT dependency_type.id \\nFROM dependency_type \\nWHERE dependency_type.type = :type_1))', 'INSERT INTO deployment_dependencies (name, source, local_source, version, deployment_id, dependency_type_id) VALUES (:name, :source, :local_source, :version, :deployment_id, (SELECT dependency_type.id \\nFROM dependency_type \\nWHERE dependency_type.type = :type_1))', 'INSERT INTO deployment_dependencies (name, source, local_source, version, deployment_id, dependency_type_id) VALUES (:name, :source, :local_source, :version, :deployment_id, (SELECT dependency_type.id \\nFROM dependency_type \\nWHERE dependency_type.type = :type_1))', 'INSERT INTO deployment_dependencies (name, source, local_source, version, deployment_id, dependency_type_id) VALUES (:name, :source, :local_source, :version, :deployment_id, (SELECT dependency_type.id \\nFROM dependency_type \\nWHERE dependency_type.type = :type_1))', 'INSERT INTO deployment_dependencies (name, source, local_source, version, deployment_id, dependency_type_id) VALUES (:name, :source, :local_source, :version, :deployment_id, (SELECT dependency_type.id \\nFROM dependency_type \\nWHERE dependency_type.type = :type_1))', 'INSERT INTO deployment_dependencies (name, source, local_source, version, deployment_id, dependency_type_id) VALUES (:name, :source, :local_source, :version, :deployment_id, (SELECT dependency_type.id \\nFROM dependency_type \\nWHERE dependency_type.type = :type_1))', 'INSERT INTO deployment_dependencies (name, source, local_source, version, deployment_id, dependency_type_id) VALUES (:name, :source, :local_source, :version, :deployment_id, (SELECT dependency_type.id \\nFROM dependency_type \\nWHERE dependency_type.type = :type_1))', 'INSERT INTO deployment_dependencies (name, source, local_source, version, deployment_id, dependency_type_id) VALUES (:name, :source, :local_source, :version, :deployment_id, (SELECT dependency_type.id \\nFROM dependency_type \\nWHERE dependency_type.type = :type_1))', 'INSERT INTO deployment_dependencies (name, source, local_source, version, deployment_id, dependency_type_id) VALUES (:name, :source, :local_source, :version, :deployment_id, (SELECT dependency_type.id \\nFROM dependency_type \\nWHERE dependency_type.type = :type_1))', 'INSERT INTO deployment_dependencies (name, source, local_source, version, deployment_id, dependency_type_id) VALUES (:name, :source, :local_source, :version, :deployment_id, (SELECT dependency_type.id \\nFROM dependency_type \\nWHERE dependency_type.type = :type_1))', 'INSERT INTO deployment_dependencies (name, source, local_source, version, deployment_id, dependency_type_id) VALUES (:name, :source, :local_source, :version, :deployment_id, (SELECT dependency_type.id \\nFROM dependency_type \\nWHERE dependency_type.type = :type_1))', 'INSERT INTO deployment_dependencies (name, source, local_source, version, deployment_id, dependency_type_id) VALUES (:name, :source, :local_source, :version, :deployment_id, (SELECT dependency_type.id \\nFROM dependency_type \\nWHERE dependency_type.type = :type_1))', 'INSERT INTO deployment_dependencies (name, source, local_source, version, deployment_id, dependency_type_id) VALUES (:name, :source, :local_source, :version, :deployment_id, (SELECT dependency_type.id \\nFROM dependency_type \\nWHERE dependency_type.type = :type_1))', 'INSERT INTO deployment_dependencies (name, source, local_source, version, deployment_id, dependency_type_id) VALUES (:name, :source, :local_source, :version, :deployment_id, (SELECT dependency_type.id \\nFROM dependency_type \\nWHERE dependency_type.type = :type_1))', 'INSERT INTO deployment_dependencies (name, source, local_source, version, deployment_id, dependency_type_id) VALUES (:name, :source, :local_source, :version, :deployment_id, (SELECT dependency_type.id \\nFROM dependency_type \\nWHERE dependency_type.type = :type_1))', 'INSERT INTO deployment_dependencies (name, source, local_source, version, deployment_id, dependency_type_id) VALUES (:name, :source, :local_source, :version, :deployment_id, (SELECT dependency_type.id \\nFROM dependency_type \\nWHERE dependency_type.type = :type_1))', 'INSERT INTO deployment_dependencies (name, source, local_source, version, deployment_id, dependency_type_id) VALUES (:name, :source, :local_source, :version, :deployment_id, (SELECT dependency_type.id \\nFROM dependency_type \\nWHERE dependency_type.type = :type_1))', 'INSERT INTO deployment_dependencies (name, source, local_source, version, deployment_id, dependency_type_id) VALUES (:name, :source, :local_source, :version, :deployment_id, (SELECT dependency_type.id \\nFROM dependency_type \\nWHERE dependency_type.type = :type_1))', 'INSERT INTO deployment_dependencies (name, source, local_source, version, deployment_id, dependency_type_id) VALUES (:name, :source, :local_source, :version, :deployment_id, (SELECT dependency_type.id \\nFROM dependency_type \\nWHERE dependency_type.type = :type_1))', 'INSERT INTO deployment_dependencies (name, source, local_source, version, deployment_id, dependency_type_id) VALUES (:name, :source, :local_source, :version, :deployment_id, (SELECT dependency_type.id \\nFROM dependency_type \\nWHERE dependency_type.type = :type_1))', 'INSERT INTO deployment_dependencies (name, source, local_source, version, deployment_id, dependency_type_id) VALUES (:name, :source, :local_source, :version, :deployment_id, (SELECT dependency_type.id \\nFROM dependency_type \\nWHERE dependency_type.type = :type_1))', 'INSERT INTO deployment_dependencies (name, source, local_source, version, deployment_id, dependency_type_id) VALUES (:name, :source, :local_source, :version, :deployment_id, (SELECT dependency_type.id \\nFROM dependency_type \\nWHERE dependency_type.type = :type_1))', 'INSERT INTO deployment_dependencies (name, source, local_source, version, deployment_id, dependency_type_id) VALUES (:name, :source, :local_source, :version, :deployment_id, (SELECT dependency_type.id \\nFROM dependency_type \\nWHERE dependency_type.type = :type_1))', 'INSERT INTO deployment_dependencies (name, source, local_source, version, deployment_id, dependency_type_id) VALUES (:name, :source, :local_source, :version, :deployment_id, (SELECT dependency_type.id \\nFROM dependency_type \\nWHERE dependency_type.type = :type_1))', 'INSERT INTO deployment_dependencies (name, source, local_source, version, deployment_id, dependency_type_id) VALUES (:name, :source, :local_source, :version, :deployment_id, (SELECT dependency_type.id \\nFROM dependency_type \\nWHERE dependency_type.type = :type_1))', 'INSERT INTO deployment_dependencies (name, source, local_source, version, deployment_id, dependency_type_id) VALUES (:name, :source, :local_source, :version, :deployment_id, (SELECT dependency_type.id \\nFROM dependency_type \\nWHERE dependency_type.type = :type_1))', 'INSERT INTO deployment_dependencies (name, source, local_source, version, deployment_id, dependency_type_id) VALUES (:name, :source, :local_source, :version, :deployment_id, (SELECT dependency_type.id \\nFROM dependency_type \\nWHERE dependency_type.type = :type_1))', 'INSERT INTO deployment_dependencies (name, source, local_source, version, deployment_id, dependency_type_id) VALUES (:name, :source, :local_source, :version, :deployment_id, (SELECT dependency_type.id \\nFROM dependency_type \\nWHERE dependency_type.type = :type_1))', 'INSERT INTO deployment_dependencies (name, source, local_source, version, deployment_id, dependency_type_id) VALUES (:name, :source, :local_source, :version, :deployment_id, (SELECT dependency_type.id \\nFROM dependency_type \\nWHERE dependency_type.type = :type_1))', 'INSERT INTO deployment_dependencies (name, source, local_source, version, deployment_id, dependency_type_id) VALUES (:name, :source, :local_source, :version, :deployment_id, (SELECT dependency_type.id \\nFROM dependency_type \\nWHERE dependency_type.type = :type_1))', 'INSERT INTO deployment_dependencies (name, source, local_source, version, deployment_id, dependency_type_id) VALUES (:name, :source, :local_source, :version, :deployment_id, (SELECT dependency_type.id \\nFROM dependency_type \\nWHERE dependency_type.type = :type_1))', 'INSERT INTO deployment_dependencies (name, source, local_source, version, deployment_id, dependency_type_id) VALUES (:name, :source, :local_source, :version, :deployment_id, (SELECT dependency_type.id \\nFROM dependency_type \\nWHERE dependency_type.type = :type_1))', 'INSERT INTO deployment_dependencies (name, source, local_source, version, deployment_id, dependency_type_id) VALUES (:name, :source, :local_source, :version, :deployment_id, (SELECT dependency_type.id \\nFROM dependency_type \\nWHERE dependency_type.type = :type_1))', 'INSERT INTO deployment_dependencies (name, source, local_source, version, deployment_id, dependency_type_id) VALUES (:name, :source, :local_source, :version, :deployment_id, (SELECT dependency_type.id \\nFROM dependency_type \\nWHERE dependency_type.type = :type_1))', 'INSERT INTO deployment_dependencies (name, source, local_source, version, deployment_id, dependency_type_id) VALUES (:name, :source, :local_source, :version, :deployment_id, (SELECT dependency_type.id \\nFROM dependency_type \\nWHERE dependency_type.type = :type_1))', 'INSERT INTO deployment_dependencies (name, source, local_source, version, deployment_id, dependency_type_id) VALUES (:name, :source, :local_source, :version, :deployment_id, (SELECT dependency_type.id \\nFROM dependency_type \\nWHERE dependency_type.type = :type_1))', 'INSERT INTO deployment_dependencies (name, source, local_source, version, deployment_id, dependency_type_id) VALUES (:name, :source, :local_source, :version, :deployment_id, (SELECT dependency_type.id \\nFROM dependency_type \\nWHERE dependency_type.type = :type_1))', 'INSERT INTO deployment_dependencies (name, source, local_source, version, deployment_id, dependency_type_id) VALUES (:name, :source, :local_source, :version, :deployment_id, (SELECT dependency_type.id \\nFROM dependency_type \\nWHERE dependency_type.type = :type_1))', 'INSERT INTO deployment_dependencies (name, source, local_source, version, deployment_id, dependency_type_id) VALUES (:name, :source, :local_source, :version, :deployment_id, (SELECT dependency_type.id \\nFROM dependency_type \\nWHERE dependency_type.type = :type_1))', 'INSERT INTO deployment_dependencies (name, source, local_source, version, deployment_id, dependency_type_id) VALUES (:name, :source, :local_source, :version, :deployment_id, (SELECT dependency_type.id \\nFROM dependency_type \\nWHERE dependency_type.type = :type_1))', 'INSERT INTO deployment_dependencies (name, source, local_source, version, deployment_id, dependency_type_id) VALUES (:name, :source, :local_source, :version, :deployment_id, (SELECT dependency_type.id \\nFROM dependency_type \\nWHERE dependency_type.type = :type_1))', 'INSERT INTO deployment_dependencies (name, source, local_source, version, deployment_id, dependency_type_id) VALUES (:name, :source, :local_source, :version, :deployment_id, (SELECT dependency_type.id \\nFROM dependency_type \\nWHERE dependency_type.type = :type_1))', 'INSERT INTO deployment_dependencies (name, source, local_source, version, deployment_id, dependency_type_id) VALUES (:name, :source, :local_source, :version, :deployment_id, (SELECT dependency_type.id \\nFROM dependency_type \\nWHERE dependency_type.type = :type_1))', 'INSERT INTO deployment_dependencies (name, source, local_source, version, deployment_id, dependency_type_id) VALUES (:name, :source, :local_source, :version, :deployment_id, (SELECT dependency_type.id \\nFROM dependency_type \\nWHERE dependency_type.type = :type_1))', 'INSERT INTO deployment_dependencies (name, source, local_source, version, deployment_id, dependency_type_id) VALUES (:name, :source, :local_source, :version, :deployment_id, (SELECT dependency_type.id \\nFROM dependency_type \\nWHERE dependency_type.type = :type_1))', 'INSERT INTO deployment_dependencies (name, source, local_source, version, deployment_id, dependency_type_id) VALUES (:name, :source, :local_source, :version, :deployment_id, (SELECT dependency_type.id \\nFROM dependency_type \\nWHERE dependency_type.type = :type_1))', 'INSERT INTO deployment_dependencies (name, source, local_source, version, deployment_id, dependency_type_id) VALUES (:name, :source, :local_source, :version, :deployment_id, (SELECT dependency_type.id \\nFROM dependency_type \\nWHERE dependency_type.type = :type_1))', 'INSERT INTO deployment_dependencies (name, source, local_source, version, deployment_id, dependency_type_id) VALUES (:name, :source, :local_source, :version, :deployment_id, (SELECT dependency_type.id \\nFROM dependency_type \\nWHERE dependency_type.type = :type_1))', 'INSERT INTO deployment_dependencies (name, source, local_source, version, deployment_id, dependency_type_id) VALUES (:name, :source, :local_source, :version, :deployment_id, (SELECT dependency_type.id \\nFROM dependency_type \\nWHERE dependency_type.type = :type_1))', 'INSERT INTO deployment_dependencies (name, source, local_source, version, deployment_id, dependency_type_id) VALUES (:name, :source, :local_source, :version, :deployment_id, (SELECT dependency_type.id \\nFROM dependency_type \\nWHERE dependency_type.type = :type_1))', 'INSERT INTO deployment_dependencies (name, source, local_source, version, deployment_id, dependency_type_id) VALUES (:name, :source, :local_source, :version, :deployment_id, (SELECT dependency_type.id \\nFROM dependency_type \\nWHERE dependency_type.type = :type_1))', 'INSERT INTO deployment_dependencies (name, source, local_source, version, deployment_id, dependency_type_id) VALUES (:name, :source, :local_source, :version, :deployment_id, (SELECT dependency_type.id \\nFROM dependency_type \\nWHERE dependency_type.type = :type_1))', 'INSERT INTO deployment_dependencies (name, source, local_source, version, deployment_id, dependency_type_id) VALUES (:name, :source, :local_source, :version, :deployment_id, (SELECT dependency_type.id \\nFROM dependency_type \\nWHERE dependency_type.type = :type_1))', 'INSERT INTO deployment_dependencies (name, source, local_source, version, deployment_id, dependency_type_id) VALUES (:name, :source, :local_source, :version, :deployment_id, (SELECT dependency_type.id \\nFROM dependency_type \\nWHERE dependency_type.type = :type_1))', 'INSERT INTO deployment_dependencies (name, source, local_source, version, deployment_id, dependency_type_id) VALUES (:name, :source, :local_source, :version, :deployment_id, (SELECT dependency_type.id \\nFROM dependency_type \\nWHERE dependency_type.type = :type_1))', 'INSERT INTO deployment_dependencies (name, source, local_source, version, deployment_id, dependency_type_id) VALUES (:name, :source, :local_source, :version, :deployment_id, (SELECT dependency_type.id \\nFROM dependency_type \\nWHERE dependency_type.type = :type_1))', 'INSERT INTO deployment_dependencies (name, source, local_source, version, deployment_id, dependency_type_id) VALUES (:name, :source, :local_source, :version, :deployment_id, (SELECT dependency_type.id \\nFROM dependency_type \\nWHERE dependency_type.type = :type_1))', 'INSERT INTO deployment_dependencies (name, source, local_source, version, deployment_id, dependency_type_id) VALUES (:name, :source, :local_source, :version, :deployment_id, (SELECT dependency_type.id \\nFROM dependency_type \\nWHERE dependency_type.type = :type_1))', 'INSERT INTO deployment_dependencies (name, source, local_source, version, deployment_id, dependency_type_id) VALUES (:name, :source, :local_source, :version, :deployment_id, (SELECT dependency_type.id \\nFROM dependency_type \\nWHERE dependency_type.type = :type_1))', 'INSERT INTO deployment_dependencies (name, source, local_source, version, deployment_id, dependency_type_id) VALUES (:name, :source, :local_source, :version, :deployment_id, (SELECT dependency_type.id \\nFROM dependency_type \\nWHERE dependency_type.type = :type_1))', 'INSERT INTO deployment_dependencies (name, source, local_source, version, deployment_id, dependency_type_id) VALUES (:name, :source, :local_source, :version, :deployment_id, (SELECT dependency_type.id \\nFROM dependency_type \\nWHERE dependency_type.type = :type_1))', 'INSERT INTO deployment_dependencies (name, source, local_source, version, deployment_id, dependency_type_id) VALUES (:name, :source, :local_source, :version, :deployment_id, (SELECT dependency_type.id \\nFROM dependency_type \\nWHERE dependency_type.type = :type_1))', 'INSERT INTO deployment_dependencies (name, source, local_source, version, deployment_id, dependency_type_id) VALUES (:name, :source, :local_source, :version, :deployment_id, (SELECT dependency_type.id \\nFROM dependency_type \\nWHERE dependency_type.type = :type_1))', 'INSERT INTO deployment_dependencies (name, source, local_source, version, deployment_id, dependency_type_id) VALUES (:name, :source, :local_source, :version, :deployment_id, (SELECT dependency_type.id \\nFROM dependency_type \\nWHERE dependency_type.type = :type_1))', 'INSERT INTO deployment_dependencies (name, source, local_source, version, deployment_id, dependency_type_id) VALUES (:name, :source, :local_source, :version, :deployment_id, (SELECT dependency_type.id \\nFROM dependency_type \\nWHERE dependency_type.type = :type_1))', 'INSERT INTO deployment_dependencies (name, source, local_source, version, deployment_id, dependency_type_id) VALUES (:name, :source, :local_source, :version, :deployment_id, (SELECT dependency_type.id \\nFROM dependency_type \\nWHERE dependency_type.type = :type_1))', 'INSERT INTO deployment_dependencies (name, source, local_source, version, deployment_id, dependency_type_id) VALUES (:name, :source, :local_source, :version, :deployment_id, (SELECT dependency_type.id \\nFROM dependency_type \\nWHERE dependency_type.type = :type_1))', 'INSERT INTO deployment_dependencies (name, source, local_source, version, deployment_id, dependency_type_id) VALUES (:name, :source, :local_source, :version, :deployment_id, (SELECT dependency_type.id \\nFROM dependency_type \\nWHERE dependency_type.type = :type_1))', 'INSERT INTO deployment_dependencies (name, source, local_source, version, deployment_id, dependency_type_id) VALUES (:name, :source, :local_source, :version, :deployment_id, (SELECT dependency_type.id \\nFROM dependency_type \\nWHERE dependency_type.type = :type_1))', 'INSERT INTO deployment_dependencies (name, source, local_source, version, deployment_id, dependency_type_id) VALUES (:name, :source, :local_source, :version, :deployment_id, (SELECT dependency_type.id \\nFROM dependency_type \\nWHERE dependency_type.type = :type_1))', 'INSERT INTO deployment_dependencies (name, source, local_source, version, deployment_id, dependency_type_id) VALUES (:name, :source, :local_source, :version, :deployment_id, (SELECT dependency_type.id \\nFROM dependency_type \\nWHERE dependency_type.type = :type_1))', 'INSERT INTO deployment_dependencies (name, source, local_source, version, deployment_id, dependency_type_id) VALUES (:name, :source, :local_source, :version, :deployment_id, (SELECT dependency_type.id \\nFROM dependency_type \\nWHERE dependency_type.type = :type_1))', 'INSERT INTO deployment_dependencies (name, source, local_source, version, deployment_id, dependency_type_id) VALUES (:name, :source, :local_source, :version, :deployment_id, (SELECT dependency_type.id \\nFROM dependency_type \\nWHERE dependency_type.type = :type_1))', 'INSERT INTO deployment_dependencies (name, source, local_source, version, deployment_id, dependency_type_id) VALUES (:name, :source, :local_source, :version, :deployment_id, (SELECT dependency_type.id \\nFROM dependency_type \\nWHERE dependency_type.type = :type_1))', 'INSERT INTO deployment_dependencies (name, source, local_source, version, deployment_id, dependency_type_id) VALUES (:name, :source, :local_source, :version, :deployment_id, (SELECT dependency_type.id \\nFROM dependency_type \\nWHERE dependency_type.type = :type_1))', 'INSERT INTO deployment_dependencies (name, source, local_source, version, deployment_id, dependency_type_id) VALUES (:name, :source, :local_source, :version, :deployment_id, (SELECT dependency_type.id \\nFROM dependency_type \\nWHERE dependency_type.type = :type_1))', 'INSERT INTO deployment_dependencies (name, source, local_source, version, deployment_id, dependency_type_id) VALUES (:name, :source, :local_source, :version, :deployment_id, (SELECT dependency_type.id \\nFROM dependency_type \\nWHERE dependency_type.type = :type_1))', 'INSERT INTO deployment_dependencies (name, source, local_source, version, deployment_id, dependency_type_id) VALUES (:name, :source, :local_source, :version, :deployment_id, (SELECT dependency_type.id \\nFROM dependency_type \\nWHERE dependency_type.type = :type_1))', 'INSERT INTO deployment_dependencies (name, source, local_source, version, deployment_id, dependency_type_id) VALUES (:name, :source, :local_source, :version, :deployment_id, (SELECT dependency_type.id \\nFROM dependency_type \\nWHERE dependency_type.type = :type_1))', 'INSERT INTO deployment_dependencies (name, source, local_source, version, deployment_id, dependency_type_id) VALUES (:name, :source, :local_source, :version, :deployment_id, (SELECT dependency_type.id \\nFROM dependency_type \\nWHERE dependency_type.type = :type_1))', 'INSERT INTO deployment_dependencies (name, source, local_source, version, deployment_id, dependency_type_id) VALUES (:name, :source, :local_source, :version, :deployment_id, (SELECT dependency_type.id \\nFROM dependency_type \\nWHERE dependency_type.type = :type_1))', 'INSERT INTO deployment_dependencies (name, source, local_source, version, deployment_id, dependency_type_id) VALUES (:name, :source, :local_source, :version, :deployment_id, (SELECT dependency_type.id \\nFROM dependency_type \\nWHERE dependency_type.type = :type_1))', 'INSERT INTO deployment_dependencies (name, source, local_source, version, deployment_id, dependency_type_id) VALUES (:name, :source, :local_source, :version, :deployment_id, (SELECT dependency_type.id \\nFROM dependency_type \\nWHERE dependency_type.type = :type_1))', 'INSERT INTO deployment_dependencies (name, source, local_source, version, deployment_id, dependency_type_id) VALUES (:name, :source, :local_source, :version, :deployment_id, (SELECT dependency_type.id \\nFROM dependency_type \\nWHERE dependency_type.type = :type_1))', 'INSERT INTO deployment_dependencies (name, source, local_source, version, deployment_id, dependency_type_id) VALUES (:name, :source, :local_source, :version, :deployment_id, (SELECT dependency_type.id \\nFROM dependency_type \\nWHERE dependency_type.type = :type_1))', 'INSERT INTO deployment_dependencies (name, source, local_source, version, deployment_id, dependency_type_id) VALUES (:name, :source, :local_source, :version, :deployment_id, (SELECT dependency_type.id \\nFROM dependency_type \\nWHERE dependency_type.type = :type_1))', 'INSERT INTO deployment_dependencies (name, source, local_source, version, deployment_id, dependency_type_id) VALUES (:name, :source, :local_source, :version, :deployment_id, (SELECT dependency_type.id \\nFROM dependency_type \\nWHERE dependency_type.type = :type_1))', 'INSERT INTO deployment_dependencies (name, source, local_source, version, deployment_id, dependency_type_id) VALUES (:name, :source, :local_source, :version, :deployment_id, (SELECT dependency_type.id \\nFROM dependency_type \\nWHERE dependency_type.type = :type_1))', 'INSERT INTO deployment_dependencies (name, source, local_source, version, deployment_id, dependency_type_id) VALUES (:name, :source, :local_source, :version, :deployment_id, (SELECT dependency_type.id \\nFROM dependency_type \\nWHERE dependency_type.type = :type_1))', 'INSERT INTO deployment_dependencies (name, source, local_source, version, deployment_id, dependency_type_id) VALUES (:name, :source, :local_source, :version, :deployment_id, (SELECT dependency_type.id \\nFROM dependency_type \\nWHERE dependency_type.type = :type_1))', 'INSERT INTO deployment_dependencies (name, source, local_source, version, deployment_id, dependency_type_id) VALUES (:name, :source, :local_source, :version, :deployment_id, (SELECT dependency_type.id \\nFROM dependency_type \\nWHERE dependency_type.type = :type_1))', 'INSERT INTO deployment_dependencies (name, source, local_source, version, deployment_id, dependency_type_id) VALUES (:name, :source, :local_source, :version, :deployment_id, (SELECT dependency_type.id \\nFROM dependency_type \\nWHERE dependency_type.type = :type_1))', 'INSERT INTO deployment_dependencies (name, source, local_source, version, deployment_id, dependency_type_id) VALUES (:name, :source, :local_source, :version, :deployment_id, (SELECT dependency_type.id \\nFROM dependency_type \\nWHERE dependency_type.type = :type_1))', 'INSERT INTO deployment_dependencies (name, source, local_source, version, deployment_id, dependency_type_id) VALUES (:name, :source, :local_source, :version, :deployment_id, (SELECT dependency_type.id \\nFROM dependency_type \\nWHERE dependency_type.type = :type_1))', 'INSERT INTO deployment_dependencies (name, source, local_source, version, deployment_id, dependency_type_id) VALUES (:name, :source, :local_source, :version, :deployment_id, (SELECT dependency_type.id \\nFROM dependency_type \\nWHERE dependency_type.type = :type_1))', 'INSERT INTO deployment_dependencies (name, source, local_source, version, deployment_id, dependency_type_id) VALUES (:name, :source, :local_source, :version, :deployment_id, (SELECT dependency_type.id \\nFROM dependency_type \\nWHERE dependency_type.type = :type_1))', 'INSERT INTO deployment_dependencies (name, source, local_source, version, deployment_id, dependency_type_id) VALUES (:name, :source, :local_source, :version, :deployment_id, (SELECT dependency_type.id \\nFROM dependency_type \\nWHERE dependency_type.type = :type_1))', 'INSERT INTO deployment_dependencies (name, source, local_source, version, deployment_id, dependency_type_id) VALUES (:name, :source, :local_source, :version, :deployment_id, (SELECT dependency_type.id \\nFROM dependency_type \\nWHERE dependency_type.type = :type_1))', 'INSERT INTO deployment_dependencies (name, source, local_source, version, deployment_id, dependency_type_id) VALUES (:name, :source, :local_source, :version, :deployment_id, (SELECT dependency_type.id \\nFROM dependency_type \\nWHERE dependency_type.type = :type_1))', 'INSERT INTO deployment_dependencies (name, source, local_source, version, deployment_id, dependency_type_id) VALUES (:name, :source, :local_source, :version, :deployment_id, (SELECT dependency_type.id \\nFROM dependency_type \\nWHERE dependency_type.type = :type_1))', 'INSERT INTO deployment_dependencies (name, source, local_source, version, deployment_id, dependency_type_id) VALUES (:name, :source, :local_source, :version, :deployment_id, (SELECT dependency_type.id \\nFROM dependency_type \\nWHERE dependency_type.type = :type_1))', 'INSERT INTO deployment_dependencies (name, source, local_source, version, deployment_id, dependency_type_id) VALUES (:name, :source, :local_source, :version, :deployment_id, (SELECT dependency_type.id \\nFROM dependency_type \\nWHERE dependency_type.type = :type_1))', 'INSERT INTO deployment_dependencies (name, source, local_source, version, deployment_id, dependency_type_id) VALUES (:name, :source, :local_source, :version, :deployment_id, (SELECT dependency_type.id \\nFROM dependency_type \\nWHERE dependency_type.type = :type_1))', 'INSERT INTO deployment_dependencies (name, source, local_source, version, deployment_id, dependency_type_id) VALUES (:name, :source, :local_source, :version, :deployment_id, (SELECT dependency_type.id \\nFROM dependency_type \\nWHERE dependency_type.type = :type_1))', 'INSERT INTO deployment_dependencies (name, source, local_source, version, deployment_id, dependency_type_id) VALUES (:name, :source, :local_source, :version, :deployment_id, (SELECT dependency_type.id \\nFROM dependency_type \\nWHERE dependency_type.type = :type_1))', 'INSERT INTO deployment_dependencies (name, source, local_source, version, deployment_id, dependency_type_id) VALUES (:name, :source, :local_source, :version, :deployment_id, (SELECT dependency_type.id \\nFROM dependency_type \\nWHERE dependency_type.type = :type_1))', 'INSERT INTO deployment_dependencies (name, source, local_source, version, deployment_id, dependency_type_id) VALUES (:name, :source, :local_source, :version, :deployment_id, (SELECT dependency_type.id \\nFROM dependency_type \\nWHERE dependency_type.type = :type_1))', 'INSERT INTO deployment_dependencies (name, source, local_source, version, deployment_id, dependency_type_id) VALUES (:name, :source, :local_source, :version, :deployment_id, (SELECT dependency_type.id \\nFROM dependency_type \\nWHERE dependency_type.type = :type_1))', 'INSERT INTO deployment_dependencies (name, source, local_source, version, deployment_id, dependency_type_id) VALUES (:name, :source, :local_source, :version, :deployment_id, (SELECT dependency_type.id \\nFROM dependency_type \\nWHERE dependency_type.type = :type_1))', 'INSERT INTO deployment_dependencies (name, source, local_source, version, deployment_id, dependency_type_id) VALUES (:name, :source, :local_source, :version, :deployment_id, (SELECT dependency_type.id \\nFROM dependency_type \\nWHERE dependency_type.type = :type_1))', 'INSERT INTO deployment_dependencies (name, source, local_source, version, deployment_id, dependency_type_id) VALUES (:name, :source, :local_source, :version, :deployment_id, (SELECT dependency_type.id \\nFROM dependency_type \\nWHERE dependency_type.type = :type_1))', 'INSERT INTO deployment_dependencies (name, source, local_source, version, deployment_id, dependency_type_id) VALUES (:name, :source, :local_source, :version, :deployment_id, (SELECT dependency_type.id \\nFROM dependency_type \\nWHERE dependency_type.type = :type_1))', 'INSERT INTO deployment_dependencies (name, source, local_source, version, deployment_id, dependency_type_id) VALUES (:name, :source, :local_source, :version, :deployment_id, (SELECT dependency_type.id \\nFROM dependency_type \\nWHERE dependency_type.type = :type_1))', 'INSERT INTO deployment_dependencies (name, source, local_source, version, deployment_id, dependency_type_id) VALUES (:name, :source, :local_source, :version, :deployment_id, (SELECT dependency_type.id \\nFROM dependency_type \\nWHERE dependency_type.type = :type_1))', 'INSERT INTO deployment_dependencies (name, source, local_source, version, deployment_id, dependency_type_id) VALUES (:name, :source, :local_source, :version, :deployment_id, (SELECT dependency_type.id \\nFROM dependency_type \\nWHERE dependency_type.type = :type_1))', 'INSERT INTO deployment_dependencies (name, source, local_source, version, deployment_id, dependency_type_id) VALUES (:name, :source, :local_source, :version, :deployment_id, (SELECT dependency_type.id \\nFROM dependency_type \\nWHERE dependency_type.type = :type_1))', 'INSERT INTO deployment_dependencies (name, source, local_source, version, deployment_id, dependency_type_id) VALUES (:name, :source, :local_source, :version, :deployment_id, (SELECT dependency_type.id \\nFROM dependency_type \\nWHERE dependency_type.type = :type_1))', 'INSERT INTO deployment_dependencies (name, source, local_source, version, deployment_id, dependency_type_id) VALUES (:name, :source, :local_source, :version, :deployment_id, (SELECT dependency_type.id \\nFROM dependency_type \\nWHERE dependency_type.type = :type_1))', 'INSERT INTO deployment_dependencies (name, source, local_source, version, deployment_id, dependency_type_id) VALUES (:name, :source, :local_source, :version, :deployment_id, (SELECT dependency_type.id \\nFROM dependency_type \\nWHERE dependency_type.type = :type_1))', 'INSERT INTO deployment_dependencies (name, source, local_source, version, deployment_id, dependency_type_id) VALUES (:name, :source, :local_source, :version, :deployment_id, (SELECT dependency_type.id \\nFROM dependency_type \\nWHERE dependency_type.type = :type_1))', 'INSERT INTO deployment_dependencies (name, source, local_source, version, deployment_id, dependency_type_id) VALUES (:name, :source, :local_source, :version, :deployment_id, (SELECT dependency_type.id \\nFROM dependency_type \\nWHERE dependency_type.type = :type_1))', 'INSERT INTO deployment_dependencies (name, source, local_source, version, deployment_id, dependency_type_id) VALUES (:name, :source, :local_source, :version, :deployment_id, (SELECT dependency_type.id \\nFROM dependency_type \\nWHERE dependency_type.type = :type_1))', 'INSERT INTO deployment_dependencies (name, source, local_source, version, deployment_id, dependency_type_id) VALUES (:name, :source, :local_source, :version, :deployment_id, (SELECT dependency_type.id \\nFROM dependency_type \\nWHERE dependency_type.type = :type_1))', 'INSERT INTO deployment_dependencies (name, source, local_source, version, deployment_id, dependency_type_id) VALUES (:name, :source, :local_source, :version, :deployment_id, (SELECT dependency_type.id \\nFROM dependency_type \\nWHERE dependency_type.type = :type_1))', 'INSERT INTO deployment_dependencies (name, source, local_source, version, deployment_id, dependency_type_id) VALUES (:name, :source, :local_source, :version, :deployment_id, (SELECT dependency_type.id \\nFROM dependency_type \\nWHERE dependency_type.type = :type_1))', 'INSERT INTO deployment_dependencies (name, source, local_source, version, deployment_id, dependency_type_id) VALUES (:name, :source, :local_source, :version, :deployment_id, (SELECT dependency_type.id \\nFROM dependency_type \\nWHERE dependency_type.type = :type_1))', 'INSERT INTO deployment_dependencies (name, source, local_source, version, deployment_id, dependency_type_id) VALUES (:name, :source, :local_source, :version, :deployment_id, (SELECT dependency_type.id \\nFROM dependency_type \\nWHERE dependency_type.type = :type_1))', 'INSERT INTO deployment_dependencies (name, source, local_source, version, deployment_id, dependency_type_id) VALUES (:name, :source, :local_source, :version, :deployment_id, (SELECT dependency_type.id \\nFROM dependency_type \\nWHERE dependency_type.type = :type_1))', 'INSERT INTO deployment_dependencies (name, source, local_source, version, deployment_id, dependency_type_id) VALUES (:name, :source, :local_source, :version, :deployment_id, (SELECT dependency_type.id \\nFROM dependency_type \\nWHERE dependency_type.type = :type_1))', 'INSERT INTO deployment_dependencies (name, source, local_source, version, deployment_id, dependency_type_id) VALUES (:name, :source, :local_source, :version, :deployment_id, (SELECT dependency_type.id \\nFROM dependency_type \\nWHERE dependency_type.type = :type_1))', 'INSERT INTO deployment_dependencies (name, source, local_source, version, deployment_id, dependency_type_id) VALUES (:name, :source, :local_source, :version, :deployment_id, (SELECT dependency_type.id \\nFROM dependency_type \\nWHERE dependency_type.type = :type_1))', 'INSERT INTO deployment_dependencies (name, source, local_source, version, deployment_id, dependency_type_id) VALUES (:name, :source, :local_source, :version, :deployment_id, (SELECT dependency_type.id \\nFROM dependency_type \\nWHERE dependency_type.type = :type_1))', 'INSERT INTO deployment_dependencies (name, source, local_source, version, deployment_id, dependency_type_id) VALUES (:name, :source, :local_source, :version, :deployment_id, (SELECT dependency_type.id \\nFROM dependency_type \\nWHERE dependency_type.type = :type_1))', 'INSERT INTO deployment_dependencies (name, source, local_source, version, deployment_id, dependency_type_id) VALUES (:name, :source, :local_source, :version, :deployment_id, (SELECT dependency_type.id \\nFROM dependency_type \\nWHERE dependency_type.type = :type_1))', 'INSERT INTO deployment_dependencies (name, source, local_source, version, deployment_id, dependency_type_id) VALUES (:name, :source, :local_source, :version, :deployment_id, (SELECT dependency_type.id \\nFROM dependency_type \\nWHERE dependency_type.type = :type_1))']\n"
     ]
    },
    {
     "name": "stderr",
     "output_type": "stream",
     "text": [
      "INFO:lume_services.services.scheduling.backends.server:Flow run config is not empty. Clearing existing labels and assigning                     new.\n",
      "/Users/jacquelinegarrahan/miniconda3/envs/lume-services-dev/lib/python3.9/site-packages/prefect/core/flow.py:1726: UserWarning: No result handler was specified on your Flow. Cloud features such as input caching and resuming task runs from failure may not work properly.\n",
      "  registered_flow = client.register(\n",
      "INFO:lume_services.services.models.db.db:ModelDB inserting: INSERT INTO flow (flow_id, flow_name, project_name, deployment_id) VALUES (:flow_id, :flow_name, :project_name, :deployment_id)\n",
      "INFO:lume_services.services.models.db.db:Sucessfully executed: INSERT INTO flow (flow_id, flow_name, project_name, deployment_id) VALUES (:flow_id, :flow_name, :project_name, :deployment_id)\n",
      "INFO:lume_services.models.model:Loading deployment 1\n",
      "INFO:lume_services.models.model:Loading deployment 1\n",
      "INFO:lume_services.services.models.db.db:ModelDB selecting: SELECT deployment.sha256, deployment.deployment_id, deployment.version, deployment.deploy_date, deployment.package_import_name, deployment.asset_dir, deployment.source, deployment.image, deployment.is_live, deployment.model_id \n",
      "FROM deployment \n",
      "WHERE deployment.model_id = :model_id_1 AND deployment.deployment_id = :deployment_id_1\n",
      "INFO:lume_services.services.models.db.db:ModelDB selecting: SELECT deployment_dependencies._id, deployment_dependencies.name, deployment_dependencies.source, deployment_dependencies.local_source, deployment_dependencies.version, deployment_dependencies.deployment_id, deployment_dependencies.dependency_type_id, dependency_type_1.id, dependency_type_1.type \n",
      "FROM deployment_dependencies LEFT OUTER JOIN dependency_type AS dependency_type_1 ON dependency_type_1.id = deployment_dependencies.dependency_type_id \n",
      "WHERE deployment_dependencies.deployment_id = :deployment_id_1\n",
      "INFO:lume_services.models.model:Deployment loaded.\n",
      "INFO:lume_services.services.models.db.db:ModelDB selecting: SELECT flow.flow_id, flow.flow_name, flow.project_name, flow.deployment_id \n",
      "FROM flow \n",
      "WHERE flow.deployment_id = :deployment_id_1\n",
      "INFO:lume_services.services.models.db.db:ModelDB selecting: SELECT project.project_name, project.description \n",
      "FROM project \n",
      "WHERE project.project_name = :project_name_1\n",
      "INFO:lume_services.services.models.db.db:ModelDB selecting: SELECT flow_of_flows._id, flow_of_flows.parent_flow_id, flow_of_flows.flow_id, flow_of_flows.position \n",
      "FROM flow_of_flows \n",
      "WHERE flow_of_flows.parent_flow_id = :parent_flow_id_1\n"
     ]
    },
    {
     "name": "stdout",
     "output_type": "stream",
     "text": [
      "Flow URL: http://localhost:8080/default/flow/29d77cc6-b69d-4661-a258-1b3d9af93192\n",
      " └── ID: 1b48df19-bdd7-495f-a289-0b54148d4ab3\n",
      " └── Project: test\n",
      " └── Labels: ['lume-services']\n"
     ]
    }
   ],
   "source": [
    "source_path = \"https://github.com/jacquelinegarrahan/my-model/releases/download/v0.0.9/my_model-0.0.9.tar.gz\"\n",
    "\n",
    "# populates local channel\n",
    "model.store_deployment(source_path, project_name=\"test\")"
   ]
  },
  {
   "cell_type": "markdown",
   "id": "690f0c1c",
   "metadata": {},
   "source": [
    "## Run the Prefect workflow directly"
   ]
  },
  {
   "cell_type": "code",
   "execution_count": 6,
   "id": "514e0aeb",
   "metadata": {},
   "outputs": [
    {
     "name": "stdout",
     "output_type": "stream",
     "text": [
      "[2022-09-09 15:43:02-0700] INFO - prefect.FlowRunner | Beginning Flow run for 'my-model'\n"
     ]
    },
    {
     "name": "stderr",
     "output_type": "stream",
     "text": [
      "INFO:prefect.FlowRunner:Beginning Flow run for 'my-model'\n"
     ]
    },
    {
     "name": "stdout",
     "output_type": "stream",
     "text": [
      "[2022-09-09 15:43:02-0700] INFO - prefect.TaskRunner | Task 'check_local_execution': Starting task run...\n"
     ]
    },
    {
     "name": "stderr",
     "output_type": "stream",
     "text": [
      "INFO:prefect.TaskRunner:Task 'check_local_execution': Starting task run...\n"
     ]
    },
    {
     "name": "stdout",
     "output_type": "stream",
     "text": [
      "[2022-09-09 15:43:03-0700] INFO - prefect.TaskRunner | Task 'check_local_execution': Finished task run for task with final state: 'Success'\n"
     ]
    },
    {
     "name": "stderr",
     "output_type": "stream",
     "text": [
      "INFO:prefect.TaskRunner:Task 'check_local_execution': Finished task run for task with final state: 'Success'\n"
     ]
    },
    {
     "name": "stdout",
     "output_type": "stream",
     "text": [
      "[2022-09-09 15:43:03-0700] INFO - prefect.TaskRunner | Task 'input1': Starting task run...\n"
     ]
    },
    {
     "name": "stderr",
     "output_type": "stream",
     "text": [
      "INFO:prefect.TaskRunner:Task 'input1': Starting task run...\n"
     ]
    },
    {
     "name": "stdout",
     "output_type": "stream",
     "text": [
      "[2022-09-09 15:43:03-0700] INFO - prefect.TaskRunner | Task 'input1': Finished task run for task with final state: 'Success'\n"
     ]
    },
    {
     "name": "stderr",
     "output_type": "stream",
     "text": [
      "INFO:prefect.TaskRunner:Task 'input1': Finished task run for task with final state: 'Success'\n"
     ]
    },
    {
     "name": "stdout",
     "output_type": "stream",
     "text": [
      "[2022-09-09 15:43:03-0700] INFO - prefect.TaskRunner | Task 'input2': Starting task run...\n"
     ]
    },
    {
     "name": "stderr",
     "output_type": "stream",
     "text": [
      "INFO:prefect.TaskRunner:Task 'input2': Starting task run...\n"
     ]
    },
    {
     "name": "stdout",
     "output_type": "stream",
     "text": [
      "[2022-09-09 15:43:03-0700] INFO - prefect.TaskRunner | Task 'input2': Finished task run for task with final state: 'Success'\n"
     ]
    },
    {
     "name": "stderr",
     "output_type": "stream",
     "text": [
      "INFO:prefect.TaskRunner:Task 'input2': Finished task run for task with final state: 'Success'\n"
     ]
    },
    {
     "name": "stdout",
     "output_type": "stream",
     "text": [
      "[2022-09-09 15:43:03-0700] INFO - prefect.TaskRunner | Task 'case(False)': Starting task run...\n"
     ]
    },
    {
     "name": "stderr",
     "output_type": "stream",
     "text": [
      "INFO:prefect.TaskRunner:Task 'case(False)': Starting task run...\n"
     ]
    },
    {
     "name": "stdout",
     "output_type": "stream",
     "text": [
      "[2022-09-09 15:43:03-0700] INFO - prefect.TaskRunner | Task 'case(False)': Finished task run for task with final state: 'Success'\n"
     ]
    },
    {
     "name": "stderr",
     "output_type": "stream",
     "text": [
      "INFO:prefect.TaskRunner:Task 'case(False)': Finished task run for task with final state: 'Success'\n"
     ]
    },
    {
     "name": "stdout",
     "output_type": "stream",
     "text": [
      "[2022-09-09 15:43:03-0700] INFO - prefect.TaskRunner | Task 'configure_lume_services': Starting task run...\n"
     ]
    },
    {
     "name": "stderr",
     "output_type": "stream",
     "text": [
      "INFO:prefect.TaskRunner:Task 'configure_lume_services': Starting task run...\n",
      "INFO:lume_services.config:Configuring LUME-services environment...\n",
      "INFO:lume_services.config:Environment configured.\n"
     ]
    },
    {
     "name": "stdout",
     "output_type": "stream",
     "text": [
      "[2022-09-09 15:43:03-0700] INFO - prefect.TaskRunner | Task 'configure_lume_services': Finished task run for task with final state: 'Success'\n"
     ]
    },
    {
     "name": "stderr",
     "output_type": "stream",
     "text": [
      "INFO:prefect.TaskRunner:Task 'configure_lume_services': Finished task run for task with final state: 'Success'\n"
     ]
    },
    {
     "name": "stdout",
     "output_type": "stream",
     "text": [
      "[2022-09-09 15:43:03-0700] INFO - prefect.TaskRunner | Task 'List': Starting task run...\n"
     ]
    },
    {
     "name": "stderr",
     "output_type": "stream",
     "text": [
      "INFO:prefect.TaskRunner:Task 'List': Starting task run...\n"
     ]
    },
    {
     "name": "stdout",
     "output_type": "stream",
     "text": [
      "[2022-09-09 15:43:03-0700] INFO - prefect.TaskRunner | Task 'List': Finished task run for task with final state: 'Success'\n"
     ]
    },
    {
     "name": "stderr",
     "output_type": "stream",
     "text": [
      "INFO:prefect.TaskRunner:Task 'List': Finished task run for task with final state: 'Success'\n"
     ]
    },
    {
     "name": "stdout",
     "output_type": "stream",
     "text": [
      "[2022-09-09 15:43:03-0700] INFO - prefect.TaskRunner | Task 'filename': Starting task run...\n"
     ]
    },
    {
     "name": "stderr",
     "output_type": "stream",
     "text": [
      "INFO:prefect.TaskRunner:Task 'filename': Starting task run...\n"
     ]
    },
    {
     "name": "stdout",
     "output_type": "stream",
     "text": [
      "[2022-09-09 15:43:03-0700] INFO - prefect.TaskRunner | Task 'filename': Finished task run for task with final state: 'Success'\n"
     ]
    },
    {
     "name": "stderr",
     "output_type": "stream",
     "text": [
      "INFO:prefect.TaskRunner:Task 'filename': Finished task run for task with final state: 'Success'\n"
     ]
    },
    {
     "name": "stdout",
     "output_type": "stream",
     "text": [
      "[2022-09-09 15:43:03-0700] INFO - prefect.TaskRunner | Task 'filesystem_identifier': Starting task run...\n"
     ]
    },
    {
     "name": "stderr",
     "output_type": "stream",
     "text": [
      "INFO:prefect.TaskRunner:Task 'filesystem_identifier': Starting task run...\n"
     ]
    },
    {
     "name": "stdout",
     "output_type": "stream",
     "text": [
      "[2022-09-09 15:43:03-0700] INFO - prefect.TaskRunner | Task 'filesystem_identifier': Finished task run for task with final state: 'Success'\n"
     ]
    },
    {
     "name": "stderr",
     "output_type": "stream",
     "text": [
      "INFO:prefect.TaskRunner:Task 'filesystem_identifier': Finished task run for task with final state: 'Success'\n"
     ]
    },
    {
     "name": "stdout",
     "output_type": "stream",
     "text": [
      "[2022-09-09 15:43:03-0700] INFO - prefect.TaskRunner | Task 'Dict': Starting task run...\n"
     ]
    },
    {
     "name": "stderr",
     "output_type": "stream",
     "text": [
      "INFO:prefect.TaskRunner:Task 'Dict': Starting task run...\n"
     ]
    },
    {
     "name": "stdout",
     "output_type": "stream",
     "text": [
      "[2022-09-09 15:43:03-0700] INFO - prefect.TaskRunner | Task 'Dict': Finished task run for task with final state: 'Success'\n"
     ]
    },
    {
     "name": "stderr",
     "output_type": "stream",
     "text": [
      "INFO:prefect.TaskRunner:Task 'Dict': Finished task run for task with final state: 'Success'\n"
     ]
    },
    {
     "name": "stdout",
     "output_type": "stream",
     "text": [
      "[2022-09-09 15:43:03-0700] INFO - prefect.TaskRunner | Task 'prepare_lume_model_variables': Starting task run...\n"
     ]
    },
    {
     "name": "stderr",
     "output_type": "stream",
     "text": [
      "INFO:prefect.TaskRunner:Task 'prepare_lume_model_variables': Starting task run...\n"
     ]
    },
    {
     "name": "stdout",
     "output_type": "stream",
     "text": [
      "[2022-09-09 15:43:03-0700] INFO - prefect.TaskRunner | Task 'prepare_lume_model_variables': Finished task run for task with final state: 'Success'\n"
     ]
    },
    {
     "name": "stderr",
     "output_type": "stream",
     "text": [
      "INFO:prefect.TaskRunner:Task 'prepare_lume_model_variables': Finished task run for task with final state: 'Success'\n"
     ]
    },
    {
     "name": "stdout",
     "output_type": "stream",
     "text": [
      "[2022-09-09 15:43:03-0700] INFO - prefect.TaskRunner | Task 'evaluate': Starting task run...\n"
     ]
    },
    {
     "name": "stderr",
     "output_type": "stream",
     "text": [
      "INFO:prefect.TaskRunner:Task 'evaluate': Starting task run...\n"
     ]
    },
    {
     "name": "stdout",
     "output_type": "stream",
     "text": [
      "[2022-09-09 15:43:03-0700] INFO - prefect.TaskRunner | Task 'evaluate': Finished task run for task with final state: 'Success'\n"
     ]
    },
    {
     "name": "stderr",
     "output_type": "stream",
     "text": [
      "INFO:prefect.TaskRunner:Task 'evaluate': Finished task run for task with final state: 'Success'\n"
     ]
    },
    {
     "name": "stdout",
     "output_type": "stream",
     "text": [
      "[2022-09-09 15:43:03-0700] INFO - prefect.TaskRunner | Task 'format_file': Starting task run...\n"
     ]
    },
    {
     "name": "stderr",
     "output_type": "stream",
     "text": [
      "INFO:prefect.TaskRunner:Task 'format_file': Starting task run...\n"
     ]
    },
    {
     "name": "stdout",
     "output_type": "stream",
     "text": [
      "[2022-09-09 15:43:03-0700] INFO - prefect.TaskRunner | Task 'format_file': Finished task run for task with final state: 'Success'\n"
     ]
    },
    {
     "name": "stderr",
     "output_type": "stream",
     "text": [
      "INFO:prefect.TaskRunner:Task 'format_file': Finished task run for task with final state: 'Success'\n"
     ]
    },
    {
     "name": "stdout",
     "output_type": "stream",
     "text": [
      "[2022-09-09 15:43:03-0700] INFO - prefect.TaskRunner | Task 'save_file': Starting task run...\n"
     ]
    },
    {
     "name": "stderr",
     "output_type": "stream",
     "text": [
      "INFO:prefect.TaskRunner:Task 'save_file': Starting task run...\n"
     ]
    },
    {
     "name": "stdout",
     "output_type": "stream",
     "text": [
      "[2022-09-09 15:43:03-0700] INFO - prefect.TaskRunner | Task 'save_file': Finished task run for task with final state: 'Success'\n"
     ]
    },
    {
     "name": "stderr",
     "output_type": "stream",
     "text": [
      "INFO:prefect.TaskRunner:Task 'save_file': Finished task run for task with final state: 'Success'\n"
     ]
    },
    {
     "name": "stdout",
     "output_type": "stream",
     "text": [
      "[2022-09-09 15:43:03-0700] INFO - prefect.TaskRunner | Task 'format_result': Starting task run...\n"
     ]
    },
    {
     "name": "stderr",
     "output_type": "stream",
     "text": [
      "INFO:prefect.TaskRunner:Task 'format_result': Starting task run...\n"
     ]
    },
    {
     "name": "stdout",
     "output_type": "stream",
     "text": [
      "[2022-09-09 15:43:03-0700] ERROR - prefect.TaskRunner | Task 'format_result': Exception encountered during task execution!\n",
      "Traceback (most recent call last):\n",
      "  File \"/Users/jacquelinegarrahan/miniconda3/envs/lume-services-dev/lib/python3.9/site-packages/prefect/engine/task_runner.py\", line 880, in get_task_run_state\n",
      "    value = prefect.utilities.executors.run_task_with_timeout(\n",
      "  File \"/Users/jacquelinegarrahan/miniconda3/envs/lume-services-dev/lib/python3.9/site-packages/prefect/utilities/executors.py\", line 468, in run_task_with_timeout\n",
      "    return task.run(*args, **kwargs)  # type: ignore\n",
      "  File \"/Users/jacquelinegarrahan/miniconda3/envs/lume-services-dev/lib/python3.9/site-packages/my_model/flow.py\", line 57, in format_result\n",
      "    return Result(inputs=inputs, outputs=outputs)\n",
      "  File \"pydantic/main.py\", line 342, in pydantic.main.BaseModel.__init__\n",
      "pydantic.error_wrappers.ValidationError: 1 validation error for Result\n",
      "__root__\n",
      "  Object of type ndarray is not JSON serializable (type=type_error)\n"
     ]
    },
    {
     "name": "stderr",
     "output_type": "stream",
     "text": [
      "ERROR:prefect.TaskRunner:Task 'format_result': Exception encountered during task execution!\n",
      "Traceback (most recent call last):\n",
      "  File \"/Users/jacquelinegarrahan/miniconda3/envs/lume-services-dev/lib/python3.9/site-packages/prefect/engine/task_runner.py\", line 880, in get_task_run_state\n",
      "    value = prefect.utilities.executors.run_task_with_timeout(\n",
      "  File \"/Users/jacquelinegarrahan/miniconda3/envs/lume-services-dev/lib/python3.9/site-packages/prefect/utilities/executors.py\", line 468, in run_task_with_timeout\n",
      "    return task.run(*args, **kwargs)  # type: ignore\n",
      "  File \"/Users/jacquelinegarrahan/miniconda3/envs/lume-services-dev/lib/python3.9/site-packages/my_model/flow.py\", line 57, in format_result\n",
      "    return Result(inputs=inputs, outputs=outputs)\n",
      "  File \"pydantic/main.py\", line 342, in pydantic.main.BaseModel.__init__\n",
      "pydantic.error_wrappers.ValidationError: 1 validation error for Result\n",
      "__root__\n",
      "  Object of type ndarray is not JSON serializable (type=type_error)\n"
     ]
    },
    {
     "name": "stdout",
     "output_type": "stream",
     "text": [
      "[2022-09-09 15:43:03-0700] INFO - prefect.TaskRunner | Task 'format_result': Finished task run for task with final state: 'Failed'\n"
     ]
    },
    {
     "name": "stderr",
     "output_type": "stream",
     "text": [
      "INFO:prefect.TaskRunner:Task 'format_result': Finished task run for task with final state: 'Failed'\n"
     ]
    },
    {
     "name": "stdout",
     "output_type": "stream",
     "text": [
      "[2022-09-09 15:43:03-0700] INFO - prefect.TaskRunner | Task 'save_db_result': Starting task run...\n"
     ]
    },
    {
     "name": "stderr",
     "output_type": "stream",
     "text": [
      "INFO:prefect.TaskRunner:Task 'save_db_result': Starting task run...\n"
     ]
    },
    {
     "name": "stdout",
     "output_type": "stream",
     "text": [
      "[2022-09-09 15:43:03-0700] INFO - prefect.TaskRunner | Task 'save_db_result': Finished task run for task with final state: 'TriggerFailed'\n"
     ]
    },
    {
     "name": "stderr",
     "output_type": "stream",
     "text": [
      "INFO:prefect.TaskRunner:Task 'save_db_result': Finished task run for task with final state: 'TriggerFailed'\n"
     ]
    },
    {
     "name": "stdout",
     "output_type": "stream",
     "text": [
      "[2022-09-09 15:43:03-0700] INFO - prefect.FlowRunner | Flow run FAILED: some reference tasks failed.\n"
     ]
    },
    {
     "name": "stderr",
     "output_type": "stream",
     "text": [
      "INFO:prefect.FlowRunner:Flow run FAILED: some reference tasks failed.\n"
     ]
    },
    {
     "data": {
      "text/plain": [
       "<Failed: \"Some reference tasks failed.\">"
      ]
     },
     "execution_count": 6,
     "metadata": {},
     "output_type": "execute_result"
    }
   ],
   "source": [
    "model.deployment.flow.prefect_flow.run(**{\n",
    "                        \"input1\": 1, \n",
    "                        \"input2\": 2, \n",
    "                        \"filename\": \"/Users/jacquelinegarrahan/sandbox/lume-services/test_file.txt\", \n",
    "                        \"filesystem_identifier\":\"local\"\n",
    "    }\n",
    ")"
   ]
  },
  {
   "cell_type": "markdown",
   "id": "0fc08d87",
   "metadata": {},
   "source": [
    "## Run the workflow inside the service cluster\n",
    "We can use the model interface to directly deploy workflows. When sourcing our environment (`docs/examples/demo.env`), we defined a mount point for the file system using the alias `/lume-services/data`. Let's kick off this workflow and save the file output to that directory. \n",
    "After running the next cell, you'll be able to see the running container in your docker desktop and examine the flow using the Prefect UI at http://localhost:8080/default?flows."
   ]
  },
  {
   "cell_type": "code",
   "execution_count": 7,
   "id": "90a5769f",
   "metadata": {},
   "outputs": [],
   "source": [
    "model.run(\n",
    "    parameters={\n",
    "        \"input1\": 1, \n",
    "        \"input2\": 2, \n",
    "        \"filename\": \"/lume-services/data/test_file.txt\", \n",
    "        \"filesystem_identifier\":\"mounted\"}\n",
    ")"
   ]
  },
  {
   "cell_type": "code",
   "execution_count": null,
   "id": "b8ffa8be",
   "metadata": {},
   "outputs": [],
   "source": [
    "# TODO: RESULTS INTERFACE"
   ]
  },
  {
   "cell_type": "markdown",
   "id": "e4f26a31",
   "metadata": {},
   "source": [
    "## Load model using model id"
   ]
  },
  {
   "cell_type": "code",
   "execution_count": null,
   "id": "d6ef8e4e",
   "metadata": {},
   "outputs": [],
   "source": [
    "from lume_services.models import Model\n",
    "\n",
    "loaded_model = Model(model_id=1)"
   ]
  },
  {
   "cell_type": "code",
   "execution_count": null,
   "id": "f7a15668",
   "metadata": {},
   "outputs": [],
   "source": []
  },
  {
   "cell_type": "code",
   "execution_count": null,
   "id": "040bb4bd",
   "metadata": {},
   "outputs": [],
   "source": [
    "loaded_model.load_deployment()"
   ]
  },
  {
   "cell_type": "code",
   "execution_count": null,
   "id": "42355476",
   "metadata": {},
   "outputs": [],
   "source": [
    "loaded_model.deployment"
   ]
  },
  {
   "cell_type": "code",
   "execution_count": null,
   "id": "06ff1d79",
   "metadata": {},
   "outputs": [],
   "source": [
    "loaded_model.run_and_return(parameters={\n",
    "                        \"input1\": \"hey\", \n",
    "                        \"input2\": \"jackie\", \n",
    "                        \"filename\": f\"/Users/jgarra/sandbox/lume-services/test_file.txt\", \n",
    "                        \"filesystem_identifier\":\"local\"\n",
    "        }\n",
    ")"
   ]
  },
  {
   "cell_type": "code",
   "execution_count": null,
   "id": "6acedc51",
   "metadata": {},
   "outputs": [],
   "source": []
  },
  {
   "cell_type": "code",
   "execution_count": null,
   "id": "b8472b3c",
   "metadata": {},
   "outputs": [],
   "source": []
  }
 ],
 "metadata": {
  "kernelspec": {
   "display_name": "Python 3 (ipykernel)",
   "language": "python",
   "name": "python3"
  },
  "language_info": {
   "codemirror_mode": {
    "name": "ipython",
    "version": 3
   },
   "file_extension": ".py",
   "mimetype": "text/x-python",
   "name": "python",
   "nbconvert_exporter": "python",
   "pygments_lexer": "ipython3",
   "version": "3.9.13"
  }
 },
 "nbformat": 4,
 "nbformat_minor": 5
}
